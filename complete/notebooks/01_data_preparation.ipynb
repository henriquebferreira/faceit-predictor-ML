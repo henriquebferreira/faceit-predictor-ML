{
 "cells": [
  {
   "cell_type": "markdown",
   "metadata": {},
   "source": [
    "<h1 style=\"color:#ff5500; font-family:Play; font-size:3em; margin:auto 32px;align:center\">Part I - Data Preparation</h1>\n",
    "\n",
    "---\n"
   ]
  },
  {
   "cell_type": "markdown",
   "metadata": {},
   "source": [
    "This document is a part of the FACEIT Predictor Data Science Workflow.\n",
    "\n",
    "In this notebook the collected data (stored in the local MongoDB database) is processed in order to create a dataset.\n"
   ]
  },
  {
   "cell_type": "markdown",
   "metadata": {},
   "source": [
    "# Imports\n"
   ]
  },
  {
   "cell_type": "code",
   "execution_count": 5,
   "metadata": {
    "ExecuteTime": {
     "end_time": "2020-03-24T00:02:16.397924Z",
     "start_time": "2020-03-24T00:02:11.093472Z"
    }
   },
   "outputs": [],
   "source": [
    "from pprint import pprint\n",
    "\n",
    "# enable imports from parent directory\n",
    "import sys\n",
    "from pathlib import Path\n",
    "sys.path.append(str(Path.cwd().parent.parent))\n",
    "\n",
    "# local modules\n",
    "from src.db.connections import get_local_db\n",
    "from src.data.create_lifetime_stats import create_all_lifetime_stats\n",
    "from src.utils.dirs import INTERIM_DATA_DIR, EXTERNAL_DATA_DIR, RAW_DATA_DIR\n",
    "from src.data.processable_matches import processable_matches_complete\n",
    "from src.data.build_raw_dataset import build_raw_dataset\n",
    "from src.data.build_interim_dataset import build_interim_dataset\n",
    "from src.data.performance_indicators import create_performance_indicators\n",
    "\n",
    "from IPython import get_ipython\n",
    "\n",
    "ipython = get_ipython()\n",
    "\n",
    "# autoreload extension\n",
    "if \"autoreload\" not in ipython.extension_manager.loaded:\n",
    "   %load_ext autoreload\n",
    "\n",
    "# autoreload python modules\n",
    "%autoreload 2"
   ]
  },
  {
   "cell_type": "markdown",
   "metadata": {},
   "source": [
    "# Database Connection\n"
   ]
  },
  {
   "cell_type": "code",
   "execution_count": 6,
   "metadata": {},
   "outputs": [],
   "source": [
    "db = get_local_db()"
   ]
  },
  {
   "cell_type": "code",
   "execution_count": 7,
   "metadata": {},
   "outputs": [],
   "source": [
    "# Connect to the collections inside the ingestor database\n",
    "players_coll = db['player']\n",
    "matches_coll = db['match']\n",
    "lifetime_stats_coll = db['player_lifetime_stats']"
   ]
  },
  {
   "cell_type": "code",
   "execution_count": 8,
   "metadata": {},
   "outputs": [
    {
     "name": "stdout",
     "output_type": "stream",
     "text": [
      "Number of player documents 136007\n",
      "Number of matches documents 1267413\n",
      "Number of lifetime stats documents 6388405\n"
     ]
    }
   ],
   "source": [
    "print(\"Number of player documents\", players_coll.estimated_document_count())\n",
    "print(\"Number of matches documents\", matches_coll.estimated_document_count())\n",
    "print(\"Number of lifetime stats documents\", lifetime_stats_coll.estimated_document_count())"
   ]
  },
  {
   "cell_type": "markdown",
   "metadata": {},
   "source": [
    "# Sample Documents"
   ]
  },
  {
   "cell_type": "markdown",
   "metadata": {},
   "source": [
    "## Player *Schema*"
   ]
  },
  {
   "cell_type": "markdown",
   "metadata": {},
   "source": [
    "| Field Name   |      Type      |  Description |\n",
    "|----------|:-------------:|------|\n",
    "| _id |  str | FACEIT account ID formatted as an UUID|\n",
    "| activatedAt |    str  |   Date of activation of the FACEIT account |\n",
    "| steamCreatedAt| datetime |   Date of creation of the Steam account linked to the FACEIT account |\n",
    "| updatedAt | datetime |    Date of the last FACEIT profile update |\n",
    "| csgoId | str |    Steam64ID of the Steam account linked to the FACEIT account |\n",
    "| verified | bool |    Whether or not it is a verified FACEIT account.<br/>(usually reserved to high profile players including pros and streamers) |\n",
    "| mapStats | dict |    Dictionary where keys are the map names and the values are a dictionary<br/>containing the *Lifetime Stats* of the player on the correspondent map.<br/>The stats for each include the following fields:<ul style=\"margin:8px\"><li>kills</li><li>deaths</li><li>assists</li><li>matches</li><li>wins</li><li>rounds</li><li>headshots</li><li>mvps</li><li>tripleKills</li><li>quadraKills</li><li>pentaKills</li></ul>|\n",
    "| updatedAtIngestor | int |    Unix timestamp of the last time the player was processed in the FACEIT Ingestor service |\n",
    "| matchHistory | list |    List of the player's match history containing both match ID and its start time.<br/>It is ordered from the most recent to the oldest match.|"
   ]
  },
  {
   "cell_type": "code",
   "execution_count": 16,
   "metadata": {},
   "outputs": [
    {
     "name": "stdout",
     "output_type": "stream",
     "text": [
      "{'_id': '1efb9d10-6871-479a-9d39-9cbb68546792',\n",
      " 'activatedAt': 'Sat Sep 28 01:00:32 UTC 2013',\n",
      " 'csgoId': '76561197998383222',\n",
      " 'mapStats': {'de_cache': {'assists': 2029,\n",
      "                           'deaths': 8536,\n",
      "                           'headshots': 4354,\n",
      "                           'kills': 9605,\n",
      "                           'matches': 469,\n",
      "                           'mvps': 1338,\n",
      "                           'name': 'de_cache',\n",
      "                           'pentaKills': 11,\n",
      "                           'quadraKills': 130,\n",
      "                           'rounds': 12535,\n",
      "                           'tripleKills': 575,\n",
      "                           'wins': 219},\n",
      "              'de_inferno': {'assists': 2016,\n",
      "                             'deaths': 7851,\n",
      "                             'headshots': 4318,\n",
      "                             'kills': 9170,\n",
      "                             'matches': 441,\n",
      "                             'mvps': 1354,\n",
      "                             'name': 'de_inferno',\n",
      "                             'pentaKills': 13,\n",
      "                             'quadraKills': 96,\n",
      "                             'rounds': 12036,\n",
      "                             'tripleKills': 538,\n",
      "                             'wins': 214}},\n",
      " 'matchHistory': [{'id': '1-482f9345-ae94-4465-b474-eea4afa3a099',\n",
      "                   'startTime': 1582846641},\n",
      "                  {'id': '1-da33193d-a019-45b7-9dbb-97795b73e7c6',\n",
      "                   'startTime': 1582844201},\n",
      "                  {'id': '1-62ca9e6e-9f3b-414f-8c84-d813cb64769c',\n",
      "                   'startTime': 1582781970}],\n",
      " 'steamCreatedAt': datetime.datetime(2008, 5, 2, 18, 27, 56),\n",
      " 'updatedAt': datetime.datetime(2020, 2, 27, 5, 39, 31, 586000),\n",
      " 'updatedAtIngestor': 1582852222,\n",
      " 'verified': False}\n"
     ]
    }
   ],
   "source": [
    "sample_player = players_coll.find_one({})\n",
    "sample_player[\"matchHistory\"] = sample_player[\"matchHistory\"][:3]\n",
    "sample_player[\"mapStats\"] = dict(list(sample_player[\"mapStats\"].items())[:2])\n",
    "pprint(sample_player)"
   ]
  },
  {
   "cell_type": "markdown",
   "metadata": {},
   "source": [
    "## Match *Schema*"
   ]
  },
  {
   "cell_type": "markdown",
   "metadata": {},
   "source": [
    "| Field Name   |      Type      |  Description |\n",
    "|----------|:-------------:|------|\n",
    "| _id |  str | FACEIT match ID |\n",
    "| entity |    str  |   The kind of match it belongs to: matchmaking, hub or championship (tournament). |\n",
    "| entityName| str |   The name of entity in which the match was played.<br/>Regarding the _matchmaking_ entity there are two queues: Free and Premium.<br/>As for the other cases the entity name is the name of the hub or tournament.|\n",
    "| mapPlayed | str |    The CS GO map where the match was played. |\n",
    "| parties | dict |    Dictionary where the keys are the parties IDs and the values are<br/> the list of the players' IDs in each party. |\n",
    "| score | str |    The score of match: rounds won by team A followed by team B. |\n",
    "| startTime | int |     Unix timestamp of the match start time. |\n",
    "| teamA | list |    List of players in team A. For each player the following fields are collected:<ul style=\"margin:8px\"><li>elo</li><li>id</li><li>membership</li><li>playerStats</li><ul style=\"margin:8px\"><li>kills</li><li>deaths</li><li>assists</li><li>headshots</li><li>mvps</li><li>tripleKills</li><li>quadraKills</li><li>pentaKills</li></ul>|\n",
    "| teamB | list |    Equivalent of teamA but for the players in team B. |\n",
    "| teams | list |    List composed of teamA and teamB fields.|"
   ]
  },
  {
   "cell_type": "code",
   "execution_count": 17,
   "metadata": {},
   "outputs": [
    {
     "name": "stdout",
     "output_type": "stream",
     "text": [
      "{'_id': '1-000004ff-41ce-4326-ae87-0fe580a42b03',\n",
      " 'entity': 'matchmaking',\n",
      " 'entityName': 'CS:GO 5v5 PREMIUM',\n",
      " 'mapPlayed': 'de_inferno',\n",
      " 'parties': {'1ee0dae1-8eb2-4918-a479-0015296fcc99': ['04ac1e03-7faf-4f7b-b2fa-3133e4ddfa2e',\n",
      "                                                      '77662fe9-9ea1-4331-b960-e78f24721af2',\n",
      "                                                      'ddbaeff3-519b-49bf-9ed0-96f440caf851'],\n",
      "             '3b10e972-5f05-44cd-8bad-4e6a869a67a5': ['3b10e972-5f05-44cd-8bad-4e6a869a67a5'],\n",
      "             'c2678d2e-8a18-4f5f-8c47-bc6e99e876c2': ['c2678d2e-8a18-4f5f-8c47-bc6e99e876c2'],\n",
      "             'c6caff55-10c8-45eb-a22a-fc54cdd3dc61': ['c6caff55-10c8-45eb-a22a-fc54cdd3dc61'],\n",
      "             'ea1a9416-62f8-4b6a-b791-aac5320225f9': ['8952ebf4-f135-4799-a7b7-1d3f66fe90ce',\n",
      "                                                      'a638f08a-f223-4a08-8662-652d6494c191'],\n",
      "             'edab45a5-2dd8-48bb-a54d-bc64545d92b5': ['4e6771cd-db7e-480f-853f-112fe616005e',\n",
      "                                                      'e6d9d49c-a6d2-452b-a00e-c5c7898f50fe']},\n",
      " 'score': '16 / 7',\n",
      " 'startTime': 1582218212,\n",
      " 'teamA': [{'elo': 1908,\n",
      "            'id': 'c2678d2e-8a18-4f5f-8c47-bc6e99e876c2',\n",
      "            'membership': 'csgo',\n",
      "            'playerStats': {'assists': 8,\n",
      "                            'deaths': 12,\n",
      "                            'headshots': 8,\n",
      "                            'kills': 19,\n",
      "                            'mvps': 4,\n",
      "                            'pentaKills': 0,\n",
      "                            'quadraKills': 0,\n",
      "                            'tripleKills': 2}},\n",
      "           {'elo': 1853,\n",
      "            'id': '4e6771cd-db7e-480f-853f-112fe616005e',\n",
      "            'membership': 'premium',\n",
      "            'playerStats': {'assists': 3,\n",
      "                            'deaths': 9,\n",
      "                            'headshots': 9,\n",
      "                            'kills': 19,\n",
      "                            'mvps': 2,\n",
      "                            'pentaKills': 0,\n",
      "                            'quadraKills': 0,\n",
      "                            'tripleKills': 3}},\n",
      "           {'elo': 1823,\n",
      "            'id': 'e6d9d49c-a6d2-452b-a00e-c5c7898f50fe',\n",
      "            'membership': 'csgo',\n",
      "            'playerStats': {'assists': 4,\n",
      "                            'deaths': 13,\n",
      "                            'headshots': 9,\n",
      "                            'kills': 24,\n",
      "                            'mvps': 3,\n",
      "                            'pentaKills': 0,\n",
      "                            'quadraKills': 0,\n",
      "                            'tripleKills': 1}},\n",
      "           {'elo': 1972,\n",
      "            'id': '8952ebf4-f135-4799-a7b7-1d3f66fe90ce',\n",
      "            'membership': 'csgo',\n",
      "            'playerStats': {'assists': 7,\n",
      "                            'deaths': 16,\n",
      "                            'headshots': 7,\n",
      "                            'kills': 14,\n",
      "                            'mvps': 1,\n",
      "                            'pentaKills': 0,\n",
      "                            'quadraKills': 0,\n",
      "                            'tripleKills': 0}},\n",
      "           {'elo': 1874,\n",
      "            'id': 'a638f08a-f223-4a08-8662-652d6494c191',\n",
      "            'membership': 'csgo',\n",
      "            'playerStats': {'assists': 5,\n",
      "                            'deaths': 8,\n",
      "                            'headshots': 9,\n",
      "                            'kills': 25,\n",
      "                            'mvps': 6,\n",
      "                            'pentaKills': 0,\n",
      "                            'quadraKills': 0,\n",
      "                            'tripleKills': 4}}],\n",
      " 'teamB': [{'elo': 1710,\n",
      "            'id': '04ac1e03-7faf-4f7b-b2fa-3133e4ddfa2e',\n",
      "            'membership': 'csgo',\n",
      "            'playerStats': {'assists': 3,\n",
      "                            'deaths': 21,\n",
      "                            'headshots': 4,\n",
      "                            'kills': 9,\n",
      "                            'mvps': 1,\n",
      "                            'pentaKills': 0,\n",
      "                            'quadraKills': 0,\n",
      "                            'tripleKills': 0}},\n",
      "           {'elo': 2436,\n",
      "            'id': '77662fe9-9ea1-4331-b960-e78f24721af2',\n",
      "            'membership': 'premium',\n",
      "            'playerStats': {'assists': 1,\n",
      "                            'deaths': 22,\n",
      "                            'headshots': 4,\n",
      "                            'kills': 12,\n",
      "                            'mvps': 3,\n",
      "                            'pentaKills': 0,\n",
      "                            'quadraKills': 0,\n",
      "                            'tripleKills': 0}},\n",
      "           {'elo': 1899,\n",
      "            'id': 'ddbaeff3-519b-49bf-9ed0-96f440caf851',\n",
      "            'membership': 'premium',\n",
      "            'playerStats': {'assists': 2,\n",
      "                            'deaths': 20,\n",
      "                            'headshots': 8,\n",
      "                            'kills': 11,\n",
      "                            'mvps': 3,\n",
      "                            'pentaKills': 0,\n",
      "                            'quadraKills': 0,\n",
      "                            'tripleKills': 0}},\n",
      "           {'elo': 1845,\n",
      "            'id': 'c6caff55-10c8-45eb-a22a-fc54cdd3dc61',\n",
      "            'membership': 'premium',\n",
      "            'playerStats': None},\n",
      "           {'elo': 1815,\n",
      "            'id': '3b10e972-5f05-44cd-8bad-4e6a869a67a5',\n",
      "            'membership': 'csgo',\n",
      "            'playerStats': {'assists': 3,\n",
      "                            'deaths': 19,\n",
      "                            'headshots': 5,\n",
      "                            'kills': 11,\n",
      "                            'mvps': 0,\n",
      "                            'pentaKills': 0,\n",
      "                            'quadraKills': 0,\n",
      "                            'tripleKills': 0}}],\n",
      " 'teams': [[{'elo': 1908,\n",
      "             'id': 'c2678d2e-8a18-4f5f-8c47-bc6e99e876c2',\n",
      "             'membership': 'csgo',\n",
      "             'playerStats': {'assists': 8,\n",
      "                             'deaths': 12,\n",
      "                             'headshots': 8,\n",
      "                             'kills': 19,\n",
      "                             'mvps': 4,\n",
      "                             'pentaKills': 0,\n",
      "                             'quadraKills': 0,\n",
      "                             'tripleKills': 2}},\n",
      "            {'elo': 1853,\n",
      "             'id': '4e6771cd-db7e-480f-853f-112fe616005e',\n",
      "             'membership': 'premium',\n",
      "             'playerStats': {'assists': 3,\n",
      "                             'deaths': 9,\n",
      "                             'headshots': 9,\n",
      "                             'kills': 19,\n",
      "                             'mvps': 2,\n",
      "                             'pentaKills': 0,\n",
      "                             'quadraKills': 0,\n",
      "                             'tripleKills': 3}},\n",
      "            {'elo': 1823,\n",
      "             'id': 'e6d9d49c-a6d2-452b-a00e-c5c7898f50fe',\n",
      "             'membership': 'csgo',\n",
      "             'playerStats': {'assists': 4,\n",
      "                             'deaths': 13,\n",
      "                             'headshots': 9,\n",
      "                             'kills': 24,\n",
      "                             'mvps': 3,\n",
      "                             'pentaKills': 0,\n",
      "                             'quadraKills': 0,\n",
      "                             'tripleKills': 1}},\n",
      "            {'elo': 1972,\n",
      "             'id': '8952ebf4-f135-4799-a7b7-1d3f66fe90ce',\n",
      "             'membership': 'csgo',\n",
      "             'playerStats': {'assists': 7,\n",
      "                             'deaths': 16,\n",
      "                             'headshots': 7,\n",
      "                             'kills': 14,\n",
      "                             'mvps': 1,\n",
      "                             'pentaKills': 0,\n",
      "                             'quadraKills': 0,\n",
      "                             'tripleKills': 0}},\n",
      "            {'elo': 1874,\n",
      "             'id': 'a638f08a-f223-4a08-8662-652d6494c191',\n",
      "             'membership': 'csgo',\n",
      "             'playerStats': {'assists': 5,\n",
      "                             'deaths': 8,\n",
      "                             'headshots': 9,\n",
      "                             'kills': 25,\n",
      "                             'mvps': 6,\n",
      "                             'pentaKills': 0,\n",
      "                             'quadraKills': 0,\n",
      "                             'tripleKills': 4}}],\n",
      "           [{'elo': 1710,\n",
      "             'id': '04ac1e03-7faf-4f7b-b2fa-3133e4ddfa2e',\n",
      "             'membership': 'csgo',\n",
      "             'playerStats': {'assists': 3,\n",
      "                             'deaths': 21,\n",
      "                             'headshots': 4,\n",
      "                             'kills': 9,\n",
      "                             'mvps': 1,\n",
      "                             'pentaKills': 0,\n",
      "                             'quadraKills': 0,\n",
      "                             'tripleKills': 0}},\n",
      "            {'elo': 2436,\n",
      "             'id': '77662fe9-9ea1-4331-b960-e78f24721af2',\n",
      "             'membership': 'premium',\n",
      "             'playerStats': {'assists': 1,\n",
      "                             'deaths': 22,\n",
      "                             'headshots': 4,\n",
      "                             'kills': 12,\n",
      "                             'mvps': 3,\n",
      "                             'pentaKills': 0,\n",
      "                             'quadraKills': 0,\n",
      "                             'tripleKills': 0}},\n",
      "            {'elo': 1899,\n",
      "             'id': 'ddbaeff3-519b-49bf-9ed0-96f440caf851',\n",
      "             'membership': 'premium',\n",
      "             'playerStats': {'assists': 2,\n",
      "                             'deaths': 20,\n",
      "                             'headshots': 8,\n",
      "                             'kills': 11,\n",
      "                             'mvps': 3,\n",
      "                             'pentaKills': 0,\n",
      "                             'quadraKills': 0,\n",
      "                             'tripleKills': 0}},\n",
      "            {'elo': 1845,\n",
      "             'id': 'c6caff55-10c8-45eb-a22a-fc54cdd3dc61',\n",
      "             'membership': 'premium',\n",
      "             'playerStats': None},\n",
      "            {'elo': 1815,\n",
      "             'id': '3b10e972-5f05-44cd-8bad-4e6a869a67a5',\n",
      "             'membership': 'csgo',\n",
      "             'playerStats': {'assists': 3,\n",
      "                             'deaths': 19,\n",
      "                             'headshots': 5,\n",
      "                             'kills': 11,\n",
      "                             'mvps': 0,\n",
      "                             'pentaKills': 0,\n",
      "                             'quadraKills': 0,\n",
      "                             'tripleKills': 0}}]]}\n"
     ]
    }
   ],
   "source": [
    "sample_match = matches_coll.find_one({})\n",
    "pprint(sample_match)"
   ]
  },
  {
   "cell_type": "markdown",
   "metadata": {},
   "source": [
    "## Lifetime Stats *Schema*"
   ]
  },
  {
   "cell_type": "markdown",
   "metadata": {},
   "source": [
    "| Field Name   |      Type      |  Description |\n",
    "|----------|:-------------:|------|\n",
    "| _id |  str | MongoDB Document ObjectID|\n",
    "| mapStats | dict |    Dictionary where keys are the map names and the values are a dictionary<br/>containing the *Lifetime Stats* of the player on the correspondent map.<br/>The data refers to the lifetime stats right before the start of the match with *_id = matchId*.<br/>The stats for each include the following fields:<ul style=\"margin:8px\"><li>kills</li><li>deaths</li><li>assists</li><li>matches</li><li>wins</li><li>rounds</li><li>headshots</li><li>mvps</li><li>tripleKills</li><li>quadraKills</li><li>pentaKills</li></ul>|\n",
    "| matchId | str |    FACEIT match ID |\n",
    "| playerId | str |   FACEIT account ID formatted as an UUID|\n",
    "| startTime | int |    Unix timestamp of the match start time.|"
   ]
  },
  {
   "cell_type": "code",
   "execution_count": 19,
   "metadata": {},
   "outputs": [
    {
     "name": "stdout",
     "output_type": "stream",
     "text": [
      "{'_id': ObjectId('6160f42c4100b69cfb8b95be'),\n",
      " 'mapStats': {'de_cache': {'assists': 46,\n",
      "                           'deaths': 195,\n",
      "                           'headshots': 66,\n",
      "                           'kills': 216,\n",
      "                           'matches': 12,\n",
      "                           'mvps': 38,\n",
      "                           'name': 'de_cache',\n",
      "                           'pentaKills': 0,\n",
      "                           'quadraKills': 0,\n",
      "                           'rounds': 305,\n",
      "                           'tripleKills': 12,\n",
      "                           'wins': 10},\n",
      "              'de_inferno': {'assists': 342,\n",
      "                             'deaths': 1746,\n",
      "                             'headshots': 667,\n",
      "                             'kills': 1843,\n",
      "                             'matches': 97,\n",
      "                             'mvps': 287,\n",
      "                             'name': 'de_inferno',\n",
      "                             'pentaKills': 2,\n",
      "                             'quadraKills': 24,\n",
      "                             'rounds': 2605,\n",
      "                             'tripleKills': 106,\n",
      "                             'wins': 48}},\n",
      " 'matchId': '1-7479cefc-04d0-43ec-b6d9-101153c9f948',\n",
      " 'playerId': '365e61e2-aa3b-459d-883d-2b7a8783fb47',\n",
      " 'startTime': 1583770055}\n"
     ]
    }
   ],
   "source": [
    "sample_lifetime_stats = lifetime_stats_coll.find_one({})\n",
    "sample_lifetime_stats[\"mapStats\"] = dict(list(sample_lifetime_stats[\"mapStats\"].items())[:2])\n",
    "pprint(sample_lifetime_stats)"
   ]
  },
  {
   "cell_type": "markdown",
   "metadata": {},
   "source": [
    "# Create Lifetime Stats\n"
   ]
  },
  {
   "cell_type": "markdown",
   "metadata": {},
   "source": [
    "Initially only the most recent lifetime stats are stored in DB (`player.mapStats`). In order to have consistent player lifetime stats for each match and avoid repeating the process over again, the lifetime stats are processed once and stored in DB.\n",
    "\n",
    "To do so one must work backwards and continuously subtract the player stats on each match to the lifetime stats."
   ]
  },
  {
   "cell_type": "code",
   "execution_count": null,
   "metadata": {},
   "outputs": [],
   "source": [
    "create_all_lifetime_stats()"
   ]
  },
  {
   "cell_type": "markdown",
   "metadata": {},
   "source": [
    "# Get Complete & Processable Matches\n"
   ]
  },
  {
   "cell_type": "markdown",
   "metadata": {},
   "source": [
    "Even though there are more than one million matches stored in DB, not all are qualified to be part of the dataset.\n",
    "\n",
    "A valid processable match should have complete player data for every participant. This includes the lifetime stats before the beginning of the match as well as his *10* previous matches.\n",
    "\n",
    "- `match_history`: the match id is in the player's match history and the previous 10 matches are in DB\n",
    "- `lifetime_stats`: the lifetime stats of the player regarding the match are available\n",
    "\n",
    "The `match_history` and `lifetime_stats` are initially set to 0 and incremented each time the conditions are met for one player.\n",
    "\n",
    "Finally the match ids are filtered to include only those who have full data for all ten players."
   ]
  },
  {
   "cell_type": "code",
   "execution_count": null,
   "metadata": {},
   "outputs": [],
   "source": [
    "processable_matches_complete()"
   ]
  },
  {
   "cell_type": "markdown",
   "metadata": {},
   "source": [
    "# Build Dataset\n"
   ]
  },
  {
   "cell_type": "markdown",
   "metadata": {},
   "source": [
    "Dataset stored in batch files of size 2000. The format chosen is CSV."
   ]
  },
  {
   "cell_type": "markdown",
   "metadata": {},
   "source": [
    "## Raw Dataset"
   ]
  },
  {
   "cell_type": "code",
   "execution_count": null,
   "metadata": {},
   "outputs": [],
   "source": [
    "build_raw_dataset(RAW_DATA_DIR, EXTERNAL_DATA_DIR)"
   ]
  },
  {
   "cell_type": "markdown",
   "metadata": {},
   "source": [
    "## Interim Dataset"
   ]
  },
  {
   "cell_type": "markdown",
   "metadata": {},
   "source": [
    "Iterate over matches and for each player get the lifetime stats before the beginning of the match as well as the match ids of the 10 previous matches.\n",
    "\n",
    "Store the data of every player on each element of the teamA and teamB lists."
   ]
  },
  {
   "cell_type": "code",
   "execution_count": null,
   "metadata": {},
   "outputs": [],
   "source": [
    "build_interim_dataset(INTERIM_DATA_DIR, EXTERNAL_DATA_DIR, is_complete=True)"
   ]
  },
  {
   "cell_type": "markdown",
   "metadata": {},
   "source": [
    "# Performance indicators statistics"
   ]
  },
  {
   "cell_type": "markdown",
   "metadata": {},
   "source": [
    "Compute the *Mean* and *Standard Deviation* for:\n",
    "* Kills Per Round (KPR)\n",
    "* Survived Rounds per Round (SPR)\n",
    "* Multikills Score per Round (MKPR)\n",
    "* Assists per Round (APR)\n",
    "* MVPs per Round (MVPPR)\n",
    "\n",
    "The Performance Indicators will be significantly important further on when implementing some of the features. In fact, the Rating Feature measures how well a player performed compared to the mean values for all matches. Also, these values could be used to perform missing data imputation, whenever a certain feature is not computable."
   ]
  },
  {
   "cell_type": "code",
   "execution_count": null,
   "metadata": {},
   "outputs": [],
   "source": [
    "create_performance_indicators()"
   ]
  }
 ],
 "metadata": {
  "interpreter": {
   "hash": "edaed6248b0f32b94d0199fc5dbdbd44040abee12f1bfab10571072dd86c73f9"
  },
  "jupytext": {
   "formats": "ipynb,py:light"
  },
  "kernelspec": {
   "display_name": "Python 3.8.0 64-bit",
   "name": "python3"
  },
  "language_info": {
   "codemirror_mode": {
    "name": "ipython",
    "version": 3
   },
   "file_extension": ".py",
   "mimetype": "text/x-python",
   "name": "python",
   "nbconvert_exporter": "python",
   "pygments_lexer": "ipython3",
   "version": "3.8.0"
  },
  "toc": {
   "base_numbering": 1,
   "nav_menu": {},
   "number_sections": true,
   "sideBar": true,
   "skip_h1_title": false,
   "title_cell": "Table of Contents",
   "title_sidebar": "Contents",
   "toc_cell": true,
   "toc_position": {
    "height": "calc(100% - 180px)",
    "left": "10px",
    "top": "150px",
    "width": "383.969px"
   },
   "toc_section_display": true,
   "toc_window_display": true
  },
  "varInspector": {
   "cols": {
    "lenName": 16,
    "lenType": 16,
    "lenVar": 40
   },
   "kernels_config": {
    "python": {
     "delete_cmd_postfix": "",
     "delete_cmd_prefix": "del ",
     "library": "var_list.py",
     "varRefreshCmd": "print(var_dic_list())"
    },
    "r": {
     "delete_cmd_postfix": ") ",
     "delete_cmd_prefix": "rm(",
     "library": "var_list.r",
     "varRefreshCmd": "cat(var_dic_list()) "
    }
   },
   "types_to_exclude": [
    "module",
    "function",
    "builtin_function_or_method",
    "instance",
    "_Feature"
   ],
   "window_display": false
  }
 },
 "nbformat": 4,
 "nbformat_minor": 2
}
