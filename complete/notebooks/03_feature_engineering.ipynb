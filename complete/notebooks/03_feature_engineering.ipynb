{
 "cells": [
  {
   "cell_type": "markdown",
   "metadata": {},
   "source": [
    "<h1 style=\"color:#ff5500; font-family:Play; font-size:3em; margin:auto 32px;align:center\">Part III - Feature Engineering</h1>\n",
    "\n",
    "---\n"
   ]
  },
  {
   "cell_type": "markdown",
   "metadata": {},
   "source": [
    "This document is a part of the FACEIT Predictor Data Science Workflow.\n",
    "\n",
    "In this notebook several features are created and stored for the whole dataset."
   ]
  },
  {
   "cell_type": "markdown",
   "metadata": {},
   "source": [
    "# Imports\n"
   ]
  },
  {
   "cell_type": "code",
   "execution_count": 4,
   "metadata": {
    "ExecuteTime": {
     "end_time": "2020-02-13T16:57:05.785569Z",
     "start_time": "2020-02-13T16:57:05.715729Z"
    }
   },
   "outputs": [],
   "source": [
    "# enable imports from parent directory\n",
    "import sys\n",
    "from pathlib import Path\n",
    "sys.path.append(str(Path.cwd().parent.parent))\n",
    "\n",
    "# local modules\n",
    "from src.features.featurize import featurize\n",
    "\n",
    "from IPython import get_ipython\n",
    "\n",
    "ipython = get_ipython()\n",
    "\n",
    "# autoreload extension\n",
    "if \"autoreload\" not in ipython.extension_manager.loaded:\n",
    "   %load_ext autoreload\n",
    "\n",
    "# autoreload python modules\n",
    "%autoreload 2"
   ]
  },
  {
   "cell_type": "markdown",
   "metadata": {},
   "source": [
    "# Featurization"
   ]
  },
  {
   "cell_type": "markdown",
   "metadata": {},
   "source": [
    "The prototypes of the features functions were initially implemented in this notebook. Then they were refined, tested and moved to appropriate modules inside `src/features/`\n",
    "\n",
    "The features are divided into 4 types:\n",
    "* match features\n",
    "* lifetime features\n",
    "* date features\n",
    "* previous matches features\n",
    "\n",
    "**Match Features**\n",
    "\n",
    "Features that are directly computed from the match configuration or from data that is available in the match document. \n",
    "\n",
    "Example:\n",
    "\n",
    "`add_feature(data, get_mean_elo)`  \n",
    "`add_feature(data, get_num_parties)`  \n",
    "\n",
    "**Lifetime Features**\n",
    "\n",
    "The Lifetime Features are computed from the Lifetime Stats of each player as they were immediately before the beginning of the match. The values are averaged for each team.\n",
    "\n",
    "The 5 main indicators are: *Number of Matches*, *Winrate*, *Kill/Death ratio*, *Multikills Score* and *Rating*. Those are computed globally (the total value for all maps) and specifically for the map of the match (on map). Also, the preference - the on map / total ratio - is taken into account.\n",
    "\n",
    "Example:\n",
    "\n",
    "Global: `add_feature(data, get_mean_matches)`  \n",
    "Specific: `add_feature(data, get_mean_winrate_on_map)`  \n",
    "Preference (Specific/Global): `add_feature(data, get_mean_rating_map_preference)`  \n",
    "\n",
    "**Date Features**\n",
    "\n",
    "At the time of writing, the Date Features only regard the age of the players' FACEIT accounts.\n",
    "\n",
    "Example:\n",
    "\n",
    "`add_feature(data, get_mean_created_at_faceit)`  \n",
    "\n",
    "**Previous Matches Features**\n",
    "\n",
    "The data from the 10 previous matches is processed in order to compute the Previous Matches Features. The 5 main indicators stated in the *Lifetime Features* are also computed for the previous matches. Moreover, the date recency of the matches is considered, as well as the number of matches played on the same day. Furthermore, it is checked if any of the players have played together in the past 10 matches and how well they performed.\n",
    "\n",
    "Example: \n",
    "\n",
    "`compute_feature(match, features_data, get_mean_matches_on_map_prev, ptp=ptp)`  \n",
    "`compute_feature(match, features_data, get_mean_interval_time_prev, ptp=ptp)`  \n",
    "`compute_feature(match, features_data, get_mean_matches_on_day, ptp=ptp)`   \n",
    "`compute_feature(match, features_data, get_winrate_togthr_prev, ptp=ptp)` "
   ]
  },
  {
   "cell_type": "code",
   "execution_count": 105,
   "metadata": {},
   "outputs": [],
   "source": [
    "featurize(is_complete=True)"
   ]
  }
 ],
 "metadata": {
  "interpreter": {
   "hash": "edaed6248b0f32b94d0199fc5dbdbd44040abee12f1bfab10571072dd86c73f9"
  },
  "kernelspec": {
   "display_name": "Python 3.8.0 64-bit",
   "name": "python3"
  },
  "language_info": {
   "codemirror_mode": {
    "name": "ipython",
    "version": 3
   },
   "file_extension": ".py",
   "mimetype": "text/x-python",
   "name": "python",
   "nbconvert_exporter": "python",
   "pygments_lexer": "ipython3",
   "version": "3.8.0"
  },
  "toc": {
   "base_numbering": 1,
   "nav_menu": {},
   "number_sections": true,
   "sideBar": true,
   "skip_h1_title": false,
   "title_cell": "Table of Contents",
   "title_sidebar": "Contents",
   "toc_cell": true,
   "toc_position": {},
   "toc_section_display": true,
   "toc_window_display": true
  },
  "varInspector": {
   "cols": {
    "lenName": 16,
    "lenType": 16,
    "lenVar": 40
   },
   "kernels_config": {
    "python": {
     "delete_cmd_postfix": "",
     "delete_cmd_prefix": "del ",
     "library": "var_list.py",
     "varRefreshCmd": "print(var_dic_list())"
    },
    "r": {
     "delete_cmd_postfix": ") ",
     "delete_cmd_prefix": "rm(",
     "library": "var_list.r",
     "varRefreshCmd": "cat(var_dic_list()) "
    }
   },
   "types_to_exclude": [
    "module",
    "function",
    "builtin_function_or_method",
    "instance",
    "_Feature"
   ],
   "window_display": false
  }
 },
 "nbformat": 4,
 "nbformat_minor": 2
}
