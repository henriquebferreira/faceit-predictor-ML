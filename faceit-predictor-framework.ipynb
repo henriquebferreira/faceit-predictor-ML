{
 "cells": [
  {
   "cell_type": "markdown",
   "metadata": {},
   "source": [
    "---\n",
    "<p>&nbsp;</p>\n",
    "<div style=\"text-align:center\"><font style=\"color:#0CA7DB; font-family:Play; font-size:3em;\">FACEIT Predictor Notebook</font></div>\n",
    "<p>&nbsp;</p>\n",
    "\n",
    "<img style=\"float: center;\" src=\"128.png\">\n",
    "\n",
    "---\n",
    "\n",
    "This notebook covers the development of the Machine Learning model to be used in the browser extension FACEIT Predictor. The model predicts the outcome of Counter Strike Global Offensive (a 5v5 First Person Shooter eSport) matches played on the FACEIT platform."
   ]
  },
  {
   "cell_type": "markdown",
   "metadata": {
    "toc": true
   },
   "source": [
    "<h1>Table of Contents<span class=\"tocSkip\"></span></h1>\n",
    "<div class=\"toc\"><ul class=\"toc-item\"><li><span><a href=\"#Introduction\" data-toc-modified-id=\"Introduction-1\"><span class=\"toc-item-num\">1&nbsp;&nbsp;</span>Introduction</a></span><ul class=\"toc-item\"><li><span><a href=\"#Imports\" data-toc-modified-id=\"Imports-1.1\"><span class=\"toc-item-num\">1.1&nbsp;&nbsp;</span>Imports</a></span></li><li><span><a href=\"#Matplotlib-and-Seaborn-defaults\" data-toc-modified-id=\"Matplotlib-and-Seaborn-defaults-1.2\"><span class=\"toc-item-num\">1.2&nbsp;&nbsp;</span>Matplotlib and Seaborn defaults</a></span></li><li><span><a href=\"#Load-Data\" data-toc-modified-id=\"Load-Data-1.3\"><span class=\"toc-item-num\">1.3&nbsp;&nbsp;</span>Load Data</a></span></li></ul></li><li><span><a href=\"#Data-Preprocessing\" data-toc-modified-id=\"Data-Preprocessing-2\"><span class=\"toc-item-num\">2&nbsp;&nbsp;</span>Data Preprocessing</a></span><ul class=\"toc-item\"><li><span><a href=\"#Analyze-and-Describe\" data-toc-modified-id=\"Analyze-and-Describe-2.1\"><span class=\"toc-item-num\">2.1&nbsp;&nbsp;</span>Analyze and Describe</a></span></li><li><span><a href=\"#Clean-Data\" data-toc-modified-id=\"Clean-Data-2.2\"><span class=\"toc-item-num\">2.2&nbsp;&nbsp;</span>Clean Data</a></span></li><li><span><a href=\"#Players-Analysis\" data-toc-modified-id=\"Players-Analysis-2.3\"><span class=\"toc-item-num\">2.3&nbsp;&nbsp;</span>Players Analysis</a></span></li><li><span><a href=\"#Feature-Engineering\" data-toc-modified-id=\"Feature-Engineering-2.4\"><span class=\"toc-item-num\">2.4&nbsp;&nbsp;</span>Feature Engineering</a></span><ul class=\"toc-item\"><li><span><a href=\"#New-Experimental-Features\" data-toc-modified-id=\"New-Experimental-Features-2.4.1\"><span class=\"toc-item-num\">2.4.1&nbsp;&nbsp;</span>New Experimental Features</a></span></li></ul></li><li><span><a href=\"#Visualization\" data-toc-modified-id=\"Visualization-2.5\"><span class=\"toc-item-num\">2.5&nbsp;&nbsp;</span>Visualization</a></span></li><li><span><a href=\"#Prepare-data-for-training\" data-toc-modified-id=\"Prepare-data-for-training-2.6\"><span class=\"toc-item-num\">2.6&nbsp;&nbsp;</span>Prepare data for training</a></span></li></ul></li><li><span><a href=\"#Baseline\" data-toc-modified-id=\"Baseline-3\"><span class=\"toc-item-num\">3&nbsp;&nbsp;</span>Baseline</a></span><ul class=\"toc-item\"><li><span><a href=\"#Model\" data-toc-modified-id=\"Model-3.1\"><span class=\"toc-item-num\">3.1&nbsp;&nbsp;</span>Model</a></span></li><li><span><a href=\"#Evaluation\" data-toc-modified-id=\"Evaluation-3.2\"><span class=\"toc-item-num\">3.2&nbsp;&nbsp;</span>Evaluation</a></span></li><li><span><a href=\"#H2O-Auto-ML-test\" data-toc-modified-id=\"H2O-Auto-ML-test-3.3\"><span class=\"toc-item-num\">3.3&nbsp;&nbsp;</span>H2O Auto ML test</a></span></li><li><span><a href=\"#Visualization\" data-toc-modified-id=\"Visualization-3.4\"><span class=\"toc-item-num\">3.4&nbsp;&nbsp;</span>Visualization</a></span></li></ul></li><li><span><a href=\"#Model-and-Feature-Selection\" data-toc-modified-id=\"Model-and-Feature-Selection-4\"><span class=\"toc-item-num\">4&nbsp;&nbsp;</span>Model and Feature Selection</a></span><ul class=\"toc-item\"><li><span><a href=\"#Neural-Networks\" data-toc-modified-id=\"Neural-Networks-4.1\"><span class=\"toc-item-num\">4.1&nbsp;&nbsp;</span>Neural Networks</a></span></li></ul></li><li><span><a href=\"#Model-Deployment\" data-toc-modified-id=\"Model-Deployment-5\"><span class=\"toc-item-num\">5&nbsp;&nbsp;</span>Model Deployment</a></span><ul class=\"toc-item\"><li><span><a href=\"#Save-Model\" data-toc-modified-id=\"Save-Model-5.1\"><span class=\"toc-item-num\">5.1&nbsp;&nbsp;</span>Save Model</a></span></li></ul></li></ul></div>"
   ]
  },
  {
   "cell_type": "markdown",
   "metadata": {},
   "source": [
    "# Introduction\n",
    "TODO: WRITE THIS SECTION State the purpose of the notebook here and how it is structured"
   ]
  },
  {
   "cell_type": "markdown",
   "metadata": {},
   "source": [
    "## Imports\n",
    "Import libraries and other required jupyter notebooks and python modules."
   ]
  },
  {
   "cell_type": "code",
   "execution_count": 45,
   "metadata": {
    "ExecuteTime": {
     "end_time": "2020-02-12T16:31:12.001541Z",
     "start_time": "2020-02-12T16:31:11.762167Z"
    }
   },
   "outputs": [
    {
     "data": {
      "application/javascript": [
       "IPython.notebook.set_autosave_interval(0)"
      ]
     },
     "metadata": {},
     "output_type": "display_data"
    },
    {
     "name": "stdout",
     "output_type": "stream",
     "text": [
      "Autosave disabled\n",
      "The nb_black extension is already loaded. To reload it, use:\n",
      "  %reload_ext nb_black\n"
     ]
    },
    {
     "data": {
      "application/javascript": [
       "\n",
       "            setTimeout(function() {\n",
       "                var nbb_cell_id = 45;\n",
       "                var nbb_unformatted_code = \"# Data manipulation\\nimport pandas as pd\\nimport numpy as np\\n\\n# Options for pandas\\npd.options.display.max_columns = 50\\npd.options.display.max_rows = 30\\n\\n# Utils for feature creation\\nfrom datetime import datetime\\nimport math\\nimport scipy\\nfrom statistics import mean\\nfrom sklearn.preprocessing import StandardScaler\\n\\n# Feature selection\\nfrom sklearn.feature_selection import RFE, RFECV\\n\\n# Outlier Detection\\nfrom sklearn.neighbors import LocalOutlierFactor\\n\\n# Classifiers\\nfrom sklearn.discriminant_analysis import (\\n    LinearDiscriminantAnalysis,\\n    QuadraticDiscriminantAnalysis,\\n)\\nfrom sklearn.ensemble import (\\n    AdaBoostClassifier,\\n    BaggingClassifier,\\n    ExtraTreesClassifier,\\n    GradientBoostingClassifier,\\n    RandomForestClassifier,\\n)\\nfrom sklearn.linear_model import RidgeClassifier, SGDClassifier, LogisticRegression\\nfrom sklearn.naive_bayes import BernoulliNB, GaussianNB\\nfrom sklearn.neighbors import KNeighborsClassifier\\nfrom sklearn.neural_network import MLPClassifier\\nfrom sklearn.svm import LinearSVC, NuSVC, SVC\\nfrom sklearn.tree import DecisionTreeClassifier, ExtraTreeClassifier\\n\\n# from xgboost import XGBClassifier\\nfrom sklearn.ensemble import StackingClassifier\\n\\n# Neural network libraries\\nimport keras\\nfrom keras.models import Sequential\\nfrom keras.layers import Dense\\nfrom keras.layers import Dropout\\n\\n# Model selection and hyperparameter tuning\\nfrom sklearn.model_selection import train_test_split, GridSearchCV\\nfrom sklearn.pipeline import Pipeline\\n\\n# h2o Auto machine learning\\nimport h2o\\nfrom h2o.automl import H2OAutoML\\nfrom h2o.estimators.xgboost import H2OXGBoostEstimator\\n# Classifier metrics\\nfrom sklearn.metrics import classification_report, accuracy_score, roc_curve, auc\\nfrom sklearn.metrics import plot_roc_curve\\nfrom sklearn.inspection import permutation_importance\\n\\n# Visualizations\\nimport seaborn as sns\\nimport matplotlib.pyplot as plt\\n\\n# Save the ML model\\nimport joblib\\n\\n# Display all cell outputs\\nfrom IPython.core.interactiveshell import InteractiveShell\\n\\nInteractiveShell.ast_node_interactivity = \\\"all\\\"\\n\\nfrom IPython import get_ipython\\n\\nipython = get_ipython()\\n\\n# Developed python modules\\nimport load_faceit_data as loader\\nimport add_features\\n\\n# Import other jupyter notebooks\\n# import import_ipynb\\n# import MongoDBAtlas\\n\\n# autoreload extension\\nif \\\"autoreload\\\" not in ipython.extension_manager.loaded:\\n    %load_ext autoreload\\n\\n%autoreload 2\\n%autosave 0\\n%load_ext nb_black\";\n",
       "                var nbb_formatted_code = \"# Data manipulation\\nimport pandas as pd\\nimport numpy as np\\n\\n# Options for pandas\\npd.options.display.max_columns = 50\\npd.options.display.max_rows = 30\\n\\n# Utils for feature creation\\nfrom datetime import datetime\\nimport math\\nimport scipy\\nfrom statistics import mean\\nfrom sklearn.preprocessing import StandardScaler\\n\\n# Feature selection\\nfrom sklearn.feature_selection import RFE, RFECV\\n\\n# Outlier Detection\\nfrom sklearn.neighbors import LocalOutlierFactor\\n\\n# Classifiers\\nfrom sklearn.discriminant_analysis import (\\n    LinearDiscriminantAnalysis,\\n    QuadraticDiscriminantAnalysis,\\n)\\nfrom sklearn.ensemble import (\\n    AdaBoostClassifier,\\n    BaggingClassifier,\\n    ExtraTreesClassifier,\\n    GradientBoostingClassifier,\\n    RandomForestClassifier,\\n)\\nfrom sklearn.linear_model import RidgeClassifier, SGDClassifier, LogisticRegression\\nfrom sklearn.naive_bayes import BernoulliNB, GaussianNB\\nfrom sklearn.neighbors import KNeighborsClassifier\\nfrom sklearn.neural_network import MLPClassifier\\nfrom sklearn.svm import LinearSVC, NuSVC, SVC\\nfrom sklearn.tree import DecisionTreeClassifier, ExtraTreeClassifier\\n\\n# from xgboost import XGBClassifier\\nfrom sklearn.ensemble import StackingClassifier\\n\\n# Neural network libraries\\nimport keras\\nfrom keras.models import Sequential\\nfrom keras.layers import Dense\\nfrom keras.layers import Dropout\\n\\n# Model selection and hyperparameter tuning\\nfrom sklearn.model_selection import train_test_split, GridSearchCV\\nfrom sklearn.pipeline import Pipeline\\n\\n# h2o Auto machine learning\\nimport h2o\\nfrom h2o.automl import H2OAutoML\\nfrom h2o.estimators.xgboost import H2OXGBoostEstimator\\n\\n# Classifier metrics\\nfrom sklearn.metrics import classification_report, accuracy_score, roc_curve, auc\\nfrom sklearn.metrics import plot_roc_curve\\nfrom sklearn.inspection import permutation_importance\\n\\n# Visualizations\\nimport seaborn as sns\\nimport matplotlib.pyplot as plt\\n\\n# Save the ML model\\nimport joblib\\n\\n# Display all cell outputs\\nfrom IPython.core.interactiveshell import InteractiveShell\\n\\nInteractiveShell.ast_node_interactivity = \\\"all\\\"\\n\\nfrom IPython import get_ipython\\n\\nipython = get_ipython()\\n\\n# Developed python modules\\nimport load_faceit_data as loader\\nimport add_features\\n\\n# Import other jupyter notebooks\\n# import import_ipynb\\n# import MongoDBAtlas\\n\\n# autoreload extension\\nif \\\"autoreload\\\" not in ipython.extension_manager.loaded:\\n    %load_ext autoreload\\n\\n%autoreload 2\\n%autosave 0\\n%load_ext nb_black\";\n",
       "                var nbb_cells = Jupyter.notebook.get_cells();\n",
       "                for (var i = 0; i < nbb_cells.length; ++i) {\n",
       "                    if (nbb_cells[i].input_prompt_number == nbb_cell_id) {\n",
       "                        if (nbb_cells[i].get_text() == nbb_unformatted_code) {\n",
       "                             nbb_cells[i].set_text(nbb_formatted_code);\n",
       "                        }\n",
       "                        break;\n",
       "                    }\n",
       "                }\n",
       "            }, 500);\n",
       "            "
      ],
      "text/plain": [
       "<IPython.core.display.Javascript object>"
      ]
     },
     "metadata": {},
     "output_type": "display_data"
    }
   ],
   "source": [
    "# Data manipulation\n",
    "import pandas as pd\n",
    "import numpy as np\n",
    "\n",
    "# Options for pandas\n",
    "pd.options.display.max_columns = 50\n",
    "pd.options.display.max_rows = 30\n",
    "\n",
    "# Utils for feature creation\n",
    "from datetime import datetime\n",
    "import math\n",
    "import scipy\n",
    "from statistics import mean\n",
    "from sklearn.preprocessing import StandardScaler\n",
    "\n",
    "# Feature selection\n",
    "from sklearn.feature_selection import RFE, RFECV\n",
    "\n",
    "# Outlier Detection\n",
    "from sklearn.neighbors import LocalOutlierFactor\n",
    "\n",
    "# Classifiers\n",
    "from sklearn.discriminant_analysis import (\n",
    "    LinearDiscriminantAnalysis,\n",
    "    QuadraticDiscriminantAnalysis,\n",
    ")\n",
    "from sklearn.ensemble import (\n",
    "    AdaBoostClassifier,\n",
    "    BaggingClassifier,\n",
    "    ExtraTreesClassifier,\n",
    "    GradientBoostingClassifier,\n",
    "    RandomForestClassifier,\n",
    ")\n",
    "from sklearn.linear_model import RidgeClassifier, SGDClassifier, LogisticRegression\n",
    "from sklearn.naive_bayes import BernoulliNB, GaussianNB\n",
    "from sklearn.neighbors import KNeighborsClassifier\n",
    "from sklearn.neural_network import MLPClassifier\n",
    "from sklearn.svm import LinearSVC, NuSVC, SVC\n",
    "from sklearn.tree import DecisionTreeClassifier, ExtraTreeClassifier\n",
    "\n",
    "# from xgboost import XGBClassifier\n",
    "from sklearn.ensemble import StackingClassifier\n",
    "\n",
    "# Neural network libraries\n",
    "import keras\n",
    "from keras.models import Sequential\n",
    "from keras.layers import Dense\n",
    "from keras.layers import Dropout\n",
    "\n",
    "# Model selection and hyperparameter tuning\n",
    "from sklearn.model_selection import train_test_split, GridSearchCV\n",
    "from sklearn.pipeline import Pipeline\n",
    "\n",
    "# h2o Auto machine learning\n",
    "import h2o\n",
    "from h2o.automl import H2OAutoML\n",
    "from h2o.estimators.xgboost import H2OXGBoostEstimator\n",
    "\n",
    "# Classifier metrics\n",
    "from sklearn.metrics import classification_report, accuracy_score, roc_curve, auc\n",
    "from sklearn.metrics import plot_roc_curve\n",
    "from sklearn.inspection import permutation_importance\n",
    "\n",
    "# Visualizations\n",
    "import seaborn as sns\n",
    "import matplotlib.pyplot as plt\n",
    "\n",
    "# Save the ML model\n",
    "import joblib\n",
    "\n",
    "# Display all cell outputs\n",
    "from IPython.core.interactiveshell import InteractiveShell\n",
    "\n",
    "InteractiveShell.ast_node_interactivity = \"all\"\n",
    "\n",
    "from IPython import get_ipython\n",
    "\n",
    "ipython = get_ipython()\n",
    "\n",
    "# Developed python modules\n",
    "import load_faceit_data as loader\n",
    "import add_features\n",
    "\n",
    "# Import other jupyter notebooks\n",
    "# import import_ipynb\n",
    "# import MongoDBAtlas\n",
    "\n",
    "# autoreload extension\n",
    "if \"autoreload\" not in ipython.extension_manager.loaded:\n",
    "    %load_ext autoreload\n",
    "\n",
    "%autoreload 2\n",
    "%autosave 0\n",
    "%load_ext nb_black"
   ]
  },
  {
   "cell_type": "code",
   "execution_count": 46,
   "metadata": {
    "ExecuteTime": {
     "end_time": "2020-02-12T16:31:19.757694Z",
     "start_time": "2020-02-12T16:31:19.580169Z"
    }
   },
   "outputs": [
    {
     "name": "stdout",
     "output_type": "stream",
     "text": [
      "Cannot build an XGBoost model - no backend found.\n"
     ]
    },
    {
     "data": {
      "application/javascript": [
       "\n",
       "            setTimeout(function() {\n",
       "                var nbb_cell_id = 46;\n",
       "                var nbb_unformatted_code = \"is_xgboost_available = H2OXGBoostEstimator.available()\";\n",
       "                var nbb_formatted_code = \"is_xgboost_available = H2OXGBoostEstimator.available()\";\n",
       "                var nbb_cells = Jupyter.notebook.get_cells();\n",
       "                for (var i = 0; i < nbb_cells.length; ++i) {\n",
       "                    if (nbb_cells[i].input_prompt_number == nbb_cell_id) {\n",
       "                        if (nbb_cells[i].get_text() == nbb_unformatted_code) {\n",
       "                             nbb_cells[i].set_text(nbb_formatted_code);\n",
       "                        }\n",
       "                        break;\n",
       "                    }\n",
       "                }\n",
       "            }, 500);\n",
       "            "
      ],
      "text/plain": [
       "<IPython.core.display.Javascript object>"
      ]
     },
     "metadata": {},
     "output_type": "display_data"
    }
   ],
   "source": [
    "is_xgboost_available = H2OXGBoostEstimator.available()"
   ]
  },
  {
   "cell_type": "code",
   "execution_count": 47,
   "metadata": {
    "ExecuteTime": {
     "end_time": "2020-02-12T16:31:57.805650Z",
     "start_time": "2020-02-12T16:31:57.620152Z"
    }
   },
   "outputs": [
    {
     "data": {
      "text/html": [
       "<div style=\"overflow:auto\"><table style=\"width:50%\"><tr><td>H2O cluster uptime:</td>\n",
       "<td>25 mins 26 secs</td></tr>\n",
       "<tr><td>H2O cluster timezone:</td>\n",
       "<td>Europe/London</td></tr>\n",
       "<tr><td>H2O data parsing timezone:</td>\n",
       "<td>UTC</td></tr>\n",
       "<tr><td>H2O cluster version:</td>\n",
       "<td>3.28.0.3</td></tr>\n",
       "<tr><td>H2O cluster version age:</td>\n",
       "<td>6 days </td></tr>\n",
       "<tr><td>H2O cluster name:</td>\n",
       "<td>H2O_from_python_hmbf1_7fq0d3</td></tr>\n",
       "<tr><td>H2O cluster total nodes:</td>\n",
       "<td>1</td></tr>\n",
       "<tr><td>H2O cluster free memory:</td>\n",
       "<td>6.953 Gb</td></tr>\n",
       "<tr><td>H2O cluster total cores:</td>\n",
       "<td>8</td></tr>\n",
       "<tr><td>H2O cluster allowed cores:</td>\n",
       "<td>8</td></tr>\n",
       "<tr><td>H2O cluster status:</td>\n",
       "<td>locked, healthy</td></tr>\n",
       "<tr><td>H2O connection url:</td>\n",
       "<td>http://127.0.0.1:54321</td></tr>\n",
       "<tr><td>H2O connection proxy:</td>\n",
       "<td>{'http': None, 'https': None}</td></tr>\n",
       "<tr><td>H2O internal security:</td>\n",
       "<td>False</td></tr>\n",
       "<tr><td>H2O API Extensions:</td>\n",
       "<td>Amazon S3, Algos, AutoML, Core V3, TargetEncoder, Core V4</td></tr>\n",
       "<tr><td>Python version:</td>\n",
       "<td>3.7.3 final</td></tr></table></div>"
      ],
      "text/plain": [
       "--------------------------  ---------------------------------------------------------\n",
       "H2O cluster uptime:         25 mins 26 secs\n",
       "H2O cluster timezone:       Europe/London\n",
       "H2O data parsing timezone:  UTC\n",
       "H2O cluster version:        3.28.0.3\n",
       "H2O cluster version age:    6 days\n",
       "H2O cluster name:           H2O_from_python_hmbf1_7fq0d3\n",
       "H2O cluster total nodes:    1\n",
       "H2O cluster free memory:    6.953 Gb\n",
       "H2O cluster total cores:    8\n",
       "H2O cluster allowed cores:  8\n",
       "H2O cluster status:         locked, healthy\n",
       "H2O connection url:         http://127.0.0.1:54321\n",
       "H2O connection proxy:       {'http': None, 'https': None}\n",
       "H2O internal security:      False\n",
       "H2O API Extensions:         Amazon S3, Algos, AutoML, Core V3, TargetEncoder, Core V4\n",
       "Python version:             3.7.3 final\n",
       "--------------------------  ---------------------------------------------------------"
      ]
     },
     "metadata": {},
     "output_type": "display_data"
    },
    {
     "data": {
      "application/javascript": [
       "\n",
       "            setTimeout(function() {\n",
       "                var nbb_cell_id = 47;\n",
       "                var nbb_unformatted_code = \"h2o.cluster().show_status()\";\n",
       "                var nbb_formatted_code = \"h2o.cluster().show_status()\";\n",
       "                var nbb_cells = Jupyter.notebook.get_cells();\n",
       "                for (var i = 0; i < nbb_cells.length; ++i) {\n",
       "                    if (nbb_cells[i].input_prompt_number == nbb_cell_id) {\n",
       "                        if (nbb_cells[i].get_text() == nbb_unformatted_code) {\n",
       "                             nbb_cells[i].set_text(nbb_formatted_code);\n",
       "                        }\n",
       "                        break;\n",
       "                    }\n",
       "                }\n",
       "            }, 500);\n",
       "            "
      ],
      "text/plain": [
       "<IPython.core.display.Javascript object>"
      ]
     },
     "metadata": {},
     "output_type": "display_data"
    }
   ],
   "source": [
    "h2o.cluster().show_status()"
   ]
  },
  {
   "cell_type": "markdown",
   "metadata": {},
   "source": [
    "## Matplotlib and Seaborn defaults"
   ]
  },
  {
   "cell_type": "code",
   "execution_count": 2,
   "metadata": {
    "ExecuteTime": {
     "end_time": "2020-02-12T16:05:00.586776Z",
     "start_time": "2020-02-12T16:05:00.408274Z"
    }
   },
   "outputs": [
    {
     "data": {
      "application/javascript": [
       "\n",
       "            setTimeout(function() {\n",
       "                var nbb_cell_id = 2;\n",
       "                var nbb_unformatted_code = \"sns.set_style(\\\"dark\\\")\\nplt.rcParams[\\\"axes.facecolor\\\"] = \\\"#2D3441\\\"\\nplt.rcParams[\\\"figure.facecolor\\\"] = \\\"none\\\"\\nplt.rcParams[\\\"text.color\\\"] = \\\"white\\\"\\nplt.rcParams[\\\"ytick.color\\\"] = \\\"white\\\"\\nplt.rcParams[\\\"xtick.color\\\"] = \\\"white\\\"\\nplt.rcParams[\\\"axes.labelcolor\\\"] = \\\"white\\\"\\nplt.rcParams[\\\"axes.edgecolor\\\"] = \\\"white\\\"\\nplt.rcParams[\\\"axes.labelsize\\\"] = \\\"13\\\"\\nplt.rcParams[\\\"axes.titlesize\\\"] = \\\"20\\\"\";\n",
       "                var nbb_formatted_code = \"sns.set_style(\\\"dark\\\")\\nplt.rcParams[\\\"axes.facecolor\\\"] = \\\"#2D3441\\\"\\nplt.rcParams[\\\"figure.facecolor\\\"] = \\\"none\\\"\\nplt.rcParams[\\\"text.color\\\"] = \\\"white\\\"\\nplt.rcParams[\\\"ytick.color\\\"] = \\\"white\\\"\\nplt.rcParams[\\\"xtick.color\\\"] = \\\"white\\\"\\nplt.rcParams[\\\"axes.labelcolor\\\"] = \\\"white\\\"\\nplt.rcParams[\\\"axes.edgecolor\\\"] = \\\"white\\\"\\nplt.rcParams[\\\"axes.labelsize\\\"] = \\\"13\\\"\\nplt.rcParams[\\\"axes.titlesize\\\"] = \\\"20\\\"\";\n",
       "                var nbb_cells = Jupyter.notebook.get_cells();\n",
       "                for (var i = 0; i < nbb_cells.length; ++i) {\n",
       "                    if (nbb_cells[i].input_prompt_number == nbb_cell_id) {\n",
       "                        if (nbb_cells[i].get_text() == nbb_unformatted_code) {\n",
       "                             nbb_cells[i].set_text(nbb_formatted_code);\n",
       "                        }\n",
       "                        break;\n",
       "                    }\n",
       "                }\n",
       "            }, 500);\n",
       "            "
      ],
      "text/plain": [
       "<IPython.core.display.Javascript object>"
      ]
     },
     "metadata": {},
     "output_type": "display_data"
    }
   ],
   "source": [
    "sns.set_style(\"dark\")\n",
    "plt.rcParams[\"axes.facecolor\"] = \"#2D3441\"\n",
    "plt.rcParams[\"figure.facecolor\"] = \"none\"\n",
    "plt.rcParams[\"text.color\"] = \"white\"\n",
    "plt.rcParams[\"ytick.color\"] = \"white\"\n",
    "plt.rcParams[\"xtick.color\"] = \"white\"\n",
    "plt.rcParams[\"axes.labelcolor\"] = \"white\"\n",
    "plt.rcParams[\"axes.edgecolor\"] = \"white\"\n",
    "plt.rcParams[\"axes.labelsize\"] = \"13\"\n",
    "plt.rcParams[\"axes.titlesize\"] = \"20\""
   ]
  },
  {
   "cell_type": "markdown",
   "metadata": {},
   "source": [
    "## Load Data\n",
    "Currently, the data can be loaded in two ways:\n",
    "1. From a locally stored JSON file\n",
    "2. From a MongoDB database hosted in the local network"
   ]
  },
  {
   "cell_type": "code",
   "execution_count": 3,
   "metadata": {
    "ExecuteTime": {
     "end_time": "2020-02-12T16:05:16.627554Z",
     "start_time": "2020-02-12T16:05:00.956780Z"
    }
   },
   "outputs": [
    {
     "data": {
      "application/javascript": [
       "\n",
       "            setTimeout(function() {\n",
       "                var nbb_cell_id = 3;\n",
       "                var nbb_unformatted_code = \"params = {\\\"filename\\\": \\\"data\\\\matches_02.json\\\"}\\ndataset = loader.load_data(load_type=\\\"json\\\", **params)\";\n",
       "                var nbb_formatted_code = \"params = {\\\"filename\\\": \\\"data\\\\matches_02.json\\\"}\\ndataset = loader.load_data(load_type=\\\"json\\\", **params)\";\n",
       "                var nbb_cells = Jupyter.notebook.get_cells();\n",
       "                for (var i = 0; i < nbb_cells.length; ++i) {\n",
       "                    if (nbb_cells[i].input_prompt_number == nbb_cell_id) {\n",
       "                        if (nbb_cells[i].get_text() == nbb_unformatted_code) {\n",
       "                             nbb_cells[i].set_text(nbb_formatted_code);\n",
       "                        }\n",
       "                        break;\n",
       "                    }\n",
       "                }\n",
       "            }, 500);\n",
       "            "
      ],
      "text/plain": [
       "<IPython.core.display.Javascript object>"
      ]
     },
     "metadata": {},
     "output_type": "display_data"
    }
   ],
   "source": [
    "params = {\"filename\": \"data\\matches_02.json\"}\n",
    "dataset = loader.load_data(load_type=\"json\", **params)"
   ]
  },
  {
   "cell_type": "markdown",
   "metadata": {},
   "source": [
    "# Data Preprocessing"
   ]
  },
  {
   "cell_type": "markdown",
   "metadata": {},
   "source": [
    "## Analyze and Describe\n",
    "TODO: Add more functions to pre-analyze the data"
   ]
  },
  {
   "cell_type": "code",
   "execution_count": null,
   "metadata": {},
   "outputs": [],
   "source": [
    "# Change object types (to strings, categorical or numeric)"
   ]
  },
  {
   "cell_type": "code",
   "execution_count": 7,
   "metadata": {},
   "outputs": [
    {
     "ename": "ValueError",
     "evalue": "No objects to concatenate",
     "output_type": "error",
     "traceback": [
      "\u001b[1;31m---------------------------------------------------------------------------\u001b[0m",
      "\u001b[1;31mValueError\u001b[0m                                Traceback (most recent call last)",
      "\u001b[1;32m<ipython-input-7-d599fa5dddeb>\u001b[0m in \u001b[0;36m<module>\u001b[1;34m\u001b[0m\n\u001b[1;32m----> 1\u001b[1;33m \u001b[0mdataset\u001b[0m\u001b[1;33m.\u001b[0m\u001b[0mdescribe\u001b[0m\u001b[1;33m(\u001b[0m\u001b[0mexclude\u001b[0m\u001b[1;33m=\u001b[0m\u001b[1;33m[\u001b[0m\u001b[0mnp\u001b[0m\u001b[1;33m.\u001b[0m\u001b[0mobject\u001b[0m\u001b[1;33m]\u001b[0m\u001b[1;33m)\u001b[0m\u001b[1;33m\u001b[0m\u001b[1;33m\u001b[0m\u001b[0m\n\u001b[0m",
      "\u001b[1;32m~\\Anaconda3\\lib\\site-packages\\pandas\\core\\generic.py\u001b[0m in \u001b[0;36mdescribe\u001b[1;34m(self, percentiles, include, exclude)\u001b[0m\n\u001b[0;32m  10283\u001b[0m                     \u001b[0mnames\u001b[0m\u001b[1;33m.\u001b[0m\u001b[0mappend\u001b[0m\u001b[1;33m(\u001b[0m\u001b[0mname\u001b[0m\u001b[1;33m)\u001b[0m\u001b[1;33m\u001b[0m\u001b[1;33m\u001b[0m\u001b[0m\n\u001b[0;32m  10284\u001b[0m \u001b[1;33m\u001b[0m\u001b[0m\n\u001b[1;32m> 10285\u001b[1;33m         \u001b[0md\u001b[0m \u001b[1;33m=\u001b[0m \u001b[0mpd\u001b[0m\u001b[1;33m.\u001b[0m\u001b[0mconcat\u001b[0m\u001b[1;33m(\u001b[0m\u001b[1;33m[\u001b[0m\u001b[0mx\u001b[0m\u001b[1;33m.\u001b[0m\u001b[0mreindex\u001b[0m\u001b[1;33m(\u001b[0m\u001b[0mnames\u001b[0m\u001b[1;33m,\u001b[0m \u001b[0mcopy\u001b[0m\u001b[1;33m=\u001b[0m\u001b[1;32mFalse\u001b[0m\u001b[1;33m)\u001b[0m \u001b[1;32mfor\u001b[0m \u001b[0mx\u001b[0m \u001b[1;32min\u001b[0m \u001b[0mldesc\u001b[0m\u001b[1;33m]\u001b[0m\u001b[1;33m,\u001b[0m \u001b[0maxis\u001b[0m\u001b[1;33m=\u001b[0m\u001b[1;36m1\u001b[0m\u001b[1;33m,\u001b[0m \u001b[0msort\u001b[0m\u001b[1;33m=\u001b[0m\u001b[1;32mFalse\u001b[0m\u001b[1;33m)\u001b[0m\u001b[1;33m\u001b[0m\u001b[1;33m\u001b[0m\u001b[0m\n\u001b[0m\u001b[0;32m  10286\u001b[0m         \u001b[0md\u001b[0m\u001b[1;33m.\u001b[0m\u001b[0mcolumns\u001b[0m \u001b[1;33m=\u001b[0m \u001b[0mdata\u001b[0m\u001b[1;33m.\u001b[0m\u001b[0mcolumns\u001b[0m\u001b[1;33m.\u001b[0m\u001b[0mcopy\u001b[0m\u001b[1;33m(\u001b[0m\u001b[1;33m)\u001b[0m\u001b[1;33m\u001b[0m\u001b[1;33m\u001b[0m\u001b[0m\n\u001b[0;32m  10287\u001b[0m         \u001b[1;32mreturn\u001b[0m \u001b[0md\u001b[0m\u001b[1;33m\u001b[0m\u001b[1;33m\u001b[0m\u001b[0m\n",
      "\u001b[1;32m~\\Anaconda3\\lib\\site-packages\\pandas\\core\\reshape\\concat.py\u001b[0m in \u001b[0;36mconcat\u001b[1;34m(objs, axis, join, join_axes, ignore_index, keys, levels, names, verify_integrity, sort, copy)\u001b[0m\n\u001b[0;32m    253\u001b[0m         \u001b[0mverify_integrity\u001b[0m\u001b[1;33m=\u001b[0m\u001b[0mverify_integrity\u001b[0m\u001b[1;33m,\u001b[0m\u001b[1;33m\u001b[0m\u001b[1;33m\u001b[0m\u001b[0m\n\u001b[0;32m    254\u001b[0m         \u001b[0mcopy\u001b[0m\u001b[1;33m=\u001b[0m\u001b[0mcopy\u001b[0m\u001b[1;33m,\u001b[0m\u001b[1;33m\u001b[0m\u001b[1;33m\u001b[0m\u001b[0m\n\u001b[1;32m--> 255\u001b[1;33m         \u001b[0msort\u001b[0m\u001b[1;33m=\u001b[0m\u001b[0msort\u001b[0m\u001b[1;33m,\u001b[0m\u001b[1;33m\u001b[0m\u001b[1;33m\u001b[0m\u001b[0m\n\u001b[0m\u001b[0;32m    256\u001b[0m     )\n\u001b[0;32m    257\u001b[0m \u001b[1;33m\u001b[0m\u001b[0m\n",
      "\u001b[1;32m~\\Anaconda3\\lib\\site-packages\\pandas\\core\\reshape\\concat.py\u001b[0m in \u001b[0;36m__init__\u001b[1;34m(self, objs, axis, join, join_axes, keys, levels, names, ignore_index, verify_integrity, copy, sort)\u001b[0m\n\u001b[0;32m    302\u001b[0m \u001b[1;33m\u001b[0m\u001b[0m\n\u001b[0;32m    303\u001b[0m         \u001b[1;32mif\u001b[0m \u001b[0mlen\u001b[0m\u001b[1;33m(\u001b[0m\u001b[0mobjs\u001b[0m\u001b[1;33m)\u001b[0m \u001b[1;33m==\u001b[0m \u001b[1;36m0\u001b[0m\u001b[1;33m:\u001b[0m\u001b[1;33m\u001b[0m\u001b[1;33m\u001b[0m\u001b[0m\n\u001b[1;32m--> 304\u001b[1;33m             \u001b[1;32mraise\u001b[0m \u001b[0mValueError\u001b[0m\u001b[1;33m(\u001b[0m\u001b[1;34m\"No objects to concatenate\"\u001b[0m\u001b[1;33m)\u001b[0m\u001b[1;33m\u001b[0m\u001b[1;33m\u001b[0m\u001b[0m\n\u001b[0m\u001b[0;32m    305\u001b[0m \u001b[1;33m\u001b[0m\u001b[0m\n\u001b[0;32m    306\u001b[0m         \u001b[1;32mif\u001b[0m \u001b[0mkeys\u001b[0m \u001b[1;32mis\u001b[0m \u001b[1;32mNone\u001b[0m\u001b[1;33m:\u001b[0m\u001b[1;33m\u001b[0m\u001b[1;33m\u001b[0m\u001b[0m\n",
      "\u001b[1;31mValueError\u001b[0m: No objects to concatenate"
     ]
    },
    {
     "data": {
      "application/javascript": [
       "\n",
       "            setTimeout(function() {\n",
       "                var nbb_cell_id = 7;\n",
       "                var nbb_unformatted_code = \"dataset.describe(exclude=[np.object])\";\n",
       "                var nbb_formatted_code = \"dataset.describe(exclude=[np.object])\";\n",
       "                var nbb_cells = Jupyter.notebook.get_cells();\n",
       "                for (var i = 0; i < nbb_cells.length; ++i) {\n",
       "                    if (nbb_cells[i].input_prompt_number == nbb_cell_id) {\n",
       "                        if (nbb_cells[i].get_text() == nbb_unformatted_code) {\n",
       "                             nbb_cells[i].set_text(nbb_formatted_code);\n",
       "                        }\n",
       "                        break;\n",
       "                    }\n",
       "                }\n",
       "            }, 500);\n",
       "            "
      ],
      "text/plain": [
       "<IPython.core.display.Javascript object>"
      ]
     },
     "metadata": {},
     "output_type": "display_data"
    }
   ],
   "source": [
    "dataset.describe(exclude=[np.object])"
   ]
  },
  {
   "cell_type": "code",
   "execution_count": 4,
   "metadata": {
    "ExecuteTime": {
     "end_time": "2020-02-12T16:05:18.366478Z",
     "start_time": "2020-02-12T16:05:17.173365Z"
    }
   },
   "outputs": [
    {
     "data": {
      "application/javascript": [
       "\n",
       "            setTimeout(function() {\n",
       "                var nbb_cell_id = 4;\n",
       "                var nbb_unformatted_code = \"# Sample 10% of the whole dataset\\ndataset = dataset.sample(frac=0.1)\";\n",
       "                var nbb_formatted_code = \"# Sample 10% of the whole dataset\\ndataset = dataset.sample(frac=0.1)\";\n",
       "                var nbb_cells = Jupyter.notebook.get_cells();\n",
       "                for (var i = 0; i < nbb_cells.length; ++i) {\n",
       "                    if (nbb_cells[i].input_prompt_number == nbb_cell_id) {\n",
       "                        if (nbb_cells[i].get_text() == nbb_unformatted_code) {\n",
       "                             nbb_cells[i].set_text(nbb_formatted_code);\n",
       "                        }\n",
       "                        break;\n",
       "                    }\n",
       "                }\n",
       "            }, 500);\n",
       "            "
      ],
      "text/plain": [
       "<IPython.core.display.Javascript object>"
      ]
     },
     "metadata": {},
     "output_type": "display_data"
    }
   ],
   "source": [
    "# Sample 10% of the whole dataset\n",
    "dataset = dataset.sample(frac=0.1)"
   ]
  },
  {
   "cell_type": "code",
   "execution_count": 5,
   "metadata": {
    "ExecuteTime": {
     "end_time": "2020-02-12T15:33:53.419581Z",
     "start_time": "2020-02-12T15:33:53.199154Z"
    }
   },
   "outputs": [
    {
     "data": {
      "text/plain": [
       "(1496, 11)"
      ]
     },
     "execution_count": 5,
     "metadata": {},
     "output_type": "execute_result"
    },
    {
     "data": {
      "application/javascript": [
       "\n",
       "            setTimeout(function() {\n",
       "                var nbb_cell_id = 5;\n",
       "                var nbb_unformatted_code = \"dataset.shape\";\n",
       "                var nbb_formatted_code = \"dataset.shape\";\n",
       "                var nbb_cells = Jupyter.notebook.get_cells();\n",
       "                for (var i = 0; i < nbb_cells.length; ++i) {\n",
       "                    if (nbb_cells[i].input_prompt_number == nbb_cell_id) {\n",
       "                        if (nbb_cells[i].get_text() == nbb_unformatted_code) {\n",
       "                             nbb_cells[i].set_text(nbb_formatted_code);\n",
       "                        }\n",
       "                        break;\n",
       "                    }\n",
       "                }\n",
       "            }, 500);\n",
       "            "
      ],
      "text/plain": [
       "<IPython.core.display.Javascript object>"
      ]
     },
     "metadata": {},
     "output_type": "display_data"
    }
   ],
   "source": [
    "dataset.shape"
   ]
  },
  {
   "cell_type": "markdown",
   "metadata": {},
   "source": [
    "## Clean Data"
   ]
  },
  {
   "cell_type": "code",
   "execution_count": 5,
   "metadata": {
    "ExecuteTime": {
     "end_time": "2020-02-12T16:05:19.014440Z",
     "start_time": "2020-02-12T16:05:18.845671Z"
    }
   },
   "outputs": [
    {
     "data": {
      "application/javascript": [
       "\n",
       "            setTimeout(function() {\n",
       "                var nbb_cell_id = 5;\n",
       "                var nbb_unformatted_code = \"faceit_maps = [\\n    \\\"de_train\\\",\\n    \\\"de_inferno\\\",\\n    \\\"de_mirage\\\",\\n    \\\"de_vertigo\\\",\\n    \\\"de_nuke\\\",\\n    \\\"de_overpass\\\",\\n    \\\"de_cache\\\",\\n    \\\"de_dust2\\\",\\n]\\ndate_format = \\\"%Y-%m-%dT%H:%M:%SZ\\\"\";\n",
       "                var nbb_formatted_code = \"faceit_maps = [\\n    \\\"de_train\\\",\\n    \\\"de_inferno\\\",\\n    \\\"de_mirage\\\",\\n    \\\"de_vertigo\\\",\\n    \\\"de_nuke\\\",\\n    \\\"de_overpass\\\",\\n    \\\"de_cache\\\",\\n    \\\"de_dust2\\\",\\n]\\ndate_format = \\\"%Y-%m-%dT%H:%M:%SZ\\\"\";\n",
       "                var nbb_cells = Jupyter.notebook.get_cells();\n",
       "                for (var i = 0; i < nbb_cells.length; ++i) {\n",
       "                    if (nbb_cells[i].input_prompt_number == nbb_cell_id) {\n",
       "                        if (nbb_cells[i].get_text() == nbb_unformatted_code) {\n",
       "                             nbb_cells[i].set_text(nbb_formatted_code);\n",
       "                        }\n",
       "                        break;\n",
       "                    }\n",
       "                }\n",
       "            }, 500);\n",
       "            "
      ],
      "text/plain": [
       "<IPython.core.display.Javascript object>"
      ]
     },
     "metadata": {},
     "output_type": "display_data"
    }
   ],
   "source": [
    "faceit_maps = [\n",
    "    \"de_train\",\n",
    "    \"de_inferno\",\n",
    "    \"de_mirage\",\n",
    "    \"de_vertigo\",\n",
    "    \"de_nuke\",\n",
    "    \"de_overpass\",\n",
    "    \"de_cache\",\n",
    "    \"de_dust2\",\n",
    "]\n",
    "date_format = \"%Y-%m-%dT%H:%M:%SZ\""
   ]
  },
  {
   "cell_type": "code",
   "execution_count": 6,
   "metadata": {
    "ExecuteTime": {
     "end_time": "2020-02-12T16:05:19.693281Z",
     "start_time": "2020-02-12T16:05:19.510135Z"
    }
   },
   "outputs": [
    {
     "data": {
      "application/javascript": [
       "\n",
       "            setTimeout(function() {\n",
       "                var nbb_cell_id = 6;\n",
       "                var nbb_unformatted_code = \"def clean_dataframe(data):\\n    print(\\\"Dataframe's shape before cleaning\\\", data.shape)\\n\\n    data.drop(\\n        columns=[\\\"_id\\\", \\\"_id__stitch_transaction\\\", \\\"state\\\", \\\"match_status\\\"],\\n        inplace=True,\\n    )\\n    data = data[data[\\\"score\\\"].notnull()]\\n    data = data[data[\\\"mapPlayed\\\"].isin(faceit_maps)]\\n\\n    # Removal of duplicate matches\\n    data.drop_duplicates(subset=[\\\"match_id\\\"], keep=\\\"first\\\", inplace=True)\\n\\n    # Removal of non 5v5 matches\\n    data.loc[:, \\\"num_players\\\"] = data.apply(\\n        lambda row: get_num_players(row), axis=1\\n    ).values\\n    data = data[data[\\\"num_players\\\"] == 10]\\n\\n    print(\\\"Dataframe's shape after cleaning\\\", data.shape)\\n    return data\\n\\n\\ndef get_num_players(row):\\n    return len(row[\\\"teamA\\\"]) + len(row[\\\"teamB\\\"])\";\n",
       "                var nbb_formatted_code = \"def clean_dataframe(data):\\n    print(\\\"Dataframe's shape before cleaning\\\", data.shape)\\n\\n    data.drop(\\n        columns=[\\\"_id\\\", \\\"_id__stitch_transaction\\\", \\\"state\\\", \\\"match_status\\\"],\\n        inplace=True,\\n    )\\n    data = data[data[\\\"score\\\"].notnull()]\\n    data = data[data[\\\"mapPlayed\\\"].isin(faceit_maps)]\\n\\n    # Removal of duplicate matches\\n    data.drop_duplicates(subset=[\\\"match_id\\\"], keep=\\\"first\\\", inplace=True)\\n\\n    # Removal of non 5v5 matches\\n    data.loc[:, \\\"num_players\\\"] = data.apply(\\n        lambda row: get_num_players(row), axis=1\\n    ).values\\n    data = data[data[\\\"num_players\\\"] == 10]\\n\\n    print(\\\"Dataframe's shape after cleaning\\\", data.shape)\\n    return data\\n\\n\\ndef get_num_players(row):\\n    return len(row[\\\"teamA\\\"]) + len(row[\\\"teamB\\\"])\";\n",
       "                var nbb_cells = Jupyter.notebook.get_cells();\n",
       "                for (var i = 0; i < nbb_cells.length; ++i) {\n",
       "                    if (nbb_cells[i].input_prompt_number == nbb_cell_id) {\n",
       "                        if (nbb_cells[i].get_text() == nbb_unformatted_code) {\n",
       "                             nbb_cells[i].set_text(nbb_formatted_code);\n",
       "                        }\n",
       "                        break;\n",
       "                    }\n",
       "                }\n",
       "            }, 500);\n",
       "            "
      ],
      "text/plain": [
       "<IPython.core.display.Javascript object>"
      ]
     },
     "metadata": {},
     "output_type": "display_data"
    }
   ],
   "source": [
    "def clean_dataframe(data):\n",
    "    print(\"Dataframe's shape before cleaning\", data.shape)\n",
    "\n",
    "    data.drop(\n",
    "        columns=[\"_id\", \"_id__stitch_transaction\", \"state\", \"match_status\"],\n",
    "        inplace=True,\n",
    "    )\n",
    "    data = data[data[\"score\"].notnull()]\n",
    "    data = data[data[\"mapPlayed\"].isin(faceit_maps)]\n",
    "\n",
    "    # Removal of duplicate matches\n",
    "    data.drop_duplicates(subset=[\"match_id\"], keep=\"first\", inplace=True)\n",
    "\n",
    "    # Removal of non 5v5 matches\n",
    "    data.loc[:, \"num_players\"] = data.apply(\n",
    "        lambda row: get_num_players(row), axis=1\n",
    "    ).values\n",
    "    data = data[data[\"num_players\"] == 10]\n",
    "\n",
    "    print(\"Dataframe's shape after cleaning\", data.shape)\n",
    "    return data\n",
    "\n",
    "\n",
    "def get_num_players(row):\n",
    "    return len(row[\"teamA\"]) + len(row[\"teamB\"])"
   ]
  },
  {
   "cell_type": "code",
   "execution_count": 7,
   "metadata": {
    "ExecuteTime": {
     "end_time": "2020-02-12T16:05:20.448652Z",
     "start_time": "2020-02-12T16:05:20.188956Z"
    }
   },
   "outputs": [
    {
     "name": "stdout",
     "output_type": "stream",
     "text": [
      "Dataframe's shape before cleaning (1496, 11)\n",
      "Dataframe's shape after cleaning (1343, 8)\n"
     ]
    },
    {
     "data": {
      "application/javascript": [
       "\n",
       "            setTimeout(function() {\n",
       "                var nbb_cell_id = 7;\n",
       "                var nbb_unformatted_code = \"dataset = clean_dataframe(dataset)\";\n",
       "                var nbb_formatted_code = \"dataset = clean_dataframe(dataset)\";\n",
       "                var nbb_cells = Jupyter.notebook.get_cells();\n",
       "                for (var i = 0; i < nbb_cells.length; ++i) {\n",
       "                    if (nbb_cells[i].input_prompt_number == nbb_cell_id) {\n",
       "                        if (nbb_cells[i].get_text() == nbb_unformatted_code) {\n",
       "                             nbb_cells[i].set_text(nbb_formatted_code);\n",
       "                        }\n",
       "                        break;\n",
       "                    }\n",
       "                }\n",
       "            }, 500);\n",
       "            "
      ],
      "text/plain": [
       "<IPython.core.display.Javascript object>"
      ]
     },
     "metadata": {},
     "output_type": "display_data"
    }
   ],
   "source": [
    "dataset = clean_dataframe(dataset)"
   ]
  },
  {
   "cell_type": "markdown",
   "metadata": {},
   "source": [
    "## Players Analysis"
   ]
  },
  {
   "cell_type": "code",
   "execution_count": 8,
   "metadata": {
    "ExecuteTime": {
     "end_time": "2020-02-12T16:05:22.289577Z",
     "start_time": "2020-02-12T16:05:20.916379Z"
    }
   },
   "outputs": [
    {
     "data": {
      "image/png": "[encoded data removed]",
      "text/plain": [
       "<Figure size 432x288 with 1 Axes>"
      ]
     },
     "metadata": {
      "needs_background": "dark"
     },
     "output_type": "display_data"
    },
    {
     "data": {
      "application/javascript": [
       "\n",
       "            setTimeout(function() {\n",
       "                var nbb_cell_id = 8;\n",
       "                var nbb_unformatted_code = \"def get_all_players_elos(data):\\n    all_players = []\\n    for _, row in data.iterrows():\\n        for player_id, player_info in row[\\\"teamA\\\"].items():\\n            all_players.append(player_info[\\\"elo\\\"])\\n        for player_id, player_info in row[\\\"teamB\\\"].items():\\n            all_players.append(player_info[\\\"elo\\\"])\\n    return all_players\\n\\n\\ndef get_player_elo_kde(data):\\n    player_elos = get_all_players_elos(data)\\n    player_elos = np.array(player_elos)\\n    player_elos_series = pd.Series(player_elos)\\n    kde = player_elos_series.plot.kde(ind=1000)\\n    xdata, ydata = kde.get_lines()[0].get_data()\\n    return scipy.integrate.cumtrapz(ydata, xdata, dx=1, initial=0), xdata\\n\\n\\ndef get_elo_dif_prob(lower_bound, upper_bound, cdf, bins):\\n    lower_bin = (np.abs(bins - lower_bound)).argmin()\\n    upper_bin = (np.abs(bins - upper_bound)).argmin()\\n    return cdf[upper_bin] - cdf[lower_bin]\\n\\n\\nplayers_elo_distribution, elo_bins = get_player_elo_kde(dataset)\";\n",
       "                var nbb_formatted_code = \"def get_all_players_elos(data):\\n    all_players = []\\n    for _, row in data.iterrows():\\n        for player_id, player_info in row[\\\"teamA\\\"].items():\\n            all_players.append(player_info[\\\"elo\\\"])\\n        for player_id, player_info in row[\\\"teamB\\\"].items():\\n            all_players.append(player_info[\\\"elo\\\"])\\n    return all_players\\n\\n\\ndef get_player_elo_kde(data):\\n    player_elos = get_all_players_elos(data)\\n    player_elos = np.array(player_elos)\\n    player_elos_series = pd.Series(player_elos)\\n    kde = player_elos_series.plot.kde(ind=1000)\\n    xdata, ydata = kde.get_lines()[0].get_data()\\n    return scipy.integrate.cumtrapz(ydata, xdata, dx=1, initial=0), xdata\\n\\n\\ndef get_elo_dif_prob(lower_bound, upper_bound, cdf, bins):\\n    lower_bin = (np.abs(bins - lower_bound)).argmin()\\n    upper_bin = (np.abs(bins - upper_bound)).argmin()\\n    return cdf[upper_bin] - cdf[lower_bin]\\n\\n\\nplayers_elo_distribution, elo_bins = get_player_elo_kde(dataset)\";\n",
       "                var nbb_cells = Jupyter.notebook.get_cells();\n",
       "                for (var i = 0; i < nbb_cells.length; ++i) {\n",
       "                    if (nbb_cells[i].input_prompt_number == nbb_cell_id) {\n",
       "                        if (nbb_cells[i].get_text() == nbb_unformatted_code) {\n",
       "                             nbb_cells[i].set_text(nbb_formatted_code);\n",
       "                        }\n",
       "                        break;\n",
       "                    }\n",
       "                }\n",
       "            }, 500);\n",
       "            "
      ],
      "text/plain": [
       "<IPython.core.display.Javascript object>"
      ]
     },
     "metadata": {},
     "output_type": "display_data"
    }
   ],
   "source": [
    "def get_all_players_elos(data):\n",
    "    all_players = []\n",
    "    for _, row in data.iterrows():\n",
    "        for player_id, player_info in row[\"teamA\"].items():\n",
    "            all_players.append(player_info[\"elo\"])\n",
    "        for player_id, player_info in row[\"teamB\"].items():\n",
    "            all_players.append(player_info[\"elo\"])\n",
    "    return all_players\n",
    "\n",
    "\n",
    "def get_player_elo_kde(data):\n",
    "    player_elos = get_all_players_elos(data)\n",
    "    player_elos = np.array(player_elos)\n",
    "    player_elos_series = pd.Series(player_elos)\n",
    "    kde = player_elos_series.plot.kde(ind=1000)\n",
    "    xdata, ydata = kde.get_lines()[0].get_data()\n",
    "    return scipy.integrate.cumtrapz(ydata, xdata, dx=1, initial=0), xdata\n",
    "\n",
    "\n",
    "def get_elo_dif_prob(lower_bound, upper_bound, cdf, bins):\n",
    "    lower_bin = (np.abs(bins - lower_bound)).argmin()\n",
    "    upper_bin = (np.abs(bins - upper_bound)).argmin()\n",
    "    return cdf[upper_bin] - cdf[lower_bin]\n",
    "\n",
    "\n",
    "players_elo_distribution, elo_bins = get_player_elo_kde(dataset)"
   ]
  },
  {
   "cell_type": "code",
   "execution_count": 9,
   "metadata": {
    "ExecuteTime": {
     "end_time": "2020-02-12T16:05:23.056318Z",
     "start_time": "2020-02-12T16:05:22.855827Z"
    }
   },
   "outputs": [
    {
     "data": {
      "application/javascript": [
       "\n",
       "            setTimeout(function() {\n",
       "                var nbb_cell_id = 9;\n",
       "                var nbb_unformatted_code = \"def get_all_players_info(data):\\n    players_id = []\\n    elos = []\\n    matches = []\\n    winrates = []\\n    kds = []\\n    hs_percents = []\\n    # add createdAt (accounts created a long time ago with few matches might be smurfs)\\n    for _, row in data.iterrows():\\n        for player_id, player_info in row[\\\"teamA\\\"].items():\\n            if player_info[\\\"lifetimeData\\\"] == None:\\n                players_id.append(0)\\n                elos.append(0)\\n                matches.append(0)\\n                winrates.append(0)\\n                kds.append(0)\\n                hs_percents.append(0)\\n                continue\\n            players_id.append(player_info[\\\"id\\\"])\\n            elos.append(player_info[\\\"elo\\\"])\\n            matches.append(int(player_info[\\\"lifetimeData\\\"][\\\"matches\\\"]))\\n            winrates.append(int(player_info[\\\"lifetimeData\\\"][\\\"winRate\\\"]))\\n            kds.append(float(player_info[\\\"lifetimeData\\\"][\\\"averageKD\\\"]))\\n            hs_percents.append(int(player_info[\\\"lifetimeData\\\"][\\\"averageHS\\\"]))\\n\\n        for player_id, player_info in row[\\\"teamB\\\"].items():\\n            if player_info[\\\"lifetimeData\\\"] == None:\\n                players_id.append(0)\\n                elos.append(0)\\n                matches.append(0)\\n                winrates.append(0)\\n                kds.append(0)\\n                hs_percents.append(0)\\n                continue\\n            players_id.append(player_info[\\\"id\\\"])\\n            elos.append(player_info[\\\"elo\\\"])\\n            matches.append(int(player_info[\\\"lifetimeData\\\"][\\\"matches\\\"]))\\n            winrates.append(int(player_info[\\\"lifetimeData\\\"][\\\"winRate\\\"]))\\n            kds.append(float(player_info[\\\"lifetimeData\\\"][\\\"averageKD\\\"]))\\n            hs_percents.append(int(player_info[\\\"lifetimeData\\\"][\\\"averageHS\\\"]))\\n\\n    return (\\n        np.array(players_id),\\n        np.array(elos),\\n        np.array(matches),\\n        np.array(winrates),\\n        np.array(kds),\\n        np.array(hs_percents),\\n    )\";\n",
       "                var nbb_formatted_code = \"def get_all_players_info(data):\\n    players_id = []\\n    elos = []\\n    matches = []\\n    winrates = []\\n    kds = []\\n    hs_percents = []\\n    # add createdAt (accounts created a long time ago with few matches might be smurfs)\\n    for _, row in data.iterrows():\\n        for player_id, player_info in row[\\\"teamA\\\"].items():\\n            if player_info[\\\"lifetimeData\\\"] == None:\\n                players_id.append(0)\\n                elos.append(0)\\n                matches.append(0)\\n                winrates.append(0)\\n                kds.append(0)\\n                hs_percents.append(0)\\n                continue\\n            players_id.append(player_info[\\\"id\\\"])\\n            elos.append(player_info[\\\"elo\\\"])\\n            matches.append(int(player_info[\\\"lifetimeData\\\"][\\\"matches\\\"]))\\n            winrates.append(int(player_info[\\\"lifetimeData\\\"][\\\"winRate\\\"]))\\n            kds.append(float(player_info[\\\"lifetimeData\\\"][\\\"averageKD\\\"]))\\n            hs_percents.append(int(player_info[\\\"lifetimeData\\\"][\\\"averageHS\\\"]))\\n\\n        for player_id, player_info in row[\\\"teamB\\\"].items():\\n            if player_info[\\\"lifetimeData\\\"] == None:\\n                players_id.append(0)\\n                elos.append(0)\\n                matches.append(0)\\n                winrates.append(0)\\n                kds.append(0)\\n                hs_percents.append(0)\\n                continue\\n            players_id.append(player_info[\\\"id\\\"])\\n            elos.append(player_info[\\\"elo\\\"])\\n            matches.append(int(player_info[\\\"lifetimeData\\\"][\\\"matches\\\"]))\\n            winrates.append(int(player_info[\\\"lifetimeData\\\"][\\\"winRate\\\"]))\\n            kds.append(float(player_info[\\\"lifetimeData\\\"][\\\"averageKD\\\"]))\\n            hs_percents.append(int(player_info[\\\"lifetimeData\\\"][\\\"averageHS\\\"]))\\n\\n    return (\\n        np.array(players_id),\\n        np.array(elos),\\n        np.array(matches),\\n        np.array(winrates),\\n        np.array(kds),\\n        np.array(hs_percents),\\n    )\";\n",
       "                var nbb_cells = Jupyter.notebook.get_cells();\n",
       "                for (var i = 0; i < nbb_cells.length; ++i) {\n",
       "                    if (nbb_cells[i].input_prompt_number == nbb_cell_id) {\n",
       "                        if (nbb_cells[i].get_text() == nbb_unformatted_code) {\n",
       "                             nbb_cells[i].set_text(nbb_formatted_code);\n",
       "                        }\n",
       "                        break;\n",
       "                    }\n",
       "                }\n",
       "            }, 500);\n",
       "            "
      ],
      "text/plain": [
       "<IPython.core.display.Javascript object>"
      ]
     },
     "metadata": {},
     "output_type": "display_data"
    }
   ],
   "source": [
    "def get_all_players_info(data):\n",
    "    players_id = []\n",
    "    elos = []\n",
    "    matches = []\n",
    "    winrates = []\n",
    "    kds = []\n",
    "    hs_percents = []\n",
    "    # add createdAt (accounts created a long time ago with few matches might be smurfs)\n",
    "    for _, row in data.iterrows():\n",
    "        for player_id, player_info in row[\"teamA\"].items():\n",
    "            if player_info[\"lifetimeData\"] == None:\n",
    "                players_id.append(0)\n",
    "                elos.append(0)\n",
    "                matches.append(0)\n",
    "                winrates.append(0)\n",
    "                kds.append(0)\n",
    "                hs_percents.append(0)\n",
    "                continue\n",
    "            players_id.append(player_info[\"id\"])\n",
    "            elos.append(player_info[\"elo\"])\n",
    "            matches.append(int(player_info[\"lifetimeData\"][\"matches\"]))\n",
    "            winrates.append(int(player_info[\"lifetimeData\"][\"winRate\"]))\n",
    "            kds.append(float(player_info[\"lifetimeData\"][\"averageKD\"]))\n",
    "            hs_percents.append(int(player_info[\"lifetimeData\"][\"averageHS\"]))\n",
    "\n",
    "        for player_id, player_info in row[\"teamB\"].items():\n",
    "            if player_info[\"lifetimeData\"] == None:\n",
    "                players_id.append(0)\n",
    "                elos.append(0)\n",
    "                matches.append(0)\n",
    "                winrates.append(0)\n",
    "                kds.append(0)\n",
    "                hs_percents.append(0)\n",
    "                continue\n",
    "            players_id.append(player_info[\"id\"])\n",
    "            elos.append(player_info[\"elo\"])\n",
    "            matches.append(int(player_info[\"lifetimeData\"][\"matches\"]))\n",
    "            winrates.append(int(player_info[\"lifetimeData\"][\"winRate\"]))\n",
    "            kds.append(float(player_info[\"lifetimeData\"][\"averageKD\"]))\n",
    "            hs_percents.append(int(player_info[\"lifetimeData\"][\"averageHS\"]))\n",
    "\n",
    "    return (\n",
    "        np.array(players_id),\n",
    "        np.array(elos),\n",
    "        np.array(matches),\n",
    "        np.array(winrates),\n",
    "        np.array(kds),\n",
    "        np.array(hs_percents),\n",
    "    )"
   ]
  },
  {
   "cell_type": "code",
   "execution_count": 10,
   "metadata": {
    "ExecuteTime": {
     "end_time": "2020-02-12T16:05:23.979859Z",
     "start_time": "2020-02-12T16:05:23.602829Z"
    }
   },
   "outputs": [
    {
     "data": {
      "application/javascript": [
       "\n",
       "            setTimeout(function() {\n",
       "                var nbb_cell_id = 10;\n",
       "                var nbb_unformatted_code = \"players_id, elos, matches, winrates, kds, hs_percents = get_all_players_info(dataset)\\narray = [[elos[i], matches[i], winrates[i], kds[i]] for i in range(len(elos))]\\nX = np.array(array)\";\n",
       "                var nbb_formatted_code = \"players_id, elos, matches, winrates, kds, hs_percents = get_all_players_info(dataset)\\narray = [[elos[i], matches[i], winrates[i], kds[i]] for i in range(len(elos))]\\nX = np.array(array)\";\n",
       "                var nbb_cells = Jupyter.notebook.get_cells();\n",
       "                for (var i = 0; i < nbb_cells.length; ++i) {\n",
       "                    if (nbb_cells[i].input_prompt_number == nbb_cell_id) {\n",
       "                        if (nbb_cells[i].get_text() == nbb_unformatted_code) {\n",
       "                             nbb_cells[i].set_text(nbb_formatted_code);\n",
       "                        }\n",
       "                        break;\n",
       "                    }\n",
       "                }\n",
       "            }, 500);\n",
       "            "
      ],
      "text/plain": [
       "<IPython.core.display.Javascript object>"
      ]
     },
     "metadata": {},
     "output_type": "display_data"
    }
   ],
   "source": [
    "players_id, elos, matches, winrates, kds, hs_percents = get_all_players_info(dataset)\n",
    "array = [[elos[i], matches[i], winrates[i], kds[i]] for i in range(len(elos))]\n",
    "X = np.array(array)"
   ]
  },
  {
   "cell_type": "code",
   "execution_count": 11,
   "metadata": {
    "ExecuteTime": {
     "end_time": "2020-02-12T16:05:24.765843Z",
     "start_time": "2020-02-12T16:05:24.555965Z"
    }
   },
   "outputs": [
    {
     "data": {
      "application/javascript": [
       "\n",
       "            setTimeout(function() {\n",
       "                var nbb_cell_id = 11;\n",
       "                var nbb_unformatted_code = \"mean_winrate = mean(winrates)\\nmean_kd = mean(kds)\";\n",
       "                var nbb_formatted_code = \"mean_winrate = mean(winrates)\\nmean_kd = mean(kds)\";\n",
       "                var nbb_cells = Jupyter.notebook.get_cells();\n",
       "                for (var i = 0; i < nbb_cells.length; ++i) {\n",
       "                    if (nbb_cells[i].input_prompt_number == nbb_cell_id) {\n",
       "                        if (nbb_cells[i].get_text() == nbb_unformatted_code) {\n",
       "                             nbb_cells[i].set_text(nbb_formatted_code);\n",
       "                        }\n",
       "                        break;\n",
       "                    }\n",
       "                }\n",
       "            }, 500);\n",
       "            "
      ],
      "text/plain": [
       "<IPython.core.display.Javascript object>"
      ]
     },
     "metadata": {},
     "output_type": "display_data"
    }
   ],
   "source": [
    "mean_winrate = mean(winrates)\n",
    "mean_kd = mean(kds)"
   ]
  },
  {
   "cell_type": "code",
   "execution_count": 12,
   "metadata": {
    "ExecuteTime": {
     "end_time": "2020-02-12T16:05:25.593343Z",
     "start_time": "2020-02-12T16:05:25.299454Z"
    }
   },
   "outputs": [
    {
     "data": {
      "text/plain": [
       "LocalOutlierFactor(algorithm='auto', contamination=0.05, leaf_size=30,\n",
       "                   metric='minkowski', metric_params=None, n_jobs=None,\n",
       "                   n_neighbors=20, novelty=False, p=2)"
      ]
     },
     "execution_count": 12,
     "metadata": {},
     "output_type": "execute_result"
    },
    {
     "data": {
      "application/javascript": [
       "\n",
       "            setTimeout(function() {\n",
       "                var nbb_cell_id = 12;\n",
       "                var nbb_unformatted_code = \"lof = LocalOutlierFactor(contamination=0.05)\\nlof.fit(X)\";\n",
       "                var nbb_formatted_code = \"lof = LocalOutlierFactor(contamination=0.05)\\nlof.fit(X)\";\n",
       "                var nbb_cells = Jupyter.notebook.get_cells();\n",
       "                for (var i = 0; i < nbb_cells.length; ++i) {\n",
       "                    if (nbb_cells[i].input_prompt_number == nbb_cell_id) {\n",
       "                        if (nbb_cells[i].get_text() == nbb_unformatted_code) {\n",
       "                             nbb_cells[i].set_text(nbb_formatted_code);\n",
       "                        }\n",
       "                        break;\n",
       "                    }\n",
       "                }\n",
       "            }, 500);\n",
       "            "
      ],
      "text/plain": [
       "<IPython.core.display.Javascript object>"
      ]
     },
     "metadata": {},
     "output_type": "display_data"
    }
   ],
   "source": [
    "lof = LocalOutlierFactor(contamination=0.05)\n",
    "lof.fit(X)"
   ]
  },
  {
   "cell_type": "code",
   "execution_count": 13,
   "metadata": {
    "ExecuteTime": {
     "end_time": "2020-02-12T16:05:26.326977Z",
     "start_time": "2020-02-12T16:05:26.146558Z"
    }
   },
   "outputs": [
    {
     "data": {
      "application/javascript": [
       "\n",
       "            setTimeout(function() {\n",
       "                var nbb_cell_id = 13;\n",
       "                var nbb_unformatted_code = \"def smurf_or_cheater_prob(outlier_model):\\n    # Check if user is verified (then, it is probably a pro)\\n    transformed_outlier_factor = []\\n    for i in range(len(outlier_model.negative_outlier_factor_)):\\n        if (\\n            (outlier_model.negative_outlier_factor_[i] < -1)\\n            and (winrates[i] > mean_winrate)\\n            and (kds[i] > mean_kd)\\n        ):\\n            transformed_outlier_factor.append(\\n                math.log(-outlier_model.negative_outlier_factor_[i]) * 100\\n            )\\n        else:\\n            transformed_outlier_factor.append(0)\\n        arr = np.array(transformed_outlier_factor)\\n\\n    team_A = arr.reshape(-1, 5)[::2, :]\\n    team_B = arr.reshape(-1, 5)[1::2, :]\\n\\n    dataset[\\\"smurf_or_cheater_A\\\"] = np.mean(team_A, axis=1)\\n    dataset[\\\"smurf_or_cheater_B\\\"] = np.mean(team_B, axis=1)\\n    dataset[\\\"dif_smurf_or_cheater\\\"] = (\\n        dataset[\\\"smurf_or_cheater_A\\\"] - dataset[\\\"smurf_or_cheater_B\\\"]\\n    )\";\n",
       "                var nbb_formatted_code = \"def smurf_or_cheater_prob(outlier_model):\\n    # Check if user is verified (then, it is probably a pro)\\n    transformed_outlier_factor = []\\n    for i in range(len(outlier_model.negative_outlier_factor_)):\\n        if (\\n            (outlier_model.negative_outlier_factor_[i] < -1)\\n            and (winrates[i] > mean_winrate)\\n            and (kds[i] > mean_kd)\\n        ):\\n            transformed_outlier_factor.append(\\n                math.log(-outlier_model.negative_outlier_factor_[i]) * 100\\n            )\\n        else:\\n            transformed_outlier_factor.append(0)\\n        arr = np.array(transformed_outlier_factor)\\n\\n    team_A = arr.reshape(-1, 5)[::2, :]\\n    team_B = arr.reshape(-1, 5)[1::2, :]\\n\\n    dataset[\\\"smurf_or_cheater_A\\\"] = np.mean(team_A, axis=1)\\n    dataset[\\\"smurf_or_cheater_B\\\"] = np.mean(team_B, axis=1)\\n    dataset[\\\"dif_smurf_or_cheater\\\"] = (\\n        dataset[\\\"smurf_or_cheater_A\\\"] - dataset[\\\"smurf_or_cheater_B\\\"]\\n    )\";\n",
       "                var nbb_cells = Jupyter.notebook.get_cells();\n",
       "                for (var i = 0; i < nbb_cells.length; ++i) {\n",
       "                    if (nbb_cells[i].input_prompt_number == nbb_cell_id) {\n",
       "                        if (nbb_cells[i].get_text() == nbb_unformatted_code) {\n",
       "                             nbb_cells[i].set_text(nbb_formatted_code);\n",
       "                        }\n",
       "                        break;\n",
       "                    }\n",
       "                }\n",
       "            }, 500);\n",
       "            "
      ],
      "text/plain": [
       "<IPython.core.display.Javascript object>"
      ]
     },
     "metadata": {},
     "output_type": "display_data"
    }
   ],
   "source": [
    "def smurf_or_cheater_prob(outlier_model):\n",
    "    # Check if user is verified (then, it is probably a pro)\n",
    "    transformed_outlier_factor = []\n",
    "    for i in range(len(outlier_model.negative_outlier_factor_)):\n",
    "        if (\n",
    "            (outlier_model.negative_outlier_factor_[i] < -1)\n",
    "            and (winrates[i] > mean_winrate)\n",
    "            and (kds[i] > mean_kd)\n",
    "        ):\n",
    "            transformed_outlier_factor.append(\n",
    "                math.log(-outlier_model.negative_outlier_factor_[i]) * 100\n",
    "            )\n",
    "        else:\n",
    "            transformed_outlier_factor.append(0)\n",
    "        arr = np.array(transformed_outlier_factor)\n",
    "\n",
    "    team_A = arr.reshape(-1, 5)[::2, :]\n",
    "    team_B = arr.reshape(-1, 5)[1::2, :]\n",
    "\n",
    "    dataset[\"smurf_or_cheater_A\"] = np.mean(team_A, axis=1)\n",
    "    dataset[\"smurf_or_cheater_B\"] = np.mean(team_B, axis=1)\n",
    "    dataset[\"dif_smurf_or_cheater\"] = (\n",
    "        dataset[\"smurf_or_cheater_A\"] - dataset[\"smurf_or_cheater_B\"]\n",
    "    )"
   ]
  },
  {
   "cell_type": "code",
   "execution_count": 14,
   "metadata": {
    "ExecuteTime": {
     "end_time": "2020-02-12T16:05:32.562105Z",
     "start_time": "2020-02-12T16:05:26.914644Z"
    }
   },
   "outputs": [
    {
     "data": {
      "application/javascript": [
       "\n",
       "            setTimeout(function() {\n",
       "                var nbb_cell_id = 14;\n",
       "                var nbb_unformatted_code = \"smurf_or_cheater_prob(lof)\";\n",
       "                var nbb_formatted_code = \"smurf_or_cheater_prob(lof)\";\n",
       "                var nbb_cells = Jupyter.notebook.get_cells();\n",
       "                for (var i = 0; i < nbb_cells.length; ++i) {\n",
       "                    if (nbb_cells[i].input_prompt_number == nbb_cell_id) {\n",
       "                        if (nbb_cells[i].get_text() == nbb_unformatted_code) {\n",
       "                             nbb_cells[i].set_text(nbb_formatted_code);\n",
       "                        }\n",
       "                        break;\n",
       "                    }\n",
       "                }\n",
       "            }, 500);\n",
       "            "
      ],
      "text/plain": [
       "<IPython.core.display.Javascript object>"
      ]
     },
     "metadata": {},
     "output_type": "display_data"
    }
   ],
   "source": [
    "smurf_or_cheater_prob(lof)"
   ]
  },
  {
   "cell_type": "markdown",
   "metadata": {},
   "source": [
    "## Feature Engineering"
   ]
  },
  {
   "cell_type": "code",
   "execution_count": 15,
   "metadata": {
    "ExecuteTime": {
     "end_time": "2020-02-12T16:05:33.306799Z",
     "start_time": "2020-02-12T16:05:33.123441Z"
    }
   },
   "outputs": [
    {
     "data": {
      "application/javascript": [
       "\n",
       "            setTimeout(function() {\n",
       "                var nbb_cell_id = 15;\n",
       "                var nbb_unformatted_code = \"dataset.loc[:, \\\"unix_start_time\\\"] = (\\n    pd.to_datetime(dataset[\\\"startTime\\\"], format=date_format)\\n    .values.astype(\\\"datetime64[s]\\\")\\n    .astype(\\\"int\\\")\\n)\\ndataset.drop(columns=[\\\"startTime\\\"], inplace=True)\";\n",
       "                var nbb_formatted_code = \"dataset.loc[:, \\\"unix_start_time\\\"] = (\\n    pd.to_datetime(dataset[\\\"startTime\\\"], format=date_format)\\n    .values.astype(\\\"datetime64[s]\\\")\\n    .astype(\\\"int\\\")\\n)\\ndataset.drop(columns=[\\\"startTime\\\"], inplace=True)\";\n",
       "                var nbb_cells = Jupyter.notebook.get_cells();\n",
       "                for (var i = 0; i < nbb_cells.length; ++i) {\n",
       "                    if (nbb_cells[i].input_prompt_number == nbb_cell_id) {\n",
       "                        if (nbb_cells[i].get_text() == nbb_unformatted_code) {\n",
       "                             nbb_cells[i].set_text(nbb_formatted_code);\n",
       "                        }\n",
       "                        break;\n",
       "                    }\n",
       "                }\n",
       "            }, 500);\n",
       "            "
      ],
      "text/plain": [
       "<IPython.core.display.Javascript object>"
      ]
     },
     "metadata": {},
     "output_type": "display_data"
    }
   ],
   "source": [
    "dataset.loc[:, \"unix_start_time\"] = (\n",
    "    pd.to_datetime(dataset[\"startTime\"], format=date_format)\n",
    "    .values.astype(\"datetime64[s]\")\n",
    "    .astype(\"int\")\n",
    ")\n",
    "dataset.drop(columns=[\"startTime\"], inplace=True)"
   ]
  },
  {
   "cell_type": "code",
   "execution_count": 16,
   "metadata": {
    "ExecuteTime": {
     "end_time": "2020-02-12T16:05:40.052222Z",
     "start_time": "2020-02-12T16:05:33.858785Z"
    }
   },
   "outputs": [
    {
     "data": {
      "application/javascript": [
       "\n",
       "            setTimeout(function() {\n",
       "                var nbb_cell_id = 16;\n",
       "                var nbb_unformatted_code = \"add_features.add_all_team_features(dataset)\";\n",
       "                var nbb_formatted_code = \"add_features.add_all_team_features(dataset)\";\n",
       "                var nbb_cells = Jupyter.notebook.get_cells();\n",
       "                for (var i = 0; i < nbb_cells.length; ++i) {\n",
       "                    if (nbb_cells[i].input_prompt_number == nbb_cell_id) {\n",
       "                        if (nbb_cells[i].get_text() == nbb_unformatted_code) {\n",
       "                             nbb_cells[i].set_text(nbb_formatted_code);\n",
       "                        }\n",
       "                        break;\n",
       "                    }\n",
       "                }\n",
       "            }, 500);\n",
       "            "
      ],
      "text/plain": [
       "<IPython.core.display.Javascript object>"
      ]
     },
     "metadata": {},
     "output_type": "display_data"
    }
   ],
   "source": [
    "add_features.add_all_team_features(dataset)"
   ]
  },
  {
   "cell_type": "code",
   "execution_count": 17,
   "metadata": {
    "ExecuteTime": {
     "end_time": "2020-02-12T16:05:40.864924Z",
     "start_time": "2020-02-12T16:05:40.641313Z"
    }
   },
   "outputs": [
    {
     "data": {
      "application/javascript": [
       "\n",
       "            setTimeout(function() {\n",
       "                var nbb_cell_id = 17;\n",
       "                var nbb_unformatted_code = \"dataset.loc[:, \\\"missing_info\\\"] = dataset.apply(\\n    lambda row: add_features.get_missing_info(row), axis=1\\n).values\";\n",
       "                var nbb_formatted_code = \"dataset.loc[:, \\\"missing_info\\\"] = dataset.apply(\\n    lambda row: add_features.get_missing_info(row), axis=1\\n).values\";\n",
       "                var nbb_cells = Jupyter.notebook.get_cells();\n",
       "                for (var i = 0; i < nbb_cells.length; ++i) {\n",
       "                    if (nbb_cells[i].input_prompt_number == nbb_cell_id) {\n",
       "                        if (nbb_cells[i].get_text() == nbb_unformatted_code) {\n",
       "                             nbb_cells[i].set_text(nbb_formatted_code);\n",
       "                        }\n",
       "                        break;\n",
       "                    }\n",
       "                }\n",
       "            }, 500);\n",
       "            "
      ],
      "text/plain": [
       "<IPython.core.display.Javascript object>"
      ]
     },
     "metadata": {},
     "output_type": "display_data"
    }
   ],
   "source": [
    "dataset.loc[:, \"missing_info\"] = dataset.apply(\n",
    "    lambda row: add_features.get_missing_info(row), axis=1\n",
    ").values"
   ]
  },
  {
   "cell_type": "code",
   "execution_count": 18,
   "metadata": {
    "ExecuteTime": {
     "end_time": "2020-02-12T16:05:41.650312Z",
     "start_time": "2020-02-12T16:05:41.440872Z"
    }
   },
   "outputs": [
    {
     "data": {
      "application/javascript": [
       "\n",
       "            setTimeout(function() {\n",
       "                var nbb_cell_id = 18;\n",
       "                var nbb_unformatted_code = \"def dif_elo_prob(row):\\n    return get_elo_dif_prob(\\n        row[\\\"mean_elo_A\\\"], row[\\\"mean_elo_B\\\"], players_elo_distribution, elo_bins\\n    )\\n\\n\\ndataset.loc[:, \\\"dif_elo_prob\\\"] = dataset.apply(\\n    lambda row: dif_elo_prob(row), axis=1\\n).values\";\n",
       "                var nbb_formatted_code = \"def dif_elo_prob(row):\\n    return get_elo_dif_prob(\\n        row[\\\"mean_elo_A\\\"], row[\\\"mean_elo_B\\\"], players_elo_distribution, elo_bins\\n    )\\n\\n\\ndataset.loc[:, \\\"dif_elo_prob\\\"] = dataset.apply(\\n    lambda row: dif_elo_prob(row), axis=1\\n).values\";\n",
       "                var nbb_cells = Jupyter.notebook.get_cells();\n",
       "                for (var i = 0; i < nbb_cells.length; ++i) {\n",
       "                    if (nbb_cells[i].input_prompt_number == nbb_cell_id) {\n",
       "                        if (nbb_cells[i].get_text() == nbb_unformatted_code) {\n",
       "                             nbb_cells[i].set_text(nbb_formatted_code);\n",
       "                        }\n",
       "                        break;\n",
       "                    }\n",
       "                }\n",
       "            }, 500);\n",
       "            "
      ],
      "text/plain": [
       "<IPython.core.display.Javascript object>"
      ]
     },
     "metadata": {},
     "output_type": "display_data"
    }
   ],
   "source": [
    "def dif_elo_prob(row):\n",
    "    return get_elo_dif_prob(\n",
    "        row[\"mean_elo_A\"], row[\"mean_elo_B\"], players_elo_distribution, elo_bins\n",
    "    )\n",
    "\n",
    "\n",
    "dataset.loc[:, \"dif_elo_prob\"] = dataset.apply(\n",
    "    lambda row: dif_elo_prob(row), axis=1\n",
    ").values"
   ]
  },
  {
   "cell_type": "code",
   "execution_count": 19,
   "metadata": {
    "ExecuteTime": {
     "end_time": "2020-02-12T16:05:42.444165Z",
     "start_time": "2020-02-12T16:05:42.246693Z"
    }
   },
   "outputs": [
    {
     "data": {
      "application/javascript": [
       "\n",
       "            setTimeout(function() {\n",
       "                var nbb_cell_id = 19;\n",
       "                var nbb_unformatted_code = \"def convert_winner_to_numeric(row):\\n    winner_numeric = 0 if row[\\\"score\\\"] == \\\"faction1\\\" else 1\\n    return winner_numeric\\n\\n\\ndataset.loc[:, \\\"winner\\\"] = dataset.apply(\\n    lambda row: convert_winner_to_numeric(row), axis=1\\n).values\";\n",
       "                var nbb_formatted_code = \"def convert_winner_to_numeric(row):\\n    winner_numeric = 0 if row[\\\"score\\\"] == \\\"faction1\\\" else 1\\n    return winner_numeric\\n\\n\\ndataset.loc[:, \\\"winner\\\"] = dataset.apply(\\n    lambda row: convert_winner_to_numeric(row), axis=1\\n).values\";\n",
       "                var nbb_cells = Jupyter.notebook.get_cells();\n",
       "                for (var i = 0; i < nbb_cells.length; ++i) {\n",
       "                    if (nbb_cells[i].input_prompt_number == nbb_cell_id) {\n",
       "                        if (nbb_cells[i].get_text() == nbb_unformatted_code) {\n",
       "                             nbb_cells[i].set_text(nbb_formatted_code);\n",
       "                        }\n",
       "                        break;\n",
       "                    }\n",
       "                }\n",
       "            }, 500);\n",
       "            "
      ],
      "text/plain": [
       "<IPython.core.display.Javascript object>"
      ]
     },
     "metadata": {},
     "output_type": "display_data"
    }
   ],
   "source": [
    "def convert_winner_to_numeric(row):\n",
    "    winner_numeric = 0 if row[\"score\"] == \"faction1\" else 1\n",
    "    return winner_numeric\n",
    "\n",
    "\n",
    "dataset.loc[:, \"winner\"] = dataset.apply(\n",
    "    lambda row: convert_winner_to_numeric(row), axis=1\n",
    ").values"
   ]
  },
  {
   "cell_type": "markdown",
   "metadata": {},
   "source": [
    "### New Experimental Features\n",
    "Creation and test of new features. Once validated the correspondent function should be moved to `add_features.py`."
   ]
  },
  {
   "cell_type": "markdown",
   "metadata": {},
   "source": [
    "## Visualization"
   ]
  },
  {
   "cell_type": "code",
   "execution_count": 20,
   "metadata": {
    "ExecuteTime": {
     "end_time": "2020-02-12T16:05:43.219281Z",
     "start_time": "2020-02-12T16:05:43.046558Z"
    }
   },
   "outputs": [
    {
     "data": {
      "application/javascript": [
       "\n",
       "            setTimeout(function() {\n",
       "                var nbb_cell_id = 20;\n",
       "                var nbb_unformatted_code = \"def split_dataset_winners(dataset):\\n    return dataset[dataset[\\\"winner\\\"] == 0], dataset[dataset[\\\"winner\\\"] == 1]\\n\\n\\ndata_winner_A, data_winner_B = split_dataset_winners(dataset)\";\n",
       "                var nbb_formatted_code = \"def split_dataset_winners(dataset):\\n    return dataset[dataset[\\\"winner\\\"] == 0], dataset[dataset[\\\"winner\\\"] == 1]\\n\\n\\ndata_winner_A, data_winner_B = split_dataset_winners(dataset)\";\n",
       "                var nbb_cells = Jupyter.notebook.get_cells();\n",
       "                for (var i = 0; i < nbb_cells.length; ++i) {\n",
       "                    if (nbb_cells[i].input_prompt_number == nbb_cell_id) {\n",
       "                        if (nbb_cells[i].get_text() == nbb_unformatted_code) {\n",
       "                             nbb_cells[i].set_text(nbb_formatted_code);\n",
       "                        }\n",
       "                        break;\n",
       "                    }\n",
       "                }\n",
       "            }, 500);\n",
       "            "
      ],
      "text/plain": [
       "<IPython.core.display.Javascript object>"
      ]
     },
     "metadata": {},
     "output_type": "display_data"
    }
   ],
   "source": [
    "def split_dataset_winners(dataset):\n",
    "    return dataset[dataset[\"winner\"] == 0], dataset[dataset[\"winner\"] == 1]\n",
    "\n",
    "\n",
    "data_winner_A, data_winner_B = split_dataset_winners(dataset)"
   ]
  },
  {
   "cell_type": "code",
   "execution_count": 21,
   "metadata": {
    "ExecuteTime": {
     "end_time": "2020-02-12T16:05:44.283926Z",
     "start_time": "2020-02-12T16:05:44.104376Z"
    }
   },
   "outputs": [
    {
     "data": {
      "application/javascript": [
       "\n",
       "            setTimeout(function() {\n",
       "                var nbb_cell_id = 21;\n",
       "                var nbb_unformatted_code = \"def comp_featured_based_on_winner(feature, num_bins=100, title=None):\\n    plt.figure(figsize=(12, 6))\\n    ax = sns.distplot(\\n        data_winner_A[feature],\\n        kde=False,\\n        bins=num_bins,\\n        color=\\\"#FF5500\\\",\\n        hist_kws=dict(alpha=0.8),\\n    )\\n    print(\\\"Team A - Feature Mean Value\\\", np.mean(data_winner_A[feature]))\\n\\n    sns.distplot(\\n        data_winner_B[feature],\\n        kde=False,\\n        bins=num_bins,\\n        color=\\\"#141616\\\",\\n        hist_kws=dict(alpha=0.8),\\n        ax=ax,\\n    )\\n    print(\\\"Team B - Feature Mean Value\\\", np.mean(data_winner_B[feature]))\\n    ax.set_title(title)\\n    ax.legend([\\\"A\\\", \\\"B\\\"], title=\\\"Winner team\\\")\\n    return ax\";\n",
       "                var nbb_formatted_code = \"def comp_featured_based_on_winner(feature, num_bins=100, title=None):\\n    plt.figure(figsize=(12, 6))\\n    ax = sns.distplot(\\n        data_winner_A[feature],\\n        kde=False,\\n        bins=num_bins,\\n        color=\\\"#FF5500\\\",\\n        hist_kws=dict(alpha=0.8),\\n    )\\n    print(\\\"Team A - Feature Mean Value\\\", np.mean(data_winner_A[feature]))\\n\\n    sns.distplot(\\n        data_winner_B[feature],\\n        kde=False,\\n        bins=num_bins,\\n        color=\\\"#141616\\\",\\n        hist_kws=dict(alpha=0.8),\\n        ax=ax,\\n    )\\n    print(\\\"Team B - Feature Mean Value\\\", np.mean(data_winner_B[feature]))\\n    ax.set_title(title)\\n    ax.legend([\\\"A\\\", \\\"B\\\"], title=\\\"Winner team\\\")\\n    return ax\";\n",
       "                var nbb_cells = Jupyter.notebook.get_cells();\n",
       "                for (var i = 0; i < nbb_cells.length; ++i) {\n",
       "                    if (nbb_cells[i].input_prompt_number == nbb_cell_id) {\n",
       "                        if (nbb_cells[i].get_text() == nbb_unformatted_code) {\n",
       "                             nbb_cells[i].set_text(nbb_formatted_code);\n",
       "                        }\n",
       "                        break;\n",
       "                    }\n",
       "                }\n",
       "            }, 500);\n",
       "            "
      ],
      "text/plain": [
       "<IPython.core.display.Javascript object>"
      ]
     },
     "metadata": {},
     "output_type": "display_data"
    }
   ],
   "source": [
    "def comp_featured_based_on_winner(feature, num_bins=100, title=None):\n",
    "    plt.figure(figsize=(12, 6))\n",
    "    ax = sns.distplot(\n",
    "        data_winner_A[feature],\n",
    "        kde=False,\n",
    "        bins=num_bins,\n",
    "        color=\"#FF5500\",\n",
    "        hist_kws=dict(alpha=0.8),\n",
    "    )\n",
    "    print(\"Team A - Feature Mean Value\", np.mean(data_winner_A[feature]))\n",
    "\n",
    "    sns.distplot(\n",
    "        data_winner_B[feature],\n",
    "        kde=False,\n",
    "        bins=num_bins,\n",
    "        color=\"#141616\",\n",
    "        hist_kws=dict(alpha=0.8),\n",
    "        ax=ax,\n",
    "    )\n",
    "    print(\"Team B - Feature Mean Value\", np.mean(data_winner_B[feature]))\n",
    "    ax.set_title(title)\n",
    "    ax.legend([\"A\", \"B\"], title=\"Winner team\")\n",
    "    return ax"
   ]
  },
  {
   "cell_type": "code",
   "execution_count": 22,
   "metadata": {
    "ExecuteTime": {
     "end_time": "2020-02-12T16:05:45.690522Z",
     "start_time": "2020-02-12T16:05:45.187846Z"
    }
   },
   "outputs": [
    {
     "name": "stdout",
     "output_type": "stream",
     "text": [
      "Team A - Feature Mean Value 0.06718027734976909\n",
      "Team B - Feature Mean Value -0.6455331412103754\n"
     ]
    },
    {
     "data": {
      "image/png": "[encoded data removed]",
      "text/plain": [
       "<Figure size 864x432 with 1 Axes>"
      ]
     },
     "metadata": {
      "needs_background": "dark"
     },
     "output_type": "display_data"
    },
    {
     "data": {
      "application/javascript": [
       "\n",
       "            setTimeout(function() {\n",
       "                var nbb_cell_id = 22;\n",
       "                var nbb_unformatted_code = \"ax = comp_featured_based_on_winner(\\\"dif_mean_winrate_preference\\\", num_bins=30)\\n\\n# Configure axes limits\\n# ax.set_xlim(x_left, x_right)\\n# ax.set_ylim(y_bottom, y_top)\";\n",
       "                var nbb_formatted_code = \"ax = comp_featured_based_on_winner(\\\"dif_mean_winrate_preference\\\", num_bins=30)\\n\\n# Configure axes limits\\n# ax.set_xlim(x_left, x_right)\\n# ax.set_ylim(y_bottom, y_top)\";\n",
       "                var nbb_cells = Jupyter.notebook.get_cells();\n",
       "                for (var i = 0; i < nbb_cells.length; ++i) {\n",
       "                    if (nbb_cells[i].input_prompt_number == nbb_cell_id) {\n",
       "                        if (nbb_cells[i].get_text() == nbb_unformatted_code) {\n",
       "                             nbb_cells[i].set_text(nbb_formatted_code);\n",
       "                        }\n",
       "                        break;\n",
       "                    }\n",
       "                }\n",
       "            }, 500);\n",
       "            "
      ],
      "text/plain": [
       "<IPython.core.display.Javascript object>"
      ]
     },
     "metadata": {},
     "output_type": "display_data"
    }
   ],
   "source": [
    "ax = comp_featured_based_on_winner(\"dif_mean_winrate_preference\", num_bins=30)\n",
    "\n",
    "# Configure axes limits\n",
    "# ax.set_xlim(x_left, x_right)\n",
    "# ax.set_ylim(y_bottom, y_top)"
   ]
  },
  {
   "cell_type": "markdown",
   "metadata": {},
   "source": [
    "## Prepare data for training"
   ]
  },
  {
   "cell_type": "code",
   "execution_count": 23,
   "metadata": {
    "ExecuteTime": {
     "end_time": "2020-02-12T16:05:46.713861Z",
     "start_time": "2020-02-12T16:05:46.538300Z"
    }
   },
   "outputs": [
    {
     "data": {
      "application/javascript": [
       "\n",
       "            setTimeout(function() {\n",
       "                var nbb_cell_id = 23;\n",
       "                var nbb_unformatted_code = \"selected_cols = [\\n    \\\"dif_new_players\\\",\\n    \\\"dif_mean_matches\\\",\\n    \\\"dif_mean_matches_on_map\\\",\\n    \\\"dif_mean_winrate_on_map\\\",\\n    \\\"dif_mean_kd_on_map\\\",\\n    \\\"dif_mean_matches_preference\\\",\\n    \\\"dif_mean_winrate_preference\\\",\\n    \\\"dif_mean_kd_preference\\\",\\n    \\\"dif_mean_elo\\\",\\n    \\\"dif_stddev_elo\\\",\\n    \\\"dif_paid_memberships\\\",\\n    \\\"dif_solo_players\\\",\\n    \\\"dif_num_parties\\\",\\n    \\\"dif_mean_matches_on_map_prev\\\",\\n    \\\"dif_mean_winrate_prev\\\",\\n    \\\"dif_multikills_prev\\\",\\n    \\\"dif_mean_assists_prev\\\",\\n    \\\"dif_mean_kd_prev\\\",\\n    \\\"dif_mean_time_prev\\\",\\n    \\\"dif_delta_mean_elo_prev\\\",\\n    \\\"dif_smurf_or_cheater\\\",\\n    \\\"dif_max_time_prev\\\",\\n    \\\"dif_elo_prob\\\",\\n    \\\"dif_first_match\\\",\\n    \\\"dif_mean_time_created_at\\\",\\n    \\\"dif_stddev_time_created_at\\\",\\n    \\\"dif_min_time_created_at\\\",\\n    \\\"dif_mean_matches_today\\\",\\n    \\\"dif_played_map_today\\\",\\n    \\\"dif_have_played_together_prev\\\",\\n    \\\"winner\\\",\\n]\\n\\ndata_processed = dataset[selected_cols]\\ndata_label = data_processed[\\\"winner\\\"]\\ndata_features = data_processed.drop(columns=[\\\"winner\\\"])\";\n",
       "                var nbb_formatted_code = \"selected_cols = [\\n    \\\"dif_new_players\\\",\\n    \\\"dif_mean_matches\\\",\\n    \\\"dif_mean_matches_on_map\\\",\\n    \\\"dif_mean_winrate_on_map\\\",\\n    \\\"dif_mean_kd_on_map\\\",\\n    \\\"dif_mean_matches_preference\\\",\\n    \\\"dif_mean_winrate_preference\\\",\\n    \\\"dif_mean_kd_preference\\\",\\n    \\\"dif_mean_elo\\\",\\n    \\\"dif_stddev_elo\\\",\\n    \\\"dif_paid_memberships\\\",\\n    \\\"dif_solo_players\\\",\\n    \\\"dif_num_parties\\\",\\n    \\\"dif_mean_matches_on_map_prev\\\",\\n    \\\"dif_mean_winrate_prev\\\",\\n    \\\"dif_multikills_prev\\\",\\n    \\\"dif_mean_assists_prev\\\",\\n    \\\"dif_mean_kd_prev\\\",\\n    \\\"dif_mean_time_prev\\\",\\n    \\\"dif_delta_mean_elo_prev\\\",\\n    \\\"dif_smurf_or_cheater\\\",\\n    \\\"dif_max_time_prev\\\",\\n    \\\"dif_elo_prob\\\",\\n    \\\"dif_first_match\\\",\\n    \\\"dif_mean_time_created_at\\\",\\n    \\\"dif_stddev_time_created_at\\\",\\n    \\\"dif_min_time_created_at\\\",\\n    \\\"dif_mean_matches_today\\\",\\n    \\\"dif_played_map_today\\\",\\n    \\\"dif_have_played_together_prev\\\",\\n    \\\"winner\\\",\\n]\\n\\ndata_processed = dataset[selected_cols]\\ndata_label = data_processed[\\\"winner\\\"]\\ndata_features = data_processed.drop(columns=[\\\"winner\\\"])\";\n",
       "                var nbb_cells = Jupyter.notebook.get_cells();\n",
       "                for (var i = 0; i < nbb_cells.length; ++i) {\n",
       "                    if (nbb_cells[i].input_prompt_number == nbb_cell_id) {\n",
       "                        if (nbb_cells[i].get_text() == nbb_unformatted_code) {\n",
       "                             nbb_cells[i].set_text(nbb_formatted_code);\n",
       "                        }\n",
       "                        break;\n",
       "                    }\n",
       "                }\n",
       "            }, 500);\n",
       "            "
      ],
      "text/plain": [
       "<IPython.core.display.Javascript object>"
      ]
     },
     "metadata": {},
     "output_type": "display_data"
    }
   ],
   "source": [
    "selected_cols = [\n",
    "    \"dif_new_players\",\n",
    "    \"dif_mean_matches\",\n",
    "    \"dif_mean_matches_on_map\",\n",
    "    \"dif_mean_winrate_on_map\",\n",
    "    \"dif_mean_kd_on_map\",\n",
    "    \"dif_mean_matches_preference\",\n",
    "    \"dif_mean_winrate_preference\",\n",
    "    \"dif_mean_kd_preference\",\n",
    "    \"dif_mean_elo\",\n",
    "    \"dif_stddev_elo\",\n",
    "    \"dif_paid_memberships\",\n",
    "    \"dif_solo_players\",\n",
    "    \"dif_num_parties\",\n",
    "    \"dif_mean_matches_on_map_prev\",\n",
    "    \"dif_mean_winrate_prev\",\n",
    "    \"dif_multikills_prev\",\n",
    "    \"dif_mean_assists_prev\",\n",
    "    \"dif_mean_kd_prev\",\n",
    "    \"dif_mean_time_prev\",\n",
    "    \"dif_delta_mean_elo_prev\",\n",
    "    \"dif_smurf_or_cheater\",\n",
    "    \"dif_max_time_prev\",\n",
    "    \"dif_elo_prob\",\n",
    "    \"dif_first_match\",\n",
    "    \"dif_mean_time_created_at\",\n",
    "    \"dif_stddev_time_created_at\",\n",
    "    \"dif_min_time_created_at\",\n",
    "    \"dif_mean_matches_today\",\n",
    "    \"dif_played_map_today\",\n",
    "    \"dif_have_played_together_prev\",\n",
    "    \"winner\",\n",
    "]\n",
    "\n",
    "data_processed = dataset[selected_cols]\n",
    "data_label = data_processed[\"winner\"]\n",
    "data_features = data_processed.drop(columns=[\"winner\"])"
   ]
  },
  {
   "cell_type": "code",
   "execution_count": 38,
   "metadata": {
    "ExecuteTime": {
     "end_time": "2020-02-12T16:11:32.889554Z",
     "start_time": "2020-02-12T16:11:31.959706Z"
    }
   },
   "outputs": [
    {
     "data": {
      "application/javascript": [
       "\n",
       "            setTimeout(function() {\n",
       "                var nbb_cell_id = 38;\n",
       "                var nbb_unformatted_code = \"data_processed.to_csv(\\\"small_data_processed.csv\\\")\";\n",
       "                var nbb_formatted_code = \"data_processed.to_csv(\\\"small_data_processed.csv\\\")\";\n",
       "                var nbb_cells = Jupyter.notebook.get_cells();\n",
       "                for (var i = 0; i < nbb_cells.length; ++i) {\n",
       "                    if (nbb_cells[i].input_prompt_number == nbb_cell_id) {\n",
       "                        if (nbb_cells[i].get_text() == nbb_unformatted_code) {\n",
       "                             nbb_cells[i].set_text(nbb_formatted_code);\n",
       "                        }\n",
       "                        break;\n",
       "                    }\n",
       "                }\n",
       "            }, 500);\n",
       "            "
      ],
      "text/plain": [
       "<IPython.core.display.Javascript object>"
      ]
     },
     "metadata": {},
     "output_type": "display_data"
    }
   ],
   "source": [
    "data_processed.to_csv(\"small_data_processed.csv\")"
   ]
  },
  {
   "cell_type": "markdown",
   "metadata": {},
   "source": [
    "# Baseline\n",
    "Show graphs and stats here"
   ]
  },
  {
   "cell_type": "markdown",
   "metadata": {},
   "source": [
    "## Model"
   ]
  },
  {
   "cell_type": "code",
   "execution_count": 24,
   "metadata": {
    "ExecuteTime": {
     "end_time": "2020-02-12T16:05:47.844850Z",
     "start_time": "2020-02-12T16:05:47.671252Z"
    }
   },
   "outputs": [
    {
     "data": {
      "application/javascript": [
       "\n",
       "            setTimeout(function() {\n",
       "                var nbb_cell_id = 24;\n",
       "                var nbb_unformatted_code = \"X_train, X_test, y_train, y_test = train_test_split(\\n    data_features, data_label, test_size=0.3, random_state=42\\n)\";\n",
       "                var nbb_formatted_code = \"X_train, X_test, y_train, y_test = train_test_split(\\n    data_features, data_label, test_size=0.3, random_state=42\\n)\";\n",
       "                var nbb_cells = Jupyter.notebook.get_cells();\n",
       "                for (var i = 0; i < nbb_cells.length; ++i) {\n",
       "                    if (nbb_cells[i].input_prompt_number == nbb_cell_id) {\n",
       "                        if (nbb_cells[i].get_text() == nbb_unformatted_code) {\n",
       "                             nbb_cells[i].set_text(nbb_formatted_code);\n",
       "                        }\n",
       "                        break;\n",
       "                    }\n",
       "                }\n",
       "            }, 500);\n",
       "            "
      ],
      "text/plain": [
       "<IPython.core.display.Javascript object>"
      ]
     },
     "metadata": {},
     "output_type": "display_data"
    }
   ],
   "source": [
    "X_train, X_test, y_train, y_test = train_test_split(\n",
    "    data_features, data_label, test_size=0.3, random_state=42\n",
    ")"
   ]
  },
  {
   "cell_type": "code",
   "execution_count": 25,
   "metadata": {
    "ExecuteTime": {
     "end_time": "2020-02-12T16:05:49.120719Z",
     "start_time": "2020-02-12T16:05:48.954133Z"
    }
   },
   "outputs": [
    {
     "data": {
      "application/javascript": [
       "\n",
       "            setTimeout(function() {\n",
       "                var nbb_cell_id = 25;\n",
       "                var nbb_unformatted_code = \"# Baseline model: Random Forest with default parameters\\nrf = RandomForestClassifier()\";\n",
       "                var nbb_formatted_code = \"# Baseline model: Random Forest with default parameters\\nrf = RandomForestClassifier()\";\n",
       "                var nbb_cells = Jupyter.notebook.get_cells();\n",
       "                for (var i = 0; i < nbb_cells.length; ++i) {\n",
       "                    if (nbb_cells[i].input_prompt_number == nbb_cell_id) {\n",
       "                        if (nbb_cells[i].get_text() == nbb_unformatted_code) {\n",
       "                             nbb_cells[i].set_text(nbb_formatted_code);\n",
       "                        }\n",
       "                        break;\n",
       "                    }\n",
       "                }\n",
       "            }, 500);\n",
       "            "
      ],
      "text/plain": [
       "<IPython.core.display.Javascript object>"
      ]
     },
     "metadata": {},
     "output_type": "display_data"
    }
   ],
   "source": [
    "# Baseline model: Random Forest with default parameters\n",
    "rf = RandomForestClassifier()"
   ]
  },
  {
   "cell_type": "code",
   "execution_count": 26,
   "metadata": {
    "ExecuteTime": {
     "end_time": "2020-02-12T16:05:50.274218Z",
     "start_time": "2020-02-12T16:05:50.109658Z"
    }
   },
   "outputs": [
    {
     "data": {
      "application/javascript": [
       "\n",
       "            setTimeout(function() {\n",
       "                var nbb_cell_id = 26;\n",
       "                var nbb_unformatted_code = \"# Alternative Baseline Model with slightly better performance\\n# rf = RandomForestClassifier(n_estimators=1500,\\n#                             max_features= 0.3,\\n#                             max_depth=7,\\n#                             min_samples_leaf=0.005,\\n#                             random_state=41)\";\n",
       "                var nbb_formatted_code = \"# Alternative Baseline Model with slightly better performance\\n# rf = RandomForestClassifier(n_estimators=1500,\\n#                             max_features= 0.3,\\n#                             max_depth=7,\\n#                             min_samples_leaf=0.005,\\n#                             random_state=41)\";\n",
       "                var nbb_cells = Jupyter.notebook.get_cells();\n",
       "                for (var i = 0; i < nbb_cells.length; ++i) {\n",
       "                    if (nbb_cells[i].input_prompt_number == nbb_cell_id) {\n",
       "                        if (nbb_cells[i].get_text() == nbb_unformatted_code) {\n",
       "                             nbb_cells[i].set_text(nbb_formatted_code);\n",
       "                        }\n",
       "                        break;\n",
       "                    }\n",
       "                }\n",
       "            }, 500);\n",
       "            "
      ],
      "text/plain": [
       "<IPython.core.display.Javascript object>"
      ]
     },
     "metadata": {},
     "output_type": "display_data"
    }
   ],
   "source": [
    "# Alternative Baseline Model with slightly better performance\n",
    "# rf = RandomForestClassifier(n_estimators=1500,\n",
    "#                             max_features= 0.3,\n",
    "#                             max_depth=7,\n",
    "#                             min_samples_leaf=0.005,\n",
    "#                             random_state=41)"
   ]
  },
  {
   "cell_type": "code",
   "execution_count": 27,
   "metadata": {
    "ExecuteTime": {
     "end_time": "2020-02-12T16:05:51.796255Z",
     "start_time": "2020-02-12T16:05:51.334035Z"
    }
   },
   "outputs": [
    {
     "data": {
      "text/plain": [
       "RandomForestClassifier(bootstrap=True, ccp_alpha=0.0, class_weight=None,\n",
       "                       criterion='gini', max_depth=None, max_features='auto',\n",
       "                       max_leaf_nodes=None, max_samples=None,\n",
       "                       min_impurity_decrease=0.0, min_impurity_split=None,\n",
       "                       min_samples_leaf=1, min_samples_split=2,\n",
       "                       min_weight_fraction_leaf=0.0, n_estimators=100,\n",
       "                       n_jobs=None, oob_score=False, random_state=None,\n",
       "                       verbose=0, warm_start=False)"
      ]
     },
     "execution_count": 27,
     "metadata": {},
     "output_type": "execute_result"
    },
    {
     "data": {
      "application/javascript": [
       "\n",
       "            setTimeout(function() {\n",
       "                var nbb_cell_id = 27;\n",
       "                var nbb_unformatted_code = \"rf.fit(X_train, y_train)\";\n",
       "                var nbb_formatted_code = \"rf.fit(X_train, y_train)\";\n",
       "                var nbb_cells = Jupyter.notebook.get_cells();\n",
       "                for (var i = 0; i < nbb_cells.length; ++i) {\n",
       "                    if (nbb_cells[i].input_prompt_number == nbb_cell_id) {\n",
       "                        if (nbb_cells[i].get_text() == nbb_unformatted_code) {\n",
       "                             nbb_cells[i].set_text(nbb_formatted_code);\n",
       "                        }\n",
       "                        break;\n",
       "                    }\n",
       "                }\n",
       "            }, 500);\n",
       "            "
      ],
      "text/plain": [
       "<IPython.core.display.Javascript object>"
      ]
     },
     "metadata": {},
     "output_type": "display_data"
    }
   ],
   "source": [
    "rf.fit(X_train, y_train)"
   ]
  },
  {
   "cell_type": "markdown",
   "metadata": {},
   "source": [
    "## Evaluation"
   ]
  },
  {
   "cell_type": "code",
   "execution_count": 28,
   "metadata": {
    "ExecuteTime": {
     "end_time": "2020-02-12T16:05:52.984127Z",
     "start_time": "2020-02-12T16:05:52.818051Z"
    }
   },
   "outputs": [
    {
     "data": {
      "application/javascript": [
       "\n",
       "            setTimeout(function() {\n",
       "                var nbb_cell_id = 28;\n",
       "                var nbb_unformatted_code = \"def print_metrics(model, X_train, y_train, X_test, y_test):\\n    print(\\\"Model Score (Mean accuracy on test data)\\\", model.score(X_test, y_test))\\n    pred = model.predict(X_test)\\n    print(\\\"\\\\nClassification Report\\\")\\n    print(classification_report(y_test, pred))\\n    roc_graph = plot_roc_curve(model, X_test, y_test)\";\n",
       "                var nbb_formatted_code = \"def print_metrics(model, X_train, y_train, X_test, y_test):\\n    print(\\\"Model Score (Mean accuracy on test data)\\\", model.score(X_test, y_test))\\n    pred = model.predict(X_test)\\n    print(\\\"\\\\nClassification Report\\\")\\n    print(classification_report(y_test, pred))\\n    roc_graph = plot_roc_curve(model, X_test, y_test)\";\n",
       "                var nbb_cells = Jupyter.notebook.get_cells();\n",
       "                for (var i = 0; i < nbb_cells.length; ++i) {\n",
       "                    if (nbb_cells[i].input_prompt_number == nbb_cell_id) {\n",
       "                        if (nbb_cells[i].get_text() == nbb_unformatted_code) {\n",
       "                             nbb_cells[i].set_text(nbb_formatted_code);\n",
       "                        }\n",
       "                        break;\n",
       "                    }\n",
       "                }\n",
       "            }, 500);\n",
       "            "
      ],
      "text/plain": [
       "<IPython.core.display.Javascript object>"
      ]
     },
     "metadata": {},
     "output_type": "display_data"
    }
   ],
   "source": [
    "def print_metrics(model, X_train, y_train, X_test, y_test):\n",
    "    print(\"Model Score (Mean accuracy on test data)\", model.score(X_test, y_test))\n",
    "    pred = model.predict(X_test)\n",
    "    print(\"\\nClassification Report\")\n",
    "    print(classification_report(y_test, pred))\n",
    "    roc_graph = plot_roc_curve(model, X_test, y_test)"
   ]
  },
  {
   "cell_type": "code",
   "execution_count": 29,
   "metadata": {
    "ExecuteTime": {
     "end_time": "2020-02-12T16:05:54.473853Z",
     "start_time": "2020-02-12T16:05:54.048403Z"
    }
   },
   "outputs": [
    {
     "name": "stdout",
     "output_type": "stream",
     "text": [
      "Model Score (Mean accuracy on test data) 0.5707196029776674\n",
      "\n",
      "Classification Report\n",
      "              precision    recall  f1-score   support\n",
      "\n",
      "           0       0.54      0.57      0.56       189\n",
      "           1       0.60      0.57      0.59       214\n",
      "\n",
      "    accuracy                           0.57       403\n",
      "   macro avg       0.57      0.57      0.57       403\n",
      "weighted avg       0.57      0.57      0.57       403\n",
      "\n"
     ]
    },
    {
     "data": {
      "image/png": "[encoded data removed]",
      "text/plain": [
       "<Figure size 432x288 with 1 Axes>"
      ]
     },
     "metadata": {
      "needs_background": "dark"
     },
     "output_type": "display_data"
    },
    {
     "data": {
      "application/javascript": [
       "\n",
       "            setTimeout(function() {\n",
       "                var nbb_cell_id = 29;\n",
       "                var nbb_unformatted_code = \"print_metrics(rf, X_train, y_train, X_test, y_test)\";\n",
       "                var nbb_formatted_code = \"print_metrics(rf, X_train, y_train, X_test, y_test)\";\n",
       "                var nbb_cells = Jupyter.notebook.get_cells();\n",
       "                for (var i = 0; i < nbb_cells.length; ++i) {\n",
       "                    if (nbb_cells[i].input_prompt_number == nbb_cell_id) {\n",
       "                        if (nbb_cells[i].get_text() == nbb_unformatted_code) {\n",
       "                             nbb_cells[i].set_text(nbb_formatted_code);\n",
       "                        }\n",
       "                        break;\n",
       "                    }\n",
       "                }\n",
       "            }, 500);\n",
       "            "
      ],
      "text/plain": [
       "<IPython.core.display.Javascript object>"
      ]
     },
     "metadata": {},
     "output_type": "display_data"
    }
   ],
   "source": [
    "print_metrics(rf, X_train, y_train, X_test, y_test)"
   ]
  },
  {
   "cell_type": "code",
   "execution_count": 36,
   "metadata": {
    "lines_to_next_cell": 2
   },
   "outputs": [
    {
     "data": {
      "text/plain": [
       "<Figure size 1440x1440 with 0 Axes>"
      ]
     },
     "execution_count": 36,
     "metadata": {},
     "output_type": "execute_result"
    },
    {
     "data": {
      "text/plain": [
       "(31.0, 0.0)"
      ]
     },
     "execution_count": 36,
     "metadata": {},
     "output_type": "execute_result"
    },
    {
     "data": {
      "image/png": "[encoded data removed]",
      "text/plain": [
       "<Figure size 1440x1440 with 1 Axes>"
      ]
     },
     "metadata": {
      "needs_background": "dark"
     },
     "output_type": "display_data"
    },
    {
     "data": {
      "application/javascript": [
       "\n",
       "            setTimeout(function() {\n",
       "                var nbb_cell_id = 36;\n",
       "                var nbb_unformatted_code = \"# Displays the correlation matrix regarding the features present in dataset\\ncorr_mat = data_processed.corr()\\nplt.figure(figsize=(20,20))\\nax = sns.heatmap(corr_mat, annot=True, cbar=False, annot_kws={\\\"size\\\": 10})\\nbottom, top = ax.get_ylim()\\nax.set_ylim(bottom + 0.5, top - 0.5)\";\n",
       "                var nbb_formatted_code = \"# Displays the correlation matrix regarding the features present in dataset\\ncorr_mat = data_processed.corr()\\nplt.figure(figsize=(20, 20))\\nax = sns.heatmap(corr_mat, annot=True, cbar=False, annot_kws={\\\"size\\\": 10})\\nbottom, top = ax.get_ylim()\\nax.set_ylim(bottom + 0.5, top - 0.5)\";\n",
       "                var nbb_cells = Jupyter.notebook.get_cells();\n",
       "                for (var i = 0; i < nbb_cells.length; ++i) {\n",
       "                    if (nbb_cells[i].input_prompt_number == nbb_cell_id) {\n",
       "                        if (nbb_cells[i].get_text() == nbb_unformatted_code) {\n",
       "                             nbb_cells[i].set_text(nbb_formatted_code);\n",
       "                        }\n",
       "                        break;\n",
       "                    }\n",
       "                }\n",
       "            }, 500);\n",
       "            "
      ],
      "text/plain": [
       "<IPython.core.display.Javascript object>"
      ]
     },
     "metadata": {},
     "output_type": "display_data"
    }
   ],
   "source": [
    "# Displays the correlation matrix regarding the features present in dataset\n",
    "corr_mat = data_processed.corr()\n",
    "plt.figure(figsize=(20, 20))\n",
    "ax = sns.heatmap(corr_mat, annot=True, cbar=False, annot_kws={\"size\": 10})\n",
    "bottom, top = ax.get_ylim()\n",
    "ax.set_ylim(bottom + 0.5, top - 0.5)"
   ]
  },
  {
   "cell_type": "code",
   "execution_count": 37,
   "metadata": {},
   "outputs": [
    {
     "data": {
      "text/html": [
       "<div>\n",
       "<style scoped>\n",
       "    .dataframe tbody tr th:only-of-type {\n",
       "        vertical-align: middle;\n",
       "    }\n",
       "\n",
       "    .dataframe tbody tr th {\n",
       "        vertical-align: top;\n",
       "    }\n",
       "\n",
       "    .dataframe thead th {\n",
       "        text-align: right;\n",
       "    }\n",
       "</style>\n",
       "<table border=\"1\" class=\"dataframe\">\n",
       "  <thead>\n",
       "    <tr style=\"text-align: right;\">\n",
       "      <th></th>\n",
       "      <th>feature_name</th>\n",
       "      <th>mean_importance</th>\n",
       "      <th>stddev_importance</th>\n",
       "    </tr>\n",
       "  </thead>\n",
       "  <tbody>\n",
       "    <tr>\n",
       "      <th>0</th>\n",
       "      <td>dif_mean_kd_on_map</td>\n",
       "      <td>0.011815</td>\n",
       "      <td>0.001732</td>\n",
       "    </tr>\n",
       "    <tr>\n",
       "      <th>1</th>\n",
       "      <td>dif_mean_kd_prev</td>\n",
       "      <td>0.004511</td>\n",
       "      <td>0.001579</td>\n",
       "    </tr>\n",
       "    <tr>\n",
       "      <th>2</th>\n",
       "      <td>dif_stddev_elo</td>\n",
       "      <td>0.002578</td>\n",
       "      <td>0.001376</td>\n",
       "    </tr>\n",
       "    <tr>\n",
       "      <th>3</th>\n",
       "      <td>dif_mean_elo</td>\n",
       "      <td>0.001933</td>\n",
       "      <td>0.001052</td>\n",
       "    </tr>\n",
       "    <tr>\n",
       "      <th>4</th>\n",
       "      <td>dif_mean_winrate_prev</td>\n",
       "      <td>0.000752</td>\n",
       "      <td>0.000492</td>\n",
       "    </tr>\n",
       "    <tr>\n",
       "      <th>5</th>\n",
       "      <td>dif_stddev_time_created_at</td>\n",
       "      <td>0.000537</td>\n",
       "      <td>0.000721</td>\n",
       "    </tr>\n",
       "    <tr>\n",
       "      <th>6</th>\n",
       "      <td>dif_mean_matches_preference</td>\n",
       "      <td>0.000430</td>\n",
       "      <td>0.000526</td>\n",
       "    </tr>\n",
       "    <tr>\n",
       "      <th>7</th>\n",
       "      <td>dif_mean_matches_on_map_prev</td>\n",
       "      <td>0.000322</td>\n",
       "      <td>0.000492</td>\n",
       "    </tr>\n",
       "    <tr>\n",
       "      <th>8</th>\n",
       "      <td>dif_paid_memberships</td>\n",
       "      <td>0.000215</td>\n",
       "      <td>0.000430</td>\n",
       "    </tr>\n",
       "    <tr>\n",
       "      <th>9</th>\n",
       "      <td>dif_mean_time_created_at</td>\n",
       "      <td>0.000215</td>\n",
       "      <td>0.000430</td>\n",
       "    </tr>\n",
       "    <tr>\n",
       "      <th>10</th>\n",
       "      <td>dif_new_players</td>\n",
       "      <td>0.000000</td>\n",
       "      <td>0.000000</td>\n",
       "    </tr>\n",
       "    <tr>\n",
       "      <th>11</th>\n",
       "      <td>dif_mean_matches</td>\n",
       "      <td>0.000000</td>\n",
       "      <td>0.000000</td>\n",
       "    </tr>\n",
       "    <tr>\n",
       "      <th>12</th>\n",
       "      <td>dif_mean_matches_on_map</td>\n",
       "      <td>0.000000</td>\n",
       "      <td>0.000000</td>\n",
       "    </tr>\n",
       "    <tr>\n",
       "      <th>13</th>\n",
       "      <td>dif_mean_winrate_on_map</td>\n",
       "      <td>0.000000</td>\n",
       "      <td>0.000000</td>\n",
       "    </tr>\n",
       "    <tr>\n",
       "      <th>14</th>\n",
       "      <td>dif_mean_winrate_preference</td>\n",
       "      <td>0.000000</td>\n",
       "      <td>0.000000</td>\n",
       "    </tr>\n",
       "    <tr>\n",
       "      <th>15</th>\n",
       "      <td>dif_mean_kd_preference</td>\n",
       "      <td>0.000000</td>\n",
       "      <td>0.000000</td>\n",
       "    </tr>\n",
       "    <tr>\n",
       "      <th>16</th>\n",
       "      <td>dif_solo_players</td>\n",
       "      <td>0.000000</td>\n",
       "      <td>0.000000</td>\n",
       "    </tr>\n",
       "    <tr>\n",
       "      <th>17</th>\n",
       "      <td>dif_num_parties</td>\n",
       "      <td>0.000000</td>\n",
       "      <td>0.000000</td>\n",
       "    </tr>\n",
       "    <tr>\n",
       "      <th>18</th>\n",
       "      <td>dif_multikills_prev</td>\n",
       "      <td>0.000000</td>\n",
       "      <td>0.000000</td>\n",
       "    </tr>\n",
       "    <tr>\n",
       "      <th>19</th>\n",
       "      <td>dif_mean_assists_prev</td>\n",
       "      <td>0.000000</td>\n",
       "      <td>0.000000</td>\n",
       "    </tr>\n",
       "    <tr>\n",
       "      <th>20</th>\n",
       "      <td>dif_mean_time_prev</td>\n",
       "      <td>0.000000</td>\n",
       "      <td>0.000000</td>\n",
       "    </tr>\n",
       "    <tr>\n",
       "      <th>21</th>\n",
       "      <td>dif_delta_mean_elo_prev</td>\n",
       "      <td>0.000000</td>\n",
       "      <td>0.000000</td>\n",
       "    </tr>\n",
       "    <tr>\n",
       "      <th>22</th>\n",
       "      <td>dif_smurf_or_cheater</td>\n",
       "      <td>0.000000</td>\n",
       "      <td>0.000000</td>\n",
       "    </tr>\n",
       "    <tr>\n",
       "      <th>23</th>\n",
       "      <td>dif_max_time_prev</td>\n",
       "      <td>0.000000</td>\n",
       "      <td>0.000000</td>\n",
       "    </tr>\n",
       "    <tr>\n",
       "      <th>24</th>\n",
       "      <td>dif_elo_prob</td>\n",
       "      <td>0.000000</td>\n",
       "      <td>0.000000</td>\n",
       "    </tr>\n",
       "    <tr>\n",
       "      <th>25</th>\n",
       "      <td>dif_first_match</td>\n",
       "      <td>0.000000</td>\n",
       "      <td>0.000000</td>\n",
       "    </tr>\n",
       "    <tr>\n",
       "      <th>26</th>\n",
       "      <td>dif_min_time_created_at</td>\n",
       "      <td>0.000000</td>\n",
       "      <td>0.000000</td>\n",
       "    </tr>\n",
       "    <tr>\n",
       "      <th>27</th>\n",
       "      <td>dif_mean_matches_today</td>\n",
       "      <td>0.000000</td>\n",
       "      <td>0.000000</td>\n",
       "    </tr>\n",
       "    <tr>\n",
       "      <th>28</th>\n",
       "      <td>dif_played_map_today</td>\n",
       "      <td>0.000000</td>\n",
       "      <td>0.000000</td>\n",
       "    </tr>\n",
       "    <tr>\n",
       "      <th>29</th>\n",
       "      <td>dif_have_played_together_prev</td>\n",
       "      <td>0.000000</td>\n",
       "      <td>0.000000</td>\n",
       "    </tr>\n",
       "  </tbody>\n",
       "</table>\n",
       "</div>"
      ],
      "text/plain": [
       "                     feature_name  mean_importance  stddev_importance\n",
       "0              dif_mean_kd_on_map         0.011815           0.001732\n",
       "1                dif_mean_kd_prev         0.004511           0.001579\n",
       "2                  dif_stddev_elo         0.002578           0.001376\n",
       "3                    dif_mean_elo         0.001933           0.001052\n",
       "4           dif_mean_winrate_prev         0.000752           0.000492\n",
       "5      dif_stddev_time_created_at         0.000537           0.000721\n",
       "6     dif_mean_matches_preference         0.000430           0.000526\n",
       "7    dif_mean_matches_on_map_prev         0.000322           0.000492\n",
       "8            dif_paid_memberships         0.000215           0.000430\n",
       "9        dif_mean_time_created_at         0.000215           0.000430\n",
       "10                dif_new_players         0.000000           0.000000\n",
       "11               dif_mean_matches         0.000000           0.000000\n",
       "12        dif_mean_matches_on_map         0.000000           0.000000\n",
       "13        dif_mean_winrate_on_map         0.000000           0.000000\n",
       "14    dif_mean_winrate_preference         0.000000           0.000000\n",
       "15         dif_mean_kd_preference         0.000000           0.000000\n",
       "16               dif_solo_players         0.000000           0.000000\n",
       "17                dif_num_parties         0.000000           0.000000\n",
       "18            dif_multikills_prev         0.000000           0.000000\n",
       "19          dif_mean_assists_prev         0.000000           0.000000\n",
       "20             dif_mean_time_prev         0.000000           0.000000\n",
       "21        dif_delta_mean_elo_prev         0.000000           0.000000\n",
       "22           dif_smurf_or_cheater         0.000000           0.000000\n",
       "23              dif_max_time_prev         0.000000           0.000000\n",
       "24                   dif_elo_prob         0.000000           0.000000\n",
       "25                dif_first_match         0.000000           0.000000\n",
       "26        dif_min_time_created_at         0.000000           0.000000\n",
       "27         dif_mean_matches_today         0.000000           0.000000\n",
       "28           dif_played_map_today         0.000000           0.000000\n",
       "29  dif_have_played_together_prev         0.000000           0.000000"
      ]
     },
     "execution_count": 37,
     "metadata": {},
     "output_type": "execute_result"
    },
    {
     "data": {
      "application/javascript": [
       "\n",
       "            setTimeout(function() {\n",
       "                var nbb_cell_id = 37;\n",
       "                var nbb_unformatted_code = \"permutation_info = permutation_importance(rf, X_train, y_train, n_repeats=10, random_state=0, n_jobs=-1)\\n\\nfeatures_info = list(zip(X_train.columns,\\n                         permutation_info['importances_mean'],\\n                         permutation_info['importances_std']))\\n\\n# Sort by descending mean feature importance\\nfeatures_info = sorted(features_info, key=lambda feature: feature[1], reverse=True)\\n\\nfeatures_imp_df = pd.DataFrame(features_info, columns =['feature_name',\\n                                                        'mean_importance',\\n                                                        'stddev_importance'])\\n\\nfeatures_imp_df.head(40)\";\n",
       "                var nbb_formatted_code = \"permutation_info = permutation_importance(\\n    rf, X_train, y_train, n_repeats=10, random_state=0, n_jobs=-1\\n)\\n\\nfeatures_info = list(\\n    zip(\\n        X_train.columns,\\n        permutation_info[\\\"importances_mean\\\"],\\n        permutation_info[\\\"importances_std\\\"],\\n    )\\n)\\n\\n# Sort by descending mean feature importance\\nfeatures_info = sorted(features_info, key=lambda feature: feature[1], reverse=True)\\n\\nfeatures_imp_df = pd.DataFrame(\\n    features_info, columns=[\\\"feature_name\\\", \\\"mean_importance\\\", \\\"stddev_importance\\\"]\\n)\\n\\nfeatures_imp_df.head(40)\";\n",
       "                var nbb_cells = Jupyter.notebook.get_cells();\n",
       "                for (var i = 0; i < nbb_cells.length; ++i) {\n",
       "                    if (nbb_cells[i].input_prompt_number == nbb_cell_id) {\n",
       "                        if (nbb_cells[i].get_text() == nbb_unformatted_code) {\n",
       "                             nbb_cells[i].set_text(nbb_formatted_code);\n",
       "                        }\n",
       "                        break;\n",
       "                    }\n",
       "                }\n",
       "            }, 500);\n",
       "            "
      ],
      "text/plain": [
       "<IPython.core.display.Javascript object>"
      ]
     },
     "metadata": {},
     "output_type": "display_data"
    }
   ],
   "source": [
    "permutation_info = permutation_importance(\n",
    "    rf, X_train, y_train, n_repeats=10, random_state=0, n_jobs=-1\n",
    ")\n",
    "\n",
    "features_info = list(\n",
    "    zip(\n",
    "        X_train.columns,\n",
    "        permutation_info[\"importances_mean\"],\n",
    "        permutation_info[\"importances_std\"],\n",
    "    )\n",
    ")\n",
    "\n",
    "# Sort by descending mean feature importance\n",
    "features_info = sorted(features_info, key=lambda feature: feature[1], reverse=True)\n",
    "\n",
    "features_imp_df = pd.DataFrame(\n",
    "    features_info, columns=[\"feature_name\", \"mean_importance\", \"stddev_importance\"]\n",
    ")\n",
    "\n",
    "features_imp_df.head(40)"
   ]
  },
  {
   "cell_type": "markdown",
   "metadata": {},
   "source": [
    "## H2O Auto ML test"
   ]
  },
  {
   "cell_type": "code",
   "execution_count": 30,
   "metadata": {
    "ExecuteTime": {
     "end_time": "2020-02-12T16:06:34.728022Z",
     "start_time": "2020-02-12T16:06:09.408035Z"
    }
   },
   "outputs": [
    {
     "name": "stdout",
     "output_type": "stream",
     "text": [
      "Checking whether there is an H2O instance running at http://localhost:54321 ..... not found.\n",
      "Attempting to start a local H2O server...\n",
      "; Java HotSpot(TM) 64-Bit Server VM (build 25.241-b07, mixed mode)\n",
      "  Starting server from C:\\Users\\hmbf1\\Anaconda3\\lib\\site-packages\\h2o\\backend\\bin\\h2o.jar\n",
      "  Ice root: C:\\Users\\hmbf1\\AppData\\Local\\Temp\\tmpe1u20scs\n",
      "  JVM stdout: C:\\Users\\hmbf1\\AppData\\Local\\Temp\\tmpe1u20scs\\h2o_hmbf1_started_from_python.out\n",
      "  JVM stderr: C:\\Users\\hmbf1\\AppData\\Local\\Temp\\tmpe1u20scs\\h2o_hmbf1_started_from_python.err\n",
      "  Server is running at http://127.0.0.1:54321\n",
      "Connecting to H2O server at http://127.0.0.1:54321 ... successful.\n"
     ]
    },
    {
     "data": {
      "text/html": [
       "<div style=\"overflow:auto\"><table style=\"width:50%\"><tr><td>H2O cluster uptime:</td>\n",
       "<td>02 secs</td></tr>\n",
       "<tr><td>H2O cluster timezone:</td>\n",
       "<td>Europe/London</td></tr>\n",
       "<tr><td>H2O data parsing timezone:</td>\n",
       "<td>UTC</td></tr>\n",
       "<tr><td>H2O cluster version:</td>\n",
       "<td>3.28.0.3</td></tr>\n",
       "<tr><td>H2O cluster version age:</td>\n",
       "<td>6 days </td></tr>\n",
       "<tr><td>H2O cluster name:</td>\n",
       "<td>H2O_from_python_hmbf1_7fq0d3</td></tr>\n",
       "<tr><td>H2O cluster total nodes:</td>\n",
       "<td>1</td></tr>\n",
       "<tr><td>H2O cluster free memory:</td>\n",
       "<td>7.111 Gb</td></tr>\n",
       "<tr><td>H2O cluster total cores:</td>\n",
       "<td>8</td></tr>\n",
       "<tr><td>H2O cluster allowed cores:</td>\n",
       "<td>8</td></tr>\n",
       "<tr><td>H2O cluster status:</td>\n",
       "<td>accepting new members, healthy</td></tr>\n",
       "<tr><td>H2O connection url:</td>\n",
       "<td>http://127.0.0.1:54321</td></tr>\n",
       "<tr><td>H2O connection proxy:</td>\n",
       "<td>{'http': None, 'https': None}</td></tr>\n",
       "<tr><td>H2O internal security:</td>\n",
       "<td>False</td></tr>\n",
       "<tr><td>H2O API Extensions:</td>\n",
       "<td>Amazon S3, Algos, AutoML, Core V3, TargetEncoder, Core V4</td></tr>\n",
       "<tr><td>Python version:</td>\n",
       "<td>3.7.3 final</td></tr></table></div>"
      ],
      "text/plain": [
       "--------------------------  ---------------------------------------------------------\n",
       "H2O cluster uptime:         02 secs\n",
       "H2O cluster timezone:       Europe/London\n",
       "H2O data parsing timezone:  UTC\n",
       "H2O cluster version:        3.28.0.3\n",
       "H2O cluster version age:    6 days\n",
       "H2O cluster name:           H2O_from_python_hmbf1_7fq0d3\n",
       "H2O cluster total nodes:    1\n",
       "H2O cluster free memory:    7.111 Gb\n",
       "H2O cluster total cores:    8\n",
       "H2O cluster allowed cores:  8\n",
       "H2O cluster status:         accepting new members, healthy\n",
       "H2O connection url:         http://127.0.0.1:54321\n",
       "H2O connection proxy:       {'http': None, 'https': None}\n",
       "H2O internal security:      False\n",
       "H2O API Extensions:         Amazon S3, Algos, AutoML, Core V3, TargetEncoder, Core V4\n",
       "Python version:             3.7.3 final\n",
       "--------------------------  ---------------------------------------------------------"
      ]
     },
     "metadata": {},
     "output_type": "display_data"
    },
    {
     "data": {
      "application/javascript": [
       "\n",
       "            setTimeout(function() {\n",
       "                var nbb_cell_id = 30;\n",
       "                var nbb_unformatted_code = \"h2o.init(max_mem_size=\\\"8G\\\")\";\n",
       "                var nbb_formatted_code = \"h2o.init(max_mem_size=\\\"8G\\\")\";\n",
       "                var nbb_cells = Jupyter.notebook.get_cells();\n",
       "                for (var i = 0; i < nbb_cells.length; ++i) {\n",
       "                    if (nbb_cells[i].input_prompt_number == nbb_cell_id) {\n",
       "                        if (nbb_cells[i].get_text() == nbb_unformatted_code) {\n",
       "                             nbb_cells[i].set_text(nbb_formatted_code);\n",
       "                        }\n",
       "                        break;\n",
       "                    }\n",
       "                }\n",
       "            }, 500);\n",
       "            "
      ],
      "text/plain": [
       "<IPython.core.display.Javascript object>"
      ]
     },
     "metadata": {},
     "output_type": "display_data"
    }
   ],
   "source": [
    "h2o.init(max_mem_size=\"8G\")"
   ]
  },
  {
   "cell_type": "code",
   "execution_count": 31,
   "metadata": {
    "ExecuteTime": {
     "end_time": "2020-02-12T16:06:36.581484Z",
     "start_time": "2020-02-12T16:06:35.754370Z"
    }
   },
   "outputs": [
    {
     "name": "stdout",
     "output_type": "stream",
     "text": [
      "Parse progress: |█████████████████████████████████████████████████████████| 100%\n"
     ]
    },
    {
     "data": {
      "application/javascript": [
       "\n",
       "            setTimeout(function() {\n",
       "                var nbb_cell_id = 31;\n",
       "                var nbb_unformatted_code = \"hf = h2o.H2OFrame(data_processed)\";\n",
       "                var nbb_formatted_code = \"hf = h2o.H2OFrame(data_processed)\";\n",
       "                var nbb_cells = Jupyter.notebook.get_cells();\n",
       "                for (var i = 0; i < nbb_cells.length; ++i) {\n",
       "                    if (nbb_cells[i].input_prompt_number == nbb_cell_id) {\n",
       "                        if (nbb_cells[i].get_text() == nbb_unformatted_code) {\n",
       "                             nbb_cells[i].set_text(nbb_formatted_code);\n",
       "                        }\n",
       "                        break;\n",
       "                    }\n",
       "                }\n",
       "            }, 500);\n",
       "            "
      ],
      "text/plain": [
       "<IPython.core.display.Javascript object>"
      ]
     },
     "metadata": {},
     "output_type": "display_data"
    }
   ],
   "source": [
    "hf = h2o.H2OFrame(data_processed)"
   ]
  },
  {
   "cell_type": "code",
   "execution_count": 32,
   "metadata": {
    "ExecuteTime": {
     "end_time": "2020-02-12T16:06:38.243176Z",
     "start_time": "2020-02-12T16:06:37.705755Z"
    }
   },
   "outputs": [
    {
     "data": {
      "application/javascript": [
       "\n",
       "            setTimeout(function() {\n",
       "                var nbb_cell_id = 32;\n",
       "                var nbb_unformatted_code = \"splits = hf.split_frame(ratios=[0.7], seed=1)\\ntrain = splits[0]\\ntest = splits[1]\";\n",
       "                var nbb_formatted_code = \"splits = hf.split_frame(ratios=[0.7], seed=1)\\ntrain = splits[0]\\ntest = splits[1]\";\n",
       "                var nbb_cells = Jupyter.notebook.get_cells();\n",
       "                for (var i = 0; i < nbb_cells.length; ++i) {\n",
       "                    if (nbb_cells[i].input_prompt_number == nbb_cell_id) {\n",
       "                        if (nbb_cells[i].get_text() == nbb_unformatted_code) {\n",
       "                             nbb_cells[i].set_text(nbb_formatted_code);\n",
       "                        }\n",
       "                        break;\n",
       "                    }\n",
       "                }\n",
       "            }, 500);\n",
       "            "
      ],
      "text/plain": [
       "<IPython.core.display.Javascript object>"
      ]
     },
     "metadata": {},
     "output_type": "display_data"
    }
   ],
   "source": [
    "splits = hf.split_frame(ratios=[0.7], seed=1)\n",
    "train = splits[0]\n",
    "test = splits[1]"
   ]
  },
  {
   "cell_type": "code",
   "execution_count": 33,
   "metadata": {
    "ExecuteTime": {
     "end_time": "2020-02-12T16:06:39.640984Z",
     "start_time": "2020-02-12T16:06:39.472408Z"
    }
   },
   "outputs": [
    {
     "data": {
      "application/javascript": [
       "\n",
       "            setTimeout(function() {\n",
       "                var nbb_cell_id = 33;\n",
       "                var nbb_unformatted_code = \"# Identify predictors and response\\nx = train.columns\\ny = \\\"winner\\\"\\nx.remove(y)\\n\\n# For binary classification, response should be a factor\\ntrain[y] = train[y].asfactor()\";\n",
       "                var nbb_formatted_code = \"# Identify predictors and response\\nx = train.columns\\ny = \\\"winner\\\"\\nx.remove(y)\\n\\n# For binary classification, response should be a factor\\ntrain[y] = train[y].asfactor()\";\n",
       "                var nbb_cells = Jupyter.notebook.get_cells();\n",
       "                for (var i = 0; i < nbb_cells.length; ++i) {\n",
       "                    if (nbb_cells[i].input_prompt_number == nbb_cell_id) {\n",
       "                        if (nbb_cells[i].get_text() == nbb_unformatted_code) {\n",
       "                             nbb_cells[i].set_text(nbb_formatted_code);\n",
       "                        }\n",
       "                        break;\n",
       "                    }\n",
       "                }\n",
       "            }, 500);\n",
       "            "
      ],
      "text/plain": [
       "<IPython.core.display.Javascript object>"
      ]
     },
     "metadata": {},
     "output_type": "display_data"
    }
   ],
   "source": [
    "# Identify predictors and response\n",
    "x = train.columns\n",
    "y = \"winner\"\n",
    "x.remove(y)\n",
    "\n",
    "# For binary classification, response should be a factor\n",
    "train[y] = train[y].asfactor()"
   ]
  },
  {
   "cell_type": "code",
   "execution_count": 41,
   "metadata": {
    "ExecuteTime": {
     "end_time": "2020-02-12T16:24:51.870815Z",
     "start_time": "2020-02-12T16:24:50.587334Z"
    }
   },
   "outputs": [
    {
     "name": "stdout",
     "output_type": "stream",
     "text": [
      "AutoML progress: |████████████████████████████████████████████████████████| 100%\n",
      "\n",
      "16:24:50.767: AutoML: XGBoost is not available; skipping it.\n",
      "16:24:50.769: Empty leaderboard.\n",
      "AutoML was not able to build any model within a max runtime constraint of 30 seconds, you may want to increase this value before retrying.\n",
      "\n"
     ]
    },
    {
     "data": {
      "application/javascript": [
       "\n",
       "            setTimeout(function() {\n",
       "                var nbb_cell_id = 41;\n",
       "                var nbb_unformatted_code = \"aml = H2OAutoML(max_runtime_secs=30, seed=1, max_models=50, include_algos=['XGBoost'])\\naml.train(x=x, y=y, training_frame=train)\";\n",
       "                var nbb_formatted_code = \"aml = H2OAutoML(max_runtime_secs=30, seed=1, max_models=50, include_algos=[\\\"XGBoost\\\"])\\naml.train(x=x, y=y, training_frame=train)\";\n",
       "                var nbb_cells = Jupyter.notebook.get_cells();\n",
       "                for (var i = 0; i < nbb_cells.length; ++i) {\n",
       "                    if (nbb_cells[i].input_prompt_number == nbb_cell_id) {\n",
       "                        if (nbb_cells[i].get_text() == nbb_unformatted_code) {\n",
       "                             nbb_cells[i].set_text(nbb_formatted_code);\n",
       "                        }\n",
       "                        break;\n",
       "                    }\n",
       "                }\n",
       "            }, 500);\n",
       "            "
      ],
      "text/plain": [
       "<IPython.core.display.Javascript object>"
      ]
     },
     "metadata": {},
     "output_type": "display_data"
    }
   ],
   "source": [
    "aml = H2OAutoML(max_runtime_secs=30, seed=1, max_models=50, include_algos=[\"XGBoost\"])\n",
    "aml.train(x=x, y=y, training_frame=train)"
   ]
  },
  {
   "cell_type": "code",
   "execution_count": 40,
   "metadata": {
    "ExecuteTime": {
     "end_time": "2020-02-12T16:20:50.282092Z",
     "start_time": "2020-02-12T16:20:50.058698Z"
    }
   },
   "outputs": [
    {
     "data": {
      "text/html": [
       "<table>\n",
       "<thead>\n",
       "<tr><th>model_id                                           </th><th style=\"text-align: right;\">     auc</th><th style=\"text-align: right;\">  logloss</th><th style=\"text-align: right;\">   aucpr</th><th style=\"text-align: right;\">  mean_per_class_error</th><th style=\"text-align: right;\">    rmse</th><th style=\"text-align: right;\">     mse</th></tr>\n",
       "</thead>\n",
       "<tbody>\n",
       "<tr><td>GLM_1_AutoML_20200212_161720                       </td><td style=\"text-align: right;\">0.67972 </td><td style=\"text-align: right;\"> 0.641068</td><td style=\"text-align: right;\">0.695265</td><td style=\"text-align: right;\">              0.419325</td><td style=\"text-align: right;\">0.47462 </td><td style=\"text-align: right;\">0.225265</td></tr>\n",
       "<tr><td>StackedEnsemble_BestOfFamily_AutoML_20200212_161720</td><td style=\"text-align: right;\">0.66604 </td><td style=\"text-align: right;\"> 0.64704 </td><td style=\"text-align: right;\">0.684274</td><td style=\"text-align: right;\">              0.410367</td><td style=\"text-align: right;\">0.477403</td><td style=\"text-align: right;\">0.227914</td></tr>\n",
       "<tr><td>GBM_grid__1_AutoML_20200212_161720_model_4         </td><td style=\"text-align: right;\">0.666035</td><td style=\"text-align: right;\"> 0.64865 </td><td style=\"text-align: right;\">0.68116 </td><td style=\"text-align: right;\">              0.420044</td><td style=\"text-align: right;\">0.478006</td><td style=\"text-align: right;\">0.22849 </td></tr>\n",
       "<tr><td>StackedEnsemble_AllModels_AutoML_20200212_161720   </td><td style=\"text-align: right;\">0.661274</td><td style=\"text-align: right;\"> 0.649924</td><td style=\"text-align: right;\">0.681922</td><td style=\"text-align: right;\">              0.428081</td><td style=\"text-align: right;\">0.478839</td><td style=\"text-align: right;\">0.229286</td></tr>\n",
       "<tr><td>GBM_5_AutoML_20200212_161720                       </td><td style=\"text-align: right;\">0.65523 </td><td style=\"text-align: right;\"> 0.653759</td><td style=\"text-align: right;\">0.670525</td><td style=\"text-align: right;\">              0.453969</td><td style=\"text-align: right;\">0.480614</td><td style=\"text-align: right;\">0.23099 </td></tr>\n",
       "<tr><td>GBM_grid__1_AutoML_20200212_161720_model_1         </td><td style=\"text-align: right;\">0.648106</td><td style=\"text-align: right;\"> 0.677531</td><td style=\"text-align: right;\">0.64574 </td><td style=\"text-align: right;\">              0.426852</td><td style=\"text-align: right;\">0.492171</td><td style=\"text-align: right;\">0.242232</td></tr>\n",
       "<tr><td>GBM_grid__1_AutoML_20200212_161720_model_6         </td><td style=\"text-align: right;\">0.647817</td><td style=\"text-align: right;\"> 0.665905</td><td style=\"text-align: right;\">0.653893</td><td style=\"text-align: right;\">              0.455335</td><td style=\"text-align: right;\">0.485211</td><td style=\"text-align: right;\">0.235429</td></tr>\n",
       "<tr><td>DeepLearning_grid__2_AutoML_20200212_161720_model_3</td><td style=\"text-align: right;\">0.647014</td><td style=\"text-align: right;\"> 0.679495</td><td style=\"text-align: right;\">0.653896</td><td style=\"text-align: right;\">              0.423329</td><td style=\"text-align: right;\">0.487759</td><td style=\"text-align: right;\">0.237909</td></tr>\n",
       "<tr><td>XRT_1_AutoML_20200212_161720                       </td><td style=\"text-align: right;\">0.646805</td><td style=\"text-align: right;\"> 0.665292</td><td style=\"text-align: right;\">0.650447</td><td style=\"text-align: right;\">              0.460568</td><td style=\"text-align: right;\">0.485076</td><td style=\"text-align: right;\">0.235299</td></tr>\n",
       "<tr><td>DRF_1_AutoML_20200212_161720                       </td><td style=\"text-align: right;\">0.64391 </td><td style=\"text-align: right;\"> 0.666704</td><td style=\"text-align: right;\">0.653272</td><td style=\"text-align: right;\">              0.453149</td><td style=\"text-align: right;\">0.485815</td><td style=\"text-align: right;\">0.236016</td></tr>\n",
       "</tbody>\n",
       "</table>"
      ]
     },
     "metadata": {},
     "output_type": "display_data"
    },
    {
     "data": {
      "text/plain": []
     },
     "execution_count": 40,
     "metadata": {},
     "output_type": "execute_result"
    },
    {
     "data": {
      "application/javascript": [
       "\n",
       "            setTimeout(function() {\n",
       "                var nbb_cell_id = 40;\n",
       "                var nbb_unformatted_code = \"lb = aml.leaderboard\\nlb.head()\";\n",
       "                var nbb_formatted_code = \"lb = aml.leaderboard\\nlb.head()\";\n",
       "                var nbb_cells = Jupyter.notebook.get_cells();\n",
       "                for (var i = 0; i < nbb_cells.length; ++i) {\n",
       "                    if (nbb_cells[i].input_prompt_number == nbb_cell_id) {\n",
       "                        if (nbb_cells[i].get_text() == nbb_unformatted_code) {\n",
       "                             nbb_cells[i].set_text(nbb_formatted_code);\n",
       "                        }\n",
       "                        break;\n",
       "                    }\n",
       "                }\n",
       "            }, 500);\n",
       "            "
      ],
      "text/plain": [
       "<IPython.core.display.Javascript object>"
      ]
     },
     "metadata": {},
     "output_type": "display_data"
    }
   ],
   "source": [
    "lb = aml.leaderboard\n",
    "lb.head()"
   ]
  },
  {
   "cell_type": "code",
   "execution_count": 36,
   "metadata": {
    "ExecuteTime": {
     "end_time": "2020-02-12T16:09:04.322476Z",
     "start_time": "2020-02-12T16:09:03.834792Z"
    }
   },
   "outputs": [
    {
     "name": "stdout",
     "output_type": "stream",
     "text": [
      "glm prediction progress: |████████████████████████████████████████████████| 100%\n"
     ]
    },
    {
     "data": {
      "text/html": [
       "<table>\n",
       "<thead>\n",
       "<tr><th style=\"text-align: right;\">  predict</th><th style=\"text-align: right;\">      p0</th><th style=\"text-align: right;\">      p1</th></tr>\n",
       "</thead>\n",
       "<tbody>\n",
       "<tr><td style=\"text-align: right;\">        1</td><td style=\"text-align: right;\">0.314857</td><td style=\"text-align: right;\">0.685143</td></tr>\n",
       "<tr><td style=\"text-align: right;\">        1</td><td style=\"text-align: right;\">0.485633</td><td style=\"text-align: right;\">0.514367</td></tr>\n",
       "<tr><td style=\"text-align: right;\">        1</td><td style=\"text-align: right;\">0.346443</td><td style=\"text-align: right;\">0.653557</td></tr>\n",
       "<tr><td style=\"text-align: right;\">        0</td><td style=\"text-align: right;\">0.605393</td><td style=\"text-align: right;\">0.394607</td></tr>\n",
       "<tr><td style=\"text-align: right;\">        1</td><td style=\"text-align: right;\">0.294857</td><td style=\"text-align: right;\">0.705143</td></tr>\n",
       "<tr><td style=\"text-align: right;\">        1</td><td style=\"text-align: right;\">0.488907</td><td style=\"text-align: right;\">0.511093</td></tr>\n",
       "<tr><td style=\"text-align: right;\">        1</td><td style=\"text-align: right;\">0.44359 </td><td style=\"text-align: right;\">0.55641 </td></tr>\n",
       "<tr><td style=\"text-align: right;\">        1</td><td style=\"text-align: right;\">0.512309</td><td style=\"text-align: right;\">0.487691</td></tr>\n",
       "<tr><td style=\"text-align: right;\">        1</td><td style=\"text-align: right;\">0.4398  </td><td style=\"text-align: right;\">0.5602  </td></tr>\n",
       "<tr><td style=\"text-align: right;\">        0</td><td style=\"text-align: right;\">0.702503</td><td style=\"text-align: right;\">0.297497</td></tr>\n",
       "</tbody>\n",
       "</table>"
      ]
     },
     "metadata": {},
     "output_type": "display_data"
    },
    {
     "data": {
      "text/plain": []
     },
     "execution_count": 36,
     "metadata": {},
     "output_type": "execute_result"
    },
    {
     "data": {
      "application/javascript": [
       "\n",
       "            setTimeout(function() {\n",
       "                var nbb_cell_id = 36;\n",
       "                var nbb_unformatted_code = \"pred = aml.predict(test)\\npred.head()\";\n",
       "                var nbb_formatted_code = \"pred = aml.predict(test)\\npred.head()\";\n",
       "                var nbb_cells = Jupyter.notebook.get_cells();\n",
       "                for (var i = 0; i < nbb_cells.length; ++i) {\n",
       "                    if (nbb_cells[i].input_prompt_number == nbb_cell_id) {\n",
       "                        if (nbb_cells[i].get_text() == nbb_unformatted_code) {\n",
       "                             nbb_cells[i].set_text(nbb_formatted_code);\n",
       "                        }\n",
       "                        break;\n",
       "                    }\n",
       "                }\n",
       "            }, 500);\n",
       "            "
      ],
      "text/plain": [
       "<IPython.core.display.Javascript object>"
      ]
     },
     "metadata": {},
     "output_type": "display_data"
    }
   ],
   "source": [
    "pred = aml.predict(test)\n",
    "pred.head()"
   ]
  },
  {
   "cell_type": "code",
   "execution_count": 37,
   "metadata": {
    "ExecuteTime": {
     "end_time": "2020-02-12T16:09:07.692829Z",
     "start_time": "2020-02-12T16:09:07.343789Z"
    }
   },
   "outputs": [
    {
     "name": "stdout",
     "output_type": "stream",
     "text": [
      "\n",
      "ModelMetricsBinomialGLM: glm\n",
      "** Reported on test data. **\n",
      "\n",
      "MSE: 0.2438353181821744\n",
      "RMSE: 0.49379683897547827\n",
      "LogLoss: 0.6790357713660122\n",
      "Null degrees of freedom: 395\n",
      "Residual degrees of freedom: 365\n",
      "Null deviance: 552.6831546776557\n",
      "Residual deviance: 537.7963309218817\n",
      "AIC: 599.7963309218817\n",
      "AUC: 0.5992335206949413\n",
      "AUCPR: 0.6000607642364656\n",
      "Gini: 0.19846704138988258\n",
      "\n",
      "Confusion Matrix (Act/Pred) for max f1 @ threshold = 0.31595659433570067: \n"
     ]
    },
    {
     "data": {
      "text/html": [
       "<div>\n",
       "<style scoped>\n",
       "    .dataframe tbody tr th:only-of-type {\n",
       "        vertical-align: middle;\n",
       "    }\n",
       "\n",
       "    .dataframe tbody tr th {\n",
       "        vertical-align: top;\n",
       "    }\n",
       "\n",
       "    .dataframe thead th {\n",
       "        text-align: right;\n",
       "    }\n",
       "</style>\n",
       "<table border=\"1\" class=\"dataframe\">\n",
       "  <thead>\n",
       "    <tr style=\"text-align: right;\">\n",
       "      <th></th>\n",
       "      <th></th>\n",
       "      <th>0</th>\n",
       "      <th>1</th>\n",
       "      <th>Error</th>\n",
       "      <th>Rate</th>\n",
       "    </tr>\n",
       "  </thead>\n",
       "  <tbody>\n",
       "    <tr>\n",
       "      <th>0</th>\n",
       "      <td>0</td>\n",
       "      <td>21.0</td>\n",
       "      <td>185.0</td>\n",
       "      <td>0.8981</td>\n",
       "      <td>(185.0/206.0)</td>\n",
       "    </tr>\n",
       "    <tr>\n",
       "      <th>1</th>\n",
       "      <td>1</td>\n",
       "      <td>6.0</td>\n",
       "      <td>184.0</td>\n",
       "      <td>0.0316</td>\n",
       "      <td>(6.0/190.0)</td>\n",
       "    </tr>\n",
       "    <tr>\n",
       "      <th>2</th>\n",
       "      <td>Total</td>\n",
       "      <td>27.0</td>\n",
       "      <td>369.0</td>\n",
       "      <td>0.4823</td>\n",
       "      <td>(191.0/396.0)</td>\n",
       "    </tr>\n",
       "  </tbody>\n",
       "</table>\n",
       "</div>"
      ],
      "text/plain": [
       "             0      1   Error            Rate\n",
       "0      0  21.0  185.0  0.8981   (185.0/206.0)\n",
       "1      1   6.0  184.0  0.0316     (6.0/190.0)\n",
       "2  Total  27.0  369.0  0.4823   (191.0/396.0)"
      ]
     },
     "metadata": {},
     "output_type": "display_data"
    },
    {
     "name": "stdout",
     "output_type": "stream",
     "text": [
      "\n",
      "Maximum Metrics: Maximum metrics at their respective thresholds\n"
     ]
    },
    {
     "data": {
      "text/html": [
       "<div>\n",
       "<style scoped>\n",
       "    .dataframe tbody tr th:only-of-type {\n",
       "        vertical-align: middle;\n",
       "    }\n",
       "\n",
       "    .dataframe tbody tr th {\n",
       "        vertical-align: top;\n",
       "    }\n",
       "\n",
       "    .dataframe thead th {\n",
       "        text-align: right;\n",
       "    }\n",
       "</style>\n",
       "<table border=\"1\" class=\"dataframe\">\n",
       "  <thead>\n",
       "    <tr style=\"text-align: right;\">\n",
       "      <th></th>\n",
       "      <th>metric</th>\n",
       "      <th>threshold</th>\n",
       "      <th>value</th>\n",
       "      <th>idx</th>\n",
       "    </tr>\n",
       "  </thead>\n",
       "  <tbody>\n",
       "    <tr>\n",
       "      <th>0</th>\n",
       "      <td>max f1</td>\n",
       "      <td>0.315957</td>\n",
       "      <td>0.658318</td>\n",
       "      <td>368.0</td>\n",
       "    </tr>\n",
       "    <tr>\n",
       "      <th>1</th>\n",
       "      <td>max f2</td>\n",
       "      <td>0.188694</td>\n",
       "      <td>0.823888</td>\n",
       "      <td>386.0</td>\n",
       "    </tr>\n",
       "    <tr>\n",
       "      <th>2</th>\n",
       "      <td>max f0point5</td>\n",
       "      <td>0.388572</td>\n",
       "      <td>0.560288</td>\n",
       "      <td>333.0</td>\n",
       "    </tr>\n",
       "    <tr>\n",
       "      <th>3</th>\n",
       "      <td>max accuracy</td>\n",
       "      <td>0.592724</td>\n",
       "      <td>0.588384</td>\n",
       "      <td>126.0</td>\n",
       "    </tr>\n",
       "    <tr>\n",
       "      <th>4</th>\n",
       "      <td>max precision</td>\n",
       "      <td>0.991922</td>\n",
       "      <td>1.000000</td>\n",
       "      <td>0.0</td>\n",
       "    </tr>\n",
       "    <tr>\n",
       "      <th>5</th>\n",
       "      <td>max recall</td>\n",
       "      <td>0.130818</td>\n",
       "      <td>1.000000</td>\n",
       "      <td>393.0</td>\n",
       "    </tr>\n",
       "    <tr>\n",
       "      <th>6</th>\n",
       "      <td>max specificity</td>\n",
       "      <td>0.991922</td>\n",
       "      <td>1.000000</td>\n",
       "      <td>0.0</td>\n",
       "    </tr>\n",
       "    <tr>\n",
       "      <th>7</th>\n",
       "      <td>max absolute_mcc</td>\n",
       "      <td>0.716082</td>\n",
       "      <td>0.195340</td>\n",
       "      <td>36.0</td>\n",
       "    </tr>\n",
       "    <tr>\n",
       "      <th>8</th>\n",
       "      <td>max min_per_class_accuracy</td>\n",
       "      <td>0.519877</td>\n",
       "      <td>0.542105</td>\n",
       "      <td>196.0</td>\n",
       "    </tr>\n",
       "    <tr>\n",
       "      <th>9</th>\n",
       "      <td>max mean_per_class_accuracy</td>\n",
       "      <td>0.590209</td>\n",
       "      <td>0.581477</td>\n",
       "      <td>128.0</td>\n",
       "    </tr>\n",
       "    <tr>\n",
       "      <th>10</th>\n",
       "      <td>max tns</td>\n",
       "      <td>0.991922</td>\n",
       "      <td>206.000000</td>\n",
       "      <td>0.0</td>\n",
       "    </tr>\n",
       "    <tr>\n",
       "      <th>11</th>\n",
       "      <td>max fns</td>\n",
       "      <td>0.991922</td>\n",
       "      <td>189.000000</td>\n",
       "      <td>0.0</td>\n",
       "    </tr>\n",
       "    <tr>\n",
       "      <th>12</th>\n",
       "      <td>max fps</td>\n",
       "      <td>0.057154</td>\n",
       "      <td>206.000000</td>\n",
       "      <td>395.0</td>\n",
       "    </tr>\n",
       "    <tr>\n",
       "      <th>13</th>\n",
       "      <td>max tps</td>\n",
       "      <td>0.130818</td>\n",
       "      <td>190.000000</td>\n",
       "      <td>393.0</td>\n",
       "    </tr>\n",
       "    <tr>\n",
       "      <th>14</th>\n",
       "      <td>max tnr</td>\n",
       "      <td>0.991922</td>\n",
       "      <td>1.000000</td>\n",
       "      <td>0.0</td>\n",
       "    </tr>\n",
       "    <tr>\n",
       "      <th>15</th>\n",
       "      <td>max fnr</td>\n",
       "      <td>0.991922</td>\n",
       "      <td>0.994737</td>\n",
       "      <td>0.0</td>\n",
       "    </tr>\n",
       "    <tr>\n",
       "      <th>16</th>\n",
       "      <td>max fpr</td>\n",
       "      <td>0.057154</td>\n",
       "      <td>1.000000</td>\n",
       "      <td>395.0</td>\n",
       "    </tr>\n",
       "    <tr>\n",
       "      <th>17</th>\n",
       "      <td>max tpr</td>\n",
       "      <td>0.130818</td>\n",
       "      <td>1.000000</td>\n",
       "      <td>393.0</td>\n",
       "    </tr>\n",
       "  </tbody>\n",
       "</table>\n",
       "</div>"
      ],
      "text/plain": [
       "                         metric  threshold       value    idx\n",
       "0                        max f1   0.315957    0.658318  368.0\n",
       "1                        max f2   0.188694    0.823888  386.0\n",
       "2                  max f0point5   0.388572    0.560288  333.0\n",
       "3                  max accuracy   0.592724    0.588384  126.0\n",
       "4                 max precision   0.991922    1.000000    0.0\n",
       "5                    max recall   0.130818    1.000000  393.0\n",
       "6               max specificity   0.991922    1.000000    0.0\n",
       "7              max absolute_mcc   0.716082    0.195340   36.0\n",
       "8    max min_per_class_accuracy   0.519877    0.542105  196.0\n",
       "9   max mean_per_class_accuracy   0.590209    0.581477  128.0\n",
       "10                      max tns   0.991922  206.000000    0.0\n",
       "11                      max fns   0.991922  189.000000    0.0\n",
       "12                      max fps   0.057154  206.000000  395.0\n",
       "13                      max tps   0.130818  190.000000  393.0\n",
       "14                      max tnr   0.991922    1.000000    0.0\n",
       "15                      max fnr   0.991922    0.994737    0.0\n",
       "16                      max fpr   0.057154    1.000000  395.0\n",
       "17                      max tpr   0.130818    1.000000  393.0"
      ]
     },
     "metadata": {},
     "output_type": "display_data"
    },
    {
     "name": "stdout",
     "output_type": "stream",
     "text": [
      "\n",
      "Gains/Lift Table: Avg response rate: 47,98 %, avg score: 52,66 %\n"
     ]
    },
    {
     "data": {
      "text/html": [
       "<div>\n",
       "<style scoped>\n",
       "    .dataframe tbody tr th:only-of-type {\n",
       "        vertical-align: middle;\n",
       "    }\n",
       "\n",
       "    .dataframe tbody tr th {\n",
       "        vertical-align: top;\n",
       "    }\n",
       "\n",
       "    .dataframe thead th {\n",
       "        text-align: right;\n",
       "    }\n",
       "</style>\n",
       "<table border=\"1\" class=\"dataframe\">\n",
       "  <thead>\n",
       "    <tr style=\"text-align: right;\">\n",
       "      <th></th>\n",
       "      <th></th>\n",
       "      <th>group</th>\n",
       "      <th>cumulative_data_fraction</th>\n",
       "      <th>lower_threshold</th>\n",
       "      <th>lift</th>\n",
       "      <th>cumulative_lift</th>\n",
       "      <th>response_rate</th>\n",
       "      <th>score</th>\n",
       "      <th>cumulative_response_rate</th>\n",
       "      <th>cumulative_score</th>\n",
       "      <th>capture_rate</th>\n",
       "      <th>cumulative_capture_rate</th>\n",
       "      <th>gain</th>\n",
       "      <th>cumulative_gain</th>\n",
       "    </tr>\n",
       "  </thead>\n",
       "  <tbody>\n",
       "    <tr>\n",
       "      <th>0</th>\n",
       "      <td></td>\n",
       "      <td>1</td>\n",
       "      <td>0.010101</td>\n",
       "      <td>0.860744</td>\n",
       "      <td>2.084211</td>\n",
       "      <td>2.084211</td>\n",
       "      <td>1.000000</td>\n",
       "      <td>0.920240</td>\n",
       "      <td>1.000000</td>\n",
       "      <td>0.920240</td>\n",
       "      <td>0.021053</td>\n",
       "      <td>0.021053</td>\n",
       "      <td>108.421053</td>\n",
       "      <td>108.421053</td>\n",
       "    </tr>\n",
       "    <tr>\n",
       "      <th>1</th>\n",
       "      <td></td>\n",
       "      <td>2</td>\n",
       "      <td>0.020202</td>\n",
       "      <td>0.828550</td>\n",
       "      <td>2.084211</td>\n",
       "      <td>2.084211</td>\n",
       "      <td>1.000000</td>\n",
       "      <td>0.849552</td>\n",
       "      <td>1.000000</td>\n",
       "      <td>0.884896</td>\n",
       "      <td>0.021053</td>\n",
       "      <td>0.042105</td>\n",
       "      <td>108.421053</td>\n",
       "      <td>108.421053</td>\n",
       "    </tr>\n",
       "    <tr>\n",
       "      <th>2</th>\n",
       "      <td></td>\n",
       "      <td>3</td>\n",
       "      <td>0.030303</td>\n",
       "      <td>0.798118</td>\n",
       "      <td>1.563158</td>\n",
       "      <td>1.910526</td>\n",
       "      <td>0.750000</td>\n",
       "      <td>0.816249</td>\n",
       "      <td>0.916667</td>\n",
       "      <td>0.862014</td>\n",
       "      <td>0.015789</td>\n",
       "      <td>0.057895</td>\n",
       "      <td>56.315789</td>\n",
       "      <td>91.052632</td>\n",
       "    </tr>\n",
       "    <tr>\n",
       "      <th>3</th>\n",
       "      <td></td>\n",
       "      <td>4</td>\n",
       "      <td>0.040404</td>\n",
       "      <td>0.779836</td>\n",
       "      <td>1.563158</td>\n",
       "      <td>1.823684</td>\n",
       "      <td>0.750000</td>\n",
       "      <td>0.791892</td>\n",
       "      <td>0.875000</td>\n",
       "      <td>0.844483</td>\n",
       "      <td>0.015789</td>\n",
       "      <td>0.073684</td>\n",
       "      <td>56.315789</td>\n",
       "      <td>82.368421</td>\n",
       "    </tr>\n",
       "    <tr>\n",
       "      <th>4</th>\n",
       "      <td></td>\n",
       "      <td>5</td>\n",
       "      <td>0.050505</td>\n",
       "      <td>0.760452</td>\n",
       "      <td>1.563158</td>\n",
       "      <td>1.771579</td>\n",
       "      <td>0.750000</td>\n",
       "      <td>0.770489</td>\n",
       "      <td>0.850000</td>\n",
       "      <td>0.829684</td>\n",
       "      <td>0.015789</td>\n",
       "      <td>0.089474</td>\n",
       "      <td>56.315789</td>\n",
       "      <td>77.157895</td>\n",
       "    </tr>\n",
       "    <tr>\n",
       "      <th>5</th>\n",
       "      <td></td>\n",
       "      <td>6</td>\n",
       "      <td>0.101010</td>\n",
       "      <td>0.709503</td>\n",
       "      <td>1.354737</td>\n",
       "      <td>1.563158</td>\n",
       "      <td>0.650000</td>\n",
       "      <td>0.734537</td>\n",
       "      <td>0.750000</td>\n",
       "      <td>0.782111</td>\n",
       "      <td>0.068421</td>\n",
       "      <td>0.157895</td>\n",
       "      <td>35.473684</td>\n",
       "      <td>56.315789</td>\n",
       "    </tr>\n",
       "    <tr>\n",
       "      <th>6</th>\n",
       "      <td></td>\n",
       "      <td>7</td>\n",
       "      <td>0.151515</td>\n",
       "      <td>0.677358</td>\n",
       "      <td>0.937895</td>\n",
       "      <td>1.354737</td>\n",
       "      <td>0.450000</td>\n",
       "      <td>0.690825</td>\n",
       "      <td>0.650000</td>\n",
       "      <td>0.751682</td>\n",
       "      <td>0.047368</td>\n",
       "      <td>0.205263</td>\n",
       "      <td>-6.210526</td>\n",
       "      <td>35.473684</td>\n",
       "    </tr>\n",
       "    <tr>\n",
       "      <th>7</th>\n",
       "      <td></td>\n",
       "      <td>8</td>\n",
       "      <td>0.202020</td>\n",
       "      <td>0.638461</td>\n",
       "      <td>1.146316</td>\n",
       "      <td>1.302632</td>\n",
       "      <td>0.550000</td>\n",
       "      <td>0.658914</td>\n",
       "      <td>0.625000</td>\n",
       "      <td>0.728490</td>\n",
       "      <td>0.057895</td>\n",
       "      <td>0.263158</td>\n",
       "      <td>14.631579</td>\n",
       "      <td>30.263158</td>\n",
       "    </tr>\n",
       "    <tr>\n",
       "      <th>8</th>\n",
       "      <td></td>\n",
       "      <td>9</td>\n",
       "      <td>0.300505</td>\n",
       "      <td>0.600641</td>\n",
       "      <td>1.068826</td>\n",
       "      <td>1.226006</td>\n",
       "      <td>0.512821</td>\n",
       "      <td>0.619568</td>\n",
       "      <td>0.588235</td>\n",
       "      <td>0.692793</td>\n",
       "      <td>0.105263</td>\n",
       "      <td>0.368421</td>\n",
       "      <td>6.882591</td>\n",
       "      <td>22.600619</td>\n",
       "    </tr>\n",
       "    <tr>\n",
       "      <th>9</th>\n",
       "      <td></td>\n",
       "      <td>10</td>\n",
       "      <td>0.401515</td>\n",
       "      <td>0.557666</td>\n",
       "      <td>0.990000</td>\n",
       "      <td>1.166634</td>\n",
       "      <td>0.475000</td>\n",
       "      <td>0.578495</td>\n",
       "      <td>0.559748</td>\n",
       "      <td>0.664039</td>\n",
       "      <td>0.100000</td>\n",
       "      <td>0.468421</td>\n",
       "      <td>-1.000000</td>\n",
       "      <td>16.663357</td>\n",
       "    </tr>\n",
       "    <tr>\n",
       "      <th>10</th>\n",
       "      <td></td>\n",
       "      <td>11</td>\n",
       "      <td>0.500000</td>\n",
       "      <td>0.518364</td>\n",
       "      <td>0.748178</td>\n",
       "      <td>1.084211</td>\n",
       "      <td>0.358974</td>\n",
       "      <td>0.539671</td>\n",
       "      <td>0.520202</td>\n",
       "      <td>0.639542</td>\n",
       "      <td>0.073684</td>\n",
       "      <td>0.542105</td>\n",
       "      <td>-25.182186</td>\n",
       "      <td>8.421053</td>\n",
       "    </tr>\n",
       "    <tr>\n",
       "      <th>11</th>\n",
       "      <td></td>\n",
       "      <td>12</td>\n",
       "      <td>0.601010</td>\n",
       "      <td>0.492128</td>\n",
       "      <td>1.146316</td>\n",
       "      <td>1.094648</td>\n",
       "      <td>0.550000</td>\n",
       "      <td>0.503619</td>\n",
       "      <td>0.525210</td>\n",
       "      <td>0.616698</td>\n",
       "      <td>0.115789</td>\n",
       "      <td>0.657895</td>\n",
       "      <td>14.631579</td>\n",
       "      <td>9.464839</td>\n",
       "    </tr>\n",
       "    <tr>\n",
       "      <th>12</th>\n",
       "      <td></td>\n",
       "      <td>13</td>\n",
       "      <td>0.699495</td>\n",
       "      <td>0.461864</td>\n",
       "      <td>0.908502</td>\n",
       "      <td>1.068440</td>\n",
       "      <td>0.435897</td>\n",
       "      <td>0.478305</td>\n",
       "      <td>0.512635</td>\n",
       "      <td>0.597213</td>\n",
       "      <td>0.089474</td>\n",
       "      <td>0.747368</td>\n",
       "      <td>-9.149798</td>\n",
       "      <td>6.844005</td>\n",
       "    </tr>\n",
       "    <tr>\n",
       "      <th>13</th>\n",
       "      <td></td>\n",
       "      <td>14</td>\n",
       "      <td>0.800505</td>\n",
       "      <td>0.414090</td>\n",
       "      <td>0.937895</td>\n",
       "      <td>1.051967</td>\n",
       "      <td>0.450000</td>\n",
       "      <td>0.440904</td>\n",
       "      <td>0.504732</td>\n",
       "      <td>0.577489</td>\n",
       "      <td>0.094737</td>\n",
       "      <td>0.842105</td>\n",
       "      <td>-6.210526</td>\n",
       "      <td>5.196746</td>\n",
       "    </tr>\n",
       "    <tr>\n",
       "      <th>14</th>\n",
       "      <td></td>\n",
       "      <td>15</td>\n",
       "      <td>0.898990</td>\n",
       "      <td>0.349507</td>\n",
       "      <td>0.961943</td>\n",
       "      <td>1.042105</td>\n",
       "      <td>0.461538</td>\n",
       "      <td>0.383776</td>\n",
       "      <td>0.500000</td>\n",
       "      <td>0.556268</td>\n",
       "      <td>0.094737</td>\n",
       "      <td>0.936842</td>\n",
       "      <td>-3.805668</td>\n",
       "      <td>4.210526</td>\n",
       "    </tr>\n",
       "    <tr>\n",
       "      <th>15</th>\n",
       "      <td></td>\n",
       "      <td>16</td>\n",
       "      <td>1.000000</td>\n",
       "      <td>0.057154</td>\n",
       "      <td>0.625263</td>\n",
       "      <td>1.000000</td>\n",
       "      <td>0.300000</td>\n",
       "      <td>0.262095</td>\n",
       "      <td>0.479798</td>\n",
       "      <td>0.526554</td>\n",
       "      <td>0.063158</td>\n",
       "      <td>1.000000</td>\n",
       "      <td>-37.473684</td>\n",
       "      <td>0.000000</td>\n",
       "    </tr>\n",
       "  </tbody>\n",
       "</table>\n",
       "</div>"
      ],
      "text/plain": [
       "      group  cumulative_data_fraction  lower_threshold      lift  \\\n",
       "0         1                  0.010101         0.860744  2.084211   \n",
       "1         2                  0.020202         0.828550  2.084211   \n",
       "2         3                  0.030303         0.798118  1.563158   \n",
       "3         4                  0.040404         0.779836  1.563158   \n",
       "4         5                  0.050505         0.760452  1.563158   \n",
       "5         6                  0.101010         0.709503  1.354737   \n",
       "6         7                  0.151515         0.677358  0.937895   \n",
       "7         8                  0.202020         0.638461  1.146316   \n",
       "8         9                  0.300505         0.600641  1.068826   \n",
       "9        10                  0.401515         0.557666  0.990000   \n",
       "10       11                  0.500000         0.518364  0.748178   \n",
       "11       12                  0.601010         0.492128  1.146316   \n",
       "12       13                  0.699495         0.461864  0.908502   \n",
       "13       14                  0.800505         0.414090  0.937895   \n",
       "14       15                  0.898990         0.349507  0.961943   \n",
       "15       16                  1.000000         0.057154  0.625263   \n",
       "\n",
       "    cumulative_lift  response_rate     score  cumulative_response_rate  \\\n",
       "0          2.084211       1.000000  0.920240                  1.000000   \n",
       "1          2.084211       1.000000  0.849552                  1.000000   \n",
       "2          1.910526       0.750000  0.816249                  0.916667   \n",
       "3          1.823684       0.750000  0.791892                  0.875000   \n",
       "4          1.771579       0.750000  0.770489                  0.850000   \n",
       "5          1.563158       0.650000  0.734537                  0.750000   \n",
       "6          1.354737       0.450000  0.690825                  0.650000   \n",
       "7          1.302632       0.550000  0.658914                  0.625000   \n",
       "8          1.226006       0.512821  0.619568                  0.588235   \n",
       "9          1.166634       0.475000  0.578495                  0.559748   \n",
       "10         1.084211       0.358974  0.539671                  0.520202   \n",
       "11         1.094648       0.550000  0.503619                  0.525210   \n",
       "12         1.068440       0.435897  0.478305                  0.512635   \n",
       "13         1.051967       0.450000  0.440904                  0.504732   \n",
       "14         1.042105       0.461538  0.383776                  0.500000   \n",
       "15         1.000000       0.300000  0.262095                  0.479798   \n",
       "\n",
       "    cumulative_score  capture_rate  cumulative_capture_rate        gain  \\\n",
       "0           0.920240      0.021053                 0.021053  108.421053   \n",
       "1           0.884896      0.021053                 0.042105  108.421053   \n",
       "2           0.862014      0.015789                 0.057895   56.315789   \n",
       "3           0.844483      0.015789                 0.073684   56.315789   \n",
       "4           0.829684      0.015789                 0.089474   56.315789   \n",
       "5           0.782111      0.068421                 0.157895   35.473684   \n",
       "6           0.751682      0.047368                 0.205263   -6.210526   \n",
       "7           0.728490      0.057895                 0.263158   14.631579   \n",
       "8           0.692793      0.105263                 0.368421    6.882591   \n",
       "9           0.664039      0.100000                 0.468421   -1.000000   \n",
       "10          0.639542      0.073684                 0.542105  -25.182186   \n",
       "11          0.616698      0.115789                 0.657895   14.631579   \n",
       "12          0.597213      0.089474                 0.747368   -9.149798   \n",
       "13          0.577489      0.094737                 0.842105   -6.210526   \n",
       "14          0.556268      0.094737                 0.936842   -3.805668   \n",
       "15          0.526554      0.063158                 1.000000  -37.473684   \n",
       "\n",
       "    cumulative_gain  \n",
       "0        108.421053  \n",
       "1        108.421053  \n",
       "2         91.052632  \n",
       "3         82.368421  \n",
       "4         77.157895  \n",
       "5         56.315789  \n",
       "6         35.473684  \n",
       "7         30.263158  \n",
       "8         22.600619  \n",
       "9         16.663357  \n",
       "10         8.421053  \n",
       "11         9.464839  \n",
       "12         6.844005  \n",
       "13         5.196746  \n",
       "14         4.210526  \n",
       "15         0.000000  "
      ]
     },
     "metadata": {},
     "output_type": "display_data"
    },
    {
     "name": "stdout",
     "output_type": "stream",
     "text": [
      "\n",
      "\n"
     ]
    },
    {
     "data": {
      "application/javascript": [
       "\n",
       "            setTimeout(function() {\n",
       "                var nbb_cell_id = 37;\n",
       "                var nbb_unformatted_code = \"perf = aml.leader.model_performance(test)\\nprint(perf)\";\n",
       "                var nbb_formatted_code = \"perf = aml.leader.model_performance(test)\\nprint(perf)\";\n",
       "                var nbb_cells = Jupyter.notebook.get_cells();\n",
       "                for (var i = 0; i < nbb_cells.length; ++i) {\n",
       "                    if (nbb_cells[i].input_prompt_number == nbb_cell_id) {\n",
       "                        if (nbb_cells[i].get_text() == nbb_unformatted_code) {\n",
       "                             nbb_cells[i].set_text(nbb_formatted_code);\n",
       "                        }\n",
       "                        break;\n",
       "                    }\n",
       "                }\n",
       "            }, 500);\n",
       "            "
      ],
      "text/plain": [
       "<IPython.core.display.Javascript object>"
      ]
     },
     "metadata": {},
     "output_type": "display_data"
    }
   ],
   "source": [
    "perf = aml.leader.model_performance(test)\n",
    "print(perf)"
   ]
  },
  {
   "cell_type": "markdown",
   "metadata": {},
   "source": [
    "## Visualization"
   ]
  },
  {
   "cell_type": "code",
   "execution_count": null,
   "metadata": {},
   "outputs": [],
   "source": []
  },
  {
   "cell_type": "markdown",
   "metadata": {},
   "source": [
    "# Model and Feature Selection"
   ]
  },
  {
   "cell_type": "code",
   "execution_count": 38,
   "metadata": {},
   "outputs": [
    {
     "data": {
      "application/javascript": [
       "\n",
       "            setTimeout(function() {\n",
       "                var nbb_cell_id = 38;\n",
       "                var nbb_unformatted_code = \"# Create train and test set  \\nX_train, X_test, y_train, y_test = train_test_split(data_features,\\n                                                    data_label,\\n                                                    test_size=0.3,\\n                                                    random_state=42)\";\n",
       "                var nbb_formatted_code = \"# Create train and test set\\nX_train, X_test, y_train, y_test = train_test_split(\\n    data_features, data_label, test_size=0.3, random_state=42\\n)\";\n",
       "                var nbb_cells = Jupyter.notebook.get_cells();\n",
       "                for (var i = 0; i < nbb_cells.length; ++i) {\n",
       "                    if (nbb_cells[i].input_prompt_number == nbb_cell_id) {\n",
       "                        if (nbb_cells[i].get_text() == nbb_unformatted_code) {\n",
       "                             nbb_cells[i].set_text(nbb_formatted_code);\n",
       "                        }\n",
       "                        break;\n",
       "                    }\n",
       "                }\n",
       "            }, 500);\n",
       "            "
      ],
      "text/plain": [
       "<IPython.core.display.Javascript object>"
      ]
     },
     "metadata": {},
     "output_type": "display_data"
    }
   ],
   "source": [
    "# Create train and test set\n",
    "X_train, X_test, y_train, y_test = train_test_split(\n",
    "    data_features, data_label, test_size=0.3, random_state=42\n",
    ")"
   ]
  },
  {
   "cell_type": "code",
   "execution_count": 45,
   "metadata": {},
   "outputs": [
    {
     "data": {
      "application/javascript": [
       "\n",
       "            setTimeout(function() {\n",
       "                var nbb_cell_id = 45;\n",
       "                var nbb_unformatted_code = \"# Classifiers\\nclassifiers = {}\\nclassifiers.update({\\\"LDA\\\": LinearDiscriminantAnalysis()})\\nclassifiers.update({\\\"AdaBoost\\\": AdaBoostClassifier()})\\nclassifiers.update({\\\"Bagging\\\": BaggingClassifier()})\\nclassifiers.update({\\\"Extra Trees Ensemble\\\": ExtraTreesClassifier()})\\nclassifiers.update({\\\"Gradient Boosting\\\": GradientBoostingClassifier()})\\nclassifiers.update({\\\"Random Forest\\\": RandomForestClassifier()})\\nclassifiers.update({\\\"Ridge\\\": RidgeClassifier()})\\nclassifiers.update({\\\"BNB\\\": BernoulliNB()})\\nclassifiers.update({\\\"MLP\\\": MLPClassifier()})\\nclassifiers.update({\\\"LSVC\\\": LinearSVC()})\\nclassifiers.update({\\\"NuSVC\\\": NuSVC()})\\nclassifiers.update({\\\"SVC\\\": SVC()})\\nclassifiers.update({\\\"DTC\\\": DecisionTreeClassifier()})\\nclassifiers.update({\\\"ETC\\\": ExtraTreeClassifier()})\\nclassifiers.update({\\\"XGB\\\": XGBClassifier()})\\n\\n\\n# Create dict of decision function labels\\nDECISION_FUNCTIONS = {\\\"Ridge\\\", \\\"SGD\\\", \\\"LSVC\\\", \\\"NuSVC\\\", \\\"SVC\\\"}\\n\\n# Create dict for classifiers with feature_importances_ attribute\\nFEATURE_IMPORTANCE = {\\n    \\\"Gradient Boosting\\\",\\n    \\\"Extra Trees Ensemble\\\",\\n    \\\"Random Forest\\\",\\n    \\\"XGB\\\",\\n}\";\n",
       "                var nbb_formatted_code = \"# Classifiers\\nclassifiers = {}\\nclassifiers.update({\\\"LDA\\\": LinearDiscriminantAnalysis()})\\nclassifiers.update({\\\"AdaBoost\\\": AdaBoostClassifier()})\\nclassifiers.update({\\\"Bagging\\\": BaggingClassifier()})\\nclassifiers.update({\\\"Extra Trees Ensemble\\\": ExtraTreesClassifier()})\\nclassifiers.update({\\\"Gradient Boosting\\\": GradientBoostingClassifier()})\\nclassifiers.update({\\\"Random Forest\\\": RandomForestClassifier()})\\nclassifiers.update({\\\"Ridge\\\": RidgeClassifier()})\\nclassifiers.update({\\\"BNB\\\": BernoulliNB()})\\nclassifiers.update({\\\"MLP\\\": MLPClassifier()})\\nclassifiers.update({\\\"LSVC\\\": LinearSVC()})\\nclassifiers.update({\\\"NuSVC\\\": NuSVC()})\\nclassifiers.update({\\\"SVC\\\": SVC()})\\nclassifiers.update({\\\"DTC\\\": DecisionTreeClassifier()})\\nclassifiers.update({\\\"ETC\\\": ExtraTreeClassifier()})\\nclassifiers.update({\\\"XGB\\\": XGBClassifier()})\\n\\n\\n# Create dict of decision function labels\\nDECISION_FUNCTIONS = {\\\"Ridge\\\", \\\"SGD\\\", \\\"LSVC\\\", \\\"NuSVC\\\", \\\"SVC\\\"}\\n\\n# Create dict for classifiers with feature_importances_ attribute\\nFEATURE_IMPORTANCE = {\\n    \\\"Gradient Boosting\\\",\\n    \\\"Extra Trees Ensemble\\\",\\n    \\\"Random Forest\\\",\\n    \\\"XGB\\\",\\n}\";\n",
       "                var nbb_cells = Jupyter.notebook.get_cells();\n",
       "                for (var i = 0; i < nbb_cells.length; ++i) {\n",
       "                    if (nbb_cells[i].input_prompt_number == nbb_cell_id) {\n",
       "                        if (nbb_cells[i].get_text() == nbb_unformatted_code) {\n",
       "                             nbb_cells[i].set_text(nbb_formatted_code);\n",
       "                        }\n",
       "                        break;\n",
       "                    }\n",
       "                }\n",
       "            }, 500);\n",
       "            "
      ],
      "text/plain": [
       "<IPython.core.display.Javascript object>"
      ]
     },
     "metadata": {},
     "output_type": "display_data"
    }
   ],
   "source": [
    "# Classifiers\n",
    "classifiers = {}\n",
    "classifiers.update({\"LDA\": LinearDiscriminantAnalysis()})\n",
    "classifiers.update({\"AdaBoost\": AdaBoostClassifier()})\n",
    "classifiers.update({\"Bagging\": BaggingClassifier()})\n",
    "classifiers.update({\"Extra Trees Ensemble\": ExtraTreesClassifier()})\n",
    "classifiers.update({\"Gradient Boosting\": GradientBoostingClassifier()})\n",
    "classifiers.update({\"Random Forest\": RandomForestClassifier()})\n",
    "classifiers.update({\"Ridge\": RidgeClassifier()})\n",
    "classifiers.update({\"BNB\": BernoulliNB()})\n",
    "classifiers.update({\"MLP\": MLPClassifier()})\n",
    "classifiers.update({\"LSVC\": LinearSVC()})\n",
    "classifiers.update({\"NuSVC\": NuSVC()})\n",
    "classifiers.update({\"SVC\": SVC()})\n",
    "classifiers.update({\"DTC\": DecisionTreeClassifier()})\n",
    "classifiers.update({\"ETC\": ExtraTreeClassifier()})\n",
    "classifiers.update({\"XGB\": XGBClassifier()})\n",
    "\n",
    "\n",
    "# Create dict of decision function labels\n",
    "DECISION_FUNCTIONS = {\"Ridge\", \"SGD\", \"LSVC\", \"NuSVC\", \"SVC\"}\n",
    "\n",
    "# Create dict for classifiers with feature_importances_ attribute\n",
    "FEATURE_IMPORTANCE = {\n",
    "    \"Gradient Boosting\",\n",
    "    \"Extra Trees Ensemble\",\n",
    "    \"Random Forest\",\n",
    "    \"XGB\",\n",
    "}"
   ]
  },
  {
   "cell_type": "code",
   "execution_count": 40,
   "metadata": {},
   "outputs": [
    {
     "data": {
      "text/plain": [
       "LinearDiscriminantAnalysis(n_components=None, priors=None, shrinkage=None,\n",
       "                           solver='svd', store_covariance=False, tol=0.0001)"
      ]
     },
     "execution_count": 40,
     "metadata": {},
     "output_type": "execute_result"
    },
    {
     "data": {
      "text/plain": [
       "QuadraticDiscriminantAnalysis(priors=None, reg_param=0.0,\n",
       "                              store_covariance=False, tol=0.0001)"
      ]
     },
     "execution_count": 40,
     "metadata": {},
     "output_type": "execute_result"
    },
    {
     "data": {
      "text/plain": [
       "AdaBoostClassifier(algorithm='SAMME.R', base_estimator=None, learning_rate=1.0,\n",
       "                   n_estimators=50, random_state=None)"
      ]
     },
     "execution_count": 40,
     "metadata": {},
     "output_type": "execute_result"
    },
    {
     "data": {
      "text/plain": [
       "BaggingClassifier(base_estimator=None, bootstrap=True, bootstrap_features=False,\n",
       "                  max_features=1.0, max_samples=1.0, n_estimators=10,\n",
       "                  n_jobs=None, oob_score=False, random_state=None, verbose=0,\n",
       "                  warm_start=False)"
      ]
     },
     "execution_count": 40,
     "metadata": {},
     "output_type": "execute_result"
    },
    {
     "data": {
      "text/plain": [
       "ExtraTreesClassifier(bootstrap=False, ccp_alpha=0.0, class_weight=None,\n",
       "                     criterion='gini', max_depth=None, max_features='auto',\n",
       "                     max_leaf_nodes=None, max_samples=None,\n",
       "                     min_impurity_decrease=0.0, min_impurity_split=None,\n",
       "                     min_samples_leaf=1, min_samples_split=2,\n",
       "                     min_weight_fraction_leaf=0.0, n_estimators=100,\n",
       "                     n_jobs=None, oob_score=False, random_state=None, verbose=0,\n",
       "                     warm_start=False)"
      ]
     },
     "execution_count": 40,
     "metadata": {},
     "output_type": "execute_result"
    },
    {
     "data": {
      "text/plain": [
       "GradientBoostingClassifier(ccp_alpha=0.0, criterion='friedman_mse', init=None,\n",
       "                           learning_rate=0.1, loss='deviance', max_depth=3,\n",
       "                           max_features=None, max_leaf_nodes=None,\n",
       "                           min_impurity_decrease=0.0, min_impurity_split=None,\n",
       "                           min_samples_leaf=1, min_samples_split=2,\n",
       "                           min_weight_fraction_leaf=0.0, n_estimators=100,\n",
       "                           n_iter_no_change=None, presort='deprecated',\n",
       "                           random_state=None, subsample=1.0, tol=0.0001,\n",
       "                           validation_fraction=0.1, verbose=0,\n",
       "                           warm_start=False)"
      ]
     },
     "execution_count": 40,
     "metadata": {},
     "output_type": "execute_result"
    },
    {
     "data": {
      "text/plain": [
       "RandomForestClassifier(bootstrap=True, ccp_alpha=0.0, class_weight=None,\n",
       "                       criterion='gini', max_depth=None, max_features='auto',\n",
       "                       max_leaf_nodes=None, max_samples=None,\n",
       "                       min_impurity_decrease=0.0, min_impurity_split=None,\n",
       "                       min_samples_leaf=1, min_samples_split=2,\n",
       "                       min_weight_fraction_leaf=0.0, n_estimators=100,\n",
       "                       n_jobs=None, oob_score=False, random_state=None,\n",
       "                       verbose=0, warm_start=False)"
      ]
     },
     "execution_count": 40,
     "metadata": {},
     "output_type": "execute_result"
    },
    {
     "name": "stderr",
     "output_type": "stream",
     "text": [
      "C:\\Users\\hmbf1\\Anaconda3\\lib\\site-packages\\sklearn\\linear_model\\_ridge.py:148: LinAlgWarning: Ill-conditioned matrix (rcond=1.28374e-20): result may not be accurate.\n",
      "  overwrite_a=True).T\n"
     ]
    },
    {
     "data": {
      "text/plain": [
       "RidgeClassifier(alpha=1.0, class_weight=None, copy_X=True, fit_intercept=True,\n",
       "                max_iter=None, normalize=False, random_state=None,\n",
       "                solver='auto', tol=0.001)"
      ]
     },
     "execution_count": 40,
     "metadata": {},
     "output_type": "execute_result"
    },
    {
     "data": {
      "text/plain": [
       "SGDClassifier(alpha=0.0001, average=False, class_weight=None,\n",
       "              early_stopping=False, epsilon=0.1, eta0=0.0, fit_intercept=True,\n",
       "              l1_ratio=0.15, learning_rate='optimal', loss='hinge',\n",
       "              max_iter=1000, n_iter_no_change=5, n_jobs=None, penalty='l2',\n",
       "              power_t=0.5, random_state=None, shuffle=True, tol=0.001,\n",
       "              validation_fraction=0.1, verbose=0, warm_start=False)"
      ]
     },
     "execution_count": 40,
     "metadata": {},
     "output_type": "execute_result"
    },
    {
     "data": {
      "text/plain": [
       "BernoulliNB(alpha=1.0, binarize=0.0, class_prior=None, fit_prior=True)"
      ]
     },
     "execution_count": 40,
     "metadata": {},
     "output_type": "execute_result"
    },
    {
     "data": {
      "text/plain": [
       "GaussianNB(priors=None, var_smoothing=1e-09)"
      ]
     },
     "execution_count": 40,
     "metadata": {},
     "output_type": "execute_result"
    },
    {
     "data": {
      "text/plain": [
       "KNeighborsClassifier(algorithm='auto', leaf_size=30, metric='minkowski',\n",
       "                     metric_params=None, n_jobs=None, n_neighbors=5, p=2,\n",
       "                     weights='uniform')"
      ]
     },
     "execution_count": 40,
     "metadata": {},
     "output_type": "execute_result"
    },
    {
     "name": "stderr",
     "output_type": "stream",
     "text": [
      "C:\\Users\\hmbf1\\Anaconda3\\lib\\site-packages\\sklearn\\neural_network\\_multilayer_perceptron.py:571: ConvergenceWarning: Stochastic Optimizer: Maximum iterations (200) reached and the optimization hasn't converged yet.\n",
      "  % self.max_iter, ConvergenceWarning)\n"
     ]
    },
    {
     "data": {
      "text/plain": [
       "MLPClassifier(activation='relu', alpha=0.0001, batch_size='auto', beta_1=0.9,\n",
       "              beta_2=0.999, early_stopping=False, epsilon=1e-08,\n",
       "              hidden_layer_sizes=(100,), learning_rate='constant',\n",
       "              learning_rate_init=0.001, max_fun=15000, max_iter=200,\n",
       "              momentum=0.9, n_iter_no_change=10, nesterovs_momentum=True,\n",
       "              power_t=0.5, random_state=None, shuffle=True, solver='adam',\n",
       "              tol=0.0001, validation_fraction=0.1, verbose=False,\n",
       "              warm_start=False)"
      ]
     },
     "execution_count": 40,
     "metadata": {},
     "output_type": "execute_result"
    },
    {
     "name": "stderr",
     "output_type": "stream",
     "text": [
      "C:\\Users\\hmbf1\\Anaconda3\\lib\\site-packages\\sklearn\\svm\\_base.py:947: ConvergenceWarning: Liblinear failed to converge, increase the number of iterations.\n",
      "  \"the number of iterations.\", ConvergenceWarning)\n"
     ]
    },
    {
     "data": {
      "text/plain": [
       "LinearSVC(C=1.0, class_weight=None, dual=True, fit_intercept=True,\n",
       "          intercept_scaling=1, loss='squared_hinge', max_iter=1000,\n",
       "          multi_class='ovr', penalty='l2', random_state=None, tol=0.0001,\n",
       "          verbose=0)"
      ]
     },
     "execution_count": 40,
     "metadata": {},
     "output_type": "execute_result"
    },
    {
     "data": {
      "text/plain": [
       "NuSVC(break_ties=False, cache_size=200, class_weight=None, coef0=0.0,\n",
       "      decision_function_shape='ovr', degree=3, gamma='scale', kernel='rbf',\n",
       "      max_iter=-1, nu=0.5, probability=False, random_state=None, shrinking=True,\n",
       "      tol=0.001, verbose=False)"
      ]
     },
     "execution_count": 40,
     "metadata": {},
     "output_type": "execute_result"
    },
    {
     "data": {
      "text/plain": [
       "SVC(C=1.0, break_ties=False, cache_size=200, class_weight=None, coef0=0.0,\n",
       "    decision_function_shape='ovr', degree=3, gamma='scale', kernel='rbf',\n",
       "    max_iter=-1, probability=False, random_state=None, shrinking=True,\n",
       "    tol=0.001, verbose=False)"
      ]
     },
     "execution_count": 40,
     "metadata": {},
     "output_type": "execute_result"
    },
    {
     "data": {
      "text/plain": [
       "DecisionTreeClassifier(ccp_alpha=0.0, class_weight=None, criterion='gini',\n",
       "                       max_depth=None, max_features=None, max_leaf_nodes=None,\n",
       "                       min_impurity_decrease=0.0, min_impurity_split=None,\n",
       "                       min_samples_leaf=1, min_samples_split=2,\n",
       "                       min_weight_fraction_leaf=0.0, presort='deprecated',\n",
       "                       random_state=None, splitter='best')"
      ]
     },
     "execution_count": 40,
     "metadata": {},
     "output_type": "execute_result"
    },
    {
     "data": {
      "text/plain": [
       "ExtraTreeClassifier(ccp_alpha=0.0, class_weight=None, criterion='gini',\n",
       "                    max_depth=None, max_features='auto', max_leaf_nodes=None,\n",
       "                    min_impurity_decrease=0.0, min_impurity_split=None,\n",
       "                    min_samples_leaf=1, min_samples_split=2,\n",
       "                    min_weight_fraction_leaf=0.0, random_state=None,\n",
       "                    splitter='random')"
      ]
     },
     "execution_count": 40,
     "metadata": {},
     "output_type": "execute_result"
    },
    {
     "data": {
      "text/plain": [
       "XGBClassifier(base_score=0.5, booster='gbtree', colsample_bylevel=1,\n",
       "              colsample_bynode=1, colsample_bytree=1, gamma=0,\n",
       "              learning_rate=0.1, max_delta_step=0, max_depth=3,\n",
       "              min_child_weight=1, missing=None, n_estimators=100, n_jobs=1,\n",
       "              nthread=None, objective='binary:logistic', random_state=0,\n",
       "              reg_alpha=0, reg_lambda=1, scale_pos_weight=1, seed=None,\n",
       "              silent=None, subsample=1, verbosity=1)"
      ]
     },
     "execution_count": 40,
     "metadata": {},
     "output_type": "execute_result"
    },
    {
     "data": {
      "application/javascript": [
       "\n",
       "            setTimeout(function() {\n",
       "                var nbb_cell_id = 40;\n",
       "                var nbb_unformatted_code = \"# Fit all the classifiers with default parameters and create dataframe with score\\nclassifiers_dataframe = pd.DataFrame(columns=[\\\"Model\\\", \\\"Score\\\"])\\n\\nfor name, clf in classifiers.items():\\n    clf.fit(X_train, y_train)\\n    score = clf.score(X_test, y_test)\\n    classifiers_dataframe = classifiers_dataframe.append({\\\"Model\\\": name, \\\"Score\\\": score}, ignore_index=True)\";\n",
       "                var nbb_formatted_code = \"# Fit all the classifiers with default parameters and create dataframe with score\\nclassifiers_dataframe = pd.DataFrame(columns=[\\\"Model\\\", \\\"Score\\\"])\\n\\nfor name, clf in classifiers.items():\\n    clf.fit(X_train, y_train)\\n    score = clf.score(X_test, y_test)\\n    classifiers_dataframe = classifiers_dataframe.append(\\n        {\\\"Model\\\": name, \\\"Score\\\": score}, ignore_index=True\\n    )\";\n",
       "                var nbb_cells = Jupyter.notebook.get_cells();\n",
       "                for (var i = 0; i < nbb_cells.length; ++i) {\n",
       "                    if (nbb_cells[i].input_prompt_number == nbb_cell_id) {\n",
       "                        if (nbb_cells[i].get_text() == nbb_unformatted_code) {\n",
       "                             nbb_cells[i].set_text(nbb_formatted_code);\n",
       "                        }\n",
       "                        break;\n",
       "                    }\n",
       "                }\n",
       "            }, 500);\n",
       "            "
      ],
      "text/plain": [
       "<IPython.core.display.Javascript object>"
      ]
     },
     "metadata": {},
     "output_type": "display_data"
    }
   ],
   "source": [
    "# Fit all the classifiers with default parameters and create dataframe with score\n",
    "classifiers_dataframe = pd.DataFrame(columns=[\"Model\", \"Score\"])\n",
    "\n",
    "for name, clf in classifiers.items():\n",
    "    clf.fit(X_train, y_train)\n",
    "    score = clf.score(X_test, y_test)\n",
    "    classifiers_dataframe = classifiers_dataframe.append(\n",
    "        {\"Model\": name, \"Score\": score}, ignore_index=True\n",
    "    )"
   ]
  },
  {
   "cell_type": "code",
   "execution_count": 41,
   "metadata": {},
   "outputs": [
    {
     "data": {
      "text/html": [
       "<div>\n",
       "<style scoped>\n",
       "    .dataframe tbody tr th:only-of-type {\n",
       "        vertical-align: middle;\n",
       "    }\n",
       "\n",
       "    .dataframe tbody tr th {\n",
       "        vertical-align: top;\n",
       "    }\n",
       "\n",
       "    .dataframe thead th {\n",
       "        text-align: right;\n",
       "    }\n",
       "</style>\n",
       "<table border=\"1\" class=\"dataframe\">\n",
       "  <thead>\n",
       "    <tr style=\"text-align: right;\">\n",
       "      <th></th>\n",
       "      <th>Model</th>\n",
       "      <th>Score</th>\n",
       "    </tr>\n",
       "  </thead>\n",
       "  <tbody>\n",
       "    <tr>\n",
       "      <th>0</th>\n",
       "      <td>LDA</td>\n",
       "      <td>0.6100</td>\n",
       "    </tr>\n",
       "    <tr>\n",
       "      <th>7</th>\n",
       "      <td>Ridge</td>\n",
       "      <td>0.6100</td>\n",
       "    </tr>\n",
       "    <tr>\n",
       "      <th>9</th>\n",
       "      <td>BNB</td>\n",
       "      <td>0.5800</td>\n",
       "    </tr>\n",
       "    <tr>\n",
       "      <th>6</th>\n",
       "      <td>Random Forest</td>\n",
       "      <td>0.5725</td>\n",
       "    </tr>\n",
       "    <tr>\n",
       "      <th>4</th>\n",
       "      <td>Extra Trees Ensemble</td>\n",
       "      <td>0.5525</td>\n",
       "    </tr>\n",
       "    <tr>\n",
       "      <th>5</th>\n",
       "      <td>Gradient Boosting</td>\n",
       "      <td>0.5525</td>\n",
       "    </tr>\n",
       "    <tr>\n",
       "      <th>3</th>\n",
       "      <td>Bagging</td>\n",
       "      <td>0.5425</td>\n",
       "    </tr>\n",
       "    <tr>\n",
       "      <th>8</th>\n",
       "      <td>SGD</td>\n",
       "      <td>0.5350</td>\n",
       "    </tr>\n",
       "    <tr>\n",
       "      <th>10</th>\n",
       "      <td>GNB</td>\n",
       "      <td>0.5300</td>\n",
       "    </tr>\n",
       "    <tr>\n",
       "      <th>2</th>\n",
       "      <td>AdaBoost</td>\n",
       "      <td>0.5250</td>\n",
       "    </tr>\n",
       "    <tr>\n",
       "      <th>16</th>\n",
       "      <td>DTC</td>\n",
       "      <td>0.5175</td>\n",
       "    </tr>\n",
       "    <tr>\n",
       "      <th>11</th>\n",
       "      <td>KNN</td>\n",
       "      <td>0.5150</td>\n",
       "    </tr>\n",
       "    <tr>\n",
       "      <th>18</th>\n",
       "      <td>XGB</td>\n",
       "      <td>0.5075</td>\n",
       "    </tr>\n",
       "    <tr>\n",
       "      <th>17</th>\n",
       "      <td>ETC</td>\n",
       "      <td>0.5025</td>\n",
       "    </tr>\n",
       "    <tr>\n",
       "      <th>1</th>\n",
       "      <td>QDA</td>\n",
       "      <td>0.5000</td>\n",
       "    </tr>\n",
       "    <tr>\n",
       "      <th>14</th>\n",
       "      <td>NuSVC</td>\n",
       "      <td>0.4950</td>\n",
       "    </tr>\n",
       "    <tr>\n",
       "      <th>12</th>\n",
       "      <td>MLP</td>\n",
       "      <td>0.4875</td>\n",
       "    </tr>\n",
       "    <tr>\n",
       "      <th>15</th>\n",
       "      <td>SVC</td>\n",
       "      <td>0.4750</td>\n",
       "    </tr>\n",
       "    <tr>\n",
       "      <th>13</th>\n",
       "      <td>LSVC</td>\n",
       "      <td>0.4625</td>\n",
       "    </tr>\n",
       "  </tbody>\n",
       "</table>\n",
       "</div>"
      ],
      "text/plain": [
       "                   Model   Score\n",
       "0                    LDA  0.6100\n",
       "7                  Ridge  0.6100\n",
       "9                    BNB  0.5800\n",
       "6          Random Forest  0.5725\n",
       "4   Extra Trees Ensemble  0.5525\n",
       "5      Gradient Boosting  0.5525\n",
       "3                Bagging  0.5425\n",
       "8                    SGD  0.5350\n",
       "10                   GNB  0.5300\n",
       "2               AdaBoost  0.5250\n",
       "16                   DTC  0.5175\n",
       "11                   KNN  0.5150\n",
       "18                   XGB  0.5075\n",
       "17                   ETC  0.5025\n",
       "1                    QDA  0.5000\n",
       "14                 NuSVC  0.4950\n",
       "12                   MLP  0.4875\n",
       "15                   SVC  0.4750\n",
       "13                  LSVC  0.4625"
      ]
     },
     "execution_count": 41,
     "metadata": {},
     "output_type": "execute_result"
    },
    {
     "data": {
      "application/javascript": [
       "\n",
       "            setTimeout(function() {\n",
       "                var nbb_cell_id = 41;\n",
       "                var nbb_unformatted_code = \"classifiers_dataframe.sort_values(by='Score', ascending=False)\";\n",
       "                var nbb_formatted_code = \"classifiers_dataframe.sort_values(by=\\\"Score\\\", ascending=False)\";\n",
       "                var nbb_cells = Jupyter.notebook.get_cells();\n",
       "                for (var i = 0; i < nbb_cells.length; ++i) {\n",
       "                    if (nbb_cells[i].input_prompt_number == nbb_cell_id) {\n",
       "                        if (nbb_cells[i].get_text() == nbb_unformatted_code) {\n",
       "                             nbb_cells[i].set_text(nbb_formatted_code);\n",
       "                        }\n",
       "                        break;\n",
       "                    }\n",
       "                }\n",
       "            }, 500);\n",
       "            "
      ],
      "text/plain": [
       "<IPython.core.display.Javascript object>"
      ]
     },
     "metadata": {},
     "output_type": "display_data"
    }
   ],
   "source": [
    "classifiers_dataframe.sort_values(by=\"Score\", ascending=False)"
   ]
  },
  {
   "cell_type": "code",
   "execution_count": 46,
   "metadata": {},
   "outputs": [
    {
     "data": {
      "application/javascript": [
       "\n",
       "            setTimeout(function() {\n",
       "                var nbb_cell_id = 46;\n",
       "                var nbb_unformatted_code = \"# Hyperparameter configuration\\n\\n# Initiate parameter grid\\nparameters = {}\\n\\n# Update dict with LDA\\nparameters.update({\\\"LDA\\\": {\\\"solver\\\": [\\\"svd\\\"],}})\\n\\n# Update dict with AdaBoost\\nparameters.update(\\n    {\\n        \\\"AdaBoost\\\": {\\n            \\\"base_estimator\\\": [\\n                DecisionTreeClassifier(max_depth=ii) for ii in range(1, 6)\\n            ],\\n            \\\"n_estimators\\\": [200],\\n            \\\"learning_rate\\\": [0.001, 0.01, 0.05, 0.1, 0.25, 0.50, 0.75, 1.0],\\n        }\\n    }\\n)\\n\\n# Update dict with Bagging\\nparameters.update(\\n    {\\n        \\\"Bagging\\\": {\\n            \\\"base_estimator\\\": [\\n                DecisionTreeClassifier(max_depth=ii) for ii in range(1, 6)\\n            ],\\n            \\\"n_estimators\\\": [200],\\n            \\\"max_features\\\": [0.2, 0.3, 0.4, 0.5, 0.6, 0.7, 0.8, 0.9, 1.0],\\n            \\\"n_jobs\\\": [-1],\\n        }\\n    }\\n)\\n\\n# Update dict with Gradient Boosting\\nparameters.update(\\n    {\\n        \\\"Gradient Boosting\\\": {\\n            \\\"learning_rate\\\": [0.05, 0.01, 0.001],\\n            \\\"n_estimators\\\": [200],\\n            \\\"max_depth\\\": [4, 5],\\n            \\\"min_samples_split\\\": [0.01],\\n            \\\"min_samples_leaf\\\": [0.01],\\n            \\\"max_features\\\": [\\\"auto\\\"],\\n            \\\"subsample\\\": [0.8, 1],\\n        }\\n    }\\n)\\n\\n\\n# Update dict with Extra Trees\\nparameters.update(\\n    {\\n        \\\"Extra Trees Ensemble\\\": {\\n            \\\"n_estimators\\\": [200],\\n            \\\"class_weight\\\": [None, \\\"balanced\\\"],\\n            \\\"max_features\\\": [\\\"auto\\\", \\\"sqrt\\\", \\\"log2\\\"],\\n            \\\"max_depth\\\": [3, 4, 5, 6, 7, 8],\\n            \\\"min_samples_split\\\": [0.005, 0.01, 0.05, 0.10],\\n            \\\"min_samples_leaf\\\": [0.005, 0.01, 0.05, 0.10],\\n            \\\"criterion\\\": [\\\"gini\\\", \\\"entropy\\\"],\\n            \\\"n_jobs\\\": [-1],\\n        }\\n    }\\n)\\n\\n\\n# Update dict with Random Forest Parameters\\nparameters.update(\\n    {\\n        \\\"Random Forest\\\": {\\n            \\\"n_estimators\\\": [400],\\n            \\\"class_weight\\\": [\\\"balanced\\\"],\\n            \\\"max_features\\\": [\\\"auto\\\", \\\"sqrt\\\"],\\n            \\\"max_depth\\\": [10, 11, 12],\\n            \\\"min_samples_split\\\": [0.001],\\n            \\\"min_samples_leaf\\\": [0.001],\\n            \\\"criterion\\\": [\\\"gini\\\", \\\"entropy\\\"],\\n            \\\"n_jobs\\\": [-1],\\n        }\\n    }\\n)\\n\\n\\n# Update dict with Ridge\\nparameters.update(\\n    {\\n        \\\"Ridge\\\": {\\n            \\\"alpha\\\": [1e-7, 1e-6, 1e-5, 1e-4, 1e-3, 1e-2, 1e-1, 0.25, 0.50, 0.75, 1.0]\\n        }\\n    }\\n)\\n\\n# Update dict with BernoulliNB Classifier\\nparameters.update(\\n    {\\n        \\\"BNB\\\": {\\n            \\\"alpha\\\": [1e-7, 1e-6, 1e-5, 1e-4, 1e-3, 1e-2, 1e-1, 0.25, 0.50, 0.75, 1.0]\\n        }\\n    }\\n)\\n\\n\\n# Update dict with MLPClassifier\\nparameters.update(\\n    {\\n        \\\"MLP\\\": {\\n            \\\"hidden_layer_sizes\\\": [\\n                (5),\\n                (10),\\n                (5, 5),\\n                (10, 10),\\n                (5, 5, 5),\\n                (10, 10, 10),\\n            ],\\n            \\\"activation\\\": [\\\"identity\\\", \\\"logistic\\\", \\\"tanh\\\", \\\"relu\\\"],\\n            \\\"learning_rate\\\": [\\\"constant\\\", \\\"invscaling\\\", \\\"adaptive\\\"],\\n            \\\"max_iter\\\": [100, 200, 300, 500, 1000, 2000],\\n            \\\"alpha\\\": list(10.0 ** -np.arange(1, 10)),\\n        }\\n    }\\n)\\n\\nparameters.update(\\n    {\\\"LSVC\\\": {\\\"penalty\\\": [\\\"l2\\\"], \\\"C\\\": [0.0001, 0.001, 0.01, 0.1, 1.0, 10, 100]}}\\n)\\n\\nparameters.update(\\n    {\\n        \\\"NuSVC\\\": {\\n            \\\"nu\\\": [0.25, 0.50, 0.75],\\n            \\\"kernel\\\": [\\\"linear\\\", \\\"rbf\\\", \\\"poly\\\"],\\n            \\\"degree\\\": [1, 2, 3, 4, 5, 6],\\n        }\\n    }\\n)\\n\\nparameters.update(\\n    {\\n        \\\"SVC\\\": {\\n            \\\"kernel\\\": [\\\"linear\\\", \\\"rbf\\\", \\\"poly\\\"],\\n            \\\"gamma\\\": [\\\"auto\\\"],\\n            \\\"C\\\": [0.1, 0.5, 1, 5, 10, 50, 100],\\n            \\\"degree\\\": [1, 2, 3, 4, 5, 6],\\n        }\\n    }\\n)\\n\\n\\n# Update dict with Decision Tree Classifier\\nparameters.update(\\n    {\\n        \\\"DTC\\\": {\\n            \\\"criterion\\\": [\\\"gini\\\", \\\"entropy\\\"],\\n            \\\"splitter\\\": [\\\"best\\\", \\\"random\\\"],\\n            \\\"class_weight\\\": [None, \\\"balanced\\\"],\\n            \\\"max_features\\\": [\\\"auto\\\", \\\"sqrt\\\", \\\"log2\\\"],\\n            \\\"max_depth\\\": [1, 2, 3, 4, 5, 6, 7, 8],\\n            \\\"min_samples_split\\\": [0.005, 0.01, 0.05, 0.10],\\n            \\\"min_samples_leaf\\\": [0.005, 0.01, 0.05, 0.10],\\n        }\\n    }\\n)\\n\\n# Update dict with Extra Tree Classifier\\nparameters.update(\\n    {\\n        \\\"ETC\\\": {\\n            \\\"criterion\\\": [\\\"gini\\\", \\\"entropy\\\"],\\n            \\\"splitter\\\": [\\\"best\\\", \\\"random\\\"],\\n            \\\"class_weight\\\": [None, \\\"balanced\\\"],\\n            \\\"max_features\\\": [\\\"auto\\\", \\\"sqrt\\\", \\\"log2\\\"],\\n            \\\"max_depth\\\": [1, 2, 3, 4, 5, 6, 7, 8],\\n            \\\"min_samples_split\\\": [0.005, 0.01, 0.05, 0.10],\\n            \\\"min_samples_leaf\\\": [0.005, 0.01, 0.05, 0.10],\\n        }\\n    }\\n)\\n\\n# Update dict with XGBoost Classifier\\n# Inspired in https://www.analyticsvidhya.com/blog/2016/03/complete-guide-parameter-tuning-xgboost-with-codes-python/\\nparameters.update(\\n    {\\n        \\\"XGB\\\": {\\n            \\\"learning_rate\\\": [0.15, 0.1, 0.05, 0.01, 0.005, 0.001],\\n            \\\"n_estimators\\\": [200],\\n            \\\"max_depth\\\": [2, 3, 4, 5, 6],\\n            \\\"min_child_weight\\\": [1, 3, 5, 7],\\n            \\\"gama\\\": [0, 0.1, 0.2, 0.3, 0.4],\\n            \\\"ccolsample_bytree\\\": [0.6, 0.7, 0.8, 0.9],\\n            \\\"subsample\\\": [0.6, 0.7, 0.8, 0.9],\\n            \\\"reg_alpha\\\": [1e-5, 1e-2, 0.1, 1, 100],\\n        }\\n    }\\n)\";\n",
       "                var nbb_formatted_code = \"# Hyperparameter configuration\\n\\n# Initiate parameter grid\\nparameters = {}\\n\\n# Update dict with LDA\\nparameters.update({\\\"LDA\\\": {\\\"solver\\\": [\\\"svd\\\"],}})\\n\\n# Update dict with AdaBoost\\nparameters.update(\\n    {\\n        \\\"AdaBoost\\\": {\\n            \\\"base_estimator\\\": [\\n                DecisionTreeClassifier(max_depth=ii) for ii in range(1, 6)\\n            ],\\n            \\\"n_estimators\\\": [200],\\n            \\\"learning_rate\\\": [0.001, 0.01, 0.05, 0.1, 0.25, 0.50, 0.75, 1.0],\\n        }\\n    }\\n)\\n\\n# Update dict with Bagging\\nparameters.update(\\n    {\\n        \\\"Bagging\\\": {\\n            \\\"base_estimator\\\": [\\n                DecisionTreeClassifier(max_depth=ii) for ii in range(1, 6)\\n            ],\\n            \\\"n_estimators\\\": [200],\\n            \\\"max_features\\\": [0.2, 0.3, 0.4, 0.5, 0.6, 0.7, 0.8, 0.9, 1.0],\\n            \\\"n_jobs\\\": [-1],\\n        }\\n    }\\n)\\n\\n# Update dict with Gradient Boosting\\nparameters.update(\\n    {\\n        \\\"Gradient Boosting\\\": {\\n            \\\"learning_rate\\\": [0.05, 0.01, 0.001],\\n            \\\"n_estimators\\\": [200],\\n            \\\"max_depth\\\": [4, 5],\\n            \\\"min_samples_split\\\": [0.01],\\n            \\\"min_samples_leaf\\\": [0.01],\\n            \\\"max_features\\\": [\\\"auto\\\"],\\n            \\\"subsample\\\": [0.8, 1],\\n        }\\n    }\\n)\\n\\n\\n# Update dict with Extra Trees\\nparameters.update(\\n    {\\n        \\\"Extra Trees Ensemble\\\": {\\n            \\\"n_estimators\\\": [200],\\n            \\\"class_weight\\\": [None, \\\"balanced\\\"],\\n            \\\"max_features\\\": [\\\"auto\\\", \\\"sqrt\\\", \\\"log2\\\"],\\n            \\\"max_depth\\\": [3, 4, 5, 6, 7, 8],\\n            \\\"min_samples_split\\\": [0.005, 0.01, 0.05, 0.10],\\n            \\\"min_samples_leaf\\\": [0.005, 0.01, 0.05, 0.10],\\n            \\\"criterion\\\": [\\\"gini\\\", \\\"entropy\\\"],\\n            \\\"n_jobs\\\": [-1],\\n        }\\n    }\\n)\\n\\n\\n# Update dict with Random Forest Parameters\\nparameters.update(\\n    {\\n        \\\"Random Forest\\\": {\\n            \\\"n_estimators\\\": [400],\\n            \\\"class_weight\\\": [\\\"balanced\\\"],\\n            \\\"max_features\\\": [\\\"auto\\\", \\\"sqrt\\\"],\\n            \\\"max_depth\\\": [10, 11, 12],\\n            \\\"min_samples_split\\\": [0.001],\\n            \\\"min_samples_leaf\\\": [0.001],\\n            \\\"criterion\\\": [\\\"gini\\\", \\\"entropy\\\"],\\n            \\\"n_jobs\\\": [-1],\\n        }\\n    }\\n)\\n\\n\\n# Update dict with Ridge\\nparameters.update(\\n    {\\n        \\\"Ridge\\\": {\\n            \\\"alpha\\\": [1e-7, 1e-6, 1e-5, 1e-4, 1e-3, 1e-2, 1e-1, 0.25, 0.50, 0.75, 1.0]\\n        }\\n    }\\n)\\n\\n# Update dict with BernoulliNB Classifier\\nparameters.update(\\n    {\\n        \\\"BNB\\\": {\\n            \\\"alpha\\\": [1e-7, 1e-6, 1e-5, 1e-4, 1e-3, 1e-2, 1e-1, 0.25, 0.50, 0.75, 1.0]\\n        }\\n    }\\n)\\n\\n\\n# Update dict with MLPClassifier\\nparameters.update(\\n    {\\n        \\\"MLP\\\": {\\n            \\\"hidden_layer_sizes\\\": [\\n                (5),\\n                (10),\\n                (5, 5),\\n                (10, 10),\\n                (5, 5, 5),\\n                (10, 10, 10),\\n            ],\\n            \\\"activation\\\": [\\\"identity\\\", \\\"logistic\\\", \\\"tanh\\\", \\\"relu\\\"],\\n            \\\"learning_rate\\\": [\\\"constant\\\", \\\"invscaling\\\", \\\"adaptive\\\"],\\n            \\\"max_iter\\\": [100, 200, 300, 500, 1000, 2000],\\n            \\\"alpha\\\": list(10.0 ** -np.arange(1, 10)),\\n        }\\n    }\\n)\\n\\nparameters.update(\\n    {\\\"LSVC\\\": {\\\"penalty\\\": [\\\"l2\\\"], \\\"C\\\": [0.0001, 0.001, 0.01, 0.1, 1.0, 10, 100]}}\\n)\\n\\nparameters.update(\\n    {\\n        \\\"NuSVC\\\": {\\n            \\\"nu\\\": [0.25, 0.50, 0.75],\\n            \\\"kernel\\\": [\\\"linear\\\", \\\"rbf\\\", \\\"poly\\\"],\\n            \\\"degree\\\": [1, 2, 3, 4, 5, 6],\\n        }\\n    }\\n)\\n\\nparameters.update(\\n    {\\n        \\\"SVC\\\": {\\n            \\\"kernel\\\": [\\\"linear\\\", \\\"rbf\\\", \\\"poly\\\"],\\n            \\\"gamma\\\": [\\\"auto\\\"],\\n            \\\"C\\\": [0.1, 0.5, 1, 5, 10, 50, 100],\\n            \\\"degree\\\": [1, 2, 3, 4, 5, 6],\\n        }\\n    }\\n)\\n\\n\\n# Update dict with Decision Tree Classifier\\nparameters.update(\\n    {\\n        \\\"DTC\\\": {\\n            \\\"criterion\\\": [\\\"gini\\\", \\\"entropy\\\"],\\n            \\\"splitter\\\": [\\\"best\\\", \\\"random\\\"],\\n            \\\"class_weight\\\": [None, \\\"balanced\\\"],\\n            \\\"max_features\\\": [\\\"auto\\\", \\\"sqrt\\\", \\\"log2\\\"],\\n            \\\"max_depth\\\": [1, 2, 3, 4, 5, 6, 7, 8],\\n            \\\"min_samples_split\\\": [0.005, 0.01, 0.05, 0.10],\\n            \\\"min_samples_leaf\\\": [0.005, 0.01, 0.05, 0.10],\\n        }\\n    }\\n)\\n\\n# Update dict with Extra Tree Classifier\\nparameters.update(\\n    {\\n        \\\"ETC\\\": {\\n            \\\"criterion\\\": [\\\"gini\\\", \\\"entropy\\\"],\\n            \\\"splitter\\\": [\\\"best\\\", \\\"random\\\"],\\n            \\\"class_weight\\\": [None, \\\"balanced\\\"],\\n            \\\"max_features\\\": [\\\"auto\\\", \\\"sqrt\\\", \\\"log2\\\"],\\n            \\\"max_depth\\\": [1, 2, 3, 4, 5, 6, 7, 8],\\n            \\\"min_samples_split\\\": [0.005, 0.01, 0.05, 0.10],\\n            \\\"min_samples_leaf\\\": [0.005, 0.01, 0.05, 0.10],\\n        }\\n    }\\n)\\n\\n# Update dict with XGBoost Classifier\\n# Inspired in https://www.analyticsvidhya.com/blog/2016/03/complete-guide-parameter-tuning-xgboost-with-codes-python/\\nparameters.update(\\n    {\\n        \\\"XGB\\\": {\\n            \\\"learning_rate\\\": [0.15, 0.1, 0.05, 0.01, 0.005, 0.001],\\n            \\\"n_estimators\\\": [200],\\n            \\\"max_depth\\\": [2, 3, 4, 5, 6],\\n            \\\"min_child_weight\\\": [1, 3, 5, 7],\\n            \\\"gama\\\": [0, 0.1, 0.2, 0.3, 0.4],\\n            \\\"ccolsample_bytree\\\": [0.6, 0.7, 0.8, 0.9],\\n            \\\"subsample\\\": [0.6, 0.7, 0.8, 0.9],\\n            \\\"reg_alpha\\\": [1e-5, 1e-2, 0.1, 1, 100],\\n        }\\n    }\\n)\";\n",
       "                var nbb_cells = Jupyter.notebook.get_cells();\n",
       "                for (var i = 0; i < nbb_cells.length; ++i) {\n",
       "                    if (nbb_cells[i].input_prompt_number == nbb_cell_id) {\n",
       "                        if (nbb_cells[i].get_text() == nbb_unformatted_code) {\n",
       "                             nbb_cells[i].set_text(nbb_formatted_code);\n",
       "                        }\n",
       "                        break;\n",
       "                    }\n",
       "                }\n",
       "            }, 500);\n",
       "            "
      ],
      "text/plain": [
       "<IPython.core.display.Javascript object>"
      ]
     },
     "metadata": {},
     "output_type": "display_data"
    }
   ],
   "source": [
    "# Hyperparameter configuration\n",
    "\n",
    "# Initiate parameter grid\n",
    "parameters = {}\n",
    "\n",
    "# Update dict with LDA\n",
    "parameters.update({\"LDA\": {\"solver\": [\"svd\"],}})\n",
    "\n",
    "# Update dict with AdaBoost\n",
    "parameters.update(\n",
    "    {\n",
    "        \"AdaBoost\": {\n",
    "            \"base_estimator\": [\n",
    "                DecisionTreeClassifier(max_depth=ii) for ii in range(1, 6)\n",
    "            ],\n",
    "            \"n_estimators\": [200],\n",
    "            \"learning_rate\": [0.001, 0.01, 0.05, 0.1, 0.25, 0.50, 0.75, 1.0],\n",
    "        }\n",
    "    }\n",
    ")\n",
    "\n",
    "# Update dict with Bagging\n",
    "parameters.update(\n",
    "    {\n",
    "        \"Bagging\": {\n",
    "            \"base_estimator\": [\n",
    "                DecisionTreeClassifier(max_depth=ii) for ii in range(1, 6)\n",
    "            ],\n",
    "            \"n_estimators\": [200],\n",
    "            \"max_features\": [0.2, 0.3, 0.4, 0.5, 0.6, 0.7, 0.8, 0.9, 1.0],\n",
    "            \"n_jobs\": [-1],\n",
    "        }\n",
    "    }\n",
    ")\n",
    "\n",
    "# Update dict with Gradient Boosting\n",
    "parameters.update(\n",
    "    {\n",
    "        \"Gradient Boosting\": {\n",
    "            \"learning_rate\": [0.05, 0.01, 0.001],\n",
    "            \"n_estimators\": [200],\n",
    "            \"max_depth\": [4, 5],\n",
    "            \"min_samples_split\": [0.01],\n",
    "            \"min_samples_leaf\": [0.01],\n",
    "            \"max_features\": [\"auto\"],\n",
    "            \"subsample\": [0.8, 1],\n",
    "        }\n",
    "    }\n",
    ")\n",
    "\n",
    "\n",
    "# Update dict with Extra Trees\n",
    "parameters.update(\n",
    "    {\n",
    "        \"Extra Trees Ensemble\": {\n",
    "            \"n_estimators\": [200],\n",
    "            \"class_weight\": [None, \"balanced\"],\n",
    "            \"max_features\": [\"auto\", \"sqrt\", \"log2\"],\n",
    "            \"max_depth\": [3, 4, 5, 6, 7, 8],\n",
    "            \"min_samples_split\": [0.005, 0.01, 0.05, 0.10],\n",
    "            \"min_samples_leaf\": [0.005, 0.01, 0.05, 0.10],\n",
    "            \"criterion\": [\"gini\", \"entropy\"],\n",
    "            \"n_jobs\": [-1],\n",
    "        }\n",
    "    }\n",
    ")\n",
    "\n",
    "\n",
    "# Update dict with Random Forest Parameters\n",
    "parameters.update(\n",
    "    {\n",
    "        \"Random Forest\": {\n",
    "            \"n_estimators\": [400],\n",
    "            \"class_weight\": [\"balanced\"],\n",
    "            \"max_features\": [\"auto\", \"sqrt\"],\n",
    "            \"max_depth\": [10, 11, 12],\n",
    "            \"min_samples_split\": [0.001],\n",
    "            \"min_samples_leaf\": [0.001],\n",
    "            \"criterion\": [\"gini\", \"entropy\"],\n",
    "            \"n_jobs\": [-1],\n",
    "        }\n",
    "    }\n",
    ")\n",
    "\n",
    "\n",
    "# Update dict with Ridge\n",
    "parameters.update(\n",
    "    {\n",
    "        \"Ridge\": {\n",
    "            \"alpha\": [1e-7, 1e-6, 1e-5, 1e-4, 1e-3, 1e-2, 1e-1, 0.25, 0.50, 0.75, 1.0]\n",
    "        }\n",
    "    }\n",
    ")\n",
    "\n",
    "# Update dict with BernoulliNB Classifier\n",
    "parameters.update(\n",
    "    {\n",
    "        \"BNB\": {\n",
    "            \"alpha\": [1e-7, 1e-6, 1e-5, 1e-4, 1e-3, 1e-2, 1e-1, 0.25, 0.50, 0.75, 1.0]\n",
    "        }\n",
    "    }\n",
    ")\n",
    "\n",
    "\n",
    "# Update dict with MLPClassifier\n",
    "parameters.update(\n",
    "    {\n",
    "        \"MLP\": {\n",
    "            \"hidden_layer_sizes\": [\n",
    "                (5),\n",
    "                (10),\n",
    "                (5, 5),\n",
    "                (10, 10),\n",
    "                (5, 5, 5),\n",
    "                (10, 10, 10),\n",
    "            ],\n",
    "            \"activation\": [\"identity\", \"logistic\", \"tanh\", \"relu\"],\n",
    "            \"learning_rate\": [\"constant\", \"invscaling\", \"adaptive\"],\n",
    "            \"max_iter\": [100, 200, 300, 500, 1000, 2000],\n",
    "            \"alpha\": list(10.0 ** -np.arange(1, 10)),\n",
    "        }\n",
    "    }\n",
    ")\n",
    "\n",
    "parameters.update(\n",
    "    {\"LSVC\": {\"penalty\": [\"l2\"], \"C\": [0.0001, 0.001, 0.01, 0.1, 1.0, 10, 100]}}\n",
    ")\n",
    "\n",
    "parameters.update(\n",
    "    {\n",
    "        \"NuSVC\": {\n",
    "            \"nu\": [0.25, 0.50, 0.75],\n",
    "            \"kernel\": [\"linear\", \"rbf\", \"poly\"],\n",
    "            \"degree\": [1, 2, 3, 4, 5, 6],\n",
    "        }\n",
    "    }\n",
    ")\n",
    "\n",
    "parameters.update(\n",
    "    {\n",
    "        \"SVC\": {\n",
    "            \"kernel\": [\"linear\", \"rbf\", \"poly\"],\n",
    "            \"gamma\": [\"auto\"],\n",
    "            \"C\": [0.1, 0.5, 1, 5, 10, 50, 100],\n",
    "            \"degree\": [1, 2, 3, 4, 5, 6],\n",
    "        }\n",
    "    }\n",
    ")\n",
    "\n",
    "\n",
    "# Update dict with Decision Tree Classifier\n",
    "parameters.update(\n",
    "    {\n",
    "        \"DTC\": {\n",
    "            \"criterion\": [\"gini\", \"entropy\"],\n",
    "            \"splitter\": [\"best\", \"random\"],\n",
    "            \"class_weight\": [None, \"balanced\"],\n",
    "            \"max_features\": [\"auto\", \"sqrt\", \"log2\"],\n",
    "            \"max_depth\": [1, 2, 3, 4, 5, 6, 7, 8],\n",
    "            \"min_samples_split\": [0.005, 0.01, 0.05, 0.10],\n",
    "            \"min_samples_leaf\": [0.005, 0.01, 0.05, 0.10],\n",
    "        }\n",
    "    }\n",
    ")\n",
    "\n",
    "# Update dict with Extra Tree Classifier\n",
    "parameters.update(\n",
    "    {\n",
    "        \"ETC\": {\n",
    "            \"criterion\": [\"gini\", \"entropy\"],\n",
    "            \"splitter\": [\"best\", \"random\"],\n",
    "            \"class_weight\": [None, \"balanced\"],\n",
    "            \"max_features\": [\"auto\", \"sqrt\", \"log2\"],\n",
    "            \"max_depth\": [1, 2, 3, 4, 5, 6, 7, 8],\n",
    "            \"min_samples_split\": [0.005, 0.01, 0.05, 0.10],\n",
    "            \"min_samples_leaf\": [0.005, 0.01, 0.05, 0.10],\n",
    "        }\n",
    "    }\n",
    ")\n",
    "\n",
    "# Update dict with XGBoost Classifier\n",
    "# Inspired in https://www.analyticsvidhya.com/blog/2016/03/complete-guide-parameter-tuning-xgboost-with-codes-python/\n",
    "parameters.update(\n",
    "    {\n",
    "        \"XGB\": {\n",
    "            \"learning_rate\": [0.15, 0.1, 0.05, 0.01, 0.005, 0.001],\n",
    "            \"n_estimators\": [200],\n",
    "            \"max_depth\": [2, 3, 4, 5, 6],\n",
    "            \"min_child_weight\": [1, 3, 5, 7],\n",
    "            \"gama\": [0, 0.1, 0.2, 0.3, 0.4],\n",
    "            \"ccolsample_bytree\": [0.6, 0.7, 0.8, 0.9],\n",
    "            \"subsample\": [0.6, 0.7, 0.8, 0.9],\n",
    "            \"reg_alpha\": [1e-5, 1e-2, 0.1, 1, 100],\n",
    "        }\n",
    "    }\n",
    ")"
   ]
  },
  {
   "cell_type": "code",
   "execution_count": 47,
   "metadata": {},
   "outputs": [
    {
     "data": {
      "application/javascript": [
       "\n",
       "            setTimeout(function() {\n",
       "                var nbb_cell_id = 47;\n",
       "                var nbb_unformatted_code = \"classifiers_dataframe = pd.DataFrame(columns=[\\\"Model\\\", \\\"Best_Params\\\", \\\"Best_Score\\\"])\";\n",
       "                var nbb_formatted_code = \"classifiers_dataframe = pd.DataFrame(columns=[\\\"Model\\\", \\\"Best_Params\\\", \\\"Best_Score\\\"])\";\n",
       "                var nbb_cells = Jupyter.notebook.get_cells();\n",
       "                for (var i = 0; i < nbb_cells.length; ++i) {\n",
       "                    if (nbb_cells[i].input_prompt_number == nbb_cell_id) {\n",
       "                        if (nbb_cells[i].get_text() == nbb_unformatted_code) {\n",
       "                             nbb_cells[i].set_text(nbb_formatted_code);\n",
       "                        }\n",
       "                        break;\n",
       "                    }\n",
       "                }\n",
       "            }, 500);\n",
       "            "
      ],
      "text/plain": [
       "<IPython.core.display.Javascript object>"
      ]
     },
     "metadata": {},
     "output_type": "display_data"
    }
   ],
   "source": [
    "classifiers_dataframe = pd.DataFrame(columns=[\"Model\", \"Best_Params\", \"Best_Score\"])"
   ]
  },
  {
   "cell_type": "code",
   "execution_count": 48,
   "metadata": {},
   "outputs": [
    {
     "name": "stdout",
     "output_type": "stream",
     "text": [
      "{'solver': ['svd']}\n",
      "Now tuning LDA.\n",
      "Fitting 5 folds for each of 1 candidates, totalling 5 fits\n"
     ]
    },
    {
     "name": "stderr",
     "output_type": "stream",
     "text": [
      "[Parallel(n_jobs=-1)]: Using backend LokyBackend with 8 concurrent workers.\n",
      "[Parallel(n_jobs=-1)]: Done   2 out of   5 | elapsed:    2.3s remaining:    3.5s\n",
      "[Parallel(n_jobs=-1)]: Done   5 out of   5 | elapsed:    2.4s finished\n"
     ]
    },
    {
     "data": {
      "text/plain": [
       "GridSearchCV(cv=5, error_score=nan,\n",
       "             estimator=LinearDiscriminantAnalysis(n_components=None,\n",
       "                                                  priors=None, shrinkage=None,\n",
       "                                                  solver='svd',\n",
       "                                                  store_covariance=False,\n",
       "                                                  tol=0.0001),\n",
       "             iid='deprecated', n_jobs=-1, param_grid={'solver': ['svd']},\n",
       "             pre_dispatch='2*n_jobs', refit=True, return_train_score=False,\n",
       "             scoring='roc_auc', verbose=1)"
      ]
     },
     "execution_count": 48,
     "metadata": {},
     "output_type": "execute_result"
    },
    {
     "name": "stdout",
     "output_type": "stream",
     "text": [
      "{'base_estimator': [DecisionTreeClassifier(ccp_alpha=0.0, class_weight=None, criterion='gini',\n",
      "                       max_depth=1, max_features=None, max_leaf_nodes=None,\n",
      "                       min_impurity_decrease=0.0, min_impurity_split=None,\n",
      "                       min_samples_leaf=1, min_samples_split=2,\n",
      "                       min_weight_fraction_leaf=0.0, presort='deprecated',\n",
      "                       random_state=None, splitter='best'), DecisionTreeClassifier(ccp_alpha=0.0, class_weight=None, criterion='gini',\n",
      "                       max_depth=2, max_features=None, max_leaf_nodes=None,\n",
      "                       min_impurity_decrease=0.0, min_impurity_split=None,\n",
      "                       min_samples_leaf=1, min_samples_split=2,\n",
      "                       min_weight_fraction_leaf=0.0, presort='deprecated',\n",
      "                       random_state=None, splitter='best'), DecisionTreeClassifier(ccp_alpha=0.0, class_weight=None, criterion='gini',\n",
      "                       max_depth=3, max_features=None, max_leaf_nodes=None,\n",
      "                       min_impurity_decrease=0.0, min_impurity_split=None,\n",
      "                       min_samples_leaf=1, min_samples_split=2,\n",
      "                       min_weight_fraction_leaf=0.0, presort='deprecated',\n",
      "                       random_state=None, splitter='best'), DecisionTreeClassifier(ccp_alpha=0.0, class_weight=None, criterion='gini',\n",
      "                       max_depth=4, max_features=None, max_leaf_nodes=None,\n",
      "                       min_impurity_decrease=0.0, min_impurity_split=None,\n",
      "                       min_samples_leaf=1, min_samples_split=2,\n",
      "                       min_weight_fraction_leaf=0.0, presort='deprecated',\n",
      "                       random_state=None, splitter='best'), DecisionTreeClassifier(ccp_alpha=0.0, class_weight=None, criterion='gini',\n",
      "                       max_depth=5, max_features=None, max_leaf_nodes=None,\n",
      "                       min_impurity_decrease=0.0, min_impurity_split=None,\n",
      "                       min_samples_leaf=1, min_samples_split=2,\n",
      "                       min_weight_fraction_leaf=0.0, presort='deprecated',\n",
      "                       random_state=None, splitter='best')], 'n_estimators': [200], 'learning_rate': [0.001, 0.01, 0.05, 0.1, 0.25, 0.5, 0.75, 1.0]}\n",
      "Now tuning AdaBoost.\n",
      "Fitting 5 folds for each of 40 candidates, totalling 200 fits\n"
     ]
    },
    {
     "name": "stderr",
     "output_type": "stream",
     "text": [
      "[Parallel(n_jobs=-1)]: Using backend LokyBackend with 8 concurrent workers.\n",
      "[Parallel(n_jobs=-1)]: Done  34 tasks      | elapsed:    7.6s\n",
      "[Parallel(n_jobs=-1)]: Done 184 tasks      | elapsed:   47.1s\n",
      "[Parallel(n_jobs=-1)]: Done 200 out of 200 | elapsed:   52.0s finished\n"
     ]
    },
    {
     "data": {
      "text/plain": [
       "GridSearchCV(cv=5, error_score=nan,\n",
       "             estimator=AdaBoostClassifier(algorithm='SAMME.R',\n",
       "                                          base_estimator=None,\n",
       "                                          learning_rate=1.0, n_estimators=50,\n",
       "                                          random_state=None),\n",
       "             iid='deprecated', n_jobs=-1,\n",
       "             param_grid={'base_estimator': [DecisionTreeClassifier(ccp_alpha=0.0,\n",
       "                                                                   class_weight=None,\n",
       "                                                                   criterion='gini',\n",
       "                                                                   max_depth=1,\n",
       "                                                                   max_features=None,\n",
       "                                                                   max_leaf_nodes=None,\n",
       "                                                                   min_impurity_de...\n",
       "                                                                   max_leaf_nodes=None,\n",
       "                                                                   min_impurity_decrease=0.0,\n",
       "                                                                   min_impurity_split=None,\n",
       "                                                                   min_samples_leaf=1,\n",
       "                                                                   min_samples_split=2,\n",
       "                                                                   min_weight_fraction_leaf=0.0,\n",
       "                                                                   presort='deprecated',\n",
       "                                                                   random_state=None,\n",
       "                                                                   splitter='best')],\n",
       "                         'learning_rate': [0.001, 0.01, 0.05, 0.1, 0.25, 0.5,\n",
       "                                           0.75, 1.0],\n",
       "                         'n_estimators': [200]},\n",
       "             pre_dispatch='2*n_jobs', refit=True, return_train_score=False,\n",
       "             scoring='roc_auc', verbose=1)"
      ]
     },
     "execution_count": 48,
     "metadata": {},
     "output_type": "execute_result"
    },
    {
     "name": "stdout",
     "output_type": "stream",
     "text": [
      "{'base_estimator': [DecisionTreeClassifier(ccp_alpha=0.0, class_weight=None, criterion='gini',\n",
      "                       max_depth=1, max_features=None, max_leaf_nodes=None,\n",
      "                       min_impurity_decrease=0.0, min_impurity_split=None,\n",
      "                       min_samples_leaf=1, min_samples_split=2,\n",
      "                       min_weight_fraction_leaf=0.0, presort='deprecated',\n",
      "                       random_state=None, splitter='best'), DecisionTreeClassifier(ccp_alpha=0.0, class_weight=None, criterion='gini',\n",
      "                       max_depth=2, max_features=None, max_leaf_nodes=None,\n",
      "                       min_impurity_decrease=0.0, min_impurity_split=None,\n",
      "                       min_samples_leaf=1, min_samples_split=2,\n",
      "                       min_weight_fraction_leaf=0.0, presort='deprecated',\n",
      "                       random_state=None, splitter='best'), DecisionTreeClassifier(ccp_alpha=0.0, class_weight=None, criterion='gini',\n",
      "                       max_depth=3, max_features=None, max_leaf_nodes=None,\n",
      "                       min_impurity_decrease=0.0, min_impurity_split=None,\n",
      "                       min_samples_leaf=1, min_samples_split=2,\n",
      "                       min_weight_fraction_leaf=0.0, presort='deprecated',\n",
      "                       random_state=None, splitter='best'), DecisionTreeClassifier(ccp_alpha=0.0, class_weight=None, criterion='gini',\n",
      "                       max_depth=4, max_features=None, max_leaf_nodes=None,\n",
      "                       min_impurity_decrease=0.0, min_impurity_split=None,\n",
      "                       min_samples_leaf=1, min_samples_split=2,\n",
      "                       min_weight_fraction_leaf=0.0, presort='deprecated',\n",
      "                       random_state=None, splitter='best'), DecisionTreeClassifier(ccp_alpha=0.0, class_weight=None, criterion='gini',\n",
      "                       max_depth=5, max_features=None, max_leaf_nodes=None,\n",
      "                       min_impurity_decrease=0.0, min_impurity_split=None,\n",
      "                       min_samples_leaf=1, min_samples_split=2,\n",
      "                       min_weight_fraction_leaf=0.0, presort='deprecated',\n",
      "                       random_state=None, splitter='best')], 'n_estimators': [200], 'max_features': [0.2, 0.3, 0.4, 0.5, 0.6, 0.7, 0.8, 0.9, 1.0], 'n_jobs': [-1]}\n",
      "Now tuning Bagging.\n",
      "Fitting 5 folds for each of 45 candidates, totalling 225 fits\n"
     ]
    },
    {
     "name": "stderr",
     "output_type": "stream",
     "text": [
      "[Parallel(n_jobs=-1)]: Using backend LokyBackend with 8 concurrent workers.\n",
      "[Parallel(n_jobs=-1)]: Done  34 tasks      | elapsed:    8.8s\n",
      "[Parallel(n_jobs=-1)]: Done 184 tasks      | elapsed:   28.1s\n",
      "[Parallel(n_jobs=-1)]: Done 225 out of 225 | elapsed:   34.8s finished\n"
     ]
    },
    {
     "data": {
      "text/plain": [
       "GridSearchCV(cv=5, error_score=nan,\n",
       "             estimator=BaggingClassifier(base_estimator=None, bootstrap=True,\n",
       "                                         bootstrap_features=False,\n",
       "                                         max_features=1.0, max_samples=1.0,\n",
       "                                         n_estimators=10, n_jobs=None,\n",
       "                                         oob_score=False, random_state=None,\n",
       "                                         verbose=0, warm_start=False),\n",
       "             iid='deprecated', n_jobs=-1,\n",
       "             param_grid={'base_estimator': [DecisionTreeClassifier(ccp_alpha=0.0,\n",
       "                                                                   class_weigh...\n",
       "                                                                   min_impurity_decrease=0.0,\n",
       "                                                                   min_impurity_split=None,\n",
       "                                                                   min_samples_leaf=1,\n",
       "                                                                   min_samples_split=2,\n",
       "                                                                   min_weight_fraction_leaf=0.0,\n",
       "                                                                   presort='deprecated',\n",
       "                                                                   random_state=None,\n",
       "                                                                   splitter='best')],\n",
       "                         'max_features': [0.2, 0.3, 0.4, 0.5, 0.6, 0.7, 0.8,\n",
       "                                          0.9, 1.0],\n",
       "                         'n_estimators': [200], 'n_jobs': [-1]},\n",
       "             pre_dispatch='2*n_jobs', refit=True, return_train_score=False,\n",
       "             scoring='roc_auc', verbose=1)"
      ]
     },
     "execution_count": 48,
     "metadata": {},
     "output_type": "execute_result"
    },
    {
     "name": "stdout",
     "output_type": "stream",
     "text": [
      "{'n_estimators': [200], 'class_weight': [None, 'balanced'], 'max_features': ['auto', 'sqrt', 'log2'], 'max_depth': [3, 4, 5, 6, 7, 8], 'min_samples_split': [0.005, 0.01, 0.05, 0.1], 'min_samples_leaf': [0.005, 0.01, 0.05, 0.1], 'criterion': ['gini', 'entropy'], 'n_jobs': [-1]}\n",
      "Now tuning Extra Trees Ensemble.\n",
      "Fitting 5 folds for each of 1152 candidates, totalling 5760 fits\n"
     ]
    },
    {
     "name": "stderr",
     "output_type": "stream",
     "text": [
      "[Parallel(n_jobs=-1)]: Using backend LokyBackend with 8 concurrent workers.\n",
      "[Parallel(n_jobs=-1)]: Done  34 tasks      | elapsed:    5.5s\n",
      "[Parallel(n_jobs=-1)]: Done 184 tasks      | elapsed:   16.8s\n",
      "[Parallel(n_jobs=-1)]: Done 434 tasks      | elapsed:   35.8s\n",
      "[Parallel(n_jobs=-1)]: Done 784 tasks      | elapsed:  1.1min\n",
      "[Parallel(n_jobs=-1)]: Done 1234 tasks      | elapsed:  1.6min\n",
      "[Parallel(n_jobs=-1)]: Done 1784 tasks      | elapsed:  2.4min\n",
      "[Parallel(n_jobs=-1)]: Done 2434 tasks      | elapsed:  3.2min\n",
      "[Parallel(n_jobs=-1)]: Done 3184 tasks      | elapsed:  4.2min\n",
      "[Parallel(n_jobs=-1)]: Done 4034 tasks      | elapsed:  5.4min\n",
      "[Parallel(n_jobs=-1)]: Done 4984 tasks      | elapsed:  6.9min\n",
      "[Parallel(n_jobs=-1)]: Done 5760 out of 5760 | elapsed:  8.1min finished\n"
     ]
    },
    {
     "data": {
      "text/plain": [
       "GridSearchCV(cv=5, error_score=nan,\n",
       "             estimator=ExtraTreesClassifier(bootstrap=False, ccp_alpha=0.0,\n",
       "                                            class_weight=None, criterion='gini',\n",
       "                                            max_depth=None, max_features='auto',\n",
       "                                            max_leaf_nodes=None,\n",
       "                                            max_samples=None,\n",
       "                                            min_impurity_decrease=0.0,\n",
       "                                            min_impurity_split=None,\n",
       "                                            min_samples_leaf=1,\n",
       "                                            min_samples_split=2,\n",
       "                                            min_weight_fraction_leaf=0.0,\n",
       "                                            n_estimators=100, n_jobs=None,\n",
       "                                            o...\n",
       "             iid='deprecated', n_jobs=-1,\n",
       "             param_grid={'class_weight': [None, 'balanced'],\n",
       "                         'criterion': ['gini', 'entropy'],\n",
       "                         'max_depth': [3, 4, 5, 6, 7, 8],\n",
       "                         'max_features': ['auto', 'sqrt', 'log2'],\n",
       "                         'min_samples_leaf': [0.005, 0.01, 0.05, 0.1],\n",
       "                         'min_samples_split': [0.005, 0.01, 0.05, 0.1],\n",
       "                         'n_estimators': [200], 'n_jobs': [-1]},\n",
       "             pre_dispatch='2*n_jobs', refit=True, return_train_score=False,\n",
       "             scoring='roc_auc', verbose=1)"
      ]
     },
     "execution_count": 48,
     "metadata": {},
     "output_type": "execute_result"
    },
    {
     "name": "stdout",
     "output_type": "stream",
     "text": [
      "{'learning_rate': [0.05, 0.01, 0.001], 'n_estimators': [200], 'max_depth': [4, 5], 'min_samples_split': [0.01], 'min_samples_leaf': [0.01], 'max_features': ['auto'], 'subsample': [0.8, 1]}\n",
      "Now tuning Gradient Boosting.\n",
      "Fitting 5 folds for each of 12 candidates, totalling 60 fits\n"
     ]
    },
    {
     "name": "stderr",
     "output_type": "stream",
     "text": [
      "[Parallel(n_jobs=-1)]: Using backend LokyBackend with 8 concurrent workers.\n",
      "[Parallel(n_jobs=-1)]: Done  34 tasks      | elapsed:   10.4s\n",
      "[Parallel(n_jobs=-1)]: Done  60 out of  60 | elapsed:   15.3s finished\n"
     ]
    },
    {
     "data": {
      "text/plain": [
       "GridSearchCV(cv=5, error_score=nan,\n",
       "             estimator=GradientBoostingClassifier(ccp_alpha=0.0,\n",
       "                                                  criterion='friedman_mse',\n",
       "                                                  init=None, learning_rate=0.1,\n",
       "                                                  loss='deviance', max_depth=3,\n",
       "                                                  max_features=None,\n",
       "                                                  max_leaf_nodes=None,\n",
       "                                                  min_impurity_decrease=0.0,\n",
       "                                                  min_impurity_split=None,\n",
       "                                                  min_samples_leaf=1,\n",
       "                                                  min_samples_split=2,\n",
       "                                                  min_weight_fraction_leaf=0.0,\n",
       "                                                  n_estimators=100,\n",
       "                                                  n_iter_no_c...\n",
       "                                                  validation_fraction=0.1,\n",
       "                                                  verbose=0, warm_start=False),\n",
       "             iid='deprecated', n_jobs=-1,\n",
       "             param_grid={'learning_rate': [0.05, 0.01, 0.001],\n",
       "                         'max_depth': [4, 5], 'max_features': ['auto'],\n",
       "                         'min_samples_leaf': [0.01],\n",
       "                         'min_samples_split': [0.01], 'n_estimators': [200],\n",
       "                         'subsample': [0.8, 1]},\n",
       "             pre_dispatch='2*n_jobs', refit=True, return_train_score=False,\n",
       "             scoring='roc_auc', verbose=1)"
      ]
     },
     "execution_count": 48,
     "metadata": {},
     "output_type": "execute_result"
    },
    {
     "name": "stdout",
     "output_type": "stream",
     "text": [
      "{'n_estimators': [400], 'class_weight': ['balanced'], 'max_features': ['auto', 'sqrt'], 'max_depth': [10, 11, 12], 'min_samples_split': [0.001], 'min_samples_leaf': [0.001], 'criterion': ['gini', 'entropy'], 'n_jobs': [-1]}\n",
      "Now tuning Random Forest.\n",
      "Fitting 5 folds for each of 12 candidates, totalling 60 fits\n"
     ]
    },
    {
     "name": "stderr",
     "output_type": "stream",
     "text": [
      "[Parallel(n_jobs=-1)]: Using backend LokyBackend with 8 concurrent workers.\n",
      "[Parallel(n_jobs=-1)]: Done  34 tasks      | elapsed:   12.0s\n",
      "[Parallel(n_jobs=-1)]: Done  60 out of  60 | elapsed:   19.5s finished\n"
     ]
    },
    {
     "data": {
      "text/plain": [
       "GridSearchCV(cv=5, error_score=nan,\n",
       "             estimator=RandomForestClassifier(bootstrap=True, ccp_alpha=0.0,\n",
       "                                              class_weight=None,\n",
       "                                              criterion='gini', max_depth=None,\n",
       "                                              max_features='auto',\n",
       "                                              max_leaf_nodes=None,\n",
       "                                              max_samples=None,\n",
       "                                              min_impurity_decrease=0.0,\n",
       "                                              min_impurity_split=None,\n",
       "                                              min_samples_leaf=1,\n",
       "                                              min_samples_split=2,\n",
       "                                              min_weight_fraction_leaf=0.0,\n",
       "                                              n_estimators=100, n_jobs=None,...\n",
       "                                              random_state=None, verbose=0,\n",
       "                                              warm_start=False),\n",
       "             iid='deprecated', n_jobs=-1,\n",
       "             param_grid={'class_weight': ['balanced'],\n",
       "                         'criterion': ['gini', 'entropy'],\n",
       "                         'max_depth': [10, 11, 12],\n",
       "                         'max_features': ['auto', 'sqrt'],\n",
       "                         'min_samples_leaf': [0.001],\n",
       "                         'min_samples_split': [0.001], 'n_estimators': [400],\n",
       "                         'n_jobs': [-1]},\n",
       "             pre_dispatch='2*n_jobs', refit=True, return_train_score=False,\n",
       "             scoring='roc_auc', verbose=1)"
      ]
     },
     "execution_count": 48,
     "metadata": {},
     "output_type": "execute_result"
    },
    {
     "name": "stdout",
     "output_type": "stream",
     "text": [
      "{'alpha': [1e-07, 1e-06, 1e-05, 0.0001, 0.001, 0.01, 0.1, 0.25, 0.5, 0.75, 1.0]}\n",
      "Now tuning Ridge.\n",
      "Fitting 5 folds for each of 11 candidates, totalling 55 fits\n"
     ]
    },
    {
     "name": "stderr",
     "output_type": "stream",
     "text": [
      "[Parallel(n_jobs=-1)]: Using backend LokyBackend with 8 concurrent workers.\n",
      "[Parallel(n_jobs=-1)]: Done  34 tasks      | elapsed:    2.9s\n",
      "[Parallel(n_jobs=-1)]: Done  55 out of  55 | elapsed:    2.9s finished\n",
      "C:\\Users\\hmbf1\\Anaconda3\\lib\\site-packages\\sklearn\\linear_model\\_ridge.py:148: LinAlgWarning: Ill-conditioned matrix (rcond=4.92542e-21): result may not be accurate.\n",
      "  overwrite_a=True).T\n"
     ]
    },
    {
     "data": {
      "text/plain": [
       "GridSearchCV(cv=5, error_score=nan,\n",
       "             estimator=RidgeClassifier(alpha=1.0, class_weight=None,\n",
       "                                       copy_X=True, fit_intercept=True,\n",
       "                                       max_iter=None, normalize=False,\n",
       "                                       random_state=None, solver='auto',\n",
       "                                       tol=0.001),\n",
       "             iid='deprecated', n_jobs=-1,\n",
       "             param_grid={'alpha': [1e-07, 1e-06, 1e-05, 0.0001, 0.001, 0.01,\n",
       "                                   0.1, 0.25, 0.5, 0.75, 1.0]},\n",
       "             pre_dispatch='2*n_jobs', refit=True, return_train_score=False,\n",
       "             scoring='roc_auc', verbose=1)"
      ]
     },
     "execution_count": 48,
     "metadata": {},
     "output_type": "execute_result"
    },
    {
     "name": "stdout",
     "output_type": "stream",
     "text": [
      "{'alpha': [1e-07, 1e-06, 1e-05, 0.0001, 0.001, 0.01, 0.1, 0.25, 0.5, 0.75, 1.0]}\n",
      "Now tuning BNB.\n",
      "Fitting 5 folds for each of 11 candidates, totalling 55 fits\n"
     ]
    },
    {
     "name": "stderr",
     "output_type": "stream",
     "text": [
      "[Parallel(n_jobs=-1)]: Using backend LokyBackend with 8 concurrent workers.\n",
      "[Parallel(n_jobs=-1)]: Done  34 tasks      | elapsed:    2.8s\n",
      "[Parallel(n_jobs=-1)]: Done  55 out of  55 | elapsed:    2.8s finished\n"
     ]
    },
    {
     "data": {
      "text/plain": [
       "GridSearchCV(cv=5, error_score=nan,\n",
       "             estimator=BernoulliNB(alpha=1.0, binarize=0.0, class_prior=None,\n",
       "                                   fit_prior=True),\n",
       "             iid='deprecated', n_jobs=-1,\n",
       "             param_grid={'alpha': [1e-07, 1e-06, 1e-05, 0.0001, 0.001, 0.01,\n",
       "                                   0.1, 0.25, 0.5, 0.75, 1.0]},\n",
       "             pre_dispatch='2*n_jobs', refit=True, return_train_score=False,\n",
       "             scoring='roc_auc', verbose=1)"
      ]
     },
     "execution_count": 48,
     "metadata": {},
     "output_type": "execute_result"
    },
    {
     "name": "stdout",
     "output_type": "stream",
     "text": [
      "{'hidden_layer_sizes': [5, 10, (5, 5), (10, 10), (5, 5, 5), (10, 10, 10)], 'activation': ['identity', 'logistic', 'tanh', 'relu'], 'learning_rate': ['constant', 'invscaling', 'adaptive'], 'max_iter': [100, 200, 300, 500, 1000, 2000], 'alpha': [0.1, 0.01, 0.001, 0.0001, 1e-05, 1e-06, 1e-07, 1e-08, 1e-09]}\n",
      "Now tuning MLP.\n",
      "Fitting 5 folds for each of 3888 candidates, totalling 19440 fits\n"
     ]
    },
    {
     "name": "stderr",
     "output_type": "stream",
     "text": [
      "[Parallel(n_jobs=-1)]: Using backend LokyBackend with 8 concurrent workers.\n",
      "[Parallel(n_jobs=-1)]: Done  34 tasks      | elapsed:    7.0s\n",
      "[Parallel(n_jobs=-1)]: Done 184 tasks      | elapsed:   32.4s\n",
      "[Parallel(n_jobs=-1)]: Done 434 tasks      | elapsed:  1.5min\n"
     ]
    },
    {
     "ename": "KeyboardInterrupt",
     "evalue": "",
     "output_type": "error",
     "traceback": [
      "\u001b[1;31m---------------------------------------------------------------------------\u001b[0m",
      "\u001b[1;31mKeyboardInterrupt\u001b[0m                         Traceback (most recent call last)",
      "\u001b[1;32m<ipython-input-48-33529c649524>\u001b[0m in \u001b[0;36m<module>\u001b[1;34m\u001b[0m\n\u001b[0;32m      7\u001b[0m     \u001b[0mgscv\u001b[0m \u001b[1;33m=\u001b[0m \u001b[0mGridSearchCV\u001b[0m\u001b[1;33m(\u001b[0m\u001b[0mclf\u001b[0m\u001b[1;33m,\u001b[0m \u001b[0mparam_grid\u001b[0m\u001b[1;33m,\u001b[0m \u001b[0mcv\u001b[0m\u001b[1;33m=\u001b[0m\u001b[1;36m5\u001b[0m\u001b[1;33m,\u001b[0m \u001b[0mn_jobs\u001b[0m\u001b[1;33m=\u001b[0m\u001b[1;33m-\u001b[0m\u001b[1;36m1\u001b[0m\u001b[1;33m,\u001b[0m \u001b[0mverbose\u001b[0m\u001b[1;33m=\u001b[0m\u001b[1;36m1\u001b[0m\u001b[1;33m,\u001b[0m \u001b[0mscoring\u001b[0m\u001b[1;33m=\u001b[0m\u001b[1;34m\"roc_auc\"\u001b[0m\u001b[1;33m)\u001b[0m\u001b[1;33m\u001b[0m\u001b[1;33m\u001b[0m\u001b[0m\n\u001b[0;32m      8\u001b[0m     \u001b[0mprint\u001b[0m\u001b[1;33m(\u001b[0m\u001b[1;34mf\"Now tuning {name}.\"\u001b[0m\u001b[1;33m)\u001b[0m\u001b[1;33m\u001b[0m\u001b[1;33m\u001b[0m\u001b[0m\n\u001b[1;32m----> 9\u001b[1;33m     \u001b[0mgscv\u001b[0m\u001b[1;33m.\u001b[0m\u001b[0mfit\u001b[0m\u001b[1;33m(\u001b[0m\u001b[0mX_train\u001b[0m\u001b[1;33m,\u001b[0m \u001b[0my_train\u001b[0m\u001b[1;33m)\u001b[0m\u001b[1;33m\u001b[0m\u001b[1;33m\u001b[0m\u001b[0m\n\u001b[0m\u001b[0;32m     10\u001b[0m \u001b[1;33m\u001b[0m\u001b[0m\n\u001b[0;32m     11\u001b[0m     \u001b[1;31m# Get best parameters and score\u001b[0m\u001b[1;33m\u001b[0m\u001b[1;33m\u001b[0m\u001b[1;33m\u001b[0m\u001b[0m\n",
      "\u001b[1;32m~\\Anaconda3\\lib\\site-packages\\sklearn\\model_selection\\_search.py\u001b[0m in \u001b[0;36mfit\u001b[1;34m(self, X, y, groups, **fit_params)\u001b[0m\n\u001b[0;32m    708\u001b[0m                 \u001b[1;32mreturn\u001b[0m \u001b[0mresults\u001b[0m\u001b[1;33m\u001b[0m\u001b[1;33m\u001b[0m\u001b[0m\n\u001b[0;32m    709\u001b[0m \u001b[1;33m\u001b[0m\u001b[0m\n\u001b[1;32m--> 710\u001b[1;33m             \u001b[0mself\u001b[0m\u001b[1;33m.\u001b[0m\u001b[0m_run_search\u001b[0m\u001b[1;33m(\u001b[0m\u001b[0mevaluate_candidates\u001b[0m\u001b[1;33m)\u001b[0m\u001b[1;33m\u001b[0m\u001b[1;33m\u001b[0m\u001b[0m\n\u001b[0m\u001b[0;32m    711\u001b[0m \u001b[1;33m\u001b[0m\u001b[0m\n\u001b[0;32m    712\u001b[0m         \u001b[1;31m# For multi-metric evaluation, store the best_index_, best_params_ and\u001b[0m\u001b[1;33m\u001b[0m\u001b[1;33m\u001b[0m\u001b[1;33m\u001b[0m\u001b[0m\n",
      "\u001b[1;32m~\\Anaconda3\\lib\\site-packages\\sklearn\\model_selection\\_search.py\u001b[0m in \u001b[0;36m_run_search\u001b[1;34m(self, evaluate_candidates)\u001b[0m\n\u001b[0;32m   1149\u001b[0m     \u001b[1;32mdef\u001b[0m \u001b[0m_run_search\u001b[0m\u001b[1;33m(\u001b[0m\u001b[0mself\u001b[0m\u001b[1;33m,\u001b[0m \u001b[0mevaluate_candidates\u001b[0m\u001b[1;33m)\u001b[0m\u001b[1;33m:\u001b[0m\u001b[1;33m\u001b[0m\u001b[1;33m\u001b[0m\u001b[0m\n\u001b[0;32m   1150\u001b[0m         \u001b[1;34m\"\"\"Search all candidates in param_grid\"\"\"\u001b[0m\u001b[1;33m\u001b[0m\u001b[1;33m\u001b[0m\u001b[0m\n\u001b[1;32m-> 1151\u001b[1;33m         \u001b[0mevaluate_candidates\u001b[0m\u001b[1;33m(\u001b[0m\u001b[0mParameterGrid\u001b[0m\u001b[1;33m(\u001b[0m\u001b[0mself\u001b[0m\u001b[1;33m.\u001b[0m\u001b[0mparam_grid\u001b[0m\u001b[1;33m)\u001b[0m\u001b[1;33m)\u001b[0m\u001b[1;33m\u001b[0m\u001b[1;33m\u001b[0m\u001b[0m\n\u001b[0m\u001b[0;32m   1152\u001b[0m \u001b[1;33m\u001b[0m\u001b[0m\n\u001b[0;32m   1153\u001b[0m \u001b[1;33m\u001b[0m\u001b[0m\n",
      "\u001b[1;32m~\\Anaconda3\\lib\\site-packages\\sklearn\\model_selection\\_search.py\u001b[0m in \u001b[0;36mevaluate_candidates\u001b[1;34m(candidate_params)\u001b[0m\n\u001b[0;32m    687\u001b[0m                                \u001b[1;32mfor\u001b[0m \u001b[0mparameters\u001b[0m\u001b[1;33m,\u001b[0m \u001b[1;33m(\u001b[0m\u001b[0mtrain\u001b[0m\u001b[1;33m,\u001b[0m \u001b[0mtest\u001b[0m\u001b[1;33m)\u001b[0m\u001b[1;33m\u001b[0m\u001b[1;33m\u001b[0m\u001b[0m\n\u001b[0;32m    688\u001b[0m                                in product(candidate_params,\n\u001b[1;32m--> 689\u001b[1;33m                                           cv.split(X, y, groups)))\n\u001b[0m\u001b[0;32m    690\u001b[0m \u001b[1;33m\u001b[0m\u001b[0m\n\u001b[0;32m    691\u001b[0m                 \u001b[1;32mif\u001b[0m \u001b[0mlen\u001b[0m\u001b[1;33m(\u001b[0m\u001b[0mout\u001b[0m\u001b[1;33m)\u001b[0m \u001b[1;33m<\u001b[0m \u001b[1;36m1\u001b[0m\u001b[1;33m:\u001b[0m\u001b[1;33m\u001b[0m\u001b[1;33m\u001b[0m\u001b[0m\n",
      "\u001b[1;32m~\\Anaconda3\\lib\\site-packages\\joblib\\parallel.py\u001b[0m in \u001b[0;36m__call__\u001b[1;34m(self, iterable)\u001b[0m\n\u001b[0;32m   1014\u001b[0m \u001b[1;33m\u001b[0m\u001b[0m\n\u001b[0;32m   1015\u001b[0m             \u001b[1;32mwith\u001b[0m \u001b[0mself\u001b[0m\u001b[1;33m.\u001b[0m\u001b[0m_backend\u001b[0m\u001b[1;33m.\u001b[0m\u001b[0mretrieval_context\u001b[0m\u001b[1;33m(\u001b[0m\u001b[1;33m)\u001b[0m\u001b[1;33m:\u001b[0m\u001b[1;33m\u001b[0m\u001b[1;33m\u001b[0m\u001b[0m\n\u001b[1;32m-> 1016\u001b[1;33m                 \u001b[0mself\u001b[0m\u001b[1;33m.\u001b[0m\u001b[0mretrieve\u001b[0m\u001b[1;33m(\u001b[0m\u001b[1;33m)\u001b[0m\u001b[1;33m\u001b[0m\u001b[1;33m\u001b[0m\u001b[0m\n\u001b[0m\u001b[0;32m   1017\u001b[0m             \u001b[1;31m# Make sure that we get a last message telling us we are done\u001b[0m\u001b[1;33m\u001b[0m\u001b[1;33m\u001b[0m\u001b[1;33m\u001b[0m\u001b[0m\n\u001b[0;32m   1018\u001b[0m             \u001b[0melapsed_time\u001b[0m \u001b[1;33m=\u001b[0m \u001b[0mtime\u001b[0m\u001b[1;33m.\u001b[0m\u001b[0mtime\u001b[0m\u001b[1;33m(\u001b[0m\u001b[1;33m)\u001b[0m \u001b[1;33m-\u001b[0m \u001b[0mself\u001b[0m\u001b[1;33m.\u001b[0m\u001b[0m_start_time\u001b[0m\u001b[1;33m\u001b[0m\u001b[1;33m\u001b[0m\u001b[0m\n",
      "\u001b[1;32m~\\Anaconda3\\lib\\site-packages\\joblib\\parallel.py\u001b[0m in \u001b[0;36mretrieve\u001b[1;34m(self)\u001b[0m\n\u001b[0;32m    906\u001b[0m             \u001b[1;32mtry\u001b[0m\u001b[1;33m:\u001b[0m\u001b[1;33m\u001b[0m\u001b[1;33m\u001b[0m\u001b[0m\n\u001b[0;32m    907\u001b[0m                 \u001b[1;32mif\u001b[0m \u001b[0mgetattr\u001b[0m\u001b[1;33m(\u001b[0m\u001b[0mself\u001b[0m\u001b[1;33m.\u001b[0m\u001b[0m_backend\u001b[0m\u001b[1;33m,\u001b[0m \u001b[1;34m'supports_timeout'\u001b[0m\u001b[1;33m,\u001b[0m \u001b[1;32mFalse\u001b[0m\u001b[1;33m)\u001b[0m\u001b[1;33m:\u001b[0m\u001b[1;33m\u001b[0m\u001b[1;33m\u001b[0m\u001b[0m\n\u001b[1;32m--> 908\u001b[1;33m                     \u001b[0mself\u001b[0m\u001b[1;33m.\u001b[0m\u001b[0m_output\u001b[0m\u001b[1;33m.\u001b[0m\u001b[0mextend\u001b[0m\u001b[1;33m(\u001b[0m\u001b[0mjob\u001b[0m\u001b[1;33m.\u001b[0m\u001b[0mget\u001b[0m\u001b[1;33m(\u001b[0m\u001b[0mtimeout\u001b[0m\u001b[1;33m=\u001b[0m\u001b[0mself\u001b[0m\u001b[1;33m.\u001b[0m\u001b[0mtimeout\u001b[0m\u001b[1;33m)\u001b[0m\u001b[1;33m)\u001b[0m\u001b[1;33m\u001b[0m\u001b[1;33m\u001b[0m\u001b[0m\n\u001b[0m\u001b[0;32m    909\u001b[0m                 \u001b[1;32melse\u001b[0m\u001b[1;33m:\u001b[0m\u001b[1;33m\u001b[0m\u001b[1;33m\u001b[0m\u001b[0m\n\u001b[0;32m    910\u001b[0m                     \u001b[0mself\u001b[0m\u001b[1;33m.\u001b[0m\u001b[0m_output\u001b[0m\u001b[1;33m.\u001b[0m\u001b[0mextend\u001b[0m\u001b[1;33m(\u001b[0m\u001b[0mjob\u001b[0m\u001b[1;33m.\u001b[0m\u001b[0mget\u001b[0m\u001b[1;33m(\u001b[0m\u001b[1;33m)\u001b[0m\u001b[1;33m)\u001b[0m\u001b[1;33m\u001b[0m\u001b[1;33m\u001b[0m\u001b[0m\n",
      "\u001b[1;32m~\\Anaconda3\\lib\\site-packages\\joblib\\_parallel_backends.py\u001b[0m in \u001b[0;36mwrap_future_result\u001b[1;34m(future, timeout)\u001b[0m\n\u001b[0;32m    552\u001b[0m         AsyncResults.get from multiprocessing.\"\"\"\n\u001b[0;32m    553\u001b[0m         \u001b[1;32mtry\u001b[0m\u001b[1;33m:\u001b[0m\u001b[1;33m\u001b[0m\u001b[1;33m\u001b[0m\u001b[0m\n\u001b[1;32m--> 554\u001b[1;33m             \u001b[1;32mreturn\u001b[0m \u001b[0mfuture\u001b[0m\u001b[1;33m.\u001b[0m\u001b[0mresult\u001b[0m\u001b[1;33m(\u001b[0m\u001b[0mtimeout\u001b[0m\u001b[1;33m=\u001b[0m\u001b[0mtimeout\u001b[0m\u001b[1;33m)\u001b[0m\u001b[1;33m\u001b[0m\u001b[1;33m\u001b[0m\u001b[0m\n\u001b[0m\u001b[0;32m    555\u001b[0m         \u001b[1;32mexcept\u001b[0m \u001b[0mLokyTimeoutError\u001b[0m\u001b[1;33m:\u001b[0m\u001b[1;33m\u001b[0m\u001b[1;33m\u001b[0m\u001b[0m\n\u001b[0;32m    556\u001b[0m             \u001b[1;32mraise\u001b[0m \u001b[0mTimeoutError\u001b[0m\u001b[1;33m(\u001b[0m\u001b[1;33m)\u001b[0m\u001b[1;33m\u001b[0m\u001b[1;33m\u001b[0m\u001b[0m\n",
      "\u001b[1;32m~\\Anaconda3\\lib\\concurrent\\futures\\_base.py\u001b[0m in \u001b[0;36mresult\u001b[1;34m(self, timeout)\u001b[0m\n\u001b[0;32m    425\u001b[0m                 \u001b[1;32mreturn\u001b[0m \u001b[0mself\u001b[0m\u001b[1;33m.\u001b[0m\u001b[0m__get_result\u001b[0m\u001b[1;33m(\u001b[0m\u001b[1;33m)\u001b[0m\u001b[1;33m\u001b[0m\u001b[1;33m\u001b[0m\u001b[0m\n\u001b[0;32m    426\u001b[0m \u001b[1;33m\u001b[0m\u001b[0m\n\u001b[1;32m--> 427\u001b[1;33m             \u001b[0mself\u001b[0m\u001b[1;33m.\u001b[0m\u001b[0m_condition\u001b[0m\u001b[1;33m.\u001b[0m\u001b[0mwait\u001b[0m\u001b[1;33m(\u001b[0m\u001b[0mtimeout\u001b[0m\u001b[1;33m)\u001b[0m\u001b[1;33m\u001b[0m\u001b[1;33m\u001b[0m\u001b[0m\n\u001b[0m\u001b[0;32m    428\u001b[0m \u001b[1;33m\u001b[0m\u001b[0m\n\u001b[0;32m    429\u001b[0m             \u001b[1;32mif\u001b[0m \u001b[0mself\u001b[0m\u001b[1;33m.\u001b[0m\u001b[0m_state\u001b[0m \u001b[1;32min\u001b[0m \u001b[1;33m[\u001b[0m\u001b[0mCANCELLED\u001b[0m\u001b[1;33m,\u001b[0m \u001b[0mCANCELLED_AND_NOTIFIED\u001b[0m\u001b[1;33m]\u001b[0m\u001b[1;33m:\u001b[0m\u001b[1;33m\u001b[0m\u001b[1;33m\u001b[0m\u001b[0m\n",
      "\u001b[1;32m~\\Anaconda3\\lib\\threading.py\u001b[0m in \u001b[0;36mwait\u001b[1;34m(self, timeout)\u001b[0m\n\u001b[0;32m    294\u001b[0m         \u001b[1;32mtry\u001b[0m\u001b[1;33m:\u001b[0m    \u001b[1;31m# restore state no matter what (e.g., KeyboardInterrupt)\u001b[0m\u001b[1;33m\u001b[0m\u001b[1;33m\u001b[0m\u001b[0m\n\u001b[0;32m    295\u001b[0m             \u001b[1;32mif\u001b[0m \u001b[0mtimeout\u001b[0m \u001b[1;32mis\u001b[0m \u001b[1;32mNone\u001b[0m\u001b[1;33m:\u001b[0m\u001b[1;33m\u001b[0m\u001b[1;33m\u001b[0m\u001b[0m\n\u001b[1;32m--> 296\u001b[1;33m                 \u001b[0mwaiter\u001b[0m\u001b[1;33m.\u001b[0m\u001b[0macquire\u001b[0m\u001b[1;33m(\u001b[0m\u001b[1;33m)\u001b[0m\u001b[1;33m\u001b[0m\u001b[1;33m\u001b[0m\u001b[0m\n\u001b[0m\u001b[0;32m    297\u001b[0m                 \u001b[0mgotit\u001b[0m \u001b[1;33m=\u001b[0m \u001b[1;32mTrue\u001b[0m\u001b[1;33m\u001b[0m\u001b[1;33m\u001b[0m\u001b[0m\n\u001b[0;32m    298\u001b[0m             \u001b[1;32melse\u001b[0m\u001b[1;33m:\u001b[0m\u001b[1;33m\u001b[0m\u001b[1;33m\u001b[0m\u001b[0m\n",
      "\u001b[1;31mKeyboardInterrupt\u001b[0m: "
     ]
    },
    {
     "data": {
      "application/javascript": [
       "\n",
       "            setTimeout(function() {\n",
       "                var nbb_cell_id = 48;\n",
       "                var nbb_unformatted_code = \"# Fit all the classifiers with hyperparameterss optimized\\nfor name, clf in classifiers.items():\\n    if name in classifiers_dataframe[\\\"Model\\\"].values:\\n        continue\\n    param_grid = parameters[name]\\n    print(param_grid)\\n    gscv = GridSearchCV(clf, param_grid, cv=5, n_jobs=-1, verbose=1, scoring=\\\"roc_auc\\\")\\n    print(f\\\"Now tuning {name}.\\\")\\n    gscv.fit(X_train, y_train)\\n\\n    # Get best parameters and score\\n    best_params = gscv.best_params_\\n    best_score = gscv.best_score_\\n\\n    classifiers_dataframe = classifiers_dataframe.append(\\n        {\\\"Model\\\": name, \\\"Best_Params\\\": best_params, \\\"Best_Score\\\": best_score},\\n        ignore_index=True,\\n    )\";\n",
       "                var nbb_formatted_code = \"# Fit all the classifiers with hyperparameterss optimized\\nfor name, clf in classifiers.items():\\n    if name in classifiers_dataframe[\\\"Model\\\"].values:\\n        continue\\n    param_grid = parameters[name]\\n    print(param_grid)\\n    gscv = GridSearchCV(clf, param_grid, cv=5, n_jobs=-1, verbose=1, scoring=\\\"roc_auc\\\")\\n    print(f\\\"Now tuning {name}.\\\")\\n    gscv.fit(X_train, y_train)\\n\\n    # Get best parameters and score\\n    best_params = gscv.best_params_\\n    best_score = gscv.best_score_\\n\\n    classifiers_dataframe = classifiers_dataframe.append(\\n        {\\\"Model\\\": name, \\\"Best_Params\\\": best_params, \\\"Best_Score\\\": best_score},\\n        ignore_index=True,\\n    )\";\n",
       "                var nbb_cells = Jupyter.notebook.get_cells();\n",
       "                for (var i = 0; i < nbb_cells.length; ++i) {\n",
       "                    if (nbb_cells[i].input_prompt_number == nbb_cell_id) {\n",
       "                        if (nbb_cells[i].get_text() == nbb_unformatted_code) {\n",
       "                             nbb_cells[i].set_text(nbb_formatted_code);\n",
       "                        }\n",
       "                        break;\n",
       "                    }\n",
       "                }\n",
       "            }, 500);\n",
       "            "
      ],
      "text/plain": [
       "<IPython.core.display.Javascript object>"
      ]
     },
     "metadata": {},
     "output_type": "display_data"
    }
   ],
   "source": [
    "# Fit all the classifiers with hyperparameterss optimized\n",
    "for name, clf in classifiers.items():\n",
    "    if name in classifiers_dataframe[\"Model\"].values:\n",
    "        continue\n",
    "    param_grid = parameters[name]\n",
    "    print(param_grid)\n",
    "    gscv = GridSearchCV(clf, param_grid, cv=5, n_jobs=-1, verbose=1, scoring=\"roc_auc\")\n",
    "    print(f\"Now tuning {name}.\")\n",
    "    gscv.fit(X_train, y_train)\n",
    "\n",
    "    # Get best parameters and score\n",
    "    best_params = gscv.best_params_\n",
    "    best_score = gscv.best_score_\n",
    "\n",
    "    classifiers_dataframe = classifiers_dataframe.append(\n",
    "        {\"Model\": name, \"Best_Params\": best_params, \"Best_Score\": best_score},\n",
    "        ignore_index=True,\n",
    "    )"
   ]
  },
  {
   "cell_type": "code",
   "execution_count": 49,
   "metadata": {},
   "outputs": [
    {
     "data": {
      "text/html": [
       "<div>\n",
       "<style scoped>\n",
       "    .dataframe tbody tr th:only-of-type {\n",
       "        vertical-align: middle;\n",
       "    }\n",
       "\n",
       "    .dataframe tbody tr th {\n",
       "        vertical-align: top;\n",
       "    }\n",
       "\n",
       "    .dataframe thead th {\n",
       "        text-align: right;\n",
       "    }\n",
       "</style>\n",
       "<table border=\"1\" class=\"dataframe\">\n",
       "  <thead>\n",
       "    <tr style=\"text-align: right;\">\n",
       "      <th></th>\n",
       "      <th>Model</th>\n",
       "      <th>Best_Params</th>\n",
       "      <th>Best_Score</th>\n",
       "    </tr>\n",
       "  </thead>\n",
       "  <tbody>\n",
       "    <tr>\n",
       "      <th>0</th>\n",
       "      <td>LDA</td>\n",
       "      <td>{'solver': 'svd'}</td>\n",
       "      <td>0.620993</td>\n",
       "    </tr>\n",
       "    <tr>\n",
       "      <th>1</th>\n",
       "      <td>AdaBoost</td>\n",
       "      <td>{'base_estimator': DecisionTreeClassifier(ccp_...</td>\n",
       "      <td>0.609146</td>\n",
       "    </tr>\n",
       "    <tr>\n",
       "      <th>2</th>\n",
       "      <td>Bagging</td>\n",
       "      <td>{'base_estimator': DecisionTreeClassifier(ccp_...</td>\n",
       "      <td>0.630965</td>\n",
       "    </tr>\n",
       "    <tr>\n",
       "      <th>3</th>\n",
       "      <td>Extra Trees Ensemble</td>\n",
       "      <td>{'class_weight': 'balanced', 'criterion': 'gin...</td>\n",
       "      <td>0.629701</td>\n",
       "    </tr>\n",
       "    <tr>\n",
       "      <th>4</th>\n",
       "      <td>Gradient Boosting</td>\n",
       "      <td>{'learning_rate': 0.001, 'max_depth': 4, 'max_...</td>\n",
       "      <td>0.609650</td>\n",
       "    </tr>\n",
       "    <tr>\n",
       "      <th>5</th>\n",
       "      <td>Random Forest</td>\n",
       "      <td>{'class_weight': 'balanced', 'criterion': 'ent...</td>\n",
       "      <td>0.619137</td>\n",
       "    </tr>\n",
       "    <tr>\n",
       "      <th>6</th>\n",
       "      <td>Ridge</td>\n",
       "      <td>{'alpha': 0.25}</td>\n",
       "      <td>0.622747</td>\n",
       "    </tr>\n",
       "    <tr>\n",
       "      <th>7</th>\n",
       "      <td>BNB</td>\n",
       "      <td>{'alpha': 0.75}</td>\n",
       "      <td>0.613546</td>\n",
       "    </tr>\n",
       "  </tbody>\n",
       "</table>\n",
       "</div>"
      ],
      "text/plain": [
       "                  Model                                        Best_Params  \\\n",
       "0                   LDA                                  {'solver': 'svd'}   \n",
       "1              AdaBoost  {'base_estimator': DecisionTreeClassifier(ccp_...   \n",
       "2               Bagging  {'base_estimator': DecisionTreeClassifier(ccp_...   \n",
       "3  Extra Trees Ensemble  {'class_weight': 'balanced', 'criterion': 'gin...   \n",
       "4     Gradient Boosting  {'learning_rate': 0.001, 'max_depth': 4, 'max_...   \n",
       "5         Random Forest  {'class_weight': 'balanced', 'criterion': 'ent...   \n",
       "6                 Ridge                                    {'alpha': 0.25}   \n",
       "7                   BNB                                    {'alpha': 0.75}   \n",
       "\n",
       "   Best_Score  \n",
       "0    0.620993  \n",
       "1    0.609146  \n",
       "2    0.630965  \n",
       "3    0.629701  \n",
       "4    0.609650  \n",
       "5    0.619137  \n",
       "6    0.622747  \n",
       "7    0.613546  "
      ]
     },
     "execution_count": 49,
     "metadata": {},
     "output_type": "execute_result"
    },
    {
     "data": {
      "application/javascript": [
       "\n",
       "            setTimeout(function() {\n",
       "                var nbb_cell_id = 49;\n",
       "                var nbb_unformatted_code = \"classifiers_dataframe\";\n",
       "                var nbb_formatted_code = \"classifiers_dataframe\";\n",
       "                var nbb_cells = Jupyter.notebook.get_cells();\n",
       "                for (var i = 0; i < nbb_cells.length; ++i) {\n",
       "                    if (nbb_cells[i].input_prompt_number == nbb_cell_id) {\n",
       "                        if (nbb_cells[i].get_text() == nbb_unformatted_code) {\n",
       "                             nbb_cells[i].set_text(nbb_formatted_code);\n",
       "                        }\n",
       "                        break;\n",
       "                    }\n",
       "                }\n",
       "            }, 500);\n",
       "            "
      ],
      "text/plain": [
       "<IPython.core.display.Javascript object>"
      ]
     },
     "metadata": {},
     "output_type": "display_data"
    }
   ],
   "source": [
    "classifiers_dataframe"
   ]
  },
  {
   "cell_type": "code",
   "execution_count": 50,
   "metadata": {},
   "outputs": [
    {
     "name": "stdout",
     "output_type": "stream",
     "text": [
      "Now tuning Random Forest. Go grab a beer or something.\n",
      "Fitting 5 folds for each of 12 candidates, totalling 60 fits\n"
     ]
    },
    {
     "name": "stderr",
     "output_type": "stream",
     "text": [
      "[Parallel(n_jobs=-1)]: Using backend LokyBackend with 8 concurrent workers.\n"
     ]
    },
    {
     "ename": "ValueError",
     "evalue": "Invalid parameter class_weight for estimator Pipeline(memory=None,\n         steps=[('scaler',\n                 StandardScaler(copy=True, with_mean=True, with_std=True)),\n                ('classifier',\n                 RandomForestClassifier(bootstrap=True, ccp_alpha=0.0,\n                                        class_weight=None, criterion='gini',\n                                        max_depth=None, max_features='auto',\n                                        max_leaf_nodes=None, max_samples=None,\n                                        min_impurity_decrease=0.0,\n                                        min_impurity_split=None,\n                                        min_samples_leaf=1, min_samples_split=2,\n                                        min_weight_fraction_leaf=0.0,\n                                        n_estimators=100, n_jobs=None,\n                                        oob_score=False, random_state=None,\n                                        verbose=0, warm_start=False))],\n         verbose=False). Check the list of available parameters with `estimator.get_params().keys()`.",
     "output_type": "error",
     "traceback": [
      "\u001b[1;31m---------------------------------------------------------------------------\u001b[0m",
      "\u001b[1;31m_RemoteTraceback\u001b[0m                          Traceback (most recent call last)",
      "\u001b[1;31m_RemoteTraceback\u001b[0m: \n\"\"\"\nTraceback (most recent call last):\n  File \"C:\\Users\\hmbf1\\Anaconda3\\lib\\site-packages\\joblib\\externals\\loky\\process_executor.py\", line 418, in _process_worker\n    r = call_item()\n  File \"C:\\Users\\hmbf1\\Anaconda3\\lib\\site-packages\\joblib\\externals\\loky\\process_executor.py\", line 272, in __call__\n    return self.fn(*self.args, **self.kwargs)\n  File \"C:\\Users\\hmbf1\\Anaconda3\\lib\\site-packages\\joblib\\_parallel_backends.py\", line 600, in __call__\n    return self.func(*args, **kwargs)\n  File \"C:\\Users\\hmbf1\\Anaconda3\\lib\\site-packages\\joblib\\parallel.py\", line 256, in __call__\n    for func, args, kwargs in self.items]\n  File \"C:\\Users\\hmbf1\\Anaconda3\\lib\\site-packages\\joblib\\parallel.py\", line 256, in <listcomp>\n    for func, args, kwargs in self.items]\n  File \"C:\\Users\\hmbf1\\Anaconda3\\lib\\site-packages\\sklearn\\model_selection\\_validation.py\", line 504, in _fit_and_score\n    estimator = estimator.set_params(**cloned_parameters)\n  File \"C:\\Users\\hmbf1\\Anaconda3\\lib\\site-packages\\sklearn\\pipeline.py\", line 163, in set_params\n    self._set_params('steps', **kwargs)\n  File \"C:\\Users\\hmbf1\\Anaconda3\\lib\\site-packages\\sklearn\\utils\\metaestimators.py\", line 50, in _set_params\n    super().set_params(**params)\n  File \"C:\\Users\\hmbf1\\Anaconda3\\lib\\site-packages\\sklearn\\base.py\", line 236, in set_params\n    (key, self))\nValueError: Invalid parameter class_weight for estimator Pipeline(memory=None,\n         steps=[('scaler',\n                 StandardScaler(copy=True, with_mean=True, with_std=True)),\n                ('classifier',\n                 RandomForestClassifier(bootstrap=True, ccp_alpha=0.0,\n                                        class_weight=None, criterion='gini',\n                                        max_depth=None, max_features='auto',\n                                        max_leaf_nodes=None, max_samples=None,\n                                        min_impurity_decrease=0.0,\n                                        min_impurity_split=None,\n                                        min_samples_leaf=1, min_samples_split=2,\n                                        min_weight_fraction_leaf=0.0,\n                                        n_estimators=100, n_jobs=None,\n                                        oob_score=False, random_state=None,\n                                        verbose=0, warm_start=False))],\n         verbose=False). Check the list of available parameters with `estimator.get_params().keys()`.\n\"\"\"",
      "\nThe above exception was the direct cause of the following exception:\n",
      "\u001b[1;31mValueError\u001b[0m                                Traceback (most recent call last)",
      "\u001b[1;32m<ipython-input-50-030e601178b6>\u001b[0m in \u001b[0;36m<module>\u001b[1;34m\u001b[0m\n\u001b[0;32m     22\u001b[0m \u001b[1;31m# Fit gscv\u001b[0m\u001b[1;33m\u001b[0m\u001b[1;33m\u001b[0m\u001b[1;33m\u001b[0m\u001b[0m\n\u001b[0;32m     23\u001b[0m \u001b[0mprint\u001b[0m\u001b[1;33m(\u001b[0m\u001b[1;34mf\"Now tuning {selected_classifier}. Go grab a beer or something.\"\u001b[0m\u001b[1;33m)\u001b[0m\u001b[1;33m\u001b[0m\u001b[1;33m\u001b[0m\u001b[0m\n\u001b[1;32m---> 24\u001b[1;33m \u001b[0mgscv\u001b[0m\u001b[1;33m.\u001b[0m\u001b[0mfit\u001b[0m\u001b[1;33m(\u001b[0m\u001b[0mX_train\u001b[0m\u001b[1;33m,\u001b[0m \u001b[0mnp\u001b[0m\u001b[1;33m.\u001b[0m\u001b[0mravel\u001b[0m\u001b[1;33m(\u001b[0m\u001b[0my_train\u001b[0m\u001b[1;33m)\u001b[0m\u001b[1;33m)\u001b[0m\u001b[1;33m\u001b[0m\u001b[1;33m\u001b[0m\u001b[0m\n\u001b[0m\u001b[0;32m     25\u001b[0m \u001b[1;33m\u001b[0m\u001b[0m\n\u001b[0;32m     26\u001b[0m \u001b[1;31m# Get best parameters and score\u001b[0m\u001b[1;33m\u001b[0m\u001b[1;33m\u001b[0m\u001b[1;33m\u001b[0m\u001b[0m\n",
      "\u001b[1;32m~\\Anaconda3\\lib\\site-packages\\sklearn\\model_selection\\_search.py\u001b[0m in \u001b[0;36mfit\u001b[1;34m(self, X, y, groups, **fit_params)\u001b[0m\n\u001b[0;32m    708\u001b[0m                 \u001b[1;32mreturn\u001b[0m \u001b[0mresults\u001b[0m\u001b[1;33m\u001b[0m\u001b[1;33m\u001b[0m\u001b[0m\n\u001b[0;32m    709\u001b[0m \u001b[1;33m\u001b[0m\u001b[0m\n\u001b[1;32m--> 710\u001b[1;33m             \u001b[0mself\u001b[0m\u001b[1;33m.\u001b[0m\u001b[0m_run_search\u001b[0m\u001b[1;33m(\u001b[0m\u001b[0mevaluate_candidates\u001b[0m\u001b[1;33m)\u001b[0m\u001b[1;33m\u001b[0m\u001b[1;33m\u001b[0m\u001b[0m\n\u001b[0m\u001b[0;32m    711\u001b[0m \u001b[1;33m\u001b[0m\u001b[0m\n\u001b[0;32m    712\u001b[0m         \u001b[1;31m# For multi-metric evaluation, store the best_index_, best_params_ and\u001b[0m\u001b[1;33m\u001b[0m\u001b[1;33m\u001b[0m\u001b[1;33m\u001b[0m\u001b[0m\n",
      "\u001b[1;32m~\\Anaconda3\\lib\\site-packages\\sklearn\\model_selection\\_search.py\u001b[0m in \u001b[0;36m_run_search\u001b[1;34m(self, evaluate_candidates)\u001b[0m\n\u001b[0;32m   1149\u001b[0m     \u001b[1;32mdef\u001b[0m \u001b[0m_run_search\u001b[0m\u001b[1;33m(\u001b[0m\u001b[0mself\u001b[0m\u001b[1;33m,\u001b[0m \u001b[0mevaluate_candidates\u001b[0m\u001b[1;33m)\u001b[0m\u001b[1;33m:\u001b[0m\u001b[1;33m\u001b[0m\u001b[1;33m\u001b[0m\u001b[0m\n\u001b[0;32m   1150\u001b[0m         \u001b[1;34m\"\"\"Search all candidates in param_grid\"\"\"\u001b[0m\u001b[1;33m\u001b[0m\u001b[1;33m\u001b[0m\u001b[0m\n\u001b[1;32m-> 1151\u001b[1;33m         \u001b[0mevaluate_candidates\u001b[0m\u001b[1;33m(\u001b[0m\u001b[0mParameterGrid\u001b[0m\u001b[1;33m(\u001b[0m\u001b[0mself\u001b[0m\u001b[1;33m.\u001b[0m\u001b[0mparam_grid\u001b[0m\u001b[1;33m)\u001b[0m\u001b[1;33m)\u001b[0m\u001b[1;33m\u001b[0m\u001b[1;33m\u001b[0m\u001b[0m\n\u001b[0m\u001b[0;32m   1152\u001b[0m \u001b[1;33m\u001b[0m\u001b[0m\n\u001b[0;32m   1153\u001b[0m \u001b[1;33m\u001b[0m\u001b[0m\n",
      "\u001b[1;32m~\\Anaconda3\\lib\\site-packages\\sklearn\\model_selection\\_search.py\u001b[0m in \u001b[0;36mevaluate_candidates\u001b[1;34m(candidate_params)\u001b[0m\n\u001b[0;32m    687\u001b[0m                                \u001b[1;32mfor\u001b[0m \u001b[0mparameters\u001b[0m\u001b[1;33m,\u001b[0m \u001b[1;33m(\u001b[0m\u001b[0mtrain\u001b[0m\u001b[1;33m,\u001b[0m \u001b[0mtest\u001b[0m\u001b[1;33m)\u001b[0m\u001b[1;33m\u001b[0m\u001b[1;33m\u001b[0m\u001b[0m\n\u001b[0;32m    688\u001b[0m                                in product(candidate_params,\n\u001b[1;32m--> 689\u001b[1;33m                                           cv.split(X, y, groups)))\n\u001b[0m\u001b[0;32m    690\u001b[0m \u001b[1;33m\u001b[0m\u001b[0m\n\u001b[0;32m    691\u001b[0m                 \u001b[1;32mif\u001b[0m \u001b[0mlen\u001b[0m\u001b[1;33m(\u001b[0m\u001b[0mout\u001b[0m\u001b[1;33m)\u001b[0m \u001b[1;33m<\u001b[0m \u001b[1;36m1\u001b[0m\u001b[1;33m:\u001b[0m\u001b[1;33m\u001b[0m\u001b[1;33m\u001b[0m\u001b[0m\n",
      "\u001b[1;32m~\\Anaconda3\\lib\\site-packages\\joblib\\parallel.py\u001b[0m in \u001b[0;36m__call__\u001b[1;34m(self, iterable)\u001b[0m\n\u001b[0;32m   1014\u001b[0m \u001b[1;33m\u001b[0m\u001b[0m\n\u001b[0;32m   1015\u001b[0m             \u001b[1;32mwith\u001b[0m \u001b[0mself\u001b[0m\u001b[1;33m.\u001b[0m\u001b[0m_backend\u001b[0m\u001b[1;33m.\u001b[0m\u001b[0mretrieval_context\u001b[0m\u001b[1;33m(\u001b[0m\u001b[1;33m)\u001b[0m\u001b[1;33m:\u001b[0m\u001b[1;33m\u001b[0m\u001b[1;33m\u001b[0m\u001b[0m\n\u001b[1;32m-> 1016\u001b[1;33m                 \u001b[0mself\u001b[0m\u001b[1;33m.\u001b[0m\u001b[0mretrieve\u001b[0m\u001b[1;33m(\u001b[0m\u001b[1;33m)\u001b[0m\u001b[1;33m\u001b[0m\u001b[1;33m\u001b[0m\u001b[0m\n\u001b[0m\u001b[0;32m   1017\u001b[0m             \u001b[1;31m# Make sure that we get a last message telling us we are done\u001b[0m\u001b[1;33m\u001b[0m\u001b[1;33m\u001b[0m\u001b[1;33m\u001b[0m\u001b[0m\n\u001b[0;32m   1018\u001b[0m             \u001b[0melapsed_time\u001b[0m \u001b[1;33m=\u001b[0m \u001b[0mtime\u001b[0m\u001b[1;33m.\u001b[0m\u001b[0mtime\u001b[0m\u001b[1;33m(\u001b[0m\u001b[1;33m)\u001b[0m \u001b[1;33m-\u001b[0m \u001b[0mself\u001b[0m\u001b[1;33m.\u001b[0m\u001b[0m_start_time\u001b[0m\u001b[1;33m\u001b[0m\u001b[1;33m\u001b[0m\u001b[0m\n",
      "\u001b[1;32m~\\Anaconda3\\lib\\site-packages\\joblib\\parallel.py\u001b[0m in \u001b[0;36mretrieve\u001b[1;34m(self)\u001b[0m\n\u001b[0;32m    906\u001b[0m             \u001b[1;32mtry\u001b[0m\u001b[1;33m:\u001b[0m\u001b[1;33m\u001b[0m\u001b[1;33m\u001b[0m\u001b[0m\n\u001b[0;32m    907\u001b[0m                 \u001b[1;32mif\u001b[0m \u001b[0mgetattr\u001b[0m\u001b[1;33m(\u001b[0m\u001b[0mself\u001b[0m\u001b[1;33m.\u001b[0m\u001b[0m_backend\u001b[0m\u001b[1;33m,\u001b[0m \u001b[1;34m'supports_timeout'\u001b[0m\u001b[1;33m,\u001b[0m \u001b[1;32mFalse\u001b[0m\u001b[1;33m)\u001b[0m\u001b[1;33m:\u001b[0m\u001b[1;33m\u001b[0m\u001b[1;33m\u001b[0m\u001b[0m\n\u001b[1;32m--> 908\u001b[1;33m                     \u001b[0mself\u001b[0m\u001b[1;33m.\u001b[0m\u001b[0m_output\u001b[0m\u001b[1;33m.\u001b[0m\u001b[0mextend\u001b[0m\u001b[1;33m(\u001b[0m\u001b[0mjob\u001b[0m\u001b[1;33m.\u001b[0m\u001b[0mget\u001b[0m\u001b[1;33m(\u001b[0m\u001b[0mtimeout\u001b[0m\u001b[1;33m=\u001b[0m\u001b[0mself\u001b[0m\u001b[1;33m.\u001b[0m\u001b[0mtimeout\u001b[0m\u001b[1;33m)\u001b[0m\u001b[1;33m)\u001b[0m\u001b[1;33m\u001b[0m\u001b[1;33m\u001b[0m\u001b[0m\n\u001b[0m\u001b[0;32m    909\u001b[0m                 \u001b[1;32melse\u001b[0m\u001b[1;33m:\u001b[0m\u001b[1;33m\u001b[0m\u001b[1;33m\u001b[0m\u001b[0m\n\u001b[0;32m    910\u001b[0m                     \u001b[0mself\u001b[0m\u001b[1;33m.\u001b[0m\u001b[0m_output\u001b[0m\u001b[1;33m.\u001b[0m\u001b[0mextend\u001b[0m\u001b[1;33m(\u001b[0m\u001b[0mjob\u001b[0m\u001b[1;33m.\u001b[0m\u001b[0mget\u001b[0m\u001b[1;33m(\u001b[0m\u001b[1;33m)\u001b[0m\u001b[1;33m)\u001b[0m\u001b[1;33m\u001b[0m\u001b[1;33m\u001b[0m\u001b[0m\n",
      "\u001b[1;32m~\\Anaconda3\\lib\\site-packages\\joblib\\_parallel_backends.py\u001b[0m in \u001b[0;36mwrap_future_result\u001b[1;34m(future, timeout)\u001b[0m\n\u001b[0;32m    552\u001b[0m         AsyncResults.get from multiprocessing.\"\"\"\n\u001b[0;32m    553\u001b[0m         \u001b[1;32mtry\u001b[0m\u001b[1;33m:\u001b[0m\u001b[1;33m\u001b[0m\u001b[1;33m\u001b[0m\u001b[0m\n\u001b[1;32m--> 554\u001b[1;33m             \u001b[1;32mreturn\u001b[0m \u001b[0mfuture\u001b[0m\u001b[1;33m.\u001b[0m\u001b[0mresult\u001b[0m\u001b[1;33m(\u001b[0m\u001b[0mtimeout\u001b[0m\u001b[1;33m=\u001b[0m\u001b[0mtimeout\u001b[0m\u001b[1;33m)\u001b[0m\u001b[1;33m\u001b[0m\u001b[1;33m\u001b[0m\u001b[0m\n\u001b[0m\u001b[0;32m    555\u001b[0m         \u001b[1;32mexcept\u001b[0m \u001b[0mLokyTimeoutError\u001b[0m\u001b[1;33m:\u001b[0m\u001b[1;33m\u001b[0m\u001b[1;33m\u001b[0m\u001b[0m\n\u001b[0;32m    556\u001b[0m             \u001b[1;32mraise\u001b[0m \u001b[0mTimeoutError\u001b[0m\u001b[1;33m(\u001b[0m\u001b[1;33m)\u001b[0m\u001b[1;33m\u001b[0m\u001b[1;33m\u001b[0m\u001b[0m\n",
      "\u001b[1;32m~\\Anaconda3\\lib\\concurrent\\futures\\_base.py\u001b[0m in \u001b[0;36mresult\u001b[1;34m(self, timeout)\u001b[0m\n\u001b[0;32m    430\u001b[0m                 \u001b[1;32mraise\u001b[0m \u001b[0mCancelledError\u001b[0m\u001b[1;33m(\u001b[0m\u001b[1;33m)\u001b[0m\u001b[1;33m\u001b[0m\u001b[1;33m\u001b[0m\u001b[0m\n\u001b[0;32m    431\u001b[0m             \u001b[1;32melif\u001b[0m \u001b[0mself\u001b[0m\u001b[1;33m.\u001b[0m\u001b[0m_state\u001b[0m \u001b[1;33m==\u001b[0m \u001b[0mFINISHED\u001b[0m\u001b[1;33m:\u001b[0m\u001b[1;33m\u001b[0m\u001b[1;33m\u001b[0m\u001b[0m\n\u001b[1;32m--> 432\u001b[1;33m                 \u001b[1;32mreturn\u001b[0m \u001b[0mself\u001b[0m\u001b[1;33m.\u001b[0m\u001b[0m__get_result\u001b[0m\u001b[1;33m(\u001b[0m\u001b[1;33m)\u001b[0m\u001b[1;33m\u001b[0m\u001b[1;33m\u001b[0m\u001b[0m\n\u001b[0m\u001b[0;32m    433\u001b[0m             \u001b[1;32melse\u001b[0m\u001b[1;33m:\u001b[0m\u001b[1;33m\u001b[0m\u001b[1;33m\u001b[0m\u001b[0m\n\u001b[0;32m    434\u001b[0m                 \u001b[1;32mraise\u001b[0m \u001b[0mTimeoutError\u001b[0m\u001b[1;33m(\u001b[0m\u001b[1;33m)\u001b[0m\u001b[1;33m\u001b[0m\u001b[1;33m\u001b[0m\u001b[0m\n",
      "\u001b[1;32m~\\Anaconda3\\lib\\concurrent\\futures\\_base.py\u001b[0m in \u001b[0;36m__get_result\u001b[1;34m(self)\u001b[0m\n\u001b[0;32m    382\u001b[0m     \u001b[1;32mdef\u001b[0m \u001b[0m__get_result\u001b[0m\u001b[1;33m(\u001b[0m\u001b[0mself\u001b[0m\u001b[1;33m)\u001b[0m\u001b[1;33m:\u001b[0m\u001b[1;33m\u001b[0m\u001b[1;33m\u001b[0m\u001b[0m\n\u001b[0;32m    383\u001b[0m         \u001b[1;32mif\u001b[0m \u001b[0mself\u001b[0m\u001b[1;33m.\u001b[0m\u001b[0m_exception\u001b[0m\u001b[1;33m:\u001b[0m\u001b[1;33m\u001b[0m\u001b[1;33m\u001b[0m\u001b[0m\n\u001b[1;32m--> 384\u001b[1;33m             \u001b[1;32mraise\u001b[0m \u001b[0mself\u001b[0m\u001b[1;33m.\u001b[0m\u001b[0m_exception\u001b[0m\u001b[1;33m\u001b[0m\u001b[1;33m\u001b[0m\u001b[0m\n\u001b[0m\u001b[0;32m    385\u001b[0m         \u001b[1;32melse\u001b[0m\u001b[1;33m:\u001b[0m\u001b[1;33m\u001b[0m\u001b[1;33m\u001b[0m\u001b[0m\n\u001b[0;32m    386\u001b[0m             \u001b[1;32mreturn\u001b[0m \u001b[0mself\u001b[0m\u001b[1;33m.\u001b[0m\u001b[0m_result\u001b[0m\u001b[1;33m\u001b[0m\u001b[1;33m\u001b[0m\u001b[0m\n",
      "\u001b[1;31mValueError\u001b[0m: Invalid parameter class_weight for estimator Pipeline(memory=None,\n         steps=[('scaler',\n                 StandardScaler(copy=True, with_mean=True, with_std=True)),\n                ('classifier',\n                 RandomForestClassifier(bootstrap=True, ccp_alpha=0.0,\n                                        class_weight=None, criterion='gini',\n                                        max_depth=None, max_features='auto',\n                                        max_leaf_nodes=None, max_samples=None,\n                                        min_impurity_decrease=0.0,\n                                        min_impurity_split=None,\n                                        min_samples_leaf=1, min_samples_split=2,\n                                        min_weight_fraction_leaf=0.0,\n                                        n_estimators=100, n_jobs=None,\n                                        oob_score=False, random_state=None,\n                                        verbose=0, warm_start=False))],\n         verbose=False). Check the list of available parameters with `estimator.get_params().keys()`."
     ]
    },
    {
     "data": {
      "application/javascript": [
       "\n",
       "            setTimeout(function() {\n",
       "                var nbb_cell_id = 50;\n",
       "                var nbb_unformatted_code = \"# Define classifier to use as the base of the recursive feature elimination algorithm\\nselected_classifier = \\\"Random Forest\\\"\\nclassifier = classifiers[selected_classifier]\\n\\n# Tune classifier (Took = 4.8 minutes)\\n    \\n# Scale features via Z-score normalization\\nscaler = StandardScaler()\\n\\n# Define steps in pipeline\\nsteps = [(\\\"scaler\\\", scaler), (\\\"classifier\\\", classifier)]\\n\\n# Initialize Pipeline object\\npipeline = Pipeline(steps = steps)\\n  \\n# Define parameter grid\\nparam_grid = parameters[selected_classifier]\\n\\n# Initialize GridSearch object\\ngscv = GridSearchCV(pipeline, param_grid, cv = 5,  n_jobs= -1, verbose = 1, scoring = \\\"roc_auc\\\")\\n                  \\n# Fit gscv\\nprint(f\\\"Now tuning {selected_classifier}. Go grab a beer or something.\\\")\\ngscv.fit(X_train, np.ravel(y_train))  \\n\\n# Get best parameters and score\\nbest_params = gscv.best_params_\\nbest_score = gscv.best_score_\\n        \\n# Update classifier parameters\\ntuned_params = {item[12:]: best_params[item] for item in best_params}\\nclassifier.set_params(**tuned_params)\";\n",
       "                var nbb_formatted_code = \"# Define classifier to use as the base of the recursive feature elimination algorithm\\nselected_classifier = \\\"Random Forest\\\"\\nclassifier = classifiers[selected_classifier]\\n\\n# Tune classifier (Took = 4.8 minutes)\\n\\n# Scale features via Z-score normalization\\nscaler = StandardScaler()\\n\\n# Define steps in pipeline\\nsteps = [(\\\"scaler\\\", scaler), (\\\"classifier\\\", classifier)]\\n\\n# Initialize Pipeline object\\npipeline = Pipeline(steps=steps)\\n\\n# Define parameter grid\\nparam_grid = parameters[selected_classifier]\\n\\n# Initialize GridSearch object\\ngscv = GridSearchCV(pipeline, param_grid, cv=5, n_jobs=-1, verbose=1, scoring=\\\"roc_auc\\\")\\n\\n# Fit gscv\\nprint(f\\\"Now tuning {selected_classifier}. Go grab a beer or something.\\\")\\ngscv.fit(X_train, np.ravel(y_train))\\n\\n# Get best parameters and score\\nbest_params = gscv.best_params_\\nbest_score = gscv.best_score_\\n\\n# Update classifier parameters\\ntuned_params = {item[12:]: best_params[item] for item in best_params}\\nclassifier.set_params(**tuned_params)\";\n",
       "                var nbb_cells = Jupyter.notebook.get_cells();\n",
       "                for (var i = 0; i < nbb_cells.length; ++i) {\n",
       "                    if (nbb_cells[i].input_prompt_number == nbb_cell_id) {\n",
       "                        if (nbb_cells[i].get_text() == nbb_unformatted_code) {\n",
       "                             nbb_cells[i].set_text(nbb_formatted_code);\n",
       "                        }\n",
       "                        break;\n",
       "                    }\n",
       "                }\n",
       "            }, 500);\n",
       "            "
      ],
      "text/plain": [
       "<IPython.core.display.Javascript object>"
      ]
     },
     "metadata": {},
     "output_type": "display_data"
    }
   ],
   "source": [
    "# Define classifier to use as the base of the recursive feature elimination algorithm\n",
    "selected_classifier = \"Random Forest\"\n",
    "classifier = classifiers[selected_classifier]\n",
    "\n",
    "# Tune classifier (Took = 4.8 minutes)\n",
    "\n",
    "# Scale features via Z-score normalization\n",
    "scaler = StandardScaler()\n",
    "\n",
    "# Define steps in pipeline\n",
    "steps = [(\"scaler\", scaler), (\"classifier\", classifier)]\n",
    "\n",
    "# Initialize Pipeline object\n",
    "pipeline = Pipeline(steps=steps)\n",
    "\n",
    "# Define parameter grid\n",
    "param_grid = parameters[selected_classifier]\n",
    "\n",
    "# Initialize GridSearch object\n",
    "gscv = GridSearchCV(pipeline, param_grid, cv=5, n_jobs=-1, verbose=1, scoring=\"roc_auc\")\n",
    "\n",
    "# Fit gscv\n",
    "print(f\"Now tuning {selected_classifier}. Go grab a beer or something.\")\n",
    "gscv.fit(X_train, np.ravel(y_train))\n",
    "\n",
    "# Get best parameters and score\n",
    "best_params = gscv.best_params_\n",
    "best_score = gscv.best_score_\n",
    "\n",
    "# Update classifier parameters\n",
    "tuned_params = {item[12:]: best_params[item] for item in best_params}\n",
    "classifier.set_params(**tuned_params)"
   ]
  },
  {
   "cell_type": "code",
   "execution_count": 51,
   "metadata": {},
   "outputs": [
    {
     "data": {
      "application/javascript": [
       "\n",
       "            setTimeout(function() {\n",
       "                var nbb_cell_id = 51;\n",
       "                var nbb_unformatted_code = \"# Select Features using RFECV\\nclass PipelineRFE(Pipeline):\\n    # Source: https://ramhiser.com/post/2018-03-25-feature-selection-with-scikit-learn-pipeline/\\n    def fit(self, X, y=None, **fit_params):\\n        super(PipelineRFE, self).fit(X, y, **fit_params)\\n        self.feature_importances_ = self.steps[-1][-1].feature_importances_\\n        return self\";\n",
       "                var nbb_formatted_code = \"# Select Features using RFECV\\nclass PipelineRFE(Pipeline):\\n    # Source: https://ramhiser.com/post/2018-03-25-feature-selection-with-scikit-learn-pipeline/\\n    def fit(self, X, y=None, **fit_params):\\n        super(PipelineRFE, self).fit(X, y, **fit_params)\\n        self.feature_importances_ = self.steps[-1][-1].feature_importances_\\n        return self\";\n",
       "                var nbb_cells = Jupyter.notebook.get_cells();\n",
       "                for (var i = 0; i < nbb_cells.length; ++i) {\n",
       "                    if (nbb_cells[i].input_prompt_number == nbb_cell_id) {\n",
       "                        if (nbb_cells[i].get_text() == nbb_unformatted_code) {\n",
       "                             nbb_cells[i].set_text(nbb_formatted_code);\n",
       "                        }\n",
       "                        break;\n",
       "                    }\n",
       "                }\n",
       "            }, 500);\n",
       "            "
      ],
      "text/plain": [
       "<IPython.core.display.Javascript object>"
      ]
     },
     "metadata": {},
     "output_type": "display_data"
    }
   ],
   "source": [
    "# Select Features using RFECV\n",
    "class PipelineRFE(Pipeline):\n",
    "    # Source: https://ramhiser.com/post/2018-03-25-feature-selection-with-scikit-learn-pipeline/\n",
    "    def fit(self, X, y=None, **fit_params):\n",
    "        super(PipelineRFE, self).fit(X, y, **fit_params)\n",
    "        self.feature_importances_ = self.steps[-1][-1].feature_importances_\n",
    "        return self"
   ]
  },
  {
   "cell_type": "code",
   "execution_count": null,
   "metadata": {},
   "outputs": [],
   "source": [
    "# Define pipeline for RFECV\n",
    "steps = [(\"scaler\", scaler), (\"classifier\", classifier)]\n",
    "pipe = PipelineRFE(steps = steps)\n",
    "\n",
    "# Initialize RFECV object\n",
    "feature_selector = RFECV(pipe, cv = 5, step = 1, scoring = \"roc_auc\", verbose = 1)\n",
    "\n",
    "# Fit RFECV\n",
    "feature_selector.fit(X_train, np.ravel(y_train))\n",
    "\n",
    "# Get selected features\n",
    "feature_names = X_train.columns\n",
    "selected_features = feature_names[feature_selector.support_].tolist()"
   ]
  },
  {
   "cell_type": "code",
   "execution_count": null,
   "metadata": {},
   "outputs": [],
   "source": [
    "# Get Performance Data\n",
    "performance_curve = {\"Number of Features\": list(range(1, len(feature_names) + 1)),\n",
    "                    \"AUC\": feature_selector.grid_scores_}\n",
    "performance_curve = pd.DataFrame(performance_curve)\n",
    "\n",
    "# Performance vs Number of Features\n",
    "# Set graph style\n",
    "sns.set(font_scale = 1.75)\n",
    "sns.set_style({\"axes.facecolor\": \"1.0\", \"axes.edgecolor\": \"0.85\", \"grid.color\": \"0.85\",\n",
    "               \"grid.linestyle\": \"-\", 'axes.labelcolor': '0.4', \"xtick.color\": \"0.4\",\n",
    "               'ytick.color': '0.4'})\n",
    "colors = sns.color_palette(\"RdYlGn\", 20)\n",
    "line_color = colors[3]\n",
    "marker_colors = colors[-1]\n",
    "\n",
    "# Plot\n",
    "f, ax = plt.subplots(figsize=(13, 6.5))\n",
    "sns.lineplot(x = \"Number of Features\", y = \"AUC\", data = performance_curve,\n",
    "             color = line_color, lw = 4, ax = ax)\n",
    "sns.regplot(x = performance_curve[\"Number of Features\"], y = performance_curve[\"AUC\"],\n",
    "            color = marker_colors, fit_reg = False, scatter_kws = {\"s\": 200}, ax = ax)\n",
    "\n",
    "# Axes limits\n",
    "plt.xlim(0.5, len(feature_names)+0.5)\n",
    "plt.ylim(0.60, 0.925)\n",
    "\n",
    "# Generate a bolded horizontal line at y = 0\n",
    "ax.axhline(y = 0.625, color = 'black', linewidth = 1.3, alpha = .7)\n",
    "\n",
    "# Turn frame off\n",
    "ax.set_frame_on(False)\n",
    "\n",
    "# Tight layout\n",
    "plt.tight_layout()"
   ]
  },
  {
   "cell_type": "code",
   "execution_count": null,
   "metadata": {},
   "outputs": [],
   "source": [
    "# View the performance of the algorithm vs the number of features\n",
    "performance_curve.head(40)"
   ]
  },
  {
   "cell_type": "code",
   "execution_count": null,
   "metadata": {},
   "outputs": [],
   "source": [
    "# Select the optimal number of features\n",
    "num_features = 18"
   ]
  },
  {
   "cell_type": "code",
   "execution_count": null,
   "metadata": {},
   "outputs": [],
   "source": [
    "# Define pipeline for RFECV\n",
    "steps = [(\"scaler\", scaler), (\"classifier\", classifier)]\n",
    "pipe = PipelineRFE(steps = steps)\n",
    "\n",
    "# Initialize RFE object\n",
    "feature_selector = RFE(pipe, n_features_to_select = num_features, step = 1, verbose = 1)\n",
    "\n",
    "# Fit RFE\n",
    "feature_selector.fit(X_train, np.ravel(y_train))\n",
    "\n",
    "# Get selected features labels\n",
    "feature_names = X_train.columns\n",
    "selected_features = feature_names[feature_selector.support_].tolist()"
   ]
  },
  {
   "cell_type": "code",
   "execution_count": null,
   "metadata": {},
   "outputs": [],
   "source": [
    "# Get selected features data set\n",
    "X_train = X_train[selected_features]\n",
    "X_test = X_test[selected_features]\n",
    "\n",
    "# Train classifier\n",
    "classifier.fit(X_train, np.ravel(y_train))\n",
    "\n",
    "# Get feature importance\n",
    "feature_importance = pd.DataFrame(selected_features, columns = [\"Feature Label\"])\n",
    "feature_importance[\"Feature Importance\"] = classifier.feature_importances_\n",
    "\n",
    "# Sort by feature importance\n",
    "feature_importance = feature_importance.sort_values(by=\"Feature Importance\", ascending=False)\n",
    "\n",
    "# Set graph style\n",
    "sns.set(font_scale = 1.75)\n",
    "sns.set_style({\"axes.facecolor\": \"1.0\", \"axes.edgecolor\": \"0.85\", \"grid.color\": \"0.85\",\n",
    "               \"grid.linestyle\": \"-\", 'axes.labelcolor': '0.4', \"xtick.color\": \"0.4\",\n",
    "               'ytick.color': '0.4'})\n",
    "\n",
    "# Set figure size and create barplot\n",
    "f, ax = plt.subplots(figsize=(12, 9))\n",
    "sns.barplot(x = \"Feature Importance\", y = \"Feature Label\",\n",
    "            palette = reversed(sns.color_palette('YlOrRd', 15)),  data = feature_importance)\n",
    "\n",
    "# Generate a bolded horizontal line at y = 0\n",
    "ax.axvline(x = 0, color = 'black', linewidth = 4, alpha = .7)\n",
    "\n",
    "# Turn frame off\n",
    "ax.set_frame_on(False)\n",
    "\n",
    "# Tight layout\n",
    "plt.tight_layout()"
   ]
  },
  {
   "cell_type": "markdown",
   "metadata": {},
   "source": [
    "## Neural Networks"
   ]
  },
  {
   "cell_type": "markdown",
   "metadata": {},
   "source": [
    "TODO:\n",
    "\n",
    "* Change to Tensorflow 2 framework\n",
    "* Build a process to test and otimize Neural Networks\n",
    "     "
   ]
  },
  {
   "cell_type": "code",
   "execution_count": 52,
   "metadata": {},
   "outputs": [
    {
     "data": {
      "application/javascript": [
       "\n",
       "            setTimeout(function() {\n",
       "                var nbb_cell_id = 52;\n",
       "                var nbb_unformatted_code = \"sc = StandardScaler()\\nX_train = sc.fit_transform(X_train)\\nX_test = sc.transform(X_test)\";\n",
       "                var nbb_formatted_code = \"sc = StandardScaler()\\nX_train = sc.fit_transform(X_train)\\nX_test = sc.transform(X_test)\";\n",
       "                var nbb_cells = Jupyter.notebook.get_cells();\n",
       "                for (var i = 0; i < nbb_cells.length; ++i) {\n",
       "                    if (nbb_cells[i].input_prompt_number == nbb_cell_id) {\n",
       "                        if (nbb_cells[i].get_text() == nbb_unformatted_code) {\n",
       "                             nbb_cells[i].set_text(nbb_formatted_code);\n",
       "                        }\n",
       "                        break;\n",
       "                    }\n",
       "                }\n",
       "            }, 500);\n",
       "            "
      ],
      "text/plain": [
       "<IPython.core.display.Javascript object>"
      ]
     },
     "metadata": {},
     "output_type": "display_data"
    }
   ],
   "source": [
    "sc = StandardScaler()\n",
    "X_train = sc.fit_transform(X_train)\n",
    "X_test = sc.transform(X_test)"
   ]
  },
  {
   "cell_type": "code",
   "execution_count": 57,
   "metadata": {},
   "outputs": [
    {
     "data": {
      "application/javascript": [
       "\n",
       "            setTimeout(function() {\n",
       "                var nbb_cell_id = 57;\n",
       "                var nbb_unformatted_code = \"# Initializing Neural Network\\nclassifier = Sequential()\";\n",
       "                var nbb_formatted_code = \"# Initializing Neural Network\\nclassifier = Sequential()\";\n",
       "                var nbb_cells = Jupyter.notebook.get_cells();\n",
       "                for (var i = 0; i < nbb_cells.length; ++i) {\n",
       "                    if (nbb_cells[i].input_prompt_number == nbb_cell_id) {\n",
       "                        if (nbb_cells[i].get_text() == nbb_unformatted_code) {\n",
       "                             nbb_cells[i].set_text(nbb_formatted_code);\n",
       "                        }\n",
       "                        break;\n",
       "                    }\n",
       "                }\n",
       "            }, 500);\n",
       "            "
      ],
      "text/plain": [
       "<IPython.core.display.Javascript object>"
      ]
     },
     "metadata": {},
     "output_type": "display_data"
    }
   ],
   "source": [
    "# Initializing Neural Network\n",
    "classifier = Sequential()"
   ]
  },
  {
   "cell_type": "code",
   "execution_count": 58,
   "metadata": {},
   "outputs": [
    {
     "data": {
      "application/javascript": [
       "\n",
       "            setTimeout(function() {\n",
       "                var nbb_cell_id = 58;\n",
       "                var nbb_unformatted_code = \"# Adding the input layer and the first hidden layer\\nclassifier.add(Dense(units=64, activation=\\\"relu\\\", input_dim=30))\\n# Adding the second hidden layer\\nclassifier.add(Dropout(0.5))\\nclassifier.add(Dense(units=512, activation=\\\"relu\\\"))\\n# Adding the second hidden layer\\nclassifier.add(Dropout(0.5))\\nclassifier.add(Dense(units=64, activation=\\\"relu\\\"))\\n# Adding the output layer\\nclassifier.add(Dense(units=1, activation=\\\"sigmoid\\\"))\";\n",
       "                var nbb_formatted_code = \"# Adding the input layer and the first hidden layer\\nclassifier.add(Dense(units=64, activation=\\\"relu\\\", input_dim=30))\\n# Adding the second hidden layer\\nclassifier.add(Dropout(0.5))\\nclassifier.add(Dense(units=512, activation=\\\"relu\\\"))\\n# Adding the second hidden layer\\nclassifier.add(Dropout(0.5))\\nclassifier.add(Dense(units=64, activation=\\\"relu\\\"))\\n# Adding the output layer\\nclassifier.add(Dense(units=1, activation=\\\"sigmoid\\\"))\";\n",
       "                var nbb_cells = Jupyter.notebook.get_cells();\n",
       "                for (var i = 0; i < nbb_cells.length; ++i) {\n",
       "                    if (nbb_cells[i].input_prompt_number == nbb_cell_id) {\n",
       "                        if (nbb_cells[i].get_text() == nbb_unformatted_code) {\n",
       "                             nbb_cells[i].set_text(nbb_formatted_code);\n",
       "                        }\n",
       "                        break;\n",
       "                    }\n",
       "                }\n",
       "            }, 500);\n",
       "            "
      ],
      "text/plain": [
       "<IPython.core.display.Javascript object>"
      ]
     },
     "metadata": {},
     "output_type": "display_data"
    }
   ],
   "source": [
    "# Adding the input layer and the first hidden layer\n",
    "classifier.add(Dense(units=64, activation=\"relu\", input_dim=30))\n",
    "# Adding the second hidden layer\n",
    "classifier.add(Dropout(0.5))\n",
    "classifier.add(Dense(units=512, activation=\"relu\"))\n",
    "# Adding the second hidden layer\n",
    "classifier.add(Dropout(0.5))\n",
    "classifier.add(Dense(units=64, activation=\"relu\"))\n",
    "# Adding the output layer\n",
    "classifier.add(Dense(units=1, activation=\"sigmoid\"))"
   ]
  },
  {
   "cell_type": "code",
   "execution_count": 59,
   "metadata": {},
   "outputs": [
    {
     "data": {
      "application/javascript": [
       "\n",
       "            setTimeout(function() {\n",
       "                var nbb_cell_id = 59;\n",
       "                var nbb_unformatted_code = \"classifier.compile(optimizer=\\\"adam\\\", loss=\\\"binary_crossentropy\\\", metrics=[\\\"accuracy\\\"])\";\n",
       "                var nbb_formatted_code = \"classifier.compile(optimizer=\\\"adam\\\", loss=\\\"binary_crossentropy\\\", metrics=[\\\"accuracy\\\"])\";\n",
       "                var nbb_cells = Jupyter.notebook.get_cells();\n",
       "                for (var i = 0; i < nbb_cells.length; ++i) {\n",
       "                    if (nbb_cells[i].input_prompt_number == nbb_cell_id) {\n",
       "                        if (nbb_cells[i].get_text() == nbb_unformatted_code) {\n",
       "                             nbb_cells[i].set_text(nbb_formatted_code);\n",
       "                        }\n",
       "                        break;\n",
       "                    }\n",
       "                }\n",
       "            }, 500);\n",
       "            "
      ],
      "text/plain": [
       "<IPython.core.display.Javascript object>"
      ]
     },
     "metadata": {},
     "output_type": "display_data"
    }
   ],
   "source": [
    "classifier.compile(optimizer=\"adam\", loss=\"binary_crossentropy\", metrics=[\"accuracy\"])"
   ]
  },
  {
   "cell_type": "code",
   "execution_count": 60,
   "metadata": {},
   "outputs": [
    {
     "name": "stdout",
     "output_type": "stream",
     "text": [
      "Epoch 1/30\n",
      "931/931 [==============================] - 0s 320us/step - loss: 0.7198 - accuracy: 0.4995\n",
      "Epoch 2/30\n",
      "931/931 [==============================] - 0s 16us/step - loss: 0.6986 - accuracy: 0.5349\n",
      "Epoch 3/30\n",
      "931/931 [==============================] - 0s 18us/step - loss: 0.7038 - accuracy: 0.4995\n",
      "Epoch 4/30\n",
      "931/931 [==============================] - 0s 17us/step - loss: 0.6842 - accuracy: 0.5639\n",
      "Epoch 5/30\n",
      "931/931 [==============================] - 0s 18us/step - loss: 0.6854 - accuracy: 0.5575\n",
      "Epoch 6/30\n",
      "931/931 [==============================] - 0s 18us/step - loss: 0.6816 - accuracy: 0.5596\n",
      "Epoch 7/30\n",
      "931/931 [==============================] - 0s 17us/step - loss: 0.6651 - accuracy: 0.5789\n",
      "Epoch 8/30\n",
      "931/931 [==============================] - 0s 17us/step - loss: 0.6713 - accuracy: 0.5585\n",
      "Epoch 9/30\n",
      "931/931 [==============================] - 0s 18us/step - loss: 0.6805 - accuracy: 0.5585\n",
      "Epoch 10/30\n",
      "931/931 [==============================] - 0s 15us/step - loss: 0.6686 - accuracy: 0.5822\n",
      "Epoch 11/30\n",
      "931/931 [==============================] - 0s 15us/step - loss: 0.6777 - accuracy: 0.5618\n",
      "Epoch 12/30\n",
      "931/931 [==============================] - 0s 17us/step - loss: 0.6808 - accuracy: 0.5714\n",
      "Epoch 13/30\n",
      "931/931 [==============================] - 0s 16us/step - loss: 0.6685 - accuracy: 0.5875\n",
      "Epoch 14/30\n",
      "931/931 [==============================] - 0s 16us/step - loss: 0.6650 - accuracy: 0.5918\n",
      "Epoch 15/30\n",
      "931/931 [==============================] - 0s 15us/step - loss: 0.6724 - accuracy: 0.5875\n",
      "Epoch 16/30\n",
      "931/931 [==============================] - 0s 17us/step - loss: 0.6606 - accuracy: 0.6047\n",
      "Epoch 17/30\n",
      "931/931 [==============================] - 0s 14us/step - loss: 0.6612 - accuracy: 0.5972\n",
      "Epoch 18/30\n",
      "931/931 [==============================] - 0s 17us/step - loss: 0.6658 - accuracy: 0.6004\n",
      "Epoch 19/30\n",
      "931/931 [==============================] - 0s 16us/step - loss: 0.6659 - accuracy: 0.5961\n",
      "Epoch 20/30\n",
      "931/931 [==============================] - 0s 17us/step - loss: 0.6533 - accuracy: 0.6144\n",
      "Epoch 21/30\n",
      "931/931 [==============================] - 0s 18us/step - loss: 0.6580 - accuracy: 0.5779\n",
      "Epoch 22/30\n",
      "931/931 [==============================] - 0s 16us/step - loss: 0.6609 - accuracy: 0.5983\n",
      "Epoch 23/30\n",
      "931/931 [==============================] - 0s 19us/step - loss: 0.6471 - accuracy: 0.6348\n",
      "Epoch 24/30\n",
      "931/931 [==============================] - 0s 18us/step - loss: 0.6543 - accuracy: 0.6026\n",
      "Epoch 25/30\n",
      "931/931 [==============================] - 0s 17us/step - loss: 0.6573 - accuracy: 0.6176\n",
      "Epoch 26/30\n",
      "931/931 [==============================] - 0s 16us/step - loss: 0.6570 - accuracy: 0.6047\n",
      "Epoch 27/30\n",
      "931/931 [==============================] - 0s 16us/step - loss: 0.6427 - accuracy: 0.6176\n",
      "Epoch 28/30\n",
      "931/931 [==============================] - 0s 17us/step - loss: 0.6574 - accuracy: 0.6122\n",
      "Epoch 29/30\n",
      "931/931 [==============================] - 0s 16us/step - loss: 0.6508 - accuracy: 0.6122\n",
      "Epoch 30/30\n",
      "931/931 [==============================] - 0s 17us/step - loss: 0.6353 - accuracy: 0.6380\n"
     ]
    },
    {
     "data": {
      "text/plain": [
       "<keras.callbacks.callbacks.History at 0x1f18a1db1d0>"
      ]
     },
     "execution_count": 60,
     "metadata": {},
     "output_type": "execute_result"
    },
    {
     "data": {
      "application/javascript": [
       "\n",
       "            setTimeout(function() {\n",
       "                var nbb_cell_id = 60;\n",
       "                var nbb_unformatted_code = \"classifier.fit(X_train, y_train, batch_size=500, epochs=30)\";\n",
       "                var nbb_formatted_code = \"classifier.fit(X_train, y_train, batch_size=500, epochs=30)\";\n",
       "                var nbb_cells = Jupyter.notebook.get_cells();\n",
       "                for (var i = 0; i < nbb_cells.length; ++i) {\n",
       "                    if (nbb_cells[i].input_prompt_number == nbb_cell_id) {\n",
       "                        if (nbb_cells[i].get_text() == nbb_unformatted_code) {\n",
       "                             nbb_cells[i].set_text(nbb_formatted_code);\n",
       "                        }\n",
       "                        break;\n",
       "                    }\n",
       "                }\n",
       "            }, 500);\n",
       "            "
      ],
      "text/plain": [
       "<IPython.core.display.Javascript object>"
      ]
     },
     "metadata": {},
     "output_type": "display_data"
    }
   ],
   "source": [
    "classifier.fit(X_train, y_train, batch_size=500, epochs=30)"
   ]
  },
  {
   "cell_type": "code",
   "execution_count": 61,
   "metadata": {},
   "outputs": [
    {
     "name": "stdout",
     "output_type": "stream",
     "text": [
      "              precision    recall  f1-score   support\n",
      "\n",
      "           0       0.61      0.73      0.66       204\n",
      "           1       0.64      0.52      0.57       196\n",
      "\n",
      "    accuracy                           0.62       400\n",
      "   macro avg       0.63      0.62      0.62       400\n",
      "weighted avg       0.63      0.62      0.62       400\n",
      "\n",
      "0.6225\n"
     ]
    },
    {
     "data": {
      "application/javascript": [
       "\n",
       "            setTimeout(function() {\n",
       "                var nbb_cell_id = 61;\n",
       "                var nbb_unformatted_code = \"y_pred = classifier.predict(X_test)\\ny_pred = (y_pred > 0.5)\\nprint(classification_report(y_test, y_pred))\\nprint(accuracy_score(y_test, y_pred))\";\n",
       "                var nbb_formatted_code = \"y_pred = classifier.predict(X_test)\\ny_pred = y_pred > 0.5\\nprint(classification_report(y_test, y_pred))\\nprint(accuracy_score(y_test, y_pred))\";\n",
       "                var nbb_cells = Jupyter.notebook.get_cells();\n",
       "                for (var i = 0; i < nbb_cells.length; ++i) {\n",
       "                    if (nbb_cells[i].input_prompt_number == nbb_cell_id) {\n",
       "                        if (nbb_cells[i].get_text() == nbb_unformatted_code) {\n",
       "                             nbb_cells[i].set_text(nbb_formatted_code);\n",
       "                        }\n",
       "                        break;\n",
       "                    }\n",
       "                }\n",
       "            }, 500);\n",
       "            "
      ],
      "text/plain": [
       "<IPython.core.display.Javascript object>"
      ]
     },
     "metadata": {},
     "output_type": "display_data"
    }
   ],
   "source": [
    "y_pred = classifier.predict(X_test)\n",
    "y_pred = y_pred > 0.5\n",
    "print(classification_report(y_test, y_pred))\n",
    "print(accuracy_score(y_test, y_pred))"
   ]
  },
  {
   "cell_type": "code",
   "execution_count": 62,
   "metadata": {},
   "outputs": [
    {
     "data": {
      "application/javascript": [
       "\n",
       "            setTimeout(function() {\n",
       "                var nbb_cell_id = 62;\n",
       "                var nbb_unformatted_code = \"y_pred=classifier.predict_proba(X_test)\";\n",
       "                var nbb_formatted_code = \"y_pred = classifier.predict_proba(X_test)\";\n",
       "                var nbb_cells = Jupyter.notebook.get_cells();\n",
       "                for (var i = 0; i < nbb_cells.length; ++i) {\n",
       "                    if (nbb_cells[i].input_prompt_number == nbb_cell_id) {\n",
       "                        if (nbb_cells[i].get_text() == nbb_unformatted_code) {\n",
       "                             nbb_cells[i].set_text(nbb_formatted_code);\n",
       "                        }\n",
       "                        break;\n",
       "                    }\n",
       "                }\n",
       "            }, 500);\n",
       "            "
      ],
      "text/plain": [
       "<IPython.core.display.Javascript object>"
      ]
     },
     "metadata": {},
     "output_type": "display_data"
    }
   ],
   "source": [
    "y_pred = classifier.predict_proba(X_test)"
   ]
  },
  {
   "cell_type": "code",
   "execution_count": 79,
   "metadata": {},
   "outputs": [
    {
     "data": {
      "text/plain": [
       "<Figure size 432x288 with 0 Axes>"
      ]
     },
     "execution_count": 79,
     "metadata": {},
     "output_type": "execute_result"
    },
    {
     "data": {
      "text/plain": [
       "Text(0.5, 1.0, 'ROC')"
      ]
     },
     "execution_count": 79,
     "metadata": {},
     "output_type": "execute_result"
    },
    {
     "data": {
      "text/plain": [
       "[<matplotlib.lines.Line2D at 0x1f1990d9cc0>]"
      ]
     },
     "execution_count": 79,
     "metadata": {},
     "output_type": "execute_result"
    },
    {
     "data": {
      "text/plain": [
       "<matplotlib.legend.Legend at 0x1f19931dba8>"
      ]
     },
     "execution_count": 79,
     "metadata": {},
     "output_type": "execute_result"
    },
    {
     "data": {
      "text/plain": [
       "[<matplotlib.lines.Line2D at 0x1f199a31c50>]"
      ]
     },
     "execution_count": 79,
     "metadata": {},
     "output_type": "execute_result"
    },
    {
     "data": {
      "text/plain": [
       "(0.0, 1.0)"
      ]
     },
     "execution_count": 79,
     "metadata": {},
     "output_type": "execute_result"
    },
    {
     "data": {
      "text/plain": [
       "(0.0, 1.0)"
      ]
     },
     "execution_count": 79,
     "metadata": {},
     "output_type": "execute_result"
    },
    {
     "data": {
      "text/plain": [
       "Text(0, 0.5, 'True Positive Rate')"
      ]
     },
     "execution_count": 79,
     "metadata": {},
     "output_type": "execute_result"
    },
    {
     "data": {
      "text/plain": [
       "Text(0.5, 0, 'False Positive Rate')"
      ]
     },
     "execution_count": 79,
     "metadata": {},
     "output_type": "execute_result"
    },
    {
     "data": {
      "image/png": "[encoded data removed]",
      "text/plain": [
       "<Figure size 432x288 with 1 Axes>"
      ]
     },
     "metadata": {
      "needs_background": "dark"
     },
     "output_type": "display_data"
    },
    {
     "data": {
      "application/javascript": [
       "\n",
       "            setTimeout(function() {\n",
       "                var nbb_cell_id = 79;\n",
       "                var nbb_unformatted_code = \"# Print Area Under Curve\\nfalse_positive_rate, recall, thresholds = roc_curve(y_test, y_pred)\\nroc_auc = auc(false_positive_rate, recall)\\nplt.figure()\\nplt.title(\\\"ROC\\\")\\nplt.plot(false_positive_rate, recall, \\\"b\\\", label=\\\"AUC = %0.3f\\\" % roc_auc)\\nplt.legend(loc=\\\"lower right\\\")\\nplt.plot([0, 1], [0, 1], \\\"w--\\\")\\nplt.xlim([0.0, 1.0])\\nplt.ylim([0.0, 1.0])\\nplt.ylabel(\\\"True Positive Rate\\\")\\nplt.xlabel(\\\"False Positive Rate\\\")\\nplt.show()\";\n",
       "                var nbb_formatted_code = \"# Print Area Under Curve\\nfalse_positive_rate, recall, thresholds = roc_curve(y_test, y_pred)\\nroc_auc = auc(false_positive_rate, recall)\\nplt.figure()\\nplt.title(\\\"ROC\\\")\\nplt.plot(false_positive_rate, recall, \\\"b\\\", label=\\\"AUC = %0.3f\\\" % roc_auc)\\nplt.legend(loc=\\\"lower right\\\")\\nplt.plot([0, 1], [0, 1], \\\"w--\\\")\\nplt.xlim([0.0, 1.0])\\nplt.ylim([0.0, 1.0])\\nplt.ylabel(\\\"True Positive Rate\\\")\\nplt.xlabel(\\\"False Positive Rate\\\")\\nplt.show()\";\n",
       "                var nbb_cells = Jupyter.notebook.get_cells();\n",
       "                for (var i = 0; i < nbb_cells.length; ++i) {\n",
       "                    if (nbb_cells[i].input_prompt_number == nbb_cell_id) {\n",
       "                        if (nbb_cells[i].get_text() == nbb_unformatted_code) {\n",
       "                             nbb_cells[i].set_text(nbb_formatted_code);\n",
       "                        }\n",
       "                        break;\n",
       "                    }\n",
       "                }\n",
       "            }, 500);\n",
       "            "
      ],
      "text/plain": [
       "<IPython.core.display.Javascript object>"
      ]
     },
     "metadata": {},
     "output_type": "display_data"
    }
   ],
   "source": [
    "# Print Area Under Curve\n",
    "false_positive_rate, recall, thresholds = roc_curve(y_test, y_pred)\n",
    "roc_auc = auc(false_positive_rate, recall)\n",
    "plt.figure()\n",
    "plt.title(\"ROC\")\n",
    "plt.plot(false_positive_rate, recall, \"b\", label=\"AUC = %0.3f\" % roc_auc)\n",
    "plt.legend(loc=\"lower right\")\n",
    "plt.plot([0, 1], [0, 1], \"w--\")\n",
    "plt.xlim([0.0, 1.0])\n",
    "plt.ylim([0.0, 1.0])\n",
    "plt.ylabel(\"True Positive Rate\")\n",
    "plt.xlabel(\"False Positive Rate\")\n",
    "plt.show()"
   ]
  },
  {
   "cell_type": "markdown",
   "metadata": {},
   "source": [
    "# Model Deployment"
   ]
  },
  {
   "cell_type": "markdown",
   "metadata": {},
   "source": [
    "## Save Model"
   ]
  },
  {
   "cell_type": "code",
   "execution_count": null,
   "metadata": {
    "lines_to_next_cell": 0
   },
   "outputs": [],
   "source": [
    "# TODO: model version control and auto-deployment\n",
    "\n",
    "# Save the model as a pickle in a file \n",
    "joblib.dump(model, 'model.pkl') "
   ]
  },
  {
   "cell_type": "code",
   "execution_count": null,
   "metadata": {
    "lines_to_next_cell": 2
   },
   "outputs": [],
   "source": []
  }
 ],
 "metadata": {
  "jupytext": {
   "formats": "ipynb,py"
  },
  "kernelspec": {
   "display_name": "Python 3",
   "language": "python",
   "name": "python3"
  },
  "language_info": {
   "codemirror_mode": {
    "name": "ipython",
    "version": 3
   },
   "file_extension": ".py",
   "mimetype": "text/x-python",
   "name": "python",
   "nbconvert_exporter": "python",
   "pygments_lexer": "ipython3",
   "version": "3.7.3"
  },
  "toc": {
   "base_numbering": 1,
   "nav_menu": {},
   "number_sections": true,
   "sideBar": true,
   "skip_h1_title": false,
   "title_cell": "Table of Contents",
   "title_sidebar": "Contents",
   "toc_cell": true,
   "toc_position": {
    "height": "calc(100% - 180px)",
    "left": "10px",
    "top": "150px",
    "width": "384px"
   },
   "toc_section_display": true,
   "toc_window_display": true
  },
  "varInspector": {
   "cols": {
    "lenName": 16,
    "lenType": 16,
    "lenVar": 40
   },
   "kernels_config": {
    "python": {
     "delete_cmd_postfix": "",
     "delete_cmd_prefix": "del ",
     "library": "var_list.py",
     "varRefreshCmd": "print(var_dic_list())"
    },
    "r": {
     "delete_cmd_postfix": ") ",
     "delete_cmd_prefix": "rm(",
     "library": "var_list.r",
     "varRefreshCmd": "cat(var_dic_list()) "
    }
   },
   "types_to_exclude": [
    "module",
    "function",
    "builtin_function_or_method",
    "instance",
    "_Feature"
   ],
   "window_display": false
  }
 },
 "nbformat": 4,
 "nbformat_minor": 2
}
