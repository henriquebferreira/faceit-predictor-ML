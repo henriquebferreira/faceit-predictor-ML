{
 "cells": [
  {
   "cell_type": "markdown",
   "metadata": {},
   "source": [
    "<div style=\"text-align:center; display:flex; justify-content:center; align-items:center; margin:16px 0px\">\n",
    "    <span style=\"color:#ff5500; font-family:Play; font-size:3em; margin:auto 32px\">Part III<br \\>FACEIT Predictor</span>\n",
    "</div>\n",
    "\n",
    "---"
   ]
  },
  {
   "cell_type": "markdown",
   "metadata": {
    "toc": true
   },
   "source": [
    "<h1>Table of Contents<span class=\"tocSkip\"></span></h1>\n",
    "<div class=\"toc\"><ul class=\"toc-item\"><li><span><a href=\"#Introduction\" data-toc-modified-id=\"Introduction-1\"><span class=\"toc-item-num\">1&nbsp;&nbsp;</span>Introduction</a></span><ul class=\"toc-item\"><li><span><a href=\"#Imports\" data-toc-modified-id=\"Imports-1.1\"><span class=\"toc-item-num\">1.1&nbsp;&nbsp;</span>Imports</a></span></li><li><span><a href=\"#Plot-styling-defaults-(Matplotlib-&amp;-Seaborn)\" data-toc-modified-id=\"Plot-styling-defaults-(Matplotlib-&amp;-Seaborn)-1.2\"><span class=\"toc-item-num\">1.2&nbsp;&nbsp;</span>Plot styling defaults (Matplotlib &amp; Seaborn)</a></span></li><li><span><a href=\"#Load-Data\" data-toc-modified-id=\"Load-Data-1.3\"><span class=\"toc-item-num\">1.3&nbsp;&nbsp;</span>Load Data</a></span></li></ul></li><li><span><a href=\"#Data-Preprocessing\" data-toc-modified-id=\"Data-Preprocessing-2\"><span class=\"toc-item-num\">2&nbsp;&nbsp;</span>Data Preprocessing</a></span><ul class=\"toc-item\"><li><span><a href=\"#Analyze-and-Describe\" data-toc-modified-id=\"Analyze-and-Describe-2.1\"><span class=\"toc-item-num\">2.1&nbsp;&nbsp;</span>Analyze and Describe</a></span></li><li><span><a href=\"#Clean-Data\" data-toc-modified-id=\"Clean-Data-2.2\"><span class=\"toc-item-num\">2.2&nbsp;&nbsp;</span>Clean Data</a></span></li><li><span><a href=\"#Players-Analysis\" data-toc-modified-id=\"Players-Analysis-2.3\"><span class=\"toc-item-num\">2.3&nbsp;&nbsp;</span>Players Analysis</a></span></li><li><span><a href=\"#Feature-Engineering\" data-toc-modified-id=\"Feature-Engineering-2.4\"><span class=\"toc-item-num\">2.4&nbsp;&nbsp;</span>Feature Engineering</a></span><ul class=\"toc-item\"><li><span><a href=\"#New-Experimental-Features\" data-toc-modified-id=\"New-Experimental-Features-2.4.1\"><span class=\"toc-item-num\">2.4.1&nbsp;&nbsp;</span>New Experimental Features</a></span></li></ul></li><li><span><a href=\"#Visualization\" data-toc-modified-id=\"Visualization-2.5\"><span class=\"toc-item-num\">2.5&nbsp;&nbsp;</span>Visualization</a></span></li><li><span><a href=\"#Prepare-data-for-training\" data-toc-modified-id=\"Prepare-data-for-training-2.6\"><span class=\"toc-item-num\">2.6&nbsp;&nbsp;</span>Prepare data for training</a></span></li></ul></li><li><span><a href=\"#Baseline\" data-toc-modified-id=\"Baseline-3\"><span class=\"toc-item-num\">3&nbsp;&nbsp;</span>Baseline</a></span><ul class=\"toc-item\"><li><span><a href=\"#Model\" data-toc-modified-id=\"Model-3.1\"><span class=\"toc-item-num\">3.1&nbsp;&nbsp;</span>Model</a></span></li><li><span><a href=\"#Evaluation\" data-toc-modified-id=\"Evaluation-3.2\"><span class=\"toc-item-num\">3.2&nbsp;&nbsp;</span>Evaluation</a></span></li></ul></li><li><span><a href=\"#Model-and-Feature-Selection\" data-toc-modified-id=\"Model-and-Feature-Selection-4\"><span class=\"toc-item-num\">4&nbsp;&nbsp;</span>Model and Feature Selection</a></span><ul class=\"toc-item\"><li><span><a href=\"#Neural-Networks\" data-toc-modified-id=\"Neural-Networks-4.1\"><span class=\"toc-item-num\">4.1&nbsp;&nbsp;</span>Neural Networks</a></span></li><li><span><a href=\"#H2O-Auto-ML\" data-toc-modified-id=\"H2O-Auto-ML-4.2\"><span class=\"toc-item-num\">4.2&nbsp;&nbsp;</span>H2O Auto ML</a></span></li><li><span><a href=\"#Traditional-Classifiers\" data-toc-modified-id=\"Traditional-Classifiers-4.3\"><span class=\"toc-item-num\">4.3&nbsp;&nbsp;</span>Traditional Classifiers</a></span></li></ul></li><li><span><a href=\"#Model-Deployment\" data-toc-modified-id=\"Model-Deployment-5\"><span class=\"toc-item-num\">5&nbsp;&nbsp;</span>Model Deployment</a></span><ul class=\"toc-item\"><li><span><a href=\"#Save-Model\" data-toc-modified-id=\"Save-Model-5.1\"><span class=\"toc-item-num\">5.1&nbsp;&nbsp;</span>Save Model</a></span></li></ul></li></ul></div>"
   ]
  },
  {
   "cell_type": "markdown",
   "metadata": {},
   "source": [
    "---\n",
    "\n",
    "# Introduction\n",
    "\n",
    "This notebook covers the development of the Machine Learning model to be used in the browser extension FACEIT Predictor. The model predicts the outcome of Counter Strike Global Offensive (a 5v5 First Person Shooter eSport) matches played on the FACEIT platform.\n",
    "\n",
    "TODO: WRITE THIS SECTION State the purpose of the notebook here and how it is structured"
   ]
  },
  {
   "cell_type": "markdown",
   "metadata": {},
   "source": [
    "## Imports"
   ]
  },
  {
   "cell_type": "code",
   "execution_count": 26,
   "metadata": {
    "ExecuteTime": {
     "end_time": "2020-03-27T16:38:52.812656Z",
     "start_time": "2020-03-27T16:38:46.883639Z"
    }
   },
   "outputs": [],
   "source": [
    "# Data manipulation\n",
    "import pandas as pd\n",
    "import numpy as np\n",
    "from glob import glob\n",
    "\n",
    "# Options for pandas\n",
    "pd.options.display.max_columns = 50\n",
    "pd.options.display.max_rows = 30\n",
    "\n",
    "# Utils for feature creation\n",
    "from datetime import datetime\n",
    "import math\n",
    "import scipy\n",
    "from statistics import mean\n",
    "from sklearn.preprocessing import StandardScaler\n",
    "\n",
    "# Feature selection\n",
    "from sklearn.feature_selection import RFE, RFECV\n",
    "\n",
    "# Outlier Detection\n",
    "from sklearn.neighbors import LocalOutlierFactor\n",
    "\n",
    "# Scalers\n",
    "from sklearn.preprocessing import StandardScaler\n",
    "\n",
    "# Classifiers\n",
    "from sklearn.discriminant_analysis import (\n",
    "    LinearDiscriminantAnalysis,\n",
    "    QuadraticDiscriminantAnalysis,\n",
    ")\n",
    "from sklearn.ensemble import (\n",
    "    AdaBoostClassifier,\n",
    "    BaggingClassifier,\n",
    "    ExtraTreesClassifier,\n",
    "    GradientBoostingClassifier,\n",
    "    RandomForestClassifier,\n",
    ")\n",
    "from sklearn.linear_model import RidgeClassifier, SGDClassifier, LogisticRegression\n",
    "from sklearn.naive_bayes import BernoulliNB, GaussianNB\n",
    "from sklearn.neighbors import KNeighborsClassifier\n",
    "from sklearn.neural_network import MLPClassifier\n",
    "from sklearn.svm import LinearSVC, NuSVC, SVC\n",
    "from sklearn.tree import DecisionTreeClassifier, ExtraTreeClassifier\n",
    "\n",
    "from xgboost import XGBClassifier\n",
    "from sklearn.ensemble import StackingClassifier\n",
    "\n",
    "# Neural network libraries\n",
    "import keras\n",
    "from keras.models import Sequential\n",
    "from keras.layers import Dense\n",
    "from keras.layers import Dropout\n",
    "\n",
    "# Model selection and hyperparameter tuning\n",
    "from sklearn.model_selection import train_test_split, GridSearchCV\n",
    "from sklearn.pipeline import Pipeline\n",
    "\n",
    "# h2o Auto machine learning\n",
    "#import h2o\n",
    "#from h2o.automl import H2OAutoML\n",
    "#from h2o.estimators.xgboost import H2OXGBoostEstimator\n",
    "\n",
    "# Classifier metrics\n",
    "from sklearn.metrics import classification_report, accuracy_score, roc_curve, auc\n",
    "from sklearn.metrics import plot_roc_curve, roc_auc_score\n",
    "from sklearn.inspection import permutation_importance\n",
    "\n",
    "# Visualizations\n",
    "import seaborn as sns\n",
    "import matplotlib.pyplot as plt\n",
    "\n",
    "# Save the ML model\n",
    "import joblib\n",
    "\n",
    "# Display all cell outputs\n",
    "from IPython.core.interactiveshell import InteractiveShell\n",
    "\n",
    "InteractiveShell.ast_node_interactivity = \"all\"\n",
    "\n",
    "#from IPython import get_ipython\n",
    "\n",
    "#ipython = get_ipython()\n",
    "\n",
    "# Developed python modules\n",
    "import load_faceit_data as loader\n",
    "import add_features\n",
    "\n",
    "# Import other jupyter notebooks\n",
    "# import import_ipynb\n",
    "# import MongoDBAtlas\n",
    "\n",
    "# autoreload extension\n",
    "#if \"autoreload\" not in ipython.extension_manager.loaded:\n",
    "#    %load_ext autoreload\n",
    "\n",
    "#%autoreload 2\n",
    "#%autosave 0\n",
    "#%load_ext nb_black"
   ]
  },
  {
   "cell_type": "markdown",
   "metadata": {},
   "source": [
    "## Load Data\n",
    "Currently, the data is loaded from several pre-processed pkl files."
   ]
  },
  {
   "cell_type": "code",
   "execution_count": 4,
   "metadata": {},
   "outputs": [],
   "source": [
    "featurized_data_path = 'data/dataset_featurized/' # use your path\n",
    "all_files = glob(featurized_data_path + \"*.pkl\")\n",
    "chunked_dataframes = [pd.read_pickle(filename) for filename in all_files]\n",
    "dataset_featurized = pd.concat(chunked_dataframes, ignore_index=True)"
   ]
  },
  {
   "cell_type": "code",
   "execution_count": 48,
   "metadata": {},
   "outputs": [
    {
     "data": {
      "text/html": [
       "<div>\n",
       "<style scoped>\n",
       "    .dataframe tbody tr th:only-of-type {\n",
       "        vertical-align: middle;\n",
       "    }\n",
       "\n",
       "    .dataframe tbody tr th {\n",
       "        vertical-align: top;\n",
       "    }\n",
       "\n",
       "    .dataframe thead th {\n",
       "        text-align: right;\n",
       "    }\n",
       "</style>\n",
       "<table border=\"1\" class=\"dataframe\">\n",
       "  <thead>\n",
       "    <tr style=\"text-align: right;\">\n",
       "      <th></th>\n",
       "      <th>dif_mean_elo</th>\n",
       "      <th>dif_stddev_elo</th>\n",
       "      <th>dif_num_paid_memberships</th>\n",
       "      <th>dif_num_solo_players</th>\n",
       "      <th>dif_num_parties</th>\n",
       "      <th>dif_mean_matches</th>\n",
       "      <th>dif_mean_winrate</th>\n",
       "      <th>dif_mean_kd</th>\n",
       "      <th>dif_mean_multikills_score</th>\n",
       "      <th>dif_mean_rating</th>\n",
       "      <th>dif_mean_matches_on_map</th>\n",
       "      <th>dif_mean_winrate_on_map</th>\n",
       "      <th>dif_mean_kd_on_map</th>\n",
       "      <th>dif_mean_multikills_score_on_map</th>\n",
       "      <th>dif_mean_rating_on_map</th>\n",
       "      <th>dif_mean_matches_map_preference</th>\n",
       "      <th>dif_mean_winrate_map_preference</th>\n",
       "      <th>dif_mean_kd_map_preference</th>\n",
       "      <th>dif_mean_multikills_score_map_preference</th>\n",
       "      <th>dif_mean_rating_map_preference</th>\n",
       "      <th>dif_mean_created_at_faceit</th>\n",
       "      <th>dif_stddev_created_at_faceit</th>\n",
       "      <th>dif_min_created_at_faceit</th>\n",
       "      <th>dif_mean_matches_on_map_prev</th>\n",
       "      <th>dif_mean_winrate_prev</th>\n",
       "      <th>dif_mean_kd_prev</th>\n",
       "      <th>dif_mean_weighted_kd_by_elo_prev</th>\n",
       "      <th>dif_multikills_score_prev</th>\n",
       "      <th>dif_mean_rating_prev</th>\n",
       "      <th>dif_mean_interval_time_prev</th>\n",
       "      <th>dif_mean_interval_time_oldest_prev</th>\n",
       "      <th>dif_mean_interval_time_most_recent_prev</th>\n",
       "      <th>dif_max_interval_time_most_recent_prev</th>\n",
       "      <th>dif_mean_delta_elo_prev</th>\n",
       "      <th>dif_mean_dif_rounds_prev</th>\n",
       "      <th>dif_mean_dif_elo_prev</th>\n",
       "      <th>dif_mean_matches_afk</th>\n",
       "      <th>dif_num_played_togthr_prev</th>\n",
       "      <th>dif_winrate_togthr_prev</th>\n",
       "      <th>dif_mean_first_matches_on_day</th>\n",
       "      <th>dif_mean_matches_on_day</th>\n",
       "      <th>dif_mean_played_map_on_day</th>\n",
       "    </tr>\n",
       "    <tr>\n",
       "      <th>winner</th>\n",
       "      <th></th>\n",
       "      <th></th>\n",
       "      <th></th>\n",
       "      <th></th>\n",
       "      <th></th>\n",
       "      <th></th>\n",
       "      <th></th>\n",
       "      <th></th>\n",
       "      <th></th>\n",
       "      <th></th>\n",
       "      <th></th>\n",
       "      <th></th>\n",
       "      <th></th>\n",
       "      <th></th>\n",
       "      <th></th>\n",
       "      <th></th>\n",
       "      <th></th>\n",
       "      <th></th>\n",
       "      <th></th>\n",
       "      <th></th>\n",
       "      <th></th>\n",
       "      <th></th>\n",
       "      <th></th>\n",
       "      <th></th>\n",
       "      <th></th>\n",
       "      <th></th>\n",
       "      <th></th>\n",
       "      <th></th>\n",
       "      <th></th>\n",
       "      <th></th>\n",
       "      <th></th>\n",
       "      <th></th>\n",
       "      <th></th>\n",
       "      <th></th>\n",
       "      <th></th>\n",
       "      <th></th>\n",
       "      <th></th>\n",
       "      <th></th>\n",
       "      <th></th>\n",
       "      <th></th>\n",
       "      <th></th>\n",
       "      <th></th>\n",
       "    </tr>\n",
       "  </thead>\n",
       "  <tbody>\n",
       "    <tr>\n",
       "      <th>0</th>\n",
       "      <td>29.318456</td>\n",
       "      <td>23.805383</td>\n",
       "      <td>0.039522</td>\n",
       "      <td>-0.150899</td>\n",
       "      <td>-0.087993</td>\n",
       "      <td>45.417812</td>\n",
       "      <td>0.005058</td>\n",
       "      <td>0.009570</td>\n",
       "      <td>0.009224</td>\n",
       "      <td>0.008212</td>\n",
       "      <td>18.181951</td>\n",
       "      <td>0.011391</td>\n",
       "      <td>0.015406</td>\n",
       "      <td>0.013169</td>\n",
       "      <td>0.013013</td>\n",
       "      <td>0.007964</td>\n",
       "      <td>0.011956</td>\n",
       "      <td>0.005485</td>\n",
       "      <td>0.006697</td>\n",
       "      <td>0.004644</td>\n",
       "      <td>2.358141e+05</td>\n",
       "      <td>179956.951362</td>\n",
       "      <td>-6.701256e+04</td>\n",
       "      <td>0.114767</td>\n",
       "      <td>0.009424</td>\n",
       "      <td>0.025071</td>\n",
       "      <td>96.269672</td>\n",
       "      <td>0.019313</td>\n",
       "      <td>0.018580</td>\n",
       "      <td>-3734.877840</td>\n",
       "      <td>-5819.397754</td>\n",
       "      <td>-1167.329380</td>\n",
       "      <td>-3343.249747</td>\n",
       "      <td>-0.253219</td>\n",
       "      <td>0.005171</td>\n",
       "      <td>9.856297</td>\n",
       "      <td>0.0</td>\n",
       "      <td>0.011265</td>\n",
       "      <td>0.031144</td>\n",
       "      <td>-0.029244</td>\n",
       "      <td>0.024123</td>\n",
       "      <td>0.021623</td>\n",
       "    </tr>\n",
       "    <tr>\n",
       "      <th>1</th>\n",
       "      <td>-28.363697</td>\n",
       "      <td>-19.470382</td>\n",
       "      <td>-0.032528</td>\n",
       "      <td>-0.053795</td>\n",
       "      <td>0.008956</td>\n",
       "      <td>-47.526402</td>\n",
       "      <td>-0.004716</td>\n",
       "      <td>-0.008672</td>\n",
       "      <td>-0.007488</td>\n",
       "      <td>-0.007064</td>\n",
       "      <td>-11.477537</td>\n",
       "      <td>-0.006920</td>\n",
       "      <td>-0.010730</td>\n",
       "      <td>-0.009269</td>\n",
       "      <td>-0.008985</td>\n",
       "      <td>-0.002287</td>\n",
       "      <td>-0.004130</td>\n",
       "      <td>-0.001933</td>\n",
       "      <td>-0.003343</td>\n",
       "      <td>-0.002164</td>\n",
       "      <td>-1.230710e+06</td>\n",
       "      <td>101841.332664</td>\n",
       "      <td>-1.222496e+06</td>\n",
       "      <td>-0.041776</td>\n",
       "      <td>-0.009903</td>\n",
       "      <td>-0.024249</td>\n",
       "      <td>-91.854311</td>\n",
       "      <td>-0.016503</td>\n",
       "      <td>-0.016964</td>\n",
       "      <td>2939.773153</td>\n",
       "      <td>3647.065167</td>\n",
       "      <td>1260.388657</td>\n",
       "      <td>3897.558667</td>\n",
       "      <td>0.276650</td>\n",
       "      <td>-0.000318</td>\n",
       "      <td>-9.801284</td>\n",
       "      <td>0.0</td>\n",
       "      <td>0.004733</td>\n",
       "      <td>-0.029844</td>\n",
       "      <td>0.028094</td>\n",
       "      <td>-0.008880</td>\n",
       "      <td>-0.017521</td>\n",
       "    </tr>\n",
       "  </tbody>\n",
       "</table>\n",
       "</div>"
      ],
      "text/plain": [
       "        dif_mean_elo  dif_stddev_elo  dif_num_paid_memberships  \\\n",
       "winner                                                           \n",
       "0          29.318456       23.805383                  0.039522   \n",
       "1         -28.363697      -19.470382                 -0.032528   \n",
       "\n",
       "        dif_num_solo_players  dif_num_parties  dif_mean_matches  \\\n",
       "winner                                                            \n",
       "0                  -0.150899        -0.087993         45.417812   \n",
       "1                  -0.053795         0.008956        -47.526402   \n",
       "\n",
       "        dif_mean_winrate  dif_mean_kd  dif_mean_multikills_score  \\\n",
       "winner                                                             \n",
       "0               0.005058     0.009570                   0.009224   \n",
       "1              -0.004716    -0.008672                  -0.007488   \n",
       "\n",
       "        dif_mean_rating  dif_mean_matches_on_map  dif_mean_winrate_on_map  \\\n",
       "winner                                                                      \n",
       "0              0.008212                18.181951                 0.011391   \n",
       "1             -0.007064               -11.477537                -0.006920   \n",
       "\n",
       "        dif_mean_kd_on_map  dif_mean_multikills_score_on_map  \\\n",
       "winner                                                         \n",
       "0                 0.015406                          0.013169   \n",
       "1                -0.010730                         -0.009269   \n",
       "\n",
       "        dif_mean_rating_on_map  dif_mean_matches_map_preference  \\\n",
       "winner                                                            \n",
       "0                     0.013013                         0.007964   \n",
       "1                    -0.008985                        -0.002287   \n",
       "\n",
       "        dif_mean_winrate_map_preference  dif_mean_kd_map_preference  \\\n",
       "winner                                                                \n",
       "0                              0.011956                    0.005485   \n",
       "1                             -0.004130                   -0.001933   \n",
       "\n",
       "        dif_mean_multikills_score_map_preference  \\\n",
       "winner                                             \n",
       "0                                       0.006697   \n",
       "1                                      -0.003343   \n",
       "\n",
       "        dif_mean_rating_map_preference  dif_mean_created_at_faceit  \\\n",
       "winner                                                               \n",
       "0                             0.004644                2.358141e+05   \n",
       "1                            -0.002164               -1.230710e+06   \n",
       "\n",
       "        dif_stddev_created_at_faceit  dif_min_created_at_faceit  \\\n",
       "winner                                                            \n",
       "0                      179956.951362              -6.701256e+04   \n",
       "1                      101841.332664              -1.222496e+06   \n",
       "\n",
       "        dif_mean_matches_on_map_prev  dif_mean_winrate_prev  dif_mean_kd_prev  \\\n",
       "winner                                                                          \n",
       "0                           0.114767               0.009424          0.025071   \n",
       "1                          -0.041776              -0.009903         -0.024249   \n",
       "\n",
       "        dif_mean_weighted_kd_by_elo_prev  dif_multikills_score_prev  \\\n",
       "winner                                                                \n",
       "0                              96.269672                   0.019313   \n",
       "1                             -91.854311                  -0.016503   \n",
       "\n",
       "        dif_mean_rating_prev  dif_mean_interval_time_prev  \\\n",
       "winner                                                      \n",
       "0                   0.018580                 -3734.877840   \n",
       "1                  -0.016964                  2939.773153   \n",
       "\n",
       "        dif_mean_interval_time_oldest_prev  \\\n",
       "winner                                       \n",
       "0                             -5819.397754   \n",
       "1                              3647.065167   \n",
       "\n",
       "        dif_mean_interval_time_most_recent_prev  \\\n",
       "winner                                            \n",
       "0                                  -1167.329380   \n",
       "1                                   1260.388657   \n",
       "\n",
       "        dif_max_interval_time_most_recent_prev  dif_mean_delta_elo_prev  \\\n",
       "winner                                                                    \n",
       "0                                 -3343.249747                -0.253219   \n",
       "1                                  3897.558667                 0.276650   \n",
       "\n",
       "        dif_mean_dif_rounds_prev  dif_mean_dif_elo_prev  dif_mean_matches_afk  \\\n",
       "winner                                                                          \n",
       "0                       0.005171               9.856297                   0.0   \n",
       "1                      -0.000318              -9.801284                   0.0   \n",
       "\n",
       "        dif_num_played_togthr_prev  dif_winrate_togthr_prev  \\\n",
       "winner                                                        \n",
       "0                         0.011265                 0.031144   \n",
       "1                         0.004733                -0.029844   \n",
       "\n",
       "        dif_mean_first_matches_on_day  dif_mean_matches_on_day  \\\n",
       "winner                                                           \n",
       "0                           -0.029244                 0.024123   \n",
       "1                            0.028094                -0.008880   \n",
       "\n",
       "        dif_mean_played_map_on_day  \n",
       "winner                              \n",
       "0                         0.021623  \n",
       "1                        -0.017521  "
      ]
     },
     "execution_count": 48,
     "metadata": {},
     "output_type": "execute_result"
    }
   ],
   "source": [
    "dataset_featurized.groupby(by=\"winner\").mean()"
   ]
  },
  {
   "cell_type": "code",
   "execution_count": null,
   "metadata": {},
   "outputs": [],
   "source": [
    "featurized_data_path = 'data/featurized/' # use your path\n",
    "all_files = glob(featurized_data_path + \"*.json\")\n",
    "\n",
    "chunked_dataframes = [pd.read_json(filename) for filename in all_files]\n",
    "dataset = pd.concat(chunked_dataframes, ignore_index=True)"
   ]
  },
  {
   "cell_type": "markdown",
   "metadata": {},
   "source": [
    "---\n",
    "\n",
    "# Data Preprocessing"
   ]
  },
  {
   "cell_type": "markdown",
   "metadata": {},
   "source": [
    "## Analyze and Describe\n",
    "TODO: Add more functions to pre-analyze the data"
   ]
  },
  {
   "cell_type": "code",
   "execution_count": null,
   "metadata": {},
   "outputs": [],
   "source": [
    "print(dataset.shape)\n",
    "dataset.head()"
   ]
  },
  {
   "cell_type": "code",
   "execution_count": null,
   "metadata": {},
   "outputs": [],
   "source": [
    "# Change object types (to strings, categorical or numeric)"
   ]
  },
  {
   "cell_type": "code",
   "execution_count": null,
   "metadata": {},
   "outputs": [],
   "source": [
    "dataset.describe(exclude=[np.object])"
   ]
  },
  {
   "cell_type": "code",
   "execution_count": null,
   "metadata": {
    "ExecuteTime": {
     "end_time": "2020-02-12T16:05:18.366478Z",
     "start_time": "2020-02-12T16:05:17.173365Z"
    }
   },
   "outputs": [],
   "source": [
    "# Sample 10% of the whole dataset\n",
    "dataset = dataset.sample(frac=0.1)"
   ]
  },
  {
   "cell_type": "code",
   "execution_count": null,
   "metadata": {
    "ExecuteTime": {
     "end_time": "2020-02-12T15:33:53.419581Z",
     "start_time": "2020-02-12T15:33:53.199154Z"
    }
   },
   "outputs": [],
   "source": [
    "dataset.shape"
   ]
  },
  {
   "cell_type": "markdown",
   "metadata": {},
   "source": [
    "## Clean Data"
   ]
  },
  {
   "cell_type": "code",
   "execution_count": null,
   "metadata": {
    "ExecuteTime": {
     "end_time": "2020-02-12T18:09:38.047678Z",
     "start_time": "2020-02-12T18:09:37.830359Z"
    }
   },
   "outputs": [],
   "source": [
    "faceit_maps = [\n",
    "    \"de_train\",\n",
    "    \"de_inferno\",\n",
    "    \"de_mirage\",\n",
    "    \"de_vertigo\",\n",
    "    \"de_nuke\",\n",
    "    \"de_overpass\",\n",
    "    \"de_cache\",\n",
    "    \"de_dust2\"]\n",
    "    \n",
    "date_format = \"%Y-%m-%dT%H:%M:%SZ\""
   ]
  },
  {
   "cell_type": "code",
   "execution_count": null,
   "metadata": {
    "ExecuteTime": {
     "end_time": "2020-02-12T18:09:38.265867Z",
     "start_time": "2020-02-12T18:09:38.049613Z"
    }
   },
   "outputs": [],
   "source": [
    "def clean_dataframe(data):\n",
    "    print(\"Dataframe's shape before cleaning\", data.shape)\n",
    "\n",
    "    data.drop(\n",
    "        columns=[\"_id\", \"_id__stitch_transaction\", \"state\", \"match_status\"],\n",
    "        inplace=True)\n",
    "        \n",
    "    data = data[data[\"score\"].notnull()]\n",
    "    data = data[data[\"mapPlayed\"].isin(faceit_maps)]\n",
    "\n",
    "    # Removal of duplicate matches\n",
    "    data.drop_duplicates(subset=[\"match_id\"], keep=\"first\", inplace=True)\n",
    "\n",
    "    # Removal of non 5v5 matches\n",
    "    data.loc[:, \"num_players\"] = data.apply(\n",
    "        lambda row: get_num_players(row), axis=1\n",
    "    ).values\n",
    "    data = data[data[\"num_players\"] == 10]\n",
    "\n",
    "    print(\"Dataframe's shape after cleaning\", data.shape)\n",
    "    return data\n",
    "\n",
    "\n",
    "def get_num_players(row):\n",
    "    return len(row[\"teamA\"]) + len(row[\"teamB\"])"
   ]
  },
  {
   "cell_type": "code",
   "execution_count": null,
   "metadata": {
    "ExecuteTime": {
     "end_time": "2020-02-12T18:09:39.229812Z",
     "start_time": "2020-02-12T18:09:38.266855Z"
    }
   },
   "outputs": [],
   "source": [
    "dataset = clean_dataframe(dataset)"
   ]
  },
  {
   "cell_type": "markdown",
   "metadata": {},
   "source": [
    "## Players Analysis"
   ]
  },
  {
   "cell_type": "code",
   "execution_count": null,
   "metadata": {
    "ExecuteTime": {
     "end_time": "2020-02-12T18:10:03.621909Z",
     "start_time": "2020-02-12T18:09:43.718847Z"
    }
   },
   "outputs": [],
   "source": [
    "def get_all_players_elos(data):\n",
    "    all_players = []\n",
    "    for _, row in data.iterrows():\n",
    "        for player_id, player_info in row[\"teamA\"].items():\n",
    "            all_players.append(player_info[\"elo\"])\n",
    "        for player_id, player_info in row[\"teamB\"].items():\n",
    "            all_players.append(player_info[\"elo\"])\n",
    "    return all_players\n",
    "\n",
    "\n",
    "def get_player_elo_kde(data):\n",
    "    player_elos = get_all_players_elos(data)\n",
    "    player_elos = np.array(player_elos)\n",
    "    player_elos_series = pd.Series(player_elos)\n",
    "    kde = player_elos_series.plot.kde(ind=1000)\n",
    "    xdata, ydata = kde.get_lines()[0].get_data()\n",
    "    return scipy.integrate.cumtrapz(ydata, xdata, dx=1, initial=0), xdata\n",
    "\n",
    "\n",
    "def get_elo_dif_prob(lower_bound, upper_bound, cdf, bins):\n",
    "    lower_bin = (np.abs(bins - lower_bound)).argmin()\n",
    "    upper_bin = (np.abs(bins - upper_bound)).argmin()\n",
    "    return cdf[upper_bin] - cdf[lower_bin]\n",
    "\n",
    "\n",
    "players_elo_distribution, elo_bins = get_player_elo_kde(dataset)"
   ]
  },
  {
   "cell_type": "code",
   "execution_count": null,
   "metadata": {
    "ExecuteTime": {
     "end_time": "2020-02-12T18:10:05.336910Z",
     "start_time": "2020-02-12T18:10:05.101082Z"
    }
   },
   "outputs": [],
   "source": [
    "def get_all_players_info(data):\n",
    "    players_id = []\n",
    "    elos = []\n",
    "    matches = []\n",
    "    winrates = []\n",
    "    kds = []\n",
    "    hs_percents = []\n",
    "    # add createdAt (accounts created a long time ago with few matches might be smurfs)\n",
    "    for _, row in data.iterrows():\n",
    "        for player_id, player_info in row[\"teamA\"].items():\n",
    "            if player_info[\"lifetimeData\"] == None:\n",
    "                players_id.append(0)\n",
    "                elos.append(0)\n",
    "                matches.append(0)\n",
    "                winrates.append(0)\n",
    "                kds.append(0)\n",
    "                hs_percents.append(0)\n",
    "                continue\n",
    "            players_id.append(player_info[\"id\"])\n",
    "            elos.append(player_info[\"elo\"])\n",
    "            matches.append(int(player_info[\"lifetimeData\"][\"matches\"]))\n",
    "            winrates.append(int(player_info[\"lifetimeData\"][\"winRate\"]))\n",
    "            kds.append(float(player_info[\"lifetimeData\"][\"averageKD\"]))\n",
    "            hs_percents.append(int(player_info[\"lifetimeData\"][\"averageHS\"]))\n",
    "\n",
    "        for player_id, player_info in row[\"teamB\"].items():\n",
    "            if player_info[\"lifetimeData\"] == None:\n",
    "                players_id.append(0)\n",
    "                elos.append(0)\n",
    "                matches.append(0)\n",
    "                winrates.append(0)\n",
    "                kds.append(0)\n",
    "                hs_percents.append(0)\n",
    "                continue\n",
    "            players_id.append(player_info[\"id\"])\n",
    "            elos.append(player_info[\"elo\"])\n",
    "            matches.append(int(player_info[\"lifetimeData\"][\"matches\"]))\n",
    "            winrates.append(int(player_info[\"lifetimeData\"][\"winRate\"]))\n",
    "            kds.append(float(player_info[\"lifetimeData\"][\"averageKD\"]))\n",
    "            hs_percents.append(int(player_info[\"lifetimeData\"][\"averageHS\"]))\n",
    "\n",
    "    return (\n",
    "        np.array(players_id),\n",
    "        np.array(elos),\n",
    "        np.array(matches),\n",
    "        np.array(winrates),\n",
    "        np.array(kds),\n",
    "        np.array(hs_percents),\n",
    "    )"
   ]
  },
  {
   "cell_type": "code",
   "execution_count": null,
   "metadata": {
    "ExecuteTime": {
     "end_time": "2020-02-12T18:10:18.452918Z",
     "start_time": "2020-02-12T18:10:06.786040Z"
    }
   },
   "outputs": [],
   "source": [
    "players_id, elos, matches, winrates, kds, hs_percents = get_all_players_info(dataset)\n",
    "array = [[elos[i], matches[i], winrates[i], kds[i]] for i in range(len(elos))]\n",
    "X = np.array(array)"
   ]
  },
  {
   "cell_type": "code",
   "execution_count": null,
   "metadata": {
    "ExecuteTime": {
     "end_time": "2020-02-12T18:10:24.240740Z",
     "start_time": "2020-02-12T18:10:21.354169Z"
    }
   },
   "outputs": [],
   "source": [
    "mean_winrate = mean(winrates)\n",
    "mean_kd = mean(kds)"
   ]
  },
  {
   "cell_type": "code",
   "execution_count": null,
   "metadata": {
    "ExecuteTime": {
     "end_time": "2020-02-12T18:10:28.403155Z",
     "start_time": "2020-02-12T18:10:26.185026Z"
    }
   },
   "outputs": [],
   "source": [
    "lof = LocalOutlierFactor(contamination=0.05)\n",
    "lof.fit(X)"
   ]
  },
  {
   "cell_type": "code",
   "execution_count": null,
   "metadata": {
    "ExecuteTime": {
     "end_time": "2020-02-12T18:10:30.516452Z",
     "start_time": "2020-02-12T18:10:30.299750Z"
    }
   },
   "outputs": [],
   "source": [
    "def smurf_or_cheater_prob(outlier_model):\n",
    "    # Check if user is verified (then, it is probably a pro)\n",
    "    transformed_outlier_factor = []\n",
    "    for i in range(len(outlier_model.negative_outlier_factor_)):\n",
    "        if (\n",
    "            (outlier_model.negative_outlier_factor_[i] < -1)\n",
    "            and (winrates[i] > mean_winrate)\n",
    "            and (kds[i] > mean_kd)\n",
    "        ):\n",
    "            transformed_outlier_factor.append(\n",
    "                math.log(-outlier_model.negative_outlier_factor_[i]) * 100\n",
    "            )\n",
    "        else:\n",
    "            transformed_outlier_factor.append(0)\n",
    "        arr = np.array(transformed_outlier_factor)\n",
    "\n",
    "    team_A = arr.reshape(-1, 5)[::2, :]\n",
    "    team_B = arr.reshape(-1, 5)[1::2, :]\n",
    "\n",
    "    dataset[\"smurf_or_cheater_A\"] = np.mean(team_A, axis=1)\n",
    "    dataset[\"smurf_or_cheater_B\"] = np.mean(team_B, axis=1)\n",
    "    dataset[\"dif_smurf_or_cheater\"] = (\n",
    "        dataset[\"smurf_or_cheater_A\"] - dataset[\"smurf_or_cheater_B\"]\n",
    "    )"
   ]
  },
  {
   "cell_type": "code",
   "execution_count": null,
   "metadata": {
    "ExecuteTime": {
     "end_time": "2020-02-12T18:20:26.713917Z",
     "start_time": "2020-02-12T18:10:32.357578Z"
    }
   },
   "outputs": [],
   "source": [
    "smurf_or_cheater_prob(lof)"
   ]
  },
  {
   "cell_type": "markdown",
   "metadata": {},
   "source": [
    "## Feature Engineering"
   ]
  },
  {
   "cell_type": "code",
   "execution_count": null,
   "metadata": {
    "ExecuteTime": {
     "end_time": "2020-02-12T18:20:31.526805Z",
     "start_time": "2020-02-12T18:20:30.097616Z"
    }
   },
   "outputs": [],
   "source": [
    "dataset.loc[:, \"unix_start_time\"] = (\n",
    "    pd.to_datetime(dataset[\"startTime\"], format=date_format)\n",
    "    .values.astype(\"datetime64[s]\")\n",
    "    .astype(\"int\")\n",
    ")\n",
    "dataset.drop(columns=[\"startTime\"], inplace=True)"
   ]
  },
  {
   "cell_type": "code",
   "execution_count": null,
   "metadata": {
    "ExecuteTime": {
     "end_time": "2020-02-12T18:24:28.330363Z",
     "start_time": "2020-02-12T18:20:33.630231Z"
    }
   },
   "outputs": [],
   "source": [
    "add_features.add_all_team_features(dataset)"
   ]
  },
  {
   "cell_type": "code",
   "execution_count": null,
   "metadata": {
    "ExecuteTime": {
     "end_time": "2020-02-12T18:24:34.080297Z",
     "start_time": "2020-02-12T18:24:33.239575Z"
    }
   },
   "outputs": [],
   "source": [
    "dataset.loc[:, \"missing_info\"] = dataset.apply(\n",
    "    lambda row: add_features.get_missing_info(row), axis=1\n",
    ").values"
   ]
  },
  {
   "cell_type": "code",
   "execution_count": null,
   "metadata": {
    "ExecuteTime": {
     "end_time": "2020-02-12T18:24:37.397090Z",
     "start_time": "2020-02-12T18:24:36.513571Z"
    }
   },
   "outputs": [],
   "source": [
    "def dif_elo_prob(row):\n",
    "    return get_elo_dif_prob(\n",
    "        row[\"mean_elo_A\"], row[\"mean_elo_B\"], players_elo_distribution, elo_bins\n",
    "    )\n",
    "\n",
    "\n",
    "dataset.loc[:, \"dif_elo_prob\"] = dataset.apply(\n",
    "    lambda row: dif_elo_prob(row), axis=1\n",
    ").values"
   ]
  },
  {
   "cell_type": "code",
   "execution_count": null,
   "metadata": {
    "ExecuteTime": {
     "end_time": "2020-02-12T18:24:40.219611Z",
     "start_time": "2020-02-12T18:24:39.658794Z"
    }
   },
   "outputs": [],
   "source": [
    "def convert_winner_to_numeric(row):\n",
    "    winner_numeric = 0 if row[\"score\"] == \"faction1\" else 1\n",
    "    return winner_numeric\n",
    "\n",
    "\n",
    "dataset.loc[:, \"winner\"] = dataset.apply(\n",
    "    lambda row: convert_winner_to_numeric(row), axis=1\n",
    ").values"
   ]
  },
  {
   "cell_type": "markdown",
   "metadata": {},
   "source": [
    "### New Experimental Features\n",
    "Creation and test of new features. Once validated the correspondent function should be moved to `add_features.py`."
   ]
  },
  {
   "cell_type": "markdown",
   "metadata": {},
   "source": [
    "## Prepare data for training"
   ]
  },
  {
   "cell_type": "code",
   "execution_count": null,
   "metadata": {
    "ExecuteTime": {
     "end_time": "2020-03-15T20:02:03.523829Z",
     "start_time": "2020-03-15T20:02:03.306413Z"
    }
   },
   "outputs": [],
   "source": [
    "selected_cols = [\n",
    "    \"_id\",\n",
    "    \"winner\",\n",
    "    \"dif_mean_elo\",\n",
    "    \"dif_stddev_elo\",\n",
    "    \"dif_num_paid_memberships\",\n",
    "    \"dif_num_solo_players\",\n",
    "    \"dif_num_parties\",\n",
    "    \"dif_num_new_players\",\n",
    "    \"dif_mean_matches\",\n",
    "    \"dif_mean_matches_on_map\",\n",
    "    \"dif_mean_winrate_on_map\",\n",
    "    \"dif_mean_kd_on_map\",\n",
    "    \"dif_mean_matches_map_preference\",\n",
    "    \"dif_mean_winrate_map_preference\",\n",
    "    \"dif_mean_kd_map_preference\",\n",
    "    \"dif_mean_matches_on_map_prev\",\n",
    "    \"dif_mean_winrate_prev\",\n",
    "    \"dif_multikills_score_prev\",\n",
    "    \"dif_mean_assists_prev\",\n",
    "    \"dif_mean_kd_prev\",\n",
    "    \"dif_mean_rating_prev\",\n",
    "    \"dif_mean_delta_rating_prev\",\n",
    "    \"dif_mean_interval_time_prev\",\n",
    "    \"dif_max_interval_time_prev\",\n",
    "    \"dif_mean_delta_elo_prev\",\n",
    "    \"dif_num_played_togthr_prev\",\n",
    "    \"dif_mean_first_matches_on_day\",\n",
    "    \"dif_mean_matches_on_day\",\n",
    "    \"dif_mean_played_map_on_day\",\n",
    "    \"dif_mean_created_at_faceit\",\n",
    "    \"dif_stddev_created_at_faceit\",\n",
    "    \"dif_min_created_at_faceit\",\n",
    "]\n",
    "\n",
    "data_processed = dataset[selected_cols]\n",
    "data_label = data_processed[\"winner\"]\n",
    "data_features = data_processed.drop(columns=[\"winner\", \"_id\"])"
   ]
  },
  {
   "cell_type": "code",
   "execution_count": null,
   "metadata": {},
   "outputs": [],
   "source": [
    "dataset.columns"
   ]
  },
  {
   "cell_type": "code",
   "execution_count": null,
   "metadata": {
    "ExecuteTime": {
     "end_time": "2020-03-15T20:01:23.593027Z",
     "start_time": "2020-03-15T20:01:23.361086Z"
    }
   },
   "outputs": [],
   "source": [
    "def get_inverse_score(winners):\n",
    "    inverted_winners = [1 if winner == 0 else 0 for winner in winners]\n",
    "    return inverted_winners\n",
    "\n",
    "\n",
    "dataset[\"winner\"] = get_inverse_score(dataset[\"winner\"].values)"
   ]
  },
  {
   "cell_type": "code",
   "execution_count": null,
   "metadata": {
    "ExecuteTime": {
     "end_time": "2020-02-12T18:24:42.596169Z",
     "start_time": "2020-02-12T18:24:42.291316Z"
    }
   },
   "outputs": [],
   "source": [
    "selected_cols = [\n",
    "    \"dif_new_players\",\n",
    "    \"dif_mean_matches\",\n",
    "    \"dif_mean_matches_on_map\",\n",
    "    \"dif_mean_winrate_on_map\",\n",
    "    \"dif_mean_kd_on_map\",\n",
    "    \"dif_mean_matches_preference\",\n",
    "    \"dif_mean_winrate_preference\",\n",
    "    \"dif_mean_kd_preference\",\n",
    "    \"dif_mean_elo\",\n",
    "    \"dif_stddev_elo\",\n",
    "    \"dif_paid_memberships\",\n",
    "    \"dif_solo_players\",\n",
    "    \"dif_num_parties\",\n",
    "    \"dif_mean_matches_on_map_prev\",\n",
    "    \"dif_mean_winrate_prev\",\n",
    "    \"dif_multikills_prev\",\n",
    "    \"dif_mean_assists_prev\",\n",
    "    \"dif_mean_kd_prev\",\n",
    "    \"dif_mean_time_prev\",\n",
    "    \"dif_delta_mean_elo_prev\",\n",
    "    \"dif_smurf_or_cheater\",\n",
    "    \"dif_max_time_prev\",\n",
    "    \"dif_elo_prob\",\n",
    "    \"dif_first_match\",\n",
    "    \"dif_mean_time_created_at\",\n",
    "    \"dif_stddev_time_created_at\",\n",
    "    \"dif_min_time_created_at\",\n",
    "    \"dif_mean_matches_today\",\n",
    "    \"dif_played_map_today\",\n",
    "    \"dif_have_played_together_prev\",\n",
    "    \"winner\",\n",
    "]\n",
    "\n",
    "data_processed = dataset[selected_cols]\n",
    "data_label = data_processed[\"winner\"]\n",
    "data_features = data_processed.drop(columns=[\"winner\"])"
   ]
  },
  {
   "cell_type": "code",
   "execution_count": null,
   "metadata": {
    "ExecuteTime": {
     "end_time": "2020-02-12T18:37:16.237358Z",
     "start_time": "2020-02-12T18:37:14.459298Z"
    }
   },
   "outputs": [],
   "source": [
    "data_processed.to_csv(\"big_data_processed.csv\")"
   ]
  },
  {
   "cell_type": "markdown",
   "metadata": {},
   "source": [
    "---\n",
    "\n",
    "# Baseline\n",
    "Show graphs and stats here"
   ]
  },
  {
   "cell_type": "code",
   "execution_count": null,
   "metadata": {
    "ExecuteTime": {
     "end_time": "2020-03-27T16:47:02.811494Z",
     "start_time": "2020-03-27T16:47:02.571837Z"
    }
   },
   "outputs": [],
   "source": [
    "selected_cols = [\n",
    "    \"_id\",\n",
    "    \"winner\",\n",
    "    \"dif_mean_elo\",\n",
    "    \"dif_stddev_elo\",\n",
    "    \"dif_num_paid_memberships\",\n",
    "    \"dif_num_solo_players\",\n",
    "    \"dif_num_parties\",\n",
    "    \"dif_mean_matches\",\n",
    "    \"dif_mean_winrate\",\n",
    "    \"dif_mean_kd\",\n",
    "    \"dif_mean_multikills_score\",\n",
    "    \"dif_mean_rating\",\n",
    "    \"dif_mean_matches_on_map\",\n",
    "    \"dif_mean_winrate_on_map\",\n",
    "    \"dif_mean_kd_on_map\",\n",
    "    \"dif_mean_multikills_on_map\",\n",
    "    \"dif_mean_rating_on_map\",\n",
    "    \"dif_mean_matches_map_preference\",\n",
    "    \"dif_mean_winrate_map_preference\",\n",
    "    \"dif_mean_kd_map_preference\",\n",
    "    \"dif_mean_multikills_map_preference\",\n",
    "    \"dif_mean_rating_map_preference\",\n",
    "    \"dif_mean_matches_on_map_prev\",\n",
    "    \"dif_mean_winrate_prev\",\n",
    "    \"dif_mean_kd_prev\",\n",
    "    \"dif_mean_weighted_kd_by_elo_prev\",\n",
    "    \"dif_multikills_score_prev\",\n",
    "    \"dif_mean_rating_prev\",\n",
    "    \"dif_mean_delta_rounds_predictor_prev\",\n",
    "    \"dif_mean_interval_time_prev\",\n",
    "    \"dif_max_interval_time_prev\",\n",
    "    \"dif_mean_interval_time_most_recent_prev\",\n",
    "    \"dif_max_interval_time_most_recent_prev\",\n",
    "    \"dif_mean_delta_elo_prev\",\n",
    "    \"dif_mean_dif_rounds_prev\",\n",
    "    \"dif_mean_dif_elo_prev\",\n",
    "    \"dif_num_matches_afk\",\n",
    "    \"dif_num_played_togthr_prev\",\n",
    "    \"dif_mean_first_matches_on_day\",\n",
    "    \"dif_mean_matches_on_day\",\n",
    "    \"dif_mean_played_map_on_day\",\n",
    "    \"dif_mean_created_at_faceit\",\n",
    "    \"dif_stddev_created_at_faceit\",\n",
    "    \"dif_min_created_at_faceit\",\n",
    "]\n",
    "data_processed = dataset[selected_cols]\n",
    "data_label = data_processed[\"winner\"]\n",
    "data_features = data_processed.drop(columns=[\"winner\", \"_id\"])"
   ]
  },
  {
   "cell_type": "markdown",
   "metadata": {},
   "source": [
    "## Model"
   ]
  },
  {
   "cell_type": "code",
   "execution_count": 32,
   "metadata": {},
   "outputs": [],
   "source": [
    "data_label = dataset_featurized[\"winner\"]\n",
    "data_features = dataset_featurized.drop(columns=[\"winner\", \"_id\"])"
   ]
  },
  {
   "cell_type": "code",
   "execution_count": 33,
   "metadata": {},
   "outputs": [],
   "source": [
    "scaler = StandardScaler()\n",
    "data_features = pd.DataFrame(scaler.fit_transform(data_features), columns=data_features.columns)"
   ]
  },
  {
   "cell_type": "code",
   "execution_count": null,
   "metadata": {
    "ExecuteTime": {
     "end_time": "2020-03-27T16:47:08.833910Z",
     "start_time": "2020-03-27T16:47:08.626364Z"
    }
   },
   "outputs": [],
   "source": [
    "data_processed_winner_0 = data_processed[data_processed[\"winner\"] == 0]\n",
    "data_processed_winner_1 = data_processed[data_processed[\"winner\"] == 1]"
   ]
  },
  {
   "cell_type": "code",
   "execution_count": null,
   "metadata": {
    "ExecuteTime": {
     "end_time": "2020-03-27T16:47:09.635863Z",
     "start_time": "2020-03-27T16:47:09.459715Z"
    }
   },
   "outputs": [],
   "source": [
    "data_processed_winner_0[\"dif_mean_elo\"].mean()"
   ]
  },
  {
   "cell_type": "code",
   "execution_count": null,
   "metadata": {
    "ExecuteTime": {
     "end_time": "2020-03-15T20:02:23.853038Z",
     "start_time": "2020-03-15T20:02:23.662518Z"
    }
   },
   "outputs": [],
   "source": [
    "data_processed_winner_1[\"dif_mean_elo\"].mean()"
   ]
  },
  {
   "cell_type": "code",
   "execution_count": 35,
   "metadata": {
    "ExecuteTime": {
     "end_time": "2020-03-27T16:50:14.797537Z",
     "start_time": "2020-03-27T16:50:14.580119Z"
    }
   },
   "outputs": [],
   "source": [
    "X_train, X_test, y_train, y_test = train_test_split(\n",
    "    data_features, data_label, test_size=0.3, random_state=42\n",
    ")"
   ]
  },
  {
   "cell_type": "code",
   "execution_count": 8,
   "metadata": {
    "ExecuteTime": {
     "end_time": "2020-03-27T16:49:38.375076Z",
     "start_time": "2020-03-27T16:49:38.199509Z"
    }
   },
   "outputs": [
    {
     "data": {
      "text/plain": [
       "(20676, 42)"
      ]
     },
     "execution_count": 8,
     "metadata": {},
     "output_type": "execute_result"
    }
   ],
   "source": [
    "X_test.shape"
   ]
  },
  {
   "cell_type": "code",
   "execution_count": null,
   "metadata": {
    "ExecuteTime": {
     "end_time": "2020-03-15T02:58:32.189528Z",
     "start_time": "2020-03-15T02:58:21.908122Z"
    }
   },
   "outputs": [],
   "source": [
    "xgb = XGBClassifier()\n",
    "xgb.fit(X_train, y_train)\n",
    "print_metrics(xgb, X_train, y_train, X_test, y_test)"
   ]
  },
  {
   "cell_type": "code",
   "execution_count": null,
   "metadata": {
    "ExecuteTime": {
     "end_time": "2020-03-15T03:03:29.310059Z",
     "start_time": "2020-03-15T03:03:29.133527Z"
    }
   },
   "outputs": [],
   "source": [
    "estimator = XGBClassifier(objective=\"binary:logistic\", seed=42)"
   ]
  },
  {
   "cell_type": "code",
   "execution_count": null,
   "metadata": {
    "ExecuteTime": {
     "end_time": "2020-03-15T03:06:22.090707Z",
     "start_time": "2020-03-15T03:06:21.907209Z"
    }
   },
   "outputs": [],
   "source": [
    "parameters = {\n",
    "#     \"max_depth\": range(2, 10, 1),\n",
    "    \"n_estimators\": range(60, 220, 40),\n",
    "    \"learning_rate\": [0.1, 0.01],\n",
    "}"
   ]
  },
  {
   "cell_type": "code",
   "execution_count": null,
   "metadata": {
    "ExecuteTime": {
     "end_time": "2020-03-15T03:06:22.993832Z",
     "start_time": "2020-03-15T03:06:22.819289Z"
    }
   },
   "outputs": [],
   "source": [
    "grid_search = GridSearchCV(\n",
    "    estimator=estimator,\n",
    "    param_grid=parameters,\n",
    "    scoring=\"roc_auc\",\n",
    "    n_jobs=-1,\n",
    "    cv=5,\n",
    "    verbose=True,\n",
    ")"
   ]
  },
  {
   "cell_type": "code",
   "execution_count": null,
   "metadata": {
    "ExecuteTime": {
     "end_time": "2020-03-15T03:08:17.172853Z",
     "start_time": "2020-03-15T03:06:24.108632Z"
    }
   },
   "outputs": [],
   "source": [
    "grid_search.fit(X_train, y_train)"
   ]
  },
  {
   "cell_type": "code",
   "execution_count": null,
   "metadata": {
    "ExecuteTime": {
     "end_time": "2020-03-15T03:08:59.802075Z",
     "start_time": "2020-03-15T03:08:59.619592Z"
    }
   },
   "outputs": [],
   "source": [
    "grid_search.best_estimator_"
   ]
  },
  {
   "cell_type": "code",
   "execution_count": null,
   "metadata": {
    "ExecuteTime": {
     "end_time": "2020-03-15T00:32:49.024711Z",
     "start_time": "2020-03-15T00:32:48.837597Z"
    }
   },
   "outputs": [],
   "source": [
    "from scipy import stats\n",
    "from scipy.stats import randint\n",
    "from sklearn.model_selection import RandomizedSearchCV"
   ]
  },
  {
   "cell_type": "code",
   "execution_count": null,
   "metadata": {
    "ExecuteTime": {
     "end_time": "2020-03-15T00:33:35.062807Z",
     "start_time": "2020-03-15T00:33:34.853773Z"
    }
   },
   "outputs": [],
   "source": [
    "clf_xgb = XGBClassifier(objective=\"binary:logistic\")\n",
    "param_dist = {\n",
    "    \"n_estimators\": stats.randint(150, 1000),\n",
    "    \"learning_rate\": stats.uniform(0.01, 0.6),\n",
    "    \"subsample\": stats.uniform(0.3, 0.9),\n",
    "    \"max_depth\": [3, 4, 5, 6, 7, 8, 9],\n",
    "    \"colsample_bytree\": stats.uniform(0.5, 0.9),\n",
    "    \"min_child_weight\": [1, 2, 3, 4],\n",
    "}\n",
    "clf = RandomizedSearchCV(\n",
    "    clf_xgb,\n",
    "    param_distributions=param_dist,\n",
    "    n_iter=5,\n",
    "    scoring=\"roc_auc\",\n",
    "    error_score=0,\n",
    "    verbose=3,\n",
    "    n_jobs=-1,\n",
    ")"
   ]
  },
  {
   "cell_type": "code",
   "execution_count": null,
   "metadata": {
    "ExecuteTime": {
     "start_time": "2020-03-15T00:33:35.866Z"
    }
   },
   "outputs": [],
   "source": [
    "clf.fit(X_train, y_train)"
   ]
  },
  {
   "cell_type": "code",
   "execution_count": null,
   "metadata": {
    "ExecuteTime": {
     "end_time": "2020-03-15T20:03:46.300173Z",
     "start_time": "2020-03-15T20:03:46.120655Z"
    }
   },
   "outputs": [],
   "source": [
    "# Baseline model: Random Forest with default parameters\n",
    "rf = RandomForestClassifier()"
   ]
  },
  {
   "cell_type": "code",
   "execution_count": null,
   "metadata": {
    "ExecuteTime": {
     "end_time": "2020-03-15T00:27:21.900173Z",
     "start_time": "2020-03-15T00:27:21.020700Z"
    }
   },
   "outputs": [],
   "source": [
    "lda = LinearDiscriminantAnalysis()\n",
    "lda.fit(X_train, y_train)\n",
    "print_metrics(lda, X_train, y_train, X_test, y_test)"
   ]
  },
  {
   "cell_type": "code",
   "execution_count": null,
   "metadata": {
    "ExecuteTime": {
     "end_time": "2020-03-06T15:06:10.591503Z",
     "start_time": "2020-03-06T15:06:10.404988Z"
    }
   },
   "outputs": [],
   "source": [
    "# Alternative Baseline Model with slightly better performance\n",
    "# rf = RandomForestClassifier(\n",
    "#     n_estimators=1500,\n",
    "#     max_features=0.3,\n",
    "#     max_depth=7,\n",
    "#     min_samples_leaf=0.005,\n",
    "#     random_state=41,\n",
    "# )"
   ]
  },
  {
   "cell_type": "code",
   "execution_count": 36,
   "metadata": {
    "ExecuteTime": {
     "end_time": "2020-03-15T20:19:42.551924Z",
     "start_time": "2020-03-15T20:19:42.373898Z"
    }
   },
   "outputs": [],
   "source": [
    "rf = RandomForestClassifier(\n",
    "    n_estimators=100, min_samples_leaf=0.01, min_samples_split=0.01\n",
    ")"
   ]
  },
  {
   "cell_type": "code",
   "execution_count": 37,
   "metadata": {
    "ExecuteTime": {
     "end_time": "2020-03-15T20:21:51.876962Z",
     "start_time": "2020-03-15T20:19:43.635712Z"
    }
   },
   "outputs": [
    {
     "data": {
      "text/plain": [
       "RandomForestClassifier(min_samples_leaf=0.01, min_samples_split=0.01)"
      ]
     },
     "execution_count": 37,
     "metadata": {},
     "output_type": "execute_result"
    }
   ],
   "source": [
    "rf.fit(X_train, y_train)"
   ]
  },
  {
   "cell_type": "markdown",
   "metadata": {},
   "source": [
    "## Evaluation"
   ]
  },
  {
   "cell_type": "code",
   "execution_count": 38,
   "metadata": {
    "ExecuteTime": {
     "end_time": "2020-03-27T16:47:26.762295Z",
     "start_time": "2020-03-27T16:47:26.577790Z"
    }
   },
   "outputs": [],
   "source": [
    "def print_metrics(model, X_train, y_train, X_test, y_test):\n",
    "    print(\"Model Score (Mean accuracy on test data)\", model.score(X_test, y_test))\n",
    "    pred = model.predict(X_test)\n",
    "    print(\"\\nClassification Report\")\n",
    "    print(classification_report(y_test, pred))\n",
    "    roc_graph = plot_roc_curve(model, X_test, y_test)\n",
    "    print(\"AUC:\", roc_graph.roc_auc)"
   ]
  },
  {
   "cell_type": "code",
   "execution_count": 39,
   "metadata": {
    "ExecuteTime": {
     "end_time": "2020-03-15T20:18:05.565050Z",
     "start_time": "2020-03-15T20:17:59.417886Z"
    }
   },
   "outputs": [
    {
     "data": {
      "text/plain": [
       "0.617006280964325"
      ]
     },
     "execution_count": 39,
     "metadata": {},
     "output_type": "execute_result"
    }
   ],
   "source": [
    "rf.score(X_train, y_train)"
   ]
  },
  {
   "cell_type": "code",
   "execution_count": 40,
   "metadata": {},
   "outputs": [
    {
     "data": {
      "text/html": [
       "<div>\n",
       "<style scoped>\n",
       "    .dataframe tbody tr th:only-of-type {\n",
       "        vertical-align: middle;\n",
       "    }\n",
       "\n",
       "    .dataframe tbody tr th {\n",
       "        vertical-align: top;\n",
       "    }\n",
       "\n",
       "    .dataframe thead th {\n",
       "        text-align: right;\n",
       "    }\n",
       "</style>\n",
       "<table border=\"1\" class=\"dataframe\">\n",
       "  <thead>\n",
       "    <tr style=\"text-align: right;\">\n",
       "      <th></th>\n",
       "      <th>features</th>\n",
       "      <th>importances</th>\n",
       "    </tr>\n",
       "  </thead>\n",
       "  <tbody>\n",
       "    <tr>\n",
       "      <th>0</th>\n",
       "      <td>dif_mean_elo</td>\n",
       "      <td>0.193113</td>\n",
       "    </tr>\n",
       "    <tr>\n",
       "      <th>26</th>\n",
       "      <td>dif_mean_weighted_kd_by_elo_prev</td>\n",
       "      <td>0.168658</td>\n",
       "    </tr>\n",
       "    <tr>\n",
       "      <th>11</th>\n",
       "      <td>dif_mean_winrate_on_map</td>\n",
       "      <td>0.071031</td>\n",
       "    </tr>\n",
       "    <tr>\n",
       "      <th>28</th>\n",
       "      <td>dif_mean_rating_prev</td>\n",
       "      <td>0.070362</td>\n",
       "    </tr>\n",
       "    <tr>\n",
       "      <th>25</th>\n",
       "      <td>dif_mean_kd_prev</td>\n",
       "      <td>0.065588</td>\n",
       "    </tr>\n",
       "    <tr>\n",
       "      <th>12</th>\n",
       "      <td>dif_mean_kd_on_map</td>\n",
       "      <td>0.064005</td>\n",
       "    </tr>\n",
       "    <tr>\n",
       "      <th>14</th>\n",
       "      <td>dif_mean_rating_on_map</td>\n",
       "      <td>0.057669</td>\n",
       "    </tr>\n",
       "    <tr>\n",
       "      <th>10</th>\n",
       "      <td>dif_mean_matches_on_map</td>\n",
       "      <td>0.041879</td>\n",
       "    </tr>\n",
       "    <tr>\n",
       "      <th>6</th>\n",
       "      <td>dif_mean_winrate</td>\n",
       "      <td>0.030742</td>\n",
       "    </tr>\n",
       "    <tr>\n",
       "      <th>15</th>\n",
       "      <td>dif_mean_matches_map_preference</td>\n",
       "      <td>0.024923</td>\n",
       "    </tr>\n",
       "    <tr>\n",
       "      <th>1</th>\n",
       "      <td>dif_stddev_elo</td>\n",
       "      <td>0.024644</td>\n",
       "    </tr>\n",
       "    <tr>\n",
       "      <th>27</th>\n",
       "      <td>dif_multikills_score_prev</td>\n",
       "      <td>0.022360</td>\n",
       "    </tr>\n",
       "    <tr>\n",
       "      <th>13</th>\n",
       "      <td>dif_mean_multikills_score_on_map</td>\n",
       "      <td>0.022193</td>\n",
       "    </tr>\n",
       "    <tr>\n",
       "      <th>7</th>\n",
       "      <td>dif_mean_kd</td>\n",
       "      <td>0.019544</td>\n",
       "    </tr>\n",
       "    <tr>\n",
       "      <th>5</th>\n",
       "      <td>dif_mean_matches</td>\n",
       "      <td>0.017393</td>\n",
       "    </tr>\n",
       "    <tr>\n",
       "      <th>9</th>\n",
       "      <td>dif_mean_rating</td>\n",
       "      <td>0.017244</td>\n",
       "    </tr>\n",
       "    <tr>\n",
       "      <th>17</th>\n",
       "      <td>dif_mean_kd_map_preference</td>\n",
       "      <td>0.013800</td>\n",
       "    </tr>\n",
       "    <tr>\n",
       "      <th>16</th>\n",
       "      <td>dif_mean_winrate_map_preference</td>\n",
       "      <td>0.012660</td>\n",
       "    </tr>\n",
       "    <tr>\n",
       "      <th>33</th>\n",
       "      <td>dif_mean_delta_elo_prev</td>\n",
       "      <td>0.008435</td>\n",
       "    </tr>\n",
       "    <tr>\n",
       "      <th>19</th>\n",
       "      <td>dif_mean_rating_map_preference</td>\n",
       "      <td>0.007582</td>\n",
       "    </tr>\n",
       "  </tbody>\n",
       "</table>\n",
       "</div>"
      ],
      "text/plain": [
       "                            features  importances\n",
       "0                       dif_mean_elo     0.193113\n",
       "26  dif_mean_weighted_kd_by_elo_prev     0.168658\n",
       "11           dif_mean_winrate_on_map     0.071031\n",
       "28              dif_mean_rating_prev     0.070362\n",
       "25                  dif_mean_kd_prev     0.065588\n",
       "12                dif_mean_kd_on_map     0.064005\n",
       "14            dif_mean_rating_on_map     0.057669\n",
       "10           dif_mean_matches_on_map     0.041879\n",
       "6                   dif_mean_winrate     0.030742\n",
       "15   dif_mean_matches_map_preference     0.024923\n",
       "1                     dif_stddev_elo     0.024644\n",
       "27         dif_multikills_score_prev     0.022360\n",
       "13  dif_mean_multikills_score_on_map     0.022193\n",
       "7                        dif_mean_kd     0.019544\n",
       "5                   dif_mean_matches     0.017393\n",
       "9                    dif_mean_rating     0.017244\n",
       "17        dif_mean_kd_map_preference     0.013800\n",
       "16   dif_mean_winrate_map_preference     0.012660\n",
       "33           dif_mean_delta_elo_prev     0.008435\n",
       "19    dif_mean_rating_map_preference     0.007582"
      ]
     },
     "execution_count": 40,
     "metadata": {},
     "output_type": "execute_result"
    }
   ],
   "source": [
    "feature_importances_df = pd.DataFrame({\"features\":X_train.columns, \"importances\":rf.feature_importances_})\n",
    "feature_importances_df.sort_values(by=\"importances\", ascending=False).head(20)"
   ]
  },
  {
   "cell_type": "code",
   "execution_count": 41,
   "metadata": {
    "ExecuteTime": {
     "end_time": "2020-03-15T20:18:13.462645Z",
     "start_time": "2020-03-15T20:18:06.292108Z"
    }
   },
   "outputs": [
    {
     "name": "stdout",
     "output_type": "stream",
     "text": [
      "Model Score (Mean accuracy on test data) 0.6077094215515574\n",
      "\n",
      "Classification Report\n",
      "              precision    recall  f1-score   support\n",
      "\n",
      "           0       0.60      0.63      0.62     10338\n",
      "           1       0.61      0.59      0.60     10338\n",
      "\n",
      "    accuracy                           0.61     20676\n",
      "   macro avg       0.61      0.61      0.61     20676\n",
      "weighted avg       0.61      0.61      0.61     20676\n",
      "\n"
     ]
    },
    {
     "name": "stderr",
     "output_type": "stream",
     "text": [
      "C:\\Users\\hmbf1\\AppData\\Local\\Programs\\Python\\Python38\\lib\\site-packages\\sklearn\\utils\\deprecation.py:87: FutureWarning: Function plot_roc_curve is deprecated; Function `plot_roc_curve` is deprecated in 1.0 and will be removed in 1.2. Use one of the class methods: RocCurveDisplay.from_predictions or RocCurveDisplay.from_estimator.\n",
      "  warnings.warn(msg, category=FutureWarning)\n"
     ]
    },
    {
     "name": "stdout",
     "output_type": "stream",
     "text": [
      "AUC: 0.6551446202510681\n"
     ]
    },
    {
     "data": {
      "image/png": "[encoded data removed]",
      "text/plain": [
       "<Figure size 432x288 with 1 Axes>"
      ]
     },
     "metadata": {},
     "output_type": "display_data"
    }
   ],
   "source": [
    "print_metrics(rf, X_train, y_train, X_test, y_test)"
   ]
  },
  {
   "cell_type": "code",
   "execution_count": 14,
   "metadata": {
    "ExecuteTime": {
     "end_time": "2020-03-06T15:06:44.973300Z",
     "start_time": "2020-03-06T15:06:40.852283Z"
    },
    "lines_to_next_cell": 2
   },
   "outputs": [
    {
     "ename": "NameError",
     "evalue": "name 'data_processed' is not defined",
     "output_type": "error",
     "traceback": [
      "\u001b[1;31m---------------------------------------------------------------------------\u001b[0m",
      "\u001b[1;31mNameError\u001b[0m                                 Traceback (most recent call last)",
      "\u001b[1;32m<ipython-input-14-67e4263bc207>\u001b[0m in \u001b[0;36m<module>\u001b[1;34m\u001b[0m\n\u001b[0;32m      1\u001b[0m \u001b[1;31m# Displays the correlation matrix regarding the features present in dataset\u001b[0m\u001b[1;33m\u001b[0m\u001b[1;33m\u001b[0m\u001b[1;33m\u001b[0m\u001b[0m\n\u001b[1;32m----> 2\u001b[1;33m \u001b[0mcorr_mat\u001b[0m \u001b[1;33m=\u001b[0m \u001b[0mdata_processed\u001b[0m\u001b[1;33m.\u001b[0m\u001b[0mcorr\u001b[0m\u001b[1;33m(\u001b[0m\u001b[1;33m)\u001b[0m\u001b[1;33m\u001b[0m\u001b[1;33m\u001b[0m\u001b[0m\n\u001b[0m\u001b[0;32m      3\u001b[0m \u001b[0mplt\u001b[0m\u001b[1;33m.\u001b[0m\u001b[0mfigure\u001b[0m\u001b[1;33m(\u001b[0m\u001b[0mfigsize\u001b[0m\u001b[1;33m=\u001b[0m\u001b[1;33m(\u001b[0m\u001b[1;36m16\u001b[0m\u001b[1;33m,\u001b[0m \u001b[1;36m16\u001b[0m\u001b[1;33m)\u001b[0m\u001b[1;33m)\u001b[0m\u001b[1;33m\u001b[0m\u001b[1;33m\u001b[0m\u001b[0m\n\u001b[0;32m      4\u001b[0m \u001b[0max\u001b[0m \u001b[1;33m=\u001b[0m \u001b[0msns\u001b[0m\u001b[1;33m.\u001b[0m\u001b[0mheatmap\u001b[0m\u001b[1;33m(\u001b[0m\u001b[0mcorr_mat\u001b[0m\u001b[1;33m,\u001b[0m \u001b[0mannot\u001b[0m\u001b[1;33m=\u001b[0m\u001b[1;32mTrue\u001b[0m\u001b[1;33m,\u001b[0m \u001b[0mcbar\u001b[0m\u001b[1;33m=\u001b[0m\u001b[1;32mFalse\u001b[0m\u001b[1;33m,\u001b[0m \u001b[0mannot_kws\u001b[0m\u001b[1;33m=\u001b[0m\u001b[1;33m{\u001b[0m\u001b[1;34m\"size\"\u001b[0m\u001b[1;33m:\u001b[0m \u001b[1;36m10\u001b[0m\u001b[1;33m}\u001b[0m\u001b[1;33m)\u001b[0m\u001b[1;33m\u001b[0m\u001b[1;33m\u001b[0m\u001b[0m\n\u001b[0;32m      5\u001b[0m \u001b[0mbottom\u001b[0m\u001b[1;33m,\u001b[0m \u001b[0mtop\u001b[0m \u001b[1;33m=\u001b[0m \u001b[0max\u001b[0m\u001b[1;33m.\u001b[0m\u001b[0mget_ylim\u001b[0m\u001b[1;33m(\u001b[0m\u001b[1;33m)\u001b[0m\u001b[1;33m\u001b[0m\u001b[1;33m\u001b[0m\u001b[0m\n",
      "\u001b[1;31mNameError\u001b[0m: name 'data_processed' is not defined"
     ]
    }
   ],
   "source": [
    "# Displays the correlation matrix regarding the features present in dataset\n",
    "corr_mat = data_processed.corr()\n",
    "plt.figure(figsize=(16, 16))\n",
    "ax = sns.heatmap(corr_mat, annot=True, cbar=False, annot_kws={\"size\": 10})\n",
    "bottom, top = ax.get_ylim()\n",
    "ax.set_ylim(bottom + 0.5, top - 0.5)"
   ]
  },
  {
   "cell_type": "code",
   "execution_count": null,
   "metadata": {
    "ExecuteTime": {
     "end_time": "2020-03-06T15:10:00.680091Z",
     "start_time": "2020-03-06T15:08:22.276991Z"
    }
   },
   "outputs": [],
   "source": [
    "permutation_info = permutation_importance(\n",
    "    rf, X_train, y_train, n_repeats=10, random_state=0, n_jobs=-1\n",
    ")\n",
    "\n",
    "features_info = list(\n",
    "    zip(\n",
    "        X_train.columns,\n",
    "        permutation_info[\"importances_mean\"],\n",
    "        permutation_info[\"importances_std\"],\n",
    "    )\n",
    ")\n",
    "\n",
    "# Sort by descending mean feature importance\n",
    "features_info = sorted(features_info, key=lambda feature: feature[1], reverse=True)\n",
    "\n",
    "features_imp_df = pd.DataFrame(\n",
    "    features_info, columns=[\"feature_name\", \"mean_importance\", \"stddev_importance\"]\n",
    ")\n",
    "\n",
    "features_imp_df.head(40)"
   ]
  },
  {
   "cell_type": "markdown",
   "metadata": {},
   "source": [
    "---\n",
    "\n",
    "# Model and Feature Selection"
   ]
  },
  {
   "cell_type": "code",
   "execution_count": null,
   "metadata": {
    "ExecuteTime": {
     "end_time": "2020-03-13T17:49:51.927374Z",
     "start_time": "2020-03-13T17:49:51.711926Z"
    }
   },
   "outputs": [],
   "source": [
    "# Create train and test set\n",
    "X_train, X_test, y_train, y_test = train_test_split(\n",
    "    data_features, data_label, test_size=0.3, random_state=42\n",
    ")"
   ]
  },
  {
   "cell_type": "markdown",
   "metadata": {},
   "source": [
    "## Neural Networks"
   ]
  },
  {
   "cell_type": "markdown",
   "metadata": {},
   "source": [
    "TODO:\n",
    "\n",
    "* Change to Tensorflow 2 framework\n",
    "* Build a process to test and optimize Neural Networks\n",
    "     "
   ]
  },
  {
   "cell_type": "code",
   "execution_count": null,
   "metadata": {
    "ExecuteTime": {
     "end_time": "2020-03-05T16:39:16.243695Z",
     "start_time": "2020-03-05T16:39:16.029265Z"
    }
   },
   "outputs": [],
   "source": [
    "sc = StandardScaler()\n",
    "X_train = sc.fit_transform(X_train)\n",
    "X_test = sc.transform(X_test)"
   ]
  },
  {
   "cell_type": "code",
   "execution_count": 58,
   "metadata": {
    "ExecuteTime": {
     "end_time": "2020-03-05T16:39:17.268951Z",
     "start_time": "2020-03-05T16:39:17.013634Z"
    }
   },
   "outputs": [],
   "source": [
    "# Initializing Neural Network\n",
    "classifier = Sequential()\n",
    "# Adding the input layer and the first hidden layer\n",
    "classifier.add(Dense(units=64, activation=\"relu\", input_dim=42))\n",
    "# Adding the second hidden layer\n",
    "classifier.add(Dropout(0.5))\n",
    "classifier.add(Dense(units=128, activation=\"relu\"))\n",
    "classifier.add(Dropout(0.5))\n",
    "classifier.add(Dense(units=128, activation=\"relu\"))\n",
    "# Adding the second hidden layer\n",
    "classifier.add(Dropout(0.5))\n",
    "classifier.add(Dense(units=64, activation=\"relu\"))\n",
    "# Adding the output layer\n",
    "classifier.add(Dense(units=1, activation=\"sigmoid\"))"
   ]
  },
  {
   "cell_type": "code",
   "execution_count": 59,
   "metadata": {
    "ExecuteTime": {
     "end_time": "2020-03-05T16:39:17.789558Z",
     "start_time": "2020-03-05T16:39:17.546211Z"
    }
   },
   "outputs": [],
   "source": [
    "classifier.compile(optimizer=\"adam\", loss=\"binary_crossentropy\", metrics=[\"accuracy\"])"
   ]
  },
  {
   "cell_type": "code",
   "execution_count": 60,
   "metadata": {
    "ExecuteTime": {
     "end_time": "2020-03-05T16:39:32.152157Z",
     "start_time": "2020-03-05T16:39:18.063826Z"
    }
   },
   "outputs": [
    {
     "name": "stdout",
     "output_type": "stream",
     "text": [
      "Epoch 1/20\n",
      "754/754 [==============================] - 2s 2ms/step - loss: 0.6772 - accuracy: 0.5731\n",
      "Epoch 2/20\n",
      "754/754 [==============================] - 2s 2ms/step - loss: 0.6618 - accuracy: 0.6004\n",
      "Epoch 3/20\n",
      "754/754 [==============================] - 2s 2ms/step - loss: 0.6573 - accuracy: 0.6078\n",
      "Epoch 4/20\n",
      "754/754 [==============================] - 2s 2ms/step - loss: 0.6552 - accuracy: 0.6102\n",
      "Epoch 5/20\n",
      "754/754 [==============================] - 2s 2ms/step - loss: 0.6532 - accuracy: 0.6132\n",
      "Epoch 6/20\n",
      "754/754 [==============================] - 2s 2ms/step - loss: 0.6525 - accuracy: 0.6137\n",
      "Epoch 7/20\n",
      "754/754 [==============================] - 2s 2ms/step - loss: 0.6518 - accuracy: 0.6142\n",
      "Epoch 8/20\n",
      "754/754 [==============================] - 2s 2ms/step - loss: 0.6511 - accuracy: 0.6143\n",
      "Epoch 9/20\n",
      "754/754 [==============================] - 2s 2ms/step - loss: 0.6507 - accuracy: 0.6153\n",
      "Epoch 10/20\n",
      "754/754 [==============================] - 2s 2ms/step - loss: 0.6504 - accuracy: 0.6175\n",
      "Epoch 11/20\n",
      "754/754 [==============================] - 2s 2ms/step - loss: 0.6500 - accuracy: 0.6172\n",
      "Epoch 12/20\n",
      "754/754 [==============================] - 2s 2ms/step - loss: 0.6508 - accuracy: 0.6166\n",
      "Epoch 13/20\n",
      "754/754 [==============================] - 2s 2ms/step - loss: 0.6503 - accuracy: 0.6143\n",
      "Epoch 14/20\n",
      "754/754 [==============================] - 2s 2ms/step - loss: 0.6504 - accuracy: 0.6180\n",
      "Epoch 15/20\n",
      "754/754 [==============================] - 2s 2ms/step - loss: 0.6492 - accuracy: 0.6179\n",
      "Epoch 16/20\n",
      "754/754 [==============================] - 2s 2ms/step - loss: 0.6494 - accuracy: 0.6166\n",
      "Epoch 17/20\n",
      "754/754 [==============================] - 2s 2ms/step - loss: 0.6490 - accuracy: 0.6178\n",
      "Epoch 18/20\n",
      "754/754 [==============================] - 2s 2ms/step - loss: 0.6484 - accuracy: 0.6192\n",
      "Epoch 19/20\n",
      "754/754 [==============================] - 2s 2ms/step - loss: 0.6495 - accuracy: 0.6193\n",
      "Epoch 20/20\n",
      "754/754 [==============================] - 2s 2ms/step - loss: 0.6485 - accuracy: 0.6194\n"
     ]
    },
    {
     "data": {
      "text/plain": [
       "<tensorflow.python.keras.callbacks.History at 0x1590a3504c0>"
      ]
     },
     "execution_count": 60,
     "metadata": {},
     "output_type": "execute_result"
    }
   ],
   "source": [
    "classifier.fit(X_train, y_train, batch_size=64, epochs=20, verbose=1)"
   ]
  },
  {
   "cell_type": "code",
   "execution_count": 61,
   "metadata": {
    "ExecuteTime": {
     "end_time": "2020-03-05T16:39:32.856274Z",
     "start_time": "2020-03-05T16:39:32.424428Z"
    }
   },
   "outputs": [
    {
     "name": "stdout",
     "output_type": "stream",
     "text": [
      "              precision    recall  f1-score   support\n",
      "\n",
      "           0       0.61      0.66      0.63     10338\n",
      "           1       0.63      0.57      0.60     10338\n",
      "\n",
      "    accuracy                           0.62     20676\n",
      "   macro avg       0.62      0.62      0.61     20676\n",
      "weighted avg       0.62      0.62      0.61     20676\n",
      "\n",
      "Test accuracy 0.6154478622557554\n",
      "AUC Score 0.665581798173936\n"
     ]
    }
   ],
   "source": [
    "y_pred = classifier.predict(X_test)\n",
    "y_pred = y_pred > 0.5\n",
    "print(classification_report(y_test, y_pred))\n",
    "print(\"Test accuracy\", accuracy_score(y_test, y_pred))\n",
    "auc_score = roc_auc_score(y_test, classifier.predict(X_test).ravel())\n",
    "print(\"AUC Score\", auc_score)"
   ]
  },
  {
   "cell_type": "markdown",
   "metadata": {},
   "source": [
    "## H2O Auto ML"
   ]
  },
  {
   "cell_type": "markdown",
   "metadata": {},
   "source": [
    "This section should be executed in a Linux environment, because H2O's XGBoost is not available on Windows."
   ]
  },
  {
   "cell_type": "code",
   "execution_count": null,
   "metadata": {
    "ExecuteTime": {
     "end_time": "2020-03-14T19:00:52.123916Z",
     "start_time": "2020-03-14T19:00:40.357389Z"
    }
   },
   "outputs": [],
   "source": [
    "h2o.init(max_mem_size=\"8G\")"
   ]
  },
  {
   "cell_type": "code",
   "execution_count": null,
   "metadata": {
    "ExecuteTime": {
     "end_time": "2020-03-04T23:46:29.832767Z",
     "start_time": "2020-03-04T23:46:26.197937Z"
    }
   },
   "outputs": [],
   "source": [
    "hf = h2o.H2OFrame(data_processed)"
   ]
  },
  {
   "cell_type": "code",
   "execution_count": null,
   "metadata": {
    "ExecuteTime": {
     "end_time": "2020-03-04T23:46:31.485785Z",
     "start_time": "2020-03-04T23:46:30.771693Z"
    }
   },
   "outputs": [],
   "source": [
    "splits = hf.split_frame(ratios=[0.7], seed=1)\n",
    "train = splits[0]\n",
    "test = splits[1]"
   ]
  },
  {
   "cell_type": "code",
   "execution_count": null,
   "metadata": {
    "ExecuteTime": {
     "end_time": "2020-03-04T23:46:32.807533Z",
     "start_time": "2020-03-04T23:46:32.604960Z"
    }
   },
   "outputs": [],
   "source": [
    "# Identify predictors and response\n",
    "x = train.columns\n",
    "y = \"winner\"\n",
    "x.remove(y)\n",
    "\n",
    "# For binary classification, response should be a factor\n",
    "train[y] = train[y].asfactor()"
   ]
  },
  {
   "cell_type": "code",
   "execution_count": null,
   "metadata": {
    "ExecuteTime": {
     "end_time": "2020-03-04T23:56:13.983386Z",
     "start_time": "2020-03-04T23:47:09.239701Z"
    }
   },
   "outputs": [],
   "source": [
    "aml = H2OAutoML(max_runtime_secs=600, seed=1, max_models=50)\n",
    "aml.train(x=x, y=y, training_frame=train)"
   ]
  },
  {
   "cell_type": "code",
   "execution_count": null,
   "metadata": {
    "ExecuteTime": {
     "end_time": "2020-03-04T23:58:24.318659Z",
     "start_time": "2020-03-04T23:58:24.076318Z"
    }
   },
   "outputs": [],
   "source": [
    "lb = aml.leaderboard\n",
    "lb.head()"
   ]
  },
  {
   "cell_type": "code",
   "execution_count": null,
   "metadata": {
    "ExecuteTime": {
     "end_time": "2020-03-04T23:58:35.807288Z",
     "start_time": "2020-03-04T23:58:35.117253Z"
    }
   },
   "outputs": [],
   "source": [
    "pred = aml.predict(test)\n",
    "pred.head()"
   ]
  },
  {
   "cell_type": "code",
   "execution_count": null,
   "metadata": {
    "ExecuteTime": {
     "end_time": "2020-03-04T23:58:42.852058Z",
     "start_time": "2020-03-04T23:58:42.200577Z"
    }
   },
   "outputs": [],
   "source": [
    "perf = aml.leader.model_performance(test)\n",
    "print(perf)"
   ]
  },
  {
   "cell_type": "markdown",
   "metadata": {},
   "source": [
    "## Traditional Classifiers"
   ]
  },
  {
   "cell_type": "code",
   "execution_count": null,
   "metadata": {
    "ExecuteTime": {
     "end_time": "2020-03-13T17:49:53.041730Z",
     "start_time": "2020-03-13T17:49:52.838921Z"
    }
   },
   "outputs": [],
   "source": [
    "classifiers = {}\n",
    "classifiers.update({\"LDA\": LinearDiscriminantAnalysis()})\n",
    "classifiers.update({\"AdaBoost\": AdaBoostClassifier()})\n",
    "classifiers.update({\"Bagging\": BaggingClassifier()})\n",
    "classifiers.update({\"Extra Trees Ensemble\": ExtraTreesClassifier()})\n",
    "classifiers.update({\"Gradient Boosting\": GradientBoostingClassifier()})\n",
    "classifiers.update({\"Random Forest\": RandomForestClassifier()})\n",
    "classifiers.update({\"Ridge\": RidgeClassifier()})\n",
    "classifiers.update({\"BNB\": BernoulliNB()})\n",
    "classifiers.update({\"MLP\": MLPClassifier()})\n",
    "classifiers.update({\"LSVC\": LinearSVC()})\n",
    "classifiers.update({\"NuSVC\": NuSVC()})\n",
    "classifiers.update({\"SVC\": SVC()})\n",
    "classifiers.update({\"DTC\": DecisionTreeClassifier()})\n",
    "classifiers.update({\"ETC\": ExtraTreeClassifier()})\n",
    "classifiers.update({\"XGB\": XGBClassifier()})\n",
    "\n",
    "\n",
    "# Create dict of decision function labels\n",
    "DECISION_FUNCTIONS = {\"Ridge\", \"SGD\", \"LSVC\", \"NuSVC\", \"SVC\"}\n",
    "\n",
    "# Create dict for classifiers with feature_importances_ attribute\n",
    "FEATURE_IMPORTANCE = {\n",
    "    \"Gradient Boosting\",\n",
    "    \"Extra Trees Ensemble\",\n",
    "    \"Random Forest\",\n",
    "    \"XGB\",\n",
    "}"
   ]
  },
  {
   "cell_type": "code",
   "execution_count": null,
   "metadata": {
    "ExecuteTime": {
     "end_time": "2020-03-13T18:11:14.268697Z",
     "start_time": "2020-03-13T17:49:54.449296Z"
    }
   },
   "outputs": [],
   "source": [
    "# Fit all the classifiers with default parameters and create dataframe with score\n",
    "classifiers_dataframe = pd.DataFrame(columns=[\"Model\", \"Score\"])\n",
    "\n",
    "for name, clf in classifiers.items():\n",
    "    clf.fit(X_train, y_train)\n",
    "    score = clf.score(X_test, y_test)\n",
    "    classifiers_dataframe = classifiers_dataframe.append(\n",
    "        {\"Model\": name,\n",
    "         \"Score\": score,\n",
    "         \"AUC\": plot_roc_curve(clf, X_test, y_test).roc_auc},\n",
    "        ignore_index=True\n",
    "    )"
   ]
  },
  {
   "cell_type": "code",
   "execution_count": null,
   "metadata": {
    "ExecuteTime": {
     "end_time": "2020-03-13T18:18:46.522127Z",
     "start_time": "2020-03-13T18:18:46.281277Z"
    }
   },
   "outputs": [],
   "source": [
    "classifiers_dataframe.sort_values(by=\"Score\", ascending=False)"
   ]
  },
  {
   "cell_type": "code",
   "execution_count": null,
   "metadata": {
    "ExecuteTime": {
     "end_time": "2020-03-05T00:26:22.913879Z",
     "start_time": "2020-03-05T00:26:22.632070Z"
    }
   },
   "outputs": [],
   "source": [
    "# Hyperparameter configuration\n",
    "\n",
    "# Initiate parameter grid\n",
    "parameters = {}\n",
    "\n",
    "# Update dict with LDA\n",
    "parameters.update({\"LDA\": {\"solver\": [\"svd\"],}})\n",
    "\n",
    "# Update dict with AdaBoost\n",
    "parameters.update(\n",
    "    {\n",
    "        \"AdaBoost\": {\n",
    "            \"base_estimator\": [\n",
    "                DecisionTreeClassifier(max_depth=ii) for ii in range(1, 6)\n",
    "            ],\n",
    "            \"n_estimators\": [200],\n",
    "            \"learning_rate\": [0.001, 0.01, 0.05, 0.1, 0.25, 0.50, 0.75, 1.0],\n",
    "        }\n",
    "    }\n",
    ")\n",
    "\n",
    "# Update dict with Bagging\n",
    "parameters.update(\n",
    "    {\n",
    "        \"Bagging\": {\n",
    "            \"base_estimator\": [\n",
    "                DecisionTreeClassifier(max_depth=ii) for ii in range(1, 6)\n",
    "            ],\n",
    "            \"n_estimators\": [200],\n",
    "            \"max_features\": [0.2, 0.3, 0.4, 0.5, 0.6, 0.7, 0.8, 0.9, 1.0],\n",
    "            \"n_jobs\": [-1],\n",
    "        }\n",
    "    }\n",
    ")\n",
    "\n",
    "# Update dict with Gradient Boosting\n",
    "parameters.update(\n",
    "    {\n",
    "        \"Gradient Boosting\": {\n",
    "            \"learning_rate\": [0.05, 0.01, 0.001],\n",
    "            \"n_estimators\": [200],\n",
    "            \"max_depth\": [4, 5],\n",
    "            \"min_samples_split\": [0.01],\n",
    "            \"min_samples_leaf\": [0.01],\n",
    "            \"max_features\": [\"auto\"],\n",
    "            \"subsample\": [0.8, 1],\n",
    "        }\n",
    "    }\n",
    ")\n",
    "\n",
    "\n",
    "# Update dict with Extra Trees\n",
    "parameters.update(\n",
    "    {\n",
    "        \"Extra Trees Ensemble\": {\n",
    "            \"n_estimators\": [200],\n",
    "            \"class_weight\": [None, \"balanced\"],\n",
    "            \"max_features\": [\"auto\", \"sqrt\", \"log2\"],\n",
    "            \"max_depth\": [3, 4, 5, 6, 7, 8],\n",
    "            \"min_samples_split\": [0.005, 0.01, 0.05, 0.10],\n",
    "            \"min_samples_leaf\": [0.005, 0.01, 0.05, 0.10],\n",
    "            \"criterion\": [\"gini\", \"entropy\"],\n",
    "            \"n_jobs\": [-1],\n",
    "        }\n",
    "    }\n",
    ")\n",
    "\n",
    "\n",
    "# Update dict with Random Forest Parameters\n",
    "parameters.update(\n",
    "    {\n",
    "        \"Random Forest\": {\n",
    "            \"n_estimators\": [400],\n",
    "            \"class_weight\": [\"balanced\"],\n",
    "            \"max_features\": [\"auto\", \"sqrt\"],\n",
    "            \"max_depth\": [10, 11, 12],\n",
    "            \"min_samples_split\": [0.001],\n",
    "            \"min_samples_leaf\": [0.001],\n",
    "            \"criterion\": [\"gini\", \"entropy\"],\n",
    "            \"n_jobs\": [-1],\n",
    "        }\n",
    "    }\n",
    ")\n",
    "\n",
    "\n",
    "# Update dict with Ridge\n",
    "parameters.update(\n",
    "    {\n",
    "        \"Ridge\": {\n",
    "            \"alpha\": [1e-7, 1e-6, 1e-5, 1e-4, 1e-3, 1e-2, 1e-1, 0.25, 0.50, 0.75, 1.0]\n",
    "        }\n",
    "    }\n",
    ")\n",
    "\n",
    "# Update dict with BernoulliNB Classifier\n",
    "parameters.update(\n",
    "    {\n",
    "        \"BNB\": {\n",
    "            \"alpha\": [1e-7, 1e-6, 1e-5, 1e-4, 1e-3, 1e-2, 1e-1, 0.25, 0.50, 0.75, 1.0]\n",
    "        }\n",
    "    }\n",
    ")\n",
    "\n",
    "\n",
    "# Update dict with MLPClassifier\n",
    "parameters.update(\n",
    "    {\n",
    "        \"MLP\": {\n",
    "            \"hidden_layer_sizes\": [\n",
    "                (5),\n",
    "                (10),\n",
    "                (5, 5),\n",
    "                (10, 10),\n",
    "                (5, 5, 5),\n",
    "                (10, 10, 10),\n",
    "            ],\n",
    "            \"activation\": [\"identity\", \"logistic\", \"tanh\", \"relu\"],\n",
    "            \"learning_rate\": [\"constant\", \"invscaling\", \"adaptive\"],\n",
    "            \"max_iter\": [100, 200, 300, 500, 1000, 2000],\n",
    "            \"alpha\": list(10.0 ** -np.arange(1, 10)),\n",
    "        }\n",
    "    }\n",
    ")\n",
    "\n",
    "parameters.update(\n",
    "    {\"LSVC\": {\"penalty\": [\"l2\"], \"C\": [0.0001, 0.001, 0.01, 0.1, 1.0, 10, 100]}}\n",
    ")\n",
    "\n",
    "parameters.update(\n",
    "    {\n",
    "        \"NuSVC\": {\n",
    "            \"nu\": [0.25, 0.50, 0.75],\n",
    "            \"kernel\": [\"linear\", \"rbf\", \"poly\"],\n",
    "            \"degree\": [1, 2, 3, 4, 5, 6],\n",
    "        }\n",
    "    }\n",
    ")\n",
    "\n",
    "parameters.update(\n",
    "    {\n",
    "        \"SVC\": {\n",
    "            \"kernel\": [\"linear\", \"rbf\", \"poly\"],\n",
    "            \"gamma\": [\"auto\"],\n",
    "            \"C\": [0.1, 0.5, 1, 5, 10, 50, 100],\n",
    "            \"degree\": [1, 2, 3, 4, 5, 6],\n",
    "        }\n",
    "    }\n",
    ")\n",
    "\n",
    "\n",
    "# Update dict with Decision Tree Classifier\n",
    "parameters.update(\n",
    "    {\n",
    "        \"DTC\": {\n",
    "            \"criterion\": [\"gini\", \"entropy\"],\n",
    "            \"splitter\": [\"best\", \"random\"],\n",
    "            \"class_weight\": [None, \"balanced\"],\n",
    "            \"max_features\": [\"auto\", \"sqrt\", \"log2\"],\n",
    "            \"max_depth\": [1, 2, 3, 4, 5, 6, 7, 8],\n",
    "            \"min_samples_split\": [0.005, 0.01, 0.05, 0.10],\n",
    "            \"min_samples_leaf\": [0.005, 0.01, 0.05, 0.10],\n",
    "        }\n",
    "    }\n",
    ")\n",
    "\n",
    "# Update dict with Extra Tree Classifier\n",
    "parameters.update(\n",
    "    {\n",
    "        \"ETC\": {\n",
    "            \"criterion\": [\"gini\", \"entropy\"],\n",
    "            \"splitter\": [\"best\", \"random\"],\n",
    "            \"class_weight\": [None, \"balanced\"],\n",
    "            \"max_features\": [\"auto\", \"sqrt\", \"log2\"],\n",
    "            \"max_depth\": [1, 2, 3, 4, 5, 6, 7, 8],\n",
    "            \"min_samples_split\": [0.005, 0.01, 0.05, 0.10],\n",
    "            \"min_samples_leaf\": [0.005, 0.01, 0.05, 0.10],\n",
    "        }\n",
    "    }\n",
    ")\n",
    "\n",
    "# Update dict with XGBoost Classifier\n",
    "# Inspired in https://www.analyticsvidhya.com/blog/2016/03/complete-guide-parameter-tuning-xgboost-with-codes-python/\n",
    "parameters.update(\n",
    "    {\n",
    "        \"XGB\": {\n",
    "            \"learning_rate\": [0.15, 0.1, 0.05, 0.01, 0.005, 0.001],\n",
    "            \"n_estimators\": [200],\n",
    "            \"max_depth\": [2, 3, 4, 5, 6],\n",
    "            \"min_child_weight\": [1, 3, 5, 7],\n",
    "            \"gama\": [0, 0.1, 0.2, 0.3, 0.4],\n",
    "            \"ccolsample_bytree\": [0.6, 0.7, 0.8, 0.9],\n",
    "            \"subsample\": [0.6, 0.7, 0.8, 0.9],\n",
    "            \"reg_alpha\": [1e-5, 1e-2, 0.1, 1, 100],\n",
    "        }\n",
    "    }\n",
    ")"
   ]
  },
  {
   "cell_type": "code",
   "execution_count": null,
   "metadata": {
    "ExecuteTime": {
     "end_time": "2020-03-05T00:19:42.463027Z",
     "start_time": "2020-03-05T00:19:42.280392Z"
    }
   },
   "outputs": [],
   "source": [
    "classifiers_dataframe = pd.DataFrame(columns=[\"Model\", \"Best_Params\", \"Best_Score\"])"
   ]
  },
  {
   "cell_type": "code",
   "execution_count": null,
   "metadata": {
    "ExecuteTime": {
     "end_time": "2020-03-05T00:22:39.135395Z",
     "start_time": "2020-03-05T00:19:43.478049Z"
    }
   },
   "outputs": [],
   "source": [
    "# Fit all the classifiers with hyperparameterss optimized\n",
    "for name, clf in classifiers.items():\n",
    "    if name in classifiers_dataframe[\"Model\"].values:\n",
    "        continue\n",
    "    param_grid = parameters[name]\n",
    "    print(param_grid)\n",
    "    gscv = GridSearchCV(clf, param_grid, cv=5, n_jobs=-1, verbose=1, scoring=\"roc_auc\")\n",
    "    print(f\"Now tuning {name}.\")\n",
    "    gscv.fit(X_train, y_train)\n",
    "\n",
    "    # Get best parameters and score\n",
    "    best_params = gscv.best_params_\n",
    "    best_score = gscv.best_score_\n",
    "\n",
    "    classifiers_dataframe = classifiers_dataframe.append(\n",
    "        {\"Model\": name, \"Best_Params\": best_params, \"Best_Score\": best_score},\n",
    "        ignore_index=True,\n",
    "    )"
   ]
  },
  {
   "cell_type": "code",
   "execution_count": null,
   "metadata": {},
   "outputs": [],
   "source": [
    "classifiers_dataframe"
   ]
  },
  {
   "cell_type": "code",
   "execution_count": null,
   "metadata": {
    "ExecuteTime": {
     "end_time": "2020-03-05T00:38:13.866227Z",
     "start_time": "2020-03-05T00:34:34.248437Z"
    }
   },
   "outputs": [],
   "source": [
    "# Define classifier to use as the base of the recursive feature elimination algorithm\n",
    "selected_classifier = \"Random Forest\"\n",
    "classifier = classifiers[selected_classifier]\n",
    "\n",
    "# Tune classifier (Took = 4.8 minutes)\n",
    "\n",
    "# Scale features via Z-score normalization\n",
    "scaler = StandardScaler()\n",
    "\n",
    "# Define steps in pipeline\n",
    "steps = [(\"scaler\", scaler), (\"classifier\", classifier)]\n",
    "\n",
    "# Initialize Pipeline object\n",
    "pipeline = Pipeline(steps=steps)\n",
    "\n",
    "# Define parameter grid\n",
    "param_grid = parameters[selected_classifier]\n",
    "\n",
    "# Initialize GridSearch object\n",
    "gscv = GridSearchCV(\n",
    "    classifier, param_grid, cv=5, n_jobs=-1, verbose=1, scoring=\"roc_auc\"\n",
    ")\n",
    "\n",
    "# Fit gscv\n",
    "print(f\"Now tuning {selected_classifier}. Go grab a beer or something.\")\n",
    "gscv.fit(X_train, np.ravel(y_train))\n",
    "\n",
    "# Get best parameters and score\n",
    "best_params = gscv.best_params_\n",
    "best_score = gscv.best_score_\n",
    "\n",
    "# Update classifier parameters\n",
    "# tuned_params = {item[12:]: best_params[item] for item in best_params}\n",
    "classifier.set_params(**best_params)"
   ]
  },
  {
   "cell_type": "code",
   "execution_count": null,
   "metadata": {
    "ExecuteTime": {
     "end_time": "2020-03-05T00:33:31.046724Z",
     "start_time": "2020-03-05T00:33:30.857256Z"
    }
   },
   "outputs": [],
   "source": [
    "best_params"
   ]
  },
  {
   "cell_type": "code",
   "execution_count": null,
   "metadata": {
    "ExecuteTime": {
     "end_time": "2020-03-05T00:39:06.158169Z",
     "start_time": "2020-03-05T00:39:05.968465Z"
    }
   },
   "outputs": [],
   "source": [
    "# Select Features using RFECV\n",
    "class PipelineRFE(Pipeline):\n",
    "    # Source: https://ramhiser.com/post/2018-03-25-feature-selection-with-scikit-learn-pipeline/\n",
    "    def fit(self, X, y=None, **fit_params):\n",
    "        super(PipelineRFE, self).fit(X, y, **fit_params)\n",
    "        self.feature_importances_ = self.steps[-1][-1].feature_importances_\n",
    "        return self"
   ]
  },
  {
   "cell_type": "code",
   "execution_count": null,
   "metadata": {
    "ExecuteTime": {
     "end_time": "2020-03-05T00:52:56.030929Z",
     "start_time": "2020-03-05T00:39:09.623476Z"
    }
   },
   "outputs": [],
   "source": [
    "# Define pipeline for RFECV\n",
    "steps = [(\"scaler\", scaler), (\"classifier\", classifier)]\n",
    "pipe = PipelineRFE(steps=steps)\n",
    "\n",
    "# Initialize RFECV object\n",
    "feature_selector = RFECV(pipe, cv=5, step=1, scoring=\"roc_auc\", verbose=1)\n",
    "\n",
    "# Fit RFECV\n",
    "feature_selector.fit(X_train, np.ravel(y_train))\n",
    "\n",
    "# Get selected features\n",
    "feature_names = X_train.columns\n",
    "selected_features = feature_names[feature_selector.support_].tolist()"
   ]
  },
  {
   "cell_type": "code",
   "execution_count": null,
   "metadata": {
    "ExecuteTime": {
     "end_time": "2020-03-05T00:52:59.110770Z",
     "start_time": "2020-03-05T00:52:57.766716Z"
    }
   },
   "outputs": [],
   "source": [
    "# Get Performance Data\n",
    "performance_curve = {\n",
    "    \"Number of Features\": list(range(1, len(feature_names) + 1)),\n",
    "    \"AUC\": feature_selector.grid_scores_,\n",
    "}\n",
    "performance_curve = pd.DataFrame(performance_curve)\n",
    "\n",
    "# Performance vs Number of Features\n",
    "# Set graph style\n",
    "sns.set(font_scale=1.75)\n",
    "sns.set_style(\n",
    "    {\n",
    "        \"axes.facecolor\": \"1.0\",\n",
    "        \"axes.edgecolor\": \"0.85\",\n",
    "        \"grid.color\": \"0.85\",\n",
    "        \"grid.linestyle\": \"-\",\n",
    "        \"axes.labelcolor\": \"0.4\",\n",
    "        \"xtick.color\": \"0.4\",\n",
    "        \"ytick.color\": \"0.4\",\n",
    "    }\n",
    ")\n",
    "colors = sns.color_palette(\"RdYlGn\", 20)\n",
    "line_color = colors[3]\n",
    "marker_colors = colors[-1]\n",
    "\n",
    "# Plot\n",
    "f, ax = plt.subplots(figsize=(13, 6.5))\n",
    "sns.lineplot(\n",
    "    x=\"Number of Features\",\n",
    "    y=\"AUC\",\n",
    "    data=performance_curve,\n",
    "    color=line_color,\n",
    "    lw=4,\n",
    "    ax=ax,\n",
    ")\n",
    "sns.regplot(\n",
    "    x=performance_curve[\"Number of Features\"],\n",
    "    y=performance_curve[\"AUC\"],\n",
    "    color=marker_colors,\n",
    "    fit_reg=False,\n",
    "    scatter_kws={\"s\": 200},\n",
    "    ax=ax,\n",
    ")\n",
    "\n",
    "# Axes limits\n",
    "plt.xlim(0.5, len(feature_names) + 0.5)\n",
    "plt.ylim(0.60, 0.925)\n",
    "\n",
    "# Generate a bolded horizontal line at y = 0\n",
    "ax.axhline(y=0.625, color=\"black\", linewidth=1.3, alpha=0.7)\n",
    "\n",
    "# Turn frame off\n",
    "ax.set_frame_on(False)\n",
    "\n",
    "# Tight layout\n",
    "plt.tight_layout()"
   ]
  },
  {
   "cell_type": "code",
   "execution_count": null,
   "metadata": {
    "ExecuteTime": {
     "end_time": "2020-03-05T00:53:00.808189Z",
     "start_time": "2020-03-05T00:53:00.533315Z"
    }
   },
   "outputs": [],
   "source": [
    "# View the performance of the algorithm vs the number of features\n",
    "performance_curve.head(40)"
   ]
  },
  {
   "cell_type": "code",
   "execution_count": null,
   "metadata": {},
   "outputs": [],
   "source": [
    "# Select the optimal number of features\n",
    "num_features = 18"
   ]
  },
  {
   "cell_type": "code",
   "execution_count": null,
   "metadata": {},
   "outputs": [],
   "source": [
    "# Define pipeline for RFECV\n",
    "steps = [(\"scaler\", scaler), (\"classifier\", classifier)]\n",
    "pipe = PipelineRFE(steps = steps)\n",
    "\n",
    "# Initialize RFE object\n",
    "feature_selector = RFE(pipe, n_features_to_select = num_features, step = 1, verbose = 1)\n",
    "\n",
    "# Fit RFE\n",
    "feature_selector.fit(X_train, np.ravel(y_train))\n",
    "\n",
    "# Get selected features labels\n",
    "feature_names = X_train.columns\n",
    "selected_features = feature_names[feature_selector.support_].tolist()"
   ]
  },
  {
   "cell_type": "code",
   "execution_count": null,
   "metadata": {},
   "outputs": [],
   "source": [
    "# Get selected features data set\n",
    "X_train = X_train[selected_features]\n",
    "X_test = X_test[selected_features]\n",
    "\n",
    "# Train classifier\n",
    "classifier.fit(X_train, np.ravel(y_train))\n",
    "\n",
    "# Get feature importance\n",
    "feature_importance = pd.DataFrame(selected_features, columns = [\"Feature Label\"])\n",
    "feature_importance[\"Feature Importance\"] = classifier.feature_importances_\n",
    "\n",
    "# Sort by feature importance\n",
    "feature_importance = feature_importance.sort_values(by=\"Feature Importance\", ascending=False)\n",
    "\n",
    "# Set graph style\n",
    "sns.set(font_scale = 1.75)\n",
    "sns.set_style({\"axes.facecolor\": \"1.0\", \"axes.edgecolor\": \"0.85\", \"grid.color\": \"0.85\",\n",
    "               \"grid.linestyle\": \"-\", 'axes.labelcolor': '0.4', \"xtick.color\": \"0.4\",\n",
    "               'ytick.color': '0.4'})\n",
    "\n",
    "# Set figure size and create barplot\n",
    "f, ax = plt.subplots(figsize=(12, 9))\n",
    "sns.barplot(x = \"Feature Importance\", y = \"Feature Label\",\n",
    "            palette = reversed(sns.color_palette('YlOrRd', 15)),  data = feature_importance)\n",
    "\n",
    "# Generate a bolded horizontal line at y = 0\n",
    "ax.axvline(x = 0, color = 'black', linewidth = 4, alpha = .7)\n",
    "\n",
    "# Turn frame off\n",
    "ax.set_frame_on(False)\n",
    "\n",
    "# Tight layout\n",
    "plt.tight_layout()"
   ]
  },
  {
   "cell_type": "markdown",
   "metadata": {},
   "source": [
    "---\n",
    "\n",
    "# Model Deployment"
   ]
  },
  {
   "cell_type": "markdown",
   "metadata": {},
   "source": [
    "## Save Model"
   ]
  },
  {
   "cell_type": "code",
   "execution_count": null,
   "metadata": {
    "ExecuteTime": {
     "end_time": "2020-03-05T09:09:24.794235Z",
     "start_time": "2020-03-05T09:09:24.510993Z"
    }
   },
   "outputs": [],
   "source": [
    "# Deploy LDA\n",
    "# Score on test data : 63.7\n",
    "# AUC on test data: 69.5\n",
    "date = datetime.now().__str__()\n",
    "date = date.replace(\" \", \"_\").replace(\":\", \"_\").replace(\"-\", \"_\").replace(\".\", \"_\")\n",
    "model_name = \"_\".join([\"model\", \"lda\", date])\n",
    "joblib.dump(lda, model_name + \".pkl\")"
   ]
  },
  {
   "cell_type": "code",
   "execution_count": null,
   "metadata": {
    "ExecuteTime": {
     "end_time": "2020-03-15T03:30:35.641830Z",
     "start_time": "2020-03-15T03:30:35.427059Z"
    }
   },
   "outputs": [],
   "source": [
    "date = datetime.now().__str__()\n",
    "date = date.replace(\" \", \"_\").replace(\":\", \"_\").replace(\"-\", \"_\").replace(\".\", \"_\")\n",
    "model_name = \"_\".join([\"model\", \"xgb\", date])\n",
    "joblib.dump(xgb, model_name + \".pkl\")"
   ]
  },
  {
   "cell_type": "code",
   "execution_count": null,
   "metadata": {
    "ExecuteTime": {
     "end_time": "2020-03-15T20:21:53.553262Z",
     "start_time": "2020-03-15T20:21:52.719708Z"
    }
   },
   "outputs": [],
   "source": [
    "date = datetime.now().__str__()\n",
    "date = date.replace(\" \", \"_\").replace(\":\", \"_\").replace(\"-\", \"_\").replace(\".\", \"_\")\n",
    "model_name = \"_\".join([\"model\", \"rf\", date])\n",
    "joblib.dump(rf, model_name + \".pkl\")"
   ]
  },
  {
   "cell_type": "code",
   "execution_count": null,
   "metadata": {
    "lines_to_next_cell": 0
   },
   "outputs": [],
   "source": [
    "# TODO: model version control and auto-deployment\n",
    "# Save the model as a pickle in a file \n",
    "joblib.dump(model, 'model.pkl') "
   ]
  },
  {
   "cell_type": "code",
   "execution_count": null,
   "metadata": {
    "lines_to_next_cell": 2
   },
   "outputs": [],
   "source": [
    "match_predictor = joblib.load('./model_rf_2020_03_15_20_21_52_916182.pkl')"
   ]
  },
  {
   "cell_type": "code",
   "execution_count": null,
   "metadata": {},
   "outputs": [],
   "source": [
    "selected_cols = [\n",
    "    \"winner\",\n",
    "    \"dif_mean_elo\",\n",
    "    \"dif_stddev_elo\",\n",
    "    \"dif_num_paid_memberships\",\n",
    "    \"dif_num_solo_players\",\n",
    "    \"dif_num_parties\",\n",
    "    \"dif_num_new_players\",\n",
    "    \"dif_mean_matches\",\n",
    "    \"dif_mean_matches_on_map\",\n",
    "    \"dif_mean_winrate_on_map\",\n",
    "    \"dif_mean_kd_on_map\",\n",
    "    \"dif_mean_matches_map_preference\",\n",
    "    \"dif_mean_winrate_map_preference\",\n",
    "    \"dif_mean_kd_map_preference\",\n",
    "    \"dif_mean_matches_on_map_prev\",\n",
    "    \"dif_mean_winrate_prev\",\n",
    "    \"dif_multikills_score_prev\",\n",
    "    \"dif_mean_assists_prev\",\n",
    "    \"dif_mean_kd_prev\",\n",
    "    \"dif_mean_rating_prev\",\n",
    "    \"dif_mean_delta_rating_prev\",\n",
    "    \"dif_mean_interval_time_prev\",\n",
    "    \"dif_max_interval_time_prev\",\n",
    "    \"dif_mean_delta_elo_prev\",\n",
    "    \"dif_num_played_togthr_prev\",\n",
    "    \"dif_mean_first_matches_on_day\",\n",
    "    \"dif_mean_matches_on_day\",\n",
    "    \"dif_mean_played_map_on_day\",\n",
    "    \"dif_mean_created_at_faceit\",\n",
    "    \"dif_stddev_created_at_faceit\",\n",
    "    \"dif_min_created_at_faceit\",\n",
    "]\n",
    "\n",
    "data_processed_new = data_new[selected_cols]\n",
    "data_label_new = data_processed_new[\"winner\"]\n",
    "data_features_new = data_processed_new.drop(columns=[\"winner\", \"_id\"])"
   ]
  },
  {
   "cell_type": "code",
   "execution_count": null,
   "metadata": {},
   "outputs": [],
   "source": [
    "y_pred = classifier.predict(data_features_new)\n",
    "y_pred = y_pred > 0.5\n",
    "print(classification_report(data_label_new, y_pred))\n",
    "print(\"Test accuracy\", accuracy_score(data_label_new, y_pred))\n",
    "auc_score = roc_auc_score(data_label_new, classifier.predict(X_test).ravel())\n",
    "print(\"AUC Score\", auc_score)"
   ]
  }
 ],
 "metadata": {
  "interpreter": {
   "hash": "edaed6248b0f32b94d0199fc5dbdbd44040abee12f1bfab10571072dd86c73f9"
  },
  "jupytext": {
   "formats": "ipynb,py"
  },
  "kernelspec": {
   "display_name": "Python 3.8.0 64-bit",
   "name": "python3"
  },
  "language_info": {
   "codemirror_mode": {
    "name": "ipython",
    "version": 3
   },
   "file_extension": ".py",
   "mimetype": "text/x-python",
   "name": "python",
   "nbconvert_exporter": "python",
   "pygments_lexer": "ipython3",
   "version": "3.8.0"
  },
  "toc": {
   "base_numbering": 1,
   "nav_menu": {},
   "number_sections": true,
   "sideBar": true,
   "skip_h1_title": false,
   "title_cell": "Table of Contents",
   "title_sidebar": "Contents",
   "toc_cell": true,
   "toc_position": {
    "height": "calc(100% - 180px)",
    "left": "10px",
    "top": "150px",
    "width": "383.96px"
   },
   "toc_section_display": true,
   "toc_window_display": true
  },
  "varInspector": {
   "cols": {
    "lenName": 16,
    "lenType": 16,
    "lenVar": 40
   },
   "kernels_config": {
    "python": {
     "delete_cmd_postfix": "",
     "delete_cmd_prefix": "del ",
     "library": "var_list.py",
     "varRefreshCmd": "print(var_dic_list())"
    },
    "r": {
     "delete_cmd_postfix": ") ",
     "delete_cmd_prefix": "rm(",
     "library": "var_list.r",
     "varRefreshCmd": "cat(var_dic_list()) "
    }
   },
   "types_to_exclude": [
    "module",
    "function",
    "builtin_function_or_method",
    "instance",
    "_Feature"
   ],
   "window_display": false
  }
 },
 "nbformat": 4,
 "nbformat_minor": 2
}
