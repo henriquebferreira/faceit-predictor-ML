{
 "cells": [
  {
   "cell_type": "markdown",
   "metadata": {},
   "source": [
    "<h1 style=\"color:#ff5500; font-family:Play; font-size:3em; margin:auto 32px;align:center\">Part V - Model Selection</h1>\n",
    "\n",
    "---"
   ]
  },
  {
   "cell_type": "markdown",
   "metadata": {},
   "source": [
    "This document is a part of the FACEIT Predictor Data Science Workflow.\n",
    "\n",
    "In this notebook the Machine Learning Model is selected and its hyperparameters are tuned. Feature selection is also considered."
   ]
  },
  {
   "cell_type": "markdown",
   "metadata": {},
   "source": [
    "# Imports\n"
   ]
  },
  {
   "cell_type": "code",
   "execution_count": 120,
   "metadata": {},
   "outputs": [],
   "source": [
    "# Measure code execution time\n",
    "from time import time\n",
    "\n",
    "# Manage warnings\n",
    "import warnings\n",
    "\n",
    "# Data manipulation\n",
    "import pandas as pd\n",
    "import numpy as np\n",
    "\n",
    "# regex\n",
    "import re\n",
    "\n",
    "from datetime import datetime\n",
    "\n",
    "# Model Storage\n",
    "import joblib\n",
    "\n",
    "# Visualizations\n",
    "import seaborn as sns\n",
    "import matplotlib.pyplot as plt\n",
    "\n",
    "# Scalers\n",
    "from sklearn.preprocessing import StandardScaler\n",
    "\n",
    "# Model selection and hyperparameter tuning\n",
    "from sklearn.model_selection import train_test_split, cross_validate, RandomizedSearchCV, GridSearchCV\n",
    "\n",
    "# Feature selection\n",
    "from sklearn.feature_selection import RFECV\n",
    "\n",
    "# Classifiers\n",
    "from sklearn.discriminant_analysis import (\n",
    "    LinearDiscriminantAnalysis,\n",
    "    QuadraticDiscriminantAnalysis,\n",
    ")\n",
    "from sklearn.ensemble import (\n",
    "    AdaBoostClassifier,\n",
    "    BaggingClassifier,\n",
    "    ExtraTreesClassifier,\n",
    "    GradientBoostingClassifier,\n",
    "    RandomForestClassifier,\n",
    ")\n",
    "from sklearn.linear_model import RidgeClassifier, SGDClassifier, LogisticRegression\n",
    "from sklearn.naive_bayes import BernoulliNB, GaussianNB\n",
    "from sklearn.neighbors import KNeighborsClassifier\n",
    "from sklearn.neural_network import MLPClassifier\n",
    "from sklearn.svm import LinearSVC, NuSVC, SVC\n",
    "from sklearn.tree import DecisionTreeClassifier, ExtraTreeClassifier\n",
    "\n",
    "from xgboost import XGBClassifier\n",
    "\n",
    "# Stacking Classifier\n",
    "from sklearn.ensemble import StackingClassifier\n",
    "\n",
    "# Neural network libraries\n",
    "import keras\n",
    "from keras.models import Sequential\n",
    "from keras.layers import Dense\n",
    "from keras.layers import Dropout\n",
    "\n",
    "# Classifier metrics\n",
    "from sklearn.metrics import RocCurveDisplay, classification_report, roc_auc_score\n",
    "\n",
    "# enable imports from parent directory\n",
    "import sys\n",
    "import os\n",
    "from pathlib import Path\n",
    "sys.path.append(str(Path.cwd().parent))\n",
    "\n",
    "# import local modules\n",
    "from src.utils.loaders import read_data\n",
    "from src.utils.dirs import MODEL_DIR\n",
    "from src.utils.visualization import set_visualization_defaults, comp_featured_based_on_winner\n",
    "\n",
    "from IPython import get_ipython\n",
    "\n",
    "ipython = get_ipython()\n",
    "\n",
    "# autoreload extension\n",
    "if \"autoreload\" not in ipython.extension_manager.loaded:\n",
    "   %load_ext autoreload\n",
    "\n",
    "# autoreload python modules\n",
    "%autoreload 2"
   ]
  },
  {
   "cell_type": "code",
   "execution_count": 2,
   "metadata": {},
   "outputs": [],
   "source": [
    "set_visualization_defaults()"
   ]
  },
  {
   "cell_type": "code",
   "execution_count": 3,
   "metadata": {},
   "outputs": [],
   "source": [
    "SEED = 15"
   ]
  },
  {
   "cell_type": "markdown",
   "metadata": {},
   "source": [
    "# Load Processed Data"
   ]
  },
  {
   "cell_type": "code",
   "execution_count": 4,
   "metadata": {},
   "outputs": [],
   "source": [
    "data = read_data(\"processed\")"
   ]
  },
  {
   "cell_type": "code",
   "execution_count": 5,
   "metadata": {},
   "outputs": [],
   "source": [
    "X = data.drop(columns=[\"winner\", \"_id\"])\n",
    "y = data[\"winner\"]"
   ]
  },
  {
   "cell_type": "markdown",
   "metadata": {},
   "source": [
    "Scaling data is crucial for performance of some algorithms.\n",
    "\n",
    "**TODO: there are several scalers available. Which one should be used?**"
   ]
  },
  {
   "cell_type": "code",
   "execution_count": 6,
   "metadata": {},
   "outputs": [],
   "source": [
    "scaler = StandardScaler()\n",
    "X = pd.DataFrame(scaler.fit_transform(X), columns=X.columns)"
   ]
  },
  {
   "cell_type": "markdown",
   "metadata": {},
   "source": [
    "Split 70% of the data into the train dataset and the remaining 30% into the test dataset."
   ]
  },
  {
   "cell_type": "code",
   "execution_count": 7,
   "metadata": {},
   "outputs": [],
   "source": [
    "X_train, X_test, y_train, y_test = train_test_split(X, y, test_size=0.3, random_state=SEED)"
   ]
  },
  {
   "cell_type": "code",
   "execution_count": 8,
   "metadata": {},
   "outputs": [
    {
     "name": "stdout",
     "output_type": "stream",
     "text": [
      "X_train shape: (48241, 47)\n",
      "X_test shape: (20676, 47)\n"
     ]
    }
   ],
   "source": [
    "print(\"X_train shape:\", X_train.shape)\n",
    "print(\"X_test shape:\", X_test.shape)"
   ]
  },
  {
   "cell_type": "markdown",
   "metadata": {},
   "source": [
    "# Baseline Model"
   ]
  },
  {
   "cell_type": "code",
   "execution_count": 9,
   "metadata": {},
   "outputs": [],
   "source": [
    "rf = RandomForestClassifier(random_state=SEED)"
   ]
  },
  {
   "cell_type": "code",
   "execution_count": 10,
   "metadata": {},
   "outputs": [],
   "source": [
    "rf.fit(X_train, y_train);"
   ]
  },
  {
   "cell_type": "markdown",
   "metadata": {},
   "source": [
    "## Evaluation Fundamentals"
   ]
  },
  {
   "cell_type": "markdown",
   "metadata": {},
   "source": [
    "Too evaluate a classification model the five most common metrics are:\n",
    "\n",
    "* Accuracy\n",
    "* Precision\n",
    "* Recall\n",
    "* F1-Score\n",
    "* AUC (Area under the ROC curve)\n",
    "\n",
    "**TODO: talk about the most important measures and how they will be presented**"
   ]
  },
  {
   "cell_type": "code",
   "execution_count": 11,
   "metadata": {},
   "outputs": [],
   "source": [
    "def print_metrics(model, X_train, y_train, X_test, y_test):\n",
    "    pred = model.predict(X_test)\n",
    "\n",
    "    report = classification_report(y_test, pred, output_dict=True)\n",
    "\n",
    "    test_acc = report.pop(\"accuracy\")\n",
    "    train_acc = model.score(X_train, y_train)\n",
    "\n",
    "    report_df = pd.DataFrame(report)\n",
    "    \n",
    "    display(report_df.style.set_caption('Classification Report'))\n",
    "    \n",
    "    print(f\"Train Accuracy: {train_acc:.4f}\\t\\tTest Accuracy: {test_acc:.4f}\")\n",
    "    roc_graph = RocCurveDisplay.from_estimator(rf, X_test, y_test)\n",
    "    roc_graph.ax_.set_title(f'AUC: {roc_graph.roc_auc}')\n",
    "    roc_graph.ax_.get_legend().remove()\n",
    "    roc_graph.figure_.set_size_inches(8, 6)"
   ]
  },
  {
   "cell_type": "code",
   "execution_count": 12,
   "metadata": {},
   "outputs": [
    {
     "data": {
      "text/html": [
       "<style  type=\"text/css\" >\n",
       "</style><table id=\"T_8dbbd421_3527_11ec_a00c_d4258b2a60f6\" ><caption>Classification Report</caption><thead>    <tr>        <th class=\"blank level0\" ></th>        <th class=\"col_heading level0 col0\" >0</th>        <th class=\"col_heading level0 col1\" >1</th>        <th class=\"col_heading level0 col2\" >macro avg</th>        <th class=\"col_heading level0 col3\" >weighted avg</th>    </tr></thead><tbody>\n",
       "                <tr>\n",
       "                        <th id=\"T_8dbbd421_3527_11ec_a00c_d4258b2a60f6level0_row0\" class=\"row_heading level0 row0\" >precision</th>\n",
       "                        <td id=\"T_8dbbd421_3527_11ec_a00c_d4258b2a60f6row0_col0\" class=\"data row0 col0\" >0.602503</td>\n",
       "                        <td id=\"T_8dbbd421_3527_11ec_a00c_d4258b2a60f6row0_col1\" class=\"data row0 col1\" >0.607463</td>\n",
       "                        <td id=\"T_8dbbd421_3527_11ec_a00c_d4258b2a60f6row0_col2\" class=\"data row0 col2\" >0.604983</td>\n",
       "                        <td id=\"T_8dbbd421_3527_11ec_a00c_d4258b2a60f6row0_col3\" class=\"data row0 col3\" >0.604969</td>\n",
       "            </tr>\n",
       "            <tr>\n",
       "                        <th id=\"T_8dbbd421_3527_11ec_a00c_d4258b2a60f6level0_row1\" class=\"row_heading level0 row1\" >recall</th>\n",
       "                        <td id=\"T_8dbbd421_3527_11ec_a00c_d4258b2a60f6row1_col0\" class=\"data row1 col0\" >0.629736</td>\n",
       "                        <td id=\"T_8dbbd421_3527_11ec_a00c_d4258b2a60f6row1_col1\" class=\"data row1 col1\" >0.579685</td>\n",
       "                        <td id=\"T_8dbbd421_3527_11ec_a00c_d4258b2a60f6row1_col2\" class=\"data row1 col2\" >0.604711</td>\n",
       "                        <td id=\"T_8dbbd421_3527_11ec_a00c_d4258b2a60f6row1_col3\" class=\"data row1 col3\" >0.604856</td>\n",
       "            </tr>\n",
       "            <tr>\n",
       "                        <th id=\"T_8dbbd421_3527_11ec_a00c_d4258b2a60f6level0_row2\" class=\"row_heading level0 row2\" >f1-score</th>\n",
       "                        <td id=\"T_8dbbd421_3527_11ec_a00c_d4258b2a60f6row2_col0\" class=\"data row2 col0\" >0.615819</td>\n",
       "                        <td id=\"T_8dbbd421_3527_11ec_a00c_d4258b2a60f6row2_col1\" class=\"data row2 col1\" >0.593249</td>\n",
       "                        <td id=\"T_8dbbd421_3527_11ec_a00c_d4258b2a60f6row2_col2\" class=\"data row2 col2\" >0.604534</td>\n",
       "                        <td id=\"T_8dbbd421_3527_11ec_a00c_d4258b2a60f6row2_col3\" class=\"data row2 col3\" >0.604599</td>\n",
       "            </tr>\n",
       "            <tr>\n",
       "                        <th id=\"T_8dbbd421_3527_11ec_a00c_d4258b2a60f6level0_row3\" class=\"row_heading level0 row3\" >support</th>\n",
       "                        <td id=\"T_8dbbd421_3527_11ec_a00c_d4258b2a60f6row3_col0\" class=\"data row3 col0\" >10398.000000</td>\n",
       "                        <td id=\"T_8dbbd421_3527_11ec_a00c_d4258b2a60f6row3_col1\" class=\"data row3 col1\" >10278.000000</td>\n",
       "                        <td id=\"T_8dbbd421_3527_11ec_a00c_d4258b2a60f6row3_col2\" class=\"data row3 col2\" >20676.000000</td>\n",
       "                        <td id=\"T_8dbbd421_3527_11ec_a00c_d4258b2a60f6row3_col3\" class=\"data row3 col3\" >20676.000000</td>\n",
       "            </tr>\n",
       "    </tbody></table>"
      ],
      "text/plain": [
       "<pandas.io.formats.style.Styler at 0x17a28095f40>"
      ]
     },
     "metadata": {},
     "output_type": "display_data"
    },
    {
     "name": "stdout",
     "output_type": "stream",
     "text": [
      "Train Accuracy: 1.0000\t\tTest Accuracy: 0.6049\n"
     ]
    },
    {
     "data": {
      "image/png": "[encoded data removed]",
      "text/plain": [
       "<Figure size 576x432 with 1 Axes>"
      ]
     },
     "metadata": {},
     "output_type": "display_data"
    }
   ],
   "source": [
    "print_metrics(rf, X_train, y_train, X_test, y_test)"
   ]
  },
  {
   "cell_type": "code",
   "execution_count": 13,
   "metadata": {},
   "outputs": [
    {
     "data": {
      "text/html": [
       "<div>\n",
       "<style scoped>\n",
       "    .dataframe tbody tr th:only-of-type {\n",
       "        vertical-align: middle;\n",
       "    }\n",
       "\n",
       "    .dataframe tbody tr th {\n",
       "        vertical-align: top;\n",
       "    }\n",
       "\n",
       "    .dataframe thead th {\n",
       "        text-align: right;\n",
       "    }\n",
       "</style>\n",
       "<table border=\"1\" class=\"dataframe\">\n",
       "  <thead>\n",
       "    <tr style=\"text-align: right;\">\n",
       "      <th></th>\n",
       "      <th>features</th>\n",
       "      <th>importances</th>\n",
       "    </tr>\n",
       "  </thead>\n",
       "  <tbody>\n",
       "    <tr>\n",
       "      <th>3</th>\n",
       "      <td>dif_mean_elo</td>\n",
       "      <td>0.045815</td>\n",
       "    </tr>\n",
       "    <tr>\n",
       "      <th>29</th>\n",
       "      <td>dif_mean_weighted_kd_by_elo_prev</td>\n",
       "      <td>0.037468</td>\n",
       "    </tr>\n",
       "    <tr>\n",
       "      <th>31</th>\n",
       "      <td>dif_mean_rating_prev</td>\n",
       "      <td>0.028639</td>\n",
       "    </tr>\n",
       "    <tr>\n",
       "      <th>15</th>\n",
       "      <td>dif_mean_kd_on_map</td>\n",
       "      <td>0.028203</td>\n",
       "    </tr>\n",
       "    <tr>\n",
       "      <th>13</th>\n",
       "      <td>dif_mean_matches_on_map</td>\n",
       "      <td>0.028156</td>\n",
       "    </tr>\n",
       "    <tr>\n",
       "      <th>18</th>\n",
       "      <td>dif_mean_matches_map_preference</td>\n",
       "      <td>0.027384</td>\n",
       "    </tr>\n",
       "    <tr>\n",
       "      <th>28</th>\n",
       "      <td>dif_mean_kd_prev</td>\n",
       "      <td>0.027312</td>\n",
       "    </tr>\n",
       "    <tr>\n",
       "      <th>4</th>\n",
       "      <td>dif_stddev_elo</td>\n",
       "      <td>0.027251</td>\n",
       "    </tr>\n",
       "    <tr>\n",
       "      <th>9</th>\n",
       "      <td>dif_mean_winrate</td>\n",
       "      <td>0.026969</td>\n",
       "    </tr>\n",
       "    <tr>\n",
       "      <th>38</th>\n",
       "      <td>dif_mean_dif_elo_prev</td>\n",
       "      <td>0.026955</td>\n",
       "    </tr>\n",
       "    <tr>\n",
       "      <th>14</th>\n",
       "      <td>dif_mean_winrate_on_map</td>\n",
       "      <td>0.026605</td>\n",
       "    </tr>\n",
       "    <tr>\n",
       "      <th>8</th>\n",
       "      <td>dif_mean_matches</td>\n",
       "      <td>0.025832</td>\n",
       "    </tr>\n",
       "    <tr>\n",
       "      <th>30</th>\n",
       "      <td>dif_multikills_score_prev</td>\n",
       "      <td>0.025822</td>\n",
       "    </tr>\n",
       "    <tr>\n",
       "      <th>0</th>\n",
       "      <td>match_mean_elo</td>\n",
       "      <td>0.025675</td>\n",
       "    </tr>\n",
       "    <tr>\n",
       "      <th>17</th>\n",
       "      <td>dif_mean_rating_on_map</td>\n",
       "      <td>0.025559</td>\n",
       "    </tr>\n",
       "    <tr>\n",
       "      <th>36</th>\n",
       "      <td>dif_mean_delta_elo_prev</td>\n",
       "      <td>0.025386</td>\n",
       "    </tr>\n",
       "    <tr>\n",
       "      <th>10</th>\n",
       "      <td>dif_mean_kd</td>\n",
       "      <td>0.024932</td>\n",
       "    </tr>\n",
       "    <tr>\n",
       "      <th>23</th>\n",
       "      <td>dif_mean_created_at_faceit</td>\n",
       "      <td>0.024603</td>\n",
       "    </tr>\n",
       "    <tr>\n",
       "      <th>24</th>\n",
       "      <td>dif_stddev_created_at_faceit</td>\n",
       "      <td>0.024405</td>\n",
       "    </tr>\n",
       "    <tr>\n",
       "      <th>37</th>\n",
       "      <td>dif_mean_dif_rounds_prev</td>\n",
       "      <td>0.024222</td>\n",
       "    </tr>\n",
       "  </tbody>\n",
       "</table>\n",
       "</div>"
      ],
      "text/plain": [
       "                            features  importances\n",
       "3                       dif_mean_elo     0.045815\n",
       "29  dif_mean_weighted_kd_by_elo_prev     0.037468\n",
       "31              dif_mean_rating_prev     0.028639\n",
       "15                dif_mean_kd_on_map     0.028203\n",
       "13           dif_mean_matches_on_map     0.028156\n",
       "18   dif_mean_matches_map_preference     0.027384\n",
       "28                  dif_mean_kd_prev     0.027312\n",
       "4                     dif_stddev_elo     0.027251\n",
       "9                   dif_mean_winrate     0.026969\n",
       "38             dif_mean_dif_elo_prev     0.026955\n",
       "14           dif_mean_winrate_on_map     0.026605\n",
       "8                   dif_mean_matches     0.025832\n",
       "30         dif_multikills_score_prev     0.025822\n",
       "0                     match_mean_elo     0.025675\n",
       "17            dif_mean_rating_on_map     0.025559\n",
       "36           dif_mean_delta_elo_prev     0.025386\n",
       "10                       dif_mean_kd     0.024932\n",
       "23        dif_mean_created_at_faceit     0.024603\n",
       "24      dif_stddev_created_at_faceit     0.024405\n",
       "37          dif_mean_dif_rounds_prev     0.024222"
      ]
     },
     "execution_count": 13,
     "metadata": {},
     "output_type": "execute_result"
    }
   ],
   "source": [
    "feature_importances_df = pd.DataFrame({\"features\":X_train.columns, \"importances\":rf.feature_importances_})\n",
    "feature_importances_df.sort_values(by=\"importances\", ascending=False).head(20)"
   ]
  },
  {
   "cell_type": "markdown",
   "metadata": {},
   "source": [
    "# Traditional Classifiers (Sklearn)"
   ]
  },
  {
   "cell_type": "code",
   "execution_count": 85,
   "metadata": {},
   "outputs": [],
   "source": [
    "clfs = {}\n",
    "clfs.update({\"Linear Disc. Analysis\": LinearDiscriminantAnalysis()})\n",
    "clfs.update({\"AdaBoost\": AdaBoostClassifier(random_state=SEED)})\n",
    "clfs.update({\"Bagging\": BaggingClassifier(random_state=SEED)})\n",
    "clfs.update({\"Extra Trees Ensemble\": ExtraTreesClassifier(random_state=SEED)})\n",
    "clfs.update({\"Gradient Boosting\": GradientBoostingClassifier(random_state=SEED)})\n",
    "clfs.update({\"Random Forest\": RandomForestClassifier(random_state=SEED)})\n",
    "clfs.update({\"Ridge\": RidgeClassifier(random_state=SEED)})\n",
    "clfs.update({\"Logistic Regression\": LogisticRegression(random_state=SEED)})\n",
    "clfs.update({\"BernoulliNB\": BernoulliNB()})\n",
    "clfs.update({\"Multi Layer Perceptron\": MLPClassifier(random_state=SEED)})\n",
    "clfs.update({\"Linear SVC\": LinearSVC(random_state=SEED)})\n",
    "clfs.update({\"Decision Tree\": DecisionTreeClassifier(random_state=SEED)})\n",
    "clfs.update({\"Extra Tree\": ExtraTreeClassifier(random_state=SEED)})\n",
    "clfs.update({\"XGB\": XGBClassifier(random_state=SEED)})\n",
    "\n",
    "\n",
    "# Create dict for classifiers with feature_importances_ attribute\n",
    "has_feature_importances = {\n",
    "    \"AdaBoost\",\n",
    "    \"Extra Trees Ensemble\",\n",
    "    \"Gradient Boosting\",\n",
    "    \"Random Forest\",\n",
    "    \"Decision Tree\",\n",
    "    \"Extra Tree\",\n",
    "    \"XGB\",\n",
    "}"
   ]
  },
  {
   "cell_type": "code",
   "execution_count": 20,
   "metadata": {},
   "outputs": [],
   "source": [
    "warnings.filterwarnings(\"ignore\")\n",
    "\n",
    "scoring_metrics = ('accuracy', 'roc_auc')\n",
    "cv_folds = 5"
   ]
  },
  {
   "cell_type": "code",
   "execution_count": 17,
   "metadata": {},
   "outputs": [
    {
     "name": "stdout",
     "output_type": "stream",
     "text": [
      "Fitting Linear Disc. Analysis\n",
      "Fitting AdaBoost\n",
      "Fitting Bagging\n",
      "Fitting Extra Trees Ensemble\n",
      "Fitting Gradient Boosting\n",
      "Fitting Random Forest\n",
      "Fitting Ridge\n",
      "Fitting Logistic Regression\n",
      "Fitting BernoulliNB\n",
      "Fitting Multi Layer Perceptron\n",
      "Fitting Linear SVC\n",
      "Fitting Decision Tree\n",
      "Fitting Extra Tree\n",
      "Fitting XGB\n"
     ]
    }
   ],
   "source": [
    "clfs_df, fts_imp_df = [], []\n",
    "\n",
    "for name, clf in clfs.items():\n",
    "    print(\"Fitting\", name)\n",
    "\n",
    "    index = pd.MultiIndex.from_product([[name], range(cv_folds)], names=[\"classifier\", \"fold_number\"])\n",
    "    output = cross_validate(clf, X_train, y_train, cv=cv_folds, scoring=scoring_metrics, return_train_score=True, return_estimator=True)\n",
    "\n",
    "    clfs_df.append(pd.DataFrame(output, index=index))\n",
    "\n",
    "    if name in has_feature_importances:\n",
    "        fts_imp_df.append(pd.DataFrame([e.feature_importances_ for e in output[\"estimator\"]], index=index, columns=X_train.columns))\n",
    "\n",
    "\n",
    "clfs_df = pd.concat(clfs_df)\n",
    "fts_imp_df = pd.concat(fts_imp_df)"
   ]
  },
  {
   "cell_type": "code",
   "execution_count": 18,
   "metadata": {},
   "outputs": [
    {
     "data": {
      "text/html": [
       "<div>\n",
       "<style scoped>\n",
       "    .dataframe tbody tr th:only-of-type {\n",
       "        vertical-align: middle;\n",
       "    }\n",
       "\n",
       "    .dataframe tbody tr th {\n",
       "        vertical-align: top;\n",
       "    }\n",
       "\n",
       "    .dataframe thead th {\n",
       "        text-align: right;\n",
       "    }\n",
       "</style>\n",
       "<table border=\"1\" class=\"dataframe\">\n",
       "  <thead>\n",
       "    <tr style=\"text-align: right;\">\n",
       "      <th></th>\n",
       "      <th>fit_time</th>\n",
       "      <th>score_time</th>\n",
       "      <th>test_accuracy</th>\n",
       "      <th>train_accuracy</th>\n",
       "      <th>test_roc_auc</th>\n",
       "      <th>train_roc_auc</th>\n",
       "    </tr>\n",
       "    <tr>\n",
       "      <th>classifier</th>\n",
       "      <th></th>\n",
       "      <th></th>\n",
       "      <th></th>\n",
       "      <th></th>\n",
       "      <th></th>\n",
       "      <th></th>\n",
       "    </tr>\n",
       "  </thead>\n",
       "  <tbody>\n",
       "    <tr>\n",
       "      <th>Linear SVC</th>\n",
       "      <td>12.946416</td>\n",
       "      <td>0.011935</td>\n",
       "      <td>0.616915</td>\n",
       "      <td>0.616848</td>\n",
       "      <td>0.666948</td>\n",
       "      <td>0.667455</td>\n",
       "    </tr>\n",
       "    <tr>\n",
       "      <th>Ridge</th>\n",
       "      <td>0.082778</td>\n",
       "      <td>0.010974</td>\n",
       "      <td>0.615775</td>\n",
       "      <td>0.616718</td>\n",
       "      <td>0.666692</td>\n",
       "      <td>0.667275</td>\n",
       "    </tr>\n",
       "    <tr>\n",
       "      <th>Linear Disc. Analysis</th>\n",
       "      <td>0.338065</td>\n",
       "      <td>0.009722</td>\n",
       "      <td>0.615568</td>\n",
       "      <td>0.616744</td>\n",
       "      <td>0.666696</td>\n",
       "      <td>0.667275</td>\n",
       "    </tr>\n",
       "    <tr>\n",
       "      <th>Logistic Regression</th>\n",
       "      <td>0.773940</td>\n",
       "      <td>0.009976</td>\n",
       "      <td>0.615568</td>\n",
       "      <td>0.617677</td>\n",
       "      <td>0.667274</td>\n",
       "      <td>0.667575</td>\n",
       "    </tr>\n",
       "    <tr>\n",
       "      <th>Gradient Boosting</th>\n",
       "      <td>45.823507</td>\n",
       "      <td>0.046902</td>\n",
       "      <td>0.610075</td>\n",
       "      <td>0.633586</td>\n",
       "      <td>0.661058</td>\n",
       "      <td>0.690388</td>\n",
       "    </tr>\n",
       "    <tr>\n",
       "      <th>AdaBoost</th>\n",
       "      <td>8.677763</td>\n",
       "      <td>0.230384</td>\n",
       "      <td>0.608624</td>\n",
       "      <td>0.617755</td>\n",
       "      <td>0.656199</td>\n",
       "      <td>0.668735</td>\n",
       "    </tr>\n",
       "    <tr>\n",
       "      <th>Extra Trees Ensemble</th>\n",
       "      <td>9.487636</td>\n",
       "      <td>0.930513</td>\n",
       "      <td>0.600435</td>\n",
       "      <td>1.000000</td>\n",
       "      <td>0.641126</td>\n",
       "      <td>1.000000</td>\n",
       "    </tr>\n",
       "    <tr>\n",
       "      <th>Random Forest</th>\n",
       "      <td>21.255143</td>\n",
       "      <td>0.617350</td>\n",
       "      <td>0.597948</td>\n",
       "      <td>1.000000</td>\n",
       "      <td>0.646246</td>\n",
       "      <td>1.000000</td>\n",
       "    </tr>\n",
       "    <tr>\n",
       "      <th>XGB</th>\n",
       "      <td>6.578411</td>\n",
       "      <td>0.076795</td>\n",
       "      <td>0.592040</td>\n",
       "      <td>0.802918</td>\n",
       "      <td>0.634492</td>\n",
       "      <td>0.892105</td>\n",
       "    </tr>\n",
       "    <tr>\n",
       "      <th>BernoulliNB</th>\n",
       "      <td>0.061866</td>\n",
       "      <td>0.031918</td>\n",
       "      <td>0.591625</td>\n",
       "      <td>0.590677</td>\n",
       "      <td>0.628062</td>\n",
       "      <td>0.626581</td>\n",
       "    </tr>\n",
       "    <tr>\n",
       "      <th>Multi Layer Perceptron</th>\n",
       "      <td>64.428667</td>\n",
       "      <td>0.038897</td>\n",
       "      <td>0.586961</td>\n",
       "      <td>0.697588</td>\n",
       "      <td>0.623353</td>\n",
       "      <td>0.772103</td>\n",
       "    </tr>\n",
       "    <tr>\n",
       "      <th>Bagging</th>\n",
       "      <td>14.813425</td>\n",
       "      <td>0.120677</td>\n",
       "      <td>0.570066</td>\n",
       "      <td>0.984841</td>\n",
       "      <td>0.600392</td>\n",
       "      <td>0.999042</td>\n",
       "    </tr>\n",
       "    <tr>\n",
       "      <th>Decision Tree</th>\n",
       "      <td>2.481333</td>\n",
       "      <td>0.015989</td>\n",
       "      <td>0.538190</td>\n",
       "      <td>1.000000</td>\n",
       "      <td>0.538134</td>\n",
       "      <td>1.000000</td>\n",
       "    </tr>\n",
       "    <tr>\n",
       "      <th>Extra Tree</th>\n",
       "      <td>0.111713</td>\n",
       "      <td>0.018948</td>\n",
       "      <td>0.527467</td>\n",
       "      <td>1.000000</td>\n",
       "      <td>0.527442</td>\n",
       "      <td>1.000000</td>\n",
       "    </tr>\n",
       "  </tbody>\n",
       "</table>\n",
       "</div>"
      ],
      "text/plain": [
       "                         fit_time  score_time  test_accuracy  train_accuracy  \\\n",
       "classifier                                                                     \n",
       "Linear SVC              12.946416    0.011935       0.616915        0.616848   \n",
       "Ridge                    0.082778    0.010974       0.615775        0.616718   \n",
       "Linear Disc. Analysis    0.338065    0.009722       0.615568        0.616744   \n",
       "Logistic Regression      0.773940    0.009976       0.615568        0.617677   \n",
       "Gradient Boosting       45.823507    0.046902       0.610075        0.633586   \n",
       "AdaBoost                 8.677763    0.230384       0.608624        0.617755   \n",
       "Extra Trees Ensemble     9.487636    0.930513       0.600435        1.000000   \n",
       "Random Forest           21.255143    0.617350       0.597948        1.000000   \n",
       "XGB                      6.578411    0.076795       0.592040        0.802918   \n",
       "BernoulliNB              0.061866    0.031918       0.591625        0.590677   \n",
       "Multi Layer Perceptron  64.428667    0.038897       0.586961        0.697588   \n",
       "Bagging                 14.813425    0.120677       0.570066        0.984841   \n",
       "Decision Tree            2.481333    0.015989       0.538190        1.000000   \n",
       "Extra Tree               0.111713    0.018948       0.527467        1.000000   \n",
       "\n",
       "                        test_roc_auc  train_roc_auc  \n",
       "classifier                                           \n",
       "Linear SVC                  0.666948       0.667455  \n",
       "Ridge                       0.666692       0.667275  \n",
       "Linear Disc. Analysis       0.666696       0.667275  \n",
       "Logistic Regression         0.667274       0.667575  \n",
       "Gradient Boosting           0.661058       0.690388  \n",
       "AdaBoost                    0.656199       0.668735  \n",
       "Extra Trees Ensemble        0.641126       1.000000  \n",
       "Random Forest               0.646246       1.000000  \n",
       "XGB                         0.634492       0.892105  \n",
       "BernoulliNB                 0.628062       0.626581  \n",
       "Multi Layer Perceptron      0.623353       0.772103  \n",
       "Bagging                     0.600392       0.999042  \n",
       "Decision Tree               0.538134       1.000000  \n",
       "Extra Tree                  0.527442       1.000000  "
      ]
     },
     "execution_count": 18,
     "metadata": {},
     "output_type": "execute_result"
    }
   ],
   "source": [
    "ordered_clfs_df = clfs_df.groupby(by=\"classifier\").median().sort_values(by=\"test_accuracy\", ascending=False)\n",
    "ordered_clfs_df"
   ]
  },
  {
   "cell_type": "code",
   "execution_count": 19,
   "metadata": {},
   "outputs": [],
   "source": [
    "# 'Ignore' fold number index\n",
    "classifiers_indexes = clfs_df.index.get_level_values(level=0)"
   ]
  },
  {
   "cell_type": "code",
   "execution_count": 20,
   "metadata": {},
   "outputs": [
    {
     "data": {
      "image/png": "[encoded data removed]",
      "text/plain": [
       "<Figure size 864x432 with 1 Axes>"
      ]
     },
     "metadata": {},
     "output_type": "display_data"
    }
   ],
   "source": [
    "plt.figure(figsize=(12,6))\n",
    "\n",
    "styling_props = {\"whiskerprops\":{\"color\":\"gray\"}, \"capprops\":{\"color\":\"gray\"}, \"flierprops\":{\"markerfacecolor\":\"gray\"}}\n",
    "\n",
    "ax = sns.boxplot(x=clfs_df.test_accuracy, y=classifiers_indexes, order=ordered_clfs_df.index, palette=\"gist_heat\", **styling_props)\n",
    "plt.tight_layout()"
   ]
  },
  {
   "cell_type": "code",
   "execution_count": 19,
   "metadata": {},
   "outputs": [
    {
     "data": {
      "image/png": "[encoded data removed]",
      "text/plain": [
       "<Figure size 864x432 with 1 Axes>"
      ]
     },
     "metadata": {},
     "output_type": "display_data"
    }
   ],
   "source": [
    "plt.figure(figsize=(12,6))\n",
    "ax = sns.boxplot(x=clfs_df.test_roc_auc, y=classifiers_indexes, order=ordered_clfs_df.index, palette=\"gist_heat\", **styling_props)\n",
    "plt.tight_layout()"
   ]
  },
  {
   "cell_type": "code",
   "execution_count": 115,
   "metadata": {},
   "outputs": [],
   "source": [
    "ordered_fts_imp_df = fts_imp_df.median().sort_values(ascending=False)"
   ]
  },
  {
   "cell_type": "code",
   "execution_count": 237,
   "metadata": {},
   "outputs": [
    {
     "data": {
      "image/png": "[encoded data removed]",
      "text/plain": [
       "<Figure size 864x1152 with 1 Axes>"
      ]
     },
     "metadata": {},
     "output_type": "display_data"
    }
   ],
   "source": [
    "plt.figure(figsize=(12,16))\n",
    "ax = sns.boxplot(\n",
    "    data=fts_imp_df.melt(),\n",
    "    y=\"variable\",\n",
    "    x=\"value\",\n",
    "    order=ordered_fts_imp_df.index,\n",
    "    palette=\"gist_heat\",\n",
    "    **styling_props)\n",
    "    \n",
    "ax.set_ylabel(\"Feature Name\")\n",
    "ax.set_xlabel(\"Feature Importance\")\n",
    "plt.tight_layout()"
   ]
  },
  {
   "cell_type": "markdown",
   "metadata": {},
   "source": [
    "Write about most promising algorithms based on the results and take into account the algorithms that usually yield better results (such as in Kaggle competitions).\n",
    "\n",
    "Get Feature importance for the several tree-based algorithms."
   ]
  },
  {
   "cell_type": "markdown",
   "metadata": {},
   "source": [
    "## Inital Hyperparameter Tuning"
   ]
  },
  {
   "cell_type": "markdown",
   "metadata": {},
   "source": [
    "Perform simple hyperparameter tuning on a small range of parameters of the best or most promising algorithms before going into feature selection.\n",
    "\n",
    "There are some highly regarded algorithms such as XGBoost that currently have a subpar performance, probably due to inadequate hyperparameters. So, using the *raw* and *untuned* version of XGBoost during Feature Selection will propagate such errors and lead to an non-optimal solution."
   ]
  },
  {
   "cell_type": "code",
   "execution_count": null,
   "metadata": {},
   "outputs": [],
   "source": [
    "# Baseline  Test acc    Train acc   Test auc    Train auc\n",
    "# XGB\t    0.592040\t0.802918\t0.634492\t0.892105"
   ]
  },
  {
   "cell_type": "code",
   "execution_count": 255,
   "metadata": {},
   "outputs": [],
   "source": [
    "xgb_params = {\n",
    "    \"learning_rate\": [0.01, 0.05],\n",
    "    \"n_estimators\":[50, 100],\n",
    "    'max_depth':range(3,10,2),\n",
    "    'min_child_weight':range(1,6,2)\n",
    "}"
   ]
  },
  {
   "cell_type": "code",
   "execution_count": 256,
   "metadata": {},
   "outputs": [
    {
     "name": "stdout",
     "output_type": "stream",
     "text": [
      "Fitting 5 folds for each of 48 candidates, totalling 240 fits\n"
     ]
    },
    {
     "data": {
      "text/plain": [
       "GridSearchCV(cv=5,\n",
       "             estimator=XGBClassifier(base_score=None, booster=None,\n",
       "                                     colsample_bylevel=None,\n",
       "                                     colsample_bynode=None,\n",
       "                                     colsample_bytree=None, gamma=None,\n",
       "                                     gpu_id=None, importance_type='gain',\n",
       "                                     interaction_constraints=None,\n",
       "                                     learning_rate=None, max_delta_step=None,\n",
       "                                     max_depth=None, min_child_weight=None,\n",
       "                                     missing=nan, monotone_constraints=None,\n",
       "                                     n_estimators=100, n_jobs...\n",
       "                                     num_parallel_tree=None, random_state=15,\n",
       "                                     reg_alpha=None, reg_lambda=None,\n",
       "                                     scale_pos_weight=None, subsample=None,\n",
       "                                     tree_method=None, validate_parameters=None,\n",
       "                                     verbosity=None),\n",
       "             n_jobs=-1,\n",
       "             param_grid={'learning_rate': [0.01, 0.05],\n",
       "                         'max_depth': range(3, 10, 2),\n",
       "                         'min_child_weight': range(1, 6, 2),\n",
       "                         'n_estimators': [50, 100]},\n",
       "             refit='roc_auc', return_train_score=True,\n",
       "             scoring=('accuracy', 'roc_auc'), verbose=1)"
      ]
     },
     "execution_count": 256,
     "metadata": {},
     "output_type": "execute_result"
    }
   ],
   "source": [
    "xgb = XGBClassifier(random_state=SEED)\n",
    "gs = GridSearchCV(estimator=xgb, param_grid = xgb_params, cv=cv_folds, scoring=scoring_metrics, refit='roc_auc', n_jobs=-1, return_train_score=True, verbose=2)\n",
    "\n",
    "gs.fit(X_train, y_train);"
   ]
  },
  {
   "cell_type": "code",
   "execution_count": 257,
   "metadata": {},
   "outputs": [
    {
     "name": "stdout",
     "output_type": "stream",
     "text": [
      "Best AUC: 0.6599407272687627\n",
      "Best XGB params: {'learning_rate': 0.05, 'max_depth': 5, 'min_child_weight': 5, 'n_estimators': 100}\n"
     ]
    }
   ],
   "source": [
    "print(\"Best AUC:\", gs.best_score_)\n",
    "print(\"Best XGB params:\", gs.best_params_)\n",
    "best_xgb = gs.best_estimator_"
   ]
  },
  {
   "cell_type": "markdown",
   "metadata": {},
   "source": [
    "## Feature Selection"
   ]
  },
  {
   "cell_type": "markdown",
   "metadata": {},
   "source": [
    "Recursive feature elimination with cross-validation to select the number of features."
   ]
  },
  {
   "cell_type": "code",
   "execution_count": 260,
   "metadata": {},
   "outputs": [
    {
     "data": {
      "text/plain": [
       "RFECV(cv=5,\n",
       "      estimator=XGBClassifier(base_score=0.5, booster='gbtree',\n",
       "                              colsample_bylevel=1, colsample_bynode=1,\n",
       "                              colsample_bytree=1, gamma=0, gpu_id=-1,\n",
       "                              importance_type='gain',\n",
       "                              interaction_constraints='', learning_rate=0.05,\n",
       "                              max_delta_step=0, max_depth=5, min_child_weight=5,\n",
       "                              missing=nan, monotone_constraints='()',\n",
       "                              n_estimators=100, n_jobs=0, num_parallel_tree=1,\n",
       "                              random_state=15, reg_alpha=0, reg_lambda=1,\n",
       "                              scale_pos_weight=1, subsample=1,\n",
       "                              tree_method='exact', validate_parameters=1,\n",
       "                              verbosity=None),\n",
       "      scoring='roc_auc')"
      ]
     },
     "execution_count": 260,
     "metadata": {},
     "output_type": "execute_result"
    }
   ],
   "source": [
    "feature_selector = RFECV(best_xgb, cv=cv_folds, step=1, scoring=\"roc_auc\")\n",
    "feature_selector.fit(X_train, y_train)"
   ]
  },
  {
   "cell_type": "code",
   "execution_count": 261,
   "metadata": {},
   "outputs": [],
   "source": [
    "# list of tuples (n_features, auc_test_score) starting at n_features=1 until 47\n",
    "n_features_vs_auc = enumerate(feature_selector.cv_results_[\"mean_test_score\"], 1)\n",
    "n_features_vs_auc_df = pd.DataFrame(n_features_vs_auc, columns=[\"n_features\", \"AUC\"])"
   ]
  },
  {
   "cell_type": "code",
   "execution_count": 282,
   "metadata": {},
   "outputs": [
    {
     "name": "stdout",
     "output_type": "stream",
     "text": [
      "Max AUC 0.6603 for 24 features\n"
     ]
    }
   ],
   "source": [
    "n_features_opt, auc_opt = n_features_vs_auc_df.sort_values(by=\"AUC\").iloc[-1]\n",
    "print(f\"Max AUC {auc_opt:.4f} for {n_features_opt:.0f} features\")"
   ]
  },
  {
   "cell_type": "code",
   "execution_count": 283,
   "metadata": {},
   "outputs": [
    {
     "data": {
      "image/png": "[encoded data removed]",
      "text/plain": [
       "<Figure size 864x432 with 1 Axes>"
      ]
     },
     "metadata": {},
     "output_type": "display_data"
    }
   ],
   "source": [
    "plt.figure(figsize=(12,6))\n",
    "ax = sns.lineplot(data=n_features_vs_auc_df, x=\"n_features\", y=\"AUC\", marker=\"o\")\n",
    "ax.set_title(\"Number of Features vs Test AUC value\")\n",
    "plt.tight_layout()"
   ]
  },
  {
   "cell_type": "code",
   "execution_count": 263,
   "metadata": {},
   "outputs": [
    {
     "name": "stdout",
     "output_type": "stream",
     "text": [
      "From 47 features only 24 were selected:\n",
      "dif_mean_elo\n",
      "dif_stddev_elo\n",
      "dif_num_parties\n",
      "dif_mean_winrate\n",
      "dif_mean_kd\n",
      "dif_mean_multikills_score\n",
      "dif_mean_rating\n",
      "dif_mean_matches_on_map\n",
      "dif_mean_winrate_on_map\n",
      "dif_mean_kd_on_map\n",
      "dif_mean_multikills_score_on_map\n",
      "dif_mean_rating_on_map\n",
      "dif_mean_matches_map_preference\n",
      "dif_mean_kd_map_preference\n",
      "dif_mean_created_at_faceit\n",
      "dif_mean_matches_on_map_prev\n",
      "dif_mean_winrate_prev\n",
      "dif_mean_kd_prev\n",
      "dif_mean_weighted_kd_by_elo_prev\n",
      "dif_multikills_score_prev\n",
      "dif_mean_rating_prev\n",
      "dif_mean_interval_time_most_recent_prev\n",
      "dif_mean_delta_elo_prev\n",
      "dif_mean_dif_elo_prev\n"
     ]
    }
   ],
   "source": [
    "n_features_in_ = feature_selector.n_features_in_\n",
    "n_features = feature_selector.n_features_\n",
    "# Get selected features\n",
    "selected_features = feature_selector.feature_names_in_[feature_selector.support_]\n",
    "\n",
    "nl = '\\n'\n",
    "print(f'From {n_features_in_} features only {n_features} were selected:{nl}{nl.join(selected_features)}')"
   ]
  },
  {
   "cell_type": "code",
   "execution_count": 15,
   "metadata": {},
   "outputs": [],
   "source": [
    "selected_features = [\"dif_mean_elo\",\n",
    "\"dif_stddev_elo\",\n",
    "\"dif_num_parties\",\n",
    "\"dif_mean_winrate\",\n",
    "\"dif_mean_kd\",\n",
    "\"dif_mean_multikills_score\",\n",
    "\"dif_mean_rating\",\n",
    "\"dif_mean_matches_on_map\",\n",
    "\"dif_mean_winrate_on_map\",\n",
    "\"dif_mean_kd_on_map\",\n",
    "\"dif_mean_multikills_score_on_map\",\n",
    "\"dif_mean_rating_on_map\",\n",
    "\"dif_mean_matches_map_preference\",\n",
    "\"dif_mean_kd_map_preference\",\n",
    "\"dif_mean_created_at_faceit\",\n",
    "\"dif_mean_matches_on_map_prev\",\n",
    "\"dif_mean_winrate_prev\",\n",
    "\"dif_mean_kd_prev\",\n",
    "\"dif_mean_weighted_kd_by_elo_prev\",\n",
    "\"dif_multikills_score_prev\",\n",
    "\"dif_mean_rating_prev\",\n",
    "\"dif_mean_interval_time_most_recent_prev\",\n",
    "\"dif_mean_delta_elo_prev\",\n",
    "\"dif_mean_dif_elo_prev\"]"
   ]
  },
  {
   "cell_type": "code",
   "execution_count": 16,
   "metadata": {},
   "outputs": [],
   "source": [
    "X_train_ft_sel = X_train[selected_features]\n",
    "X_test_ft_sel = X_test[selected_features]"
   ]
  },
  {
   "cell_type": "markdown",
   "metadata": {},
   "source": [
    "## Extensive Hyperparameter Tuning"
   ]
  },
  {
   "cell_type": "markdown",
   "metadata": {},
   "source": [
    "Selected algorithms to perform hyperparameter tuning:\n",
    "\n",
    "* Linear SVC\n",
    "* Ridge\n",
    "* Linear Discriminant Analysis\n",
    "* Logistic Regression\n",
    "* Gradient Boosting\n",
    "* AdaBoost\n",
    "* Random Forest\n",
    "* XGB"
   ]
  },
  {
   "cell_type": "code",
   "execution_count": 21,
   "metadata": {},
   "outputs": [],
   "source": [
    "best_algs = {}"
   ]
  },
  {
   "cell_type": "code",
   "execution_count": 22,
   "metadata": {},
   "outputs": [],
   "source": [
    "def perform_grid_search_cv(clf, params, X_train=X_train, y_train=y_train, cv=cv_folds, scoring_metrics=scoring_metrics):\n",
    "    gs = GridSearchCV(\n",
    "        estimator=clf,\n",
    "        param_grid=params,\n",
    "        cv=cv_folds, \n",
    "        scoring=scoring_metrics,\n",
    "        refit='roc_auc',\n",
    "        n_jobs=-1,\n",
    "        return_train_score=True,\n",
    "        verbose=2)\n",
    "    \n",
    "    gs.fit(X_train, y_train)\n",
    "    return gs"
   ]
  },
  {
   "cell_type": "markdown",
   "metadata": {},
   "source": [
    "### Linear SVC"
   ]
  },
  {
   "cell_type": "code",
   "execution_count": 23,
   "metadata": {},
   "outputs": [],
   "source": [
    "l_svc_params = {\n",
    "    \"penalty\": [\"l1\", \"l2\"],\n",
    "    \"loss\": [\"hinge\", \"squared_hinge\"],\n",
    "    \"C\":  [0.1, 1, 10, 100]\n",
    "}"
   ]
  },
  {
   "cell_type": "code",
   "execution_count": 24,
   "metadata": {},
   "outputs": [
    {
     "name": "stdout",
     "output_type": "stream",
     "text": [
      "Fitting 5 folds for each of 16 candidates, totalling 80 fits\n"
     ]
    }
   ],
   "source": [
    "gs_linear_svc = perform_grid_search_cv(LinearSVC(random_state=SEED), l_svc_params)"
   ]
  },
  {
   "cell_type": "code",
   "execution_count": 25,
   "metadata": {},
   "outputs": [],
   "source": [
    "best_algs[\"Linear SVC\"] = gs_linear_svc.best_estimator"
   ]
  },
  {
   "cell_type": "markdown",
   "metadata": {},
   "source": [
    "### Ridge"
   ]
  },
  {
   "cell_type": "code",
   "execution_count": 26,
   "metadata": {},
   "outputs": [],
   "source": [
    "ridge_params = {\n",
    "    \"alpha\": [0.1, 0.2, 0.3, 0.4, 0.5, 0.6, 0.7, 0.8, 0.9, 1.0]\n",
    "}"
   ]
  },
  {
   "cell_type": "code",
   "execution_count": 27,
   "metadata": {},
   "outputs": [
    {
     "name": "stdout",
     "output_type": "stream",
     "text": [
      "Fitting 5 folds for each of 10 candidates, totalling 50 fits\n"
     ]
    }
   ],
   "source": [
    "gs_ridge = perform_grid_search_cv(RidgeClassifier(random_state=SEED), ridge_params)"
   ]
  },
  {
   "cell_type": "code",
   "execution_count": 28,
   "metadata": {},
   "outputs": [],
   "source": [
    "best_algs[\"Ridge\"] = gs_ridge.best_estimator_"
   ]
  },
  {
   "cell_type": "markdown",
   "metadata": {},
   "source": [
    "### Linear Discriminant Analysis"
   ]
  },
  {
   "cell_type": "code",
   "execution_count": 35,
   "metadata": {},
   "outputs": [],
   "source": [
    "lda_params = {\n",
    "    'solver' : ['svd', 'lsqr', 'eigen'],\n",
    "    'shrinkage': np.arange(0, 1, 0.01)\n",
    "}"
   ]
  },
  {
   "cell_type": "code",
   "execution_count": 36,
   "metadata": {},
   "outputs": [
    {
     "name": "stdout",
     "output_type": "stream",
     "text": [
      "Fitting 5 folds for each of 300 candidates, totalling 1500 fits\n"
     ]
    }
   ],
   "source": [
    "gs_lda = perform_grid_search_cv(LinearDiscriminantAnalysis(), lda_params)"
   ]
  },
  {
   "cell_type": "code",
   "execution_count": null,
   "metadata": {},
   "outputs": [],
   "source": [
    "best_algs[\"Linear Disc. Analysis\"] = gs_lda.best_estimator_"
   ]
  },
  {
   "cell_type": "markdown",
   "metadata": {},
   "source": [
    "### Logistic Regression"
   ]
  },
  {
   "cell_type": "code",
   "execution_count": 40,
   "metadata": {},
   "outputs": [],
   "source": [
    "lr_params = {\n",
    "    \"penalty\": ['l1', 'l2', 'elasticnet', None],\n",
    "    \"solver\": ['newton-cg', 'lbfgs', 'liblinear', 'sag', 'saga'],\n",
    "    \"C\": [100, 10, 1.0, 0.1, 0.01]\n",
    "}"
   ]
  },
  {
   "cell_type": "code",
   "execution_count": 41,
   "metadata": {},
   "outputs": [
    {
     "name": "stdout",
     "output_type": "stream",
     "text": [
      "Fitting 5 folds for each of 100 candidates, totalling 500 fits\n"
     ]
    }
   ],
   "source": [
    "gs_lr = perform_grid_search_cv(LogisticRegression(random_state=SEED), lr_params)"
   ]
  },
  {
   "cell_type": "code",
   "execution_count": 44,
   "metadata": {},
   "outputs": [],
   "source": [
    "best_algs[\"Logistic Regression\"] = gs_lr.best_estimator_"
   ]
  },
  {
   "cell_type": "markdown",
   "metadata": {},
   "source": [
    "### Gradient Boosting"
   ]
  },
  {
   "cell_type": "code",
   "execution_count": 51,
   "metadata": {},
   "outputs": [],
   "source": [
    "# gb_params = {\n",
    "#     \"n_estimators\": [10, 100, 1000],\n",
    "#     \"learning_rate\": [0.001, 0.01, 0.1],\n",
    "#     \"subsample\": [0.5, 0.7, 1.0],\n",
    "#     \"max_depth\": [3, 7, 9]\n",
    "# }\n",
    "\n",
    "gb_params = {\n",
    "    \"n_estimators\": [10, 100],\n",
    "    \"learning_rate\": [0.01, 0.1]\n",
    "}"
   ]
  },
  {
   "cell_type": "code",
   "execution_count": 52,
   "metadata": {},
   "outputs": [
    {
     "name": "stdout",
     "output_type": "stream",
     "text": [
      "Fitting 5 folds for each of 4 candidates, totalling 20 fits\n"
     ]
    }
   ],
   "source": [
    "gs_gb = perform_grid_search_cv(GradientBoostingClassifier(random_state=SEED), gb_params)"
   ]
  },
  {
   "cell_type": "code",
   "execution_count": 55,
   "metadata": {},
   "outputs": [],
   "source": [
    "best_algs[\"Gradient Boosting\"] = gs_gb.best_estimator_"
   ]
  },
  {
   "cell_type": "markdown",
   "metadata": {},
   "source": [
    "### AdaBoost"
   ]
  },
  {
   "cell_type": "code",
   "execution_count": 56,
   "metadata": {},
   "outputs": [],
   "source": [
    "ada_params = {\n",
    "    \"n_estimators\": [10, 50, 100, 500],\n",
    "    \"learning_rate\": [0.01],\n",
    "    # \"learning_rate\": [0.0001, 0.001, 0.01, 0.1, 1.0],\n",
    "}"
   ]
  },
  {
   "cell_type": "code",
   "execution_count": 57,
   "metadata": {},
   "outputs": [
    {
     "name": "stdout",
     "output_type": "stream",
     "text": [
      "Fitting 5 folds for each of 4 candidates, totalling 20 fits\n"
     ]
    }
   ],
   "source": [
    "gs_ada = perform_grid_search_cv(AdaBoostClassifier(random_state=SEED), ada_params)"
   ]
  },
  {
   "cell_type": "code",
   "execution_count": 63,
   "metadata": {},
   "outputs": [],
   "source": [
    "best_algs[\"AdaBoost\"] = gs_ada.best_estimator_"
   ]
  },
  {
   "cell_type": "markdown",
   "metadata": {},
   "source": [
    "### Random Forest"
   ]
  },
  {
   "cell_type": "code",
   "execution_count": 58,
   "metadata": {},
   "outputs": [],
   "source": [
    "rf_params = {\n",
    "    \"criterion\": ['gini', 'entropy'],\n",
    "    \"n_estimators\": [50, 100],\n",
    "    \"max_depth\": [None, 5, 10],\n",
    "    \"min_samples_split\": [5, 10],\n",
    "    \"min_samples_leaf\": [5, 10]\n",
    "}"
   ]
  },
  {
   "cell_type": "code",
   "execution_count": 59,
   "metadata": {},
   "outputs": [
    {
     "name": "stdout",
     "output_type": "stream",
     "text": [
      "Fitting 5 folds for each of 48 candidates, totalling 240 fits\n"
     ]
    }
   ],
   "source": [
    "gs_rf = perform_grid_search_cv(RandomForestClassifier(random_state=SEED), rf_params)"
   ]
  },
  {
   "cell_type": "code",
   "execution_count": 64,
   "metadata": {},
   "outputs": [],
   "source": [
    "best_algs[\"Random Forest\"] = gs_rf.best_estimator_"
   ]
  },
  {
   "cell_type": "markdown",
   "metadata": {},
   "source": [
    "### XGBoost"
   ]
  },
  {
   "cell_type": "code",
   "execution_count": 60,
   "metadata": {},
   "outputs": [],
   "source": [
    "xgb_params = {\n",
    "    \"learning_rate\": [0.01, 0.05],\n",
    "    \"n_estimators\":[50, 100],\n",
    "    'max_depth':range(5,10,2),\n",
    "}"
   ]
  },
  {
   "cell_type": "code",
   "execution_count": 61,
   "metadata": {},
   "outputs": [
    {
     "name": "stdout",
     "output_type": "stream",
     "text": [
      "Fitting 5 folds for each of 12 candidates, totalling 60 fits\n"
     ]
    }
   ],
   "source": [
    "gs_xgb = perform_grid_search_cv(XGBClassifier(random_state=SEED), xgb_params)"
   ]
  },
  {
   "cell_type": "code",
   "execution_count": 65,
   "metadata": {},
   "outputs": [],
   "source": [
    "best_algs[\"XGB\"] = gs_xgb.best_estimator_"
   ]
  },
  {
   "cell_type": "code",
   "execution_count": 86,
   "metadata": {},
   "outputs": [
    {
     "name": "stdout",
     "output_type": "stream",
     "text": [
      "Fitting Linear SVC\n",
      "Fitting Ridge\n",
      "Fitting Logistic Regression\n",
      "Fitting Gradient Boosting\n",
      "Fitting AdaBoost\n",
      "Fitting Random Forest\n",
      "Fitting XGB\n"
     ]
    }
   ],
   "source": [
    "clfs_df, fts_imp_df = [], []\n",
    "\n",
    "for name, clf in best_algs_correct.items():\n",
    "    print(\"Fitting\", name)\n",
    "\n",
    "    index = pd.MultiIndex.from_product([[name], range(cv_folds)], names=[\"classifier\", \"fold_number\"])\n",
    "    output = cross_validate(clf, X_train, y_train, cv=cv_folds, scoring=scoring_metrics, return_train_score=True, return_estimator=True)\n",
    "\n",
    "    clfs_df.append(pd.DataFrame(output, index=index))\n",
    "\n",
    "    if name in has_feature_importances:\n",
    "        fts_imp_df.append(pd.DataFrame([e.feature_importances_ for e in output[\"estimator\"]], index=index, columns=X_train.columns))\n",
    "\n",
    "\n",
    "clfs_df = pd.concat(clfs_df)\n",
    "fts_imp_df = pd.concat(fts_imp_df)"
   ]
  },
  {
   "cell_type": "code",
   "execution_count": 88,
   "metadata": {},
   "outputs": [
    {
     "data": {
      "text/html": [
       "<div>\n",
       "<style scoped>\n",
       "    .dataframe tbody tr th:only-of-type {\n",
       "        vertical-align: middle;\n",
       "    }\n",
       "\n",
       "    .dataframe tbody tr th {\n",
       "        vertical-align: top;\n",
       "    }\n",
       "\n",
       "    .dataframe thead th {\n",
       "        text-align: right;\n",
       "    }\n",
       "</style>\n",
       "<table border=\"1\" class=\"dataframe\">\n",
       "  <thead>\n",
       "    <tr style=\"text-align: right;\">\n",
       "      <th></th>\n",
       "      <th>fit_time</th>\n",
       "      <th>score_time</th>\n",
       "      <th>test_accuracy</th>\n",
       "      <th>train_accuracy</th>\n",
       "      <th>test_roc_auc</th>\n",
       "      <th>train_roc_auc</th>\n",
       "    </tr>\n",
       "    <tr>\n",
       "      <th>classifier</th>\n",
       "      <th></th>\n",
       "      <th></th>\n",
       "      <th></th>\n",
       "      <th></th>\n",
       "      <th></th>\n",
       "      <th></th>\n",
       "    </tr>\n",
       "  </thead>\n",
       "  <tbody>\n",
       "    <tr>\n",
       "      <th>Linear SVC</th>\n",
       "      <td>13.717352</td>\n",
       "      <td>0.011968</td>\n",
       "      <td>0.616915</td>\n",
       "      <td>0.616848</td>\n",
       "      <td>0.666948</td>\n",
       "      <td>0.667455</td>\n",
       "    </tr>\n",
       "    <tr>\n",
       "      <th>Logistic Regression</th>\n",
       "      <td>3.156453</td>\n",
       "      <td>0.013956</td>\n",
       "      <td>0.616604</td>\n",
       "      <td>0.617858</td>\n",
       "      <td>0.667180</td>\n",
       "      <td>0.667566</td>\n",
       "    </tr>\n",
       "    <tr>\n",
       "      <th>Ridge</th>\n",
       "      <td>0.090072</td>\n",
       "      <td>0.011939</td>\n",
       "      <td>0.615568</td>\n",
       "      <td>0.616718</td>\n",
       "      <td>0.666696</td>\n",
       "      <td>0.667275</td>\n",
       "    </tr>\n",
       "    <tr>\n",
       "      <th>Gradient Boosting</th>\n",
       "      <td>51.257265</td>\n",
       "      <td>0.048860</td>\n",
       "      <td>0.610075</td>\n",
       "      <td>0.633586</td>\n",
       "      <td>0.661058</td>\n",
       "      <td>0.690388</td>\n",
       "    </tr>\n",
       "    <tr>\n",
       "      <th>XGB</th>\n",
       "      <td>6.121149</td>\n",
       "      <td>0.091992</td>\n",
       "      <td>0.609867</td>\n",
       "      <td>0.651388</td>\n",
       "      <td>0.662361</td>\n",
       "      <td>0.716215</td>\n",
       "    </tr>\n",
       "    <tr>\n",
       "      <th>Random Forest</th>\n",
       "      <td>15.254572</td>\n",
       "      <td>0.338096</td>\n",
       "      <td>0.607276</td>\n",
       "      <td>0.715407</td>\n",
       "      <td>0.657209</td>\n",
       "      <td>0.798116</td>\n",
       "    </tr>\n",
       "    <tr>\n",
       "      <th>AdaBoost</th>\n",
       "      <td>108.978101</td>\n",
       "      <td>3.242402</td>\n",
       "      <td>0.606240</td>\n",
       "      <td>0.607623</td>\n",
       "      <td>0.653309</td>\n",
       "      <td>0.654944</td>\n",
       "    </tr>\n",
       "  </tbody>\n",
       "</table>\n",
       "</div>"
      ],
      "text/plain": [
       "                       fit_time  score_time  test_accuracy  train_accuracy  \\\n",
       "classifier                                                                   \n",
       "Linear SVC            13.717352    0.011968       0.616915        0.616848   \n",
       "Logistic Regression    3.156453    0.013956       0.616604        0.617858   \n",
       "Ridge                  0.090072    0.011939       0.615568        0.616718   \n",
       "Gradient Boosting     51.257265    0.048860       0.610075        0.633586   \n",
       "XGB                    6.121149    0.091992       0.609867        0.651388   \n",
       "Random Forest         15.254572    0.338096       0.607276        0.715407   \n",
       "AdaBoost             108.978101    3.242402       0.606240        0.607623   \n",
       "\n",
       "                     test_roc_auc  train_roc_auc  \n",
       "classifier                                        \n",
       "Linear SVC               0.666948       0.667455  \n",
       "Logistic Regression      0.667180       0.667566  \n",
       "Ridge                    0.666696       0.667275  \n",
       "Gradient Boosting        0.661058       0.690388  \n",
       "XGB                      0.662361       0.716215  \n",
       "Random Forest            0.657209       0.798116  \n",
       "AdaBoost                 0.653309       0.654944  "
      ]
     },
     "execution_count": 88,
     "metadata": {},
     "output_type": "execute_result"
    }
   ],
   "source": [
    "ordered_clfs_df = clfs_df.groupby(by=\"classifier\").median().sort_values(by=\"test_accuracy\", ascending=False)\n",
    "ordered_clfs_df"
   ]
  },
  {
   "cell_type": "code",
   "execution_count": 89,
   "metadata": {},
   "outputs": [],
   "source": [
    "# 'Ignore' fold number index\n",
    "classifiers_indexes = clfs_df.index.get_level_values(level=0)"
   ]
  },
  {
   "cell_type": "code",
   "execution_count": 90,
   "metadata": {},
   "outputs": [
    {
     "data": {
      "image/png": "[encoded data removed]",
      "text/plain": [
       "<Figure size 864x432 with 1 Axes>"
      ]
     },
     "metadata": {},
     "output_type": "display_data"
    }
   ],
   "source": [
    "plt.figure(figsize=(12,6))\n",
    "\n",
    "styling_props = {\"whiskerprops\":{\"color\":\"gray\"}, \"capprops\":{\"color\":\"gray\"}, \"flierprops\":{\"markerfacecolor\":\"gray\"}}\n",
    "\n",
    "ax = sns.boxplot(x=clfs_df.test_accuracy, y=classifiers_indexes, order=ordered_clfs_df.index, palette=\"gist_heat\", **styling_props)\n",
    "plt.tight_layout()"
   ]
  },
  {
   "cell_type": "code",
   "execution_count": 91,
   "metadata": {},
   "outputs": [
    {
     "data": {
      "image/png": "[encoded data removed]",
      "text/plain": [
       "<Figure size 864x432 with 1 Axes>"
      ]
     },
     "metadata": {},
     "output_type": "display_data"
    }
   ],
   "source": [
    "plt.figure(figsize=(12,6))\n",
    "\n",
    "styling_props = {\"whiskerprops\":{\"color\":\"gray\"}, \"capprops\":{\"color\":\"gray\"}, \"flierprops\":{\"markerfacecolor\":\"gray\"}}\n",
    "\n",
    "ax = sns.boxplot(x=clfs_df.test_roc_auc, y=classifiers_indexes, order=ordered_clfs_df.index, palette=\"gist_heat\", **styling_props)\n",
    "plt.tight_layout()"
   ]
  },
  {
   "cell_type": "markdown",
   "metadata": {},
   "source": [
    "# Neural Networks"
   ]
  },
  {
   "cell_type": "code",
   "execution_count": 92,
   "metadata": {},
   "outputs": [],
   "source": [
    "# Initializing Neural Network\n",
    "nn = Sequential()"
   ]
  },
  {
   "cell_type": "code",
   "execution_count": 93,
   "metadata": {},
   "outputs": [],
   "source": [
    "# Adding the input layer\n",
    "nn.add(Dense(units=64, activation=\"relu\", input_dim=len(X_train.columns)))\n",
    "\n",
    "# Adding the hidden layers\n",
    "nn.add(Dropout(0.5))\n",
    "nn.add(Dense(units=128, activation=\"relu\"))\n",
    "nn.add(Dropout(0.5))\n",
    "nn.add(Dense(units=128, activation=\"relu\"))\n",
    "nn.add(Dropout(0.5))\n",
    "nn.add(Dense(units=64, activation=\"relu\"))\n",
    "\n",
    "# Adding the output layer\n",
    "nn.add(Dense(units=1, activation=\"sigmoid\"))"
   ]
  },
  {
   "cell_type": "code",
   "execution_count": 94,
   "metadata": {},
   "outputs": [],
   "source": [
    "nn.compile(optimizer=\"adam\", loss=\"binary_crossentropy\", metrics=[\"accuracy\"])"
   ]
  },
  {
   "cell_type": "code",
   "execution_count": 95,
   "metadata": {},
   "outputs": [
    {
     "name": "stdout",
     "output_type": "stream",
     "text": [
      "Epoch 1/20\n",
      "754/754 [==============================] - 2s 2ms/step - loss: 0.6790 - accuracy: 0.5668\n",
      "Epoch 2/20\n",
      "754/754 [==============================] - 2s 2ms/step - loss: 0.6626 - accuracy: 0.5961\n",
      "Epoch 3/20\n",
      "754/754 [==============================] - 2s 2ms/step - loss: 0.6583 - accuracy: 0.6041\n",
      "Epoch 4/20\n",
      "754/754 [==============================] - 2s 2ms/step - loss: 0.6553 - accuracy: 0.6078\n",
      "Epoch 5/20\n",
      "754/754 [==============================] - 2s 3ms/step - loss: 0.6534 - accuracy: 0.6115\n",
      "Epoch 6/20\n",
      "754/754 [==============================] - 2s 3ms/step - loss: 0.6526 - accuracy: 0.6121\n",
      "Epoch 7/20\n",
      "754/754 [==============================] - 2s 3ms/step - loss: 0.6516 - accuracy: 0.6149\n",
      "Epoch 8/20\n",
      "754/754 [==============================] - 2s 2ms/step - loss: 0.6506 - accuracy: 0.6173\n",
      "Epoch 9/20\n",
      "754/754 [==============================] - 2s 3ms/step - loss: 0.6509 - accuracy: 0.6149\n",
      "Epoch 10/20\n",
      "754/754 [==============================] - 2s 2ms/step - loss: 0.6495 - accuracy: 0.6178\n",
      "Epoch 11/20\n",
      "754/754 [==============================] - 2s 3ms/step - loss: 0.6501 - accuracy: 0.6190\n",
      "Epoch 12/20\n",
      "754/754 [==============================] - 2s 2ms/step - loss: 0.6494 - accuracy: 0.6180\n",
      "Epoch 13/20\n",
      "754/754 [==============================] - 2s 2ms/step - loss: 0.6487 - accuracy: 0.6184\n",
      "Epoch 14/20\n",
      "754/754 [==============================] - 2s 2ms/step - loss: 0.6491 - accuracy: 0.6173\n",
      "Epoch 15/20\n",
      "754/754 [==============================] - 2s 2ms/step - loss: 0.6490 - accuracy: 0.6173\n",
      "Epoch 16/20\n",
      "754/754 [==============================] - 2s 3ms/step - loss: 0.6492 - accuracy: 0.6147\n",
      "Epoch 17/20\n",
      "754/754 [==============================] - 2s 3ms/step - loss: 0.6478 - accuracy: 0.6197\n",
      "Epoch 18/20\n",
      "754/754 [==============================] - 2s 3ms/step - loss: 0.6483 - accuracy: 0.6186\n",
      "Epoch 19/20\n",
      "754/754 [==============================] - 2s 3ms/step - loss: 0.6474 - accuracy: 0.6212\n",
      "Epoch 20/20\n",
      "754/754 [==============================] - 2s 2ms/step - loss: 0.6471 - accuracy: 0.6184\n"
     ]
    },
    {
     "data": {
      "text/plain": [
       "<tensorflow.python.keras.callbacks.History at 0x17a540ef3d0>"
      ]
     },
     "execution_count": 95,
     "metadata": {},
     "output_type": "execute_result"
    }
   ],
   "source": [
    "nn.fit(X_train, y_train, batch_size=64, epochs=20, verbose=1)"
   ]
  },
  {
   "cell_type": "code",
   "execution_count": 99,
   "metadata": {},
   "outputs": [
    {
     "name": "stdout",
     "output_type": "stream",
     "text": [
      "              precision    recall  f1-score   support\n",
      "\n",
      "           0       0.62      0.60      0.61     10398\n",
      "           1       0.61      0.63      0.62     10278\n",
      "\n",
      "    accuracy                           0.61     20676\n",
      "   macro avg       0.61      0.61      0.61     20676\n",
      "weighted avg       0.61      0.61      0.61     20676\n",
      "\n",
      "AUC Score 0.6643374395685311\n"
     ]
    }
   ],
   "source": [
    "y_pred = nn.predict(X_test)\n",
    "y_pred = y_pred > 0.5\n",
    "print(classification_report(y_test, y_pred))\n",
    "auc_score = roc_auc_score(y_test, nn.predict(X_test).ravel())\n",
    "print(\"AUC Score\", auc_score)"
   ]
  },
  {
   "cell_type": "markdown",
   "metadata": {},
   "source": [
    "# Stacking Classifier"
   ]
  },
  {
   "cell_type": "code",
   "execution_count": 114,
   "metadata": {},
   "outputs": [],
   "source": [
    "estimators = list(zip(best_algs.keys(), best_algs.values()))"
   ]
  },
  {
   "cell_type": "code",
   "execution_count": 116,
   "metadata": {},
   "outputs": [],
   "source": [
    "stacking_clf = StackingClassifier(estimators=estimators, final_estimator=LogisticRegression(), cv=cv_folds)"
   ]
  },
  {
   "cell_type": "code",
   "execution_count": 117,
   "metadata": {},
   "outputs": [
    {
     "data": {
      "text/plain": [
       "StackingClassifier(cv=5,\n",
       "                   estimators=[('Linear SVC', LinearSVC(C=1, random_state=15)),\n",
       "                               ('Ridge',\n",
       "                                RidgeClassifier(alpha=0.1, random_state=15)),\n",
       "                               ('Logistic Regression',\n",
       "                                LogisticRegression(C=0.1, random_state=15,\n",
       "                                                   solver='sag')),\n",
       "                               ('Gradient Boosting',\n",
       "                                GradientBoostingClassifier(random_state=15)),\n",
       "                               ('AdaBoost',\n",
       "                                AdaBoostClassifier(learning_rate=0.01,\n",
       "                                                   n_estimators=500,\n",
       "                                                   random...\n",
       "                                              gpu_id=-1, importance_type='gain',\n",
       "                                              interaction_constraints='',\n",
       "                                              learning_rate=0.05,\n",
       "                                              max_delta_step=0, max_depth=5,\n",
       "                                              min_child_weight=1, missing=nan,\n",
       "                                              monotone_constraints='()',\n",
       "                                              n_estimators=100, n_jobs=0,\n",
       "                                              num_parallel_tree=1,\n",
       "                                              random_state=15, reg_alpha=0,\n",
       "                                              reg_lambda=1, scale_pos_weight=1,\n",
       "                                              subsample=1, tree_method='exact',\n",
       "                                              validate_parameters=1,\n",
       "                                              verbosity=None))],\n",
       "                   final_estimator=LogisticRegression())"
      ]
     },
     "execution_count": 117,
     "metadata": {},
     "output_type": "execute_result"
    }
   ],
   "source": [
    "stacking_clf.fit(X_train, y_train)"
   ]
  },
  {
   "cell_type": "code",
   "execution_count": 118,
   "metadata": {},
   "outputs": [
    {
     "data": {
      "text/html": [
       "<style  type=\"text/css\" >\n",
       "</style><table id=\"T_c8769b95_3545_11ec_8b90_d4258b2a60f6\" ><caption>Classification Report</caption><thead>    <tr>        <th class=\"blank level0\" ></th>        <th class=\"col_heading level0 col0\" >0</th>        <th class=\"col_heading level0 col1\" >1</th>        <th class=\"col_heading level0 col2\" >macro avg</th>        <th class=\"col_heading level0 col3\" >weighted avg</th>    </tr></thead><tbody>\n",
       "                <tr>\n",
       "                        <th id=\"T_c8769b95_3545_11ec_8b90_d4258b2a60f6level0_row0\" class=\"row_heading level0 row0\" >precision</th>\n",
       "                        <td id=\"T_c8769b95_3545_11ec_8b90_d4258b2a60f6row0_col0\" class=\"data row0 col0\" >0.621281</td>\n",
       "                        <td id=\"T_c8769b95_3545_11ec_8b90_d4258b2a60f6row0_col1\" class=\"data row0 col1\" >0.618963</td>\n",
       "                        <td id=\"T_c8769b95_3545_11ec_8b90_d4258b2a60f6row0_col2\" class=\"data row0 col2\" >0.620122</td>\n",
       "                        <td id=\"T_c8769b95_3545_11ec_8b90_d4258b2a60f6row0_col3\" class=\"data row0 col3\" >0.620129</td>\n",
       "            </tr>\n",
       "            <tr>\n",
       "                        <th id=\"T_c8769b95_3545_11ec_8b90_d4258b2a60f6level0_row1\" class=\"row_heading level0 row1\" >recall</th>\n",
       "                        <td id=\"T_c8769b95_3545_11ec_8b90_d4258b2a60f6row1_col0\" class=\"data row1 col0\" >0.626659</td>\n",
       "                        <td id=\"T_c8769b95_3545_11ec_8b90_d4258b2a60f6row1_col1\" class=\"data row1 col1\" >0.613543</td>\n",
       "                        <td id=\"T_c8769b95_3545_11ec_8b90_d4258b2a60f6row1_col2\" class=\"data row1 col2\" >0.620101</td>\n",
       "                        <td id=\"T_c8769b95_3545_11ec_8b90_d4258b2a60f6row1_col3\" class=\"data row1 col3\" >0.620139</td>\n",
       "            </tr>\n",
       "            <tr>\n",
       "                        <th id=\"T_c8769b95_3545_11ec_8b90_d4258b2a60f6level0_row2\" class=\"row_heading level0 row2\" >f1-score</th>\n",
       "                        <td id=\"T_c8769b95_3545_11ec_8b90_d4258b2a60f6row2_col0\" class=\"data row2 col0\" >0.623959</td>\n",
       "                        <td id=\"T_c8769b95_3545_11ec_8b90_d4258b2a60f6row2_col1\" class=\"data row2 col1\" >0.616242</td>\n",
       "                        <td id=\"T_c8769b95_3545_11ec_8b90_d4258b2a60f6row2_col2\" class=\"data row2 col2\" >0.620100</td>\n",
       "                        <td id=\"T_c8769b95_3545_11ec_8b90_d4258b2a60f6row2_col3\" class=\"data row2 col3\" >0.620122</td>\n",
       "            </tr>\n",
       "            <tr>\n",
       "                        <th id=\"T_c8769b95_3545_11ec_8b90_d4258b2a60f6level0_row3\" class=\"row_heading level0 row3\" >support</th>\n",
       "                        <td id=\"T_c8769b95_3545_11ec_8b90_d4258b2a60f6row3_col0\" class=\"data row3 col0\" >10398.000000</td>\n",
       "                        <td id=\"T_c8769b95_3545_11ec_8b90_d4258b2a60f6row3_col1\" class=\"data row3 col1\" >10278.000000</td>\n",
       "                        <td id=\"T_c8769b95_3545_11ec_8b90_d4258b2a60f6row3_col2\" class=\"data row3 col2\" >20676.000000</td>\n",
       "                        <td id=\"T_c8769b95_3545_11ec_8b90_d4258b2a60f6row3_col3\" class=\"data row3 col3\" >20676.000000</td>\n",
       "            </tr>\n",
       "    </tbody></table>"
      ],
      "text/plain": [
       "<pandas.io.formats.style.Styler at 0x17a538c5fa0>"
      ]
     },
     "metadata": {},
     "output_type": "display_data"
    },
    {
     "name": "stdout",
     "output_type": "stream",
     "text": [
      "Train Accuracy: 0.6271\t\tTest Accuracy: 0.6201\n"
     ]
    },
    {
     "data": {
      "image/png": "[encoded data removed]",
      "text/plain": [
       "<Figure size 576x432 with 1 Axes>"
      ]
     },
     "metadata": {},
     "output_type": "display_data"
    }
   ],
   "source": [
    "print_metrics(stacking_clf, X_train, y_train, X_test, y_test)"
   ]
  },
  {
   "cell_type": "markdown",
   "metadata": {},
   "source": [
    "# Store Model"
   ]
  },
  {
   "cell_type": "code",
   "execution_count": 123,
   "metadata": {},
   "outputs": [],
   "source": [
    "current_date_string = datetime.utcnow().strftime(\"%Y_%m_%d_%H_%M_%S\")\n",
    "model_folder_path = MODEL_DIR / f'model_{current_date_string}'\n",
    "\n",
    "# create models folder\n",
    "os.mkdir(model_folder_path)"
   ]
  },
  {
   "cell_type": "code",
   "execution_count": 125,
   "metadata": {},
   "outputs": [
    {
     "data": {
      "text/plain": [
       "['d:\\\\Portfolio\\\\faceit-predictor\\\\ML\\\\models\\\\model_2021_10_25_03_46_33/model.joblib']"
      ]
     },
     "execution_count": 125,
     "metadata": {},
     "output_type": "execute_result"
    }
   ],
   "source": [
    "# save models\n",
    "joblib.dump(stacking_clf, f'{str(model_folder_path)}/model.joblib')"
   ]
  }
 ],
 "metadata": {
  "interpreter": {
   "hash": "edaed6248b0f32b94d0199fc5dbdbd44040abee12f1bfab10571072dd86c73f9"
  },
  "kernelspec": {
   "display_name": "Python 3.8.0 64-bit",
   "name": "python3"
  },
  "language_info": {
   "codemirror_mode": {
    "name": "ipython",
    "version": 3
   },
   "file_extension": ".py",
   "mimetype": "text/x-python",
   "name": "python",
   "nbconvert_exporter": "python",
   "pygments_lexer": "ipython3",
   "version": "3.8.0"
  },
  "orig_nbformat": 4
 },
 "nbformat": 4,
 "nbformat_minor": 2
}
