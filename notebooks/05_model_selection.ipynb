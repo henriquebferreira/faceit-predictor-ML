{
 "cells": [
  {
   "cell_type": "markdown",
   "metadata": {},
   "source": [
    "<h1 style=\"color:#ff5500; font-family:Play; font-size:3em; margin:auto 32px;align:center\">Part V - Model Selection</h1>\n",
    "\n",
    "---"
   ]
  },
  {
   "cell_type": "markdown",
   "metadata": {},
   "source": [
    "This document is a part of the FACEIT Predictor Data Science Workflow.\n",
    "\n",
    "In this notebook the Machine Learning Model is selected and its hyperparameters are tuned. Feature selection is also considered."
   ]
  },
  {
   "cell_type": "markdown",
   "metadata": {},
   "source": [
    "# Imports\n"
   ]
  },
  {
   "cell_type": "code",
   "execution_count": 1,
   "metadata": {},
   "outputs": [],
   "source": [
    "# Measure code execution time\n",
    "from time import time\n",
    "\n",
    "# Manage warnings\n",
    "import warnings\n",
    "\n",
    "# Data manipulation\n",
    "import pandas as pd\n",
    "import numpy as np\n",
    "\n",
    "# regex\n",
    "import re\n",
    "\n",
    "from datetime import datetime\n",
    "\n",
    "# Model Storage\n",
    "import joblib\n",
    "\n",
    "# Visualizations\n",
    "import seaborn as sns\n",
    "import matplotlib.pyplot as plt\n",
    "\n",
    "# Scalers\n",
    "from sklearn.preprocessing import StandardScaler\n",
    "\n",
    "# Model selection and hyperparameter tuning\n",
    "from sklearn.model_selection import train_test_split, cross_validate, RandomizedSearchCV, GridSearchCV\n",
    "\n",
    "# Feature selection\n",
    "from sklearn.feature_selection import RFECV\n",
    "\n",
    "# Classifiers\n",
    "from sklearn.discriminant_analysis import (\n",
    "    LinearDiscriminantAnalysis,\n",
    "    QuadraticDiscriminantAnalysis,\n",
    ")\n",
    "from sklearn.ensemble import (\n",
    "    AdaBoostClassifier,\n",
    "    BaggingClassifier,\n",
    "    ExtraTreesClassifier,\n",
    "    GradientBoostingClassifier,\n",
    "    RandomForestClassifier,\n",
    ")\n",
    "from sklearn.linear_model import RidgeClassifier, SGDClassifier, LogisticRegression\n",
    "from sklearn.naive_bayes import BernoulliNB, GaussianNB\n",
    "from sklearn.neighbors import KNeighborsClassifier\n",
    "from sklearn.neural_network import MLPClassifier\n",
    "from sklearn.svm import LinearSVC, NuSVC, SVC\n",
    "from sklearn.tree import DecisionTreeClassifier, ExtraTreeClassifier\n",
    "\n",
    "from xgboost import XGBClassifier\n",
    "\n",
    "# Stacking Classifier\n",
    "from sklearn.ensemble import StackingClassifier\n",
    "\n",
    "# Neural network libraries\n",
    "import tensorflow as tf\n",
    "\n",
    "# Classifier metrics\n",
    "from sklearn.metrics import RocCurveDisplay, classification_report, roc_auc_score\n",
    "\n",
    "# enable imports from parent directory\n",
    "import sys\n",
    "import os\n",
    "from pathlib import Path\n",
    "sys.path.append(str(Path.cwd().parent))\n",
    "\n",
    "# import local modules\n",
    "from src.utils.loaders import read_data\n",
    "from src.utils.dirs import MODEL_DIR\n",
    "from src.utils.visualization import set_visualization_defaults, comp_featured_based_on_winner\n",
    "from src.models.evaluation import print_metrics, print_metrics_nn, nn_compare_train_val\n",
    "from src.models.hyperparameter import tune_hypparams, MODELS_PARAMS\n",
    "\n",
    "from IPython import get_ipython\n",
    "\n",
    "ipython = get_ipython()\n",
    "\n",
    "# autoreload extension\n",
    "if \"autoreload\" not in ipython.extension_manager.loaded:\n",
    "   %load_ext autoreload\n",
    "\n",
    "# autoreload python modules\n",
    "%autoreload 2"
   ]
  },
  {
   "cell_type": "code",
   "execution_count": 2,
   "metadata": {},
   "outputs": [],
   "source": [
    "warnings.filterwarnings(\"ignore\")"
   ]
  },
  {
   "cell_type": "code",
   "execution_count": 3,
   "metadata": {},
   "outputs": [],
   "source": [
    "set_visualization_defaults()"
   ]
  },
  {
   "cell_type": "code",
   "execution_count": 4,
   "metadata": {},
   "outputs": [],
   "source": [
    "SEED = 15"
   ]
  },
  {
   "cell_type": "markdown",
   "metadata": {},
   "source": [
    "# Load Processed Data"
   ]
  },
  {
   "cell_type": "code",
   "execution_count": 5,
   "metadata": {},
   "outputs": [],
   "source": [
    "data = read_data(\"processed\")"
   ]
  },
  {
   "cell_type": "code",
   "execution_count": 6,
   "metadata": {},
   "outputs": [],
   "source": [
    "X = data.drop(columns=[\"winner\", \"_id\"])\n",
    "y = data[\"winner\"]"
   ]
  },
  {
   "cell_type": "markdown",
   "metadata": {},
   "source": [
    "Scaling data is crucial for performance of some algorithms.\n",
    "\n",
    "**TODO: there are several scalers available. Which one should be used?**"
   ]
  },
  {
   "cell_type": "code",
   "execution_count": 7,
   "metadata": {},
   "outputs": [],
   "source": [
    "scaler = StandardScaler()\n",
    "X = pd.DataFrame(scaler.fit_transform(X), columns=X.columns)"
   ]
  },
  {
   "cell_type": "markdown",
   "metadata": {},
   "source": [
    "Split 70% of the data into the train dataset and the remaining 30% into the test dataset."
   ]
  },
  {
   "cell_type": "code",
   "execution_count": 8,
   "metadata": {},
   "outputs": [],
   "source": [
    "X_train, X_test, y_train, y_test = train_test_split(X, y, test_size=0.3, random_state=SEED)"
   ]
  },
  {
   "cell_type": "code",
   "execution_count": 9,
   "metadata": {},
   "outputs": [
    {
     "name": "stdout",
     "output_type": "stream",
     "text": [
      "X_train shape: (48241, 47)\n",
      "X_test shape: (20676, 47)\n"
     ]
    }
   ],
   "source": [
    "print(\"X_train shape:\", X_train.shape)\n",
    "print(\"X_test shape:\", X_test.shape)"
   ]
  },
  {
   "cell_type": "markdown",
   "metadata": {},
   "source": [
    "# Baseline Model"
   ]
  },
  {
   "cell_type": "code",
   "execution_count": 10,
   "metadata": {},
   "outputs": [],
   "source": [
    "rf = RandomForestClassifier(random_state=SEED)"
   ]
  },
  {
   "cell_type": "code",
   "execution_count": 11,
   "metadata": {},
   "outputs": [],
   "source": [
    "rf.fit(X_train, y_train);"
   ]
  },
  {
   "cell_type": "markdown",
   "metadata": {},
   "source": [
    "## Evaluation Fundamentals"
   ]
  },
  {
   "cell_type": "markdown",
   "metadata": {},
   "source": [
    "Too evaluate a classification model the five most common metrics are:\n",
    "\n",
    "* Accuracy\n",
    "* Precision\n",
    "* Recall\n",
    "* F1-Score\n",
    "* AUC (Area under the ROC curve)\n",
    "\n",
    "**TODO: talk about the most important measures and how they will be presented**"
   ]
  },
  {
   "cell_type": "code",
   "execution_count": 12,
   "metadata": {},
   "outputs": [
    {
     "data": {
      "text/html": [
       "<style  type=\"text/css\" >\n",
       "</style><table id=\"T_88d509b4_36ca_11ec_a2cc_d4258b2a60f6\" ><caption>Classification Report</caption><thead>    <tr>        <th class=\"blank level0\" ></th>        <th class=\"col_heading level0 col0\" >0</th>        <th class=\"col_heading level0 col1\" >1</th>        <th class=\"col_heading level0 col2\" >macro avg</th>        <th class=\"col_heading level0 col3\" >weighted avg</th>    </tr></thead><tbody>\n",
       "                <tr>\n",
       "                        <th id=\"T_88d509b4_36ca_11ec_a2cc_d4258b2a60f6level0_row0\" class=\"row_heading level0 row0\" >precision</th>\n",
       "                        <td id=\"T_88d509b4_36ca_11ec_a2cc_d4258b2a60f6row0_col0\" class=\"data row0 col0\" >0.602503</td>\n",
       "                        <td id=\"T_88d509b4_36ca_11ec_a2cc_d4258b2a60f6row0_col1\" class=\"data row0 col1\" >0.607463</td>\n",
       "                        <td id=\"T_88d509b4_36ca_11ec_a2cc_d4258b2a60f6row0_col2\" class=\"data row0 col2\" >0.604983</td>\n",
       "                        <td id=\"T_88d509b4_36ca_11ec_a2cc_d4258b2a60f6row0_col3\" class=\"data row0 col3\" >0.604969</td>\n",
       "            </tr>\n",
       "            <tr>\n",
       "                        <th id=\"T_88d509b4_36ca_11ec_a2cc_d4258b2a60f6level0_row1\" class=\"row_heading level0 row1\" >recall</th>\n",
       "                        <td id=\"T_88d509b4_36ca_11ec_a2cc_d4258b2a60f6row1_col0\" class=\"data row1 col0\" >0.629736</td>\n",
       "                        <td id=\"T_88d509b4_36ca_11ec_a2cc_d4258b2a60f6row1_col1\" class=\"data row1 col1\" >0.579685</td>\n",
       "                        <td id=\"T_88d509b4_36ca_11ec_a2cc_d4258b2a60f6row1_col2\" class=\"data row1 col2\" >0.604711</td>\n",
       "                        <td id=\"T_88d509b4_36ca_11ec_a2cc_d4258b2a60f6row1_col3\" class=\"data row1 col3\" >0.604856</td>\n",
       "            </tr>\n",
       "            <tr>\n",
       "                        <th id=\"T_88d509b4_36ca_11ec_a2cc_d4258b2a60f6level0_row2\" class=\"row_heading level0 row2\" >f1-score</th>\n",
       "                        <td id=\"T_88d509b4_36ca_11ec_a2cc_d4258b2a60f6row2_col0\" class=\"data row2 col0\" >0.615819</td>\n",
       "                        <td id=\"T_88d509b4_36ca_11ec_a2cc_d4258b2a60f6row2_col1\" class=\"data row2 col1\" >0.593249</td>\n",
       "                        <td id=\"T_88d509b4_36ca_11ec_a2cc_d4258b2a60f6row2_col2\" class=\"data row2 col2\" >0.604534</td>\n",
       "                        <td id=\"T_88d509b4_36ca_11ec_a2cc_d4258b2a60f6row2_col3\" class=\"data row2 col3\" >0.604599</td>\n",
       "            </tr>\n",
       "            <tr>\n",
       "                        <th id=\"T_88d509b4_36ca_11ec_a2cc_d4258b2a60f6level0_row3\" class=\"row_heading level0 row3\" >support</th>\n",
       "                        <td id=\"T_88d509b4_36ca_11ec_a2cc_d4258b2a60f6row3_col0\" class=\"data row3 col0\" >10398.000000</td>\n",
       "                        <td id=\"T_88d509b4_36ca_11ec_a2cc_d4258b2a60f6row3_col1\" class=\"data row3 col1\" >10278.000000</td>\n",
       "                        <td id=\"T_88d509b4_36ca_11ec_a2cc_d4258b2a60f6row3_col2\" class=\"data row3 col2\" >20676.000000</td>\n",
       "                        <td id=\"T_88d509b4_36ca_11ec_a2cc_d4258b2a60f6row3_col3\" class=\"data row3 col3\" >20676.000000</td>\n",
       "            </tr>\n",
       "    </tbody></table>"
      ],
      "text/plain": [
       "<pandas.io.formats.style.Styler at 0x1faaa089ca0>"
      ]
     },
     "metadata": {},
     "output_type": "display_data"
    },
    {
     "name": "stdout",
     "output_type": "stream",
     "text": [
      "Train Accuracy: 1.0000\t\tTest Accuracy: 0.6049\n"
     ]
    },
    {
     "data": {
      "image/png": "[encoded data removed]",
      "text/plain": [
       "<Figure size 576x432 with 1 Axes>"
      ]
     },
     "metadata": {},
     "output_type": "display_data"
    }
   ],
   "source": [
    "print_metrics(rf, X_train, y_train, X_test, y_test)"
   ]
  },
  {
   "cell_type": "code",
   "execution_count": 13,
   "metadata": {},
   "outputs": [
    {
     "data": {
      "text/html": [
       "<div>\n",
       "<style scoped>\n",
       "    .dataframe tbody tr th:only-of-type {\n",
       "        vertical-align: middle;\n",
       "    }\n",
       "\n",
       "    .dataframe tbody tr th {\n",
       "        vertical-align: top;\n",
       "    }\n",
       "\n",
       "    .dataframe thead th {\n",
       "        text-align: right;\n",
       "    }\n",
       "</style>\n",
       "<table border=\"1\" class=\"dataframe\">\n",
       "  <thead>\n",
       "    <tr style=\"text-align: right;\">\n",
       "      <th></th>\n",
       "      <th>features</th>\n",
       "      <th>importances</th>\n",
       "    </tr>\n",
       "  </thead>\n",
       "  <tbody>\n",
       "    <tr>\n",
       "      <th>3</th>\n",
       "      <td>dif_mean_elo</td>\n",
       "      <td>0.045815</td>\n",
       "    </tr>\n",
       "    <tr>\n",
       "      <th>29</th>\n",
       "      <td>dif_mean_weighted_kd_by_elo_prev</td>\n",
       "      <td>0.037468</td>\n",
       "    </tr>\n",
       "    <tr>\n",
       "      <th>31</th>\n",
       "      <td>dif_mean_rating_prev</td>\n",
       "      <td>0.028639</td>\n",
       "    </tr>\n",
       "    <tr>\n",
       "      <th>15</th>\n",
       "      <td>dif_mean_kd_on_map</td>\n",
       "      <td>0.028203</td>\n",
       "    </tr>\n",
       "    <tr>\n",
       "      <th>13</th>\n",
       "      <td>dif_mean_matches_on_map</td>\n",
       "      <td>0.028156</td>\n",
       "    </tr>\n",
       "    <tr>\n",
       "      <th>18</th>\n",
       "      <td>dif_mean_matches_map_preference</td>\n",
       "      <td>0.027384</td>\n",
       "    </tr>\n",
       "    <tr>\n",
       "      <th>28</th>\n",
       "      <td>dif_mean_kd_prev</td>\n",
       "      <td>0.027312</td>\n",
       "    </tr>\n",
       "    <tr>\n",
       "      <th>4</th>\n",
       "      <td>dif_stddev_elo</td>\n",
       "      <td>0.027251</td>\n",
       "    </tr>\n",
       "    <tr>\n",
       "      <th>9</th>\n",
       "      <td>dif_mean_winrate</td>\n",
       "      <td>0.026969</td>\n",
       "    </tr>\n",
       "    <tr>\n",
       "      <th>38</th>\n",
       "      <td>dif_mean_dif_elo_prev</td>\n",
       "      <td>0.026955</td>\n",
       "    </tr>\n",
       "    <tr>\n",
       "      <th>14</th>\n",
       "      <td>dif_mean_winrate_on_map</td>\n",
       "      <td>0.026605</td>\n",
       "    </tr>\n",
       "    <tr>\n",
       "      <th>8</th>\n",
       "      <td>dif_mean_matches</td>\n",
       "      <td>0.025832</td>\n",
       "    </tr>\n",
       "    <tr>\n",
       "      <th>30</th>\n",
       "      <td>dif_multikills_score_prev</td>\n",
       "      <td>0.025822</td>\n",
       "    </tr>\n",
       "    <tr>\n",
       "      <th>0</th>\n",
       "      <td>match_mean_elo</td>\n",
       "      <td>0.025675</td>\n",
       "    </tr>\n",
       "    <tr>\n",
       "      <th>17</th>\n",
       "      <td>dif_mean_rating_on_map</td>\n",
       "      <td>0.025559</td>\n",
       "    </tr>\n",
       "    <tr>\n",
       "      <th>36</th>\n",
       "      <td>dif_mean_delta_elo_prev</td>\n",
       "      <td>0.025386</td>\n",
       "    </tr>\n",
       "    <tr>\n",
       "      <th>10</th>\n",
       "      <td>dif_mean_kd</td>\n",
       "      <td>0.024932</td>\n",
       "    </tr>\n",
       "    <tr>\n",
       "      <th>23</th>\n",
       "      <td>dif_mean_created_at_faceit</td>\n",
       "      <td>0.024603</td>\n",
       "    </tr>\n",
       "    <tr>\n",
       "      <th>24</th>\n",
       "      <td>dif_stddev_created_at_faceit</td>\n",
       "      <td>0.024405</td>\n",
       "    </tr>\n",
       "    <tr>\n",
       "      <th>37</th>\n",
       "      <td>dif_mean_dif_rounds_prev</td>\n",
       "      <td>0.024222</td>\n",
       "    </tr>\n",
       "  </tbody>\n",
       "</table>\n",
       "</div>"
      ],
      "text/plain": [
       "                            features  importances\n",
       "3                       dif_mean_elo     0.045815\n",
       "29  dif_mean_weighted_kd_by_elo_prev     0.037468\n",
       "31              dif_mean_rating_prev     0.028639\n",
       "15                dif_mean_kd_on_map     0.028203\n",
       "13           dif_mean_matches_on_map     0.028156\n",
       "18   dif_mean_matches_map_preference     0.027384\n",
       "28                  dif_mean_kd_prev     0.027312\n",
       "4                     dif_stddev_elo     0.027251\n",
       "9                   dif_mean_winrate     0.026969\n",
       "38             dif_mean_dif_elo_prev     0.026955\n",
       "14           dif_mean_winrate_on_map     0.026605\n",
       "8                   dif_mean_matches     0.025832\n",
       "30         dif_multikills_score_prev     0.025822\n",
       "0                     match_mean_elo     0.025675\n",
       "17            dif_mean_rating_on_map     0.025559\n",
       "36           dif_mean_delta_elo_prev     0.025386\n",
       "10                       dif_mean_kd     0.024932\n",
       "23        dif_mean_created_at_faceit     0.024603\n",
       "24      dif_stddev_created_at_faceit     0.024405\n",
       "37          dif_mean_dif_rounds_prev     0.024222"
      ]
     },
     "execution_count": 13,
     "metadata": {},
     "output_type": "execute_result"
    }
   ],
   "source": [
    "feature_importances_df = pd.DataFrame({\"features\":X_train.columns, \"importances\":rf.feature_importances_})\n",
    "feature_importances_df.sort_values(by=\"importances\", ascending=False).head(20)"
   ]
  },
  {
   "cell_type": "markdown",
   "metadata": {},
   "source": [
    "# Traditional Classifiers (Scikit-learn)"
   ]
  },
  {
   "cell_type": "code",
   "execution_count": 14,
   "metadata": {},
   "outputs": [],
   "source": [
    "clfs = {}\n",
    "clfs[\"Linear Disc. Analysis\"] = LinearDiscriminantAnalysis()\n",
    "clfs[\"AdaBoost\"] = AdaBoostClassifier(random_state=SEED)\n",
    "clfs[\"Bagging\"] = BaggingClassifier(random_state=SEED)\n",
    "clfs[\"Extra Trees Ensemble\"] = ExtraTreesClassifier(random_state=SEED)\n",
    "clfs[\"Gradient Boosting\"] = GradientBoostingClassifier(random_state=SEED)\n",
    "clfs[\"Random Forest\"] = RandomForestClassifier(random_state=SEED)\n",
    "clfs[\"Ridge\"] = RidgeClassifier(random_state=SEED)\n",
    "clfs[\"Logistic Regression\"] = LogisticRegression(random_state=SEED)\n",
    "clfs[\"BernoulliNB\"] = BernoulliNB()\n",
    "clfs[\"Multi Layer Perceptron\"] = MLPClassifier(random_state=SEED)\n",
    "clfs[\"Linear SVC\"] = LinearSVC(random_state=SEED)\n",
    "clfs[\"Decision Tree\"] = DecisionTreeClassifier(random_state=SEED)\n",
    "clfs[\"Extra Tree\"] = ExtraTreeClassifier(random_state=SEED)\n",
    "clfs[\"XGB\"] = XGBClassifier(random_state=SEED)\n",
    "\n",
    "\n",
    "# Create dict for classifiers with feature_importances_ attribute\n",
    "has_feature_importances = {\n",
    "    \"AdaBoost\",\n",
    "    \"Extra Trees Ensemble\",\n",
    "    \"Gradient Boosting\",\n",
    "    \"Random Forest\",\n",
    "    \"Decision Tree\",\n",
    "    \"Extra Tree\",\n",
    "    \"XGB\",\n",
    "}"
   ]
  },
  {
   "cell_type": "code",
   "execution_count": 15,
   "metadata": {},
   "outputs": [],
   "source": [
    "scoring_metrics = ('accuracy', 'roc_auc')\n",
    "cv_folds = 5"
   ]
  },
  {
   "cell_type": "code",
   "execution_count": null,
   "metadata": {},
   "outputs": [],
   "source": [
    "clfs_df, fts_imp_df = [], []\n",
    "\n",
    "for name, clf in clfs.items():\n",
    "    print(\"Fitting\", name)\n",
    "\n",
    "    index = pd.MultiIndex.from_product([[name], range(cv_folds)], names=[\"classifier\", \"fold_number\"])\n",
    "    output = cross_validate(clf, X_train, y_train, cv=cv_folds, scoring=scoring_metrics, return_train_score=True, return_estimator=True)\n",
    "\n",
    "    clfs_df.append(pd.DataFrame(output, index=index))\n",
    "\n",
    "    if name in has_feature_importances:\n",
    "        fts_imp_df.append(pd.DataFrame([e.feature_importances_ for e in output[\"estimator\"]], index=index, columns=X_train.columns))\n",
    "\n",
    "\n",
    "clfs_df = pd.concat(clfs_df)\n",
    "fts_imp_df = pd.concat(fts_imp_df)"
   ]
  },
  {
   "cell_type": "code",
   "execution_count": null,
   "metadata": {},
   "outputs": [],
   "source": [
    "ordered_clfs_df = clfs_df.groupby(by=\"classifier\").median().sort_values(by=\"test_accuracy\", ascending=False)\n",
    "ordered_clfs_df"
   ]
  },
  {
   "cell_type": "code",
   "execution_count": null,
   "metadata": {},
   "outputs": [],
   "source": [
    "# 'Ignore' fold number index\n",
    "classifiers_indexes = clfs_df.index.get_level_values(level=0)"
   ]
  },
  {
   "cell_type": "code",
   "execution_count": null,
   "metadata": {},
   "outputs": [],
   "source": [
    "fig, (ax1, ax2) = plt.subplots(1,2, figsize=(18,6), sharey=True)\n",
    "styling_props = {\"whiskerprops\":{\"color\":\"gray\"}, \"capprops\":{\"color\":\"gray\"}, \"flierprops\":{\"markerfacecolor\":\"gray\"}}\n",
    "\n",
    "sns.boxplot(x=clfs_df.test_accuracy, y=classifiers_indexes, order=ordered_clfs_df.index, ax=ax1, palette=\"gist_heat\", **styling_props)\n",
    "sns.boxplot(x=clfs_df.test_roc_auc, y=classifiers_indexes, order=ordered_clfs_df.index, ax=ax2, palette=\"gist_heat\", **styling_props)\n",
    "plt.tight_layout()"
   ]
  },
  {
   "cell_type": "code",
   "execution_count": null,
   "metadata": {},
   "outputs": [],
   "source": [
    "ordered_fts_imp_df = fts_imp_df.median().sort_values(ascending=False)"
   ]
  },
  {
   "cell_type": "code",
   "execution_count": null,
   "metadata": {},
   "outputs": [],
   "source": [
    "plt.figure(figsize=(12,16))\n",
    "ax = sns.boxplot(\n",
    "    data=fts_imp_df.melt(),\n",
    "    y=\"variable\",\n",
    "    x=\"value\",\n",
    "    order=ordered_fts_imp_df.index,\n",
    "    palette=\"gist_heat\",\n",
    "    **styling_props)\n",
    "    \n",
    "ax.set_ylabel(\"Feature Name\")\n",
    "ax.set_xlabel(\"Feature Importance\")\n",
    "plt.tight_layout()"
   ]
  },
  {
   "cell_type": "markdown",
   "metadata": {},
   "source": [
    "Write about most promising algorithms based on the results and take into account the algorithms that usually yield better results (such as in Kaggle competitions).\n",
    "\n",
    "Get Feature importance for the several tree-based algorithms."
   ]
  },
  {
   "cell_type": "markdown",
   "metadata": {},
   "source": [
    "## Inital Hyperparameter Tuning"
   ]
  },
  {
   "cell_type": "markdown",
   "metadata": {},
   "source": [
    "Perform simple hyperparameter tuning on a small range of parameters of the best or most promising algorithms before going into feature selection.\n",
    "\n",
    "There are some highly regarded algorithms such as XGBoost that currently have a subpar performance, probably due to inadequate hyperparameters. So, using the *raw* and *untuned* version of XGBoost during Feature Selection will propagate such errors and lead to an non-optimal solution."
   ]
  },
  {
   "cell_type": "code",
   "execution_count": null,
   "metadata": {},
   "outputs": [],
   "source": [
    "xgb_params = {\n",
    "    \"learning_rate\": [0.01, 0.05],\n",
    "    \"n_estimators\":[50, 100],\n",
    "    'max_depth':range(3,10,2),\n",
    "    'min_child_weight':range(1,6,2)\n",
    "}"
   ]
  },
  {
   "cell_type": "code",
   "execution_count": null,
   "metadata": {},
   "outputs": [],
   "source": [
    "xgb = XGBClassifier(random_state=SEED)\n",
    "gs = GridSearchCV(estimator=xgb, param_grid = xgb_params, cv=cv_folds, scoring=scoring_metrics, refit='roc_auc', n_jobs=-1, return_train_score=True, verbose=2)\n",
    "\n",
    "gs.fit(X_train, y_train);"
   ]
  },
  {
   "cell_type": "code",
   "execution_count": null,
   "metadata": {},
   "outputs": [],
   "source": [
    "print(\"Best AUC:\", gs.best_score_)\n",
    "print(\"Best XGB params:\", gs.best_params_)\n",
    "best_xgb = gs.best_estimator_"
   ]
  },
  {
   "cell_type": "markdown",
   "metadata": {},
   "source": [
    "## Feature Selection"
   ]
  },
  {
   "cell_type": "markdown",
   "metadata": {},
   "source": [
    "Recursive feature elimination with cross-validation to select the number of features."
   ]
  },
  {
   "cell_type": "code",
   "execution_count": null,
   "metadata": {},
   "outputs": [],
   "source": [
    "feature_selector = RFECV(best_xgb, cv=cv_folds, step=1, scoring=\"roc_auc\")\n",
    "feature_selector.fit(X_train, y_train);"
   ]
  },
  {
   "cell_type": "code",
   "execution_count": null,
   "metadata": {},
   "outputs": [],
   "source": [
    "# list of tuples (n_features, auc_test_score) starting at n_features=1 until 47\n",
    "n_features_vs_auc = enumerate(feature_selector.cv_results_[\"mean_test_score\"], 1)\n",
    "n_features_vs_auc_df = pd.DataFrame(n_features_vs_auc, columns=[\"n_features\", \"AUC\"])"
   ]
  },
  {
   "cell_type": "code",
   "execution_count": null,
   "metadata": {},
   "outputs": [],
   "source": [
    "n_features_opt, auc_opt = n_features_vs_auc_df.sort_values(by=\"AUC\").iloc[-1]\n",
    "print(f\"Max AUC {auc_opt:.4f} for {n_features_opt:.0f} features\")"
   ]
  },
  {
   "cell_type": "code",
   "execution_count": null,
   "metadata": {},
   "outputs": [],
   "source": [
    "plt.figure(figsize=(12,6))\n",
    "ax = sns.lineplot(data=n_features_vs_auc_df, x=\"n_features\", y=\"AUC\", marker=\"o\")\n",
    "ax.set_title(\"Number of Features vs Test AUC value\")\n",
    "plt.tight_layout()"
   ]
  },
  {
   "cell_type": "code",
   "execution_count": null,
   "metadata": {},
   "outputs": [],
   "source": [
    "n_features_in_ = feature_selector.n_features_in_\n",
    "n_features = feature_selector.n_features_\n",
    "\n",
    "# Get selected features\n",
    "selected_features = feature_selector.feature_names_in_[feature_selector.support_]\n",
    "\n",
    "nl = '\\n'\n",
    "print(f'From {n_features_in_} features only {n_features} were selected:{nl}{nl.join(selected_features)}')"
   ]
  },
  {
   "cell_type": "code",
   "execution_count": null,
   "metadata": {},
   "outputs": [],
   "source": [
    "X_train_ft_sel = X_train[selected_features]\n",
    "X_test_ft_sel = X_test[selected_features]"
   ]
  },
  {
   "cell_type": "markdown",
   "metadata": {},
   "source": [
    "## Extensive Hyperparameter Tuning"
   ]
  },
  {
   "cell_type": "markdown",
   "metadata": {},
   "source": [
    "Selected algorithms to perform hyperparameter tuning:\n",
    "\n",
    "* Linear SVC\n",
    "* Ridge\n",
    "* Linear Discriminant Analysis\n",
    "* Logistic Regression\n",
    "* Gradient Boosting\n",
    "* AdaBoost\n",
    "* Random Forest\n",
    "* XGB"
   ]
  },
  {
   "cell_type": "code",
   "execution_count": 16,
   "metadata": {},
   "outputs": [],
   "source": [
    "selected_clfs = {}\n",
    "selected_clfs[\"Linear SVC\"] = LinearSVC(random_state=SEED)\n",
    "selected_clfs[\"Ridge\"] = RidgeClassifier(random_state=SEED)\n",
    "selected_clfs[\"Linear Disc. Analysis\"] = LinearDiscriminantAnalysis()\n",
    "selected_clfs[\"Logistic Regression\"] = LogisticRegression(random_state=SEED)\n",
    "selected_clfs[\"Gradient Boosting\"] = GradientBoostingClassifier(random_state=SEED)\n",
    "selected_clfs[\"AdaBoost\"] = AdaBoostClassifier(random_state=SEED)\n",
    "selected_clfs[\"Random Forest\"] = RandomForestClassifier(random_state=SEED)\n",
    "selected_clfs[\"XGB\"] = XGBClassifier(random_state=SEED)"
   ]
  },
  {
   "cell_type": "code",
   "execution_count": 17,
   "metadata": {},
   "outputs": [
    {
     "name": "stdout",
     "output_type": "stream",
     "text": [
      "Hyperparameter tuning of Linear SVC\n",
      "Fitting 5 folds for each of 16 candidates, totalling 80 fits\n",
      "Hyperparameter tuning of Ridge\n",
      "Fitting 5 folds for each of 10 candidates, totalling 50 fits\n",
      "Hyperparameter tuning of Linear Disc. Analysis\n",
      "Fitting 5 folds for each of 50 candidates, totalling 250 fits\n",
      "Hyperparameter tuning of Logistic Regression\n",
      "Fitting 5 folds for each of 50 candidates, totalling 250 fits\n",
      "Hyperparameter tuning of Gradient Boosting\n",
      "Fitting 5 folds for each of 50 candidates, totalling 250 fits\n",
      "Hyperparameter tuning of AdaBoost\n",
      "Fitting 5 folds for each of 50 candidates, totalling 250 fits\n",
      "Hyperparameter tuning of Random Forest\n",
      "Fitting 5 folds for each of 50 candidates, totalling 250 fits\n",
      "Hyperparameter tuning of XGB\n",
      "Fitting 5 folds for each of 50 candidates, totalling 250 fits\n"
     ]
    }
   ],
   "source": [
    "hyp_searches = {}\n",
    "\n",
    "for name, clf in selected_clfs.items():\n",
    "    print(\"Hyperparameter tuning of\", name)\n",
    "    hyp_search = tune_hypparams(clf, MODELS_PARAMS[name], X_train, y_train)\n",
    "    hyp_searches[name] = hyp_search"
   ]
  },
  {
   "cell_type": "code",
   "execution_count": 18,
   "metadata": {},
   "outputs": [
    {
     "name": "stdout",
     "output_type": "stream",
     "text": [
      "Fitting Linear SVC\n",
      "Fitting Ridge\n",
      "Fitting Linear Disc. Analysis\n",
      "Fitting Logistic Regression\n",
      "Fitting Gradient Boosting\n",
      "Fitting AdaBoost\n",
      "Fitting Random Forest\n",
      "Fitting XGB\n"
     ]
    }
   ],
   "source": [
    "clfs_df, fts_imp_df = [], []\n",
    "\n",
    "for name, gs in hyp_searches.items():\n",
    "    print(\"Fitting\", name)\n",
    "    best_estimator = gs.best_estimator_\n",
    "    \n",
    "    # get estimator class name and remove parentheses (From LinearSVC() to LinearSVC)\n",
    "    estimator_name = re.sub(r'\\([^)]*\\)', '', str(best_estimator.__class__()))\n",
    "\n",
    "    current_date_string = datetime.utcnow().strftime(\"%Y_%m_%d_%H_%M_%S\")\n",
    "    model_folder_path = MODEL_DIR / f'model_{estimator_name}_{current_date_string}'\n",
    "\n",
    "    # create models folder\n",
    "    os.mkdir(model_folder_path)\n",
    "\n",
    "    # save models\n",
    "    joblib.dump(best_estimator, f'{str(model_folder_path)}/model.joblib')\n",
    "\n",
    "    index = pd.MultiIndex.from_product([[name], range(cv_folds)], names=[\"classifier\", \"fold_number\"])\n",
    "    output = cross_validate(best_estimator, X_train, y_train, cv=cv_folds, scoring=scoring_metrics, return_train_score=True, return_estimator=True)\n",
    "\n",
    "    clfs_df.append(pd.DataFrame(output, index=index))\n",
    "\n",
    "    if name in has_feature_importances:\n",
    "        fts_imp_df.append(pd.DataFrame([e.feature_importances_ for e in output[\"estimator\"]], index=index, columns=X_train.columns))\n",
    "\n",
    "\n",
    "clfs_df = pd.concat(clfs_df)\n",
    "fts_imp_df = pd.concat(fts_imp_df)"
   ]
  },
  {
   "cell_type": "code",
   "execution_count": 19,
   "metadata": {},
   "outputs": [
    {
     "data": {
      "text/html": [
       "<div>\n",
       "<style scoped>\n",
       "    .dataframe tbody tr th:only-of-type {\n",
       "        vertical-align: middle;\n",
       "    }\n",
       "\n",
       "    .dataframe tbody tr th {\n",
       "        vertical-align: top;\n",
       "    }\n",
       "\n",
       "    .dataframe thead th {\n",
       "        text-align: right;\n",
       "    }\n",
       "</style>\n",
       "<table border=\"1\" class=\"dataframe\">\n",
       "  <thead>\n",
       "    <tr style=\"text-align: right;\">\n",
       "      <th></th>\n",
       "      <th>fit_time</th>\n",
       "      <th>score_time</th>\n",
       "      <th>test_accuracy</th>\n",
       "      <th>train_accuracy</th>\n",
       "      <th>test_roc_auc</th>\n",
       "      <th>train_roc_auc</th>\n",
       "    </tr>\n",
       "    <tr>\n",
       "      <th>classifier</th>\n",
       "      <th></th>\n",
       "      <th></th>\n",
       "      <th></th>\n",
       "      <th></th>\n",
       "      <th></th>\n",
       "      <th></th>\n",
       "    </tr>\n",
       "  </thead>\n",
       "  <tbody>\n",
       "    <tr>\n",
       "      <th>Linear Disc. Analysis</th>\n",
       "      <td>0.188673</td>\n",
       "      <td>0.010005</td>\n",
       "      <td>0.617537</td>\n",
       "      <td>0.617184</td>\n",
       "      <td>0.666221</td>\n",
       "      <td>0.666964</td>\n",
       "    </tr>\n",
       "    <tr>\n",
       "      <th>Linear SVC</th>\n",
       "      <td>13.645145</td>\n",
       "      <td>0.011472</td>\n",
       "      <td>0.616915</td>\n",
       "      <td>0.616848</td>\n",
       "      <td>0.666948</td>\n",
       "      <td>0.667455</td>\n",
       "    </tr>\n",
       "    <tr>\n",
       "      <th>Logistic Regression</th>\n",
       "      <td>1.056756</td>\n",
       "      <td>0.010893</td>\n",
       "      <td>0.616294</td>\n",
       "      <td>0.617755</td>\n",
       "      <td>0.667205</td>\n",
       "      <td>0.667569</td>\n",
       "    </tr>\n",
       "    <tr>\n",
       "      <th>Ridge</th>\n",
       "      <td>0.077891</td>\n",
       "      <td>0.011004</td>\n",
       "      <td>0.615568</td>\n",
       "      <td>0.616718</td>\n",
       "      <td>0.666696</td>\n",
       "      <td>0.667275</td>\n",
       "    </tr>\n",
       "    <tr>\n",
       "      <th>AdaBoost</th>\n",
       "      <td>128.157656</td>\n",
       "      <td>4.132959</td>\n",
       "      <td>0.612977</td>\n",
       "      <td>0.621201</td>\n",
       "      <td>0.663941</td>\n",
       "      <td>0.674319</td>\n",
       "    </tr>\n",
       "    <tr>\n",
       "      <th>XGB</th>\n",
       "      <td>30.397032</td>\n",
       "      <td>0.274770</td>\n",
       "      <td>0.612355</td>\n",
       "      <td>0.675952</td>\n",
       "      <td>0.664312</td>\n",
       "      <td>0.748435</td>\n",
       "    </tr>\n",
       "    <tr>\n",
       "      <th>Gradient Boosting</th>\n",
       "      <td>34.711075</td>\n",
       "      <td>0.077819</td>\n",
       "      <td>0.611629</td>\n",
       "      <td>0.628508</td>\n",
       "      <td>0.664587</td>\n",
       "      <td>0.682384</td>\n",
       "    </tr>\n",
       "    <tr>\n",
       "      <th>Random Forest</th>\n",
       "      <td>127.726998</td>\n",
       "      <td>1.834215</td>\n",
       "      <td>0.605100</td>\n",
       "      <td>0.608064</td>\n",
       "      <td>0.649863</td>\n",
       "      <td>0.657796</td>\n",
       "    </tr>\n",
       "  </tbody>\n",
       "</table>\n",
       "</div>"
      ],
      "text/plain": [
       "                         fit_time  score_time  test_accuracy  train_accuracy  \\\n",
       "classifier                                                                     \n",
       "Linear Disc. Analysis    0.188673    0.010005       0.617537        0.617184   \n",
       "Linear SVC              13.645145    0.011472       0.616915        0.616848   \n",
       "Logistic Regression      1.056756    0.010893       0.616294        0.617755   \n",
       "Ridge                    0.077891    0.011004       0.615568        0.616718   \n",
       "AdaBoost               128.157656    4.132959       0.612977        0.621201   \n",
       "XGB                     30.397032    0.274770       0.612355        0.675952   \n",
       "Gradient Boosting       34.711075    0.077819       0.611629        0.628508   \n",
       "Random Forest          127.726998    1.834215       0.605100        0.608064   \n",
       "\n",
       "                       test_roc_auc  train_roc_auc  \n",
       "classifier                                          \n",
       "Linear Disc. Analysis      0.666221       0.666964  \n",
       "Linear SVC                 0.666948       0.667455  \n",
       "Logistic Regression        0.667205       0.667569  \n",
       "Ridge                      0.666696       0.667275  \n",
       "AdaBoost                   0.663941       0.674319  \n",
       "XGB                        0.664312       0.748435  \n",
       "Gradient Boosting          0.664587       0.682384  \n",
       "Random Forest              0.649863       0.657796  "
      ]
     },
     "execution_count": 19,
     "metadata": {},
     "output_type": "execute_result"
    }
   ],
   "source": [
    "ordered_clfs_df = clfs_df.groupby(by=\"classifier\").median().sort_values(by=\"test_accuracy\", ascending=False)\n",
    "ordered_clfs_df"
   ]
  },
  {
   "cell_type": "code",
   "execution_count": 20,
   "metadata": {},
   "outputs": [],
   "source": [
    "# 'Ignore' fold number index\n",
    "classifiers_indexes = clfs_df.index.get_level_values(level=0)"
   ]
  },
  {
   "cell_type": "code",
   "execution_count": 21,
   "metadata": {},
   "outputs": [
    {
     "data": {
      "image/png": "[encoded data removed]",
      "text/plain": [
       "<Figure size 1296x432 with 2 Axes>"
      ]
     },
     "metadata": {},
     "output_type": "display_data"
    }
   ],
   "source": [
    "fig, (ax1, ax2) = plt.subplots(1,2, figsize=(18,6), sharey=True)\n",
    "styling_props = {\"whiskerprops\":{\"color\":\"gray\"}, \"capprops\":{\"color\":\"gray\"}, \"flierprops\":{\"markerfacecolor\":\"gray\"}}\n",
    "\n",
    "sns.boxplot(x=clfs_df.test_accuracy, y=classifiers_indexes, order=ordered_clfs_df.index, ax=ax1, palette=\"gist_heat\", **styling_props)\n",
    "sns.boxplot(x=clfs_df.test_roc_auc, y=classifiers_indexes, order=ordered_clfs_df.index, ax=ax2, palette=\"gist_heat\", **styling_props)\n",
    "plt.tight_layout()"
   ]
  },
  {
   "cell_type": "markdown",
   "metadata": {},
   "source": [
    "# Neural Networks"
   ]
  },
  {
   "cell_type": "markdown",
   "metadata": {},
   "source": [
    "## Overfit Model"
   ]
  },
  {
   "cell_type": "code",
   "execution_count": 26,
   "metadata": {},
   "outputs": [],
   "source": [
    "# Initializing Neural Network\n",
    "nn = tf.keras.Sequential()"
   ]
  },
  {
   "cell_type": "code",
   "execution_count": 27,
   "metadata": {},
   "outputs": [],
   "source": [
    "# Adding input layer\n",
    "nn.add(tf.keras.layers.Dense(32, input_shape=(len(X_train.columns),), activation=\"relu\"))\n",
    "\n",
    "# Adding hidden layers\n",
    "nn.add(tf.keras.layers.Dense(16, activation=\"relu\"))\n",
    "nn.add(tf.keras.layers.Dense(8, activation=\"relu\"))\n",
    "\n",
    "# Adding output layer\n",
    "nn.add(tf.keras.layers.Dense(1, activation='sigmoid'))"
   ]
  },
  {
   "cell_type": "code",
   "execution_count": 28,
   "metadata": {},
   "outputs": [
    {
     "name": "stdout",
     "output_type": "stream",
     "text": [
      "Model: \"sequential_3\"\n",
      "_________________________________________________________________\n",
      "Layer (type)                 Output Shape              Param #   \n",
      "=================================================================\n",
      "dense_16 (Dense)             (None, 32)                1536      \n",
      "_________________________________________________________________\n",
      "dense_17 (Dense)             (None, 16)                528       \n",
      "_________________________________________________________________\n",
      "dense_18 (Dense)             (None, 8)                 136       \n",
      "_________________________________________________________________\n",
      "dense_19 (Dense)             (None, 1)                 9         \n",
      "=================================================================\n",
      "Total params: 2,209\n",
      "Trainable params: 2,209\n",
      "Non-trainable params: 0\n",
      "_________________________________________________________________\n",
      "None\n"
     ]
    }
   ],
   "source": [
    "print(nn.summary())"
   ]
  },
  {
   "cell_type": "code",
   "execution_count": 29,
   "metadata": {},
   "outputs": [],
   "source": [
    "# compile the model\n",
    "nn.compile(optimizer='adam', loss='binary_crossentropy', metrics=['accuracy'])"
   ]
  },
  {
   "cell_type": "code",
   "execution_count": 30,
   "metadata": {},
   "outputs": [
    {
     "name": "stdout",
     "output_type": "stream",
     "text": [
      "Epoch 1/20\n",
      "411/411 [==============================] - 1s 2ms/step - loss: 0.6655 - accuracy: 0.5907 - val_loss: 0.6534 - val_accuracy: 0.6012\n",
      "Epoch 2/20\n",
      "411/411 [==============================] - 1s 1ms/step - loss: 0.6513 - accuracy: 0.6110 - val_loss: 0.6498 - val_accuracy: 0.6036\n",
      "Epoch 3/20\n",
      "411/411 [==============================] - 0s 806us/step - loss: 0.6474 - accuracy: 0.6156 - val_loss: 0.6483 - val_accuracy: 0.6074\n",
      "Epoch 4/20\n",
      "411/411 [==============================] - 0s 1ms/step - loss: 0.6453 - accuracy: 0.6186 - val_loss: 0.6487 - val_accuracy: 0.6087\n",
      "Epoch 5/20\n",
      "411/411 [==============================] - 0s 980us/step - loss: 0.6437 - accuracy: 0.6196 - val_loss: 0.6480 - val_accuracy: 0.6072\n",
      "Epoch 6/20\n",
      "411/411 [==============================] - 0s 1ms/step - loss: 0.6425 - accuracy: 0.6217 - val_loss: 0.6490 - val_accuracy: 0.6065\n",
      "Epoch 7/20\n",
      "411/411 [==============================] - 0s 1ms/step - loss: 0.6416 - accuracy: 0.6225 - val_loss: 0.6503 - val_accuracy: 0.6051\n",
      "Epoch 8/20\n",
      "411/411 [==============================] - 0s 1ms/step - loss: 0.6400 - accuracy: 0.6254 - val_loss: 0.6498 - val_accuracy: 0.6041\n",
      "Epoch 9/20\n",
      "411/411 [==============================] - 0s 1ms/step - loss: 0.6393 - accuracy: 0.6260 - val_loss: 0.6500 - val_accuracy: 0.6033\n",
      "Epoch 10/20\n",
      "411/411 [==============================] - 1s 1ms/step - loss: 0.6383 - accuracy: 0.6275 - val_loss: 0.6504 - val_accuracy: 0.6030\n",
      "Epoch 11/20\n",
      "411/411 [==============================] - 0s 1ms/step - loss: 0.6372 - accuracy: 0.6306 - val_loss: 0.6516 - val_accuracy: 0.6019\n",
      "Epoch 12/20\n",
      "411/411 [==============================] - 1s 1ms/step - loss: 0.6365 - accuracy: 0.6307 - val_loss: 0.6516 - val_accuracy: 0.6008\n",
      "Epoch 13/20\n",
      "411/411 [==============================] - 0s 1ms/step - loss: 0.6350 - accuracy: 0.6313 - val_loss: 0.6516 - val_accuracy: 0.6005\n",
      "Epoch 14/20\n",
      "411/411 [==============================] - 0s 1ms/step - loss: 0.6341 - accuracy: 0.6327 - val_loss: 0.6526 - val_accuracy: 0.6025\n",
      "Epoch 15/20\n",
      "411/411 [==============================] - 1s 2ms/step - loss: 0.6336 - accuracy: 0.6326 - val_loss: 0.6526 - val_accuracy: 0.6008\n",
      "Epoch 16/20\n",
      "411/411 [==============================] - 0s 1ms/step - loss: 0.6324 - accuracy: 0.6337 - val_loss: 0.6535 - val_accuracy: 0.6048\n",
      "Epoch 17/20\n",
      "411/411 [==============================] - 1s 1ms/step - loss: 0.6316 - accuracy: 0.6354 - val_loss: 0.6549 - val_accuracy: 0.6055\n",
      "Epoch 18/20\n",
      "411/411 [==============================] - 0s 1ms/step - loss: 0.6313 - accuracy: 0.6373 - val_loss: 0.6545 - val_accuracy: 0.6015\n",
      "Epoch 19/20\n",
      "411/411 [==============================] - 0s 1ms/step - loss: 0.6303 - accuracy: 0.6362 - val_loss: 0.6561 - val_accuracy: 0.6056\n",
      "Epoch 20/20\n",
      "411/411 [==============================] - 0s 1ms/step - loss: 0.6295 - accuracy: 0.6386 - val_loss: 0.6560 - val_accuracy: 0.6041\n"
     ]
    }
   ],
   "source": [
    "history = nn.fit(X_train, y_train, epochs=20, batch_size=100, validation_split=0.15, verbose=1)"
   ]
  },
  {
   "cell_type": "code",
   "execution_count": 31,
   "metadata": {},
   "outputs": [
    {
     "data": {
      "image/png": "[encoded data removed]",
      "text/plain": [
       "<Figure size 1296x432 with 2 Axes>"
      ]
     },
     "metadata": {},
     "output_type": "display_data"
    }
   ],
   "source": [
    "nn_compare_train_val(history)"
   ]
  },
  {
   "cell_type": "markdown",
   "metadata": {},
   "source": [
    "## Non-Overfit Model"
   ]
  },
  {
   "cell_type": "code",
   "execution_count": 51,
   "metadata": {},
   "outputs": [],
   "source": [
    "# Initializing Neural Network\n",
    "nn = tf.keras.Sequential()"
   ]
  },
  {
   "cell_type": "code",
   "execution_count": 52,
   "metadata": {},
   "outputs": [],
   "source": [
    "# Adding input layer\n",
    "nn.add(tf.keras.layers.Dense(32, input_shape=(len(X_train.columns),), activation=\"relu\"))\n",
    "\n",
    "# Adding hidden layers\n",
    "nn.add(tf.keras.layers.Dropout(rate=0.5))\n",
    "nn.add(tf.keras.layers.Dense(16, activation=\"relu\"))\n",
    "nn.add(tf.keras.layers.Dropout(rate=0.5))\n",
    "nn.add(tf.keras.layers.Dense(8, activation=\"relu\"))\n",
    "\n",
    "# Adding output layer\n",
    "nn.add(tf.keras.layers.Dense(1, activation='sigmoid'))"
   ]
  },
  {
   "cell_type": "code",
   "execution_count": 53,
   "metadata": {},
   "outputs": [],
   "source": [
    "# compile the model\n",
    "nn.compile(optimizer='adam', loss='binary_crossentropy', metrics=['accuracy'])"
   ]
  },
  {
   "cell_type": "code",
   "execution_count": 54,
   "metadata": {},
   "outputs": [
    {
     "name": "stdout",
     "output_type": "stream",
     "text": [
      "Epoch 1/40\n",
      "411/411 [==============================] - 1s 2ms/step - loss: 0.7041 - accuracy: 0.5021 - val_loss: 0.6932 - val_accuracy: 0.5104\n",
      "Epoch 2/40\n",
      "411/411 [==============================] - 1s 2ms/step - loss: 0.6928 - accuracy: 0.5158 - val_loss: 0.6911 - val_accuracy: 0.5432\n",
      "Epoch 3/40\n",
      "411/411 [==============================] - 1s 2ms/step - loss: 0.6881 - accuracy: 0.5408 - val_loss: 0.6829 - val_accuracy: 0.5687\n",
      "Epoch 4/40\n",
      "411/411 [==============================] - 1s 2ms/step - loss: 0.6819 - accuracy: 0.5654 - val_loss: 0.6731 - val_accuracy: 0.5871\n",
      "Epoch 5/40\n",
      "411/411 [==============================] - 1s 2ms/step - loss: 0.6784 - accuracy: 0.5763 - val_loss: 0.6750 - val_accuracy: 0.5842\n",
      "Epoch 6/40\n",
      "411/411 [==============================] - 1s 2ms/step - loss: 0.6747 - accuracy: 0.5848 - val_loss: 0.6734 - val_accuracy: 0.5902\n",
      "Epoch 7/40\n",
      "411/411 [==============================] - 1s 2ms/step - loss: 0.6705 - accuracy: 0.5915 - val_loss: 0.6645 - val_accuracy: 0.6047\n",
      "Epoch 8/40\n",
      "411/411 [==============================] - 1s 2ms/step - loss: 0.6692 - accuracy: 0.5962 - val_loss: 0.6695 - val_accuracy: 0.6032\n",
      "Epoch 9/40\n",
      "411/411 [==============================] - 1s 2ms/step - loss: 0.6665 - accuracy: 0.6014 - val_loss: 0.6646 - val_accuracy: 0.6112\n",
      "Epoch 10/40\n",
      "411/411 [==============================] - 1s 2ms/step - loss: 0.6650 - accuracy: 0.6006 - val_loss: 0.6602 - val_accuracy: 0.6099\n",
      "Epoch 11/40\n",
      "411/411 [==============================] - 1s 2ms/step - loss: 0.6639 - accuracy: 0.6035 - val_loss: 0.6609 - val_accuracy: 0.6116\n",
      "Epoch 12/40\n",
      "411/411 [==============================] - 1s 2ms/step - loss: 0.6632 - accuracy: 0.6063 - val_loss: 0.6632 - val_accuracy: 0.6114\n",
      "Epoch 13/40\n",
      "411/411 [==============================] - 1s 2ms/step - loss: 0.6627 - accuracy: 0.6070 - val_loss: 0.6674 - val_accuracy: 0.6108\n",
      "Epoch 14/40\n",
      "411/411 [==============================] - 1s 2ms/step - loss: 0.6625 - accuracy: 0.6079 - val_loss: 0.6597 - val_accuracy: 0.6117\n",
      "Epoch 15/40\n",
      "411/411 [==============================] - 1s 2ms/step - loss: 0.6620 - accuracy: 0.6085 - val_loss: 0.6581 - val_accuracy: 0.6109\n",
      "Epoch 16/40\n",
      "411/411 [==============================] - 1s 2ms/step - loss: 0.6600 - accuracy: 0.6100 - val_loss: 0.6587 - val_accuracy: 0.6081\n",
      "Epoch 17/40\n",
      "411/411 [==============================] - 1s 2ms/step - loss: 0.6603 - accuracy: 0.6098 - val_loss: 0.6601 - val_accuracy: 0.6083\n",
      "Epoch 18/40\n",
      "411/411 [==============================] - 1s 2ms/step - loss: 0.6597 - accuracy: 0.6120 - val_loss: 0.6645 - val_accuracy: 0.6095\n",
      "Epoch 19/40\n",
      "411/411 [==============================] - 1s 2ms/step - loss: 0.6591 - accuracy: 0.6122 - val_loss: 0.6587 - val_accuracy: 0.6108\n",
      "Epoch 20/40\n",
      "411/411 [==============================] - 1s 2ms/step - loss: 0.6592 - accuracy: 0.6093 - val_loss: 0.6603 - val_accuracy: 0.6096\n",
      "Epoch 21/40\n",
      "411/411 [==============================] - 1s 2ms/step - loss: 0.6596 - accuracy: 0.6103 - val_loss: 0.6625 - val_accuracy: 0.6106\n",
      "Epoch 22/40\n",
      "411/411 [==============================] - 1s 2ms/step - loss: 0.6577 - accuracy: 0.6135 - val_loss: 0.6615 - val_accuracy: 0.6102\n",
      "Epoch 23/40\n",
      "411/411 [==============================] - 1s 2ms/step - loss: 0.6583 - accuracy: 0.6132 - val_loss: 0.6606 - val_accuracy: 0.6121\n",
      "Epoch 24/40\n",
      "411/411 [==============================] - 1s 2ms/step - loss: 0.6577 - accuracy: 0.6141 - val_loss: 0.6608 - val_accuracy: 0.6080\n",
      "Epoch 25/40\n",
      "411/411 [==============================] - 1s 2ms/step - loss: 0.6577 - accuracy: 0.6145 - val_loss: 0.6604 - val_accuracy: 0.6120\n",
      "Epoch 26/40\n",
      "411/411 [==============================] - 1s 2ms/step - loss: 0.6573 - accuracy: 0.6116 - val_loss: 0.6617 - val_accuracy: 0.6081\n",
      "Epoch 27/40\n",
      "411/411 [==============================] - 1s 2ms/step - loss: 0.6568 - accuracy: 0.6147 - val_loss: 0.6578 - val_accuracy: 0.6105\n",
      "Epoch 28/40\n",
      "411/411 [==============================] - 1s 2ms/step - loss: 0.6556 - accuracy: 0.6154 - val_loss: 0.6565 - val_accuracy: 0.6108\n",
      "Epoch 29/40\n",
      "411/411 [==============================] - 1s 2ms/step - loss: 0.6572 - accuracy: 0.6134 - val_loss: 0.6595 - val_accuracy: 0.6127\n",
      "Epoch 30/40\n",
      "411/411 [==============================] - 1s 2ms/step - loss: 0.6547 - accuracy: 0.6150 - val_loss: 0.6601 - val_accuracy: 0.6069\n",
      "Epoch 31/40\n",
      "411/411 [==============================] - 1s 2ms/step - loss: 0.6562 - accuracy: 0.6148 - val_loss: 0.6608 - val_accuracy: 0.6106\n",
      "Epoch 32/40\n",
      "411/411 [==============================] - 1s 2ms/step - loss: 0.6558 - accuracy: 0.6128 - val_loss: 0.6560 - val_accuracy: 0.6131\n",
      "Epoch 33/40\n",
      "411/411 [==============================] - 1s 2ms/step - loss: 0.6566 - accuracy: 0.6155 - val_loss: 0.6596 - val_accuracy: 0.6112\n",
      "Epoch 34/40\n",
      "411/411 [==============================] - 1s 2ms/step - loss: 0.6554 - accuracy: 0.6136 - val_loss: 0.6586 - val_accuracy: 0.6113\n",
      "Epoch 35/40\n",
      "411/411 [==============================] - 1s 2ms/step - loss: 0.6567 - accuracy: 0.6167 - val_loss: 0.6598 - val_accuracy: 0.6108\n",
      "Epoch 36/40\n",
      "411/411 [==============================] - 1s 2ms/step - loss: 0.6548 - accuracy: 0.6169 - val_loss: 0.6564 - val_accuracy: 0.6145\n",
      "Epoch 37/40\n",
      "411/411 [==============================] - 1s 2ms/step - loss: 0.6554 - accuracy: 0.6167 - val_loss: 0.6563 - val_accuracy: 0.6120\n",
      "Epoch 38/40\n",
      "411/411 [==============================] - 1s 2ms/step - loss: 0.6555 - accuracy: 0.6160 - val_loss: 0.6571 - val_accuracy: 0.6124\n",
      "Epoch 39/40\n",
      "411/411 [==============================] - 1s 2ms/step - loss: 0.6550 - accuracy: 0.6162 - val_loss: 0.6587 - val_accuracy: 0.6130\n",
      "Epoch 40/40\n",
      "411/411 [==============================] - 1s 2ms/step - loss: 0.6551 - accuracy: 0.6152 - val_loss: 0.6571 - val_accuracy: 0.6103\n"
     ]
    }
   ],
   "source": [
    "history = nn.fit(X_train, y_train, epochs=20, batch_size=100, validation_split=0.15, verbose=1)"
   ]
  },
  {
   "cell_type": "code",
   "execution_count": 46,
   "metadata": {},
   "outputs": [
    {
     "data": {
      "image/png": "[encoded data removed]",
      "text/plain": [
       "<Figure size 1296x432 with 2 Axes>"
      ]
     },
     "metadata": {},
     "output_type": "display_data"
    }
   ],
   "source": [
    "nn_compare_train_val(history)"
   ]
  },
  {
   "cell_type": "code",
   "execution_count": 221,
   "metadata": {},
   "outputs": [
    {
     "data": {
      "text/html": [
       "<style  type=\"text/css\" >\n",
       "</style><table id=\"T_39e3d353_36f8_11ec_8f98_d4258b2a60f6\" ><caption>Classification Report</caption><thead>    <tr>        <th class=\"blank level0\" ></th>        <th class=\"col_heading level0 col0\" >0</th>        <th class=\"col_heading level0 col1\" >1</th>        <th class=\"col_heading level0 col2\" >macro avg</th>        <th class=\"col_heading level0 col3\" >weighted avg</th>    </tr></thead><tbody>\n",
       "                <tr>\n",
       "                        <th id=\"T_39e3d353_36f8_11ec_8f98_d4258b2a60f6level0_row0\" class=\"row_heading level0 row0\" >precision</th>\n",
       "                        <td id=\"T_39e3d353_36f8_11ec_8f98_d4258b2a60f6row0_col0\" class=\"data row0 col0\" >0.622873</td>\n",
       "                        <td id=\"T_39e3d353_36f8_11ec_8f98_d4258b2a60f6row0_col1\" class=\"data row0 col1\" >0.608024</td>\n",
       "                        <td id=\"T_39e3d353_36f8_11ec_8f98_d4258b2a60f6row0_col2\" class=\"data row0 col2\" >0.615449</td>\n",
       "                        <td id=\"T_39e3d353_36f8_11ec_8f98_d4258b2a60f6row0_col3\" class=\"data row0 col3\" >0.615492</td>\n",
       "            </tr>\n",
       "            <tr>\n",
       "                        <th id=\"T_39e3d353_36f8_11ec_8f98_d4258b2a60f6level0_row1\" class=\"row_heading level0 row1\" >recall</th>\n",
       "                        <td id=\"T_39e3d353_36f8_11ec_8f98_d4258b2a60f6row1_col0\" class=\"data row1 col0\" >0.595018</td>\n",
       "                        <td id=\"T_39e3d353_36f8_11ec_8f98_d4258b2a60f6row1_col1\" class=\"data row1 col1\" >0.635532</td>\n",
       "                        <td id=\"T_39e3d353_36f8_11ec_8f98_d4258b2a60f6row1_col2\" class=\"data row1 col2\" >0.615275</td>\n",
       "                        <td id=\"T_39e3d353_36f8_11ec_8f98_d4258b2a60f6row1_col3\" class=\"data row1 col3\" >0.615158</td>\n",
       "            </tr>\n",
       "            <tr>\n",
       "                        <th id=\"T_39e3d353_36f8_11ec_8f98_d4258b2a60f6level0_row2\" class=\"row_heading level0 row2\" >f1-score</th>\n",
       "                        <td id=\"T_39e3d353_36f8_11ec_8f98_d4258b2a60f6row2_col0\" class=\"data row2 col0\" >0.608627</td>\n",
       "                        <td id=\"T_39e3d353_36f8_11ec_8f98_d4258b2a60f6row2_col1\" class=\"data row2 col1\" >0.621474</td>\n",
       "                        <td id=\"T_39e3d353_36f8_11ec_8f98_d4258b2a60f6row2_col2\" class=\"data row2 col2\" >0.615050</td>\n",
       "                        <td id=\"T_39e3d353_36f8_11ec_8f98_d4258b2a60f6row2_col3\" class=\"data row2 col3\" >0.615013</td>\n",
       "            </tr>\n",
       "            <tr>\n",
       "                        <th id=\"T_39e3d353_36f8_11ec_8f98_d4258b2a60f6level0_row3\" class=\"row_heading level0 row3\" >support</th>\n",
       "                        <td id=\"T_39e3d353_36f8_11ec_8f98_d4258b2a60f6row3_col0\" class=\"data row3 col0\" >10398.000000</td>\n",
       "                        <td id=\"T_39e3d353_36f8_11ec_8f98_d4258b2a60f6row3_col1\" class=\"data row3 col1\" >10278.000000</td>\n",
       "                        <td id=\"T_39e3d353_36f8_11ec_8f98_d4258b2a60f6row3_col2\" class=\"data row3 col2\" >20676.000000</td>\n",
       "                        <td id=\"T_39e3d353_36f8_11ec_8f98_d4258b2a60f6row3_col3\" class=\"data row3 col3\" >20676.000000</td>\n",
       "            </tr>\n",
       "    </tbody></table>"
      ],
      "text/plain": [
       "<pandas.io.formats.style.Styler at 0x1fa8527a7c0>"
      ]
     },
     "metadata": {},
     "output_type": "display_data"
    },
    {
     "name": "stdout",
     "output_type": "stream",
     "text": [
      "Train Accuracy: 0.6223\t\tTest Accuracy: 0.6152\n",
      "AUC Score: 0.6653010063268638\n"
     ]
    }
   ],
   "source": [
    "# Evaluate the model\n",
    "print_metrics_nn(nn, X_train, y_train, X_test, y_test)"
   ]
  },
  {
   "cell_type": "markdown",
   "metadata": {},
   "source": [
    "# Stacking Classifier"
   ]
  },
  {
   "cell_type": "code",
   "execution_count": 27,
   "metadata": {},
   "outputs": [],
   "source": [
    "estimators = list(zip(hyp_searches.keys(), [h.best_estimator_ for h in hyp_searches.values()]))"
   ]
  },
  {
   "cell_type": "code",
   "execution_count": 29,
   "metadata": {},
   "outputs": [],
   "source": [
    "stacking_clf = StackingClassifier(estimators=estimators, final_estimator=LogisticRegression(), cv=cv_folds)"
   ]
  },
  {
   "cell_type": "code",
   "execution_count": 30,
   "metadata": {},
   "outputs": [
    {
     "data": {
      "text/plain": [
       "StackingClassifier(cv=5,\n",
       "                   estimators=[('Linear SVC', LinearSVC(C=1, random_state=15)),\n",
       "                               ('Ridge',\n",
       "                                RidgeClassifier(alpha=0.1, random_state=15)),\n",
       "                               ('Linear Disc. Analysis',\n",
       "                                LinearDiscriminantAnalysis(shrinkage=0.02,\n",
       "                                                           solver='lsqr')),\n",
       "                               ('Logistic Regression',\n",
       "                                LogisticRegression(C=0.1, random_state=15,\n",
       "                                                   solver='liblinear')),\n",
       "                               ('Gradient Boosting',\n",
       "                                GradientBoostingClassifier(max_...\n",
       "                                              interaction_constraints='',\n",
       "                                              learning_rate=0.005,\n",
       "                                              max_delta_step=0, max_depth=7,\n",
       "                                              min_child_weight=5, missing=nan,\n",
       "                                              monotone_constraints='()',\n",
       "                                              n_estimators=500, n_jobs=0,\n",
       "                                              num_parallel_tree=1,\n",
       "                                              random_state=15, reg_alpha=0.001,\n",
       "                                              reg_lambda=1, scale_pos_weight=1,\n",
       "                                              subsample=0.7,\n",
       "                                              tree_method='exact',\n",
       "                                              validate_parameters=1,\n",
       "                                              verbosity=None))],\n",
       "                   final_estimator=LogisticRegression())"
      ]
     },
     "execution_count": 30,
     "metadata": {},
     "output_type": "execute_result"
    }
   ],
   "source": [
    "stacking_clf.fit(X_train, y_train)"
   ]
  },
  {
   "cell_type": "code",
   "execution_count": 31,
   "metadata": {},
   "outputs": [
    {
     "data": {
      "text/html": [
       "<style  type=\"text/css\" >\n",
       "</style><table id=\"T_f4bcf737_36eb_11ec_8277_d4258b2a60f6\" ><caption>Classification Report</caption><thead>    <tr>        <th class=\"blank level0\" ></th>        <th class=\"col_heading level0 col0\" >0</th>        <th class=\"col_heading level0 col1\" >1</th>        <th class=\"col_heading level0 col2\" >macro avg</th>        <th class=\"col_heading level0 col3\" >weighted avg</th>    </tr></thead><tbody>\n",
       "                <tr>\n",
       "                        <th id=\"T_f4bcf737_36eb_11ec_8277_d4258b2a60f6level0_row0\" class=\"row_heading level0 row0\" >precision</th>\n",
       "                        <td id=\"T_f4bcf737_36eb_11ec_8277_d4258b2a60f6row0_col0\" class=\"data row0 col0\" >0.620021</td>\n",
       "                        <td id=\"T_f4bcf737_36eb_11ec_8277_d4258b2a60f6row0_col1\" class=\"data row0 col1\" >0.618391</td>\n",
       "                        <td id=\"T_f4bcf737_36eb_11ec_8277_d4258b2a60f6row0_col2\" class=\"data row0 col2\" >0.619206</td>\n",
       "                        <td id=\"T_f4bcf737_36eb_11ec_8277_d4258b2a60f6row0_col3\" class=\"data row0 col3\" >0.619211</td>\n",
       "            </tr>\n",
       "            <tr>\n",
       "                        <th id=\"T_f4bcf737_36eb_11ec_8277_d4258b2a60f6level0_row1\" class=\"row_heading level0 row1\" >recall</th>\n",
       "                        <td id=\"T_f4bcf737_36eb_11ec_8277_d4258b2a60f6row1_col0\" class=\"data row1 col0\" >0.627236</td>\n",
       "                        <td id=\"T_f4bcf737_36eb_11ec_8277_d4258b2a60f6row1_col1\" class=\"data row1 col1\" >0.611111</td>\n",
       "                        <td id=\"T_f4bcf737_36eb_11ec_8277_d4258b2a60f6row1_col2\" class=\"data row1 col2\" >0.619174</td>\n",
       "                        <td id=\"T_f4bcf737_36eb_11ec_8277_d4258b2a60f6row1_col3\" class=\"data row1 col3\" >0.619220</td>\n",
       "            </tr>\n",
       "            <tr>\n",
       "                        <th id=\"T_f4bcf737_36eb_11ec_8277_d4258b2a60f6level0_row2\" class=\"row_heading level0 row2\" >f1-score</th>\n",
       "                        <td id=\"T_f4bcf737_36eb_11ec_8277_d4258b2a60f6row2_col0\" class=\"data row2 col0\" >0.623608</td>\n",
       "                        <td id=\"T_f4bcf737_36eb_11ec_8277_d4258b2a60f6row2_col1\" class=\"data row2 col1\" >0.614730</td>\n",
       "                        <td id=\"T_f4bcf737_36eb_11ec_8277_d4258b2a60f6row2_col2\" class=\"data row2 col2\" >0.619169</td>\n",
       "                        <td id=\"T_f4bcf737_36eb_11ec_8277_d4258b2a60f6row2_col3\" class=\"data row2 col3\" >0.619194</td>\n",
       "            </tr>\n",
       "            <tr>\n",
       "                        <th id=\"T_f4bcf737_36eb_11ec_8277_d4258b2a60f6level0_row3\" class=\"row_heading level0 row3\" >support</th>\n",
       "                        <td id=\"T_f4bcf737_36eb_11ec_8277_d4258b2a60f6row3_col0\" class=\"data row3 col0\" >10398.000000</td>\n",
       "                        <td id=\"T_f4bcf737_36eb_11ec_8277_d4258b2a60f6row3_col1\" class=\"data row3 col1\" >10278.000000</td>\n",
       "                        <td id=\"T_f4bcf737_36eb_11ec_8277_d4258b2a60f6row3_col2\" class=\"data row3 col2\" >20676.000000</td>\n",
       "                        <td id=\"T_f4bcf737_36eb_11ec_8277_d4258b2a60f6row3_col3\" class=\"data row3 col3\" >20676.000000</td>\n",
       "            </tr>\n",
       "    </tbody></table>"
      ],
      "text/plain": [
       "<pandas.io.formats.style.Styler at 0x1fad6cf1a30>"
      ]
     },
     "metadata": {},
     "output_type": "display_data"
    },
    {
     "name": "stdout",
     "output_type": "stream",
     "text": [
      "Train Accuracy: 0.6283\t\tTest Accuracy: 0.6192\n"
     ]
    },
    {
     "data": {
      "image/png": "[encoded data removed]",
      "text/plain": [
       "<Figure size 576x432 with 1 Axes>"
      ]
     },
     "metadata": {},
     "output_type": "display_data"
    }
   ],
   "source": [
    "print_metrics(stacking_clf, X_train, y_train, X_test, y_test)"
   ]
  },
  {
   "cell_type": "markdown",
   "metadata": {},
   "source": [
    "# Store Model"
   ]
  },
  {
   "cell_type": "code",
   "execution_count": 213,
   "metadata": {},
   "outputs": [],
   "source": [
    "current_date_string = datetime.utcnow().strftime(\"%Y_%m_%d_%H_%M_%S\")\n",
    "model_folder_path = MODEL_DIR / f'model_{current_date_string}'\n",
    "\n",
    "# create models folder\n",
    "os.mkdir(model_folder_path)"
   ]
  },
  {
   "cell_type": "code",
   "execution_count": 215,
   "metadata": {},
   "outputs": [],
   "source": [
    "# save models\n",
    "joblib.dump(stacking_clf, f'{str(model_folder_path)}/model.joblib');"
   ]
  }
 ],
 "metadata": {
  "interpreter": {
   "hash": "edaed6248b0f32b94d0199fc5dbdbd44040abee12f1bfab10571072dd86c73f9"
  },
  "kernelspec": {
   "display_name": "Python 3.8.0 64-bit",
   "name": "python3"
  },
  "language_info": {
   "codemirror_mode": {
    "name": "ipython",
    "version": 3
   },
   "file_extension": ".py",
   "mimetype": "text/x-python",
   "name": "python",
   "nbconvert_exporter": "python",
   "pygments_lexer": "ipython3",
   "version": "3.8.0"
  },
  "orig_nbformat": 4
 },
 "nbformat": 4,
 "nbformat_minor": 2
}
