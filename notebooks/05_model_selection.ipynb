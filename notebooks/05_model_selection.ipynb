{
 "cells": [
  {
   "cell_type": "code",
   "execution_count": null,
   "metadata": {},
   "outputs": [],
   "source": [
    "get predictions acc vs time of day\n",
    "get predictions acc vs match mean elo\n",
    "get predictions acc vs match mean number of matches\n",
    "get predictions acc vs mapPlayed\n",
    "get predictions acc vs entity\n",
    "get predictions acc vs entityName"
   ]
  }
 ],
 "metadata": {
  "language_info": {
   "name": "python"
  },
  "orig_nbformat": 4
 },
 "nbformat": 4,
 "nbformat_minor": 2
}
