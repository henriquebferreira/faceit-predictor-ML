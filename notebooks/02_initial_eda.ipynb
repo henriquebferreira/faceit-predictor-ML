{
 "cells": [
  {
   "cell_type": "markdown",
   "metadata": {},
   "source": [
    "<h1 style=\"color:#ff5500; font-family:Play; font-size:3em; margin:auto 32px;align:center\">Part II - Initial Exploratory Data Analysis</h1>\n",
    "\n",
    "---\n"
   ]
  },
  {
   "cell_type": "markdown",
   "metadata": {},
   "source": [
    "This document is a part of the FACEIT Predictor Data Science Workflow.\n",
    "\n",
    "In this notebook it is performed an initial analysis of the dataset."
   ]
  },
  {
   "cell_type": "markdown",
   "metadata": {},
   "source": [
    "# Imports"
   ]
  },
  {
   "cell_type": "code",
   "execution_count": 1,
   "metadata": {},
   "outputs": [],
   "source": [
    "import pandas as pd\n",
    "\n",
    "# visualization\n",
    "import matplotlib.pyplot as plt\n",
    "import seaborn as sns\n",
    "\n",
    "# enable imports from parent directory\n",
    "import sys\n",
    "from pathlib import Path\n",
    "sys.path.append(str(Path.cwd().parent))\n",
    "\n",
    "# local modules\n",
    "from src.db.config import read_config\n",
    "from src.utils.loaders import read_data\n",
    "from src.visualization.defaults import set_visualization_defaults\n",
    "\n",
    "from IPython import get_ipython\n",
    "\n",
    "ipython = get_ipython()\n",
    "\n",
    "# autoreload extension\n",
    "if \"autoreload\" not in ipython.extension_manager.loaded:\n",
    "   %load_ext autoreload\n",
    "\n",
    "# autoreload python modules\n",
    "%autoreload 2"
   ]
  },
  {
   "cell_type": "code",
   "execution_count": 2,
   "metadata": {},
   "outputs": [],
   "source": [
    "set_visualization_defaults()"
   ]
  },
  {
   "cell_type": "markdown",
   "metadata": {},
   "source": [
    "# Load Interim Data - One Batch"
   ]
  },
  {
   "cell_type": "code",
   "execution_count": 3,
   "metadata": {},
   "outputs": [],
   "source": [
    "batch_data = read_data(\"interim\", no_batches=1, read_all=False)"
   ]
  },
  {
   "cell_type": "markdown",
   "metadata": {},
   "source": [
    "# Initial Exploratory Data Analysis"
   ]
  },
  {
   "cell_type": "code",
   "execution_count": 4,
   "metadata": {},
   "outputs": [
    {
     "name": "stdout",
     "output_type": "stream",
     "text": [
      "Shape of the data (2001, 9)\n"
     ]
    },
    {
     "data": {
      "text/html": [
       "<div>\n",
       "<style scoped>\n",
       "    .dataframe tbody tr th:only-of-type {\n",
       "        vertical-align: middle;\n",
       "    }\n",
       "\n",
       "    .dataframe tbody tr th {\n",
       "        vertical-align: top;\n",
       "    }\n",
       "\n",
       "    .dataframe thead th {\n",
       "        text-align: right;\n",
       "    }\n",
       "</style>\n",
       "<table border=\"1\" class=\"dataframe\">\n",
       "  <thead>\n",
       "    <tr style=\"text-align: right;\">\n",
       "      <th></th>\n",
       "      <th>_id</th>\n",
       "      <th>startTime</th>\n",
       "      <th>mapPlayed</th>\n",
       "      <th>score</th>\n",
       "      <th>parties</th>\n",
       "      <th>entity</th>\n",
       "      <th>entityName</th>\n",
       "      <th>teamA</th>\n",
       "      <th>teamB</th>\n",
       "    </tr>\n",
       "  </thead>\n",
       "  <tbody>\n",
       "    <tr>\n",
       "      <th>0</th>\n",
       "      <td>1-0002441e-bec7-4746-9c01-81560aeb145f</td>\n",
       "      <td>1582309092</td>\n",
       "      <td>de_dust2</td>\n",
       "      <td>16 / 11</td>\n",
       "      <td>{'1c73a556-2da0-46da-a18e-1a827d3a442b': ['824...</td>\n",
       "      <td>matchmaking</td>\n",
       "      <td>CS:GO 5v5 PREMIUM</td>\n",
       "      <td>[{'id': '82432d4b-9823-4f3a-82e6-063d2ab26a1c'...</td>\n",
       "      <td>[{'id': '371e87d2-f5ed-426b-8c27-efbd8bfda1f5'...</td>\n",
       "    </tr>\n",
       "    <tr>\n",
       "      <th>1</th>\n",
       "      <td>1-00044d9e-77bd-4a14-bc36-ea864858ac9a</td>\n",
       "      <td>1582210618</td>\n",
       "      <td>de_cache</td>\n",
       "      <td>16 / 12</td>\n",
       "      <td>{'01fd58ef-bd1a-4926-9423-af6f1ad78d31': ['2d0...</td>\n",
       "      <td>matchmaking</td>\n",
       "      <td>CS:GO 5v5</td>\n",
       "      <td>[{'id': '4773b555-5a4f-4a4e-b6a2-8353e315958e'...</td>\n",
       "      <td>[{'id': '2d0acf3e-915c-43d7-adf1-1bad5467943c'...</td>\n",
       "    </tr>\n",
       "    <tr>\n",
       "      <th>2</th>\n",
       "      <td>1-00052bb7-c844-4004-b17d-868b6ed7a645</td>\n",
       "      <td>1582201298</td>\n",
       "      <td>de_mirage</td>\n",
       "      <td>16 / 11</td>\n",
       "      <td>{'03b4db45-ff3f-4a93-aade-223fc5aa31e1': ['03b...</td>\n",
       "      <td>matchmaking</td>\n",
       "      <td>CS:GO 5v5</td>\n",
       "      <td>[{'id': '87d5d8f5-7276-4ae6-87be-8b5465be37b4'...</td>\n",
       "      <td>[{'id': 'e8d3abbc-8e60-43d1-92be-69f5a891913b'...</td>\n",
       "    </tr>\n",
       "    <tr>\n",
       "      <th>3</th>\n",
       "      <td>1-00055c82-b90a-4395-b7c6-f032eb106230</td>\n",
       "      <td>1582329709</td>\n",
       "      <td>de_mirage</td>\n",
       "      <td>16 / 13</td>\n",
       "      <td>{'5835d91a-3f98-4bb2-a14b-883b5967244b': ['583...</td>\n",
       "      <td>matchmaking</td>\n",
       "      <td>CS:GO 5v5</td>\n",
       "      <td>[{'id': '3518b5ad-4618-4747-9577-7795c48f5cdc'...</td>\n",
       "      <td>[{'id': '2ba15742-0ccb-47a2-bb6e-06a0887a40ed'...</td>\n",
       "    </tr>\n",
       "    <tr>\n",
       "      <th>4</th>\n",
       "      <td>1-00061954-f2ac-44c0-a7a8-ace5c2139e65</td>\n",
       "      <td>1581001380</td>\n",
       "      <td>de_dust2</td>\n",
       "      <td>16 / 10</td>\n",
       "      <td>{'36b6772a-21ce-4636-989a-8af9f58e4c02': ['085...</td>\n",
       "      <td>matchmaking</td>\n",
       "      <td>CS:GO 5v5 PREMIUM</td>\n",
       "      <td>[{'id': 'd703c44c-1b38-4668-9cf3-790efa24f726'...</td>\n",
       "      <td>[{'id': '419b372a-d3d2-423b-8a63-ca341c33e6a7'...</td>\n",
       "    </tr>\n",
       "  </tbody>\n",
       "</table>\n",
       "</div>"
      ],
      "text/plain": [
       "                                      _id   startTime  mapPlayed    score  \\\n",
       "0  1-0002441e-bec7-4746-9c01-81560aeb145f  1582309092   de_dust2  16 / 11   \n",
       "1  1-00044d9e-77bd-4a14-bc36-ea864858ac9a  1582210618   de_cache  16 / 12   \n",
       "2  1-00052bb7-c844-4004-b17d-868b6ed7a645  1582201298  de_mirage  16 / 11   \n",
       "3  1-00055c82-b90a-4395-b7c6-f032eb106230  1582329709  de_mirage  16 / 13   \n",
       "4  1-00061954-f2ac-44c0-a7a8-ace5c2139e65  1581001380   de_dust2  16 / 10   \n",
       "\n",
       "                                             parties       entity  \\\n",
       "0  {'1c73a556-2da0-46da-a18e-1a827d3a442b': ['824...  matchmaking   \n",
       "1  {'01fd58ef-bd1a-4926-9423-af6f1ad78d31': ['2d0...  matchmaking   \n",
       "2  {'03b4db45-ff3f-4a93-aade-223fc5aa31e1': ['03b...  matchmaking   \n",
       "3  {'5835d91a-3f98-4bb2-a14b-883b5967244b': ['583...  matchmaking   \n",
       "4  {'36b6772a-21ce-4636-989a-8af9f58e4c02': ['085...  matchmaking   \n",
       "\n",
       "          entityName                                              teamA  \\\n",
       "0  CS:GO 5v5 PREMIUM  [{'id': '82432d4b-9823-4f3a-82e6-063d2ab26a1c'...   \n",
       "1          CS:GO 5v5  [{'id': '4773b555-5a4f-4a4e-b6a2-8353e315958e'...   \n",
       "2          CS:GO 5v5  [{'id': '87d5d8f5-7276-4ae6-87be-8b5465be37b4'...   \n",
       "3          CS:GO 5v5  [{'id': '3518b5ad-4618-4747-9577-7795c48f5cdc'...   \n",
       "4  CS:GO 5v5 PREMIUM  [{'id': 'd703c44c-1b38-4668-9cf3-790efa24f726'...   \n",
       "\n",
       "                                               teamB  \n",
       "0  [{'id': '371e87d2-f5ed-426b-8c27-efbd8bfda1f5'...  \n",
       "1  [{'id': '2d0acf3e-915c-43d7-adf1-1bad5467943c'...  \n",
       "2  [{'id': 'e8d3abbc-8e60-43d1-92be-69f5a891913b'...  \n",
       "3  [{'id': '2ba15742-0ccb-47a2-bb6e-06a0887a40ed'...  \n",
       "4  [{'id': '419b372a-d3d2-423b-8a63-ca341c33e6a7'...  "
      ]
     },
     "execution_count": 4,
     "metadata": {},
     "output_type": "execute_result"
    }
   ],
   "source": [
    "print('Shape of the data', batch_data.shape)\n",
    "batch_data.head()"
   ]
  },
  {
   "cell_type": "code",
   "execution_count": 5,
   "metadata": {},
   "outputs": [],
   "source": [
    "batch_data = batch_data.convert_dtypes()"
   ]
  },
  {
   "cell_type": "code",
   "execution_count": 6,
   "metadata": {},
   "outputs": [
    {
     "name": "stdout",
     "output_type": "stream",
     "text": [
      "<class 'pandas.core.frame.DataFrame'>\n",
      "Int64Index: 2001 entries, 0 to 2000\n",
      "Data columns (total 9 columns):\n",
      " #   Column      Non-Null Count  Dtype \n",
      "---  ------      --------------  ----- \n",
      " 0   _id         2001 non-null   string\n",
      " 1   startTime   2001 non-null   Int64 \n",
      " 2   mapPlayed   2001 non-null   string\n",
      " 3   score       2001 non-null   string\n",
      " 4   parties     2001 non-null   object\n",
      " 5   entity      2001 non-null   string\n",
      " 6   entityName  2001 non-null   string\n",
      " 7   teamA       2001 non-null   object\n",
      " 8   teamB       2001 non-null   object\n",
      "dtypes: Int64(1), object(3), string(5)\n",
      "memory usage: 158.3+ KB\n"
     ]
    }
   ],
   "source": [
    "batch_data.info()"
   ]
  },
  {
   "cell_type": "markdown",
   "metadata": {},
   "source": [
    "Data has no missing values."
   ]
  },
  {
   "cell_type": "markdown",
   "metadata": {},
   "source": [
    "## Univariate Analysis"
   ]
  },
  {
   "cell_type": "markdown",
   "metadata": {},
   "source": [
    "In this sub section several fields are analyzed independently of each other."
   ]
  },
  {
   "cell_type": "markdown",
   "metadata": {},
   "source": [
    "### Start Time"
   ]
  },
  {
   "cell_type": "code",
   "execution_count": 7,
   "metadata": {},
   "outputs": [],
   "source": [
    "batch_data[\"startTime_dt\"] = pd.to_datetime(batch_data['startTime'], unit='s')\n",
    "batch_data[\"startTime_day_of_year\"] = batch_data[\"startTime_dt\"].dt.dayofyear\n",
    "batch_data[\"startTime_day_of_week\"] = batch_data[\"startTime_dt\"].dt.dayofweek\n",
    "batch_data[\"startTime_hour\"] = batch_data[\"startTime_dt\"].dt.hour"
   ]
  },
  {
   "cell_type": "code",
   "execution_count": 8,
   "metadata": {},
   "outputs": [
    {
     "name": "stdout",
     "output_type": "stream",
     "text": [
      "Max date: 2020-02-28 17:34:04\n",
      "Min date: 2020-02-03 17:49:21\n",
      "Date Range: 24 days 23:44:43\n"
     ]
    }
   ],
   "source": [
    "max_date = batch_data[\"startTime_dt\"].max()\n",
    "min_date = batch_data[\"startTime_dt\"].min()\n",
    "print(\"Max date:\", batch_data[\"startTime_dt\"].max())\n",
    "print(\"Min date:\", batch_data[\"startTime_dt\"].min())\n",
    "print(\"Date Range:\", max_date-min_date)"
   ]
  },
  {
   "cell_type": "code",
   "execution_count": 9,
   "metadata": {},
   "outputs": [
    {
     "data": {
      "image/png": "[encoded data removed]",
      "text/plain": [
       "<Figure size 1440x432 with 3 Axes>"
      ]
     },
     "metadata": {},
     "output_type": "display_data"
    }
   ],
   "source": [
    "fig, (ax1, ax2, ax3) = plt.subplots(1,3)\n",
    "fig.set_size_inches(20,6)\n",
    "\n",
    "sns.countplot(data=batch_data,x=\"startTime_day_of_year\", ax=ax1, palette=\"gist_heat\")\n",
    "ax1.set_title(\"Number of matches per day of the year\")\n",
    "ax1.set_xlabel(\"Day of the year\")\n",
    "\n",
    "sns.countplot(data=batch_data,x=\"startTime_day_of_week\", ax=ax2, palette=\"gist_heat\")\n",
    "ax2.set_title(\"Number of matches per day of the week\")\n",
    "ax2.set_xlabel(\"Day of the week\")\n",
    "ax2.set_xticklabels([\"Monday\",\"Tuesday\",\"Wednesday\",\"Thursday\",\"Friday\",\"Saturday\",\"Sunday\"], rotation = 30)\n",
    "\n",
    "sns.countplot(data=batch_data,x=\"startTime_hour\", ax=ax3, palette=\"gist_heat\")\n",
    "ax3.set_title(\"Number of matches per hour\")\n",
    "ax3.set_xlabel(\"Hour\");"
   ]
  },
  {
   "cell_type": "markdown",
   "metadata": {},
   "source": [
    "### Parties"
   ]
  },
  {
   "cell_type": "code",
   "execution_count": 10,
   "metadata": {},
   "outputs": [],
   "source": [
    "batch_data[\"num_parties\"] = batch_data[\"parties\"].apply(lambda x: len(x))"
   ]
  },
  {
   "cell_type": "code",
   "execution_count": 11,
   "metadata": {},
   "outputs": [
    {
     "data": {
      "image/png": "[encoded data removed]",
      "text/plain": [
       "<Figure size 432x432 with 1 Axes>"
      ]
     },
     "metadata": {},
     "output_type": "display_data"
    }
   ],
   "source": [
    "plt.figure(figsize=(6,6))\n",
    "ax = sns.countplot(data=batch_data, y=\"num_parties\", palette=\"gist_heat\")\n",
    "ax.set_title(\"Number of matches per parties in the match\")\n",
    "ax.set_ylabel(\"Number of parties in the match\")\n",
    "ax.set_xlabel(\"Number of matches\");"
   ]
  },
  {
   "cell_type": "markdown",
   "metadata": {},
   "source": [
    "Dive deeper into the matches where the number of parties is zero."
   ]
  },
  {
   "cell_type": "code",
   "execution_count": 12,
   "metadata": {},
   "outputs": [
    {
     "data": {
      "text/html": [
       "<div>\n",
       "<style scoped>\n",
       "    .dataframe tbody tr th:only-of-type {\n",
       "        vertical-align: middle;\n",
       "    }\n",
       "\n",
       "    .dataframe tbody tr th {\n",
       "        vertical-align: top;\n",
       "    }\n",
       "\n",
       "    .dataframe thead th {\n",
       "        text-align: right;\n",
       "    }\n",
       "</style>\n",
       "<table border=\"1\" class=\"dataframe\">\n",
       "  <thead>\n",
       "    <tr style=\"text-align: right;\">\n",
       "      <th></th>\n",
       "      <th>_id</th>\n",
       "      <th>startTime</th>\n",
       "      <th>mapPlayed</th>\n",
       "      <th>score</th>\n",
       "      <th>parties</th>\n",
       "      <th>entity</th>\n",
       "      <th>entityName</th>\n",
       "      <th>teamA</th>\n",
       "      <th>teamB</th>\n",
       "      <th>startTime_dt</th>\n",
       "      <th>startTime_day_of_year</th>\n",
       "      <th>startTime_day_of_week</th>\n",
       "      <th>startTime_hour</th>\n",
       "      <th>num_parties</th>\n",
       "    </tr>\n",
       "  </thead>\n",
       "  <tbody>\n",
       "    <tr>\n",
       "      <th>191</th>\n",
       "      <td>1-00c4e226-7a88-423b-a10c-82530405b5f6</td>\n",
       "      <td>1581720930</td>\n",
       "      <td>de_mirage</td>\n",
       "      <td>16 / 6</td>\n",
       "      <td>{}</td>\n",
       "      <td>championship</td>\n",
       "      <td>Probationary Series</td>\n",
       "      <td>[{'id': '0121755f-a3fe-413f-a9cf-59afe9db1587'...</td>\n",
       "      <td>[{'id': 'e5195723-2519-429a-bd7a-ca5b3ff85f7c'...</td>\n",
       "      <td>2020-02-14 22:55:30</td>\n",
       "      <td>45</td>\n",
       "      <td>4</td>\n",
       "      <td>22</td>\n",
       "      <td>0</td>\n",
       "    </tr>\n",
       "    <tr>\n",
       "      <th>363</th>\n",
       "      <td>1-015467ec-84fc-46b4-8039-73b3baff920d</td>\n",
       "      <td>1582052898</td>\n",
       "      <td>de_dust2</td>\n",
       "      <td>16 / 10</td>\n",
       "      <td>{}</td>\n",
       "      <td>championship</td>\n",
       "      <td>Loyalty Series</td>\n",
       "      <td>[{'id': 'e11b36b6-e101-4173-9fba-ec1af21048b1'...</td>\n",
       "      <td>[{'id': 'ea49d65c-1e8a-475e-b25e-dc35156e4cc2'...</td>\n",
       "      <td>2020-02-18 19:08:18</td>\n",
       "      <td>49</td>\n",
       "      <td>1</td>\n",
       "      <td>19</td>\n",
       "      <td>0</td>\n",
       "    </tr>\n",
       "    <tr>\n",
       "      <th>368</th>\n",
       "      <td>1-015711c5-1295-4995-bb39-3ded04a44d00</td>\n",
       "      <td>1582375734</td>\n",
       "      <td>de_train</td>\n",
       "      <td>16 / 9</td>\n",
       "      <td>{}</td>\n",
       "      <td>championship</td>\n",
       "      <td>CS GO MEGOGO Open Qualifier 2</td>\n",
       "      <td>[{'id': '7fe48ae7-5c9b-4136-adeb-7dd5d04083fb'...</td>\n",
       "      <td>[{'id': 'b5178a98-e9f1-47d9-80ac-13716332c313'...</td>\n",
       "      <td>2020-02-22 12:48:54</td>\n",
       "      <td>53</td>\n",
       "      <td>5</td>\n",
       "      <td>12</td>\n",
       "      <td>0</td>\n",
       "    </tr>\n",
       "    <tr>\n",
       "      <th>722</th>\n",
       "      <td>1-0295f8a6-c15a-4124-b8b2-e4fca2a58839</td>\n",
       "      <td>1581798869</td>\n",
       "      <td>de_overpass</td>\n",
       "      <td>16 / 4</td>\n",
       "      <td>{}</td>\n",
       "      <td>championship</td>\n",
       "      <td>SKINBARON POKAL S10 Cup 10</td>\n",
       "      <td>[{'id': '1d778ae0-ef1a-4608-bbbb-402865add92e'...</td>\n",
       "      <td>[{'id': '6155353c-66e1-4846-bcda-2f2c3ca6d718'...</td>\n",
       "      <td>2020-02-15 20:34:29</td>\n",
       "      <td>46</td>\n",
       "      <td>5</td>\n",
       "      <td>20</td>\n",
       "      <td>0</td>\n",
       "    </tr>\n",
       "    <tr>\n",
       "      <th>887</th>\n",
       "      <td>1-03369e0a-2708-4678-9ca6-21aea8cb5a48</td>\n",
       "      <td>1582647086</td>\n",
       "      <td>de_overpass</td>\n",
       "      <td>19 / 22</td>\n",
       "      <td>{}</td>\n",
       "      <td>championship</td>\n",
       "      <td>KING OF NORDIC S15E4 FINNISH QUALIFIER</td>\n",
       "      <td>[{'id': 'b6cc6640-c6c5-462b-abe7-55f8d695340f'...</td>\n",
       "      <td>[{'id': 'cff5ea7c-dc06-461a-9c76-cc70f64d6002'...</td>\n",
       "      <td>2020-02-25 16:11:26</td>\n",
       "      <td>56</td>\n",
       "      <td>1</td>\n",
       "      <td>16</td>\n",
       "      <td>0</td>\n",
       "    </tr>\n",
       "  </tbody>\n",
       "</table>\n",
       "</div>"
      ],
      "text/plain": [
       "                                        _id   startTime    mapPlayed    score  \\\n",
       "191  1-00c4e226-7a88-423b-a10c-82530405b5f6  1581720930    de_mirage   16 / 6   \n",
       "363  1-015467ec-84fc-46b4-8039-73b3baff920d  1582052898     de_dust2  16 / 10   \n",
       "368  1-015711c5-1295-4995-bb39-3ded04a44d00  1582375734     de_train   16 / 9   \n",
       "722  1-0295f8a6-c15a-4124-b8b2-e4fca2a58839  1581798869  de_overpass   16 / 4   \n",
       "887  1-03369e0a-2708-4678-9ca6-21aea8cb5a48  1582647086  de_overpass  19 / 22   \n",
       "\n",
       "    parties        entity                              entityName  \\\n",
       "191      {}  championship                     Probationary Series   \n",
       "363      {}  championship                          Loyalty Series   \n",
       "368      {}  championship           CS GO MEGOGO Open Qualifier 2   \n",
       "722      {}  championship              SKINBARON POKAL S10 Cup 10   \n",
       "887      {}  championship  KING OF NORDIC S15E4 FINNISH QUALIFIER   \n",
       "\n",
       "                                                 teamA  \\\n",
       "191  [{'id': '0121755f-a3fe-413f-a9cf-59afe9db1587'...   \n",
       "363  [{'id': 'e11b36b6-e101-4173-9fba-ec1af21048b1'...   \n",
       "368  [{'id': '7fe48ae7-5c9b-4136-adeb-7dd5d04083fb'...   \n",
       "722  [{'id': '1d778ae0-ef1a-4608-bbbb-402865add92e'...   \n",
       "887  [{'id': 'b6cc6640-c6c5-462b-abe7-55f8d695340f'...   \n",
       "\n",
       "                                                 teamB        startTime_dt  \\\n",
       "191  [{'id': 'e5195723-2519-429a-bd7a-ca5b3ff85f7c'... 2020-02-14 22:55:30   \n",
       "363  [{'id': 'ea49d65c-1e8a-475e-b25e-dc35156e4cc2'... 2020-02-18 19:08:18   \n",
       "368  [{'id': 'b5178a98-e9f1-47d9-80ac-13716332c313'... 2020-02-22 12:48:54   \n",
       "722  [{'id': '6155353c-66e1-4846-bcda-2f2c3ca6d718'... 2020-02-15 20:34:29   \n",
       "887  [{'id': 'cff5ea7c-dc06-461a-9c76-cc70f64d6002'... 2020-02-25 16:11:26   \n",
       "\n",
       "     startTime_day_of_year  startTime_day_of_week  startTime_hour  num_parties  \n",
       "191                     45                      4              22            0  \n",
       "363                     49                      1              19            0  \n",
       "368                     53                      5              12            0  \n",
       "722                     46                      5              20            0  \n",
       "887                     56                      1              16            0  "
      ]
     },
     "execution_count": 12,
     "metadata": {},
     "output_type": "execute_result"
    }
   ],
   "source": [
    "zero_parties_data = batch_data[batch_data[\"num_parties\"]==0]\n",
    "zero_parties_data.head(5)"
   ]
  },
  {
   "cell_type": "markdown",
   "metadata": {},
   "source": [
    "All matches with zero parties correspond to championship (tournament) matches where players participate as a team of 5 instead of being in separate parties."
   ]
  },
  {
   "cell_type": "code",
   "execution_count": 13,
   "metadata": {},
   "outputs": [
    {
     "data": {
      "text/plain": [
       "True"
      ]
     },
     "execution_count": 13,
     "metadata": {},
     "output_type": "execute_result"
    }
   ],
   "source": [
    "all(zero_parties_data.entity == 'championship')"
   ]
  },
  {
   "cell_type": "markdown",
   "metadata": {},
   "source": [
    "### Map Played"
   ]
  },
  {
   "cell_type": "code",
   "execution_count": 14,
   "metadata": {},
   "outputs": [],
   "source": [
    "x_ticks_descending_count = batch_data.groupby(\"mapPlayed\").size().sort_values(ascending=False).index"
   ]
  },
  {
   "cell_type": "code",
   "execution_count": 15,
   "metadata": {},
   "outputs": [
    {
     "data": {
      "image/png": "[encoded data removed]",
      "text/plain": [
       "<Figure size 432x432 with 1 Axes>"
      ]
     },
     "metadata": {},
     "output_type": "display_data"
    }
   ],
   "source": [
    "plt.figure(figsize=(6,6))\n",
    "ax = sns.countplot(data=batch_data, x=\"mapPlayed\", order=x_ticks_descending_count, palette=\"gist_heat\")\n",
    "ax.set_title(\"Number of matches per map played\")\n",
    "plt.xticks(rotation=30);"
   ]
  },
  {
   "cell_type": "markdown",
   "metadata": {},
   "source": [
    "### Entity"
   ]
  },
  {
   "cell_type": "code",
   "execution_count": 16,
   "metadata": {},
   "outputs": [
    {
     "data": {
      "image/png": "[encoded data removed]",
      "text/plain": [
       "<Figure size 432x432 with 1 Axes>"
      ]
     },
     "metadata": {},
     "output_type": "display_data"
    }
   ],
   "source": [
    "plt.figure(figsize=(6,6))\n",
    "ax = sns.countplot(data=batch_data, x=\"entity\", palette=\"gist_heat\")\n",
    "ax.set_title(\"Number of matches per entity\")\n",
    "plt.xticks(rotation=30);"
   ]
  },
  {
   "cell_type": "markdown",
   "metadata": {},
   "source": [
    "### Entity Name"
   ]
  },
  {
   "cell_type": "code",
   "execution_count": 17,
   "metadata": {},
   "outputs": [],
   "source": [
    "count_matches_per_entity_name = batch_data.groupby(\"entityName\").size().sort_values(ascending=False)\n",
    "entity_name_data = pd.DataFrame({\n",
    "    \"entityName\":count_matches_per_entity_name.index,\n",
    "    \"no_matches\":count_matches_per_entity_name.values,\n",
    "    \"perc_matches\": 100*count_matches_per_entity_name.values/len(batch_data)})"
   ]
  },
  {
   "cell_type": "code",
   "execution_count": 18,
   "metadata": {},
   "outputs": [
    {
     "name": "stdout",
     "output_type": "stream",
     "text": [
      "Number of unique entity names: 34\n"
     ]
    },
    {
     "data": {
      "text/html": [
       "<div>\n",
       "<style scoped>\n",
       "    .dataframe tbody tr th:only-of-type {\n",
       "        vertical-align: middle;\n",
       "    }\n",
       "\n",
       "    .dataframe tbody tr th {\n",
       "        vertical-align: top;\n",
       "    }\n",
       "\n",
       "    .dataframe thead th {\n",
       "        text-align: right;\n",
       "    }\n",
       "</style>\n",
       "<table border=\"1\" class=\"dataframe\">\n",
       "  <thead>\n",
       "    <tr style=\"text-align: right;\">\n",
       "      <th></th>\n",
       "      <th>entityName</th>\n",
       "      <th>no_matches</th>\n",
       "      <th>perc_matches</th>\n",
       "    </tr>\n",
       "  </thead>\n",
       "  <tbody>\n",
       "    <tr>\n",
       "      <th>0</th>\n",
       "      <td>CS:GO 5v5</td>\n",
       "      <td>1240</td>\n",
       "      <td>61.969015</td>\n",
       "    </tr>\n",
       "    <tr>\n",
       "      <th>1</th>\n",
       "      <td>CS:GO 5v5 PREMIUM</td>\n",
       "      <td>604</td>\n",
       "      <td>30.184908</td>\n",
       "    </tr>\n",
       "    <tr>\n",
       "      <th>2</th>\n",
       "      <td>LEGENDS - 2700 ELO to enter</td>\n",
       "      <td>25</td>\n",
       "      <td>1.249375</td>\n",
       "    </tr>\n",
       "    <tr>\n",
       "      <th>3</th>\n",
       "      <td>ROPL - Gold League</td>\n",
       "      <td>19</td>\n",
       "      <td>0.949525</td>\n",
       "    </tr>\n",
       "    <tr>\n",
       "      <th>4</th>\n",
       "      <td>Danish Pro League - B</td>\n",
       "      <td>13</td>\n",
       "      <td>0.649675</td>\n",
       "    </tr>\n",
       "    <tr>\n",
       "      <th>5</th>\n",
       "      <td>Turkish Stars League - Viewsonic Master Division</td>\n",
       "      <td>12</td>\n",
       "      <td>0.599700</td>\n",
       "    </tr>\n",
       "    <tr>\n",
       "      <th>6</th>\n",
       "      <td>Danish Pro League - A</td>\n",
       "      <td>12</td>\n",
       "      <td>0.599700</td>\n",
       "    </tr>\n",
       "    <tr>\n",
       "      <th>7</th>\n",
       "      <td>ROPL - Silver League</td>\n",
       "      <td>10</td>\n",
       "      <td>0.499750</td>\n",
       "    </tr>\n",
       "    <tr>\n",
       "      <th>8</th>\n",
       "      <td>SFPL Level 10 - Suomi Pro League</td>\n",
       "      <td>8</td>\n",
       "      <td>0.399800</td>\n",
       "    </tr>\n",
       "    <tr>\n",
       "      <th>9</th>\n",
       "      <td>ECL Division 1 (2700 ELO MAX)</td>\n",
       "      <td>6</td>\n",
       "      <td>0.299850</td>\n",
       "    </tr>\n",
       "  </tbody>\n",
       "</table>\n",
       "</div>"
      ],
      "text/plain": [
       "                                         entityName  no_matches  perc_matches\n",
       "0                                         CS:GO 5v5        1240     61.969015\n",
       "1                                 CS:GO 5v5 PREMIUM         604     30.184908\n",
       "2                       LEGENDS - 2700 ELO to enter          25      1.249375\n",
       "3                                ROPL - Gold League          19      0.949525\n",
       "4                             Danish Pro League - B          13      0.649675\n",
       "5  Turkish Stars League - Viewsonic Master Division          12      0.599700\n",
       "6                             Danish Pro League - A          12      0.599700\n",
       "7                              ROPL - Silver League          10      0.499750\n",
       "8                  SFPL Level 10 - Suomi Pro League           8      0.399800\n",
       "9                     ECL Division 1 (2700 ELO MAX)           6      0.299850"
      ]
     },
     "execution_count": 18,
     "metadata": {},
     "output_type": "execute_result"
    }
   ],
   "source": [
    "print(\"Number of unique entity names:\", entity_name_data.entityName.nunique())\n",
    "entity_name_data.head(10)"
   ]
  },
  {
   "cell_type": "markdown",
   "metadata": {},
   "source": [
    "### Team Rounds"
   ]
  },
  {
   "cell_type": "code",
   "execution_count": 19,
   "metadata": {},
   "outputs": [
    {
     "data": {
      "text/html": [
       "<div>\n",
       "<style scoped>\n",
       "    .dataframe tbody tr th:only-of-type {\n",
       "        vertical-align: middle;\n",
       "    }\n",
       "\n",
       "    .dataframe tbody tr th {\n",
       "        vertical-align: top;\n",
       "    }\n",
       "\n",
       "    .dataframe thead th {\n",
       "        text-align: right;\n",
       "    }\n",
       "</style>\n",
       "<table border=\"1\" class=\"dataframe\">\n",
       "  <thead>\n",
       "    <tr style=\"text-align: right;\">\n",
       "      <th></th>\n",
       "      <th>rounds_A</th>\n",
       "      <th>rounds_B</th>\n",
       "    </tr>\n",
       "  </thead>\n",
       "  <tbody>\n",
       "    <tr>\n",
       "      <th>0</th>\n",
       "      <td>16</td>\n",
       "      <td>11</td>\n",
       "    </tr>\n",
       "    <tr>\n",
       "      <th>1</th>\n",
       "      <td>16</td>\n",
       "      <td>12</td>\n",
       "    </tr>\n",
       "    <tr>\n",
       "      <th>2</th>\n",
       "      <td>16</td>\n",
       "      <td>11</td>\n",
       "    </tr>\n",
       "    <tr>\n",
       "      <th>3</th>\n",
       "      <td>16</td>\n",
       "      <td>13</td>\n",
       "    </tr>\n",
       "    <tr>\n",
       "      <th>4</th>\n",
       "      <td>16</td>\n",
       "      <td>10</td>\n",
       "    </tr>\n",
       "  </tbody>\n",
       "</table>\n",
       "</div>"
      ],
      "text/plain": [
       "   rounds_A  rounds_B\n",
       "0        16        11\n",
       "1        16        12\n",
       "2        16        11\n",
       "3        16        13\n",
       "4        16        10"
      ]
     },
     "execution_count": 19,
     "metadata": {},
     "output_type": "execute_result"
    }
   ],
   "source": [
    "unwind_score = batch_data[\"score\"].str.split(\" / \", expand=True) \\\n",
    "    .astype(int) \\\n",
    "    .rename(columns={0:\"rounds_A\",1:\"rounds_B\"})\n",
    "unwind_score.head()"
   ]
  },
  {
   "cell_type": "code",
   "execution_count": 20,
   "metadata": {},
   "outputs": [],
   "source": [
    "batch_data = batch_data.join(unwind_score)\n",
    "batch_data[\"total_rounds\"] = batch_data[\"rounds_A\"] + batch_data[\"rounds_B\"]"
   ]
  },
  {
   "cell_type": "markdown",
   "metadata": {},
   "source": [
    "CSGO is played under a \"best-of\" 30 rounds format, meaning that the first team to reach 16 rounds wins the match. Therefore, a minimum of 16 rounds should be played on every match.\n",
    "\n",
    "However if after 30 rounds, the teams are tied 15-15, then an 6-round overtime is played to find the winner. Overtimes are repeated endlessly until a winner is found."
   ]
  },
  {
   "cell_type": "code",
   "execution_count": 21,
   "metadata": {},
   "outputs": [
    {
     "data": {
      "image/png": "[encoded data removed]",
      "text/plain": [
       "<Figure size 864x432 with 1 Axes>"
      ]
     },
     "metadata": {},
     "output_type": "display_data"
    }
   ],
   "source": [
    "plt.figure(figsize=(12,6))\n",
    "ax = sns.countplot(data=batch_data, x=\"total_rounds\", palette=\"gist_heat\")\n",
    "ax.set_title(\"Number of matches per number of rounds\");"
   ]
  },
  {
   "cell_type": "markdown",
   "metadata": {},
   "source": [
    "The data contains matches where the total number of rounds played is less than 16. Most likely it corresponds to [forfeited matches](https://support.faceit.com/hc/en-us/articles/207569009-Forfeiting-a-CS-GO-match-).\n",
    "\n",
    "Forfeited matches usually represent very unbalanced (one-sided) matches and must have atleast 11 played rounds.\n"
   ]
  },
  {
   "cell_type": "code",
   "execution_count": 22,
   "metadata": {},
   "outputs": [],
   "source": [
    "forfeited_matches = batch_data[batch_data.total_rounds < 16]"
   ]
  },
  {
   "cell_type": "code",
   "execution_count": 23,
   "metadata": {},
   "outputs": [
    {
     "name": "stdout",
     "output_type": "stream",
     "text": [
      "Total rounds is greater or equal than 11 for all matches: True\n"
     ]
    }
   ],
   "source": [
    "print(\"Total rounds is greater or equal than 11 for all matches:\", all(forfeited_matches.total_rounds >= 11))"
   ]
  },
  {
   "cell_type": "code",
   "execution_count": 24,
   "metadata": {},
   "outputs": [
    {
     "data": {
      "text/html": [
       "<div>\n",
       "<style scoped>\n",
       "    .dataframe tbody tr th:only-of-type {\n",
       "        vertical-align: middle;\n",
       "    }\n",
       "\n",
       "    .dataframe tbody tr th {\n",
       "        vertical-align: top;\n",
       "    }\n",
       "\n",
       "    .dataframe thead th {\n",
       "        text-align: right;\n",
       "    }\n",
       "</style>\n",
       "<table border=\"1\" class=\"dataframe\">\n",
       "  <thead>\n",
       "    <tr style=\"text-align: right;\">\n",
       "      <th></th>\n",
       "      <th>Round Difference</th>\n",
       "      <th>Number of matches</th>\n",
       "    </tr>\n",
       "  </thead>\n",
       "  <tbody>\n",
       "    <tr>\n",
       "      <th>0</th>\n",
       "      <td>12</td>\n",
       "      <td>2</td>\n",
       "    </tr>\n",
       "    <tr>\n",
       "      <th>1</th>\n",
       "      <td>11</td>\n",
       "      <td>2</td>\n",
       "    </tr>\n",
       "    <tr>\n",
       "      <th>2</th>\n",
       "      <td>14</td>\n",
       "      <td>1</td>\n",
       "    </tr>\n",
       "  </tbody>\n",
       "</table>\n",
       "</div>"
      ],
      "text/plain": [
       "   Round Difference  Number of matches\n",
       "0                12                  2\n",
       "1                11                  2\n",
       "2                14                  1"
      ]
     },
     "execution_count": 24,
     "metadata": {},
     "output_type": "execute_result"
    }
   ],
   "source": [
    "abs_round_diff = abs(forfeited_matches[\"rounds_A\"] - forfeited_matches[\"rounds_B\"])\n",
    "abs_round_diff_df = pd.DataFrame(abs_round_diff.value_counts().reset_index().astype(int))\n",
    "abs_round_diff_df.columns = [\"Round Difference\", \"Number of matches\"]\n",
    "abs_round_diff_df"
   ]
  },
  {
   "cell_type": "markdown",
   "metadata": {},
   "source": [
    "Given the two points explored above, one can assume with reasonable confidence that the matches with less than 16 rounds correspond to forfeited matches."
   ]
  },
  {
   "cell_type": "markdown",
   "metadata": {},
   "source": [
    "### Winner"
   ]
  },
  {
   "cell_type": "code",
   "execution_count": 25,
   "metadata": {},
   "outputs": [
    {
     "name": "stdout",
     "output_type": "stream",
     "text": [
      "Mean winner 0.5027486256871564\n"
     ]
    },
    {
     "data": {
      "text/plain": [
       "winner\n",
       "0     995\n",
       "1    1006\n",
       "dtype: int64"
      ]
     },
     "execution_count": 25,
     "metadata": {},
     "output_type": "execute_result"
    }
   ],
   "source": [
    "batch_data[\"winner\"] = batch_data.apply(lambda x: 0 if x[\"rounds_A\"]>x[\"rounds_B\"] else 1, axis=1)\n",
    "print(\"Mean winner\", batch_data[\"winner\"].mean())\n",
    "batch_data.groupby(\"winner\").size()"
   ]
  },
  {
   "cell_type": "markdown",
   "metadata": {},
   "source": [
    "The main goal of this project is to predict the outcome of FACEIT matches. For that reason, the winner column should be the binary target variable. \n",
    "\n",
    "The mean value of the winner column is quite close to 0.5, which means the data is balanced. "
   ]
  }
 ],
 "metadata": {
  "interpreter": {
   "hash": "edaed6248b0f32b94d0199fc5dbdbd44040abee12f1bfab10571072dd86c73f9"
  },
  "kernelspec": {
   "display_name": "Python 3.8.0 64-bit",
   "name": "python3"
  },
  "language_info": {
   "codemirror_mode": {
    "name": "ipython",
    "version": 3
   },
   "file_extension": ".py",
   "mimetype": "text/x-python",
   "name": "python",
   "nbconvert_exporter": "python",
   "pygments_lexer": "ipython3",
   "version": "3.8.0"
  },
  "orig_nbformat": 4
 },
 "nbformat": 4,
 "nbformat_minor": 2
}
