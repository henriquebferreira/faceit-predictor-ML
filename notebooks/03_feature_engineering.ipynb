{
 "cells": [
  {
   "cell_type": "markdown",
   "metadata": {},
   "source": [
    "<h1 style=\"color:#ff5500; font-family:Play; font-size:3em; margin:auto 32px;align:center\">Part III - Feature Engineering</h1>\n",
    "\n",
    "---\n"
   ]
  },
  {
   "cell_type": "markdown",
   "metadata": {},
   "source": [
    "This document is a part of the FACEIT Predictor Data Science Workflow.\n",
    "\n",
    "In this notebook several features are created and stored for the whole dataset."
   ]
  },
  {
   "cell_type": "markdown",
   "metadata": {},
   "source": [
    "# Imports\n"
   ]
  },
  {
   "cell_type": "code",
   "execution_count": 315,
   "metadata": {
    "ExecuteTime": {
     "end_time": "2020-02-13T16:57:05.785569Z",
     "start_time": "2020-02-13T16:57:05.715729Z"
    }
   },
   "outputs": [],
   "source": [
    "import pandas as pd\n",
    "import numpy as np\n",
    "import json\n",
    "from pymongo import MongoClient\n",
    "from statistics import mean\n",
    "from glob import glob\n",
    "import datetime\n",
    "from tqdm import tqdm\n",
    "from collections import defaultdict\n",
    "from ast import literal_eval\n",
    "\n",
    "# enable imports from parent directory\n",
    "import sys\n",
    "from pathlib import Path\n",
    "sys.path.append(str(Path.cwd().parent))\n",
    "\n",
    "# local modules\n",
    "from src.db.config import read_config\n",
    "from src.utils.loaders import read_data_iter\n",
    "from src.utils.dirs import EXTERNAL_DATA_DIR, PROCESSED_DATA_DIR\n",
    "from src.features.featurize import create_features\n",
    "from src.data.performance_indicators import create_performance_indicators\n",
    "\n",
    "from IPython import get_ipython\n",
    "\n",
    "ipython = get_ipython()\n",
    "\n",
    "# autoreload extension\n",
    "if \"autoreload\" not in ipython.extension_manager.loaded:\n",
    "   %load_ext autoreload\n",
    "\n",
    "# autoreload python modules\n",
    "%autoreload 2"
   ]
  },
  {
   "cell_type": "markdown",
   "metadata": {},
   "source": [
    "# Database Connection"
   ]
  },
  {
   "cell_type": "code",
   "execution_count": 2,
   "metadata": {},
   "outputs": [],
   "source": [
    "db_cfg = read_config(\"local.ingestorDB\")"
   ]
  },
  {
   "cell_type": "code",
   "execution_count": 3,
   "metadata": {},
   "outputs": [],
   "source": [
    "client = MongoClient(**db_cfg)\n",
    "db = client['faceit_imported']"
   ]
  },
  {
   "cell_type": "code",
   "execution_count": 4,
   "metadata": {},
   "outputs": [],
   "source": [
    "# Connect to the collections inside the local ingestor database\n",
    "players_coll = db['player']\n",
    "matches_coll = db['match']\n",
    "lifetime_stats_coll = db['player_lifetime_stats']"
   ]
  },
  {
   "cell_type": "markdown",
   "metadata": {},
   "source": [
    "# Performance indicators statistics"
   ]
  },
  {
   "cell_type": "markdown",
   "metadata": {},
   "source": [
    "Compute the *Mean* and *Standard Deviation* for:\n",
    "* Kills Per Round (KPR)\n",
    "* Survived Rounds per Round (SPR)\n",
    "* Multikills Score per Round (MKPR)\n",
    "* Assists per Round (APR)\n",
    "* MVPs per Round (MVPPR)\n",
    "\n",
    "The Performance Indicators will be significantly important furter on when implementing some of the features. In fact, the Rating Feature measures how well a player performed compared to the mean values for all matches. Also, these values could be used to perform missing data imputation, whenever a certain feature is not computable."
   ]
  },
  {
   "cell_type": "code",
   "execution_count": null,
   "metadata": {},
   "outputs": [],
   "source": [
    "create_performance_indicators(matches_coll)"
   ]
  },
  {
   "cell_type": "code",
   "execution_count": 313,
   "metadata": {},
   "outputs": [],
   "source": [
    "performance_statistics_coll = db['performance_statistics']"
   ]
  },
  {
   "cell_type": "code",
   "execution_count": 318,
   "metadata": {},
   "outputs": [
    {
     "data": {
      "text/html": [
       "<div>\n",
       "<style scoped>\n",
       "    .dataframe tbody tr th:only-of-type {\n",
       "        vertical-align: middle;\n",
       "    }\n",
       "\n",
       "    .dataframe tbody tr th {\n",
       "        vertical-align: top;\n",
       "    }\n",
       "\n",
       "    .dataframe thead th {\n",
       "        text-align: right;\n",
       "    }\n",
       "</style>\n",
       "<table border=\"1\" class=\"dataframe\">\n",
       "  <thead>\n",
       "    <tr style=\"text-align: right;\">\n",
       "      <th></th>\n",
       "      <th>assists_pr</th>\n",
       "      <th>kills_pr</th>\n",
       "      <th>multikills_rating_pr</th>\n",
       "      <th>mvps_pr</th>\n",
       "      <th>survived_pr</th>\n",
       "    </tr>\n",
       "  </thead>\n",
       "  <tbody>\n",
       "    <tr>\n",
       "      <th>mean</th>\n",
       "      <td>0.145781</td>\n",
       "      <td>0.702935</td>\n",
       "      <td>0.504272</td>\n",
       "      <td>0.101607</td>\n",
       "      <td>0.296504</td>\n",
       "    </tr>\n",
       "    <tr>\n",
       "      <th>std_dev</th>\n",
       "      <td>0.080769</td>\n",
       "      <td>0.238984</td>\n",
       "      <td>0.531840</td>\n",
       "      <td>0.077306</td>\n",
       "      <td>0.139417</td>\n",
       "    </tr>\n",
       "  </tbody>\n",
       "</table>\n",
       "</div>"
      ],
      "text/plain": [
       "         assists_pr  kills_pr  multikills_rating_pr   mvps_pr  survived_pr\n",
       "mean       0.145781  0.702935              0.504272  0.101607     0.296504\n",
       "std_dev    0.080769  0.238984              0.531840  0.077306     0.139417"
      ]
     },
     "execution_count": 318,
     "metadata": {},
     "output_type": "execute_result"
    }
   ],
   "source": [
    "performance_statistics = {}\n",
    "for ps in performance_statistics_coll.find({}):\n",
    "    performance_statistics[ps[\"_id\"]] = {\n",
    "        \"mean\":ps[\"value\"][\"mean\"],\n",
    "        \"std_dev\":ps[\"value\"][\"stdDev\"]\n",
    "        }\n",
    "pd.DataFrame(performance_statistics)"
   ]
  },
  {
   "cell_type": "markdown",
   "metadata": {},
   "source": [
    "# Featurization"
   ]
  },
  {
   "cell_type": "markdown",
   "metadata": {},
   "source": [
    "The features functions were initially implemented and tested in this notebook. Then they were moved to appropriate modules inside `src/features/`\n",
    "\n",
    "The features are divided into 4 types:\n",
    "* match features\n",
    "* lifetime features\n",
    "* date features\n",
    "* previous matches features\n",
    "\n",
    "**Match Features**\n",
    "\n",
    "Features that are directly computed from the match configuration or from data that is available in the match document. \n",
    "\n",
    "Example:\n",
    "\n",
    "`add_feature(data, get_mean_elo)`  \n",
    "`add_feature(data, get_num_parties)`  \n",
    "\n",
    "**Lifetime Features**\n",
    "\n",
    "The Lifetime Features are computed from the Lifetime Stats of each player as they were immediately before the beginning of the match. The values are averaged for each team.\n",
    "\n",
    "The 5 main indicators are: *Number of Matches*, *Winrate*, *Kill/Death ratio*, *Multikills Score* and *Rating*. Those are computed globally (the total value for all maps) and specifically for the map of the match (on map). Also, the preference - the on map / total ratio - is taken into account.\n",
    "\n",
    "Example:\n",
    "\n",
    "Global: `add_feature(data, get_mean_matches)`  \n",
    "Specific: `add_feature(data, get_mean_winrate_on_map)`  \n",
    "Preference (Specific/Global): `add_feature(data, get_mean_rating_map_preference)`  \n",
    "\n",
    "**Date Features**\n",
    "\n",
    "At the time of writing, the Date Features only regard the age of the players' FACEIT accounts.\n",
    "\n",
    "Example:\n",
    "\n",
    "`add_feature(data, get_mean_created_at_faceit)`  \n",
    "\n",
    "**Previous Matches Features**\n",
    "\n",
    "The data from the 10 previous matches is processed in order to compute the Previous Matches Features. The 5 main indicators stated in the *Lifetime Features* are also computed for the previous matches. Moreover, the date recency of the matches is considered, as well as the number of matches played on the same day. Furthermore, it is checked if any of the players have played together in the past 10 matches and how well they performed.\n",
    "\n",
    "Example:\n",
    "\n",
    "`add_feature(match, get_mean_matches_on_map_prev, previous_matches=previous_matches)`  \n",
    "`add_feature(match, get_mean_interval_time_prev, previous_matches=previous_matches)`  \n",
    "`add_feature(match, get_mean_matches_on_day, previous_matches=previous_matches)`   \n",
    "`add_feature(match, get_winrate_togthr_prev, previous_matches=previous_matches)` "
   ]
  },
  {
   "cell_type": "code",
   "execution_count": 2,
   "metadata": {},
   "outputs": [],
   "source": [
    "batch_data_gen = read_data_iter(\"interim\")"
   ]
  },
  {
   "cell_type": "code",
   "execution_count": 3,
   "metadata": {},
   "outputs": [],
   "source": [
    "for index, data in enumerate(batch_data_gen):\n",
    "    data_featurized = create_features(data)\n",
    "    data_featurized.to_csv(f'{str(PROCESSED_DATA_DIR)}/batch_{index}.csv')"
   ]
  },
  {
   "cell_type": "code",
   "execution_count": 4,
   "metadata": {},
   "outputs": [
    {
     "data": {
      "text/html": [
       "<div>\n",
       "<style scoped>\n",
       "    .dataframe tbody tr th:only-of-type {\n",
       "        vertical-align: middle;\n",
       "    }\n",
       "\n",
       "    .dataframe tbody tr th {\n",
       "        vertical-align: top;\n",
       "    }\n",
       "\n",
       "    .dataframe thead th {\n",
       "        text-align: right;\n",
       "    }\n",
       "</style>\n",
       "<table border=\"1\" class=\"dataframe\">\n",
       "  <thead>\n",
       "    <tr style=\"text-align: right;\">\n",
       "      <th></th>\n",
       "      <th>_id</th>\n",
       "      <th>winner</th>\n",
       "      <th>match_mean_elo</th>\n",
       "      <th>5v5_free_queue</th>\n",
       "      <th>5v5_premium_queue</th>\n",
       "      <th>dif_mean_elo</th>\n",
       "      <th>dif_stddev_elo</th>\n",
       "      <th>dif_num_paid_memberships</th>\n",
       "      <th>dif_num_solo_players</th>\n",
       "      <th>dif_num_parties</th>\n",
       "      <th>...</th>\n",
       "      <th>dif_mean_dif_rounds_prev</th>\n",
       "      <th>dif_mean_dif_elo_prev</th>\n",
       "      <th>dif_mean_matches_afk</th>\n",
       "      <th>dif_num_played_togthr_prev</th>\n",
       "      <th>dif_winrate_togthr_prev</th>\n",
       "      <th>dif_mean_first_matches_on_day</th>\n",
       "      <th>dif_mean_matches_on_day</th>\n",
       "      <th>dif_mean_played_map_on_day</th>\n",
       "      <th>entity_dummies_hub</th>\n",
       "      <th>entity_dummies_matchmaking</th>\n",
       "    </tr>\n",
       "  </thead>\n",
       "  <tbody>\n",
       "    <tr>\n",
       "      <th>0</th>\n",
       "      <td>1-42b7574e-2ff5-4413-84c8-5101096a46cb</td>\n",
       "      <td>0</td>\n",
       "      <td>2304.9</td>\n",
       "      <td>0</td>\n",
       "      <td>1</td>\n",
       "      <td>39.0</td>\n",
       "      <td>423.672183</td>\n",
       "      <td>0</td>\n",
       "      <td>-5</td>\n",
       "      <td>-3</td>\n",
       "      <td>...</td>\n",
       "      <td>-0.76</td>\n",
       "      <td>80.196</td>\n",
       "      <td>0.0</td>\n",
       "      <td>0.40</td>\n",
       "      <td>-0.818182</td>\n",
       "      <td>0</td>\n",
       "      <td>1.2</td>\n",
       "      <td>-0.4</td>\n",
       "      <td>0</td>\n",
       "      <td>1</td>\n",
       "    </tr>\n",
       "    <tr>\n",
       "      <th>1</th>\n",
       "      <td>1-42b8405a-abd2-4932-8b49-a7d7340d56b0</td>\n",
       "      <td>0</td>\n",
       "      <td>2799.9</td>\n",
       "      <td>1</td>\n",
       "      <td>0</td>\n",
       "      <td>250.6</td>\n",
       "      <td>-106.472846</td>\n",
       "      <td>-2</td>\n",
       "      <td>0</td>\n",
       "      <td>0</td>\n",
       "      <td>...</td>\n",
       "      <td>-1.98</td>\n",
       "      <td>-196.732</td>\n",
       "      <td>0.0</td>\n",
       "      <td>0.02</td>\n",
       "      <td>-0.062069</td>\n",
       "      <td>2</td>\n",
       "      <td>-0.2</td>\n",
       "      <td>-2.4</td>\n",
       "      <td>0</td>\n",
       "      <td>1</td>\n",
       "    </tr>\n",
       "    <tr>\n",
       "      <th>2</th>\n",
       "      <td>1-42b8a143-500e-45ca-9ee9-d0f064b63481</td>\n",
       "      <td>0</td>\n",
       "      <td>2310.4</td>\n",
       "      <td>1</td>\n",
       "      <td>0</td>\n",
       "      <td>338.8</td>\n",
       "      <td>221.640169</td>\n",
       "      <td>3</td>\n",
       "      <td>0</td>\n",
       "      <td>0</td>\n",
       "      <td>...</td>\n",
       "      <td>-1.50</td>\n",
       "      <td>86.628</td>\n",
       "      <td>0.0</td>\n",
       "      <td>-0.40</td>\n",
       "      <td>-0.102564</td>\n",
       "      <td>1</td>\n",
       "      <td>-1.6</td>\n",
       "      <td>-0.6</td>\n",
       "      <td>0</td>\n",
       "      <td>1</td>\n",
       "    </tr>\n",
       "    <tr>\n",
       "      <th>3</th>\n",
       "      <td>1-42b8f6db-d606-4f54-9cec-3dd072db5a8e</td>\n",
       "      <td>0</td>\n",
       "      <td>2621.0</td>\n",
       "      <td>1</td>\n",
       "      <td>0</td>\n",
       "      <td>-48.4</td>\n",
       "      <td>386.535716</td>\n",
       "      <td>3</td>\n",
       "      <td>0</td>\n",
       "      <td>0</td>\n",
       "      <td>...</td>\n",
       "      <td>-2.56</td>\n",
       "      <td>103.628</td>\n",
       "      <td>0.0</td>\n",
       "      <td>-0.70</td>\n",
       "      <td>0.517730</td>\n",
       "      <td>0</td>\n",
       "      <td>0.2</td>\n",
       "      <td>0.6</td>\n",
       "      <td>0</td>\n",
       "      <td>1</td>\n",
       "    </tr>\n",
       "    <tr>\n",
       "      <th>4</th>\n",
       "      <td>1-42b96028-cd51-4a24-bf42-d622f53f3454</td>\n",
       "      <td>0</td>\n",
       "      <td>1796.4</td>\n",
       "      <td>0</td>\n",
       "      <td>1</td>\n",
       "      <td>4.0</td>\n",
       "      <td>-371.477952</td>\n",
       "      <td>0</td>\n",
       "      <td>5</td>\n",
       "      <td>3</td>\n",
       "      <td>...</td>\n",
       "      <td>0.74</td>\n",
       "      <td>-10.588</td>\n",
       "      <td>0.0</td>\n",
       "      <td>-0.52</td>\n",
       "      <td>-0.230769</td>\n",
       "      <td>1</td>\n",
       "      <td>-0.4</td>\n",
       "      <td>-0.4</td>\n",
       "      <td>0</td>\n",
       "      <td>1</td>\n",
       "    </tr>\n",
       "  </tbody>\n",
       "</table>\n",
       "<p>5 rows × 49 columns</p>\n",
       "</div>"
      ],
      "text/plain": [
       "                                      _id  winner  match_mean_elo  \\\n",
       "0  1-42b7574e-2ff5-4413-84c8-5101096a46cb       0          2304.9   \n",
       "1  1-42b8405a-abd2-4932-8b49-a7d7340d56b0       0          2799.9   \n",
       "2  1-42b8a143-500e-45ca-9ee9-d0f064b63481       0          2310.4   \n",
       "3  1-42b8f6db-d606-4f54-9cec-3dd072db5a8e       0          2621.0   \n",
       "4  1-42b96028-cd51-4a24-bf42-d622f53f3454       0          1796.4   \n",
       "\n",
       "   5v5_free_queue  5v5_premium_queue  dif_mean_elo  dif_stddev_elo  \\\n",
       "0               0                  1          39.0      423.672183   \n",
       "1               1                  0         250.6     -106.472846   \n",
       "2               1                  0         338.8      221.640169   \n",
       "3               1                  0         -48.4      386.535716   \n",
       "4               0                  1           4.0     -371.477952   \n",
       "\n",
       "   dif_num_paid_memberships  dif_num_solo_players  dif_num_parties  ...  \\\n",
       "0                         0                    -5               -3  ...   \n",
       "1                        -2                     0                0  ...   \n",
       "2                         3                     0                0  ...   \n",
       "3                         3                     0                0  ...   \n",
       "4                         0                     5                3  ...   \n",
       "\n",
       "   dif_mean_dif_rounds_prev  dif_mean_dif_elo_prev  dif_mean_matches_afk  \\\n",
       "0                     -0.76                 80.196                   0.0   \n",
       "1                     -1.98               -196.732                   0.0   \n",
       "2                     -1.50                 86.628                   0.0   \n",
       "3                     -2.56                103.628                   0.0   \n",
       "4                      0.74                -10.588                   0.0   \n",
       "\n",
       "   dif_num_played_togthr_prev  dif_winrate_togthr_prev  \\\n",
       "0                        0.40                -0.818182   \n",
       "1                        0.02                -0.062069   \n",
       "2                       -0.40                -0.102564   \n",
       "3                       -0.70                 0.517730   \n",
       "4                       -0.52                -0.230769   \n",
       "\n",
       "   dif_mean_first_matches_on_day  dif_mean_matches_on_day  \\\n",
       "0                              0                      1.2   \n",
       "1                              2                     -0.2   \n",
       "2                              1                     -1.6   \n",
       "3                              0                      0.2   \n",
       "4                              1                     -0.4   \n",
       "\n",
       "   dif_mean_played_map_on_day  entity_dummies_hub  entity_dummies_matchmaking  \n",
       "0                        -0.4                   0                           1  \n",
       "1                        -2.4                   0                           1  \n",
       "2                        -0.6                   0                           1  \n",
       "3                         0.6                   0                           1  \n",
       "4                        -0.4                   0                           1  \n",
       "\n",
       "[5 rows x 49 columns]"
      ]
     },
     "execution_count": 4,
     "metadata": {},
     "output_type": "execute_result"
    }
   ],
   "source": [
    "data_featurized.head()"
   ]
  }
 ],
 "metadata": {
  "interpreter": {
   "hash": "edaed6248b0f32b94d0199fc5dbdbd44040abee12f1bfab10571072dd86c73f9"
  },
  "kernelspec": {
   "display_name": "Python 3.8.0 64-bit",
   "name": "python3"
  },
  "language_info": {
   "codemirror_mode": {
    "name": "ipython",
    "version": 3
   },
   "file_extension": ".py",
   "mimetype": "text/x-python",
   "name": "python",
   "nbconvert_exporter": "python",
   "pygments_lexer": "ipython3",
   "version": "3.8.0"
  },
  "toc": {
   "base_numbering": 1,
   "nav_menu": {},
   "number_sections": true,
   "sideBar": true,
   "skip_h1_title": false,
   "title_cell": "Table of Contents",
   "title_sidebar": "Contents",
   "toc_cell": true,
   "toc_position": {},
   "toc_section_display": true,
   "toc_window_display": true
  },
  "varInspector": {
   "cols": {
    "lenName": 16,
    "lenType": 16,
    "lenVar": 40
   },
   "kernels_config": {
    "python": {
     "delete_cmd_postfix": "",
     "delete_cmd_prefix": "del ",
     "library": "var_list.py",
     "varRefreshCmd": "print(var_dic_list())"
    },
    "r": {
     "delete_cmd_postfix": ") ",
     "delete_cmd_prefix": "rm(",
     "library": "var_list.r",
     "varRefreshCmd": "cat(var_dic_list()) "
    }
   },
   "types_to_exclude": [
    "module",
    "function",
    "builtin_function_or_method",
    "instance",
    "_Feature"
   ],
   "window_display": false
  }
 },
 "nbformat": 4,
 "nbformat_minor": 2
}
