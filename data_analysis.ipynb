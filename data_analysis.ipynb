{
 "cells": [
  {
   "cell_type": "code",
   "execution_count": 1080,
   "metadata": {},
   "outputs": [],
   "source": [
    "import json\n",
    "import os\n",
    "import requests\n",
    "from player import Player\n",
    "import pandas as pd\n",
    "import json\n",
    "import pymongo\n",
    "from pymongo import MongoClient\n",
    "import base64\n",
    "from pprint import pprint\n",
    "import numpy as np\n",
    "import seaborn as sns\n",
    "# importing statistics module \n",
    "from statistics import mean\n",
    "import matplotlib.pyplot as plt\n",
    "import itertools\n",
    "import datetime\n",
    "from sklearn.ensemble import RandomForestClassifier\n",
    "from sklearn.model_selection import train_test_split"
   ]
  },
  {
   "cell_type": "code",
   "execution_count": 2,
   "metadata": {},
   "outputs": [
    {
     "name": "stdout",
     "output_type": "stream",
     "text": [
      "3.9.0\n"
     ]
    }
   ],
   "source": [
    "print(pymongo.__version__)"
   ]
  },
  {
   "cell_type": "code",
   "execution_count": 126,
   "metadata": {},
   "outputs": [],
   "source": [
    "client = MongoClient('localhost', 27017)\n",
    "db = client['faceit_db']\n",
    "collection_players = db['players']\n",
    "collection_matches = db['matches']"
   ]
  },
  {
   "cell_type": "code",
   "execution_count": 127,
   "metadata": {},
   "outputs": [],
   "source": [
    "def get_collection_len(coll):\n",
    "    cursor = coll.find({})\n",
    "    i=0\n",
    "    for document in cursor:\n",
    "        i+=1\n",
    "    print(i)"
   ]
  },
  {
   "cell_type": "code",
   "execution_count": 1110,
   "metadata": {},
   "outputs": [
    {
     "name": "stdout",
     "output_type": "stream",
     "text": [
      "162743\n",
      "49242\n"
     ]
    }
   ],
   "source": [
    "get_collection_len(collection_players)\n",
    "get_collection_len(collection_matches)"
   ]
  },
  {
   "cell_type": "code",
   "execution_count": 911,
   "metadata": {},
   "outputs": [],
   "source": [
    "data_players = pd.DataFrame(list(collection_players.find()))"
   ]
  },
  {
   "cell_type": "code",
   "execution_count": 925,
   "metadata": {},
   "outputs": [],
   "source": [
    "data = pd.DataFrame(list(collection_matches.find()))"
   ]
  },
  {
   "cell_type": "code",
   "execution_count": 927,
   "metadata": {},
   "outputs": [
    {
     "data": {
      "text/plain": [
       "(224, 10)"
      ]
     },
     "execution_count": 927,
     "metadata": {},
     "output_type": "execute_result"
    }
   ],
   "source": [
    "data = data[data['previous_five']=='ok']\n",
    "data.shape"
   ]
  },
  {
   "cell_type": "code",
   "execution_count": 919,
   "metadata": {},
   "outputs": [],
   "source": [
    "data = data[data['previous_five'].notnull()]\n"
   ]
  },
  {
   "cell_type": "code",
   "execution_count": 926,
   "metadata": {},
   "outputs": [],
   "source": [
    "data_stored = data.copy(deep=True)"
   ]
  },
  {
   "cell_type": "code",
   "execution_count": 273,
   "metadata": {},
   "outputs": [
    {
     "data": {
      "text/plain": [
       "(34252, 10)"
      ]
     },
     "execution_count": 273,
     "metadata": {},
     "output_type": "execute_result"
    }
   ],
   "source": [
    "data_stored.shape"
   ]
  },
  {
   "cell_type": "code",
   "execution_count": 541,
   "metadata": {},
   "outputs": [],
   "source": [
    "data = data.head(1000)"
   ]
  },
  {
   "cell_type": "code",
   "execution_count": 260,
   "metadata": {},
   "outputs": [
    {
     "data": {
      "text/html": [
       "<div>\n",
       "<style scoped>\n",
       "    .dataframe tbody tr th:only-of-type {\n",
       "        vertical-align: middle;\n",
       "    }\n",
       "\n",
       "    .dataframe tbody tr th {\n",
       "        vertical-align: top;\n",
       "    }\n",
       "\n",
       "    .dataframe thead th {\n",
       "        text-align: right;\n",
       "    }\n",
       "</style>\n",
       "<table border=\"1\" class=\"dataframe\">\n",
       "  <thead>\n",
       "    <tr style=\"text-align: right;\">\n",
       "      <th></th>\n",
       "      <th>_id</th>\n",
       "      <th>match_id</th>\n",
       "      <th>team1</th>\n",
       "      <th>team2</th>\n",
       "      <th>start_time</th>\n",
       "      <th>map</th>\n",
       "      <th>parties</th>\n",
       "      <th>winner</th>\n",
       "      <th>scoreboard</th>\n",
       "      <th>previous_five</th>\n",
       "      <th>players_ids_all</th>\n",
       "      <th>any_player_banned</th>\n",
       "    </tr>\n",
       "  </thead>\n",
       "  <tbody>\n",
       "    <tr>\n",
       "      <th>0</th>\n",
       "      <td>5defd34c44fe901565fe77f3</td>\n",
       "      <td>1-427cfc7e-579a-4d9f-8fbc-f31066d85992</td>\n",
       "      <td>[{'id': '7565eb27-bb23-404e-b89b-f96e3c1c9971'...</td>\n",
       "      <td>[{'id': '46cf4dd5-6135-492b-b076-77701702dadb'...</td>\n",
       "      <td>2019-10-21T02:41:24Z</td>\n",
       "      <td>[de_train]</td>\n",
       "      <td>{'465e9445-9507-4087-810d-7a61dceeaed9': ['46c...</td>\n",
       "      <td>faction2</td>\n",
       "      <td>[{'player_id': '7565eb27-bb23-404e-b89b-f96e3c...</td>\n",
       "      <td>NaN</td>\n",
       "      <td>[7565eb27-bb23-404e-b89b-f96e3c1c9971, 7b2fc67...</td>\n",
       "      <td>0</td>\n",
       "    </tr>\n",
       "    <tr>\n",
       "      <th>1</th>\n",
       "      <td>5defd34f44fe901565fe77fa</td>\n",
       "      <td>1-ebdbc6ae-3509-4d16-8e3a-21f4843fe76b</td>\n",
       "      <td>[{'id': '548b90d6-d081-4461-b157-5efdaef032b2'...</td>\n",
       "      <td>[{'id': '72b7dc0b-d3c4-4935-afcd-d383c2770e94'...</td>\n",
       "      <td>2019-10-21T01:35:53Z</td>\n",
       "      <td>[de_train]</td>\n",
       "      <td>{'17973219-7e53-4ea7-8382-171df8bef43a': ['548...</td>\n",
       "      <td>faction2</td>\n",
       "      <td>[{'player_id': '548b90d6-d081-4461-b157-5efdae...</td>\n",
       "      <td>NaN</td>\n",
       "      <td>[548b90d6-d081-4461-b157-5efdaef032b2, bf500b8...</td>\n",
       "      <td>0</td>\n",
       "    </tr>\n",
       "    <tr>\n",
       "      <th>2</th>\n",
       "      <td>5defd35044fe901565fe77fd</td>\n",
       "      <td>1-fb3266e6-a519-483f-83bd-5d3a80fc4447</td>\n",
       "      <td>[{'id': '06704697-900f-44ed-8f59-335a3cfce489'...</td>\n",
       "      <td>[{'id': '72b7dc0b-d3c4-4935-afcd-d383c2770e94'...</td>\n",
       "      <td>2019-10-21T00:57:55Z</td>\n",
       "      <td>[de_inferno]</td>\n",
       "      <td>{'465e9445-9507-4087-810d-7a61dceeaed9': ['72b...</td>\n",
       "      <td>faction2</td>\n",
       "      <td>[{'player_id': '06704697-900f-44ed-8f59-335a3c...</td>\n",
       "      <td>NaN</td>\n",
       "      <td>[06704697-900f-44ed-8f59-335a3cfce489, 6d52239...</td>\n",
       "      <td>0</td>\n",
       "    </tr>\n",
       "    <tr>\n",
       "      <th>3</th>\n",
       "      <td>5defd35244fe901565fe7804</td>\n",
       "      <td>1-326d57d7-e5bc-427f-a1d7-c113eec6db65</td>\n",
       "      <td>[{'id': '75299121-de1b-4877-90c2-14445d80da34'...</td>\n",
       "      <td>[{'id': '00c5d9f2-3b39-4128-b011-c99cc8c0eaa7'...</td>\n",
       "      <td>2019-10-20T03:27:53Z</td>\n",
       "      <td>[de_mirage]</td>\n",
       "      <td>{'24638a22-5f50-4d37-9048-ceb4078c0d05': ['752...</td>\n",
       "      <td>faction2</td>\n",
       "      <td>[{'player_id': '75299121-de1b-4877-90c2-14445d...</td>\n",
       "      <td>NaN</td>\n",
       "      <td>[75299121-de1b-4877-90c2-14445d80da34, 9108aeb...</td>\n",
       "      <td>0</td>\n",
       "    </tr>\n",
       "    <tr>\n",
       "      <th>4</th>\n",
       "      <td>5defd35544fe901565fe780e</td>\n",
       "      <td>1-8c3461f9-e2b7-40d9-a3cd-2da4989ffd24</td>\n",
       "      <td>[{'id': '03d8c8a0-8aac-437f-aeeb-912653816033'...</td>\n",
       "      <td>[{'id': '1602f9f7-0211-45f7-b750-57e6bcd6c380'...</td>\n",
       "      <td>2019-10-19T00:58:21Z</td>\n",
       "      <td>[de_mirage]</td>\n",
       "      <td>{'369597f7-32a9-427e-a4bd-b7754386fc2e': ['2bd...</td>\n",
       "      <td>faction1</td>\n",
       "      <td>[{'player_id': '03d8c8a0-8aac-437f-aeeb-912653...</td>\n",
       "      <td>NaN</td>\n",
       "      <td>[03d8c8a0-8aac-437f-aeeb-912653816033, 2382c17...</td>\n",
       "      <td>0</td>\n",
       "    </tr>\n",
       "  </tbody>\n",
       "</table>\n",
       "</div>"
      ],
      "text/plain": [
       "                        _id                                match_id  \\\n",
       "0  5defd34c44fe901565fe77f3  1-427cfc7e-579a-4d9f-8fbc-f31066d85992   \n",
       "1  5defd34f44fe901565fe77fa  1-ebdbc6ae-3509-4d16-8e3a-21f4843fe76b   \n",
       "2  5defd35044fe901565fe77fd  1-fb3266e6-a519-483f-83bd-5d3a80fc4447   \n",
       "3  5defd35244fe901565fe7804  1-326d57d7-e5bc-427f-a1d7-c113eec6db65   \n",
       "4  5defd35544fe901565fe780e  1-8c3461f9-e2b7-40d9-a3cd-2da4989ffd24   \n",
       "\n",
       "                                               team1  \\\n",
       "0  [{'id': '7565eb27-bb23-404e-b89b-f96e3c1c9971'...   \n",
       "1  [{'id': '548b90d6-d081-4461-b157-5efdaef032b2'...   \n",
       "2  [{'id': '06704697-900f-44ed-8f59-335a3cfce489'...   \n",
       "3  [{'id': '75299121-de1b-4877-90c2-14445d80da34'...   \n",
       "4  [{'id': '03d8c8a0-8aac-437f-aeeb-912653816033'...   \n",
       "\n",
       "                                               team2            start_time  \\\n",
       "0  [{'id': '46cf4dd5-6135-492b-b076-77701702dadb'...  2019-10-21T02:41:24Z   \n",
       "1  [{'id': '72b7dc0b-d3c4-4935-afcd-d383c2770e94'...  2019-10-21T01:35:53Z   \n",
       "2  [{'id': '72b7dc0b-d3c4-4935-afcd-d383c2770e94'...  2019-10-21T00:57:55Z   \n",
       "3  [{'id': '00c5d9f2-3b39-4128-b011-c99cc8c0eaa7'...  2019-10-20T03:27:53Z   \n",
       "4  [{'id': '1602f9f7-0211-45f7-b750-57e6bcd6c380'...  2019-10-19T00:58:21Z   \n",
       "\n",
       "            map                                            parties    winner  \\\n",
       "0    [de_train]  {'465e9445-9507-4087-810d-7a61dceeaed9': ['46c...  faction2   \n",
       "1    [de_train]  {'17973219-7e53-4ea7-8382-171df8bef43a': ['548...  faction2   \n",
       "2  [de_inferno]  {'465e9445-9507-4087-810d-7a61dceeaed9': ['72b...  faction2   \n",
       "3   [de_mirage]  {'24638a22-5f50-4d37-9048-ceb4078c0d05': ['752...  faction2   \n",
       "4   [de_mirage]  {'369597f7-32a9-427e-a4bd-b7754386fc2e': ['2bd...  faction1   \n",
       "\n",
       "                                          scoreboard previous_five  \\\n",
       "0  [{'player_id': '7565eb27-bb23-404e-b89b-f96e3c...           NaN   \n",
       "1  [{'player_id': '548b90d6-d081-4461-b157-5efdae...           NaN   \n",
       "2  [{'player_id': '06704697-900f-44ed-8f59-335a3c...           NaN   \n",
       "3  [{'player_id': '75299121-de1b-4877-90c2-14445d...           NaN   \n",
       "4  [{'player_id': '03d8c8a0-8aac-437f-aeeb-912653...           NaN   \n",
       "\n",
       "                                     players_ids_all  any_player_banned  \n",
       "0  [7565eb27-bb23-404e-b89b-f96e3c1c9971, 7b2fc67...                  0  \n",
       "1  [548b90d6-d081-4461-b157-5efdaef032b2, bf500b8...                  0  \n",
       "2  [06704697-900f-44ed-8f59-335a3cfce489, 6d52239...                  0  \n",
       "3  [75299121-de1b-4877-90c2-14445d80da34, 9108aeb...                  0  \n",
       "4  [03d8c8a0-8aac-437f-aeeb-912653816033, 2382c17...                  0  "
      ]
     },
     "execution_count": 260,
     "metadata": {},
     "output_type": "execute_result"
    }
   ],
   "source": [
    "data.head()"
   ]
  },
  {
   "cell_type": "code",
   "execution_count": 180,
   "metadata": {},
   "outputs": [
    {
     "data": {
      "text/html": [
       "<div>\n",
       "<style scoped>\n",
       "    .dataframe tbody tr th:only-of-type {\n",
       "        vertical-align: middle;\n",
       "    }\n",
       "\n",
       "    .dataframe tbody tr th {\n",
       "        vertical-align: top;\n",
       "    }\n",
       "\n",
       "    .dataframe thead th {\n",
       "        text-align: right;\n",
       "    }\n",
       "</style>\n",
       "<table border=\"1\" class=\"dataframe\">\n",
       "  <thead>\n",
       "    <tr style=\"text-align: right;\">\n",
       "      <th></th>\n",
       "      <th>_id</th>\n",
       "      <th>player_id</th>\n",
       "      <th>avg_hs</th>\n",
       "      <th>avg_kd</th>\n",
       "      <th>win_rate</th>\n",
       "      <th>matches</th>\n",
       "      <th>map_stats</th>\n",
       "      <th>searched</th>\n",
       "      <th>status</th>\n",
       "    </tr>\n",
       "  </thead>\n",
       "  <tbody>\n",
       "    <tr>\n",
       "      <th>0</th>\n",
       "      <td>5defd34344fe901565fe77e9</td>\n",
       "      <td>dbe8b41f-e16e-4c42-ba15-c80089f4836c</td>\n",
       "      <td>48</td>\n",
       "      <td>1.15</td>\n",
       "      <td>49</td>\n",
       "      <td>1306</td>\n",
       "      <td>[{'map_name': 'de_nuke', 'avg_kd': '1.03', 'av...</td>\n",
       "      <td>1</td>\n",
       "      <td>AVAILABLE</td>\n",
       "    </tr>\n",
       "    <tr>\n",
       "      <th>1</th>\n",
       "      <td>5defd34844fe901565fe77ea</td>\n",
       "      <td>7565eb27-bb23-404e-b89b-f96e3c1c9971</td>\n",
       "      <td>44</td>\n",
       "      <td>1.15</td>\n",
       "      <td>51</td>\n",
       "      <td>907</td>\n",
       "      <td>[{'map_name': 'de_vertigo', 'avg_kd': '0.81', ...</td>\n",
       "      <td>0</td>\n",
       "      <td>AVAILABLE</td>\n",
       "    </tr>\n",
       "    <tr>\n",
       "      <th>2</th>\n",
       "      <td>5defd34944fe901565fe77eb</td>\n",
       "      <td>7b2fc67e-cf9e-42f9-ac3d-37e27a1f0afa</td>\n",
       "      <td>49</td>\n",
       "      <td>1.23</td>\n",
       "      <td>50</td>\n",
       "      <td>1683</td>\n",
       "      <td>[{'map_name': 'de_dust2', 'avg_kd': '1.33', 'a...</td>\n",
       "      <td>0</td>\n",
       "      <td>AVAILABLE</td>\n",
       "    </tr>\n",
       "    <tr>\n",
       "      <th>3</th>\n",
       "      <td>5defd34944fe901565fe77ec</td>\n",
       "      <td>58c5388f-5d5f-4d4b-af8d-76c7dc871d6b</td>\n",
       "      <td>40</td>\n",
       "      <td>1.22</td>\n",
       "      <td>54</td>\n",
       "      <td>659</td>\n",
       "      <td>[{'map_name': 'de_mirage', 'avg_kd': '1.12', '...</td>\n",
       "      <td>0</td>\n",
       "      <td>AVAILABLE</td>\n",
       "    </tr>\n",
       "    <tr>\n",
       "      <th>4</th>\n",
       "      <td>5defd34a44fe901565fe77ed</td>\n",
       "      <td>03cedfb6-bb14-4839-a06d-d85f9240d9bd</td>\n",
       "      <td>37</td>\n",
       "      <td>1.15</td>\n",
       "      <td>50</td>\n",
       "      <td>1785</td>\n",
       "      <td>[{'map_name': 'de_cbble', 'avg_kd': '1.07', 'a...</td>\n",
       "      <td>0</td>\n",
       "      <td>AVAILABLE</td>\n",
       "    </tr>\n",
       "  </tbody>\n",
       "</table>\n",
       "</div>"
      ],
      "text/plain": [
       "                        _id                             player_id avg_hs  \\\n",
       "0  5defd34344fe901565fe77e9  dbe8b41f-e16e-4c42-ba15-c80089f4836c     48   \n",
       "1  5defd34844fe901565fe77ea  7565eb27-bb23-404e-b89b-f96e3c1c9971     44   \n",
       "2  5defd34944fe901565fe77eb  7b2fc67e-cf9e-42f9-ac3d-37e27a1f0afa     49   \n",
       "3  5defd34944fe901565fe77ec  58c5388f-5d5f-4d4b-af8d-76c7dc871d6b     40   \n",
       "4  5defd34a44fe901565fe77ed  03cedfb6-bb14-4839-a06d-d85f9240d9bd     37   \n",
       "\n",
       "  avg_kd win_rate matches                                          map_stats  \\\n",
       "0   1.15       49    1306  [{'map_name': 'de_nuke', 'avg_kd': '1.03', 'av...   \n",
       "1   1.15       51     907  [{'map_name': 'de_vertigo', 'avg_kd': '0.81', ...   \n",
       "2   1.23       50    1683  [{'map_name': 'de_dust2', 'avg_kd': '1.33', 'a...   \n",
       "3   1.22       54     659  [{'map_name': 'de_mirage', 'avg_kd': '1.12', '...   \n",
       "4   1.15       50    1785  [{'map_name': 'de_cbble', 'avg_kd': '1.07', 'a...   \n",
       "\n",
       "   searched     status  \n",
       "0         1  AVAILABLE  \n",
       "1         0  AVAILABLE  \n",
       "2         0  AVAILABLE  \n",
       "3         0  AVAILABLE  \n",
       "4         0  AVAILABLE  "
      ]
     },
     "execution_count": 180,
     "metadata": {},
     "output_type": "execute_result"
    }
   ],
   "source": [
    "data_players.head()"
   ]
  },
  {
   "cell_type": "code",
   "execution_count": 125,
   "metadata": {},
   "outputs": [
    {
     "name": "stdout",
     "output_type": "stream",
     "text": [
      "7565eb27-bb23-404e-b89b-f96e3c1c9971\n"
     ]
    },
    {
     "data": {
      "text/html": [
       "<div>\n",
       "<style scoped>\n",
       "    .dataframe tbody tr th:only-of-type {\n",
       "        vertical-align: middle;\n",
       "    }\n",
       "\n",
       "    .dataframe tbody tr th {\n",
       "        vertical-align: top;\n",
       "    }\n",
       "\n",
       "    .dataframe thead th {\n",
       "        text-align: right;\n",
       "    }\n",
       "</style>\n",
       "<table border=\"1\" class=\"dataframe\">\n",
       "  <thead>\n",
       "    <tr style=\"text-align: right;\">\n",
       "      <th></th>\n",
       "      <th>_id</th>\n",
       "      <th>match_id</th>\n",
       "      <th>team1</th>\n",
       "      <th>team2</th>\n",
       "      <th>start_time</th>\n",
       "      <th>map</th>\n",
       "      <th>parties</th>\n",
       "      <th>winner</th>\n",
       "      <th>scoreboard</th>\n",
       "      <th>previous_five</th>\n",
       "      <th>correct_map</th>\n",
       "      <th>players_ids_all</th>\n",
       "      <th>players_ids_team1</th>\n",
       "      <th>players_ids_team2</th>\n",
       "      <th>team1_matches_on_map</th>\n",
       "      <th>team2_matches_on_map</th>\n",
       "      <th>timestamp</th>\n",
       "    </tr>\n",
       "  </thead>\n",
       "  <tbody>\n",
       "    <tr>\n",
       "      <th>0</th>\n",
       "      <td>5defd34c44fe901565fe77f3</td>\n",
       "      <td>1-427cfc7e-579a-4d9f-8fbc-f31066d85992</td>\n",
       "      <td>[{'id': '7565eb27-bb23-404e-b89b-f96e3c1c9971'...</td>\n",
       "      <td>[{'id': '46cf4dd5-6135-492b-b076-77701702dadb'...</td>\n",
       "      <td>2019-10-21T02:41:24Z</td>\n",
       "      <td>[de_train]</td>\n",
       "      <td>{'465e9445-9507-4087-810d-7a61dceeaed9': ['46c...</td>\n",
       "      <td>faction2</td>\n",
       "      <td>[{'player_id': '7565eb27-bb23-404e-b89b-f96e3c...</td>\n",
       "      <td>NaN</td>\n",
       "      <td>de_train</td>\n",
       "      <td>[7565eb27-bb23-404e-b89b-f96e3c1c9971, 7b2fc67...</td>\n",
       "      <td>[7565eb27-bb23-404e-b89b-f96e3c1c9971, 7b2fc67...</td>\n",
       "      <td>[46cf4dd5-6135-492b-b076-77701702dadb, 7529912...</td>\n",
       "      <td>0</td>\n",
       "      <td>0</td>\n",
       "      <td>2019-10-21 02:41:24</td>\n",
       "    </tr>\n",
       "  </tbody>\n",
       "</table>\n",
       "</div>"
      ],
      "text/plain": [
       "                        _id                                match_id  \\\n",
       "0  5defd34c44fe901565fe77f3  1-427cfc7e-579a-4d9f-8fbc-f31066d85992   \n",
       "\n",
       "                                               team1  \\\n",
       "0  [{'id': '7565eb27-bb23-404e-b89b-f96e3c1c9971'...   \n",
       "\n",
       "                                               team2            start_time  \\\n",
       "0  [{'id': '46cf4dd5-6135-492b-b076-77701702dadb'...  2019-10-21T02:41:24Z   \n",
       "\n",
       "          map                                            parties    winner  \\\n",
       "0  [de_train]  {'465e9445-9507-4087-810d-7a61dceeaed9': ['46c...  faction2   \n",
       "\n",
       "                                          scoreboard previous_five  \\\n",
       "0  [{'player_id': '7565eb27-bb23-404e-b89b-f96e3c...           NaN   \n",
       "\n",
       "  correct_map                                    players_ids_all  \\\n",
       "0    de_train  [7565eb27-bb23-404e-b89b-f96e3c1c9971, 7b2fc67...   \n",
       "\n",
       "                                   players_ids_team1  \\\n",
       "0  [7565eb27-bb23-404e-b89b-f96e3c1c9971, 7b2fc67...   \n",
       "\n",
       "                                   players_ids_team2  team1_matches_on_map  \\\n",
       "0  [46cf4dd5-6135-492b-b076-77701702dadb, 7529912...                     0   \n",
       "\n",
       "   team2_matches_on_map           timestamp  \n",
       "0                     0 2019-10-21 02:41:24  "
      ]
     },
     "execution_count": 125,
     "metadata": {},
     "output_type": "execute_result"
    }
   ],
   "source": [
    "ts_zero = data.iloc[0]['timestamp']\n",
    "print(data.iloc[0]['players_ids_all'][0])\n",
    "player_zerozero = data.iloc[0]['players_ids_all'][9]\n",
    "players_match_zero = []\n",
    "for p in data.iloc[0]['players_ids_all']:\n",
    "    players_match_zero.append(p)\n",
    "# searched_playerid = set(['dbe8b41f-e16e-4c42-ba15-c80089f4836c'])\n",
    "# isplayer = searched_playerid.issubset\n",
    "# data_specific_player = data[[isplayer(l) for l in data['players_ids_all'].values.tolist()]]\n",
    "# data_specific_player\n",
    "data_matches_zero = data[[players_match_zero[3] in x for x in data['players_ids_all']]]\n",
    "data_matches_zero[data_matches_zero['timestamp'] <=ts_zero]"
   ]
  },
  {
   "cell_type": "code",
   "execution_count": 1521,
   "metadata": {},
   "outputs": [],
   "source": [
    "data = data.head(1000)"
   ]
  },
  {
   "cell_type": "code",
   "execution_count": 1210,
   "metadata": {},
   "outputs": [
    {
     "data": {
      "text/html": [
       "<div>\n",
       "<style scoped>\n",
       "    .dataframe tbody tr th:only-of-type {\n",
       "        vertical-align: middle;\n",
       "    }\n",
       "\n",
       "    .dataframe tbody tr th {\n",
       "        vertical-align: top;\n",
       "    }\n",
       "\n",
       "    .dataframe thead th {\n",
       "        text-align: right;\n",
       "    }\n",
       "</style>\n",
       "<table border=\"1\" class=\"dataframe\">\n",
       "  <thead>\n",
       "    <tr style=\"text-align: right;\">\n",
       "      <th></th>\n",
       "      <th>_id</th>\n",
       "      <th>avg_hs</th>\n",
       "      <th>avg_kd</th>\n",
       "      <th>map_stats</th>\n",
       "      <th>matches</th>\n",
       "      <th>player_id</th>\n",
       "      <th>searched</th>\n",
       "      <th>status</th>\n",
       "      <th>win_rate</th>\n",
       "    </tr>\n",
       "  </thead>\n",
       "  <tbody>\n",
       "    <tr>\n",
       "      <th>0</th>\n",
       "      <td>5defd34344fe901565fe77e9</td>\n",
       "      <td>48</td>\n",
       "      <td>1.15</td>\n",
       "      <td>[{'map_name': 'de_nuke', 'avg_kd': '1.03', 'av...</td>\n",
       "      <td>1306</td>\n",
       "      <td>dbe8b41f-e16e-4c42-ba15-c80089f4836c</td>\n",
       "      <td>1</td>\n",
       "      <td>AVAILABLE</td>\n",
       "      <td>49</td>\n",
       "    </tr>\n",
       "    <tr>\n",
       "      <th>1</th>\n",
       "      <td>5defd34844fe901565fe77ea</td>\n",
       "      <td>44</td>\n",
       "      <td>1.15</td>\n",
       "      <td>[{'map_name': 'de_vertigo', 'avg_kd': '0.81', ...</td>\n",
       "      <td>907</td>\n",
       "      <td>7565eb27-bb23-404e-b89b-f96e3c1c9971</td>\n",
       "      <td>0</td>\n",
       "      <td>AVAILABLE</td>\n",
       "      <td>51</td>\n",
       "    </tr>\n",
       "    <tr>\n",
       "      <th>2</th>\n",
       "      <td>5defd34944fe901565fe77eb</td>\n",
       "      <td>49</td>\n",
       "      <td>1.23</td>\n",
       "      <td>[{'map_name': 'de_dust2', 'avg_kd': '1.33', 'a...</td>\n",
       "      <td>1683</td>\n",
       "      <td>7b2fc67e-cf9e-42f9-ac3d-37e27a1f0afa</td>\n",
       "      <td>0</td>\n",
       "      <td>AVAILABLE</td>\n",
       "      <td>50</td>\n",
       "    </tr>\n",
       "    <tr>\n",
       "      <th>3</th>\n",
       "      <td>5defd34944fe901565fe77ec</td>\n",
       "      <td>40</td>\n",
       "      <td>1.22</td>\n",
       "      <td>[{'map_name': 'de_mirage', 'avg_kd': '1.12', '...</td>\n",
       "      <td>659</td>\n",
       "      <td>58c5388f-5d5f-4d4b-af8d-76c7dc871d6b</td>\n",
       "      <td>0</td>\n",
       "      <td>AVAILABLE</td>\n",
       "      <td>54</td>\n",
       "    </tr>\n",
       "    <tr>\n",
       "      <th>4</th>\n",
       "      <td>5defd34a44fe901565fe77ed</td>\n",
       "      <td>37</td>\n",
       "      <td>1.15</td>\n",
       "      <td>[{'map_name': 'de_cbble', 'avg_kd': '1.07', 'a...</td>\n",
       "      <td>1785</td>\n",
       "      <td>03cedfb6-bb14-4839-a06d-d85f9240d9bd</td>\n",
       "      <td>0</td>\n",
       "      <td>AVAILABLE</td>\n",
       "      <td>50</td>\n",
       "    </tr>\n",
       "  </tbody>\n",
       "</table>\n",
       "</div>"
      ],
      "text/plain": [
       "                        _id avg_hs avg_kd  \\\n",
       "0  5defd34344fe901565fe77e9     48   1.15   \n",
       "1  5defd34844fe901565fe77ea     44   1.15   \n",
       "2  5defd34944fe901565fe77eb     49   1.23   \n",
       "3  5defd34944fe901565fe77ec     40   1.22   \n",
       "4  5defd34a44fe901565fe77ed     37   1.15   \n",
       "\n",
       "                                           map_stats matches  \\\n",
       "0  [{'map_name': 'de_nuke', 'avg_kd': '1.03', 'av...    1306   \n",
       "1  [{'map_name': 'de_vertigo', 'avg_kd': '0.81', ...     907   \n",
       "2  [{'map_name': 'de_dust2', 'avg_kd': '1.33', 'a...    1683   \n",
       "3  [{'map_name': 'de_mirage', 'avg_kd': '1.12', '...     659   \n",
       "4  [{'map_name': 'de_cbble', 'avg_kd': '1.07', 'a...    1785   \n",
       "\n",
       "                              player_id  searched     status win_rate  \n",
       "0  dbe8b41f-e16e-4c42-ba15-c80089f4836c         1  AVAILABLE       49  \n",
       "1  7565eb27-bb23-404e-b89b-f96e3c1c9971         0  AVAILABLE       51  \n",
       "2  7b2fc67e-cf9e-42f9-ac3d-37e27a1f0afa         0  AVAILABLE       50  \n",
       "3  58c5388f-5d5f-4d4b-af8d-76c7dc871d6b         0  AVAILABLE       54  \n",
       "4  03cedfb6-bb14-4839-a06d-d85f9240d9bd         0  AVAILABLE       50  "
      ]
     },
     "execution_count": 1210,
     "metadata": {},
     "output_type": "execute_result"
    }
   ],
   "source": [
    "data_players.head()"
   ]
  },
  {
   "cell_type": "code",
   "execution_count": 1619,
   "metadata": {},
   "outputs": [
    {
     "data": {
      "text/plain": [
       "{'17973219-7e53-4ea7-8382-171df8bef43a': ['548b90d6-d081-4461-b157-5efdaef032b2',\n",
       "  'bf500b88-5858-4447-a171-365738a80842'],\n",
       " '465e9445-9507-4087-810d-7a61dceeaed9': ['72b7dc0b-d3c4-4935-afcd-d383c2770e94',\n",
       "  '75299121-de1b-4877-90c2-14445d80da34',\n",
       "  '9108aeb7-b586-4308-a00d-1f0f3ec4a3bd',\n",
       "  'b2676472-68cb-4600-864a-2fc9f5a2a962',\n",
       "  'dbe8b41f-e16e-4c42-ba15-c80089f4836c'],\n",
       " '69b561b9-7b8c-46ed-ace1-8db6c4973a3e': ['11bc9d40-b121-48dc-ac18-f99214c59e1a',\n",
       "  '9007f561-6bdd-4fb9-b50e-beda9999f618',\n",
       "  'bfe4c423-fb0e-4ba6-be2b-5f0c507e5193']}"
      ]
     },
     "execution_count": 1619,
     "metadata": {},
     "output_type": "execute_result"
    }
   ],
   "source": [
    "data['parties'][1]"
   ]
  },
  {
   "cell_type": "code",
   "execution_count": 1617,
   "metadata": {},
   "outputs": [
    {
     "data": {
      "text/html": [
       "<div>\n",
       "<style scoped>\n",
       "    .dataframe tbody tr th:only-of-type {\n",
       "        vertical-align: middle;\n",
       "    }\n",
       "\n",
       "    .dataframe tbody tr th {\n",
       "        vertical-align: top;\n",
       "    }\n",
       "\n",
       "    .dataframe thead th {\n",
       "        text-align: right;\n",
       "    }\n",
       "</style>\n",
       "<table border=\"1\" class=\"dataframe\">\n",
       "  <thead>\n",
       "    <tr style=\"text-align: right;\">\n",
       "      <th></th>\n",
       "      <th>_id</th>\n",
       "      <th>map</th>\n",
       "      <th>match_id</th>\n",
       "      <th>parties</th>\n",
       "      <th>scoreboard</th>\n",
       "      <th>start_time</th>\n",
       "      <th>team1</th>\n",
       "      <th>team2</th>\n",
       "      <th>winner</th>\n",
       "      <th>players_ids_team1</th>\n",
       "      <th>players_ids_team2</th>\n",
       "      <th>players_ids_all</th>\n",
       "    </tr>\n",
       "  </thead>\n",
       "  <tbody>\n",
       "    <tr>\n",
       "      <th>0</th>\n",
       "      <td>5defd34c44fe901565fe77f3</td>\n",
       "      <td>[de_train]</td>\n",
       "      <td>1-427cfc7e-579a-4d9f-8fbc-f31066d85992</td>\n",
       "      <td>{'465e9445-9507-4087-810d-7a61dceeaed9': ['46c...</td>\n",
       "      <td>[{'player_id': '7565eb27-bb23-404e-b89b-f96e3c...</td>\n",
       "      <td>2019-10-21T02:41:24Z</td>\n",
       "      <td>[{'id': '7565eb27-bb23-404e-b89b-f96e3c1c9971'...</td>\n",
       "      <td>[{'id': '46cf4dd5-6135-492b-b076-77701702dadb'...</td>\n",
       "      <td>faction2</td>\n",
       "      <td>[7565eb27-bb23-404e-b89b-f96e3c1c9971, 7b2fc67...</td>\n",
       "      <td>[46cf4dd5-6135-492b-b076-77701702dadb, 7529912...</td>\n",
       "      <td>[7565eb27-bb23-404e-b89b-f96e3c1c9971, 7b2fc67...</td>\n",
       "    </tr>\n",
       "    <tr>\n",
       "      <th>1</th>\n",
       "      <td>5defd34f44fe901565fe77fa</td>\n",
       "      <td>[de_train]</td>\n",
       "      <td>1-ebdbc6ae-3509-4d16-8e3a-21f4843fe76b</td>\n",
       "      <td>{'17973219-7e53-4ea7-8382-171df8bef43a': ['548...</td>\n",
       "      <td>[{'player_id': '548b90d6-d081-4461-b157-5efdae...</td>\n",
       "      <td>2019-10-21T01:35:53Z</td>\n",
       "      <td>[{'id': '548b90d6-d081-4461-b157-5efdaef032b2'...</td>\n",
       "      <td>[{'id': '72b7dc0b-d3c4-4935-afcd-d383c2770e94'...</td>\n",
       "      <td>faction2</td>\n",
       "      <td>[548b90d6-d081-4461-b157-5efdaef032b2, bf500b8...</td>\n",
       "      <td>[72b7dc0b-d3c4-4935-afcd-d383c2770e94, 7529912...</td>\n",
       "      <td>[548b90d6-d081-4461-b157-5efdaef032b2, bf500b8...</td>\n",
       "    </tr>\n",
       "    <tr>\n",
       "      <th>2</th>\n",
       "      <td>5defd35044fe901565fe77fd</td>\n",
       "      <td>[de_inferno]</td>\n",
       "      <td>1-fb3266e6-a519-483f-83bd-5d3a80fc4447</td>\n",
       "      <td>{'465e9445-9507-4087-810d-7a61dceeaed9': ['72b...</td>\n",
       "      <td>[{'player_id': '06704697-900f-44ed-8f59-335a3c...</td>\n",
       "      <td>2019-10-21T00:57:55Z</td>\n",
       "      <td>[{'id': '06704697-900f-44ed-8f59-335a3cfce489'...</td>\n",
       "      <td>[{'id': '72b7dc0b-d3c4-4935-afcd-d383c2770e94'...</td>\n",
       "      <td>faction2</td>\n",
       "      <td>[06704697-900f-44ed-8f59-335a3cfce489, 6d52239...</td>\n",
       "      <td>[72b7dc0b-d3c4-4935-afcd-d383c2770e94, 7529912...</td>\n",
       "      <td>[06704697-900f-44ed-8f59-335a3cfce489, 6d52239...</td>\n",
       "    </tr>\n",
       "    <tr>\n",
       "      <th>3</th>\n",
       "      <td>5defd35244fe901565fe7804</td>\n",
       "      <td>[de_mirage]</td>\n",
       "      <td>1-326d57d7-e5bc-427f-a1d7-c113eec6db65</td>\n",
       "      <td>{'24638a22-5f50-4d37-9048-ceb4078c0d05': ['752...</td>\n",
       "      <td>[{'player_id': '75299121-de1b-4877-90c2-14445d...</td>\n",
       "      <td>2019-10-20T03:27:53Z</td>\n",
       "      <td>[{'id': '75299121-de1b-4877-90c2-14445d80da34'...</td>\n",
       "      <td>[{'id': '00c5d9f2-3b39-4128-b011-c99cc8c0eaa7'...</td>\n",
       "      <td>faction2</td>\n",
       "      <td>[75299121-de1b-4877-90c2-14445d80da34, 9108aeb...</td>\n",
       "      <td>[00c5d9f2-3b39-4128-b011-c99cc8c0eaa7, 0774758...</td>\n",
       "      <td>[75299121-de1b-4877-90c2-14445d80da34, 9108aeb...</td>\n",
       "    </tr>\n",
       "    <tr>\n",
       "      <th>4</th>\n",
       "      <td>5defd35544fe901565fe780e</td>\n",
       "      <td>[de_mirage]</td>\n",
       "      <td>1-8c3461f9-e2b7-40d9-a3cd-2da4989ffd24</td>\n",
       "      <td>{'369597f7-32a9-427e-a4bd-b7754386fc2e': ['2bd...</td>\n",
       "      <td>[{'player_id': '03d8c8a0-8aac-437f-aeeb-912653...</td>\n",
       "      <td>2019-10-19T00:58:21Z</td>\n",
       "      <td>[{'id': '03d8c8a0-8aac-437f-aeeb-912653816033'...</td>\n",
       "      <td>[{'id': '1602f9f7-0211-45f7-b750-57e6bcd6c380'...</td>\n",
       "      <td>faction1</td>\n",
       "      <td>[03d8c8a0-8aac-437f-aeeb-912653816033, 2382c17...</td>\n",
       "      <td>[1602f9f7-0211-45f7-b750-57e6bcd6c380, 2c4a0f2...</td>\n",
       "      <td>[03d8c8a0-8aac-437f-aeeb-912653816033, 2382c17...</td>\n",
       "    </tr>\n",
       "    <tr>\n",
       "      <th>5</th>\n",
       "      <td>5defd35844fe901565fe7818</td>\n",
       "      <td>[de_mirage]</td>\n",
       "      <td>1-1456aee7-114c-4970-9d27-0c7c8c442991</td>\n",
       "      <td>{'1cbfcbe8-40a9-489e-9e12-68c74ff04658': ['066...</td>\n",
       "      <td>[{'player_id': '3ea26e66-97f6-441d-912b-566433...</td>\n",
       "      <td>2019-10-19T00:04:15Z</td>\n",
       "      <td>[{'id': '3ea26e66-97f6-441d-912b-566433c8d069'...</td>\n",
       "      <td>[{'id': '51084890-aa0e-4c0a-aa3e-55fc99083dad'...</td>\n",
       "      <td>faction2</td>\n",
       "      <td>[3ea26e66-97f6-441d-912b-566433c8d069, 5d78446...</td>\n",
       "      <td>[51084890-aa0e-4c0a-aa3e-55fc99083dad, bb5d6df...</td>\n",
       "      <td>[3ea26e66-97f6-441d-912b-566433c8d069, 5d78446...</td>\n",
       "    </tr>\n",
       "    <tr>\n",
       "      <th>6</th>\n",
       "      <td>5defd35c44fe901565fe7822</td>\n",
       "      <td>[de_dust2]</td>\n",
       "      <td>1-93b5e254-f300-4bce-91d9-7e5bb55f471b</td>\n",
       "      <td>{'006dae7c-7e09-4295-ad23-92e978d07a29': ['006...</td>\n",
       "      <td>[{'player_id': 'ca2dc1d5-bf61-4037-a143-22df12...</td>\n",
       "      <td>2019-10-18T00:36:07Z</td>\n",
       "      <td>[{'id': 'ca2dc1d5-bf61-4037-a143-22df12bbf3c8'...</td>\n",
       "      <td>[{'id': '9960ca7b-a837-4ad7-ae4d-c5bd78955aad'...</td>\n",
       "      <td>faction1</td>\n",
       "      <td>[ca2dc1d5-bf61-4037-a143-22df12bbf3c8, 6971394...</td>\n",
       "      <td>[9960ca7b-a837-4ad7-ae4d-c5bd78955aad, dbe8b41...</td>\n",
       "      <td>[ca2dc1d5-bf61-4037-a143-22df12bbf3c8, 6971394...</td>\n",
       "    </tr>\n",
       "    <tr>\n",
       "      <th>7</th>\n",
       "      <td>5defd35f44fe901565fe7829</td>\n",
       "      <td>[de_mirage]</td>\n",
       "      <td>1-003e94f7-6137-4c52-8635-65a61cf6fdba</td>\n",
       "      <td>{'56f9872c-6058-410c-aea8-a77fe329c50f': ['7b6...</td>\n",
       "      <td>[{'player_id': '1be3667c-6de0-441e-933e-4fe796...</td>\n",
       "      <td>2019-10-17T22:01:28Z</td>\n",
       "      <td>[{'id': '1be3667c-6de0-441e-933e-4fe796961db8'...</td>\n",
       "      <td>[{'id': '7b65a45b-016a-41d4-8cb4-0fb6fd79e8c4'...</td>\n",
       "      <td>faction1</td>\n",
       "      <td>[1be3667c-6de0-441e-933e-4fe796961db8, 46cf4dd...</td>\n",
       "      <td>[7b65a45b-016a-41d4-8cb4-0fb6fd79e8c4, a64cf91...</td>\n",
       "      <td>[1be3667c-6de0-441e-933e-4fe796961db8, 46cf4dd...</td>\n",
       "    </tr>\n",
       "    <tr>\n",
       "      <th>8</th>\n",
       "      <td>5defd36144fe901565fe7830</td>\n",
       "      <td>[de_inferno]</td>\n",
       "      <td>1-d4d1386a-7d06-4b98-a478-e2477cb20c71</td>\n",
       "      <td>{'bfb467cc-6163-4c04-b407-bc5a4f3a9460': ['46c...</td>\n",
       "      <td>[{'player_id': '216d523f-87de-4dc5-bb87-2b3568...</td>\n",
       "      <td>2019-10-17T20:15:30Z</td>\n",
       "      <td>[{'id': '216d523f-87de-4dc5-bb87-2b3568596c99'...</td>\n",
       "      <td>[{'id': '46cf4dd5-6135-492b-b076-77701702dadb'...</td>\n",
       "      <td>faction1</td>\n",
       "      <td>[216d523f-87de-4dc5-bb87-2b3568596c99, 6ce38da...</td>\n",
       "      <td>[46cf4dd5-6135-492b-b076-77701702dadb, 656c639...</td>\n",
       "      <td>[216d523f-87de-4dc5-bb87-2b3568596c99, 6ce38da...</td>\n",
       "    </tr>\n",
       "    <tr>\n",
       "      <th>9</th>\n",
       "      <td>5defd36444fe901565fe7837</td>\n",
       "      <td>[de_train]</td>\n",
       "      <td>1-fc7cad77-44c2-4fe9-b59e-817d5dbdbaf2</td>\n",
       "      <td>{'2ad72857-5c9e-4fc0-b07a-3cb39597173b': ['6cb...</td>\n",
       "      <td>[{'player_id': '1be3667c-6de0-441e-933e-4fe796...</td>\n",
       "      <td>2019-10-17T18:20:05Z</td>\n",
       "      <td>[{'id': '1be3667c-6de0-441e-933e-4fe796961db8'...</td>\n",
       "      <td>[{'id': '1ab76078-882c-414e-9733-92bb7115d3f4'...</td>\n",
       "      <td>faction1</td>\n",
       "      <td>[1be3667c-6de0-441e-933e-4fe796961db8, 8c095ac...</td>\n",
       "      <td>[1ab76078-882c-414e-9733-92bb7115d3f4, 3eb4ab4...</td>\n",
       "      <td>[1be3667c-6de0-441e-933e-4fe796961db8, 8c095ac...</td>\n",
       "    </tr>\n",
       "    <tr>\n",
       "      <th>10</th>\n",
       "      <td>5defd36944fe901565fe7841</td>\n",
       "      <td>[de_mirage]</td>\n",
       "      <td>1-1b7df376-d498-4f34-a1fd-9b5c9244afcc</td>\n",
       "      <td>{'1bcf8a57-d479-4683-af52-b36a1b44efd5': ['1bc...</td>\n",
       "      <td>[{'player_id': '7ce0a226-4351-4d77-9efa-f21816...</td>\n",
       "      <td>2019-10-17T03:50:33Z</td>\n",
       "      <td>[{'id': '7ce0a226-4351-4d77-9efa-f21816f3e0a9'...</td>\n",
       "      <td>[{'id': '4b932a24-a3af-421e-9156-8dde0a25f601'...</td>\n",
       "      <td>faction2</td>\n",
       "      <td>[7ce0a226-4351-4d77-9efa-f21816f3e0a9, d0247fd...</td>\n",
       "      <td>[4b932a24-a3af-421e-9156-8dde0a25f601, 3b314a5...</td>\n",
       "      <td>[7ce0a226-4351-4d77-9efa-f21816f3e0a9, d0247fd...</td>\n",
       "    </tr>\n",
       "    <tr>\n",
       "      <th>11</th>\n",
       "      <td>5defd36d44fe901565fe7849</td>\n",
       "      <td>[de_inferno]</td>\n",
       "      <td>1-ad84ea90-35e5-4fcd-9023-c330ae0a6b5a</td>\n",
       "      <td>{'66735c95-b6b8-4a91-b167-3a6d71a6daf7': ['4f6...</td>\n",
       "      <td>[{'player_id': '4f640df3-a3ef-4b88-a6f7-a3f418...</td>\n",
       "      <td>2019-10-17T00:23:46Z</td>\n",
       "      <td>[{'id': '4f640df3-a3ef-4b88-a6f7-a3f418be91bd'...</td>\n",
       "      <td>[{'id': '1efb9d10-6871-479a-9d39-9cbb68546792'...</td>\n",
       "      <td>faction2</td>\n",
       "      <td>[4f640df3-a3ef-4b88-a6f7-a3f418be91bd, a5fc147...</td>\n",
       "      <td>[1efb9d10-6871-479a-9d39-9cbb68546792, 4a027ed...</td>\n",
       "      <td>[4f640df3-a3ef-4b88-a6f7-a3f418be91bd, a5fc147...</td>\n",
       "    </tr>\n",
       "    <tr>\n",
       "      <th>12</th>\n",
       "      <td>5defd36f44fe901565fe784f</td>\n",
       "      <td>[de_dust2]</td>\n",
       "      <td>1-85844532-abae-4b63-a540-195029b8efe2</td>\n",
       "      <td>{'a01f19c3-ccc0-4b17-ae66-745e3d4ac22f': ['22e...</td>\n",
       "      <td>[{'player_id': '138c45a2-cfa5-40c3-844e-29f1fe...</td>\n",
       "      <td>2019-10-16T23:25:51Z</td>\n",
       "      <td>[{'id': '138c45a2-cfa5-40c3-844e-29f1fe829397'...</td>\n",
       "      <td>[{'id': '4a027ed7-57ec-4d64-b752-2c507c7d5d80'...</td>\n",
       "      <td>faction2</td>\n",
       "      <td>[138c45a2-cfa5-40c3-844e-29f1fe829397, ac4588b...</td>\n",
       "      <td>[4a027ed7-57ec-4d64-b752-2c507c7d5d80, 8c095ac...</td>\n",
       "      <td>[138c45a2-cfa5-40c3-844e-29f1fe829397, ac4588b...</td>\n",
       "    </tr>\n",
       "    <tr>\n",
       "      <th>13</th>\n",
       "      <td>5defd37144fe901565fe7856</td>\n",
       "      <td>[de_mirage]</td>\n",
       "      <td>1-1ed5233d-8f7b-4c36-8255-c002d90d61dc</td>\n",
       "      <td>{'54ab5738-d9ea-4477-b146-3eb94d32b448': ['501...</td>\n",
       "      <td>[{'player_id': '77ad2c38-88c6-4caa-be4c-823a58...</td>\n",
       "      <td>2019-10-16T22:18:36Z</td>\n",
       "      <td>[{'id': '77ad2c38-88c6-4caa-be4c-823a586b2571'...</td>\n",
       "      <td>[{'id': '5016f1a1-2ee4-484b-a10a-9e94020558ab'...</td>\n",
       "      <td>faction1</td>\n",
       "      <td>[77ad2c38-88c6-4caa-be4c-823a586b2571, 8c095ac...</td>\n",
       "      <td>[5016f1a1-2ee4-484b-a10a-9e94020558ab, 666fd58...</td>\n",
       "      <td>[77ad2c38-88c6-4caa-be4c-823a586b2571, 8c095ac...</td>\n",
       "    </tr>\n",
       "    <tr>\n",
       "      <th>14</th>\n",
       "      <td>5defd37444fe901565fe785c</td>\n",
       "      <td>[de_train]</td>\n",
       "      <td>1-de0b5e1f-9959-4635-a7b2-1be55f406cc5</td>\n",
       "      <td>{'958af931-1121-4193-afee-ee84a50ad5bd': ['415...</td>\n",
       "      <td>[{'player_id': '77ad2c38-88c6-4caa-be4c-823a58...</td>\n",
       "      <td>2019-10-16T21:21:56Z</td>\n",
       "      <td>[{'id': '77ad2c38-88c6-4caa-be4c-823a586b2571'...</td>\n",
       "      <td>[{'id': '415b8681-3b9f-47bb-9f8a-ce719913771d'...</td>\n",
       "      <td>faction1</td>\n",
       "      <td>[77ad2c38-88c6-4caa-be4c-823a586b2571, 8c095ac...</td>\n",
       "      <td>[415b8681-3b9f-47bb-9f8a-ce719913771d, 7838005...</td>\n",
       "      <td>[77ad2c38-88c6-4caa-be4c-823a586b2571, 8c095ac...</td>\n",
       "    </tr>\n",
       "    <tr>\n",
       "      <th>15</th>\n",
       "      <td>5defd37644fe901565fe7863</td>\n",
       "      <td>[de_vertigo]</td>\n",
       "      <td>1-f3b374bc-8cc1-47f3-a2cf-2f6cc1b03d20</td>\n",
       "      <td>{'7160485d-261b-476b-bb89-a3f8eb99426d': ['8c0...</td>\n",
       "      <td>[{'player_id': '8c095ace-f180-436c-a9c6-f75de8...</td>\n",
       "      <td>2019-10-16T18:48:56Z</td>\n",
       "      <td>[{'id': '8c095ace-f180-436c-a9c6-f75de813f51f'...</td>\n",
       "      <td>[{'id': '04aa750a-d8d8-4a25-9aa1-4716f409cb08'...</td>\n",
       "      <td>faction1</td>\n",
       "      <td>[8c095ace-f180-436c-a9c6-f75de813f51f, 9d3bcff...</td>\n",
       "      <td>[04aa750a-d8d8-4a25-9aa1-4716f409cb08, 156e72e...</td>\n",
       "      <td>[8c095ace-f180-436c-a9c6-f75de813f51f, 9d3bcff...</td>\n",
       "    </tr>\n",
       "    <tr>\n",
       "      <th>16</th>\n",
       "      <td>5defd37a44fe901565fe786b</td>\n",
       "      <td>[de_inferno]</td>\n",
       "      <td>1-20e947de-b926-45b5-8c0e-d24d22bfbf19</td>\n",
       "      <td>{'3100c3ad-e644-4550-aacc-7d1ffc835d3e': ['10e...</td>\n",
       "      <td>[{'player_id': '126f3b46-858f-4175-a506-ec3891...</td>\n",
       "      <td>2019-10-15T23:35:02Z</td>\n",
       "      <td>[{'id': '126f3b46-858f-4175-a506-ec3891ae52f7'...</td>\n",
       "      <td>[{'id': '10ed5e76-a259-4fe8-bd61-52e3eed13e60'...</td>\n",
       "      <td>faction2</td>\n",
       "      <td>[126f3b46-858f-4175-a506-ec3891ae52f7, 1efb9d1...</td>\n",
       "      <td>[10ed5e76-a259-4fe8-bd61-52e3eed13e60, 4071cbc...</td>\n",
       "      <td>[126f3b46-858f-4175-a506-ec3891ae52f7, 1efb9d1...</td>\n",
       "    </tr>\n",
       "    <tr>\n",
       "      <th>17</th>\n",
       "      <td>5defd37c44fe901565fe7872</td>\n",
       "      <td>[de_mirage]</td>\n",
       "      <td>1-80ed0259-9c22-475e-a6f2-68589558a864</td>\n",
       "      <td>{'0bf5db64-86d7-4b70-bead-76e6600ebaa4': ['3e3...</td>\n",
       "      <td>[{'player_id': '77ad2c38-88c6-4caa-be4c-823a58...</td>\n",
       "      <td>2019-10-15T22:32:33Z</td>\n",
       "      <td>[{'id': '77ad2c38-88c6-4caa-be4c-823a586b2571'...</td>\n",
       "      <td>[{'id': '3e326887-55e0-4e9e-9585-37c4c9c3eed5'...</td>\n",
       "      <td>faction1</td>\n",
       "      <td>[77ad2c38-88c6-4caa-be4c-823a586b2571, 8c095ac...</td>\n",
       "      <td>[3e326887-55e0-4e9e-9585-37c4c9c3eed5, a5a7524...</td>\n",
       "      <td>[77ad2c38-88c6-4caa-be4c-823a586b2571, 8c095ac...</td>\n",
       "    </tr>\n",
       "    <tr>\n",
       "      <th>18</th>\n",
       "      <td>5defd38144fe901565fe7878</td>\n",
       "      <td>[de_train]</td>\n",
       "      <td>1-982e8859-ba22-4a8e-94e7-9ba72afeb381</td>\n",
       "      <td>{'3d6afe98-175c-48e7-9b15-aeb13186f4ba': ['656...</td>\n",
       "      <td>[{'player_id': '656c639e-346e-4371-a7d5-307f9a...</td>\n",
       "      <td>2019-10-15T21:43:45Z</td>\n",
       "      <td>[{'id': '656c639e-346e-4371-a7d5-307f9ad5c655'...</td>\n",
       "      <td>[{'id': '2e0d7d3b-55d8-49de-9930-e5aa28ecd3b0'...</td>\n",
       "      <td>faction1</td>\n",
       "      <td>[656c639e-346e-4371-a7d5-307f9ad5c655, 8c095ac...</td>\n",
       "      <td>[2e0d7d3b-55d8-49de-9930-e5aa28ecd3b0, ffaddf1...</td>\n",
       "      <td>[656c639e-346e-4371-a7d5-307f9ad5c655, 8c095ac...</td>\n",
       "    </tr>\n",
       "    <tr>\n",
       "      <th>19</th>\n",
       "      <td>5defd38344fe901565fe787e</td>\n",
       "      <td>[de_vertigo]</td>\n",
       "      <td>1-5f00965d-32f0-49dc-84e2-e4d882e58855</td>\n",
       "      <td>{'3d6afe98-175c-48e7-9b15-aeb13186f4ba': ['77a...</td>\n",
       "      <td>[{'player_id': '77ad2c38-88c6-4caa-be4c-823a58...</td>\n",
       "      <td>2019-10-15T20:57:42Z</td>\n",
       "      <td>[{'id': '77ad2c38-88c6-4caa-be4c-823a586b2571'...</td>\n",
       "      <td>[{'id': '1d8791a0-09e7-4c09-b5c3-17802206f6d6'...</td>\n",
       "      <td>faction1</td>\n",
       "      <td>[77ad2c38-88c6-4caa-be4c-823a586b2571, 8c095ac...</td>\n",
       "      <td>[1d8791a0-09e7-4c09-b5c3-17802206f6d6, 5167b8e...</td>\n",
       "      <td>[77ad2c38-88c6-4caa-be4c-823a586b2571, 8c095ac...</td>\n",
       "    </tr>\n",
       "    <tr>\n",
       "      <th>20</th>\n",
       "      <td>5defd38544fe901565fe7884</td>\n",
       "      <td>[de_mirage]</td>\n",
       "      <td>1-29bd2953-12c9-48a8-8f88-8a77c78dd37b</td>\n",
       "      <td>{'02809260-cc42-403b-a213-d99bcc69b688': ['65a...</td>\n",
       "      <td>[{'player_id': '1be3667c-6de0-441e-933e-4fe796...</td>\n",
       "      <td>2019-10-15T19:37:29Z</td>\n",
       "      <td>[{'id': '1be3667c-6de0-441e-933e-4fe796961db8'...</td>\n",
       "      <td>[{'id': '65a64721-988e-45f8-a584-d66ae7891a81'...</td>\n",
       "      <td>faction2</td>\n",
       "      <td>[1be3667c-6de0-441e-933e-4fe796961db8, 656c639...</td>\n",
       "      <td>[65a64721-988e-45f8-a584-d66ae7891a81, 959077a...</td>\n",
       "      <td>[1be3667c-6de0-441e-933e-4fe796961db8, 656c639...</td>\n",
       "    </tr>\n",
       "    <tr>\n",
       "      <th>21</th>\n",
       "      <td>5defd38744fe901565fe788a</td>\n",
       "      <td>[de_vertigo]</td>\n",
       "      <td>1-99920407-47c0-49eb-855e-71b518cf137b</td>\n",
       "      <td>{'44cea192-6cfe-407b-9547-723f0738c6dd': ['4a0...</td>\n",
       "      <td>[{'player_id': '4a027ed7-57ec-4d64-b752-2c507c...</td>\n",
       "      <td>2019-10-15T00:05:59Z</td>\n",
       "      <td>[{'id': '4a027ed7-57ec-4d64-b752-2c507c7d5d80'...</td>\n",
       "      <td>[{'id': '0b4e1f85-c64a-48d8-a230-9a518cbfc8d8'...</td>\n",
       "      <td>faction1</td>\n",
       "      <td>[4a027ed7-57ec-4d64-b752-2c507c7d5d80, 656c639...</td>\n",
       "      <td>[0b4e1f85-c64a-48d8-a230-9a518cbfc8d8, 0c98edd...</td>\n",
       "      <td>[4a027ed7-57ec-4d64-b752-2c507c7d5d80, 656c639...</td>\n",
       "    </tr>\n",
       "    <tr>\n",
       "      <th>22</th>\n",
       "      <td>5defd38a44fe901565fe7890</td>\n",
       "      <td>[de_train]</td>\n",
       "      <td>1-b073b599-4af3-47f5-a237-ef620c685a3d</td>\n",
       "      <td>{'44cea192-6cfe-407b-9547-723f0738c6dd': ['656...</td>\n",
       "      <td>[{'player_id': '656c639e-346e-4371-a7d5-307f9a...</td>\n",
       "      <td>2019-10-14T23:29:08Z</td>\n",
       "      <td>[{'id': '656c639e-346e-4371-a7d5-307f9ad5c655'...</td>\n",
       "      <td>[{'id': '7efa94fb-2798-43be-9d60-327619465f1a'...</td>\n",
       "      <td>faction1</td>\n",
       "      <td>[656c639e-346e-4371-a7d5-307f9ad5c655, 8c095ac...</td>\n",
       "      <td>[7efa94fb-2798-43be-9d60-327619465f1a, f995eae...</td>\n",
       "      <td>[656c639e-346e-4371-a7d5-307f9ad5c655, 8c095ac...</td>\n",
       "    </tr>\n",
       "    <tr>\n",
       "      <th>23</th>\n",
       "      <td>5defd38c44fe901565fe7896</td>\n",
       "      <td>[de_inferno]</td>\n",
       "      <td>1-2d904c67-ff4c-471e-afa1-23a14f3260ea</td>\n",
       "      <td>{'44cea192-6cfe-407b-9547-723f0738c6dd': ['656...</td>\n",
       "      <td>[{'player_id': '656c639e-346e-4371-a7d5-307f9a...</td>\n",
       "      <td>2019-10-14T22:27:00Z</td>\n",
       "      <td>[{'id': '656c639e-346e-4371-a7d5-307f9ad5c655'...</td>\n",
       "      <td>[{'id': '364984ef-c20d-4f1c-bedb-101b83ce3c92'...</td>\n",
       "      <td>faction1</td>\n",
       "      <td>[656c639e-346e-4371-a7d5-307f9ad5c655, 8c095ac...</td>\n",
       "      <td>[364984ef-c20d-4f1c-bedb-101b83ce3c92, 781f7ce...</td>\n",
       "      <td>[656c639e-346e-4371-a7d5-307f9ad5c655, 8c095ac...</td>\n",
       "    </tr>\n",
       "    <tr>\n",
       "      <th>24</th>\n",
       "      <td>5defd38f44fe901565fe789d</td>\n",
       "      <td>[de_inferno]</td>\n",
       "      <td>1-e5dfe705-2c5a-4772-b594-e26408dc839a</td>\n",
       "      <td>{'34863d77-b2a5-4aa8-829a-9cd9a37ea80a': ['1ef...</td>\n",
       "      <td>[{'player_id': '1efb9d10-6871-479a-9d39-9cbb68...</td>\n",
       "      <td>2019-10-12T13:52:17Z</td>\n",
       "      <td>[{'id': '1efb9d10-6871-479a-9d39-9cbb68546792'...</td>\n",
       "      <td>[{'id': '52a34f58-79ac-4db6-b71e-fb6edeb3bd53'...</td>\n",
       "      <td>faction2</td>\n",
       "      <td>[1efb9d10-6871-479a-9d39-9cbb68546792, 4a027ed...</td>\n",
       "      <td>[52a34f58-79ac-4db6-b71e-fb6edeb3bd53, 9a59e30...</td>\n",
       "      <td>[1efb9d10-6871-479a-9d39-9cbb68546792, 4a027ed...</td>\n",
       "    </tr>\n",
       "    <tr>\n",
       "      <th>25</th>\n",
       "      <td>5defd39144fe901565fe78a3</td>\n",
       "      <td>[de_mirage]</td>\n",
       "      <td>1-b717a3bd-1ecd-4d16-bacf-9e10c5c77c38</td>\n",
       "      <td>{'63413dd9-069d-4873-a744-14e278c94862': ['656...</td>\n",
       "      <td>[{'player_id': '656c639e-346e-4371-a7d5-307f9a...</td>\n",
       "      <td>2019-10-09T18:43:05Z</td>\n",
       "      <td>[{'id': '656c639e-346e-4371-a7d5-307f9ad5c655'...</td>\n",
       "      <td>[{'id': '59e582c1-0bf7-46c2-8405-f5f32068be10'...</td>\n",
       "      <td>faction1</td>\n",
       "      <td>[656c639e-346e-4371-a7d5-307f9ad5c655, 8c095ac...</td>\n",
       "      <td>[59e582c1-0bf7-46c2-8405-f5f32068be10, 8d02cf2...</td>\n",
       "      <td>[656c639e-346e-4371-a7d5-307f9ad5c655, 8c095ac...</td>\n",
       "    </tr>\n",
       "    <tr>\n",
       "      <th>26</th>\n",
       "      <td>5defd39744fe901565fe78ad</td>\n",
       "      <td>[de_dust2]</td>\n",
       "      <td>1-6415b281-ebbd-4db3-85db-3baac887e8a5</td>\n",
       "      <td>{'0adb022e-7acc-44be-8225-6349ee8996f8': ['443...</td>\n",
       "      <td>[{'player_id': '443e78b1-a9d0-47d5-aced-9d1f94...</td>\n",
       "      <td>2019-09-15T23:59:41Z</td>\n",
       "      <td>[{'id': '443e78b1-a9d0-47d5-aced-9d1f94fc3671'...</td>\n",
       "      <td>[{'id': '866f6719-9506-47ac-8021-3faef1c2ffa5'...</td>\n",
       "      <td>faction1</td>\n",
       "      <td>[443e78b1-a9d0-47d5-aced-9d1f94fc3671, 6fffdcc...</td>\n",
       "      <td>[866f6719-9506-47ac-8021-3faef1c2ffa5, afbe561...</td>\n",
       "      <td>[443e78b1-a9d0-47d5-aced-9d1f94fc3671, 6fffdcc...</td>\n",
       "    </tr>\n",
       "    <tr>\n",
       "      <th>27</th>\n",
       "      <td>5defd39a44fe901565fe78b7</td>\n",
       "      <td>[de_mirage]</td>\n",
       "      <td>1-37cec22e-934d-4c7b-bf8c-b3386a04101b</td>\n",
       "      <td>{'398607b1-59be-48a8-956b-20546872bfdb': ['398...</td>\n",
       "      <td>[{'player_id': 'daaba1d3-3d37-414e-b716-a21683...</td>\n",
       "      <td>2019-09-15T05:38:10Z</td>\n",
       "      <td>[{'id': 'daaba1d3-3d37-414e-b716-a216839deee7'...</td>\n",
       "      <td>[{'id': 'dbe8b41f-e16e-4c42-ba15-c80089f4836c'...</td>\n",
       "      <td>faction1</td>\n",
       "      <td>[daaba1d3-3d37-414e-b716-a216839deee7, fa8372b...</td>\n",
       "      <td>[dbe8b41f-e16e-4c42-ba15-c80089f4836c, 87c4230...</td>\n",
       "      <td>[daaba1d3-3d37-414e-b716-a216839deee7, fa8372b...</td>\n",
       "    </tr>\n",
       "    <tr>\n",
       "      <th>28</th>\n",
       "      <td>5defd39d44fe901565fe78c0</td>\n",
       "      <td>[de_inferno]</td>\n",
       "      <td>1-5782e760-43e5-4417-a087-9bc6e2b0f9b6</td>\n",
       "      <td>{'30fbb157-b41e-4eed-b6a6-32e3f96adaa0': ['1fb...</td>\n",
       "      <td>[{'player_id': '1fbe626e-6210-452b-98ba-3ad47d...</td>\n",
       "      <td>2019-09-14T04:36:39Z</td>\n",
       "      <td>[{'id': '1fbe626e-6210-452b-98ba-3ad47d21cd83'...</td>\n",
       "      <td>[{'id': '027db855-7db6-4d50-8951-ea4f943fca3e'...</td>\n",
       "      <td>faction2</td>\n",
       "      <td>[1fbe626e-6210-452b-98ba-3ad47d21cd83, 3c62c51...</td>\n",
       "      <td>[027db855-7db6-4d50-8951-ea4f943fca3e, 8c095ac...</td>\n",
       "      <td>[1fbe626e-6210-452b-98ba-3ad47d21cd83, 3c62c51...</td>\n",
       "    </tr>\n",
       "    <tr>\n",
       "      <th>29</th>\n",
       "      <td>5defd39f44fe901565fe78c6</td>\n",
       "      <td>[de_nuke]</td>\n",
       "      <td>1-a438d654-8764-4609-a6f2-dbe67488e09b</td>\n",
       "      <td>{'994da917-138e-4bd1-a53f-c67e3fa9a9c9': ['0b8...</td>\n",
       "      <td>[{'player_id': '0b8a2fb2-e8b9-4d07-91a2-dad250...</td>\n",
       "      <td>2019-09-14T02:00:27Z</td>\n",
       "      <td>[{'id': '0b8a2fb2-e8b9-4d07-91a2-dad250fb4025'...</td>\n",
       "      <td>[{'id': '2382c17f-32f7-4bdf-81f9-4f435b7c3af2'...</td>\n",
       "      <td>faction1</td>\n",
       "      <td>[0b8a2fb2-e8b9-4d07-91a2-dad250fb4025, 9d8cf85...</td>\n",
       "      <td>[2382c17f-32f7-4bdf-81f9-4f435b7c3af2, 46cf4dd...</td>\n",
       "      <td>[0b8a2fb2-e8b9-4d07-91a2-dad250fb4025, 9d8cf85...</td>\n",
       "    </tr>\n",
       "    <tr>\n",
       "      <th>...</th>\n",
       "      <td>...</td>\n",
       "      <td>...</td>\n",
       "      <td>...</td>\n",
       "      <td>...</td>\n",
       "      <td>...</td>\n",
       "      <td>...</td>\n",
       "      <td>...</td>\n",
       "      <td>...</td>\n",
       "      <td>...</td>\n",
       "      <td>...</td>\n",
       "      <td>...</td>\n",
       "      <td>...</td>\n",
       "    </tr>\n",
       "    <tr>\n",
       "      <th>69</th>\n",
       "      <td>5defd40944fe901565fe79da</td>\n",
       "      <td>[de_train]</td>\n",
       "      <td>1-32850465-3b46-49f8-913d-280a2e123ead</td>\n",
       "      <td>{'3abc87b9-9052-4438-b23d-646be405f9af': ['dbe...</td>\n",
       "      <td>[{'player_id': 'dbe8b41f-e16e-4c42-ba15-c80089...</td>\n",
       "      <td>2019-07-03T03:34:34Z</td>\n",
       "      <td>[{'id': 'dbe8b41f-e16e-4c42-ba15-c80089f4836c'...</td>\n",
       "      <td>[{'id': '80c3a0d4-fd6f-4331-90c8-44b36b80cb5d'...</td>\n",
       "      <td>faction1</td>\n",
       "      <td>[dbe8b41f-e16e-4c42-ba15-c80089f4836c, b267647...</td>\n",
       "      <td>[80c3a0d4-fd6f-4331-90c8-44b36b80cb5d, b5a45b7...</td>\n",
       "      <td>[dbe8b41f-e16e-4c42-ba15-c80089f4836c, b267647...</td>\n",
       "    </tr>\n",
       "    <tr>\n",
       "      <th>70</th>\n",
       "      <td>5defd40b44fe901565fe79e0</td>\n",
       "      <td>[de_train]</td>\n",
       "      <td>1-cc0042a1-e5f9-47b8-a7cd-0996d3d6f012</td>\n",
       "      <td>{'1c4abfe7-65ca-4441-980c-88b9ae9bc976': ['981...</td>\n",
       "      <td>[{'player_id': 'dbe8b41f-e16e-4c42-ba15-c80089...</td>\n",
       "      <td>2019-07-03T02:45:50Z</td>\n",
       "      <td>[{'id': 'dbe8b41f-e16e-4c42-ba15-c80089f4836c'...</td>\n",
       "      <td>[{'id': '9814f53c-699b-41a4-bb5a-1f0a61a5acca'...</td>\n",
       "      <td>faction1</td>\n",
       "      <td>[dbe8b41f-e16e-4c42-ba15-c80089f4836c, b267647...</td>\n",
       "      <td>[9814f53c-699b-41a4-bb5a-1f0a61a5acca, 0087297...</td>\n",
       "      <td>[dbe8b41f-e16e-4c42-ba15-c80089f4836c, b267647...</td>\n",
       "    </tr>\n",
       "    <tr>\n",
       "      <th>71</th>\n",
       "      <td>5defd40d44fe901565fe79e6</td>\n",
       "      <td>[de_mirage]</td>\n",
       "      <td>1-58f784db-5862-4ef6-a17f-2ac95fd0461d</td>\n",
       "      <td>{'0dcb320c-e791-4884-9dca-ea9e730da969': ['c86...</td>\n",
       "      <td>[{'player_id': 'dbe8b41f-e16e-4c42-ba15-c80089...</td>\n",
       "      <td>2019-07-03T01:51:58Z</td>\n",
       "      <td>[{'id': 'dbe8b41f-e16e-4c42-ba15-c80089f4836c'...</td>\n",
       "      <td>[{'id': 'c8691205-dbf0-43a1-aed3-08799673d0f4'...</td>\n",
       "      <td>faction1</td>\n",
       "      <td>[dbe8b41f-e16e-4c42-ba15-c80089f4836c, b267647...</td>\n",
       "      <td>[c8691205-dbf0-43a1-aed3-08799673d0f4, 980847d...</td>\n",
       "      <td>[dbe8b41f-e16e-4c42-ba15-c80089f4836c, b267647...</td>\n",
       "    </tr>\n",
       "    <tr>\n",
       "      <th>72</th>\n",
       "      <td>5defd41044fe901565fe79ec</td>\n",
       "      <td>[de_inferno]</td>\n",
       "      <td>1-4d5fb162-374a-4b45-a194-1468b1b2a4f5</td>\n",
       "      <td>{'01d108ec-a049-498b-bb06-ef03976cbafc': ['01d...</td>\n",
       "      <td>[{'player_id': '336eedaa-1732-4c9c-b901-0a00e8...</td>\n",
       "      <td>2019-07-03T01:08:07Z</td>\n",
       "      <td>[{'id': '336eedaa-1732-4c9c-b901-0a00e83c4cc8'...</td>\n",
       "      <td>[{'id': 'dbe8b41f-e16e-4c42-ba15-c80089f4836c'...</td>\n",
       "      <td>faction2</td>\n",
       "      <td>[336eedaa-1732-4c9c-b901-0a00e83c4cc8, d697421...</td>\n",
       "      <td>[dbe8b41f-e16e-4c42-ba15-c80089f4836c, b267647...</td>\n",
       "      <td>[336eedaa-1732-4c9c-b901-0a00e83c4cc8, d697421...</td>\n",
       "    </tr>\n",
       "    <tr>\n",
       "      <th>73</th>\n",
       "      <td>5defd41144fe901565fe79f2</td>\n",
       "      <td>[de_dust2]</td>\n",
       "      <td>1-5827f517-8c42-4c52-81a4-d19684ada835</td>\n",
       "      <td>{'3abc87b9-9052-4438-b23d-646be405f9af': ['dbe...</td>\n",
       "      <td>[{'player_id': '8939add3-f1c6-4bb3-8ca6-ec166a...</td>\n",
       "      <td>2019-07-03T00:21:32Z</td>\n",
       "      <td>[{'id': '8939add3-f1c6-4bb3-8ca6-ec166a675e94'...</td>\n",
       "      <td>[{'id': 'dbe8b41f-e16e-4c42-ba15-c80089f4836c'...</td>\n",
       "      <td>faction1</td>\n",
       "      <td>[8939add3-f1c6-4bb3-8ca6-ec166a675e94, 2ef618a...</td>\n",
       "      <td>[dbe8b41f-e16e-4c42-ba15-c80089f4836c, b267647...</td>\n",
       "      <td>[8939add3-f1c6-4bb3-8ca6-ec166a675e94, 2ef618a...</td>\n",
       "    </tr>\n",
       "    <tr>\n",
       "      <th>74</th>\n",
       "      <td>5defd41444fe901565fe79fa</td>\n",
       "      <td>[de_inferno]</td>\n",
       "      <td>1-4fb97529-aefa-48c3-8f8f-f2e8d1228eb5</td>\n",
       "      <td>{'0a2e68da-6edf-49e5-8e6b-aded4efc51ca': ['0a2...</td>\n",
       "      <td>[{'player_id': 'e8a96869-ff88-479a-ade5-f9a587...</td>\n",
       "      <td>2019-07-01T22:34:57Z</td>\n",
       "      <td>[{'id': 'e8a96869-ff88-479a-ade5-f9a587d31045'...</td>\n",
       "      <td>[{'id': '38ee145a-70ed-4e6a-a3f0-921c9105cf97'...</td>\n",
       "      <td>faction1</td>\n",
       "      <td>[e8a96869-ff88-479a-ade5-f9a587d31045, b3e8e59...</td>\n",
       "      <td>[38ee145a-70ed-4e6a-a3f0-921c9105cf97, 6584400...</td>\n",
       "      <td>[e8a96869-ff88-479a-ade5-f9a587d31045, b3e8e59...</td>\n",
       "    </tr>\n",
       "    <tr>\n",
       "      <th>75</th>\n",
       "      <td>5defd41644fe901565fe7a04</td>\n",
       "      <td>[de_dust2]</td>\n",
       "      <td>1-df79829f-570b-4fe4-816f-c9e289f82155</td>\n",
       "      <td>{'63fe3537-1d2d-4740-b339-1a582f5c7116': ['e08...</td>\n",
       "      <td>[{'player_id': 'c8751575-6018-49ba-9b0f-455ba0...</td>\n",
       "      <td>2019-07-01T04:04:54Z</td>\n",
       "      <td>[{'id': 'c8751575-6018-49ba-9b0f-455ba0c40d0d'...</td>\n",
       "      <td>[{'id': 'e0891de6-8f70-4669-90ad-f242a972a44d'...</td>\n",
       "      <td>faction2</td>\n",
       "      <td>[c8751575-6018-49ba-9b0f-455ba0c40d0d, abeeebc...</td>\n",
       "      <td>[e0891de6-8f70-4669-90ad-f242a972a44d, 03bbb1d...</td>\n",
       "      <td>[c8751575-6018-49ba-9b0f-455ba0c40d0d, abeeebc...</td>\n",
       "    </tr>\n",
       "    <tr>\n",
       "      <th>76</th>\n",
       "      <td>5defd41944fe901565fe7a0b</td>\n",
       "      <td>[de_mirage]</td>\n",
       "      <td>1-6b880981-4eda-4962-ac33-0c6ecef5651f</td>\n",
       "      <td>{'2d72a642-cf4f-4c23-a609-a87a342daeab': ['2d7...</td>\n",
       "      <td>[{'player_id': '33ec88ee-18d5-4167-a2ef-5dea97...</td>\n",
       "      <td>2019-06-30T23:55:34Z</td>\n",
       "      <td>[{'id': '33ec88ee-18d5-4167-a2ef-5dea97b4966e'...</td>\n",
       "      <td>[{'id': '2d72a642-cf4f-4c23-a609-a87a342daeab'...</td>\n",
       "      <td>faction1</td>\n",
       "      <td>[33ec88ee-18d5-4167-a2ef-5dea97b4966e, 6cfbc25...</td>\n",
       "      <td>[2d72a642-cf4f-4c23-a609-a87a342daeab, e73ad4c...</td>\n",
       "      <td>[33ec88ee-18d5-4167-a2ef-5dea97b4966e, 6cfbc25...</td>\n",
       "    </tr>\n",
       "    <tr>\n",
       "      <th>77</th>\n",
       "      <td>5defd41b44fe901565fe7a11</td>\n",
       "      <td>[de_dust2]</td>\n",
       "      <td>1-276eb99b-90eb-45fe-9069-c7ebda12b960</td>\n",
       "      <td>{'0d6ec07f-287f-4478-bc2d-c8f34301efa7': ['0d6...</td>\n",
       "      <td>[{'player_id': 'dc6b4b67-bb77-4dbe-a462-8cdc4a...</td>\n",
       "      <td>2019-06-30T22:25:59Z</td>\n",
       "      <td>[{'id': 'dc6b4b67-bb77-4dbe-a462-8cdc4a7e8e95'...</td>\n",
       "      <td>[{'id': 'aa7aca95-a4b7-4160-afb3-beecbc745bd4'...</td>\n",
       "      <td>faction2</td>\n",
       "      <td>[dc6b4b67-bb77-4dbe-a462-8cdc4a7e8e95, d7c5ce3...</td>\n",
       "      <td>[aa7aca95-a4b7-4160-afb3-beecbc745bd4, dd452cb...</td>\n",
       "      <td>[dc6b4b67-bb77-4dbe-a462-8cdc4a7e8e95, d7c5ce3...</td>\n",
       "    </tr>\n",
       "    <tr>\n",
       "      <th>78</th>\n",
       "      <td>5defd41d44fe901565fe7a17</td>\n",
       "      <td>[de_overpass]</td>\n",
       "      <td>1-b2e27ff5-3cd3-4b28-bffc-f43cd30d162c</td>\n",
       "      <td>{'1efb9d10-6871-479a-9d39-9cbb68546792': ['1ef...</td>\n",
       "      <td>[{'player_id': 'dc6b4b67-bb77-4dbe-a462-8cdc4a...</td>\n",
       "      <td>2019-06-30T02:39:21Z</td>\n",
       "      <td>[{'id': 'dc6b4b67-bb77-4dbe-a462-8cdc4a7e8e95'...</td>\n",
       "      <td>[{'id': '7fdb97f3-39d0-48c0-aea4-bd35f91f5cfa'...</td>\n",
       "      <td>faction2</td>\n",
       "      <td>[dc6b4b67-bb77-4dbe-a462-8cdc4a7e8e95, 4b90e6c...</td>\n",
       "      <td>[7fdb97f3-39d0-48c0-aea4-bd35f91f5cfa, 3ebcd24...</td>\n",
       "      <td>[dc6b4b67-bb77-4dbe-a462-8cdc4a7e8e95, 4b90e6c...</td>\n",
       "    </tr>\n",
       "    <tr>\n",
       "      <th>79</th>\n",
       "      <td>5defd41f44fe901565fe7a1d</td>\n",
       "      <td>[de_nuke]</td>\n",
       "      <td>1-ea9de047-881a-4f44-bef7-2fd14e4e3c0a</td>\n",
       "      <td>{'3d804ae9-e472-4998-8126-1073fc303e6c': ['e4a...</td>\n",
       "      <td>[{'player_id': 'e4a30f25-b48d-414f-a317-bd3bf3...</td>\n",
       "      <td>2019-06-29T04:16:05Z</td>\n",
       "      <td>[{'id': 'e4a30f25-b48d-414f-a317-bd3bf35bb45f'...</td>\n",
       "      <td>[{'id': 'dbe8b41f-e16e-4c42-ba15-c80089f4836c'...</td>\n",
       "      <td>faction2</td>\n",
       "      <td>[e4a30f25-b48d-414f-a317-bd3bf35bb45f, fb68545...</td>\n",
       "      <td>[dbe8b41f-e16e-4c42-ba15-c80089f4836c, 656c639...</td>\n",
       "      <td>[e4a30f25-b48d-414f-a317-bd3bf35bb45f, fb68545...</td>\n",
       "    </tr>\n",
       "    <tr>\n",
       "      <th>80</th>\n",
       "      <td>5defd42144fe901565fe7a23</td>\n",
       "      <td>[de_mirage]</td>\n",
       "      <td>1-5ba64de0-ca28-47d6-9440-7f2b9a82dea3</td>\n",
       "      <td>{'1802c05b-217d-4df8-9371-95a2e3f7709b': ['895...</td>\n",
       "      <td>[{'player_id': 'dbe8b41f-e16e-4c42-ba15-c80089...</td>\n",
       "      <td>2019-06-29T03:35:23Z</td>\n",
       "      <td>[{'id': 'dbe8b41f-e16e-4c42-ba15-c80089f4836c'...</td>\n",
       "      <td>[{'id': '8952073d-4995-4736-a874-d98735700515'...</td>\n",
       "      <td>faction2</td>\n",
       "      <td>[dbe8b41f-e16e-4c42-ba15-c80089f4836c, 656c639...</td>\n",
       "      <td>[8952073d-4995-4736-a874-d98735700515, 3442aab...</td>\n",
       "      <td>[dbe8b41f-e16e-4c42-ba15-c80089f4836c, 656c639...</td>\n",
       "    </tr>\n",
       "    <tr>\n",
       "      <th>81</th>\n",
       "      <td>5defd42544fe901565fe7a29</td>\n",
       "      <td>[de_cache]</td>\n",
       "      <td>1-406c5d8e-34f2-4513-9c27-477e53e8db1f</td>\n",
       "      <td>{'5d379c5e-2e2c-49bd-82c1-6beda38f1775': ['dbe...</td>\n",
       "      <td>[{'player_id': '7e12fb73-1526-4c25-90d0-09b664...</td>\n",
       "      <td>2019-06-29T02:45:37Z</td>\n",
       "      <td>[{'id': '7e12fb73-1526-4c25-90d0-09b6645e6e44'...</td>\n",
       "      <td>[{'id': 'dbe8b41f-e16e-4c42-ba15-c80089f4836c'...</td>\n",
       "      <td>faction2</td>\n",
       "      <td>[7e12fb73-1526-4c25-90d0-09b6645e6e44, ca90052...</td>\n",
       "      <td>[dbe8b41f-e16e-4c42-ba15-c80089f4836c, 656c639...</td>\n",
       "      <td>[7e12fb73-1526-4c25-90d0-09b6645e6e44, ca90052...</td>\n",
       "    </tr>\n",
       "    <tr>\n",
       "      <th>82</th>\n",
       "      <td>5defd42844fe901565fe7a31</td>\n",
       "      <td>[de_train]</td>\n",
       "      <td>1-0228c6a3-c4a0-4bf6-9c05-b6b2c9dd761b</td>\n",
       "      <td>{'49bfffe8-9cff-4a33-8d5a-9399ab8024c5': ['445...</td>\n",
       "      <td>[{'player_id': 'dbe8b41f-e16e-4c42-ba15-c80089...</td>\n",
       "      <td>2019-06-29T02:06:50Z</td>\n",
       "      <td>[{'id': 'dbe8b41f-e16e-4c42-ba15-c80089f4836c'...</td>\n",
       "      <td>[{'id': '4457aceb-67c9-4a64-a100-9d3da3e79b74'...</td>\n",
       "      <td>faction2</td>\n",
       "      <td>[dbe8b41f-e16e-4c42-ba15-c80089f4836c, 656c639...</td>\n",
       "      <td>[4457aceb-67c9-4a64-a100-9d3da3e79b74, 28fe635...</td>\n",
       "      <td>[dbe8b41f-e16e-4c42-ba15-c80089f4836c, 656c639...</td>\n",
       "    </tr>\n",
       "    <tr>\n",
       "      <th>83</th>\n",
       "      <td>5defd42b44fe901565fe7a38</td>\n",
       "      <td>[de_mirage]</td>\n",
       "      <td>1-4c3b8b14-3d4d-4a38-bfd4-a4b79cdf063c</td>\n",
       "      <td>{'5d2f26c6-7942-4982-9279-e534f937822f': ['c55...</td>\n",
       "      <td>[{'player_id': 'c552d4c6-11c3-4e38-96f2-bd777b...</td>\n",
       "      <td>2019-06-28T23:43:11Z</td>\n",
       "      <td>[{'id': 'c552d4c6-11c3-4e38-96f2-bd777bdfbc3f'...</td>\n",
       "      <td>[{'id': 'e99a769b-efb7-46f1-9ac8-cb2c6ee2a1f3'...</td>\n",
       "      <td>faction1</td>\n",
       "      <td>[c552d4c6-11c3-4e38-96f2-bd777bdfbc3f, 0914143...</td>\n",
       "      <td>[e99a769b-efb7-46f1-9ac8-cb2c6ee2a1f3, 80c3a0d...</td>\n",
       "      <td>[c552d4c6-11c3-4e38-96f2-bd777bdfbc3f, 0914143...</td>\n",
       "    </tr>\n",
       "    <tr>\n",
       "      <th>84</th>\n",
       "      <td>5defd42e44fe901565fe7a3f</td>\n",
       "      <td>[de_inferno]</td>\n",
       "      <td>1-f50d910c-ece2-4d86-9df9-6e45b54f2e10</td>\n",
       "      <td>{'d0783469-c85c-4ac0-aae1-f5782f70b5a8': ['4f2...</td>\n",
       "      <td>[{'player_id': '8c095ace-f180-436c-a9c6-f75de8...</td>\n",
       "      <td>2019-06-28T01:29:55Z</td>\n",
       "      <td>[{'id': '8c095ace-f180-436c-a9c6-f75de813f51f'...</td>\n",
       "      <td>[{'id': '4f2495ef-86ca-4014-81af-9d98c5faf870'...</td>\n",
       "      <td>faction1</td>\n",
       "      <td>[8c095ace-f180-436c-a9c6-f75de813f51f, a2dc1c1...</td>\n",
       "      <td>[4f2495ef-86ca-4014-81af-9d98c5faf870, daf4462...</td>\n",
       "      <td>[8c095ace-f180-436c-a9c6-f75de813f51f, a2dc1c1...</td>\n",
       "    </tr>\n",
       "    <tr>\n",
       "      <th>85</th>\n",
       "      <td>5defd42f44fe901565fe7a43</td>\n",
       "      <td>[de_inferno]</td>\n",
       "      <td>1-6afaa41d-6218-43f2-aa0f-1441b8195d75</td>\n",
       "      <td>{'a32242e0-c8db-4a9c-a597-f014be96241b': ['dde...</td>\n",
       "      <td>[{'player_id': 'dde77a14-c0b9-4916-afc4-2a2a2f...</td>\n",
       "      <td>2019-06-27T22:54:46Z</td>\n",
       "      <td>[{'id': 'dde77a14-c0b9-4916-afc4-2a2a2fa578a7'...</td>\n",
       "      <td>[{'id': '2d72a642-cf4f-4c23-a609-a87a342daeab'...</td>\n",
       "      <td>faction2</td>\n",
       "      <td>[dde77a14-c0b9-4916-afc4-2a2a2fa578a7, d72b312...</td>\n",
       "      <td>[2d72a642-cf4f-4c23-a609-a87a342daeab, 0f1f89a...</td>\n",
       "      <td>[dde77a14-c0b9-4916-afc4-2a2a2fa578a7, d72b312...</td>\n",
       "    </tr>\n",
       "    <tr>\n",
       "      <th>86</th>\n",
       "      <td>5defd43144fe901565fe7a4a</td>\n",
       "      <td>[de_mirage]</td>\n",
       "      <td>1-97f4c889-3d41-441d-b6e4-ed042588ca13</td>\n",
       "      <td>{'4d604650-3f90-4d2a-898c-eb8bc9db8a24': ['4d6...</td>\n",
       "      <td>[{'player_id': '46cf4dd5-6135-492b-b076-777017...</td>\n",
       "      <td>2019-06-27T05:50:08Z</td>\n",
       "      <td>[{'id': '46cf4dd5-6135-492b-b076-77701702dadb'...</td>\n",
       "      <td>[{'id': '4d604650-3f90-4d2a-898c-eb8bc9db8a24'...</td>\n",
       "      <td>faction2</td>\n",
       "      <td>[46cf4dd5-6135-492b-b076-77701702dadb, dbe8b41...</td>\n",
       "      <td>[4d604650-3f90-4d2a-898c-eb8bc9db8a24, c8807fb...</td>\n",
       "      <td>[46cf4dd5-6135-492b-b076-77701702dadb, dbe8b41...</td>\n",
       "    </tr>\n",
       "    <tr>\n",
       "      <th>87</th>\n",
       "      <td>5defd43344fe901565fe7a4f</td>\n",
       "      <td>[de_train]</td>\n",
       "      <td>1-6f843637-fb00-4849-b12e-949e29a18c28</td>\n",
       "      <td>{'47ce6b54-a684-4814-9aed-01acc09ee767': ['47c...</td>\n",
       "      <td>[{'player_id': 'c8807fb4-3408-4947-97de-44dfed...</td>\n",
       "      <td>2019-06-27T05:06:13Z</td>\n",
       "      <td>[{'id': 'c8807fb4-3408-4947-97de-44dfedffa3d6'...</td>\n",
       "      <td>[{'id': '30b0be46-86e4-4339-882b-8f8fe126b119'...</td>\n",
       "      <td>faction1</td>\n",
       "      <td>[c8807fb4-3408-4947-97de-44dfedffa3d6, 46cf4dd...</td>\n",
       "      <td>[30b0be46-86e4-4339-882b-8f8fe126b119, ae8c7c4...</td>\n",
       "      <td>[c8807fb4-3408-4947-97de-44dfedffa3d6, 46cf4dd...</td>\n",
       "    </tr>\n",
       "    <tr>\n",
       "      <th>88</th>\n",
       "      <td>5defd43544fe901565fe7a55</td>\n",
       "      <td>[de_mirage]</td>\n",
       "      <td>1-70f527ab-f116-4905-94ae-6eea34227f93</td>\n",
       "      <td>{'0f964c63-bfcb-4b51-a735-7817e16469f4': ['0f9...</td>\n",
       "      <td>[{'player_id': '0f964c63-bfcb-4b51-a735-7817e1...</td>\n",
       "      <td>2019-06-27T04:20:41Z</td>\n",
       "      <td>[{'id': '0f964c63-bfcb-4b51-a735-7817e16469f4'...</td>\n",
       "      <td>[{'id': 'ea6ba3bc-6f40-429e-9d8f-7b7aa06b6398'...</td>\n",
       "      <td>faction2</td>\n",
       "      <td>[0f964c63-bfcb-4b51-a735-7817e16469f4, 8bfa7fa...</td>\n",
       "      <td>[ea6ba3bc-6f40-429e-9d8f-7b7aa06b6398, 46cf4dd...</td>\n",
       "      <td>[0f964c63-bfcb-4b51-a735-7817e16469f4, 8bfa7fa...</td>\n",
       "    </tr>\n",
       "    <tr>\n",
       "      <th>89</th>\n",
       "      <td>5defd43744fe901565fe7a5b</td>\n",
       "      <td>[de_vertigo]</td>\n",
       "      <td>1-e3761277-97b5-4f5e-a355-f4bb45694210</td>\n",
       "      <td>{'1e270dae-e16b-4344-9c40-a798b72b9a8c': ['1e2...</td>\n",
       "      <td>[{'player_id': '1e270dae-e16b-4344-9c40-a798b7...</td>\n",
       "      <td>2019-06-27T03:31:28Z</td>\n",
       "      <td>[{'id': '1e270dae-e16b-4344-9c40-a798b72b9a8c'...</td>\n",
       "      <td>[{'id': '46cf4dd5-6135-492b-b076-77701702dadb'...</td>\n",
       "      <td>faction2</td>\n",
       "      <td>[1e270dae-e16b-4344-9c40-a798b72b9a8c, 6bb11f8...</td>\n",
       "      <td>[46cf4dd5-6135-492b-b076-77701702dadb, dbe8b41...</td>\n",
       "      <td>[1e270dae-e16b-4344-9c40-a798b72b9a8c, 6bb11f8...</td>\n",
       "    </tr>\n",
       "    <tr>\n",
       "      <th>90</th>\n",
       "      <td>5defd43a44fe901565fe7a64</td>\n",
       "      <td>[de_mirage]</td>\n",
       "      <td>1-9feaedff-2373-4cbb-8a3f-58e1bf2e98d9</td>\n",
       "      <td>{'11033548-c2c9-4c7b-9ef5-6f533e35a5e0': ['110...</td>\n",
       "      <td>[{'player_id': '18116a5b-9042-4213-805e-2cca07...</td>\n",
       "      <td>2019-06-27T00:11:13Z</td>\n",
       "      <td>[{'id': '18116a5b-9042-4213-805e-2cca07ab426d'...</td>\n",
       "      <td>[{'id': '6dbce865-a366-4b63-af80-76c3621edca3'...</td>\n",
       "      <td>faction1</td>\n",
       "      <td>[18116a5b-9042-4213-805e-2cca07ab426d, 49280d5...</td>\n",
       "      <td>[6dbce865-a366-4b63-af80-76c3621edca3, 57e25f2...</td>\n",
       "      <td>[18116a5b-9042-4213-805e-2cca07ab426d, 49280d5...</td>\n",
       "    </tr>\n",
       "    <tr>\n",
       "      <th>91</th>\n",
       "      <td>5defd43c44fe901565fe7a67</td>\n",
       "      <td>[de_inferno]</td>\n",
       "      <td>1-235cf2df-1ebf-495f-afb3-97f72effd3fd</td>\n",
       "      <td>{'01914910-0e12-45a8-9df7-4c1c6568362c': ['019...</td>\n",
       "      <td>[{'player_id': 'd56cdcae-6194-4b86-bd65-91afd1...</td>\n",
       "      <td>2019-06-26T23:10:28Z</td>\n",
       "      <td>[{'id': 'd56cdcae-6194-4b86-bd65-91afd15e1f06'...</td>\n",
       "      <td>[{'id': '01914910-0e12-45a8-9df7-4c1c6568362c'...</td>\n",
       "      <td>faction1</td>\n",
       "      <td>[d56cdcae-6194-4b86-bd65-91afd15e1f06, fe45f62...</td>\n",
       "      <td>[01914910-0e12-45a8-9df7-4c1c6568362c, 49280d5...</td>\n",
       "      <td>[d56cdcae-6194-4b86-bd65-91afd15e1f06, fe45f62...</td>\n",
       "    </tr>\n",
       "    <tr>\n",
       "      <th>92</th>\n",
       "      <td>5defd43e44fe901565fe7a6d</td>\n",
       "      <td>[de_vertigo]</td>\n",
       "      <td>1-949192a2-0ea3-4eca-8ef2-3b0b51dc508d</td>\n",
       "      <td>{'a319f629-3686-4765-9f8d-f7fa57a6f080': ['56d...</td>\n",
       "      <td>[{'player_id': '56d5d147-ca44-4763-a3d5-9eb78b...</td>\n",
       "      <td>2019-06-24T03:44:38Z</td>\n",
       "      <td>[{'id': '56d5d147-ca44-4763-a3d5-9eb78b376c20'...</td>\n",
       "      <td>[{'id': '7882aebb-28f0-4386-8cc1-262e9b2a46c0'...</td>\n",
       "      <td>faction2</td>\n",
       "      <td>[56d5d147-ca44-4763-a3d5-9eb78b376c20, 8c095ac...</td>\n",
       "      <td>[7882aebb-28f0-4386-8cc1-262e9b2a46c0, 4114427...</td>\n",
       "      <td>[56d5d147-ca44-4763-a3d5-9eb78b376c20, 8c095ac...</td>\n",
       "    </tr>\n",
       "    <tr>\n",
       "      <th>93</th>\n",
       "      <td>5defd44044fe901565fe7a73</td>\n",
       "      <td>[de_inferno]</td>\n",
       "      <td>1-43016f84-e50c-472c-8bd2-44cf1d2e61b9</td>\n",
       "      <td>{'53a58738-ec00-4214-9cd0-dde7300ad0f0': ['53a...</td>\n",
       "      <td>[{'player_id': '705b35f2-e418-42d4-a503-40466f...</td>\n",
       "      <td>2019-06-24T02:59:09Z</td>\n",
       "      <td>[{'id': '705b35f2-e418-42d4-a503-40466ffb97e0'...</td>\n",
       "      <td>[{'id': '56d5d147-ca44-4763-a3d5-9eb78b376c20'...</td>\n",
       "      <td>faction2</td>\n",
       "      <td>[705b35f2-e418-42d4-a503-40466ffb97e0, 53a5873...</td>\n",
       "      <td>[56d5d147-ca44-4763-a3d5-9eb78b376c20, 8c095ac...</td>\n",
       "      <td>[705b35f2-e418-42d4-a503-40466ffb97e0, 53a5873...</td>\n",
       "    </tr>\n",
       "    <tr>\n",
       "      <th>94</th>\n",
       "      <td>5defd44244fe901565fe7a79</td>\n",
       "      <td>[de_nuke]</td>\n",
       "      <td>1-e1895e31-809a-43dd-917a-d9d0ada0cf52</td>\n",
       "      <td>{'a319f629-3686-4765-9f8d-f7fa57a6f080': ['56d...</td>\n",
       "      <td>[{'player_id': 'a7090bf6-8269-4602-8af1-a2841e...</td>\n",
       "      <td>2019-06-24T02:02:32Z</td>\n",
       "      <td>[{'id': 'a7090bf6-8269-4602-8af1-a2841e9ac0d4'...</td>\n",
       "      <td>[{'id': '56d5d147-ca44-4763-a3d5-9eb78b376c20'...</td>\n",
       "      <td>faction2</td>\n",
       "      <td>[a7090bf6-8269-4602-8af1-a2841e9ac0d4, 638b0d3...</td>\n",
       "      <td>[56d5d147-ca44-4763-a3d5-9eb78b376c20, 8c095ac...</td>\n",
       "      <td>[a7090bf6-8269-4602-8af1-a2841e9ac0d4, 638b0d3...</td>\n",
       "    </tr>\n",
       "    <tr>\n",
       "      <th>95</th>\n",
       "      <td>5defd44544fe901565fe7a80</td>\n",
       "      <td>[de_mirage]</td>\n",
       "      <td>1-e58fd81f-2b53-469f-bb6e-6dcf251e0c73</td>\n",
       "      <td>{'4e23f403-b184-42df-94d8-091128a8eccc': ['148...</td>\n",
       "      <td>[{'player_id': 'dde77a14-c0b9-4916-afc4-2a2a2f...</td>\n",
       "      <td>2019-06-23T22:14:09Z</td>\n",
       "      <td>[{'id': 'dde77a14-c0b9-4916-afc4-2a2a2fa578a7'...</td>\n",
       "      <td>[{'id': '148e7bd4-2ecf-4936-96f9-75b0bbd95194'...</td>\n",
       "      <td>faction2</td>\n",
       "      <td>[dde77a14-c0b9-4916-afc4-2a2a2fa578a7, 1efb9d1...</td>\n",
       "      <td>[148e7bd4-2ecf-4936-96f9-75b0bbd95194, af19053...</td>\n",
       "      <td>[dde77a14-c0b9-4916-afc4-2a2a2fa578a7, 1efb9d1...</td>\n",
       "    </tr>\n",
       "    <tr>\n",
       "      <th>96</th>\n",
       "      <td>5defd44744fe901565fe7a86</td>\n",
       "      <td>[de_nuke]</td>\n",
       "      <td>1-bcaab9de-d870-4da2-8d77-e675d3dba2da</td>\n",
       "      <td>{'54a6ca07-b08c-4e74-afff-63a0053e0eae': ['54a...</td>\n",
       "      <td>[{'player_id': '54a6ca07-b08c-4e74-afff-63a005...</td>\n",
       "      <td>2019-06-23T03:05:36Z</td>\n",
       "      <td>[{'id': '54a6ca07-b08c-4e74-afff-63a0053e0eae'...</td>\n",
       "      <td>[{'id': '1efb9d10-6871-479a-9d39-9cbb68546792'...</td>\n",
       "      <td>faction1</td>\n",
       "      <td>[54a6ca07-b08c-4e74-afff-63a0053e0eae, 76e6e62...</td>\n",
       "      <td>[1efb9d10-6871-479a-9d39-9cbb68546792, dbe8b41...</td>\n",
       "      <td>[54a6ca07-b08c-4e74-afff-63a0053e0eae, 76e6e62...</td>\n",
       "    </tr>\n",
       "    <tr>\n",
       "      <th>12149</th>\n",
       "      <td>5df08cf2d2ab3f93747b7322</td>\n",
       "      <td>[de_nuke]</td>\n",
       "      <td>1-ca47f1b3-e9b5-400b-967c-cd3543263f84</td>\n",
       "      <td>{'19b745b8-d0a8-407f-b54d-c6eb6a4c4983': ['35b...</td>\n",
       "      <td>[{'player_id': '2382c17f-32f7-4bdf-81f9-4f435b...</td>\n",
       "      <td>2019-11-11T23:27:14Z</td>\n",
       "      <td>[{'id': '2382c17f-32f7-4bdf-81f9-4f435b7c3af2'...</td>\n",
       "      <td>[{'id': '35becb14-d875-42c9-8359-f34416bc4b4a'...</td>\n",
       "      <td>faction2</td>\n",
       "      <td>[2382c17f-32f7-4bdf-81f9-4f435b7c3af2, 8c095ac...</td>\n",
       "      <td>[35becb14-d875-42c9-8359-f34416bc4b4a, 4b5c2d2...</td>\n",
       "      <td>[2382c17f-32f7-4bdf-81f9-4f435b7c3af2, 8c095ac...</td>\n",
       "    </tr>\n",
       "    <tr>\n",
       "      <th>17642</th>\n",
       "      <td>5df17a0fd2ab3f93747be1b9</td>\n",
       "      <td>[de_dust2]</td>\n",
       "      <td>1-8023bfce-075e-4608-8790-e36136f6f95b</td>\n",
       "      <td>{'b678d494-5884-4bcb-9d5b-0b48f2ab4fe2': ['125...</td>\n",
       "      <td>[{'player_id': '1253d483-69eb-462a-a788-6b5395...</td>\n",
       "      <td>2019-12-03T02:54:22Z</td>\n",
       "      <td>[{'id': '1253d483-69eb-462a-a788-6b5395991c9d'...</td>\n",
       "      <td>[{'id': 'e4b11a9e-32c4-483a-a1fa-42a3f66c7d01'...</td>\n",
       "      <td>faction1</td>\n",
       "      <td>[1253d483-69eb-462a-a788-6b5395991c9d, 47de88e...</td>\n",
       "      <td>[e4b11a9e-32c4-483a-a1fa-42a3f66c7d01, dbe8b41...</td>\n",
       "      <td>[1253d483-69eb-462a-a788-6b5395991c9d, 47de88e...</td>\n",
       "    </tr>\n",
       "  </tbody>\n",
       "</table>\n",
       "<p>99 rows × 12 columns</p>\n",
       "</div>"
      ],
      "text/plain": [
       "                            _id            map  \\\n",
       "0      5defd34c44fe901565fe77f3     [de_train]   \n",
       "1      5defd34f44fe901565fe77fa     [de_train]   \n",
       "2      5defd35044fe901565fe77fd   [de_inferno]   \n",
       "3      5defd35244fe901565fe7804    [de_mirage]   \n",
       "4      5defd35544fe901565fe780e    [de_mirage]   \n",
       "5      5defd35844fe901565fe7818    [de_mirage]   \n",
       "6      5defd35c44fe901565fe7822     [de_dust2]   \n",
       "7      5defd35f44fe901565fe7829    [de_mirage]   \n",
       "8      5defd36144fe901565fe7830   [de_inferno]   \n",
       "9      5defd36444fe901565fe7837     [de_train]   \n",
       "10     5defd36944fe901565fe7841    [de_mirage]   \n",
       "11     5defd36d44fe901565fe7849   [de_inferno]   \n",
       "12     5defd36f44fe901565fe784f     [de_dust2]   \n",
       "13     5defd37144fe901565fe7856    [de_mirage]   \n",
       "14     5defd37444fe901565fe785c     [de_train]   \n",
       "15     5defd37644fe901565fe7863   [de_vertigo]   \n",
       "16     5defd37a44fe901565fe786b   [de_inferno]   \n",
       "17     5defd37c44fe901565fe7872    [de_mirage]   \n",
       "18     5defd38144fe901565fe7878     [de_train]   \n",
       "19     5defd38344fe901565fe787e   [de_vertigo]   \n",
       "20     5defd38544fe901565fe7884    [de_mirage]   \n",
       "21     5defd38744fe901565fe788a   [de_vertigo]   \n",
       "22     5defd38a44fe901565fe7890     [de_train]   \n",
       "23     5defd38c44fe901565fe7896   [de_inferno]   \n",
       "24     5defd38f44fe901565fe789d   [de_inferno]   \n",
       "25     5defd39144fe901565fe78a3    [de_mirage]   \n",
       "26     5defd39744fe901565fe78ad     [de_dust2]   \n",
       "27     5defd39a44fe901565fe78b7    [de_mirage]   \n",
       "28     5defd39d44fe901565fe78c0   [de_inferno]   \n",
       "29     5defd39f44fe901565fe78c6      [de_nuke]   \n",
       "...                         ...            ...   \n",
       "69     5defd40944fe901565fe79da     [de_train]   \n",
       "70     5defd40b44fe901565fe79e0     [de_train]   \n",
       "71     5defd40d44fe901565fe79e6    [de_mirage]   \n",
       "72     5defd41044fe901565fe79ec   [de_inferno]   \n",
       "73     5defd41144fe901565fe79f2     [de_dust2]   \n",
       "74     5defd41444fe901565fe79fa   [de_inferno]   \n",
       "75     5defd41644fe901565fe7a04     [de_dust2]   \n",
       "76     5defd41944fe901565fe7a0b    [de_mirage]   \n",
       "77     5defd41b44fe901565fe7a11     [de_dust2]   \n",
       "78     5defd41d44fe901565fe7a17  [de_overpass]   \n",
       "79     5defd41f44fe901565fe7a1d      [de_nuke]   \n",
       "80     5defd42144fe901565fe7a23    [de_mirage]   \n",
       "81     5defd42544fe901565fe7a29     [de_cache]   \n",
       "82     5defd42844fe901565fe7a31     [de_train]   \n",
       "83     5defd42b44fe901565fe7a38    [de_mirage]   \n",
       "84     5defd42e44fe901565fe7a3f   [de_inferno]   \n",
       "85     5defd42f44fe901565fe7a43   [de_inferno]   \n",
       "86     5defd43144fe901565fe7a4a    [de_mirage]   \n",
       "87     5defd43344fe901565fe7a4f     [de_train]   \n",
       "88     5defd43544fe901565fe7a55    [de_mirage]   \n",
       "89     5defd43744fe901565fe7a5b   [de_vertigo]   \n",
       "90     5defd43a44fe901565fe7a64    [de_mirage]   \n",
       "91     5defd43c44fe901565fe7a67   [de_inferno]   \n",
       "92     5defd43e44fe901565fe7a6d   [de_vertigo]   \n",
       "93     5defd44044fe901565fe7a73   [de_inferno]   \n",
       "94     5defd44244fe901565fe7a79      [de_nuke]   \n",
       "95     5defd44544fe901565fe7a80    [de_mirage]   \n",
       "96     5defd44744fe901565fe7a86      [de_nuke]   \n",
       "12149  5df08cf2d2ab3f93747b7322      [de_nuke]   \n",
       "17642  5df17a0fd2ab3f93747be1b9     [de_dust2]   \n",
       "\n",
       "                                     match_id  \\\n",
       "0      1-427cfc7e-579a-4d9f-8fbc-f31066d85992   \n",
       "1      1-ebdbc6ae-3509-4d16-8e3a-21f4843fe76b   \n",
       "2      1-fb3266e6-a519-483f-83bd-5d3a80fc4447   \n",
       "3      1-326d57d7-e5bc-427f-a1d7-c113eec6db65   \n",
       "4      1-8c3461f9-e2b7-40d9-a3cd-2da4989ffd24   \n",
       "5      1-1456aee7-114c-4970-9d27-0c7c8c442991   \n",
       "6      1-93b5e254-f300-4bce-91d9-7e5bb55f471b   \n",
       "7      1-003e94f7-6137-4c52-8635-65a61cf6fdba   \n",
       "8      1-d4d1386a-7d06-4b98-a478-e2477cb20c71   \n",
       "9      1-fc7cad77-44c2-4fe9-b59e-817d5dbdbaf2   \n",
       "10     1-1b7df376-d498-4f34-a1fd-9b5c9244afcc   \n",
       "11     1-ad84ea90-35e5-4fcd-9023-c330ae0a6b5a   \n",
       "12     1-85844532-abae-4b63-a540-195029b8efe2   \n",
       "13     1-1ed5233d-8f7b-4c36-8255-c002d90d61dc   \n",
       "14     1-de0b5e1f-9959-4635-a7b2-1be55f406cc5   \n",
       "15     1-f3b374bc-8cc1-47f3-a2cf-2f6cc1b03d20   \n",
       "16     1-20e947de-b926-45b5-8c0e-d24d22bfbf19   \n",
       "17     1-80ed0259-9c22-475e-a6f2-68589558a864   \n",
       "18     1-982e8859-ba22-4a8e-94e7-9ba72afeb381   \n",
       "19     1-5f00965d-32f0-49dc-84e2-e4d882e58855   \n",
       "20     1-29bd2953-12c9-48a8-8f88-8a77c78dd37b   \n",
       "21     1-99920407-47c0-49eb-855e-71b518cf137b   \n",
       "22     1-b073b599-4af3-47f5-a237-ef620c685a3d   \n",
       "23     1-2d904c67-ff4c-471e-afa1-23a14f3260ea   \n",
       "24     1-e5dfe705-2c5a-4772-b594-e26408dc839a   \n",
       "25     1-b717a3bd-1ecd-4d16-bacf-9e10c5c77c38   \n",
       "26     1-6415b281-ebbd-4db3-85db-3baac887e8a5   \n",
       "27     1-37cec22e-934d-4c7b-bf8c-b3386a04101b   \n",
       "28     1-5782e760-43e5-4417-a087-9bc6e2b0f9b6   \n",
       "29     1-a438d654-8764-4609-a6f2-dbe67488e09b   \n",
       "...                                       ...   \n",
       "69     1-32850465-3b46-49f8-913d-280a2e123ead   \n",
       "70     1-cc0042a1-e5f9-47b8-a7cd-0996d3d6f012   \n",
       "71     1-58f784db-5862-4ef6-a17f-2ac95fd0461d   \n",
       "72     1-4d5fb162-374a-4b45-a194-1468b1b2a4f5   \n",
       "73     1-5827f517-8c42-4c52-81a4-d19684ada835   \n",
       "74     1-4fb97529-aefa-48c3-8f8f-f2e8d1228eb5   \n",
       "75     1-df79829f-570b-4fe4-816f-c9e289f82155   \n",
       "76     1-6b880981-4eda-4962-ac33-0c6ecef5651f   \n",
       "77     1-276eb99b-90eb-45fe-9069-c7ebda12b960   \n",
       "78     1-b2e27ff5-3cd3-4b28-bffc-f43cd30d162c   \n",
       "79     1-ea9de047-881a-4f44-bef7-2fd14e4e3c0a   \n",
       "80     1-5ba64de0-ca28-47d6-9440-7f2b9a82dea3   \n",
       "81     1-406c5d8e-34f2-4513-9c27-477e53e8db1f   \n",
       "82     1-0228c6a3-c4a0-4bf6-9c05-b6b2c9dd761b   \n",
       "83     1-4c3b8b14-3d4d-4a38-bfd4-a4b79cdf063c   \n",
       "84     1-f50d910c-ece2-4d86-9df9-6e45b54f2e10   \n",
       "85     1-6afaa41d-6218-43f2-aa0f-1441b8195d75   \n",
       "86     1-97f4c889-3d41-441d-b6e4-ed042588ca13   \n",
       "87     1-6f843637-fb00-4849-b12e-949e29a18c28   \n",
       "88     1-70f527ab-f116-4905-94ae-6eea34227f93   \n",
       "89     1-e3761277-97b5-4f5e-a355-f4bb45694210   \n",
       "90     1-9feaedff-2373-4cbb-8a3f-58e1bf2e98d9   \n",
       "91     1-235cf2df-1ebf-495f-afb3-97f72effd3fd   \n",
       "92     1-949192a2-0ea3-4eca-8ef2-3b0b51dc508d   \n",
       "93     1-43016f84-e50c-472c-8bd2-44cf1d2e61b9   \n",
       "94     1-e1895e31-809a-43dd-917a-d9d0ada0cf52   \n",
       "95     1-e58fd81f-2b53-469f-bb6e-6dcf251e0c73   \n",
       "96     1-bcaab9de-d870-4da2-8d77-e675d3dba2da   \n",
       "12149  1-ca47f1b3-e9b5-400b-967c-cd3543263f84   \n",
       "17642  1-8023bfce-075e-4608-8790-e36136f6f95b   \n",
       "\n",
       "                                                 parties  \\\n",
       "0      {'465e9445-9507-4087-810d-7a61dceeaed9': ['46c...   \n",
       "1      {'17973219-7e53-4ea7-8382-171df8bef43a': ['548...   \n",
       "2      {'465e9445-9507-4087-810d-7a61dceeaed9': ['72b...   \n",
       "3      {'24638a22-5f50-4d37-9048-ceb4078c0d05': ['752...   \n",
       "4      {'369597f7-32a9-427e-a4bd-b7754386fc2e': ['2bd...   \n",
       "5      {'1cbfcbe8-40a9-489e-9e12-68c74ff04658': ['066...   \n",
       "6      {'006dae7c-7e09-4295-ad23-92e978d07a29': ['006...   \n",
       "7      {'56f9872c-6058-410c-aea8-a77fe329c50f': ['7b6...   \n",
       "8      {'bfb467cc-6163-4c04-b407-bc5a4f3a9460': ['46c...   \n",
       "9      {'2ad72857-5c9e-4fc0-b07a-3cb39597173b': ['6cb...   \n",
       "10     {'1bcf8a57-d479-4683-af52-b36a1b44efd5': ['1bc...   \n",
       "11     {'66735c95-b6b8-4a91-b167-3a6d71a6daf7': ['4f6...   \n",
       "12     {'a01f19c3-ccc0-4b17-ae66-745e3d4ac22f': ['22e...   \n",
       "13     {'54ab5738-d9ea-4477-b146-3eb94d32b448': ['501...   \n",
       "14     {'958af931-1121-4193-afee-ee84a50ad5bd': ['415...   \n",
       "15     {'7160485d-261b-476b-bb89-a3f8eb99426d': ['8c0...   \n",
       "16     {'3100c3ad-e644-4550-aacc-7d1ffc835d3e': ['10e...   \n",
       "17     {'0bf5db64-86d7-4b70-bead-76e6600ebaa4': ['3e3...   \n",
       "18     {'3d6afe98-175c-48e7-9b15-aeb13186f4ba': ['656...   \n",
       "19     {'3d6afe98-175c-48e7-9b15-aeb13186f4ba': ['77a...   \n",
       "20     {'02809260-cc42-403b-a213-d99bcc69b688': ['65a...   \n",
       "21     {'44cea192-6cfe-407b-9547-723f0738c6dd': ['4a0...   \n",
       "22     {'44cea192-6cfe-407b-9547-723f0738c6dd': ['656...   \n",
       "23     {'44cea192-6cfe-407b-9547-723f0738c6dd': ['656...   \n",
       "24     {'34863d77-b2a5-4aa8-829a-9cd9a37ea80a': ['1ef...   \n",
       "25     {'63413dd9-069d-4873-a744-14e278c94862': ['656...   \n",
       "26     {'0adb022e-7acc-44be-8225-6349ee8996f8': ['443...   \n",
       "27     {'398607b1-59be-48a8-956b-20546872bfdb': ['398...   \n",
       "28     {'30fbb157-b41e-4eed-b6a6-32e3f96adaa0': ['1fb...   \n",
       "29     {'994da917-138e-4bd1-a53f-c67e3fa9a9c9': ['0b8...   \n",
       "...                                                  ...   \n",
       "69     {'3abc87b9-9052-4438-b23d-646be405f9af': ['dbe...   \n",
       "70     {'1c4abfe7-65ca-4441-980c-88b9ae9bc976': ['981...   \n",
       "71     {'0dcb320c-e791-4884-9dca-ea9e730da969': ['c86...   \n",
       "72     {'01d108ec-a049-498b-bb06-ef03976cbafc': ['01d...   \n",
       "73     {'3abc87b9-9052-4438-b23d-646be405f9af': ['dbe...   \n",
       "74     {'0a2e68da-6edf-49e5-8e6b-aded4efc51ca': ['0a2...   \n",
       "75     {'63fe3537-1d2d-4740-b339-1a582f5c7116': ['e08...   \n",
       "76     {'2d72a642-cf4f-4c23-a609-a87a342daeab': ['2d7...   \n",
       "77     {'0d6ec07f-287f-4478-bc2d-c8f34301efa7': ['0d6...   \n",
       "78     {'1efb9d10-6871-479a-9d39-9cbb68546792': ['1ef...   \n",
       "79     {'3d804ae9-e472-4998-8126-1073fc303e6c': ['e4a...   \n",
       "80     {'1802c05b-217d-4df8-9371-95a2e3f7709b': ['895...   \n",
       "81     {'5d379c5e-2e2c-49bd-82c1-6beda38f1775': ['dbe...   \n",
       "82     {'49bfffe8-9cff-4a33-8d5a-9399ab8024c5': ['445...   \n",
       "83     {'5d2f26c6-7942-4982-9279-e534f937822f': ['c55...   \n",
       "84     {'d0783469-c85c-4ac0-aae1-f5782f70b5a8': ['4f2...   \n",
       "85     {'a32242e0-c8db-4a9c-a597-f014be96241b': ['dde...   \n",
       "86     {'4d604650-3f90-4d2a-898c-eb8bc9db8a24': ['4d6...   \n",
       "87     {'47ce6b54-a684-4814-9aed-01acc09ee767': ['47c...   \n",
       "88     {'0f964c63-bfcb-4b51-a735-7817e16469f4': ['0f9...   \n",
       "89     {'1e270dae-e16b-4344-9c40-a798b72b9a8c': ['1e2...   \n",
       "90     {'11033548-c2c9-4c7b-9ef5-6f533e35a5e0': ['110...   \n",
       "91     {'01914910-0e12-45a8-9df7-4c1c6568362c': ['019...   \n",
       "92     {'a319f629-3686-4765-9f8d-f7fa57a6f080': ['56d...   \n",
       "93     {'53a58738-ec00-4214-9cd0-dde7300ad0f0': ['53a...   \n",
       "94     {'a319f629-3686-4765-9f8d-f7fa57a6f080': ['56d...   \n",
       "95     {'4e23f403-b184-42df-94d8-091128a8eccc': ['148...   \n",
       "96     {'54a6ca07-b08c-4e74-afff-63a0053e0eae': ['54a...   \n",
       "12149  {'19b745b8-d0a8-407f-b54d-c6eb6a4c4983': ['35b...   \n",
       "17642  {'b678d494-5884-4bcb-9d5b-0b48f2ab4fe2': ['125...   \n",
       "\n",
       "                                              scoreboard  \\\n",
       "0      [{'player_id': '7565eb27-bb23-404e-b89b-f96e3c...   \n",
       "1      [{'player_id': '548b90d6-d081-4461-b157-5efdae...   \n",
       "2      [{'player_id': '06704697-900f-44ed-8f59-335a3c...   \n",
       "3      [{'player_id': '75299121-de1b-4877-90c2-14445d...   \n",
       "4      [{'player_id': '03d8c8a0-8aac-437f-aeeb-912653...   \n",
       "5      [{'player_id': '3ea26e66-97f6-441d-912b-566433...   \n",
       "6      [{'player_id': 'ca2dc1d5-bf61-4037-a143-22df12...   \n",
       "7      [{'player_id': '1be3667c-6de0-441e-933e-4fe796...   \n",
       "8      [{'player_id': '216d523f-87de-4dc5-bb87-2b3568...   \n",
       "9      [{'player_id': '1be3667c-6de0-441e-933e-4fe796...   \n",
       "10     [{'player_id': '7ce0a226-4351-4d77-9efa-f21816...   \n",
       "11     [{'player_id': '4f640df3-a3ef-4b88-a6f7-a3f418...   \n",
       "12     [{'player_id': '138c45a2-cfa5-40c3-844e-29f1fe...   \n",
       "13     [{'player_id': '77ad2c38-88c6-4caa-be4c-823a58...   \n",
       "14     [{'player_id': '77ad2c38-88c6-4caa-be4c-823a58...   \n",
       "15     [{'player_id': '8c095ace-f180-436c-a9c6-f75de8...   \n",
       "16     [{'player_id': '126f3b46-858f-4175-a506-ec3891...   \n",
       "17     [{'player_id': '77ad2c38-88c6-4caa-be4c-823a58...   \n",
       "18     [{'player_id': '656c639e-346e-4371-a7d5-307f9a...   \n",
       "19     [{'player_id': '77ad2c38-88c6-4caa-be4c-823a58...   \n",
       "20     [{'player_id': '1be3667c-6de0-441e-933e-4fe796...   \n",
       "21     [{'player_id': '4a027ed7-57ec-4d64-b752-2c507c...   \n",
       "22     [{'player_id': '656c639e-346e-4371-a7d5-307f9a...   \n",
       "23     [{'player_id': '656c639e-346e-4371-a7d5-307f9a...   \n",
       "24     [{'player_id': '1efb9d10-6871-479a-9d39-9cbb68...   \n",
       "25     [{'player_id': '656c639e-346e-4371-a7d5-307f9a...   \n",
       "26     [{'player_id': '443e78b1-a9d0-47d5-aced-9d1f94...   \n",
       "27     [{'player_id': 'daaba1d3-3d37-414e-b716-a21683...   \n",
       "28     [{'player_id': '1fbe626e-6210-452b-98ba-3ad47d...   \n",
       "29     [{'player_id': '0b8a2fb2-e8b9-4d07-91a2-dad250...   \n",
       "...                                                  ...   \n",
       "69     [{'player_id': 'dbe8b41f-e16e-4c42-ba15-c80089...   \n",
       "70     [{'player_id': 'dbe8b41f-e16e-4c42-ba15-c80089...   \n",
       "71     [{'player_id': 'dbe8b41f-e16e-4c42-ba15-c80089...   \n",
       "72     [{'player_id': '336eedaa-1732-4c9c-b901-0a00e8...   \n",
       "73     [{'player_id': '8939add3-f1c6-4bb3-8ca6-ec166a...   \n",
       "74     [{'player_id': 'e8a96869-ff88-479a-ade5-f9a587...   \n",
       "75     [{'player_id': 'c8751575-6018-49ba-9b0f-455ba0...   \n",
       "76     [{'player_id': '33ec88ee-18d5-4167-a2ef-5dea97...   \n",
       "77     [{'player_id': 'dc6b4b67-bb77-4dbe-a462-8cdc4a...   \n",
       "78     [{'player_id': 'dc6b4b67-bb77-4dbe-a462-8cdc4a...   \n",
       "79     [{'player_id': 'e4a30f25-b48d-414f-a317-bd3bf3...   \n",
       "80     [{'player_id': 'dbe8b41f-e16e-4c42-ba15-c80089...   \n",
       "81     [{'player_id': '7e12fb73-1526-4c25-90d0-09b664...   \n",
       "82     [{'player_id': 'dbe8b41f-e16e-4c42-ba15-c80089...   \n",
       "83     [{'player_id': 'c552d4c6-11c3-4e38-96f2-bd777b...   \n",
       "84     [{'player_id': '8c095ace-f180-436c-a9c6-f75de8...   \n",
       "85     [{'player_id': 'dde77a14-c0b9-4916-afc4-2a2a2f...   \n",
       "86     [{'player_id': '46cf4dd5-6135-492b-b076-777017...   \n",
       "87     [{'player_id': 'c8807fb4-3408-4947-97de-44dfed...   \n",
       "88     [{'player_id': '0f964c63-bfcb-4b51-a735-7817e1...   \n",
       "89     [{'player_id': '1e270dae-e16b-4344-9c40-a798b7...   \n",
       "90     [{'player_id': '18116a5b-9042-4213-805e-2cca07...   \n",
       "91     [{'player_id': 'd56cdcae-6194-4b86-bd65-91afd1...   \n",
       "92     [{'player_id': '56d5d147-ca44-4763-a3d5-9eb78b...   \n",
       "93     [{'player_id': '705b35f2-e418-42d4-a503-40466f...   \n",
       "94     [{'player_id': 'a7090bf6-8269-4602-8af1-a2841e...   \n",
       "95     [{'player_id': 'dde77a14-c0b9-4916-afc4-2a2a2f...   \n",
       "96     [{'player_id': '54a6ca07-b08c-4e74-afff-63a005...   \n",
       "12149  [{'player_id': '2382c17f-32f7-4bdf-81f9-4f435b...   \n",
       "17642  [{'player_id': '1253d483-69eb-462a-a788-6b5395...   \n",
       "\n",
       "                 start_time  \\\n",
       "0      2019-10-21T02:41:24Z   \n",
       "1      2019-10-21T01:35:53Z   \n",
       "2      2019-10-21T00:57:55Z   \n",
       "3      2019-10-20T03:27:53Z   \n",
       "4      2019-10-19T00:58:21Z   \n",
       "5      2019-10-19T00:04:15Z   \n",
       "6      2019-10-18T00:36:07Z   \n",
       "7      2019-10-17T22:01:28Z   \n",
       "8      2019-10-17T20:15:30Z   \n",
       "9      2019-10-17T18:20:05Z   \n",
       "10     2019-10-17T03:50:33Z   \n",
       "11     2019-10-17T00:23:46Z   \n",
       "12     2019-10-16T23:25:51Z   \n",
       "13     2019-10-16T22:18:36Z   \n",
       "14     2019-10-16T21:21:56Z   \n",
       "15     2019-10-16T18:48:56Z   \n",
       "16     2019-10-15T23:35:02Z   \n",
       "17     2019-10-15T22:32:33Z   \n",
       "18     2019-10-15T21:43:45Z   \n",
       "19     2019-10-15T20:57:42Z   \n",
       "20     2019-10-15T19:37:29Z   \n",
       "21     2019-10-15T00:05:59Z   \n",
       "22     2019-10-14T23:29:08Z   \n",
       "23     2019-10-14T22:27:00Z   \n",
       "24     2019-10-12T13:52:17Z   \n",
       "25     2019-10-09T18:43:05Z   \n",
       "26     2019-09-15T23:59:41Z   \n",
       "27     2019-09-15T05:38:10Z   \n",
       "28     2019-09-14T04:36:39Z   \n",
       "29     2019-09-14T02:00:27Z   \n",
       "...                     ...   \n",
       "69     2019-07-03T03:34:34Z   \n",
       "70     2019-07-03T02:45:50Z   \n",
       "71     2019-07-03T01:51:58Z   \n",
       "72     2019-07-03T01:08:07Z   \n",
       "73     2019-07-03T00:21:32Z   \n",
       "74     2019-07-01T22:34:57Z   \n",
       "75     2019-07-01T04:04:54Z   \n",
       "76     2019-06-30T23:55:34Z   \n",
       "77     2019-06-30T22:25:59Z   \n",
       "78     2019-06-30T02:39:21Z   \n",
       "79     2019-06-29T04:16:05Z   \n",
       "80     2019-06-29T03:35:23Z   \n",
       "81     2019-06-29T02:45:37Z   \n",
       "82     2019-06-29T02:06:50Z   \n",
       "83     2019-06-28T23:43:11Z   \n",
       "84     2019-06-28T01:29:55Z   \n",
       "85     2019-06-27T22:54:46Z   \n",
       "86     2019-06-27T05:50:08Z   \n",
       "87     2019-06-27T05:06:13Z   \n",
       "88     2019-06-27T04:20:41Z   \n",
       "89     2019-06-27T03:31:28Z   \n",
       "90     2019-06-27T00:11:13Z   \n",
       "91     2019-06-26T23:10:28Z   \n",
       "92     2019-06-24T03:44:38Z   \n",
       "93     2019-06-24T02:59:09Z   \n",
       "94     2019-06-24T02:02:32Z   \n",
       "95     2019-06-23T22:14:09Z   \n",
       "96     2019-06-23T03:05:36Z   \n",
       "12149  2019-11-11T23:27:14Z   \n",
       "17642  2019-12-03T02:54:22Z   \n",
       "\n",
       "                                                   team1  \\\n",
       "0      [{'id': '7565eb27-bb23-404e-b89b-f96e3c1c9971'...   \n",
       "1      [{'id': '548b90d6-d081-4461-b157-5efdaef032b2'...   \n",
       "2      [{'id': '06704697-900f-44ed-8f59-335a3cfce489'...   \n",
       "3      [{'id': '75299121-de1b-4877-90c2-14445d80da34'...   \n",
       "4      [{'id': '03d8c8a0-8aac-437f-aeeb-912653816033'...   \n",
       "5      [{'id': '3ea26e66-97f6-441d-912b-566433c8d069'...   \n",
       "6      [{'id': 'ca2dc1d5-bf61-4037-a143-22df12bbf3c8'...   \n",
       "7      [{'id': '1be3667c-6de0-441e-933e-4fe796961db8'...   \n",
       "8      [{'id': '216d523f-87de-4dc5-bb87-2b3568596c99'...   \n",
       "9      [{'id': '1be3667c-6de0-441e-933e-4fe796961db8'...   \n",
       "10     [{'id': '7ce0a226-4351-4d77-9efa-f21816f3e0a9'...   \n",
       "11     [{'id': '4f640df3-a3ef-4b88-a6f7-a3f418be91bd'...   \n",
       "12     [{'id': '138c45a2-cfa5-40c3-844e-29f1fe829397'...   \n",
       "13     [{'id': '77ad2c38-88c6-4caa-be4c-823a586b2571'...   \n",
       "14     [{'id': '77ad2c38-88c6-4caa-be4c-823a586b2571'...   \n",
       "15     [{'id': '8c095ace-f180-436c-a9c6-f75de813f51f'...   \n",
       "16     [{'id': '126f3b46-858f-4175-a506-ec3891ae52f7'...   \n",
       "17     [{'id': '77ad2c38-88c6-4caa-be4c-823a586b2571'...   \n",
       "18     [{'id': '656c639e-346e-4371-a7d5-307f9ad5c655'...   \n",
       "19     [{'id': '77ad2c38-88c6-4caa-be4c-823a586b2571'...   \n",
       "20     [{'id': '1be3667c-6de0-441e-933e-4fe796961db8'...   \n",
       "21     [{'id': '4a027ed7-57ec-4d64-b752-2c507c7d5d80'...   \n",
       "22     [{'id': '656c639e-346e-4371-a7d5-307f9ad5c655'...   \n",
       "23     [{'id': '656c639e-346e-4371-a7d5-307f9ad5c655'...   \n",
       "24     [{'id': '1efb9d10-6871-479a-9d39-9cbb68546792'...   \n",
       "25     [{'id': '656c639e-346e-4371-a7d5-307f9ad5c655'...   \n",
       "26     [{'id': '443e78b1-a9d0-47d5-aced-9d1f94fc3671'...   \n",
       "27     [{'id': 'daaba1d3-3d37-414e-b716-a216839deee7'...   \n",
       "28     [{'id': '1fbe626e-6210-452b-98ba-3ad47d21cd83'...   \n",
       "29     [{'id': '0b8a2fb2-e8b9-4d07-91a2-dad250fb4025'...   \n",
       "...                                                  ...   \n",
       "69     [{'id': 'dbe8b41f-e16e-4c42-ba15-c80089f4836c'...   \n",
       "70     [{'id': 'dbe8b41f-e16e-4c42-ba15-c80089f4836c'...   \n",
       "71     [{'id': 'dbe8b41f-e16e-4c42-ba15-c80089f4836c'...   \n",
       "72     [{'id': '336eedaa-1732-4c9c-b901-0a00e83c4cc8'...   \n",
       "73     [{'id': '8939add3-f1c6-4bb3-8ca6-ec166a675e94'...   \n",
       "74     [{'id': 'e8a96869-ff88-479a-ade5-f9a587d31045'...   \n",
       "75     [{'id': 'c8751575-6018-49ba-9b0f-455ba0c40d0d'...   \n",
       "76     [{'id': '33ec88ee-18d5-4167-a2ef-5dea97b4966e'...   \n",
       "77     [{'id': 'dc6b4b67-bb77-4dbe-a462-8cdc4a7e8e95'...   \n",
       "78     [{'id': 'dc6b4b67-bb77-4dbe-a462-8cdc4a7e8e95'...   \n",
       "79     [{'id': 'e4a30f25-b48d-414f-a317-bd3bf35bb45f'...   \n",
       "80     [{'id': 'dbe8b41f-e16e-4c42-ba15-c80089f4836c'...   \n",
       "81     [{'id': '7e12fb73-1526-4c25-90d0-09b6645e6e44'...   \n",
       "82     [{'id': 'dbe8b41f-e16e-4c42-ba15-c80089f4836c'...   \n",
       "83     [{'id': 'c552d4c6-11c3-4e38-96f2-bd777bdfbc3f'...   \n",
       "84     [{'id': '8c095ace-f180-436c-a9c6-f75de813f51f'...   \n",
       "85     [{'id': 'dde77a14-c0b9-4916-afc4-2a2a2fa578a7'...   \n",
       "86     [{'id': '46cf4dd5-6135-492b-b076-77701702dadb'...   \n",
       "87     [{'id': 'c8807fb4-3408-4947-97de-44dfedffa3d6'...   \n",
       "88     [{'id': '0f964c63-bfcb-4b51-a735-7817e16469f4'...   \n",
       "89     [{'id': '1e270dae-e16b-4344-9c40-a798b72b9a8c'...   \n",
       "90     [{'id': '18116a5b-9042-4213-805e-2cca07ab426d'...   \n",
       "91     [{'id': 'd56cdcae-6194-4b86-bd65-91afd15e1f06'...   \n",
       "92     [{'id': '56d5d147-ca44-4763-a3d5-9eb78b376c20'...   \n",
       "93     [{'id': '705b35f2-e418-42d4-a503-40466ffb97e0'...   \n",
       "94     [{'id': 'a7090bf6-8269-4602-8af1-a2841e9ac0d4'...   \n",
       "95     [{'id': 'dde77a14-c0b9-4916-afc4-2a2a2fa578a7'...   \n",
       "96     [{'id': '54a6ca07-b08c-4e74-afff-63a0053e0eae'...   \n",
       "12149  [{'id': '2382c17f-32f7-4bdf-81f9-4f435b7c3af2'...   \n",
       "17642  [{'id': '1253d483-69eb-462a-a788-6b5395991c9d'...   \n",
       "\n",
       "                                                   team2    winner  \\\n",
       "0      [{'id': '46cf4dd5-6135-492b-b076-77701702dadb'...  faction2   \n",
       "1      [{'id': '72b7dc0b-d3c4-4935-afcd-d383c2770e94'...  faction2   \n",
       "2      [{'id': '72b7dc0b-d3c4-4935-afcd-d383c2770e94'...  faction2   \n",
       "3      [{'id': '00c5d9f2-3b39-4128-b011-c99cc8c0eaa7'...  faction2   \n",
       "4      [{'id': '1602f9f7-0211-45f7-b750-57e6bcd6c380'...  faction1   \n",
       "5      [{'id': '51084890-aa0e-4c0a-aa3e-55fc99083dad'...  faction2   \n",
       "6      [{'id': '9960ca7b-a837-4ad7-ae4d-c5bd78955aad'...  faction1   \n",
       "7      [{'id': '7b65a45b-016a-41d4-8cb4-0fb6fd79e8c4'...  faction1   \n",
       "8      [{'id': '46cf4dd5-6135-492b-b076-77701702dadb'...  faction1   \n",
       "9      [{'id': '1ab76078-882c-414e-9733-92bb7115d3f4'...  faction1   \n",
       "10     [{'id': '4b932a24-a3af-421e-9156-8dde0a25f601'...  faction2   \n",
       "11     [{'id': '1efb9d10-6871-479a-9d39-9cbb68546792'...  faction2   \n",
       "12     [{'id': '4a027ed7-57ec-4d64-b752-2c507c7d5d80'...  faction2   \n",
       "13     [{'id': '5016f1a1-2ee4-484b-a10a-9e94020558ab'...  faction1   \n",
       "14     [{'id': '415b8681-3b9f-47bb-9f8a-ce719913771d'...  faction1   \n",
       "15     [{'id': '04aa750a-d8d8-4a25-9aa1-4716f409cb08'...  faction1   \n",
       "16     [{'id': '10ed5e76-a259-4fe8-bd61-52e3eed13e60'...  faction2   \n",
       "17     [{'id': '3e326887-55e0-4e9e-9585-37c4c9c3eed5'...  faction1   \n",
       "18     [{'id': '2e0d7d3b-55d8-49de-9930-e5aa28ecd3b0'...  faction1   \n",
       "19     [{'id': '1d8791a0-09e7-4c09-b5c3-17802206f6d6'...  faction1   \n",
       "20     [{'id': '65a64721-988e-45f8-a584-d66ae7891a81'...  faction2   \n",
       "21     [{'id': '0b4e1f85-c64a-48d8-a230-9a518cbfc8d8'...  faction1   \n",
       "22     [{'id': '7efa94fb-2798-43be-9d60-327619465f1a'...  faction1   \n",
       "23     [{'id': '364984ef-c20d-4f1c-bedb-101b83ce3c92'...  faction1   \n",
       "24     [{'id': '52a34f58-79ac-4db6-b71e-fb6edeb3bd53'...  faction2   \n",
       "25     [{'id': '59e582c1-0bf7-46c2-8405-f5f32068be10'...  faction1   \n",
       "26     [{'id': '866f6719-9506-47ac-8021-3faef1c2ffa5'...  faction1   \n",
       "27     [{'id': 'dbe8b41f-e16e-4c42-ba15-c80089f4836c'...  faction1   \n",
       "28     [{'id': '027db855-7db6-4d50-8951-ea4f943fca3e'...  faction2   \n",
       "29     [{'id': '2382c17f-32f7-4bdf-81f9-4f435b7c3af2'...  faction1   \n",
       "...                                                  ...       ...   \n",
       "69     [{'id': '80c3a0d4-fd6f-4331-90c8-44b36b80cb5d'...  faction1   \n",
       "70     [{'id': '9814f53c-699b-41a4-bb5a-1f0a61a5acca'...  faction1   \n",
       "71     [{'id': 'c8691205-dbf0-43a1-aed3-08799673d0f4'...  faction1   \n",
       "72     [{'id': 'dbe8b41f-e16e-4c42-ba15-c80089f4836c'...  faction2   \n",
       "73     [{'id': 'dbe8b41f-e16e-4c42-ba15-c80089f4836c'...  faction1   \n",
       "74     [{'id': '38ee145a-70ed-4e6a-a3f0-921c9105cf97'...  faction1   \n",
       "75     [{'id': 'e0891de6-8f70-4669-90ad-f242a972a44d'...  faction2   \n",
       "76     [{'id': '2d72a642-cf4f-4c23-a609-a87a342daeab'...  faction1   \n",
       "77     [{'id': 'aa7aca95-a4b7-4160-afb3-beecbc745bd4'...  faction2   \n",
       "78     [{'id': '7fdb97f3-39d0-48c0-aea4-bd35f91f5cfa'...  faction2   \n",
       "79     [{'id': 'dbe8b41f-e16e-4c42-ba15-c80089f4836c'...  faction2   \n",
       "80     [{'id': '8952073d-4995-4736-a874-d98735700515'...  faction2   \n",
       "81     [{'id': 'dbe8b41f-e16e-4c42-ba15-c80089f4836c'...  faction2   \n",
       "82     [{'id': '4457aceb-67c9-4a64-a100-9d3da3e79b74'...  faction2   \n",
       "83     [{'id': 'e99a769b-efb7-46f1-9ac8-cb2c6ee2a1f3'...  faction1   \n",
       "84     [{'id': '4f2495ef-86ca-4014-81af-9d98c5faf870'...  faction1   \n",
       "85     [{'id': '2d72a642-cf4f-4c23-a609-a87a342daeab'...  faction2   \n",
       "86     [{'id': '4d604650-3f90-4d2a-898c-eb8bc9db8a24'...  faction2   \n",
       "87     [{'id': '30b0be46-86e4-4339-882b-8f8fe126b119'...  faction1   \n",
       "88     [{'id': 'ea6ba3bc-6f40-429e-9d8f-7b7aa06b6398'...  faction2   \n",
       "89     [{'id': '46cf4dd5-6135-492b-b076-77701702dadb'...  faction2   \n",
       "90     [{'id': '6dbce865-a366-4b63-af80-76c3621edca3'...  faction1   \n",
       "91     [{'id': '01914910-0e12-45a8-9df7-4c1c6568362c'...  faction1   \n",
       "92     [{'id': '7882aebb-28f0-4386-8cc1-262e9b2a46c0'...  faction2   \n",
       "93     [{'id': '56d5d147-ca44-4763-a3d5-9eb78b376c20'...  faction2   \n",
       "94     [{'id': '56d5d147-ca44-4763-a3d5-9eb78b376c20'...  faction2   \n",
       "95     [{'id': '148e7bd4-2ecf-4936-96f9-75b0bbd95194'...  faction2   \n",
       "96     [{'id': '1efb9d10-6871-479a-9d39-9cbb68546792'...  faction1   \n",
       "12149  [{'id': '35becb14-d875-42c9-8359-f34416bc4b4a'...  faction2   \n",
       "17642  [{'id': 'e4b11a9e-32c4-483a-a1fa-42a3f66c7d01'...  faction1   \n",
       "\n",
       "                                       players_ids_team1  \\\n",
       "0      [7565eb27-bb23-404e-b89b-f96e3c1c9971, 7b2fc67...   \n",
       "1      [548b90d6-d081-4461-b157-5efdaef032b2, bf500b8...   \n",
       "2      [06704697-900f-44ed-8f59-335a3cfce489, 6d52239...   \n",
       "3      [75299121-de1b-4877-90c2-14445d80da34, 9108aeb...   \n",
       "4      [03d8c8a0-8aac-437f-aeeb-912653816033, 2382c17...   \n",
       "5      [3ea26e66-97f6-441d-912b-566433c8d069, 5d78446...   \n",
       "6      [ca2dc1d5-bf61-4037-a143-22df12bbf3c8, 6971394...   \n",
       "7      [1be3667c-6de0-441e-933e-4fe796961db8, 46cf4dd...   \n",
       "8      [216d523f-87de-4dc5-bb87-2b3568596c99, 6ce38da...   \n",
       "9      [1be3667c-6de0-441e-933e-4fe796961db8, 8c095ac...   \n",
       "10     [7ce0a226-4351-4d77-9efa-f21816f3e0a9, d0247fd...   \n",
       "11     [4f640df3-a3ef-4b88-a6f7-a3f418be91bd, a5fc147...   \n",
       "12     [138c45a2-cfa5-40c3-844e-29f1fe829397, ac4588b...   \n",
       "13     [77ad2c38-88c6-4caa-be4c-823a586b2571, 8c095ac...   \n",
       "14     [77ad2c38-88c6-4caa-be4c-823a586b2571, 8c095ac...   \n",
       "15     [8c095ace-f180-436c-a9c6-f75de813f51f, 9d3bcff...   \n",
       "16     [126f3b46-858f-4175-a506-ec3891ae52f7, 1efb9d1...   \n",
       "17     [77ad2c38-88c6-4caa-be4c-823a586b2571, 8c095ac...   \n",
       "18     [656c639e-346e-4371-a7d5-307f9ad5c655, 8c095ac...   \n",
       "19     [77ad2c38-88c6-4caa-be4c-823a586b2571, 8c095ac...   \n",
       "20     [1be3667c-6de0-441e-933e-4fe796961db8, 656c639...   \n",
       "21     [4a027ed7-57ec-4d64-b752-2c507c7d5d80, 656c639...   \n",
       "22     [656c639e-346e-4371-a7d5-307f9ad5c655, 8c095ac...   \n",
       "23     [656c639e-346e-4371-a7d5-307f9ad5c655, 8c095ac...   \n",
       "24     [1efb9d10-6871-479a-9d39-9cbb68546792, 4a027ed...   \n",
       "25     [656c639e-346e-4371-a7d5-307f9ad5c655, 8c095ac...   \n",
       "26     [443e78b1-a9d0-47d5-aced-9d1f94fc3671, 6fffdcc...   \n",
       "27     [daaba1d3-3d37-414e-b716-a216839deee7, fa8372b...   \n",
       "28     [1fbe626e-6210-452b-98ba-3ad47d21cd83, 3c62c51...   \n",
       "29     [0b8a2fb2-e8b9-4d07-91a2-dad250fb4025, 9d8cf85...   \n",
       "...                                                  ...   \n",
       "69     [dbe8b41f-e16e-4c42-ba15-c80089f4836c, b267647...   \n",
       "70     [dbe8b41f-e16e-4c42-ba15-c80089f4836c, b267647...   \n",
       "71     [dbe8b41f-e16e-4c42-ba15-c80089f4836c, b267647...   \n",
       "72     [336eedaa-1732-4c9c-b901-0a00e83c4cc8, d697421...   \n",
       "73     [8939add3-f1c6-4bb3-8ca6-ec166a675e94, 2ef618a...   \n",
       "74     [e8a96869-ff88-479a-ade5-f9a587d31045, b3e8e59...   \n",
       "75     [c8751575-6018-49ba-9b0f-455ba0c40d0d, abeeebc...   \n",
       "76     [33ec88ee-18d5-4167-a2ef-5dea97b4966e, 6cfbc25...   \n",
       "77     [dc6b4b67-bb77-4dbe-a462-8cdc4a7e8e95, d7c5ce3...   \n",
       "78     [dc6b4b67-bb77-4dbe-a462-8cdc4a7e8e95, 4b90e6c...   \n",
       "79     [e4a30f25-b48d-414f-a317-bd3bf35bb45f, fb68545...   \n",
       "80     [dbe8b41f-e16e-4c42-ba15-c80089f4836c, 656c639...   \n",
       "81     [7e12fb73-1526-4c25-90d0-09b6645e6e44, ca90052...   \n",
       "82     [dbe8b41f-e16e-4c42-ba15-c80089f4836c, 656c639...   \n",
       "83     [c552d4c6-11c3-4e38-96f2-bd777bdfbc3f, 0914143...   \n",
       "84     [8c095ace-f180-436c-a9c6-f75de813f51f, a2dc1c1...   \n",
       "85     [dde77a14-c0b9-4916-afc4-2a2a2fa578a7, d72b312...   \n",
       "86     [46cf4dd5-6135-492b-b076-77701702dadb, dbe8b41...   \n",
       "87     [c8807fb4-3408-4947-97de-44dfedffa3d6, 46cf4dd...   \n",
       "88     [0f964c63-bfcb-4b51-a735-7817e16469f4, 8bfa7fa...   \n",
       "89     [1e270dae-e16b-4344-9c40-a798b72b9a8c, 6bb11f8...   \n",
       "90     [18116a5b-9042-4213-805e-2cca07ab426d, 49280d5...   \n",
       "91     [d56cdcae-6194-4b86-bd65-91afd15e1f06, fe45f62...   \n",
       "92     [56d5d147-ca44-4763-a3d5-9eb78b376c20, 8c095ac...   \n",
       "93     [705b35f2-e418-42d4-a503-40466ffb97e0, 53a5873...   \n",
       "94     [a7090bf6-8269-4602-8af1-a2841e9ac0d4, 638b0d3...   \n",
       "95     [dde77a14-c0b9-4916-afc4-2a2a2fa578a7, 1efb9d1...   \n",
       "96     [54a6ca07-b08c-4e74-afff-63a0053e0eae, 76e6e62...   \n",
       "12149  [2382c17f-32f7-4bdf-81f9-4f435b7c3af2, 8c095ac...   \n",
       "17642  [1253d483-69eb-462a-a788-6b5395991c9d, 47de88e...   \n",
       "\n",
       "                                       players_ids_team2  \\\n",
       "0      [46cf4dd5-6135-492b-b076-77701702dadb, 7529912...   \n",
       "1      [72b7dc0b-d3c4-4935-afcd-d383c2770e94, 7529912...   \n",
       "2      [72b7dc0b-d3c4-4935-afcd-d383c2770e94, 7529912...   \n",
       "3      [00c5d9f2-3b39-4128-b011-c99cc8c0eaa7, 0774758...   \n",
       "4      [1602f9f7-0211-45f7-b750-57e6bcd6c380, 2c4a0f2...   \n",
       "5      [51084890-aa0e-4c0a-aa3e-55fc99083dad, bb5d6df...   \n",
       "6      [9960ca7b-a837-4ad7-ae4d-c5bd78955aad, dbe8b41...   \n",
       "7      [7b65a45b-016a-41d4-8cb4-0fb6fd79e8c4, a64cf91...   \n",
       "8      [46cf4dd5-6135-492b-b076-77701702dadb, 656c639...   \n",
       "9      [1ab76078-882c-414e-9733-92bb7115d3f4, 3eb4ab4...   \n",
       "10     [4b932a24-a3af-421e-9156-8dde0a25f601, 3b314a5...   \n",
       "11     [1efb9d10-6871-479a-9d39-9cbb68546792, 4a027ed...   \n",
       "12     [4a027ed7-57ec-4d64-b752-2c507c7d5d80, 8c095ac...   \n",
       "13     [5016f1a1-2ee4-484b-a10a-9e94020558ab, 666fd58...   \n",
       "14     [415b8681-3b9f-47bb-9f8a-ce719913771d, 7838005...   \n",
       "15     [04aa750a-d8d8-4a25-9aa1-4716f409cb08, 156e72e...   \n",
       "16     [10ed5e76-a259-4fe8-bd61-52e3eed13e60, 4071cbc...   \n",
       "17     [3e326887-55e0-4e9e-9585-37c4c9c3eed5, a5a7524...   \n",
       "18     [2e0d7d3b-55d8-49de-9930-e5aa28ecd3b0, ffaddf1...   \n",
       "19     [1d8791a0-09e7-4c09-b5c3-17802206f6d6, 5167b8e...   \n",
       "20     [65a64721-988e-45f8-a584-d66ae7891a81, 959077a...   \n",
       "21     [0b4e1f85-c64a-48d8-a230-9a518cbfc8d8, 0c98edd...   \n",
       "22     [7efa94fb-2798-43be-9d60-327619465f1a, f995eae...   \n",
       "23     [364984ef-c20d-4f1c-bedb-101b83ce3c92, 781f7ce...   \n",
       "24     [52a34f58-79ac-4db6-b71e-fb6edeb3bd53, 9a59e30...   \n",
       "25     [59e582c1-0bf7-46c2-8405-f5f32068be10, 8d02cf2...   \n",
       "26     [866f6719-9506-47ac-8021-3faef1c2ffa5, afbe561...   \n",
       "27     [dbe8b41f-e16e-4c42-ba15-c80089f4836c, 87c4230...   \n",
       "28     [027db855-7db6-4d50-8951-ea4f943fca3e, 8c095ac...   \n",
       "29     [2382c17f-32f7-4bdf-81f9-4f435b7c3af2, 46cf4dd...   \n",
       "...                                                  ...   \n",
       "69     [80c3a0d4-fd6f-4331-90c8-44b36b80cb5d, b5a45b7...   \n",
       "70     [9814f53c-699b-41a4-bb5a-1f0a61a5acca, 0087297...   \n",
       "71     [c8691205-dbf0-43a1-aed3-08799673d0f4, 980847d...   \n",
       "72     [dbe8b41f-e16e-4c42-ba15-c80089f4836c, b267647...   \n",
       "73     [dbe8b41f-e16e-4c42-ba15-c80089f4836c, b267647...   \n",
       "74     [38ee145a-70ed-4e6a-a3f0-921c9105cf97, 6584400...   \n",
       "75     [e0891de6-8f70-4669-90ad-f242a972a44d, 03bbb1d...   \n",
       "76     [2d72a642-cf4f-4c23-a609-a87a342daeab, e73ad4c...   \n",
       "77     [aa7aca95-a4b7-4160-afb3-beecbc745bd4, dd452cb...   \n",
       "78     [7fdb97f3-39d0-48c0-aea4-bd35f91f5cfa, 3ebcd24...   \n",
       "79     [dbe8b41f-e16e-4c42-ba15-c80089f4836c, 656c639...   \n",
       "80     [8952073d-4995-4736-a874-d98735700515, 3442aab...   \n",
       "81     [dbe8b41f-e16e-4c42-ba15-c80089f4836c, 656c639...   \n",
       "82     [4457aceb-67c9-4a64-a100-9d3da3e79b74, 28fe635...   \n",
       "83     [e99a769b-efb7-46f1-9ac8-cb2c6ee2a1f3, 80c3a0d...   \n",
       "84     [4f2495ef-86ca-4014-81af-9d98c5faf870, daf4462...   \n",
       "85     [2d72a642-cf4f-4c23-a609-a87a342daeab, 0f1f89a...   \n",
       "86     [4d604650-3f90-4d2a-898c-eb8bc9db8a24, c8807fb...   \n",
       "87     [30b0be46-86e4-4339-882b-8f8fe126b119, ae8c7c4...   \n",
       "88     [ea6ba3bc-6f40-429e-9d8f-7b7aa06b6398, 46cf4dd...   \n",
       "89     [46cf4dd5-6135-492b-b076-77701702dadb, dbe8b41...   \n",
       "90     [6dbce865-a366-4b63-af80-76c3621edca3, 57e25f2...   \n",
       "91     [01914910-0e12-45a8-9df7-4c1c6568362c, 49280d5...   \n",
       "92     [7882aebb-28f0-4386-8cc1-262e9b2a46c0, 4114427...   \n",
       "93     [56d5d147-ca44-4763-a3d5-9eb78b376c20, 8c095ac...   \n",
       "94     [56d5d147-ca44-4763-a3d5-9eb78b376c20, 8c095ac...   \n",
       "95     [148e7bd4-2ecf-4936-96f9-75b0bbd95194, af19053...   \n",
       "96     [1efb9d10-6871-479a-9d39-9cbb68546792, dbe8b41...   \n",
       "12149  [35becb14-d875-42c9-8359-f34416bc4b4a, 4b5c2d2...   \n",
       "17642  [e4b11a9e-32c4-483a-a1fa-42a3f66c7d01, dbe8b41...   \n",
       "\n",
       "                                         players_ids_all  \n",
       "0      [7565eb27-bb23-404e-b89b-f96e3c1c9971, 7b2fc67...  \n",
       "1      [548b90d6-d081-4461-b157-5efdaef032b2, bf500b8...  \n",
       "2      [06704697-900f-44ed-8f59-335a3cfce489, 6d52239...  \n",
       "3      [75299121-de1b-4877-90c2-14445d80da34, 9108aeb...  \n",
       "4      [03d8c8a0-8aac-437f-aeeb-912653816033, 2382c17...  \n",
       "5      [3ea26e66-97f6-441d-912b-566433c8d069, 5d78446...  \n",
       "6      [ca2dc1d5-bf61-4037-a143-22df12bbf3c8, 6971394...  \n",
       "7      [1be3667c-6de0-441e-933e-4fe796961db8, 46cf4dd...  \n",
       "8      [216d523f-87de-4dc5-bb87-2b3568596c99, 6ce38da...  \n",
       "9      [1be3667c-6de0-441e-933e-4fe796961db8, 8c095ac...  \n",
       "10     [7ce0a226-4351-4d77-9efa-f21816f3e0a9, d0247fd...  \n",
       "11     [4f640df3-a3ef-4b88-a6f7-a3f418be91bd, a5fc147...  \n",
       "12     [138c45a2-cfa5-40c3-844e-29f1fe829397, ac4588b...  \n",
       "13     [77ad2c38-88c6-4caa-be4c-823a586b2571, 8c095ac...  \n",
       "14     [77ad2c38-88c6-4caa-be4c-823a586b2571, 8c095ac...  \n",
       "15     [8c095ace-f180-436c-a9c6-f75de813f51f, 9d3bcff...  \n",
       "16     [126f3b46-858f-4175-a506-ec3891ae52f7, 1efb9d1...  \n",
       "17     [77ad2c38-88c6-4caa-be4c-823a586b2571, 8c095ac...  \n",
       "18     [656c639e-346e-4371-a7d5-307f9ad5c655, 8c095ac...  \n",
       "19     [77ad2c38-88c6-4caa-be4c-823a586b2571, 8c095ac...  \n",
       "20     [1be3667c-6de0-441e-933e-4fe796961db8, 656c639...  \n",
       "21     [4a027ed7-57ec-4d64-b752-2c507c7d5d80, 656c639...  \n",
       "22     [656c639e-346e-4371-a7d5-307f9ad5c655, 8c095ac...  \n",
       "23     [656c639e-346e-4371-a7d5-307f9ad5c655, 8c095ac...  \n",
       "24     [1efb9d10-6871-479a-9d39-9cbb68546792, 4a027ed...  \n",
       "25     [656c639e-346e-4371-a7d5-307f9ad5c655, 8c095ac...  \n",
       "26     [443e78b1-a9d0-47d5-aced-9d1f94fc3671, 6fffdcc...  \n",
       "27     [daaba1d3-3d37-414e-b716-a216839deee7, fa8372b...  \n",
       "28     [1fbe626e-6210-452b-98ba-3ad47d21cd83, 3c62c51...  \n",
       "29     [0b8a2fb2-e8b9-4d07-91a2-dad250fb4025, 9d8cf85...  \n",
       "...                                                  ...  \n",
       "69     [dbe8b41f-e16e-4c42-ba15-c80089f4836c, b267647...  \n",
       "70     [dbe8b41f-e16e-4c42-ba15-c80089f4836c, b267647...  \n",
       "71     [dbe8b41f-e16e-4c42-ba15-c80089f4836c, b267647...  \n",
       "72     [336eedaa-1732-4c9c-b901-0a00e83c4cc8, d697421...  \n",
       "73     [8939add3-f1c6-4bb3-8ca6-ec166a675e94, 2ef618a...  \n",
       "74     [e8a96869-ff88-479a-ade5-f9a587d31045, b3e8e59...  \n",
       "75     [c8751575-6018-49ba-9b0f-455ba0c40d0d, abeeebc...  \n",
       "76     [33ec88ee-18d5-4167-a2ef-5dea97b4966e, 6cfbc25...  \n",
       "77     [dc6b4b67-bb77-4dbe-a462-8cdc4a7e8e95, d7c5ce3...  \n",
       "78     [dc6b4b67-bb77-4dbe-a462-8cdc4a7e8e95, 4b90e6c...  \n",
       "79     [e4a30f25-b48d-414f-a317-bd3bf35bb45f, fb68545...  \n",
       "80     [dbe8b41f-e16e-4c42-ba15-c80089f4836c, 656c639...  \n",
       "81     [7e12fb73-1526-4c25-90d0-09b6645e6e44, ca90052...  \n",
       "82     [dbe8b41f-e16e-4c42-ba15-c80089f4836c, 656c639...  \n",
       "83     [c552d4c6-11c3-4e38-96f2-bd777bdfbc3f, 0914143...  \n",
       "84     [8c095ace-f180-436c-a9c6-f75de813f51f, a2dc1c1...  \n",
       "85     [dde77a14-c0b9-4916-afc4-2a2a2fa578a7, d72b312...  \n",
       "86     [46cf4dd5-6135-492b-b076-77701702dadb, dbe8b41...  \n",
       "87     [c8807fb4-3408-4947-97de-44dfedffa3d6, 46cf4dd...  \n",
       "88     [0f964c63-bfcb-4b51-a735-7817e16469f4, 8bfa7fa...  \n",
       "89     [1e270dae-e16b-4344-9c40-a798b72b9a8c, 6bb11f8...  \n",
       "90     [18116a5b-9042-4213-805e-2cca07ab426d, 49280d5...  \n",
       "91     [d56cdcae-6194-4b86-bd65-91afd15e1f06, fe45f62...  \n",
       "92     [56d5d147-ca44-4763-a3d5-9eb78b376c20, 8c095ac...  \n",
       "93     [705b35f2-e418-42d4-a503-40466ffb97e0, 53a5873...  \n",
       "94     [a7090bf6-8269-4602-8af1-a2841e9ac0d4, 638b0d3...  \n",
       "95     [dde77a14-c0b9-4916-afc4-2a2a2fa578a7, 1efb9d1...  \n",
       "96     [54a6ca07-b08c-4e74-afff-63a0053e0eae, 76e6e62...  \n",
       "12149  [2382c17f-32f7-4bdf-81f9-4f435b7c3af2, 8c095ac...  \n",
       "17642  [1253d483-69eb-462a-a788-6b5395991c9d, 47de88e...  \n",
       "\n",
       "[99 rows x 12 columns]"
      ]
     },
     "execution_count": 1617,
     "metadata": {},
     "output_type": "execute_result"
    }
   ],
   "source": [
    "searched_playerid = set(['dbe8b41f-e16e-4c42-ba15-c80089f4836c'])\n",
    "isplayer = searched_playerid.issubset\n",
    "data_specific_player = data[[isplayer(l) for l in data['players_ids_all'].values.tolist()]]\n",
    "data_specific_player\n"
   ]
  },
  {
   "cell_type": "code",
   "execution_count": 1570,
   "metadata": {},
   "outputs": [
    {
     "data": {
      "text/html": [
       "<div>\n",
       "<style scoped>\n",
       "    .dataframe tbody tr th:only-of-type {\n",
       "        vertical-align: middle;\n",
       "    }\n",
       "\n",
       "    .dataframe tbody tr th {\n",
       "        vertical-align: top;\n",
       "    }\n",
       "\n",
       "    .dataframe thead th {\n",
       "        text-align: right;\n",
       "    }\n",
       "</style>\n",
       "<table border=\"1\" class=\"dataframe\">\n",
       "  <thead>\n",
       "    <tr style=\"text-align: right;\">\n",
       "      <th></th>\n",
       "      <th>_id</th>\n",
       "      <th>map</th>\n",
       "      <th>match_id</th>\n",
       "      <th>parties</th>\n",
       "      <th>scoreboard</th>\n",
       "      <th>start_time</th>\n",
       "      <th>team1</th>\n",
       "      <th>team2</th>\n",
       "      <th>winner</th>\n",
       "      <th>players_ids_team1</th>\n",
       "      <th>players_ids_team2</th>\n",
       "    </tr>\n",
       "  </thead>\n",
       "  <tbody>\n",
       "  </tbody>\n",
       "</table>\n",
       "</div>"
      ],
      "text/plain": [
       "Empty DataFrame\n",
       "Columns: [_id, map, match_id, parties, scoreboard, start_time, team1, team2, winner, players_ids_team1, players_ids_team2]\n",
       "Index: []"
      ]
     },
     "execution_count": 1570,
     "metadata": {},
     "output_type": "execute_result"
    }
   ],
   "source": [
    "data_specific_player.head()"
   ]
  },
  {
   "cell_type": "code",
   "execution_count": 928,
   "metadata": {},
   "outputs": [],
   "source": [
    "def correct_map_feature(row):\n",
    "    if row['map'] == []:\n",
    "        return np.nan\n",
    "    else:\n",
    "        return row['map'][0]"
   ]
  },
  {
   "cell_type": "code",
   "execution_count": 929,
   "metadata": {},
   "outputs": [],
   "source": [
    "data['correct_map'] = data.apply(lambda row: correct_map_feature(row), axis=1)"
   ]
  },
  {
   "cell_type": "code",
   "execution_count": 930,
   "metadata": {},
   "outputs": [
    {
     "data": {
      "text/plain": [
       "<matplotlib.axes._subplots.AxesSubplot at 0x2dd83864390>"
      ]
     },
     "execution_count": 930,
     "metadata": {},
     "output_type": "execute_result"
    },
    {
     "data": {
      "image/png": "[encoded data removed]",
      "text/plain": [
       "<Figure size 1296x432 with 1 Axes>"
      ]
     },
     "metadata": {
      "needs_background": "light"
     },
     "output_type": "display_data"
    }
   ],
   "source": [
    "maps = ['de_train', 'de_inferno', 'de_mirage', 'de_vertigo', 'de_nuke', 'de_overpass', 'de_cache', 'de_dust2']\n",
    "data = data[data['correct_map'].isin(maps)]\n",
    "data['map'] = data['correct_map']\n",
    "data.drop(columns=['correct_map'], inplace=True)\n",
    "plt.figure(figsize=(18,6))\n",
    "sns.countplot(x='map', data=data)"
   ]
  },
  {
   "cell_type": "code",
   "execution_count": 760,
   "metadata": {},
   "outputs": [
    {
     "data": {
      "application/vnd.plotly.v1+json": {
       "config": {
        "plotlyServerURL": "https://plot.ly"
       },
       "data": [
        {
         "domain": {
          "x": [
           0,
           1
          ],
          "y": [
           0,
           1
          ]
         },
         "hoverlabel": {
          "namelength": 0
         },
         "hovertemplate": "label=%{label}<br>value=%{value}",
         "labels": [
          "de_mirage",
          "de_inferno",
          "de_dust2",
          "de_train",
          "de_overpass",
          "de_cache",
          "de_nuke",
          "de_vertigo"
         ],
         "legendgroup": "",
         "name": "",
         "showlegend": true,
         "type": "pie",
         "values": [
          127,
          99,
          69,
          43,
          43,
          33,
          21,
          12
         ]
        }
       ],
       "layout": {
        "legend": {
         "tracegroupgap": 0
        },
        "margin": {
         "t": 60
        },
        "template": {
         "data": {
          "bar": [
           {
            "error_x": {
             "color": "#2a3f5f"
            },
            "error_y": {
             "color": "#2a3f5f"
            },
            "marker": {
             "line": {
              "color": "#E5ECF6",
              "width": 0.5
             }
            },
            "type": "bar"
           }
          ],
          "barpolar": [
           {
            "marker": {
             "line": {
              "color": "#E5ECF6",
              "width": 0.5
             }
            },
            "type": "barpolar"
           }
          ],
          "carpet": [
           {
            "aaxis": {
             "endlinecolor": "#2a3f5f",
             "gridcolor": "white",
             "linecolor": "white",
             "minorgridcolor": "white",
             "startlinecolor": "#2a3f5f"
            },
            "baxis": {
             "endlinecolor": "#2a3f5f",
             "gridcolor": "white",
             "linecolor": "white",
             "minorgridcolor": "white",
             "startlinecolor": "#2a3f5f"
            },
            "type": "carpet"
           }
          ],
          "choropleth": [
           {
            "colorbar": {
             "outlinewidth": 0,
             "ticks": ""
            },
            "type": "choropleth"
           }
          ],
          "contour": [
           {
            "colorbar": {
             "outlinewidth": 0,
             "ticks": ""
            },
            "colorscale": [
             [
              0,
              "#0d0887"
             ],
             [
              0.1111111111111111,
              "#46039f"
             ],
             [
              0.2222222222222222,
              "#7201a8"
             ],
             [
              0.3333333333333333,
              "#9c179e"
             ],
             [
              0.4444444444444444,
              "#bd3786"
             ],
             [
              0.5555555555555556,
              "#d8576b"
             ],
             [
              0.6666666666666666,
              "#ed7953"
             ],
             [
              0.7777777777777778,
              "#fb9f3a"
             ],
             [
              0.8888888888888888,
              "#fdca26"
             ],
             [
              1,
              "#f0f921"
             ]
            ],
            "type": "contour"
           }
          ],
          "contourcarpet": [
           {
            "colorbar": {
             "outlinewidth": 0,
             "ticks": ""
            },
            "type": "contourcarpet"
           }
          ],
          "heatmap": [
           {
            "colorbar": {
             "outlinewidth": 0,
             "ticks": ""
            },
            "colorscale": [
             [
              0,
              "#0d0887"
             ],
             [
              0.1111111111111111,
              "#46039f"
             ],
             [
              0.2222222222222222,
              "#7201a8"
             ],
             [
              0.3333333333333333,
              "#9c179e"
             ],
             [
              0.4444444444444444,
              "#bd3786"
             ],
             [
              0.5555555555555556,
              "#d8576b"
             ],
             [
              0.6666666666666666,
              "#ed7953"
             ],
             [
              0.7777777777777778,
              "#fb9f3a"
             ],
             [
              0.8888888888888888,
              "#fdca26"
             ],
             [
              1,
              "#f0f921"
             ]
            ],
            "type": "heatmap"
           }
          ],
          "heatmapgl": [
           {
            "colorbar": {
             "outlinewidth": 0,
             "ticks": ""
            },
            "colorscale": [
             [
              0,
              "#0d0887"
             ],
             [
              0.1111111111111111,
              "#46039f"
             ],
             [
              0.2222222222222222,
              "#7201a8"
             ],
             [
              0.3333333333333333,
              "#9c179e"
             ],
             [
              0.4444444444444444,
              "#bd3786"
             ],
             [
              0.5555555555555556,
              "#d8576b"
             ],
             [
              0.6666666666666666,
              "#ed7953"
             ],
             [
              0.7777777777777778,
              "#fb9f3a"
             ],
             [
              0.8888888888888888,
              "#fdca26"
             ],
             [
              1,
              "#f0f921"
             ]
            ],
            "type": "heatmapgl"
           }
          ],
          "histogram": [
           {
            "marker": {
             "colorbar": {
              "outlinewidth": 0,
              "ticks": ""
             }
            },
            "type": "histogram"
           }
          ],
          "histogram2d": [
           {
            "colorbar": {
             "outlinewidth": 0,
             "ticks": ""
            },
            "colorscale": [
             [
              0,
              "#0d0887"
             ],
             [
              0.1111111111111111,
              "#46039f"
             ],
             [
              0.2222222222222222,
              "#7201a8"
             ],
             [
              0.3333333333333333,
              "#9c179e"
             ],
             [
              0.4444444444444444,
              "#bd3786"
             ],
             [
              0.5555555555555556,
              "#d8576b"
             ],
             [
              0.6666666666666666,
              "#ed7953"
             ],
             [
              0.7777777777777778,
              "#fb9f3a"
             ],
             [
              0.8888888888888888,
              "#fdca26"
             ],
             [
              1,
              "#f0f921"
             ]
            ],
            "type": "histogram2d"
           }
          ],
          "histogram2dcontour": [
           {
            "colorbar": {
             "outlinewidth": 0,
             "ticks": ""
            },
            "colorscale": [
             [
              0,
              "#0d0887"
             ],
             [
              0.1111111111111111,
              "#46039f"
             ],
             [
              0.2222222222222222,
              "#7201a8"
             ],
             [
              0.3333333333333333,
              "#9c179e"
             ],
             [
              0.4444444444444444,
              "#bd3786"
             ],
             [
              0.5555555555555556,
              "#d8576b"
             ],
             [
              0.6666666666666666,
              "#ed7953"
             ],
             [
              0.7777777777777778,
              "#fb9f3a"
             ],
             [
              0.8888888888888888,
              "#fdca26"
             ],
             [
              1,
              "#f0f921"
             ]
            ],
            "type": "histogram2dcontour"
           }
          ],
          "mesh3d": [
           {
            "colorbar": {
             "outlinewidth": 0,
             "ticks": ""
            },
            "type": "mesh3d"
           }
          ],
          "parcoords": [
           {
            "line": {
             "colorbar": {
              "outlinewidth": 0,
              "ticks": ""
             }
            },
            "type": "parcoords"
           }
          ],
          "pie": [
           {
            "automargin": true,
            "type": "pie"
           }
          ],
          "scatter": [
           {
            "marker": {
             "colorbar": {
              "outlinewidth": 0,
              "ticks": ""
             }
            },
            "type": "scatter"
           }
          ],
          "scatter3d": [
           {
            "line": {
             "colorbar": {
              "outlinewidth": 0,
              "ticks": ""
             }
            },
            "marker": {
             "colorbar": {
              "outlinewidth": 0,
              "ticks": ""
             }
            },
            "type": "scatter3d"
           }
          ],
          "scattercarpet": [
           {
            "marker": {
             "colorbar": {
              "outlinewidth": 0,
              "ticks": ""
             }
            },
            "type": "scattercarpet"
           }
          ],
          "scattergeo": [
           {
            "marker": {
             "colorbar": {
              "outlinewidth": 0,
              "ticks": ""
             }
            },
            "type": "scattergeo"
           }
          ],
          "scattergl": [
           {
            "marker": {
             "colorbar": {
              "outlinewidth": 0,
              "ticks": ""
             }
            },
            "type": "scattergl"
           }
          ],
          "scattermapbox": [
           {
            "marker": {
             "colorbar": {
              "outlinewidth": 0,
              "ticks": ""
             }
            },
            "type": "scattermapbox"
           }
          ],
          "scatterpolar": [
           {
            "marker": {
             "colorbar": {
              "outlinewidth": 0,
              "ticks": ""
             }
            },
            "type": "scatterpolar"
           }
          ],
          "scatterpolargl": [
           {
            "marker": {
             "colorbar": {
              "outlinewidth": 0,
              "ticks": ""
             }
            },
            "type": "scatterpolargl"
           }
          ],
          "scatterternary": [
           {
            "marker": {
             "colorbar": {
              "outlinewidth": 0,
              "ticks": ""
             }
            },
            "type": "scatterternary"
           }
          ],
          "surface": [
           {
            "colorbar": {
             "outlinewidth": 0,
             "ticks": ""
            },
            "colorscale": [
             [
              0,
              "#0d0887"
             ],
             [
              0.1111111111111111,
              "#46039f"
             ],
             [
              0.2222222222222222,
              "#7201a8"
             ],
             [
              0.3333333333333333,
              "#9c179e"
             ],
             [
              0.4444444444444444,
              "#bd3786"
             ],
             [
              0.5555555555555556,
              "#d8576b"
             ],
             [
              0.6666666666666666,
              "#ed7953"
             ],
             [
              0.7777777777777778,
              "#fb9f3a"
             ],
             [
              0.8888888888888888,
              "#fdca26"
             ],
             [
              1,
              "#f0f921"
             ]
            ],
            "type": "surface"
           }
          ],
          "table": [
           {
            "cells": {
             "fill": {
              "color": "#EBF0F8"
             },
             "line": {
              "color": "white"
             }
            },
            "header": {
             "fill": {
              "color": "#C8D4E3"
             },
             "line": {
              "color": "white"
             }
            },
            "type": "table"
           }
          ]
         },
         "layout": {
          "annotationdefaults": {
           "arrowcolor": "#2a3f5f",
           "arrowhead": 0,
           "arrowwidth": 1
          },
          "coloraxis": {
           "colorbar": {
            "outlinewidth": 0,
            "ticks": ""
           }
          },
          "colorscale": {
           "diverging": [
            [
             0,
             "#8e0152"
            ],
            [
             0.1,
             "#c51b7d"
            ],
            [
             0.2,
             "#de77ae"
            ],
            [
             0.3,
             "#f1b6da"
            ],
            [
             0.4,
             "#fde0ef"
            ],
            [
             0.5,
             "#f7f7f7"
            ],
            [
             0.6,
             "#e6f5d0"
            ],
            [
             0.7,
             "#b8e186"
            ],
            [
             0.8,
             "#7fbc41"
            ],
            [
             0.9,
             "#4d9221"
            ],
            [
             1,
             "#276419"
            ]
           ],
           "sequential": [
            [
             0,
             "#0d0887"
            ],
            [
             0.1111111111111111,
             "#46039f"
            ],
            [
             0.2222222222222222,
             "#7201a8"
            ],
            [
             0.3333333333333333,
             "#9c179e"
            ],
            [
             0.4444444444444444,
             "#bd3786"
            ],
            [
             0.5555555555555556,
             "#d8576b"
            ],
            [
             0.6666666666666666,
             "#ed7953"
            ],
            [
             0.7777777777777778,
             "#fb9f3a"
            ],
            [
             0.8888888888888888,
             "#fdca26"
            ],
            [
             1,
             "#f0f921"
            ]
           ],
           "sequentialminus": [
            [
             0,
             "#0d0887"
            ],
            [
             0.1111111111111111,
             "#46039f"
            ],
            [
             0.2222222222222222,
             "#7201a8"
            ],
            [
             0.3333333333333333,
             "#9c179e"
            ],
            [
             0.4444444444444444,
             "#bd3786"
            ],
            [
             0.5555555555555556,
             "#d8576b"
            ],
            [
             0.6666666666666666,
             "#ed7953"
            ],
            [
             0.7777777777777778,
             "#fb9f3a"
            ],
            [
             0.8888888888888888,
             "#fdca26"
            ],
            [
             1,
             "#f0f921"
            ]
           ]
          },
          "colorway": [
           "#636efa",
           "#EF553B",
           "#00cc96",
           "#ab63fa",
           "#FFA15A",
           "#19d3f3",
           "#FF6692",
           "#B6E880",
           "#FF97FF",
           "#FECB52"
          ],
          "font": {
           "color": "#2a3f5f"
          },
          "geo": {
           "bgcolor": "white",
           "lakecolor": "white",
           "landcolor": "#E5ECF6",
           "showlakes": true,
           "showland": true,
           "subunitcolor": "white"
          },
          "hoverlabel": {
           "align": "left"
          },
          "hovermode": "closest",
          "mapbox": {
           "style": "light"
          },
          "paper_bgcolor": "white",
          "plot_bgcolor": "#E5ECF6",
          "polar": {
           "angularaxis": {
            "gridcolor": "white",
            "linecolor": "white",
            "ticks": ""
           },
           "bgcolor": "#E5ECF6",
           "radialaxis": {
            "gridcolor": "white",
            "linecolor": "white",
            "ticks": ""
           }
          },
          "scene": {
           "xaxis": {
            "backgroundcolor": "#E5ECF6",
            "gridcolor": "white",
            "gridwidth": 2,
            "linecolor": "white",
            "showbackground": true,
            "ticks": "",
            "zerolinecolor": "white"
           },
           "yaxis": {
            "backgroundcolor": "#E5ECF6",
            "gridcolor": "white",
            "gridwidth": 2,
            "linecolor": "white",
            "showbackground": true,
            "ticks": "",
            "zerolinecolor": "white"
           },
           "zaxis": {
            "backgroundcolor": "#E5ECF6",
            "gridcolor": "white",
            "gridwidth": 2,
            "linecolor": "white",
            "showbackground": true,
            "ticks": "",
            "zerolinecolor": "white"
           }
          },
          "shapedefaults": {
           "line": {
            "color": "#2a3f5f"
           }
          },
          "ternary": {
           "aaxis": {
            "gridcolor": "white",
            "linecolor": "white",
            "ticks": ""
           },
           "baxis": {
            "gridcolor": "white",
            "linecolor": "white",
            "ticks": ""
           },
           "bgcolor": "#E5ECF6",
           "caxis": {
            "gridcolor": "white",
            "linecolor": "white",
            "ticks": ""
           }
          },
          "title": {
           "x": 0.05
          },
          "xaxis": {
           "automargin": true,
           "gridcolor": "white",
           "linecolor": "white",
           "ticks": "",
           "title": {
            "standoff": 15
           },
           "zerolinecolor": "white",
           "zerolinewidth": 2
          },
          "yaxis": {
           "automargin": true,
           "gridcolor": "white",
           "linecolor": "white",
           "ticks": "",
           "title": {
            "standoff": 15
           },
           "zerolinecolor": "white",
           "zerolinewidth": 2
          }
         }
        }
       }
      },
      "text/html": [
       "<div>\n",
       "        \n",
       "        \n",
       "            <div id=\"c968b0c5-c625-45eb-961f-4b92678a5d73\" class=\"plotly-graph-div\" style=\"height:525px; width:100%;\"></div>\n",
       "            <script type=\"text/javascript\">\n",
       "                require([\"plotly\"], function(Plotly) {\n",
       "                    window.PLOTLYENV=window.PLOTLYENV || {};\n",
       "                    \n",
       "                if (document.getElementById(\"c968b0c5-c625-45eb-961f-4b92678a5d73\")) {\n",
       "                    Plotly.newPlot(\n",
       "                        'c968b0c5-c625-45eb-961f-4b92678a5d73',\n",
       "                        [{\"domain\": {\"x\": [0.0, 1.0], \"y\": [0.0, 1.0]}, \"hoverlabel\": {\"namelength\": 0}, \"hovertemplate\": \"label=%{label}<br>value=%{value}\", \"labels\": [\"de_mirage\", \"de_inferno\", \"de_dust2\", \"de_train\", \"de_overpass\", \"de_cache\", \"de_nuke\", \"de_vertigo\"], \"legendgroup\": \"\", \"name\": \"\", \"showlegend\": true, \"type\": \"pie\", \"values\": [127, 99, 69, 43, 43, 33, 21, 12]}],\n",
       "                        {\"legend\": {\"tracegroupgap\": 0}, \"margin\": {\"t\": 60}, \"template\": {\"data\": {\"bar\": [{\"error_x\": {\"color\": \"#2a3f5f\"}, \"error_y\": {\"color\": \"#2a3f5f\"}, \"marker\": {\"line\": {\"color\": \"#E5ECF6\", \"width\": 0.5}}, \"type\": \"bar\"}], \"barpolar\": [{\"marker\": {\"line\": {\"color\": \"#E5ECF6\", \"width\": 0.5}}, \"type\": \"barpolar\"}], \"carpet\": [{\"aaxis\": {\"endlinecolor\": \"#2a3f5f\", \"gridcolor\": \"white\", \"linecolor\": \"white\", \"minorgridcolor\": \"white\", \"startlinecolor\": \"#2a3f5f\"}, \"baxis\": {\"endlinecolor\": \"#2a3f5f\", \"gridcolor\": \"white\", \"linecolor\": \"white\", \"minorgridcolor\": \"white\", \"startlinecolor\": \"#2a3f5f\"}, \"type\": \"carpet\"}], \"choropleth\": [{\"colorbar\": {\"outlinewidth\": 0, \"ticks\": \"\"}, \"type\": \"choropleth\"}], \"contour\": [{\"colorbar\": {\"outlinewidth\": 0, \"ticks\": \"\"}, \"colorscale\": [[0.0, \"#0d0887\"], [0.1111111111111111, \"#46039f\"], [0.2222222222222222, \"#7201a8\"], [0.3333333333333333, \"#9c179e\"], [0.4444444444444444, \"#bd3786\"], [0.5555555555555556, \"#d8576b\"], [0.6666666666666666, \"#ed7953\"], [0.7777777777777778, \"#fb9f3a\"], [0.8888888888888888, \"#fdca26\"], [1.0, \"#f0f921\"]], \"type\": \"contour\"}], \"contourcarpet\": [{\"colorbar\": {\"outlinewidth\": 0, \"ticks\": \"\"}, \"type\": \"contourcarpet\"}], \"heatmap\": [{\"colorbar\": {\"outlinewidth\": 0, \"ticks\": \"\"}, \"colorscale\": [[0.0, \"#0d0887\"], [0.1111111111111111, \"#46039f\"], [0.2222222222222222, \"#7201a8\"], [0.3333333333333333, \"#9c179e\"], [0.4444444444444444, \"#bd3786\"], [0.5555555555555556, \"#d8576b\"], [0.6666666666666666, \"#ed7953\"], [0.7777777777777778, \"#fb9f3a\"], [0.8888888888888888, \"#fdca26\"], [1.0, \"#f0f921\"]], \"type\": \"heatmap\"}], \"heatmapgl\": [{\"colorbar\": {\"outlinewidth\": 0, \"ticks\": \"\"}, \"colorscale\": [[0.0, \"#0d0887\"], [0.1111111111111111, \"#46039f\"], [0.2222222222222222, \"#7201a8\"], [0.3333333333333333, \"#9c179e\"], [0.4444444444444444, \"#bd3786\"], [0.5555555555555556, \"#d8576b\"], [0.6666666666666666, \"#ed7953\"], [0.7777777777777778, \"#fb9f3a\"], [0.8888888888888888, \"#fdca26\"], [1.0, \"#f0f921\"]], \"type\": \"heatmapgl\"}], \"histogram\": [{\"marker\": {\"colorbar\": {\"outlinewidth\": 0, \"ticks\": \"\"}}, \"type\": \"histogram\"}], \"histogram2d\": [{\"colorbar\": {\"outlinewidth\": 0, \"ticks\": \"\"}, \"colorscale\": [[0.0, \"#0d0887\"], [0.1111111111111111, \"#46039f\"], [0.2222222222222222, \"#7201a8\"], [0.3333333333333333, \"#9c179e\"], [0.4444444444444444, \"#bd3786\"], [0.5555555555555556, \"#d8576b\"], [0.6666666666666666, \"#ed7953\"], [0.7777777777777778, \"#fb9f3a\"], [0.8888888888888888, \"#fdca26\"], [1.0, \"#f0f921\"]], \"type\": \"histogram2d\"}], \"histogram2dcontour\": [{\"colorbar\": {\"outlinewidth\": 0, \"ticks\": \"\"}, \"colorscale\": [[0.0, \"#0d0887\"], [0.1111111111111111, \"#46039f\"], [0.2222222222222222, \"#7201a8\"], [0.3333333333333333, \"#9c179e\"], [0.4444444444444444, \"#bd3786\"], [0.5555555555555556, \"#d8576b\"], [0.6666666666666666, \"#ed7953\"], [0.7777777777777778, \"#fb9f3a\"], [0.8888888888888888, \"#fdca26\"], [1.0, \"#f0f921\"]], \"type\": \"histogram2dcontour\"}], \"mesh3d\": [{\"colorbar\": {\"outlinewidth\": 0, \"ticks\": \"\"}, \"type\": \"mesh3d\"}], \"parcoords\": [{\"line\": {\"colorbar\": {\"outlinewidth\": 0, \"ticks\": \"\"}}, \"type\": \"parcoords\"}], \"pie\": [{\"automargin\": true, \"type\": \"pie\"}], \"scatter\": [{\"marker\": {\"colorbar\": {\"outlinewidth\": 0, \"ticks\": \"\"}}, \"type\": \"scatter\"}], \"scatter3d\": [{\"line\": {\"colorbar\": {\"outlinewidth\": 0, \"ticks\": \"\"}}, \"marker\": {\"colorbar\": {\"outlinewidth\": 0, \"ticks\": \"\"}}, \"type\": \"scatter3d\"}], \"scattercarpet\": [{\"marker\": {\"colorbar\": {\"outlinewidth\": 0, \"ticks\": \"\"}}, \"type\": \"scattercarpet\"}], \"scattergeo\": [{\"marker\": {\"colorbar\": {\"outlinewidth\": 0, \"ticks\": \"\"}}, \"type\": \"scattergeo\"}], \"scattergl\": [{\"marker\": {\"colorbar\": {\"outlinewidth\": 0, \"ticks\": \"\"}}, \"type\": \"scattergl\"}], \"scattermapbox\": [{\"marker\": {\"colorbar\": {\"outlinewidth\": 0, \"ticks\": \"\"}}, \"type\": \"scattermapbox\"}], \"scatterpolar\": [{\"marker\": {\"colorbar\": {\"outlinewidth\": 0, \"ticks\": \"\"}}, \"type\": \"scatterpolar\"}], \"scatterpolargl\": [{\"marker\": {\"colorbar\": {\"outlinewidth\": 0, \"ticks\": \"\"}}, \"type\": \"scatterpolargl\"}], \"scatterternary\": [{\"marker\": {\"colorbar\": {\"outlinewidth\": 0, \"ticks\": \"\"}}, \"type\": \"scatterternary\"}], \"surface\": [{\"colorbar\": {\"outlinewidth\": 0, \"ticks\": \"\"}, \"colorscale\": [[0.0, \"#0d0887\"], [0.1111111111111111, \"#46039f\"], [0.2222222222222222, \"#7201a8\"], [0.3333333333333333, \"#9c179e\"], [0.4444444444444444, \"#bd3786\"], [0.5555555555555556, \"#d8576b\"], [0.6666666666666666, \"#ed7953\"], [0.7777777777777778, \"#fb9f3a\"], [0.8888888888888888, \"#fdca26\"], [1.0, \"#f0f921\"]], \"type\": \"surface\"}], \"table\": [{\"cells\": {\"fill\": {\"color\": \"#EBF0F8\"}, \"line\": {\"color\": \"white\"}}, \"header\": {\"fill\": {\"color\": \"#C8D4E3\"}, \"line\": {\"color\": \"white\"}}, \"type\": \"table\"}]}, \"layout\": {\"annotationdefaults\": {\"arrowcolor\": \"#2a3f5f\", \"arrowhead\": 0, \"arrowwidth\": 1}, \"coloraxis\": {\"colorbar\": {\"outlinewidth\": 0, \"ticks\": \"\"}}, \"colorscale\": {\"diverging\": [[0, \"#8e0152\"], [0.1, \"#c51b7d\"], [0.2, \"#de77ae\"], [0.3, \"#f1b6da\"], [0.4, \"#fde0ef\"], [0.5, \"#f7f7f7\"], [0.6, \"#e6f5d0\"], [0.7, \"#b8e186\"], [0.8, \"#7fbc41\"], [0.9, \"#4d9221\"], [1, \"#276419\"]], \"sequential\": [[0.0, \"#0d0887\"], [0.1111111111111111, \"#46039f\"], [0.2222222222222222, \"#7201a8\"], [0.3333333333333333, \"#9c179e\"], [0.4444444444444444, \"#bd3786\"], [0.5555555555555556, \"#d8576b\"], [0.6666666666666666, \"#ed7953\"], [0.7777777777777778, \"#fb9f3a\"], [0.8888888888888888, \"#fdca26\"], [1.0, \"#f0f921\"]], \"sequentialminus\": [[0.0, \"#0d0887\"], [0.1111111111111111, \"#46039f\"], [0.2222222222222222, \"#7201a8\"], [0.3333333333333333, \"#9c179e\"], [0.4444444444444444, \"#bd3786\"], [0.5555555555555556, \"#d8576b\"], [0.6666666666666666, \"#ed7953\"], [0.7777777777777778, \"#fb9f3a\"], [0.8888888888888888, \"#fdca26\"], [1.0, \"#f0f921\"]]}, \"colorway\": [\"#636efa\", \"#EF553B\", \"#00cc96\", \"#ab63fa\", \"#FFA15A\", \"#19d3f3\", \"#FF6692\", \"#B6E880\", \"#FF97FF\", \"#FECB52\"], \"font\": {\"color\": \"#2a3f5f\"}, \"geo\": {\"bgcolor\": \"white\", \"lakecolor\": \"white\", \"landcolor\": \"#E5ECF6\", \"showlakes\": true, \"showland\": true, \"subunitcolor\": \"white\"}, \"hoverlabel\": {\"align\": \"left\"}, \"hovermode\": \"closest\", \"mapbox\": {\"style\": \"light\"}, \"paper_bgcolor\": \"white\", \"plot_bgcolor\": \"#E5ECF6\", \"polar\": {\"angularaxis\": {\"gridcolor\": \"white\", \"linecolor\": \"white\", \"ticks\": \"\"}, \"bgcolor\": \"#E5ECF6\", \"radialaxis\": {\"gridcolor\": \"white\", \"linecolor\": \"white\", \"ticks\": \"\"}}, \"scene\": {\"xaxis\": {\"backgroundcolor\": \"#E5ECF6\", \"gridcolor\": \"white\", \"gridwidth\": 2, \"linecolor\": \"white\", \"showbackground\": true, \"ticks\": \"\", \"zerolinecolor\": \"white\"}, \"yaxis\": {\"backgroundcolor\": \"#E5ECF6\", \"gridcolor\": \"white\", \"gridwidth\": 2, \"linecolor\": \"white\", \"showbackground\": true, \"ticks\": \"\", \"zerolinecolor\": \"white\"}, \"zaxis\": {\"backgroundcolor\": \"#E5ECF6\", \"gridcolor\": \"white\", \"gridwidth\": 2, \"linecolor\": \"white\", \"showbackground\": true, \"ticks\": \"\", \"zerolinecolor\": \"white\"}}, \"shapedefaults\": {\"line\": {\"color\": \"#2a3f5f\"}}, \"ternary\": {\"aaxis\": {\"gridcolor\": \"white\", \"linecolor\": \"white\", \"ticks\": \"\"}, \"baxis\": {\"gridcolor\": \"white\", \"linecolor\": \"white\", \"ticks\": \"\"}, \"bgcolor\": \"#E5ECF6\", \"caxis\": {\"gridcolor\": \"white\", \"linecolor\": \"white\", \"ticks\": \"\"}}, \"title\": {\"x\": 0.05}, \"xaxis\": {\"automargin\": true, \"gridcolor\": \"white\", \"linecolor\": \"white\", \"ticks\": \"\", \"title\": {\"standoff\": 15}, \"zerolinecolor\": \"white\", \"zerolinewidth\": 2}, \"yaxis\": {\"automargin\": true, \"gridcolor\": \"white\", \"linecolor\": \"white\", \"ticks\": \"\", \"title\": {\"standoff\": 15}, \"zerolinecolor\": \"white\", \"zerolinewidth\": 2}}}},\n",
       "                        {\"responsive\": true}\n",
       "                    ).then(function(){\n",
       "                            \n",
       "var gd = document.getElementById('c968b0c5-c625-45eb-961f-4b92678a5d73');\n",
       "var x = new MutationObserver(function (mutations, observer) {{\n",
       "        var display = window.getComputedStyle(gd).display;\n",
       "        if (!display || display === 'none') {{\n",
       "            console.log([gd, 'removed!']);\n",
       "            Plotly.purge(gd);\n",
       "            observer.disconnect();\n",
       "        }}\n",
       "}});\n",
       "\n",
       "// Listen for the removal of the full notebook cells\n",
       "var notebookContainer = gd.closest('#notebook-container');\n",
       "if (notebookContainer) {{\n",
       "    x.observe(notebookContainer, {childList: true});\n",
       "}}\n",
       "\n",
       "// Listen for the clearing of the current output cell\n",
       "var outputEl = gd.closest('.output');\n",
       "if (outputEl) {{\n",
       "    x.observe(outputEl, {childList: true});\n",
       "}}\n",
       "\n",
       "                        })\n",
       "                };\n",
       "                });\n",
       "            </script>\n",
       "        </div>"
      ]
     },
     "metadata": {},
     "output_type": "display_data"
    }
   ],
   "source": [
    "import plotly.express as px\n",
    "# This dataframe has 244 lines, but 4 distinct values for `day`\n",
    "labels = data['map'].value_counts().index\n",
    "values = data['map'].value_counts().values\n",
    "\n",
    "fig = px.pie(data, values=values, names=labels)\n",
    "fig.show()"
   ]
  },
  {
   "cell_type": "code",
   "execution_count": 1624,
   "metadata": {},
   "outputs": [],
   "source": [
    "data = data.head(1000)"
   ]
  },
  {
   "cell_type": "code",
   "execution_count": 841,
   "metadata": {},
   "outputs": [],
   "source": [
    "data['map_categorized']= data['map'].astype('category')\n",
    "data['map_numeric'] = data['map_categorized'].cat.codes"
   ]
  },
  {
   "cell_type": "code",
   "execution_count": 762,
   "metadata": {},
   "outputs": [],
   "source": [
    "def get_banned_players():\n",
    "    return data_players[data_players['status']=='banned']\n",
    "\n",
    "def blacklist_banned(row,banned_list):\n",
    "    for player_id in row['players_ids_all']:\n",
    "        if player_id in banned_list:\n",
    "            return 1\n",
    "    return 0"
   ]
  },
  {
   "cell_type": "code",
   "execution_count": 844,
   "metadata": {},
   "outputs": [
    {
     "name": "stdout",
     "output_type": "stream",
     "text": [
      "--- 8.49755859375 seconds ---\n"
     ]
    }
   ],
   "source": [
    "banned_df = get_banned_players()\n",
    "banned_players_list = banned_df['player_id'].tolist()\n",
    "\n",
    "start_time = time.time()\n",
    "data['any_player_banned'] = data.apply(lambda row: blacklist_banned(row, banned_players_list), axis=1)\n",
    "data = data[data['any_player_banned'] == 0]\n",
    "print(\"--- %s seconds ---\" % (time.time() - start_time))"
   ]
  },
  {
   "cell_type": "code",
   "execution_count": 225,
   "metadata": {},
   "outputs": [
    {
     "name": "stdout",
     "output_type": "stream",
     "text": [
      "--- 251.66560792922974 seconds ---\n"
     ]
    }
   ],
   "source": [
    "import time\n",
    "start_time = time.time()\n",
    "main\n",
    "print(\"--- %s seconds ---\" % (time.time() - start_time))"
   ]
  },
  {
   "cell_type": "code",
   "execution_count": 226,
   "metadata": {},
   "outputs": [
    {
     "data": {
      "text/plain": [
       "True"
      ]
     },
     "execution_count": 226,
     "metadata": {},
     "output_type": "execute_result"
    }
   ],
   "source": [
    "data['any_player_banned1'].equals(data['any_player_banned3'])\n"
   ]
  },
  {
   "cell_type": "code",
   "execution_count": 313,
   "metadata": {},
   "outputs": [],
   "source": [
    "def convert_time_to_timestamp(row):\n",
    "    date_format = \"%Y-%m-%dT%H:%M:%SZ\" \n",
    "    start_time = datetime.strptime(row['start_time'], date_format)\n",
    "    return start_time"
   ]
  },
  {
   "cell_type": "code",
   "execution_count": 931,
   "metadata": {},
   "outputs": [],
   "source": [
    "data['timestamp'] = data.apply(lambda row: convert_time_to_timestamp(row), axis=1)\n",
    "data_stored['timestamp'] = data_stored.apply(lambda row: convert_time_to_timestamp(row), axis=1)"
   ]
  },
  {
   "cell_type": "code",
   "execution_count": 167,
   "metadata": {},
   "outputs": [],
   "source": [
    "def get_all_players_id(row):\n",
    "    data_team1 = row['team1']\n",
    "    data_team2 = row['team2']\n",
    "    ids = []\n",
    "    for player in data_team1:\n",
    "        ids.append(player['id'])\n",
    "    for player in data_team2:\n",
    "        ids.append(player['id'])\n",
    "    return ids"
   ]
  },
  {
   "cell_type": "code",
   "execution_count": 934,
   "metadata": {},
   "outputs": [],
   "source": [
    "data['players_ids_all'] = data.apply(lambda row: get_all_players_id(row), axis=1)"
   ]
  },
  {
   "cell_type": "code",
   "execution_count": 228,
   "metadata": {},
   "outputs": [],
   "source": [
    "def get_players_id(row, team):\n",
    "    data_team = row[team]\n",
    "    ids = []\n",
    "    for player in data_team:\n",
    "        ids.append(player['id'])\n",
    "    return ids"
   ]
  },
  {
   "cell_type": "code",
   "execution_count": 932,
   "metadata": {},
   "outputs": [],
   "source": [
    "data_stored['players_ids_team1'] = data_stored.apply(lambda row: get_players_id(row, 'team1'), axis=1)\n",
    "data_stored['players_ids_team2'] = data_stored.apply(lambda row: get_players_id(row, 'team2'), axis=1)\n",
    "data_stored['players_ids_all'] = data_stored.apply(lambda row: get_all_players_id(row), axis=1)"
   ]
  },
  {
   "cell_type": "code",
   "execution_count": 933,
   "metadata": {},
   "outputs": [],
   "source": [
    "data['players_ids_team1'] = data.apply(lambda row: get_players_id(row, 'team1'), axis=1)\n",
    "data['players_ids_team2'] = data.apply(lambda row: get_players_id(row, 'team2'), axis=1)"
   ]
  },
  {
   "cell_type": "code",
   "execution_count": 1194,
   "metadata": {},
   "outputs": [],
   "source": [
    "def get_player_match_history(row):\n",
    "    ids=[]\n",
    "    for player in itertools.chain(row['team1'], row['team2']):\n",
    "        ids.append(player['id'])\n",
    "    start_time = row['timestamp']\n",
    "    player_id = ids[0]\n",
    "    print(player_id)\n",
    "    return data.loc[(data['timestamp'] < start_time)]\n",
    "#     return data.loc[(data['timestamp'] < start_time) & ((data['players_ids_team1'].str.contains(str(player_id))) | (data['players_ids_team2'].str.contains(str(player_id))))]\n",
    "#     get all matches where id is in teams1or2 and starttime less than this.starttime order DESC limit 5"
   ]
  },
  {
   "cell_type": "code",
   "execution_count": 230,
   "metadata": {},
   "outputs": [],
   "source": [
    "def total_matches_on_map(row, team):\n",
    "    map_played = row['map']\n",
    "    matches = 0\n",
    "    ids=[]\n",
    "    for player in row[team]:\n",
    "        ids.append(player['id'])\n",
    "    players_mapstats = data_players.loc[data_players['player_id'].isin(ids), 'map_stats']\n",
    "    for pms in players_mapstats:\n",
    "        for comp_map in pms:\n",
    "            if comp_map['map_name'] == map_played:\n",
    "                matches += int(comp_map['matches'])\n",
    "    return matches\n",
    "\n",
    "def total_matches_on_map2(row, team):\n",
    "    map_played = row['map']\n",
    "    matches = 0\n",
    "    ids = row['players_ids_team1']\n",
    "    players_mapstats = data_players.loc[data_players['player_id'].isin(ids), 'map_stats']\n",
    "    for pms in players_mapstats:\n",
    "        for comp_map in pms:\n",
    "            if comp_map['map_name'] == map_played:\n",
    "                matches += int(comp_map['matches'])\n",
    "    return matches"
   ]
  },
  {
   "cell_type": "code",
   "execution_count": 231,
   "metadata": {},
   "outputs": [
    {
     "name": "stdout",
     "output_type": "stream",
     "text": [
      "--- 246.1485207080841 seconds ---\n"
     ]
    }
   ],
   "source": [
    "import time\n",
    "start_time = time.time()\n",
    "data['team1_matches_on_map'] = data.apply(lambda row: total_matches_on_map(row, \"team1\"), axis=1)\n",
    "print(\"--- %s seconds ---\" % (time.time() - start_time))\n",
    "\n",
    "# start_time = time.time()\n",
    "# data['team1_matches_on_map2'] = data.apply(lambda row: total_matches_on_map2(row, \"team1\"), axis=1)\n",
    "# print(\"--- %s seconds ---\" % (time.time() - start_time))"
   ]
  },
  {
   "cell_type": "code",
   "execution_count": 233,
   "metadata": {},
   "outputs": [
    {
     "data": {
      "text/plain": [
       "True"
      ]
     },
     "execution_count": 233,
     "metadata": {},
     "output_type": "execute_result"
    }
   ],
   "source": [
    "data['any_player_banned1'].equals(data['team1_matches_on_map'])"
   ]
  },
  {
   "cell_type": "code",
   "execution_count": 846,
   "metadata": {},
   "outputs": [],
   "source": [
    "data['team1_matches_on_map'] = data.apply(lambda row: total_matches_on_map(row, \"team1\"), axis=1)\n",
    "data['team2_matches_on_map'] = data.apply(lambda row: total_matches_on_map(row, \"team2\"), axis=1)"
   ]
  },
  {
   "cell_type": "code",
   "execution_count": 287,
   "metadata": {},
   "outputs": [],
   "source": [
    "def weighted_winrate_on_map(row, team):\n",
    "    map_played = row['map']\n",
    "    matches, win_rate = [], []\n",
    "    team_data = row[team]\n",
    "    \n",
    "    ids=[]\n",
    "    for player in row[team]:\n",
    "        ids.append(player['id'])\n",
    "    players_mapstats = data_players.loc[data_players['player_id'].isin(ids), 'map_stats']\n",
    "    \n",
    "    \n",
    "    for pms in players_mapstats:\n",
    "        for comp_map in pms:\n",
    "            if comp_map['map_name'] == map_played:\n",
    "                matches.append(int(comp_map['matches']))\n",
    "                win_rate.append(int(comp_map['win_rate']))\n",
    "    total_matches = sum(matches)\n",
    "    weighted_win_rate = 0\n",
    "    \n",
    "    for i in range(len(win_rate)):\n",
    "        weighted_win_rate += matches[i]/total_matches * win_rate[i]\n",
    "    return weighted_win_rate\n",
    "        "
   ]
  },
  {
   "cell_type": "code",
   "execution_count": 847,
   "metadata": {},
   "outputs": [
    {
     "data": {
      "text/html": [
       "<div>\n",
       "<style scoped>\n",
       "    .dataframe tbody tr th:only-of-type {\n",
       "        vertical-align: middle;\n",
       "    }\n",
       "\n",
       "    .dataframe tbody tr th {\n",
       "        vertical-align: top;\n",
       "    }\n",
       "\n",
       "    .dataframe thead th {\n",
       "        text-align: right;\n",
       "    }\n",
       "</style>\n",
       "<table border=\"1\" class=\"dataframe\">\n",
       "  <thead>\n",
       "    <tr style=\"text-align: right;\">\n",
       "      <th></th>\n",
       "      <th>_id</th>\n",
       "      <th>match_id</th>\n",
       "      <th>team1</th>\n",
       "      <th>team2</th>\n",
       "      <th>start_time</th>\n",
       "      <th>map</th>\n",
       "      <th>parties</th>\n",
       "      <th>winner</th>\n",
       "      <th>scoreboard</th>\n",
       "      <th>previous_five</th>\n",
       "      <th>map_categorized</th>\n",
       "      <th>map_numeric</th>\n",
       "      <th>players_ids_team1</th>\n",
       "      <th>players_ids_team2</th>\n",
       "      <th>players_ids_all</th>\n",
       "      <th>any_player_banned</th>\n",
       "      <th>timestamp</th>\n",
       "      <th>team1_matches_on_map</th>\n",
       "      <th>team2_matches_on_map</th>\n",
       "    </tr>\n",
       "  </thead>\n",
       "  <tbody>\n",
       "    <tr>\n",
       "      <th>0</th>\n",
       "      <td>5defd34c44fe901565fe77f3</td>\n",
       "      <td>1-427cfc7e-579a-4d9f-8fbc-f31066d85992</td>\n",
       "      <td>[{'id': '7565eb27-bb23-404e-b89b-f96e3c1c9971'...</td>\n",
       "      <td>[{'id': '46cf4dd5-6135-492b-b076-77701702dadb'...</td>\n",
       "      <td>2019-10-21T02:41:24Z</td>\n",
       "      <td>de_train</td>\n",
       "      <td>{'465e9445-9507-4087-810d-7a61dceeaed9': ['46c...</td>\n",
       "      <td>faction2</td>\n",
       "      <td>[{'player_id': '7565eb27-bb23-404e-b89b-f96e3c...</td>\n",
       "      <td>NaN</td>\n",
       "      <td>de_train</td>\n",
       "      <td>6</td>\n",
       "      <td>[7565eb27-bb23-404e-b89b-f96e3c1c9971, 7b2fc67...</td>\n",
       "      <td>[46cf4dd5-6135-492b-b076-77701702dadb, 7529912...</td>\n",
       "      <td>[7565eb27-bb23-404e-b89b-f96e3c1c9971, 7b2fc67...</td>\n",
       "      <td>0</td>\n",
       "      <td>2019-10-21 02:41:24</td>\n",
       "      <td>516</td>\n",
       "      <td>692</td>\n",
       "    </tr>\n",
       "    <tr>\n",
       "      <th>1</th>\n",
       "      <td>5defd34f44fe901565fe77fa</td>\n",
       "      <td>1-ebdbc6ae-3509-4d16-8e3a-21f4843fe76b</td>\n",
       "      <td>[{'id': '548b90d6-d081-4461-b157-5efdaef032b2'...</td>\n",
       "      <td>[{'id': '72b7dc0b-d3c4-4935-afcd-d383c2770e94'...</td>\n",
       "      <td>2019-10-21T01:35:53Z</td>\n",
       "      <td>de_train</td>\n",
       "      <td>{'17973219-7e53-4ea7-8382-171df8bef43a': ['548...</td>\n",
       "      <td>faction2</td>\n",
       "      <td>[{'player_id': '548b90d6-d081-4461-b157-5efdae...</td>\n",
       "      <td>NaN</td>\n",
       "      <td>de_train</td>\n",
       "      <td>6</td>\n",
       "      <td>[548b90d6-d081-4461-b157-5efdaef032b2, bf500b8...</td>\n",
       "      <td>[72b7dc0b-d3c4-4935-afcd-d383c2770e94, 7529912...</td>\n",
       "      <td>[548b90d6-d081-4461-b157-5efdaef032b2, bf500b8...</td>\n",
       "      <td>0</td>\n",
       "      <td>2019-10-21 01:35:53</td>\n",
       "      <td>163</td>\n",
       "      <td>681</td>\n",
       "    </tr>\n",
       "    <tr>\n",
       "      <th>2</th>\n",
       "      <td>5defd35044fe901565fe77fd</td>\n",
       "      <td>1-fb3266e6-a519-483f-83bd-5d3a80fc4447</td>\n",
       "      <td>[{'id': '06704697-900f-44ed-8f59-335a3cfce489'...</td>\n",
       "      <td>[{'id': '72b7dc0b-d3c4-4935-afcd-d383c2770e94'...</td>\n",
       "      <td>2019-10-21T00:57:55Z</td>\n",
       "      <td>de_inferno</td>\n",
       "      <td>{'465e9445-9507-4087-810d-7a61dceeaed9': ['72b...</td>\n",
       "      <td>faction2</td>\n",
       "      <td>[{'player_id': '06704697-900f-44ed-8f59-335a3c...</td>\n",
       "      <td>NaN</td>\n",
       "      <td>de_inferno</td>\n",
       "      <td>2</td>\n",
       "      <td>[06704697-900f-44ed-8f59-335a3cfce489, 6d52239...</td>\n",
       "      <td>[72b7dc0b-d3c4-4935-afcd-d383c2770e94, 7529912...</td>\n",
       "      <td>[06704697-900f-44ed-8f59-335a3cfce489, 6d52239...</td>\n",
       "      <td>0</td>\n",
       "      <td>2019-10-21 00:57:55</td>\n",
       "      <td>387</td>\n",
       "      <td>1298</td>\n",
       "    </tr>\n",
       "    <tr>\n",
       "      <th>3</th>\n",
       "      <td>5defd35244fe901565fe7804</td>\n",
       "      <td>1-326d57d7-e5bc-427f-a1d7-c113eec6db65</td>\n",
       "      <td>[{'id': '75299121-de1b-4877-90c2-14445d80da34'...</td>\n",
       "      <td>[{'id': '00c5d9f2-3b39-4128-b011-c99cc8c0eaa7'...</td>\n",
       "      <td>2019-10-20T03:27:53Z</td>\n",
       "      <td>de_mirage</td>\n",
       "      <td>{'24638a22-5f50-4d37-9048-ceb4078c0d05': ['752...</td>\n",
       "      <td>faction2</td>\n",
       "      <td>[{'player_id': '75299121-de1b-4877-90c2-14445d...</td>\n",
       "      <td>NaN</td>\n",
       "      <td>de_mirage</td>\n",
       "      <td>3</td>\n",
       "      <td>[75299121-de1b-4877-90c2-14445d80da34, 9108aeb...</td>\n",
       "      <td>[00c5d9f2-3b39-4128-b011-c99cc8c0eaa7, 0774758...</td>\n",
       "      <td>[75299121-de1b-4877-90c2-14445d80da34, 9108aeb...</td>\n",
       "      <td>0</td>\n",
       "      <td>2019-10-20 03:27:53</td>\n",
       "      <td>2411</td>\n",
       "      <td>4212</td>\n",
       "    </tr>\n",
       "    <tr>\n",
       "      <th>4</th>\n",
       "      <td>5defd35544fe901565fe780e</td>\n",
       "      <td>1-8c3461f9-e2b7-40d9-a3cd-2da4989ffd24</td>\n",
       "      <td>[{'id': '03d8c8a0-8aac-437f-aeeb-912653816033'...</td>\n",
       "      <td>[{'id': '1602f9f7-0211-45f7-b750-57e6bcd6c380'...</td>\n",
       "      <td>2019-10-19T00:58:21Z</td>\n",
       "      <td>de_mirage</td>\n",
       "      <td>{'369597f7-32a9-427e-a4bd-b7754386fc2e': ['2bd...</td>\n",
       "      <td>faction1</td>\n",
       "      <td>[{'player_id': '03d8c8a0-8aac-437f-aeeb-912653...</td>\n",
       "      <td>NaN</td>\n",
       "      <td>de_mirage</td>\n",
       "      <td>3</td>\n",
       "      <td>[03d8c8a0-8aac-437f-aeeb-912653816033, 2382c17...</td>\n",
       "      <td>[1602f9f7-0211-45f7-b750-57e6bcd6c380, 2c4a0f2...</td>\n",
       "      <td>[03d8c8a0-8aac-437f-aeeb-912653816033, 2382c17...</td>\n",
       "      <td>0</td>\n",
       "      <td>2019-10-19 00:58:21</td>\n",
       "      <td>2870</td>\n",
       "      <td>3602</td>\n",
       "    </tr>\n",
       "  </tbody>\n",
       "</table>\n",
       "</div>"
      ],
      "text/plain": [
       "                        _id                                match_id  \\\n",
       "0  5defd34c44fe901565fe77f3  1-427cfc7e-579a-4d9f-8fbc-f31066d85992   \n",
       "1  5defd34f44fe901565fe77fa  1-ebdbc6ae-3509-4d16-8e3a-21f4843fe76b   \n",
       "2  5defd35044fe901565fe77fd  1-fb3266e6-a519-483f-83bd-5d3a80fc4447   \n",
       "3  5defd35244fe901565fe7804  1-326d57d7-e5bc-427f-a1d7-c113eec6db65   \n",
       "4  5defd35544fe901565fe780e  1-8c3461f9-e2b7-40d9-a3cd-2da4989ffd24   \n",
       "\n",
       "                                               team1  \\\n",
       "0  [{'id': '7565eb27-bb23-404e-b89b-f96e3c1c9971'...   \n",
       "1  [{'id': '548b90d6-d081-4461-b157-5efdaef032b2'...   \n",
       "2  [{'id': '06704697-900f-44ed-8f59-335a3cfce489'...   \n",
       "3  [{'id': '75299121-de1b-4877-90c2-14445d80da34'...   \n",
       "4  [{'id': '03d8c8a0-8aac-437f-aeeb-912653816033'...   \n",
       "\n",
       "                                               team2            start_time  \\\n",
       "0  [{'id': '46cf4dd5-6135-492b-b076-77701702dadb'...  2019-10-21T02:41:24Z   \n",
       "1  [{'id': '72b7dc0b-d3c4-4935-afcd-d383c2770e94'...  2019-10-21T01:35:53Z   \n",
       "2  [{'id': '72b7dc0b-d3c4-4935-afcd-d383c2770e94'...  2019-10-21T00:57:55Z   \n",
       "3  [{'id': '00c5d9f2-3b39-4128-b011-c99cc8c0eaa7'...  2019-10-20T03:27:53Z   \n",
       "4  [{'id': '1602f9f7-0211-45f7-b750-57e6bcd6c380'...  2019-10-19T00:58:21Z   \n",
       "\n",
       "          map                                            parties    winner  \\\n",
       "0    de_train  {'465e9445-9507-4087-810d-7a61dceeaed9': ['46c...  faction2   \n",
       "1    de_train  {'17973219-7e53-4ea7-8382-171df8bef43a': ['548...  faction2   \n",
       "2  de_inferno  {'465e9445-9507-4087-810d-7a61dceeaed9': ['72b...  faction2   \n",
       "3   de_mirage  {'24638a22-5f50-4d37-9048-ceb4078c0d05': ['752...  faction2   \n",
       "4   de_mirage  {'369597f7-32a9-427e-a4bd-b7754386fc2e': ['2bd...  faction1   \n",
       "\n",
       "                                          scoreboard previous_five  \\\n",
       "0  [{'player_id': '7565eb27-bb23-404e-b89b-f96e3c...           NaN   \n",
       "1  [{'player_id': '548b90d6-d081-4461-b157-5efdae...           NaN   \n",
       "2  [{'player_id': '06704697-900f-44ed-8f59-335a3c...           NaN   \n",
       "3  [{'player_id': '75299121-de1b-4877-90c2-14445d...           NaN   \n",
       "4  [{'player_id': '03d8c8a0-8aac-437f-aeeb-912653...           NaN   \n",
       "\n",
       "  map_categorized  map_numeric  \\\n",
       "0        de_train            6   \n",
       "1        de_train            6   \n",
       "2      de_inferno            2   \n",
       "3       de_mirage            3   \n",
       "4       de_mirage            3   \n",
       "\n",
       "                                   players_ids_team1  \\\n",
       "0  [7565eb27-bb23-404e-b89b-f96e3c1c9971, 7b2fc67...   \n",
       "1  [548b90d6-d081-4461-b157-5efdaef032b2, bf500b8...   \n",
       "2  [06704697-900f-44ed-8f59-335a3cfce489, 6d52239...   \n",
       "3  [75299121-de1b-4877-90c2-14445d80da34, 9108aeb...   \n",
       "4  [03d8c8a0-8aac-437f-aeeb-912653816033, 2382c17...   \n",
       "\n",
       "                                   players_ids_team2  \\\n",
       "0  [46cf4dd5-6135-492b-b076-77701702dadb, 7529912...   \n",
       "1  [72b7dc0b-d3c4-4935-afcd-d383c2770e94, 7529912...   \n",
       "2  [72b7dc0b-d3c4-4935-afcd-d383c2770e94, 7529912...   \n",
       "3  [00c5d9f2-3b39-4128-b011-c99cc8c0eaa7, 0774758...   \n",
       "4  [1602f9f7-0211-45f7-b750-57e6bcd6c380, 2c4a0f2...   \n",
       "\n",
       "                                     players_ids_all  any_player_banned  \\\n",
       "0  [7565eb27-bb23-404e-b89b-f96e3c1c9971, 7b2fc67...                  0   \n",
       "1  [548b90d6-d081-4461-b157-5efdaef032b2, bf500b8...                  0   \n",
       "2  [06704697-900f-44ed-8f59-335a3cfce489, 6d52239...                  0   \n",
       "3  [75299121-de1b-4877-90c2-14445d80da34, 9108aeb...                  0   \n",
       "4  [03d8c8a0-8aac-437f-aeeb-912653816033, 2382c17...                  0   \n",
       "\n",
       "            timestamp  team1_matches_on_map  team2_matches_on_map  \n",
       "0 2019-10-21 02:41:24                   516                   692  \n",
       "1 2019-10-21 01:35:53                   163                   681  \n",
       "2 2019-10-21 00:57:55                   387                  1298  \n",
       "3 2019-10-20 03:27:53                  2411                  4212  \n",
       "4 2019-10-19 00:58:21                  2870                  3602  "
      ]
     },
     "execution_count": 847,
     "metadata": {},
     "output_type": "execute_result"
    }
   ],
   "source": [
    "data.head()"
   ]
  },
  {
   "cell_type": "code",
   "execution_count": 848,
   "metadata": {},
   "outputs": [],
   "source": [
    "data['team1_weighted_wr_on_map'] = data.apply(lambda row: weighted_winrate_on_map(row, \"team1\"), axis=1)\n",
    "data['team2_weighted_wr_on_map'] = data.apply(lambda row: weighted_winrate_on_map(row, \"team2\"), axis=1)"
   ]
  },
  {
   "cell_type": "code",
   "execution_count": 289,
   "metadata": {},
   "outputs": [],
   "source": [
    "def weighted_kd_on_map(row, team):\n",
    "    map_played = row['map']\n",
    "    matches, kds = [], []\n",
    "    team_data = row[team]\n",
    "    \n",
    "    ids=[]\n",
    "    for player in row[team]:\n",
    "        ids.append(player['id'])\n",
    "    players_mapstats = data_players.loc[data_players['player_id'].isin(ids), 'map_stats']\n",
    "    \n",
    "    \n",
    "    for pms in players_mapstats:\n",
    "        for comp_map in pms:\n",
    "            if comp_map['map_name'] == map_played:\n",
    "                matches.append(int(comp_map['matches']))\n",
    "                kds.append(float(comp_map['avg_kd']))\n",
    "    total_matches = sum(matches)\n",
    "    weighted_kd_rate = 0\n",
    "    \n",
    "    for i in range(len(kds)):\n",
    "        weighted_kd_rate += matches[i]/total_matches * kds[i]\n",
    "    return weighted_kd_rate"
   ]
  },
  {
   "cell_type": "code",
   "execution_count": 849,
   "metadata": {},
   "outputs": [],
   "source": [
    "data['team1_weighted_kd_on_map'] = data.apply(lambda row: weighted_kd_on_map(row, \"team1\"), axis=1)\n",
    "data['team2_weighted_kd_on_map'] = data.apply(lambda row: weighted_kd_on_map(row, \"team2\"), axis=1)"
   ]
  },
  {
   "cell_type": "code",
   "execution_count": 291,
   "metadata": {},
   "outputs": [],
   "source": [
    "def mean_elo(row, team):\n",
    "    data_team = row[team]\n",
    "    elos = []\n",
    "    for player in data_team:\n",
    "        elos.append(player['elo'])\n",
    "    return mean(elos)"
   ]
  },
  {
   "cell_type": "code",
   "execution_count": 850,
   "metadata": {},
   "outputs": [],
   "source": [
    "data['elo_team1'] = data.apply(lambda row: mean_elo(row, \"team1\"), axis=1)\n",
    "data['elo_team2'] = data.apply(lambda row: mean_elo(row, \"team2\"), axis=1)"
   ]
  },
  {
   "cell_type": "code",
   "execution_count": 293,
   "metadata": {},
   "outputs": [],
   "source": [
    "def non_free_memberships(row, team):\n",
    "    memberships=0\n",
    "    for player in row[team]:\n",
    "        membship = player['membership']\n",
    "        if membship != ['free']:\n",
    "            memberships +=1\n",
    "    return memberships"
   ]
  },
  {
   "cell_type": "code",
   "execution_count": 851,
   "metadata": {},
   "outputs": [],
   "source": [
    "data['memberships_team1'] = data.apply(lambda row: non_free_memberships(row, 'team1'), axis=1)\n",
    "data['memberships_team2'] = data.apply(lambda row: non_free_memberships(row, 'team2'), axis=1)"
   ]
  },
  {
   "cell_type": "code",
   "execution_count": 295,
   "metadata": {},
   "outputs": [],
   "source": [
    "def num_solo_players(row, team):\n",
    "    ids_team = get_players_id(row, team)\n",
    "    num_solo_players = 0\n",
    "    if row['parties'] == []:\n",
    "        return 0\n",
    "    for keys,values in row[\"parties\"].items():\n",
    "        first_player_team = values[0]\n",
    "        if first_player_team in ids_team:\n",
    "            if len(values) == 1:\n",
    "                num_solo_players +=1\n",
    "    return num_solo_players"
   ]
  },
  {
   "cell_type": "code",
   "execution_count": 852,
   "metadata": {},
   "outputs": [],
   "source": [
    "data['solo_players1'] = data.apply(lambda row: num_solo_players(row, \"team1\"), axis=1)\n",
    "data['solo_players2'] = data.apply(lambda row: num_solo_players(row, \"team2\"), axis=1)"
   ]
  },
  {
   "cell_type": "code",
   "execution_count": 1298,
   "metadata": {},
   "outputs": [
    {
     "data": {
      "text/plain": [
       "{'465e9445-9507-4087-810d-7a61dceeaed9': ['46cf4dd5-6135-492b-b076-77701702dadb',\n",
       "  '75299121-de1b-4877-90c2-14445d80da34',\n",
       "  '9108aeb7-b586-4308-a00d-1f0f3ec4a3bd',\n",
       "  'b2676472-68cb-4600-864a-2fc9f5a2a962',\n",
       "  'dbe8b41f-e16e-4c42-ba15-c80089f4836c'],\n",
       " '58c5388f-5d5f-4d4b-af8d-76c7dc871d6b': ['58c5388f-5d5f-4d4b-af8d-76c7dc871d6b'],\n",
       " 'fa1015eb-279d-40a1-b628-9252e747add6': ['03cedfb6-bb14-4839-a06d-d85f9240d9bd',\n",
       "  'ce65e3ca-aadb-4443-9029-0f3f538651ed'],\n",
       " 'fb990e39-687a-4f82-b87e-5af456b19c19': ['7565eb27-bb23-404e-b89b-f96e3c1c9971',\n",
       "  '7b2fc67e-cf9e-42f9-ac3d-37e27a1f0afa']}"
      ]
     },
     "execution_count": 1298,
     "metadata": {},
     "output_type": "execute_result"
    }
   ],
   "source": [
    "data.iloc[0]['parties']"
   ]
  },
  {
   "cell_type": "code",
   "execution_count": null,
   "metadata": {},
   "outputs": [],
   "source": [
    "def num_parties(row, team):\n",
    "    ids_team = get_players_id(row, team)\n",
    "    num_parties = 0\n",
    "#     if row['parties'] == []:\n",
    "#         return 1\n",
    "    for keys,values in row[\"parties\"].items():\n",
    "        result =  all(player in x  for player in values)\n",
    "    return num_parties"
   ]
  },
  {
   "cell_type": "code",
   "execution_count": 297,
   "metadata": {},
   "outputs": [],
   "source": [
    "def count_matches_party(data, party):\n",
    "    searched_playerid = set(party)\n",
    "    isplayer = searched_playerid.issubset\n",
    "\n",
    "    matches_party = 0\n",
    "    for index, row in data.iterrows():\n",
    "        if row['parties'] == []:\n",
    "            continue\n",
    "        for keys,values in row[\"parties\"].items():\n",
    "            if isplayer(values):\n",
    "                matches_party += 1\n",
    "    return matches_party\n",
    "        "
   ]
  },
  {
   "cell_type": "code",
   "execution_count": 309,
   "metadata": {},
   "outputs": [],
   "source": [
    "def count_all_parties_match(row, team):\n",
    "    team_ids = 'players_ids_team1' if team=='team1' else 'players_ids_team2'\n",
    "    matches_all_parties = 0\n",
    "    if row['parties'] == []:\n",
    "        return 0\n",
    "    for keys,values in row[\"parties\"].items():\n",
    "        if len(values) == 1:\n",
    "            continue\n",
    "        first_player_team = values[0]\n",
    "        if first_player_team in row[team_ids]:\n",
    "            matches_all_parties = matches_all_parties + count_matches_party(data, values)*len(values)\n",
    "    return matches_all_parties"
   ]
  },
  {
   "cell_type": "code",
   "execution_count": 853,
   "metadata": {},
   "outputs": [
    {
     "name": "stderr",
     "output_type": "stream",
     "text": [
      "\n",
      "KeyboardInterrupt\n",
      "\n"
     ]
    }
   ],
   "source": [
    "data['matches_all_parties1'] = data.apply(lambda row: count_all_parties_match(row, \"team1\"), axis=1)\n",
    "data['matches_all_parties2'] = data.apply(lambda row: count_all_parties_match(row, \"team2\"), axis=1)"
   ]
  },
  {
   "cell_type": "code",
   "execution_count": 1109,
   "metadata": {},
   "outputs": [],
   "source": [
    "def get_current_team_winstreak(row, team):\n",
    "    formatted_team = 'players_ids_team1' if team=='team1' else 'players_ids_team2'\n",
    "    wins_last_five_matches = 0\n",
    "    start_time = row['timestamp']\n",
    "    for player in row[formatted_team]:\n",
    "        last_matches = data_stored[[player in x for x in data_stored['players_ids_all']]]\n",
    "        last_matches = last_matches[last_matches['timestamp'] <start_time]\n",
    "        last_matches = last_matches.sort_values(by=['timestamp'], ascending=False).head(5)\n",
    "        for _,previous_match in last_matches.iterrows():\n",
    "            if player in previous_match['players_ids_team1']:\n",
    "                if previous_match['winner'] == 'faction1':\n",
    "                    wins_last_five_matches +=1\n",
    "            if player in previous_match['players_ids_team2']:\n",
    "                if previous_match['winner'] == 'faction2':\n",
    "                    wins_last_five_matches +=1\n",
    "    \n",
    "    return wins_last_five_matches\n",
    "\n",
    "\n",
    "def get_current_team_winstreak2(row, team):\n",
    "    formatted_team = 'players_ids_team1' if team=='team1' else 'players_ids_team2'\n",
    "    wins_last_five_matches = 0\n",
    "    start_time = row['timestamp']\n",
    "    last_matches = data_stored[data_stored['timestamp'] <start_time]\n",
    "    for player in row[formatted_team]:\n",
    "        counter = 0\n",
    "        last_matches_specific = last_matches[[player in x for x in last_matches['players_ids_all']]]\n",
    "        for _,previous_match in last_matches_specific.iterrows():\n",
    "            if player in previous_match['players_ids_team1']:\n",
    "                counter +=1\n",
    "                if previous_match['winner'] == 'faction1':\n",
    "                    wins_last_five_matches +=1\n",
    "            if player in previous_match['players_ids_team2']:\n",
    "                counter +=1\n",
    "                if previous_match['winner'] == 'faction2':\n",
    "                    wins_last_five_matches +=1\n",
    "            if counter == 5:\n",
    "                break\n",
    "    \n",
    "    return wins_last_five_matches\n",
    "\n",
    "def get_current_team_winstreak3(row, team):\n",
    "    formatted_team = 'players_ids_team1' if team=='team1' else 'players_ids_team2'\n",
    "    wins_last_five_matches = 0\n",
    "    start_time = row['timestamp']\n",
    "    one_week_before = start_time - datetime.timedelta(days=7)\n",
    "    last_matches = data_stored[(data_stored['timestamp'] <start_time) & (data_stored['timestamp']>=one_week_before)]\n",
    "    for player in row[formatted_team]:\n",
    "        last_matches_specific = last_matches[[player in x for x in last_matches['players_ids_all']]]\n",
    "        if last_matches_specific.empty:\n",
    "            continue\n",
    "        only_lm = last_matches_specific[['players_ids_team1', 'players_ids_team2', 'winner']].head(5)\n",
    "        player_isin_team1 = only_lm[[player in x for x in only_lm['players_ids_team1']]]\n",
    "        player_isin_team2 = only_lm[[player in x for x in only_lm['players_ids_team2']]]\n",
    "        wins_last_five_matches += len(player_isin_team1[player_isin_team1['winner']=='faction1']) \n",
    "        wins_last_five_matches += len(player_isin_team2[player_isin_team2['winner']=='faction2'])\n",
    "        \n",
    "        #get past 5 matches in the past 7 days and compute avg win_rate, avg_kd weighted by the number of matches\n",
    "    return wins_last_five_matches"
   ]
  },
  {
   "cell_type": "code",
   "execution_count": 440,
   "metadata": {},
   "outputs": [
    {
     "name": "stdout",
     "output_type": "stream",
     "text": [
      "59\n"
     ]
    }
   ],
   "source": [
    "wins = get_current_team_winstreak(data.iloc[0], 'team1')\n",
    "print(wins)\n",
    "#REMove matches where player data is not available( profile not found)"
   ]
  },
  {
   "cell_type": "code",
   "execution_count": 1025,
   "metadata": {},
   "outputs": [
    {
     "data": {
      "text/html": [
       "<div>\n",
       "<style scoped>\n",
       "    .dataframe tbody tr th:only-of-type {\n",
       "        vertical-align: middle;\n",
       "    }\n",
       "\n",
       "    .dataframe tbody tr th {\n",
       "        vertical-align: top;\n",
       "    }\n",
       "\n",
       "    .dataframe thead th {\n",
       "        text-align: right;\n",
       "    }\n",
       "</style>\n",
       "<table border=\"1\" class=\"dataframe\">\n",
       "  <thead>\n",
       "    <tr style=\"text-align: right;\">\n",
       "      <th></th>\n",
       "      <th>_id</th>\n",
       "      <th>match_id</th>\n",
       "      <th>team1</th>\n",
       "      <th>team2</th>\n",
       "      <th>start_time</th>\n",
       "      <th>map</th>\n",
       "      <th>parties</th>\n",
       "      <th>winner</th>\n",
       "      <th>scoreboard</th>\n",
       "      <th>previous_five</th>\n",
       "      <th>timestamp</th>\n",
       "      <th>players_ids_team1</th>\n",
       "      <th>players_ids_team2</th>\n",
       "      <th>players_ids_all</th>\n",
       "      <th>winstreak_last5_team1</th>\n",
       "      <th>winstreak_last5_team1_2</th>\n",
       "    </tr>\n",
       "  </thead>\n",
       "  <tbody>\n",
       "    <tr>\n",
       "      <th>36</th>\n",
       "      <td>5defd3b744fe901565fe78fb</td>\n",
       "      <td>1-b19acbf2-86d6-481b-b882-1c3197430a1d</td>\n",
       "      <td>[{'id': '9caaa547-ed13-498f-afb5-f16515dd7dfb'...</td>\n",
       "      <td>[{'id': '02b0b64c-911e-4ca9-9c80-36649924bbb5'...</td>\n",
       "      <td>2019-08-15T04:08:05Z</td>\n",
       "      <td>de_mirage</td>\n",
       "      <td>{'02b0b64c-911e-4ca9-9c80-36649924bbb5': ['02b...</td>\n",
       "      <td>faction2</td>\n",
       "      <td>[{'player_id': '9caaa547-ed13-498f-afb5-f16515...</td>\n",
       "      <td>ok</td>\n",
       "      <td>2019-08-15 04:08:05</td>\n",
       "      <td>[9caaa547-ed13-498f-afb5-f16515dd7dfb, a0be3d1...</td>\n",
       "      <td>[02b0b64c-911e-4ca9-9c80-36649924bbb5, 6ff2d57...</td>\n",
       "      <td>[9caaa547-ed13-498f-afb5-f16515dd7dfb, a0be3d1...</td>\n",
       "      <td>2</td>\n",
       "      <td>2</td>\n",
       "    </tr>\n",
       "  </tbody>\n",
       "</table>\n",
       "</div>"
      ],
      "text/plain": [
       "                         _id                                match_id  \\\n",
       "36  5defd3b744fe901565fe78fb  1-b19acbf2-86d6-481b-b882-1c3197430a1d   \n",
       "\n",
       "                                                team1  \\\n",
       "36  [{'id': '9caaa547-ed13-498f-afb5-f16515dd7dfb'...   \n",
       "\n",
       "                                                team2            start_time  \\\n",
       "36  [{'id': '02b0b64c-911e-4ca9-9c80-36649924bbb5'...  2019-08-15T04:08:05Z   \n",
       "\n",
       "          map                                            parties    winner  \\\n",
       "36  de_mirage  {'02b0b64c-911e-4ca9-9c80-36649924bbb5': ['02b...  faction2   \n",
       "\n",
       "                                           scoreboard previous_five  \\\n",
       "36  [{'player_id': '9caaa547-ed13-498f-afb5-f16515...            ok   \n",
       "\n",
       "             timestamp                                  players_ids_team1  \\\n",
       "36 2019-08-15 04:08:05  [9caaa547-ed13-498f-afb5-f16515dd7dfb, a0be3d1...   \n",
       "\n",
       "                                    players_ids_team2  \\\n",
       "36  [02b0b64c-911e-4ca9-9c80-36649924bbb5, 6ff2d57...   \n",
       "\n",
       "                                      players_ids_all  winstreak_last5_team1  \\\n",
       "36  [9caaa547-ed13-498f-afb5-f16515dd7dfb, a0be3d1...                      2   \n",
       "\n",
       "    winstreak_last5_team1_2  \n",
       "36                        2  "
      ]
     },
     "execution_count": 1025,
     "metadata": {},
     "output_type": "execute_result"
    }
   ],
   "source": [
    "data[['9caaa547-ed13-498f-afb5-f16515dd7dfb' in x for x in data['players_ids_all']]]"
   ]
  },
  {
   "cell_type": "code",
   "execution_count": 1040,
   "metadata": {},
   "outputs": [
    {
     "data": {
      "text/html": [
       "<div>\n",
       "<style scoped>\n",
       "    .dataframe tbody tr th:only-of-type {\n",
       "        vertical-align: middle;\n",
       "    }\n",
       "\n",
       "    .dataframe tbody tr th {\n",
       "        vertical-align: top;\n",
       "    }\n",
       "\n",
       "    .dataframe thead th {\n",
       "        text-align: right;\n",
       "    }\n",
       "</style>\n",
       "<table border=\"1\" class=\"dataframe\">\n",
       "  <thead>\n",
       "    <tr style=\"text-align: right;\">\n",
       "      <th></th>\n",
       "      <th>_id</th>\n",
       "      <th>match_id</th>\n",
       "      <th>team1</th>\n",
       "      <th>team2</th>\n",
       "      <th>start_time</th>\n",
       "      <th>map</th>\n",
       "      <th>parties</th>\n",
       "      <th>winner</th>\n",
       "      <th>scoreboard</th>\n",
       "      <th>previous_five</th>\n",
       "      <th>timestamp</th>\n",
       "      <th>players_ids_team1</th>\n",
       "      <th>players_ids_team2</th>\n",
       "      <th>players_ids_all</th>\n",
       "    </tr>\n",
       "  </thead>\n",
       "  <tbody>\n",
       "    <tr>\n",
       "      <th>44973</th>\n",
       "      <td>5df446b1c82e39310479f1eb</td>\n",
       "      <td>1-84b682af-aae9-4bd7-b90f-836621a446c3</td>\n",
       "      <td>[{'id': '2ee167ac-2250-452a-b055-61b9e131f956'...</td>\n",
       "      <td>[{'id': '06665368-24d2-459d-8ac0-eef55be93c5c'...</td>\n",
       "      <td>2019-12-14T01:48:50Z</td>\n",
       "      <td>[de_train]</td>\n",
       "      <td>{'06665368-24d2-459d-8ac0-eef55be93c5c': ['066...</td>\n",
       "      <td>faction2</td>\n",
       "      <td>[{'player_id': '2ee167ac-2250-452a-b055-61b9e1...</td>\n",
       "      <td>NaN</td>\n",
       "      <td>2019-12-14 01:48:50</td>\n",
       "      <td>[2ee167ac-2250-452a-b055-61b9e131f956, eb7661e...</td>\n",
       "      <td>[06665368-24d2-459d-8ac0-eef55be93c5c, 5100b02...</td>\n",
       "      <td>[2ee167ac-2250-452a-b055-61b9e131f956, eb7661e...</td>\n",
       "    </tr>\n",
       "    <tr>\n",
       "      <th>44934</th>\n",
       "      <td>5df4462bc82e39310479f198</td>\n",
       "      <td>1-ff3bacd2-cf6b-497d-8fde-f69b40f40528</td>\n",
       "      <td>[{'id': 'd5cbfff0-86c8-4ea4-9a55-c70870a242f0'...</td>\n",
       "      <td>[{'id': 'c379a382-e6ac-41e1-b824-5ae1824a30ad'...</td>\n",
       "      <td>2019-12-14T01:37:05Z</td>\n",
       "      <td>[de_inferno]</td>\n",
       "      <td>{'06677932-1b17-4d4e-84bd-878fa4a66b31': ['b62...</td>\n",
       "      <td>faction1</td>\n",
       "      <td>[{'player_id': 'd5cbfff0-86c8-4ea4-9a55-c70870...</td>\n",
       "      <td>NaN</td>\n",
       "      <td>2019-12-14 01:37:05</td>\n",
       "      <td>[d5cbfff0-86c8-4ea4-9a55-c70870a242f0, d62fd7f...</td>\n",
       "      <td>[c379a382-e6ac-41e1-b824-5ae1824a30ad, e1203d1...</td>\n",
       "      <td>[d5cbfff0-86c8-4ea4-9a55-c70870a242f0, d62fd7f...</td>\n",
       "    </tr>\n",
       "    <tr>\n",
       "      <th>45081</th>\n",
       "      <td>5df44985c82e39310479f32d</td>\n",
       "      <td>1-9c45d12f-afcf-4f5d-aef5-4036e7381300</td>\n",
       "      <td>[{'id': '2b4ae101-8347-4db0-8782-37c27f25c61c'...</td>\n",
       "      <td>[{'id': '18cdd6be-83f4-4ca1-90e1-38a11b4c3952'...</td>\n",
       "      <td>2019-12-14T01:15:43Z</td>\n",
       "      <td>[de_mirage]</td>\n",
       "      <td>{'2ade238c-1202-4dd9-b696-7eab79665851': ['18c...</td>\n",
       "      <td>faction1</td>\n",
       "      <td>[{'player_id': '2b4ae101-8347-4db0-8782-37c27f...</td>\n",
       "      <td>NaN</td>\n",
       "      <td>2019-12-14 01:15:43</td>\n",
       "      <td>[2b4ae101-8347-4db0-8782-37c27f25c61c, 6ca00f4...</td>\n",
       "      <td>[18cdd6be-83f4-4ca1-90e1-38a11b4c3952, 22f74d7...</td>\n",
       "      <td>[2b4ae101-8347-4db0-8782-37c27f25c61c, 6ca00f4...</td>\n",
       "    </tr>\n",
       "    <tr>\n",
       "      <th>44915</th>\n",
       "      <td>5df445e7c82e39310479f169</td>\n",
       "      <td>1-e9bfacfd-4da2-4131-bc53-350ef2a03272</td>\n",
       "      <td>[{'id': '7637435d-8ee3-482e-bc77-0c5279308971'...</td>\n",
       "      <td>[{'id': '9e7320b6-8d2e-46b7-8ffb-96abcfbbfc18'...</td>\n",
       "      <td>2019-12-14T01:01:43Z</td>\n",
       "      <td>[]</td>\n",
       "      <td>{'7637435d-8ee3-482e-bc77-0c5279308971': ['763...</td>\n",
       "      <td>faction2</td>\n",
       "      <td>[{'player_id': '7637435d-8ee3-482e-bc77-0c5279...</td>\n",
       "      <td>NaN</td>\n",
       "      <td>2019-12-14 01:01:43</td>\n",
       "      <td>[7637435d-8ee3-482e-bc77-0c5279308971]</td>\n",
       "      <td>[9e7320b6-8d2e-46b7-8ffb-96abcfbbfc18]</td>\n",
       "      <td>[7637435d-8ee3-482e-bc77-0c5279308971, 9e7320b...</td>\n",
       "    </tr>\n",
       "    <tr>\n",
       "      <th>44689</th>\n",
       "      <td>5df440fec82e39310479edc2</td>\n",
       "      <td>1-a36be726-b912-438a-9b2e-4f2d42a82ec1</td>\n",
       "      <td>[{'id': '1faac095-8d91-4a3e-8eda-f832f367d9c5'...</td>\n",
       "      <td>[{'id': '911599e4-6056-440e-b7e2-c9948a9370ab'...</td>\n",
       "      <td>2019-12-14T01:01:42Z</td>\n",
       "      <td>[de_mirage]</td>\n",
       "      <td>{'2aca4b2f-b9b8-47ac-82bb-d7ea24966466': ['1fa...</td>\n",
       "      <td>faction1</td>\n",
       "      <td>[{'player_id': '1faac095-8d91-4a3e-8eda-f832f3...</td>\n",
       "      <td>NaN</td>\n",
       "      <td>2019-12-14 01:01:42</td>\n",
       "      <td>[1faac095-8d91-4a3e-8eda-f832f367d9c5, 4bdf384...</td>\n",
       "      <td>[911599e4-6056-440e-b7e2-c9948a9370ab, 9c37745...</td>\n",
       "      <td>[1faac095-8d91-4a3e-8eda-f832f367d9c5, 4bdf384...</td>\n",
       "    </tr>\n",
       "  </tbody>\n",
       "</table>\n",
       "</div>"
      ],
      "text/plain": [
       "                            _id                                match_id  \\\n",
       "44973  5df446b1c82e39310479f1eb  1-84b682af-aae9-4bd7-b90f-836621a446c3   \n",
       "44934  5df4462bc82e39310479f198  1-ff3bacd2-cf6b-497d-8fde-f69b40f40528   \n",
       "45081  5df44985c82e39310479f32d  1-9c45d12f-afcf-4f5d-aef5-4036e7381300   \n",
       "44915  5df445e7c82e39310479f169  1-e9bfacfd-4da2-4131-bc53-350ef2a03272   \n",
       "44689  5df440fec82e39310479edc2  1-a36be726-b912-438a-9b2e-4f2d42a82ec1   \n",
       "\n",
       "                                                   team1  \\\n",
       "44973  [{'id': '2ee167ac-2250-452a-b055-61b9e131f956'...   \n",
       "44934  [{'id': 'd5cbfff0-86c8-4ea4-9a55-c70870a242f0'...   \n",
       "45081  [{'id': '2b4ae101-8347-4db0-8782-37c27f25c61c'...   \n",
       "44915  [{'id': '7637435d-8ee3-482e-bc77-0c5279308971'...   \n",
       "44689  [{'id': '1faac095-8d91-4a3e-8eda-f832f367d9c5'...   \n",
       "\n",
       "                                                   team2  \\\n",
       "44973  [{'id': '06665368-24d2-459d-8ac0-eef55be93c5c'...   \n",
       "44934  [{'id': 'c379a382-e6ac-41e1-b824-5ae1824a30ad'...   \n",
       "45081  [{'id': '18cdd6be-83f4-4ca1-90e1-38a11b4c3952'...   \n",
       "44915  [{'id': '9e7320b6-8d2e-46b7-8ffb-96abcfbbfc18'...   \n",
       "44689  [{'id': '911599e4-6056-440e-b7e2-c9948a9370ab'...   \n",
       "\n",
       "                 start_time           map  \\\n",
       "44973  2019-12-14T01:48:50Z    [de_train]   \n",
       "44934  2019-12-14T01:37:05Z  [de_inferno]   \n",
       "45081  2019-12-14T01:15:43Z   [de_mirage]   \n",
       "44915  2019-12-14T01:01:43Z            []   \n",
       "44689  2019-12-14T01:01:42Z   [de_mirage]   \n",
       "\n",
       "                                                 parties    winner  \\\n",
       "44973  {'06665368-24d2-459d-8ac0-eef55be93c5c': ['066...  faction2   \n",
       "44934  {'06677932-1b17-4d4e-84bd-878fa4a66b31': ['b62...  faction1   \n",
       "45081  {'2ade238c-1202-4dd9-b696-7eab79665851': ['18c...  faction1   \n",
       "44915  {'7637435d-8ee3-482e-bc77-0c5279308971': ['763...  faction2   \n",
       "44689  {'2aca4b2f-b9b8-47ac-82bb-d7ea24966466': ['1fa...  faction1   \n",
       "\n",
       "                                              scoreboard previous_five  \\\n",
       "44973  [{'player_id': '2ee167ac-2250-452a-b055-61b9e1...           NaN   \n",
       "44934  [{'player_id': 'd5cbfff0-86c8-4ea4-9a55-c70870...           NaN   \n",
       "45081  [{'player_id': '2b4ae101-8347-4db0-8782-37c27f...           NaN   \n",
       "44915  [{'player_id': '7637435d-8ee3-482e-bc77-0c5279...           NaN   \n",
       "44689  [{'player_id': '1faac095-8d91-4a3e-8eda-f832f3...           NaN   \n",
       "\n",
       "                timestamp                                  players_ids_team1  \\\n",
       "44973 2019-12-14 01:48:50  [2ee167ac-2250-452a-b055-61b9e131f956, eb7661e...   \n",
       "44934 2019-12-14 01:37:05  [d5cbfff0-86c8-4ea4-9a55-c70870a242f0, d62fd7f...   \n",
       "45081 2019-12-14 01:15:43  [2b4ae101-8347-4db0-8782-37c27f25c61c, 6ca00f4...   \n",
       "44915 2019-12-14 01:01:43             [7637435d-8ee3-482e-bc77-0c5279308971]   \n",
       "44689 2019-12-14 01:01:42  [1faac095-8d91-4a3e-8eda-f832f367d9c5, 4bdf384...   \n",
       "\n",
       "                                       players_ids_team2  \\\n",
       "44973  [06665368-24d2-459d-8ac0-eef55be93c5c, 5100b02...   \n",
       "44934  [c379a382-e6ac-41e1-b824-5ae1824a30ad, e1203d1...   \n",
       "45081  [18cdd6be-83f4-4ca1-90e1-38a11b4c3952, 22f74d7...   \n",
       "44915             [9e7320b6-8d2e-46b7-8ffb-96abcfbbfc18]   \n",
       "44689  [911599e4-6056-440e-b7e2-c9948a9370ab, 9c37745...   \n",
       "\n",
       "                                         players_ids_all  \n",
       "44973  [2ee167ac-2250-452a-b055-61b9e131f956, eb7661e...  \n",
       "44934  [d5cbfff0-86c8-4ea4-9a55-c70870a242f0, d62fd7f...  \n",
       "45081  [2b4ae101-8347-4db0-8782-37c27f25c61c, 6ca00f4...  \n",
       "44915  [7637435d-8ee3-482e-bc77-0c5279308971, 9e7320b...  \n",
       "44689  [1faac095-8d91-4a3e-8eda-f832f367d9c5, 4bdf384...  "
      ]
     },
     "execution_count": 1040,
     "metadata": {},
     "output_type": "execute_result"
    }
   ],
   "source": [
    "# POSSIBLE IMPROVEMENT FOR TIME ANALYSIS: SORT BY TIMESTAMP\n",
    "data_stored = data_stored.sort_values(by=['timestamp'], ascending=False)\n",
    "data_stored.head()"
   ]
  },
  {
   "cell_type": "code",
   "execution_count": 1095,
   "metadata": {},
   "outputs": [
    {
     "name": "stdout",
     "output_type": "stream",
     "text": [
      "--- 5.58146858215332 seconds ---\n"
     ]
    }
   ],
   "source": [
    "# start_time = time.time()\n",
    "# data['winstreak_last5_team1'] = data.apply(lambda row: get_current_team_winstreak(row, 'team1'), axis=1)\n",
    "# print(\"--- %s seconds ---\" % (time.time() - start_time))\n",
    "\n",
    "start_time = time.time()\n",
    "data['winstreak_last5_team1_2'] = data.apply(lambda row: get_current_team_winstreak3(row, 'team1'), axis=1)\n",
    "# print(get_current_team_winstreak2(data.iloc[2], 'team1'))\n",
    "print(\"--- %s seconds ---\" % (time.time() - start_time))"
   ]
  },
  {
   "cell_type": "code",
   "execution_count": 1096,
   "metadata": {},
   "outputs": [
    {
     "data": {
      "text/html": [
       "<div>\n",
       "<style scoped>\n",
       "    .dataframe tbody tr th:only-of-type {\n",
       "        vertical-align: middle;\n",
       "    }\n",
       "\n",
       "    .dataframe tbody tr th {\n",
       "        vertical-align: top;\n",
       "    }\n",
       "\n",
       "    .dataframe thead th {\n",
       "        text-align: right;\n",
       "    }\n",
       "</style>\n",
       "<table border=\"1\" class=\"dataframe\">\n",
       "  <thead>\n",
       "    <tr style=\"text-align: right;\">\n",
       "      <th></th>\n",
       "      <th>_id</th>\n",
       "      <th>match_id</th>\n",
       "      <th>team1</th>\n",
       "      <th>team2</th>\n",
       "      <th>start_time</th>\n",
       "      <th>map</th>\n",
       "      <th>parties</th>\n",
       "      <th>winner</th>\n",
       "      <th>scoreboard</th>\n",
       "      <th>previous_five</th>\n",
       "      <th>timestamp</th>\n",
       "      <th>players_ids_team1</th>\n",
       "      <th>players_ids_team2</th>\n",
       "      <th>players_ids_all</th>\n",
       "      <th>winstreak_last5_team1</th>\n",
       "      <th>winstreak_last5_team1_2</th>\n",
       "    </tr>\n",
       "  </thead>\n",
       "  <tbody>\n",
       "    <tr>\n",
       "      <th>36</th>\n",
       "      <td>5defd3b744fe901565fe78fb</td>\n",
       "      <td>1-b19acbf2-86d6-481b-b882-1c3197430a1d</td>\n",
       "      <td>[{'id': '9caaa547-ed13-498f-afb5-f16515dd7dfb'...</td>\n",
       "      <td>[{'id': '02b0b64c-911e-4ca9-9c80-36649924bbb5'...</td>\n",
       "      <td>2019-08-15T04:08:05Z</td>\n",
       "      <td>de_mirage</td>\n",
       "      <td>{'02b0b64c-911e-4ca9-9c80-36649924bbb5': ['02b...</td>\n",
       "      <td>faction2</td>\n",
       "      <td>[{'player_id': '9caaa547-ed13-498f-afb5-f16515...</td>\n",
       "      <td>ok</td>\n",
       "      <td>2019-08-15 04:08:05</td>\n",
       "      <td>[9caaa547-ed13-498f-afb5-f16515dd7dfb, a0be3d1...</td>\n",
       "      <td>[02b0b64c-911e-4ca9-9c80-36649924bbb5, 6ff2d57...</td>\n",
       "      <td>[9caaa547-ed13-498f-afb5-f16515dd7dfb, a0be3d1...</td>\n",
       "      <td>2</td>\n",
       "      <td>1</td>\n",
       "    </tr>\n",
       "    <tr>\n",
       "      <th>780</th>\n",
       "      <td>5defe15644fe901565fe8de7</td>\n",
       "      <td>1-7dec0393-2c93-42c2-a3ea-ee5d42e711b5</td>\n",
       "      <td>[{'id': '0ed67349-151f-4757-8aa2-272665978061'...</td>\n",
       "      <td>[{'id': '62337afb-4c6f-4ae5-98af-4ca6aba173dc'...</td>\n",
       "      <td>2019-08-22T18:00:41Z</td>\n",
       "      <td>de_inferno</td>\n",
       "      <td>{'30d1a102-43e9-47c5-92d6-8bc5eebed78f': ['0ed...</td>\n",
       "      <td>faction1</td>\n",
       "      <td>[{'player_id': '0ed67349-151f-4757-8aa2-272665...</td>\n",
       "      <td>ok</td>\n",
       "      <td>2019-08-22 18:00:41</td>\n",
       "      <td>[0ed67349-151f-4757-8aa2-272665978061, 2e88f31...</td>\n",
       "      <td>[62337afb-4c6f-4ae5-98af-4ca6aba173dc, 64a7da9...</td>\n",
       "      <td>[0ed67349-151f-4757-8aa2-272665978061, 2e88f31...</td>\n",
       "      <td>0</td>\n",
       "      <td>0</td>\n",
       "    </tr>\n",
       "    <tr>\n",
       "      <th>2058</th>\n",
       "      <td>5df0022cd2ab3f93747a90b3</td>\n",
       "      <td>1-4cef8b4f-2d3a-45b9-9e8c-ea711167f128</td>\n",
       "      <td>[{'id': '609531ec-ef1f-4f41-b009-cd0289be4b24'...</td>\n",
       "      <td>[{'id': 'bf4c07a3-0a44-4f89-90cb-b67812ec17b1'...</td>\n",
       "      <td>2019-05-15T02:24:02Z</td>\n",
       "      <td>de_vertigo</td>\n",
       "      <td>{'c7859ce6-40bb-4fa8-b002-c305d6205bc6': ['c78...</td>\n",
       "      <td>faction1</td>\n",
       "      <td>[{'player_id': '609531ec-ef1f-4f41-b009-cd0289...</td>\n",
       "      <td>ok</td>\n",
       "      <td>2019-05-15 02:24:02</td>\n",
       "      <td>[609531ec-ef1f-4f41-b009-cd0289be4b24, dbfee11...</td>\n",
       "      <td>[bf4c07a3-0a44-4f89-90cb-b67812ec17b1, 487c465...</td>\n",
       "      <td>[609531ec-ef1f-4f41-b009-cd0289be4b24, dbfee11...</td>\n",
       "      <td>9</td>\n",
       "      <td>8</td>\n",
       "    </tr>\n",
       "    <tr>\n",
       "      <th>5308</th>\n",
       "      <td>5df04974d2ab3f93747adf70</td>\n",
       "      <td>1-33eac6d0-b620-4623-a7e9-bd3194b26566</td>\n",
       "      <td>[{'id': '000a9b86-cbd6-41d7-bd49-d3dcf23e4558'...</td>\n",
       "      <td>[{'id': '23575034-7f51-47ed-b708-0211b3e0215f'...</td>\n",
       "      <td>2019-11-09T12:17:15Z</td>\n",
       "      <td>de_overpass</td>\n",
       "      <td>{'35f20aa7-cafd-4253-bee8-89af34350479': ['35f...</td>\n",
       "      <td>faction2</td>\n",
       "      <td>[{'player_id': '000a9b86-cbd6-41d7-bd49-d3dcf2...</td>\n",
       "      <td>ok</td>\n",
       "      <td>2019-11-09 12:17:15</td>\n",
       "      <td>[000a9b86-cbd6-41d7-bd49-d3dcf23e4558, 4115dbb...</td>\n",
       "      <td>[23575034-7f51-47ed-b708-0211b3e0215f, 4c8186c...</td>\n",
       "      <td>[000a9b86-cbd6-41d7-bd49-d3dcf23e4558, 4115dbb...</td>\n",
       "      <td>4</td>\n",
       "      <td>3</td>\n",
       "    </tr>\n",
       "    <tr>\n",
       "      <th>5573</th>\n",
       "      <td>5df04b8cd2ab3f93747ae525</td>\n",
       "      <td>1-6cb7775a-633f-4e6a-a486-1ca86148e7a6</td>\n",
       "      <td>[{'id': '1a6bc4cd-564d-40a3-9b2b-8fac753fd723'...</td>\n",
       "      <td>[{'id': '5a610f4b-f8f9-4d1c-85cd-b0faee08ac85'...</td>\n",
       "      <td>2019-11-29T22:20:01Z</td>\n",
       "      <td>de_train</td>\n",
       "      <td>{'2f4ec3b7-4d7a-4389-8149-38e98e645521': ['2f4...</td>\n",
       "      <td>faction1</td>\n",
       "      <td>[{'player_id': '1a6bc4cd-564d-40a3-9b2b-8fac75...</td>\n",
       "      <td>ok</td>\n",
       "      <td>2019-11-29 22:20:01</td>\n",
       "      <td>[1a6bc4cd-564d-40a3-9b2b-8fac753fd723, 3c5068d...</td>\n",
       "      <td>[5a610f4b-f8f9-4d1c-85cd-b0faee08ac85, 05ef5f1...</td>\n",
       "      <td>[1a6bc4cd-564d-40a3-9b2b-8fac753fd723, 3c5068d...</td>\n",
       "      <td>2</td>\n",
       "      <td>0</td>\n",
       "    </tr>\n",
       "    <tr>\n",
       "      <th>5590</th>\n",
       "      <td>5df04bbcd2ab3f93747ae5b3</td>\n",
       "      <td>1-71522565-5f6c-41e7-9e17-a40c5ef1849d</td>\n",
       "      <td>[{'id': 'd394c1e0-6d68-41bc-a489-74c7679e45cb'...</td>\n",
       "      <td>[{'id': '3485396f-b1d4-4c83-831f-780ea38ad17b'...</td>\n",
       "      <td>2019-11-24T20:39:55Z</td>\n",
       "      <td>de_mirage</td>\n",
       "      <td>{'5ade1b87-405c-4608-b3b9-054ac1bbc7aa': ['0f4...</td>\n",
       "      <td>faction2</td>\n",
       "      <td>[{'player_id': 'd394c1e0-6d68-41bc-a489-74c767...</td>\n",
       "      <td>ok</td>\n",
       "      <td>2019-11-24 20:39:55</td>\n",
       "      <td>[d394c1e0-6d68-41bc-a489-74c7679e45cb, 0f4ff6a...</td>\n",
       "      <td>[3485396f-b1d4-4c83-831f-780ea38ad17b, 51ec434...</td>\n",
       "      <td>[d394c1e0-6d68-41bc-a489-74c7679e45cb, 0f4ff6a...</td>\n",
       "      <td>1</td>\n",
       "      <td>1</td>\n",
       "    </tr>\n",
       "    <tr>\n",
       "      <th>5707</th>\n",
       "      <td>5df04d00d2ab3f93747ae945</td>\n",
       "      <td>1-bda17aab-3e29-448c-966c-0c43e5ca465e</td>\n",
       "      <td>[{'id': '044d242d-2819-41d1-b22f-f416414653dd'...</td>\n",
       "      <td>[{'id': 'b224daf0-f32d-488c-aab6-f40f5723a358'...</td>\n",
       "      <td>2019-09-11T21:34:31Z</td>\n",
       "      <td>de_inferno</td>\n",
       "      <td>{'15ec0d59-5c69-4247-bd46-32accb81a099': ['b22...</td>\n",
       "      <td>faction2</td>\n",
       "      <td>[{'player_id': '044d242d-2819-41d1-b22f-f41641...</td>\n",
       "      <td>ok</td>\n",
       "      <td>2019-09-11 21:34:31</td>\n",
       "      <td>[044d242d-2819-41d1-b22f-f416414653dd, 0699002...</td>\n",
       "      <td>[b224daf0-f32d-488c-aab6-f40f5723a358, bc762f0...</td>\n",
       "      <td>[044d242d-2819-41d1-b22f-f416414653dd, 0699002...</td>\n",
       "      <td>0</td>\n",
       "      <td>0</td>\n",
       "    </tr>\n",
       "    <tr>\n",
       "      <th>6781</th>\n",
       "      <td>5df0562ad2ab3f93747b0304</td>\n",
       "      <td>1-38709218-346e-4ab0-8101-d543fbbc0fbd</td>\n",
       "      <td>[{'id': '33b1786f-8503-47e4-8d8e-1ed559a25c4a'...</td>\n",
       "      <td>[{'id': 'f6e522d8-4fc6-43ef-996f-20387f5cf77a'...</td>\n",
       "      <td>2019-08-26T20:24:41Z</td>\n",
       "      <td>de_mirage</td>\n",
       "      <td>{'2e46e78b-0308-4944-9aa6-2cb5c5783797': ['2e4...</td>\n",
       "      <td>faction1</td>\n",
       "      <td>[{'player_id': '33b1786f-8503-47e4-8d8e-1ed559...</td>\n",
       "      <td>ok</td>\n",
       "      <td>2019-08-26 20:24:41</td>\n",
       "      <td>[33b1786f-8503-47e4-8d8e-1ed559a25c4a, 7f49f2f...</td>\n",
       "      <td>[f6e522d8-4fc6-43ef-996f-20387f5cf77a, 8c15f4f...</td>\n",
       "      <td>[33b1786f-8503-47e4-8d8e-1ed559a25c4a, 7f49f2f...</td>\n",
       "      <td>9</td>\n",
       "      <td>4</td>\n",
       "    </tr>\n",
       "    <tr>\n",
       "      <th>7259</th>\n",
       "      <td>5df059f0d2ab3f93747b0d2d</td>\n",
       "      <td>1-4ebda9c8-9e18-403e-b886-da988b707c4b</td>\n",
       "      <td>[{'id': '05509d39-1c79-4be6-aa9a-4a30f8bec76b'...</td>\n",
       "      <td>[{'id': '195a4503-1db8-4237-b333-1fdb5ca13b13'...</td>\n",
       "      <td>2019-12-02T17:56:12Z</td>\n",
       "      <td>de_mirage</td>\n",
       "      <td>{'03445f84-874d-4121-9a31-d00ea11763e0': ['055...</td>\n",
       "      <td>faction1</td>\n",
       "      <td>[{'player_id': '05509d39-1c79-4be6-aa9a-4a30f8...</td>\n",
       "      <td>ok</td>\n",
       "      <td>2019-12-02 17:56:12</td>\n",
       "      <td>[05509d39-1c79-4be6-aa9a-4a30f8bec76b, 468ee02...</td>\n",
       "      <td>[195a4503-1db8-4237-b333-1fdb5ca13b13, a081bf2...</td>\n",
       "      <td>[05509d39-1c79-4be6-aa9a-4a30f8bec76b, 468ee02...</td>\n",
       "      <td>12</td>\n",
       "      <td>10</td>\n",
       "    </tr>\n",
       "    <tr>\n",
       "      <th>7638</th>\n",
       "      <td>5df05c8fd2ab3f93747b13e7</td>\n",
       "      <td>1-4bb02248-42de-4778-8e88-8364400b16e6</td>\n",
       "      <td>[{'id': '731d2e50-adc2-45c2-9740-1bf463e35257'...</td>\n",
       "      <td>[{'id': '6e25df04-3e99-404c-a55a-8abd2164612e'...</td>\n",
       "      <td>2019-11-20T19:08:09Z</td>\n",
       "      <td>de_train</td>\n",
       "      <td>{'39498fff-f8e2-442f-ab81-545f7d82e8a3': ['d9d...</td>\n",
       "      <td>faction2</td>\n",
       "      <td>[{'player_id': '731d2e50-adc2-45c2-9740-1bf463...</td>\n",
       "      <td>ok</td>\n",
       "      <td>2019-11-20 19:08:09</td>\n",
       "      <td>[731d2e50-adc2-45c2-9740-1bf463e35257, 90cead5...</td>\n",
       "      <td>[6e25df04-3e99-404c-a55a-8abd2164612e, 15edd4c...</td>\n",
       "      <td>[731d2e50-adc2-45c2-9740-1bf463e35257, 90cead5...</td>\n",
       "      <td>8</td>\n",
       "      <td>1</td>\n",
       "    </tr>\n",
       "  </tbody>\n",
       "</table>\n",
       "</div>"
      ],
      "text/plain": [
       "                           _id                                match_id  \\\n",
       "36    5defd3b744fe901565fe78fb  1-b19acbf2-86d6-481b-b882-1c3197430a1d   \n",
       "780   5defe15644fe901565fe8de7  1-7dec0393-2c93-42c2-a3ea-ee5d42e711b5   \n",
       "2058  5df0022cd2ab3f93747a90b3  1-4cef8b4f-2d3a-45b9-9e8c-ea711167f128   \n",
       "5308  5df04974d2ab3f93747adf70  1-33eac6d0-b620-4623-a7e9-bd3194b26566   \n",
       "5573  5df04b8cd2ab3f93747ae525  1-6cb7775a-633f-4e6a-a486-1ca86148e7a6   \n",
       "5590  5df04bbcd2ab3f93747ae5b3  1-71522565-5f6c-41e7-9e17-a40c5ef1849d   \n",
       "5707  5df04d00d2ab3f93747ae945  1-bda17aab-3e29-448c-966c-0c43e5ca465e   \n",
       "6781  5df0562ad2ab3f93747b0304  1-38709218-346e-4ab0-8101-d543fbbc0fbd   \n",
       "7259  5df059f0d2ab3f93747b0d2d  1-4ebda9c8-9e18-403e-b886-da988b707c4b   \n",
       "7638  5df05c8fd2ab3f93747b13e7  1-4bb02248-42de-4778-8e88-8364400b16e6   \n",
       "\n",
       "                                                  team1  \\\n",
       "36    [{'id': '9caaa547-ed13-498f-afb5-f16515dd7dfb'...   \n",
       "780   [{'id': '0ed67349-151f-4757-8aa2-272665978061'...   \n",
       "2058  [{'id': '609531ec-ef1f-4f41-b009-cd0289be4b24'...   \n",
       "5308  [{'id': '000a9b86-cbd6-41d7-bd49-d3dcf23e4558'...   \n",
       "5573  [{'id': '1a6bc4cd-564d-40a3-9b2b-8fac753fd723'...   \n",
       "5590  [{'id': 'd394c1e0-6d68-41bc-a489-74c7679e45cb'...   \n",
       "5707  [{'id': '044d242d-2819-41d1-b22f-f416414653dd'...   \n",
       "6781  [{'id': '33b1786f-8503-47e4-8d8e-1ed559a25c4a'...   \n",
       "7259  [{'id': '05509d39-1c79-4be6-aa9a-4a30f8bec76b'...   \n",
       "7638  [{'id': '731d2e50-adc2-45c2-9740-1bf463e35257'...   \n",
       "\n",
       "                                                  team2            start_time  \\\n",
       "36    [{'id': '02b0b64c-911e-4ca9-9c80-36649924bbb5'...  2019-08-15T04:08:05Z   \n",
       "780   [{'id': '62337afb-4c6f-4ae5-98af-4ca6aba173dc'...  2019-08-22T18:00:41Z   \n",
       "2058  [{'id': 'bf4c07a3-0a44-4f89-90cb-b67812ec17b1'...  2019-05-15T02:24:02Z   \n",
       "5308  [{'id': '23575034-7f51-47ed-b708-0211b3e0215f'...  2019-11-09T12:17:15Z   \n",
       "5573  [{'id': '5a610f4b-f8f9-4d1c-85cd-b0faee08ac85'...  2019-11-29T22:20:01Z   \n",
       "5590  [{'id': '3485396f-b1d4-4c83-831f-780ea38ad17b'...  2019-11-24T20:39:55Z   \n",
       "5707  [{'id': 'b224daf0-f32d-488c-aab6-f40f5723a358'...  2019-09-11T21:34:31Z   \n",
       "6781  [{'id': 'f6e522d8-4fc6-43ef-996f-20387f5cf77a'...  2019-08-26T20:24:41Z   \n",
       "7259  [{'id': '195a4503-1db8-4237-b333-1fdb5ca13b13'...  2019-12-02T17:56:12Z   \n",
       "7638  [{'id': '6e25df04-3e99-404c-a55a-8abd2164612e'...  2019-11-20T19:08:09Z   \n",
       "\n",
       "              map                                            parties  \\\n",
       "36      de_mirage  {'02b0b64c-911e-4ca9-9c80-36649924bbb5': ['02b...   \n",
       "780    de_inferno  {'30d1a102-43e9-47c5-92d6-8bc5eebed78f': ['0ed...   \n",
       "2058   de_vertigo  {'c7859ce6-40bb-4fa8-b002-c305d6205bc6': ['c78...   \n",
       "5308  de_overpass  {'35f20aa7-cafd-4253-bee8-89af34350479': ['35f...   \n",
       "5573     de_train  {'2f4ec3b7-4d7a-4389-8149-38e98e645521': ['2f4...   \n",
       "5590    de_mirage  {'5ade1b87-405c-4608-b3b9-054ac1bbc7aa': ['0f4...   \n",
       "5707   de_inferno  {'15ec0d59-5c69-4247-bd46-32accb81a099': ['b22...   \n",
       "6781    de_mirage  {'2e46e78b-0308-4944-9aa6-2cb5c5783797': ['2e4...   \n",
       "7259    de_mirage  {'03445f84-874d-4121-9a31-d00ea11763e0': ['055...   \n",
       "7638     de_train  {'39498fff-f8e2-442f-ab81-545f7d82e8a3': ['d9d...   \n",
       "\n",
       "        winner                                         scoreboard  \\\n",
       "36    faction2  [{'player_id': '9caaa547-ed13-498f-afb5-f16515...   \n",
       "780   faction1  [{'player_id': '0ed67349-151f-4757-8aa2-272665...   \n",
       "2058  faction1  [{'player_id': '609531ec-ef1f-4f41-b009-cd0289...   \n",
       "5308  faction2  [{'player_id': '000a9b86-cbd6-41d7-bd49-d3dcf2...   \n",
       "5573  faction1  [{'player_id': '1a6bc4cd-564d-40a3-9b2b-8fac75...   \n",
       "5590  faction2  [{'player_id': 'd394c1e0-6d68-41bc-a489-74c767...   \n",
       "5707  faction2  [{'player_id': '044d242d-2819-41d1-b22f-f41641...   \n",
       "6781  faction1  [{'player_id': '33b1786f-8503-47e4-8d8e-1ed559...   \n",
       "7259  faction1  [{'player_id': '05509d39-1c79-4be6-aa9a-4a30f8...   \n",
       "7638  faction2  [{'player_id': '731d2e50-adc2-45c2-9740-1bf463...   \n",
       "\n",
       "     previous_five           timestamp  \\\n",
       "36              ok 2019-08-15 04:08:05   \n",
       "780             ok 2019-08-22 18:00:41   \n",
       "2058            ok 2019-05-15 02:24:02   \n",
       "5308            ok 2019-11-09 12:17:15   \n",
       "5573            ok 2019-11-29 22:20:01   \n",
       "5590            ok 2019-11-24 20:39:55   \n",
       "5707            ok 2019-09-11 21:34:31   \n",
       "6781            ok 2019-08-26 20:24:41   \n",
       "7259            ok 2019-12-02 17:56:12   \n",
       "7638            ok 2019-11-20 19:08:09   \n",
       "\n",
       "                                      players_ids_team1  \\\n",
       "36    [9caaa547-ed13-498f-afb5-f16515dd7dfb, a0be3d1...   \n",
       "780   [0ed67349-151f-4757-8aa2-272665978061, 2e88f31...   \n",
       "2058  [609531ec-ef1f-4f41-b009-cd0289be4b24, dbfee11...   \n",
       "5308  [000a9b86-cbd6-41d7-bd49-d3dcf23e4558, 4115dbb...   \n",
       "5573  [1a6bc4cd-564d-40a3-9b2b-8fac753fd723, 3c5068d...   \n",
       "5590  [d394c1e0-6d68-41bc-a489-74c7679e45cb, 0f4ff6a...   \n",
       "5707  [044d242d-2819-41d1-b22f-f416414653dd, 0699002...   \n",
       "6781  [33b1786f-8503-47e4-8d8e-1ed559a25c4a, 7f49f2f...   \n",
       "7259  [05509d39-1c79-4be6-aa9a-4a30f8bec76b, 468ee02...   \n",
       "7638  [731d2e50-adc2-45c2-9740-1bf463e35257, 90cead5...   \n",
       "\n",
       "                                      players_ids_team2  \\\n",
       "36    [02b0b64c-911e-4ca9-9c80-36649924bbb5, 6ff2d57...   \n",
       "780   [62337afb-4c6f-4ae5-98af-4ca6aba173dc, 64a7da9...   \n",
       "2058  [bf4c07a3-0a44-4f89-90cb-b67812ec17b1, 487c465...   \n",
       "5308  [23575034-7f51-47ed-b708-0211b3e0215f, 4c8186c...   \n",
       "5573  [5a610f4b-f8f9-4d1c-85cd-b0faee08ac85, 05ef5f1...   \n",
       "5590  [3485396f-b1d4-4c83-831f-780ea38ad17b, 51ec434...   \n",
       "5707  [b224daf0-f32d-488c-aab6-f40f5723a358, bc762f0...   \n",
       "6781  [f6e522d8-4fc6-43ef-996f-20387f5cf77a, 8c15f4f...   \n",
       "7259  [195a4503-1db8-4237-b333-1fdb5ca13b13, a081bf2...   \n",
       "7638  [6e25df04-3e99-404c-a55a-8abd2164612e, 15edd4c...   \n",
       "\n",
       "                                        players_ids_all  \\\n",
       "36    [9caaa547-ed13-498f-afb5-f16515dd7dfb, a0be3d1...   \n",
       "780   [0ed67349-151f-4757-8aa2-272665978061, 2e88f31...   \n",
       "2058  [609531ec-ef1f-4f41-b009-cd0289be4b24, dbfee11...   \n",
       "5308  [000a9b86-cbd6-41d7-bd49-d3dcf23e4558, 4115dbb...   \n",
       "5573  [1a6bc4cd-564d-40a3-9b2b-8fac753fd723, 3c5068d...   \n",
       "5590  [d394c1e0-6d68-41bc-a489-74c7679e45cb, 0f4ff6a...   \n",
       "5707  [044d242d-2819-41d1-b22f-f416414653dd, 0699002...   \n",
       "6781  [33b1786f-8503-47e4-8d8e-1ed559a25c4a, 7f49f2f...   \n",
       "7259  [05509d39-1c79-4be6-aa9a-4a30f8bec76b, 468ee02...   \n",
       "7638  [731d2e50-adc2-45c2-9740-1bf463e35257, 90cead5...   \n",
       "\n",
       "      winstreak_last5_team1  winstreak_last5_team1_2  \n",
       "36                        2                        1  \n",
       "780                       0                        0  \n",
       "2058                      9                        8  \n",
       "5308                      4                        3  \n",
       "5573                      2                        0  \n",
       "5590                      1                        1  \n",
       "5707                      0                        0  \n",
       "6781                      9                        4  \n",
       "7259                     12                       10  \n",
       "7638                      8                        1  "
      ]
     },
     "execution_count": 1096,
     "metadata": {},
     "output_type": "execute_result"
    }
   ],
   "source": [
    "data.head(10)"
   ]
  },
  {
   "cell_type": "code",
   "execution_count": 1104,
   "metadata": {},
   "outputs": [
    {
     "name": "stdout",
     "output_type": "stream",
     "text": [
      "[{'id': '731d2e50-adc2-45c2-9740-1bf463e35257', 'elo': 2097, 'membership': ['csgo']}, {'id': '90cead5c-f47f-4573-8786-6e10c8963cf4', 'elo': 2175, 'membership': ['unlimited']}, {'id': '412837f9-0e54-4a34-8578-d3c98c6d681c', 'elo': 2091, 'membership': ['premium']}, {'id': 'd9d4b49f-0dc2-4dab-9f5a-9a2b1bc26984', 'elo': 1766, 'membership': ['csgo']}, {'id': 'e5b855bd-3dbc-4928-a216-241d615b431b', 'elo': 2683, 'membership': ['csgo']}]\n"
     ]
    }
   ],
   "source": [
    "for p in data[data['match_id'] =='1-4bb02248-42de-4778-8e88-8364400b16e6']['team1']:\n",
    "    print(p)"
   ]
  },
  {
   "cell_type": "code",
   "execution_count": 1108,
   "metadata": {},
   "outputs": [
    {
     "name": "stdout",
     "output_type": "stream",
     "text": [
      "{'_id': ObjectId('5df05b43d2ab3f93747b107e'),\n",
      " 'avg_hs': '46',\n",
      " 'avg_kd': '1.03',\n",
      " 'map_stats': [{'avg_kd': '0.89',\n",
      "                'avg_kr': '0.54',\n",
      "                'map_name': 'de_cache',\n",
      "                'matches': '7',\n",
      "                'win_rate': '86'},\n",
      "               {'avg_kd': '0.77',\n",
      "                'avg_kr': '0.56',\n",
      "                'map_name': 'de_nuke',\n",
      "                'matches': '5',\n",
      "                'win_rate': '80'},\n",
      "               {'avg_kd': '0.81',\n",
      "                'avg_kr': '0.62',\n",
      "                'map_name': 'de_vertigo',\n",
      "                'matches': '5',\n",
      "                'win_rate': '40'},\n",
      "               {'avg_kd': '1.05',\n",
      "                'avg_kr': '0.71',\n",
      "                'map_name': 'de_inferno',\n",
      "                'matches': '24',\n",
      "                'win_rate': '50'},\n",
      "               {'avg_kd': '0.79',\n",
      "                'avg_kr': '0.56',\n",
      "                'map_name': 'de_train',\n",
      "                'matches': '14',\n",
      "                'win_rate': '50'},\n",
      "               {'avg_kd': '1.13',\n",
      "                'avg_kr': '0.67',\n",
      "                'map_name': 'de_mirage',\n",
      "                'matches': '70',\n",
      "                'win_rate': '64'},\n",
      "               {'avg_kd': '1.01',\n",
      "                'avg_kr': '0.62',\n",
      "                'map_name': 'de_dust2',\n",
      "                'matches': '23',\n",
      "                'win_rate': '65'},\n",
      "               {'avg_kd': '1.03',\n",
      "                'avg_kr': '0.68',\n",
      "                'map_name': 'de_overpass',\n",
      "                'matches': '19',\n",
      "                'win_rate': '68'}],\n",
      " 'matches': '167',\n",
      " 'player_id': '412837f9-0e54-4a34-8578-d3c98c6d681c',\n",
      " 'searched': 0,\n",
      " 'win_rate': '62'}\n"
     ]
    }
   ],
   "source": [
    "curs = collection_players.find({\"player_id\": '412837f9-0e54-4a34-8578-d3c98c6d681c'})\n",
    "for doc in curs:\n",
    "    pprint(doc)"
   ]
  },
  {
   "cell_type": "code",
   "execution_count": 776,
   "metadata": {},
   "outputs": [],
   "source": [
    "data['winstreak_last5_team1'] = data.apply(lambda row: get_current_team_winstreak(row, \"team1\"), axis=1)\n",
    "data['winstreak_last5_team2'] = data.apply(lambda row: get_current_team_winstreak(row, \"team2\"), axis=1)"
   ]
  },
  {
   "cell_type": "code",
   "execution_count": 1620,
   "metadata": {},
   "outputs": [
    {
     "name": "stdout",
     "output_type": "stream",
     "text": [
      "2\n"
     ]
    }
   ],
   "source": [
    "party = ['72b7dc0b-d3c4-4935-afcd-d383c2770e94',\n",
    "  '75299121-de1b-4877-90c2-14445d80da34',\n",
    "  '9108aeb7-b586-4308-a00d-1f0f3ec4a3bd',\n",
    "  'b2676472-68cb-4600-864a-2fc9f5a2a962',\n",
    "  'dbe8b41f-e16e-4c42-ba15-c80089f4836c']\n",
    "\n",
    "\n",
    "matches = 0\n",
    "print(count_matches_party(data, party))\n"
   ]
  },
  {
   "cell_type": "code",
   "execution_count": null,
   "metadata": {},
   "outputs": [],
   "source": [
    "def split_parties(row, team):"
   ]
  },
  {
   "cell_type": "code",
   "execution_count": 300,
   "metadata": {},
   "outputs": [],
   "source": [
    "def num_parties(row, team):\n",
    "    ids_team = get_players_id(row, team)\n",
    "    num_parties = 0\n",
    "    if row['parties'] == []:\n",
    "        return 1\n",
    "    for keys,values in row[\"parties\"].items():\n",
    "        first_player_team = values[0]\n",
    "        if first_player_team in ids_team:\n",
    "            num_parties+=1\n",
    "    return num_parties"
   ]
  },
  {
   "cell_type": "code",
   "execution_count": 857,
   "metadata": {},
   "outputs": [],
   "source": [
    "data['num_parties1'] = data.apply(lambda row: num_parties(row, \"team1\"), axis=1)\n",
    "data['num_parties2'] = data.apply(lambda row: num_parties(row, \"team2\"), axis=1)"
   ]
  },
  {
   "cell_type": "code",
   "execution_count": 1242,
   "metadata": {},
   "outputs": [],
   "source": [
    "# delta features is the way to go\n",
    "data['dif_elo'] = data['elo_team1']-data['elo_team2']\n",
    "data['dif_weighted_wr'] = data['team1_weighted_wr_on_map']-data['team2_weighted_wr_on_map']\n",
    "data['dif_matches'] = data['team1_matches_on_map']-data['team2_matches_on_map']\n",
    "data['dif_parties'] = data['parties1']-data['parties2']"
   ]
  },
  {
   "cell_type": "code",
   "execution_count": 859,
   "metadata": {},
   "outputs": [
    {
     "data": {
      "text/plain": [
       "Index(['_id', 'match_id', 'team1', 'team2', 'start_time', 'map', 'parties',\n",
       "       'winner', 'scoreboard', 'previous_five', 'map_categorized',\n",
       "       'map_numeric', 'players_ids_team1', 'players_ids_team2',\n",
       "       'players_ids_all', 'any_player_banned', 'timestamp',\n",
       "       'team1_matches_on_map', 'team2_matches_on_map',\n",
       "       'team1_weighted_wr_on_map', 'team2_weighted_wr_on_map',\n",
       "       'team1_weighted_kd_on_map', 'team2_weighted_kd_on_map', 'elo_team1',\n",
       "       'elo_team2', 'memberships_team1', 'memberships_team2', 'solo_players1',\n",
       "       'solo_players2', 'num_parties1', 'num_parties2'],\n",
       "      dtype='object')"
      ]
     },
     "execution_count": 859,
     "metadata": {},
     "output_type": "execute_result"
    }
   ],
   "source": [
    "data.columns"
   ]
  },
  {
   "cell_type": "code",
   "execution_count": 48,
   "metadata": {},
   "outputs": [],
   "source": [
    "data_simplified = data[['map_numeric', 'any_player_banned', 'elo_team1', 'elo_team2','winner']]"
   ]
  },
  {
   "cell_type": "code",
   "execution_count": 1244,
   "metadata": {},
   "outputs": [],
   "source": [
    "data_simplified = data[['dif_elo', 'dif_weighted_wr', 'dif_matches', 'dif_parties', 'winner']]"
   ]
  },
  {
   "cell_type": "code",
   "execution_count": 860,
   "metadata": {},
   "outputs": [],
   "source": [
    "data_simplified = data[['team1_weighted_kd_on_map', 'team2_weighted_kd_on_map', 'team1_weighted_wr_on_map', 'team2_weighted_wr_on_map', 'team1_matches_on_map', 'team2_matches_on_map', 'elo_team1', 'elo_team2', 'num_parties1', 'num_parties2', 'winner']]"
   ]
  },
  {
   "cell_type": "code",
   "execution_count": 778,
   "metadata": {},
   "outputs": [],
   "source": [
    "data_simplified = data[['matches_all_parties1', 'matches_all_parties2','winstreak_last5_team1', 'winstreak_last5_team2', 'map_numeric', 'team1_weighted_kd_on_map', 'team2_weighted_kd_on_map', 'memberships_team1', 'memberships_team1','solo_players1', 'solo_players2', 'team1_weighted_wr_on_map', 'team2_weighted_wr_on_map', 'team1_matches_on_map', 'team2_matches_on_map', 'elo_team1', 'elo_team2', 'num_parties1', 'num_parties2', 'winner']]"
   ]
  },
  {
   "cell_type": "code",
   "execution_count": 861,
   "metadata": {},
   "outputs": [],
   "source": [
    "def convert_winner(row):\n",
    "    convert = 0 if row['winner'] == 'faction1' else 1\n",
    "    return convert"
   ]
  },
  {
   "cell_type": "code",
   "execution_count": 862,
   "metadata": {},
   "outputs": [
    {
     "name": "stderr",
     "output_type": "stream",
     "text": [
      "C:\\Users\\hmbf1\\Anaconda3\\lib\\site-packages\\ipykernel_launcher.py:1: SettingWithCopyWarning:\n",
      "\n",
      "\n",
      "A value is trying to be set on a copy of a slice from a DataFrame.\n",
      "Try using .loc[row_indexer,col_indexer] = value instead\n",
      "\n",
      "See the caveats in the documentation: http://pandas.pydata.org/pandas-docs/stable/user_guide/indexing.html#returning-a-view-versus-a-copy\n",
      "\n",
      "C:\\Users\\hmbf1\\Anaconda3\\lib\\site-packages\\pandas\\core\\frame.py:4117: SettingWithCopyWarning:\n",
      "\n",
      "\n",
      "A value is trying to be set on a copy of a slice from a DataFrame\n",
      "\n",
      "See the caveats in the documentation: http://pandas.pydata.org/pandas-docs/stable/user_guide/indexing.html#returning-a-view-versus-a-copy\n",
      "\n"
     ]
    },
    {
     "data": {
      "text/html": [
       "<div>\n",
       "<style scoped>\n",
       "    .dataframe tbody tr th:only-of-type {\n",
       "        vertical-align: middle;\n",
       "    }\n",
       "\n",
       "    .dataframe tbody tr th {\n",
       "        vertical-align: top;\n",
       "    }\n",
       "\n",
       "    .dataframe thead th {\n",
       "        text-align: right;\n",
       "    }\n",
       "</style>\n",
       "<table border=\"1\" class=\"dataframe\">\n",
       "  <thead>\n",
       "    <tr style=\"text-align: right;\">\n",
       "      <th></th>\n",
       "      <th>team1_weighted_kd_on_map</th>\n",
       "      <th>team2_weighted_kd_on_map</th>\n",
       "      <th>team1_weighted_wr_on_map</th>\n",
       "      <th>team2_weighted_wr_on_map</th>\n",
       "      <th>team1_matches_on_map</th>\n",
       "      <th>team2_matches_on_map</th>\n",
       "      <th>elo_team1</th>\n",
       "      <th>elo_team2</th>\n",
       "      <th>num_parties1</th>\n",
       "      <th>num_parties2</th>\n",
       "      <th>winner_conv</th>\n",
       "    </tr>\n",
       "  </thead>\n",
       "  <tbody>\n",
       "    <tr>\n",
       "      <th>0</th>\n",
       "      <td>1.107791</td>\n",
       "      <td>1.065968</td>\n",
       "      <td>49.668605</td>\n",
       "      <td>49.559249</td>\n",
       "      <td>516</td>\n",
       "      <td>692</td>\n",
       "      <td>1938.2</td>\n",
       "      <td>1844.6</td>\n",
       "      <td>3</td>\n",
       "      <td>1</td>\n",
       "      <td>1</td>\n",
       "    </tr>\n",
       "    <tr>\n",
       "      <th>1</th>\n",
       "      <td>1.119264</td>\n",
       "      <td>1.084787</td>\n",
       "      <td>53.012270</td>\n",
       "      <td>50.148311</td>\n",
       "      <td>163</td>\n",
       "      <td>681</td>\n",
       "      <td>1628.4</td>\n",
       "      <td>1678.0</td>\n",
       "      <td>2</td>\n",
       "      <td>1</td>\n",
       "      <td>1</td>\n",
       "    </tr>\n",
       "    <tr>\n",
       "      <th>2</th>\n",
       "      <td>1.251034</td>\n",
       "      <td>1.051972</td>\n",
       "      <td>54.555556</td>\n",
       "      <td>51.221880</td>\n",
       "      <td>387</td>\n",
       "      <td>1298</td>\n",
       "      <td>1644.4</td>\n",
       "      <td>1654.0</td>\n",
       "      <td>2</td>\n",
       "      <td>1</td>\n",
       "      <td>1</td>\n",
       "    </tr>\n",
       "    <tr>\n",
       "      <th>3</th>\n",
       "      <td>1.067321</td>\n",
       "      <td>1.187488</td>\n",
       "      <td>50.848196</td>\n",
       "      <td>51.317901</td>\n",
       "      <td>2411</td>\n",
       "      <td>4212</td>\n",
       "      <td>1688.6</td>\n",
       "      <td>1817.6</td>\n",
       "      <td>1</td>\n",
       "      <td>1</td>\n",
       "      <td>1</td>\n",
       "    </tr>\n",
       "    <tr>\n",
       "      <th>4</th>\n",
       "      <td>1.155537</td>\n",
       "      <td>1.051180</td>\n",
       "      <td>49.785017</td>\n",
       "      <td>49.250416</td>\n",
       "      <td>2870</td>\n",
       "      <td>3602</td>\n",
       "      <td>2376.6</td>\n",
       "      <td>2520.8</td>\n",
       "      <td>1</td>\n",
       "      <td>2</td>\n",
       "      <td>0</td>\n",
       "    </tr>\n",
       "  </tbody>\n",
       "</table>\n",
       "</div>"
      ],
      "text/plain": [
       "   team1_weighted_kd_on_map  team2_weighted_kd_on_map  \\\n",
       "0                  1.107791                  1.065968   \n",
       "1                  1.119264                  1.084787   \n",
       "2                  1.251034                  1.051972   \n",
       "3                  1.067321                  1.187488   \n",
       "4                  1.155537                  1.051180   \n",
       "\n",
       "   team1_weighted_wr_on_map  team2_weighted_wr_on_map  team1_matches_on_map  \\\n",
       "0                 49.668605                 49.559249                   516   \n",
       "1                 53.012270                 50.148311                   163   \n",
       "2                 54.555556                 51.221880                   387   \n",
       "3                 50.848196                 51.317901                  2411   \n",
       "4                 49.785017                 49.250416                  2870   \n",
       "\n",
       "   team2_matches_on_map  elo_team1  elo_team2  num_parties1  num_parties2  \\\n",
       "0                   692     1938.2     1844.6             3             1   \n",
       "1                   681     1628.4     1678.0             2             1   \n",
       "2                  1298     1644.4     1654.0             2             1   \n",
       "3                  4212     1688.6     1817.6             1             1   \n",
       "4                  3602     2376.6     2520.8             1             2   \n",
       "\n",
       "   winner_conv  \n",
       "0            1  \n",
       "1            1  \n",
       "2            1  \n",
       "3            1  \n",
       "4            0  "
      ]
     },
     "execution_count": 862,
     "metadata": {},
     "output_type": "execute_result"
    }
   ],
   "source": [
    "data_simplified['winner_conv'] = data_simplified.apply(lambda row: convert_winner(row), axis=1)\n",
    "data_simplified.drop(columns=['winner'], inplace=True)\n",
    "data_simplified.head()"
   ]
  },
  {
   "cell_type": "code",
   "execution_count": 863,
   "metadata": {},
   "outputs": [
    {
     "data": {
      "text/plain": [
       "(41265, 11)"
      ]
     },
     "execution_count": 863,
     "metadata": {},
     "output_type": "execute_result"
    }
   ],
   "source": [
    "data_simplified.shape"
   ]
  },
  {
   "cell_type": "code",
   "execution_count": 880,
   "metadata": {},
   "outputs": [],
   "source": [
    "X_train, X_test, y_train, y_test = train_test_split(data_simplified.drop(columns=['winner_conv']), data_simplified['winner_conv'], test_size=0.3, random_state=101)"
   ]
  },
  {
   "cell_type": "code",
   "execution_count": 881,
   "metadata": {
    "scrolled": true
   },
   "outputs": [
    {
     "data": {
      "text/html": [
       "<div>\n",
       "<style scoped>\n",
       "    .dataframe tbody tr th:only-of-type {\n",
       "        vertical-align: middle;\n",
       "    }\n",
       "\n",
       "    .dataframe tbody tr th {\n",
       "        vertical-align: top;\n",
       "    }\n",
       "\n",
       "    .dataframe thead th {\n",
       "        text-align: right;\n",
       "    }\n",
       "</style>\n",
       "<table border=\"1\" class=\"dataframe\">\n",
       "  <thead>\n",
       "    <tr style=\"text-align: right;\">\n",
       "      <th></th>\n",
       "      <th>team1_weighted_kd_on_map</th>\n",
       "      <th>team2_weighted_kd_on_map</th>\n",
       "      <th>team1_weighted_wr_on_map</th>\n",
       "      <th>team2_weighted_wr_on_map</th>\n",
       "      <th>team1_matches_on_map</th>\n",
       "      <th>team2_matches_on_map</th>\n",
       "      <th>elo_team1</th>\n",
       "      <th>elo_team2</th>\n",
       "      <th>num_parties1</th>\n",
       "      <th>num_parties2</th>\n",
       "    </tr>\n",
       "  </thead>\n",
       "  <tbody>\n",
       "    <tr>\n",
       "      <th>14583</th>\n",
       "      <td>1.217763</td>\n",
       "      <td>1.025000</td>\n",
       "      <td>48.539474</td>\n",
       "      <td>48.455882</td>\n",
       "      <td>76</td>\n",
       "      <td>68</td>\n",
       "      <td>1036.4</td>\n",
       "      <td>1033.6</td>\n",
       "      <td>4</td>\n",
       "      <td>4</td>\n",
       "    </tr>\n",
       "    <tr>\n",
       "      <th>36127</th>\n",
       "      <td>1.131863</td>\n",
       "      <td>1.076875</td>\n",
       "      <td>51.708075</td>\n",
       "      <td>45.223958</td>\n",
       "      <td>322</td>\n",
       "      <td>192</td>\n",
       "      <td>1281.4</td>\n",
       "      <td>1246.4</td>\n",
       "      <td>2</td>\n",
       "      <td>1</td>\n",
       "    </tr>\n",
       "    <tr>\n",
       "      <th>10335</th>\n",
       "      <td>1.134848</td>\n",
       "      <td>1.182204</td>\n",
       "      <td>55.813452</td>\n",
       "      <td>50.410191</td>\n",
       "      <td>788</td>\n",
       "      <td>785</td>\n",
       "      <td>1316.2</td>\n",
       "      <td>1315.6</td>\n",
       "      <td>3</td>\n",
       "      <td>4</td>\n",
       "    </tr>\n",
       "    <tr>\n",
       "      <th>18120</th>\n",
       "      <td>1.071767</td>\n",
       "      <td>1.000727</td>\n",
       "      <td>46.366379</td>\n",
       "      <td>50.187879</td>\n",
       "      <td>232</td>\n",
       "      <td>165</td>\n",
       "      <td>1315.8</td>\n",
       "      <td>1320.0</td>\n",
       "      <td>4</td>\n",
       "      <td>3</td>\n",
       "    </tr>\n",
       "    <tr>\n",
       "      <th>16170</th>\n",
       "      <td>1.031426</td>\n",
       "      <td>1.130580</td>\n",
       "      <td>49.584928</td>\n",
       "      <td>54.213720</td>\n",
       "      <td>1725</td>\n",
       "      <td>758</td>\n",
       "      <td>1351.2</td>\n",
       "      <td>1345.0</td>\n",
       "      <td>3</td>\n",
       "      <td>3</td>\n",
       "    </tr>\n",
       "  </tbody>\n",
       "</table>\n",
       "</div>"
      ],
      "text/plain": [
       "       team1_weighted_kd_on_map  team2_weighted_kd_on_map  \\\n",
       "14583                  1.217763                  1.025000   \n",
       "36127                  1.131863                  1.076875   \n",
       "10335                  1.134848                  1.182204   \n",
       "18120                  1.071767                  1.000727   \n",
       "16170                  1.031426                  1.130580   \n",
       "\n",
       "       team1_weighted_wr_on_map  team2_weighted_wr_on_map  \\\n",
       "14583                 48.539474                 48.455882   \n",
       "36127                 51.708075                 45.223958   \n",
       "10335                 55.813452                 50.410191   \n",
       "18120                 46.366379                 50.187879   \n",
       "16170                 49.584928                 54.213720   \n",
       "\n",
       "       team1_matches_on_map  team2_matches_on_map  elo_team1  elo_team2  \\\n",
       "14583                    76                    68     1036.4     1033.6   \n",
       "36127                   322                   192     1281.4     1246.4   \n",
       "10335                   788                   785     1316.2     1315.6   \n",
       "18120                   232                   165     1315.8     1320.0   \n",
       "16170                  1725                   758     1351.2     1345.0   \n",
       "\n",
       "       num_parties1  num_parties2  \n",
       "14583             4             4  \n",
       "36127             2             1  \n",
       "10335             3             4  \n",
       "18120             4             3  \n",
       "16170             3             3  "
      ]
     },
     "execution_count": 881,
     "metadata": {},
     "output_type": "execute_result"
    }
   ],
   "source": [
    "X_train.head()"
   ]
  },
  {
   "cell_type": "code",
   "execution_count": 882,
   "metadata": {},
   "outputs": [],
   "source": [
    "rf = RandomForestClassifier(n_estimators=300, random_state=101)"
   ]
  },
  {
   "cell_type": "code",
   "execution_count": 883,
   "metadata": {},
   "outputs": [],
   "source": [
    "rf = RandomForestClassifier(max_depth=5, max_features=5, min_samples_leaf=4, min_samples_split=25, n_estimators=50)"
   ]
  },
  {
   "cell_type": "code",
   "execution_count": 884,
   "metadata": {},
   "outputs": [
    {
     "data": {
      "text/plain": [
       "RandomForestClassifier(bootstrap=True, class_weight=None, criterion='gini',\n",
       "                       max_depth=5, max_features=5, max_leaf_nodes=None,\n",
       "                       min_impurity_decrease=0.0, min_impurity_split=None,\n",
       "                       min_samples_leaf=4, min_samples_split=25,\n",
       "                       min_weight_fraction_leaf=0.0, n_estimators=50,\n",
       "                       n_jobs=None, oob_score=False, random_state=None,\n",
       "                       verbose=0, warm_start=False)"
      ]
     },
     "execution_count": 884,
     "metadata": {},
     "output_type": "execute_result"
    }
   ],
   "source": [
    "rf.fit(X_train, y_train)"
   ]
  },
  {
   "cell_type": "code",
   "execution_count": 885,
   "metadata": {},
   "outputs": [
    {
     "data": {
      "text/plain": [
       "0.6326467024407132"
      ]
     },
     "execution_count": 885,
     "metadata": {},
     "output_type": "execute_result"
    }
   ],
   "source": [
    "rf.score(X_train, y_train)"
   ]
  },
  {
   "cell_type": "code",
   "execution_count": 886,
   "metadata": {},
   "outputs": [],
   "source": [
    "preds = rf.predict(X_test)"
   ]
  },
  {
   "cell_type": "code",
   "execution_count": 887,
   "metadata": {},
   "outputs": [],
   "source": [
    "from sklearn.metrics import classification_report, accuracy_score"
   ]
  },
  {
   "cell_type": "code",
   "execution_count": 888,
   "metadata": {},
   "outputs": [
    {
     "name": "stdout",
     "output_type": "stream",
     "text": [
      "              precision    recall  f1-score   support\n",
      "\n",
      "           0       0.62      0.67      0.65      6286\n",
      "           1       0.63      0.57      0.60      6094\n",
      "\n",
      "    accuracy                           0.62     12380\n",
      "   macro avg       0.62      0.62      0.62     12380\n",
      "weighted avg       0.62      0.62      0.62     12380\n",
      "\n"
     ]
    }
   ],
   "source": [
    "print(classification_report(y_test, preds))"
   ]
  },
  {
   "cell_type": "code",
   "execution_count": 889,
   "metadata": {},
   "outputs": [
    {
     "name": "stdout",
     "output_type": "stream",
     "text": [
      "0.6231825525040388\n"
     ]
    }
   ],
   "source": [
    "print(accuracy_score(y_test, preds))"
   ]
  },
  {
   "cell_type": "code",
   "execution_count": 620,
   "metadata": {},
   "outputs": [],
   "source": [
    "importances = rf.feature_importances_"
   ]
  },
  {
   "cell_type": "code",
   "execution_count": 610,
   "metadata": {},
   "outputs": [
    {
     "name": "stdout",
     "output_type": "stream",
     "text": [
      "[0.07072673 0.0685252  0.09396498 0.10266018 0.12248874 0.12807552\n",
      " 0.08842039 0.08279898 0.09201049 0.08772199 0.03130996 0.03129684]\n"
     ]
    }
   ],
   "source": [
    "print(importances)"
   ]
  },
  {
   "cell_type": "code",
   "execution_count": 829,
   "metadata": {},
   "outputs": [],
   "source": [
    "from sklearn.model_selection import GridSearchCV\n",
    "# Create the parameter grid based on the results of random search \n",
    "param_grid = {\n",
    "    'bootstrap': [True],\n",
    "    'max_depth': [None],\n",
    "    'max_features': ['auto'],\n",
    "    'min_samples_leaf': [ 4, 5,15],\n",
    "    'min_samples_split': [10, 12,25],\n",
    "    'n_estimators': [50, 100, 300]\n",
    "}\n",
    "# Create a based model\n",
    "rf = RandomForestClassifier()\n",
    "# Instantiate the grid search model\n",
    "grid_search = GridSearchCV(estimator = rf, param_grid = param_grid, \n",
    "                          cv = 10, n_jobs = -1, verbose = 2)"
   ]
  },
  {
   "cell_type": "code",
   "execution_count": 830,
   "metadata": {},
   "outputs": [
    {
     "name": "stdout",
     "output_type": "stream",
     "text": [
      "Fitting 10 folds for each of 27 candidates, totalling 270 fits\n"
     ]
    },
    {
     "name": "stderr",
     "output_type": "stream",
     "text": [
      "[Parallel(n_jobs=-1)]: Using backend LokyBackend with 8 concurrent workers.\n",
      "[Parallel(n_jobs=-1)]: Done  25 tasks      | elapsed:    5.4s\n",
      "[Parallel(n_jobs=-1)]: Done 146 tasks      | elapsed:   11.1s\n",
      "[Parallel(n_jobs=-1)]: Done 270 out of 270 | elapsed:   17.6s finished\n",
      "C:\\Users\\hmbf1\\Anaconda3\\lib\\site-packages\\sklearn\\model_selection\\_search.py:814: DeprecationWarning:\n",
      "\n",
      "The default of the `iid` parameter will change from True to False in version 0.22 and will be removed in 0.24. This will change numeric results when test-set sizes are unequal.\n",
      "\n"
     ]
    },
    {
     "data": {
      "text/plain": [
       "GridSearchCV(cv=10, error_score='raise-deprecating',\n",
       "             estimator=RandomForestClassifier(bootstrap=True, class_weight=None,\n",
       "                                              criterion='gini', max_depth=None,\n",
       "                                              max_features='auto',\n",
       "                                              max_leaf_nodes=None,\n",
       "                                              min_impurity_decrease=0.0,\n",
       "                                              min_impurity_split=None,\n",
       "                                              min_samples_leaf=1,\n",
       "                                              min_samples_split=2,\n",
       "                                              min_weight_fraction_leaf=0.0,\n",
       "                                              n_estimators='warn', n_jobs=None,\n",
       "                                              oob_score=False,\n",
       "                                              random_state=None, verbose=0,\n",
       "                                              warm_start=False),\n",
       "             iid='warn', n_jobs=-1,\n",
       "             param_grid={'bootstrap': [True], 'max_depth': [None],\n",
       "                         'max_features': ['auto'],\n",
       "                         'min_samples_leaf': [4, 5, 15],\n",
       "                         'min_samples_split': [10, 12, 25],\n",
       "                         'n_estimators': [50, 100, 300]},\n",
       "             pre_dispatch='2*n_jobs', refit=True, return_train_score=False,\n",
       "             scoring=None, verbose=2)"
      ]
     },
     "execution_count": 830,
     "metadata": {},
     "output_type": "execute_result"
    }
   ],
   "source": [
    "grid_search.fit(X_train, y_train)"
   ]
  },
  {
   "cell_type": "code",
   "execution_count": 831,
   "metadata": {},
   "outputs": [
    {
     "data": {
      "text/plain": [
       "{'bootstrap': True,\n",
       " 'max_depth': None,\n",
       " 'max_features': 'auto',\n",
       " 'min_samples_leaf': 4,\n",
       " 'min_samples_split': 12,\n",
       " 'n_estimators': 100}"
      ]
     },
     "execution_count": 831,
     "metadata": {},
     "output_type": "execute_result"
    }
   ],
   "source": [
    "grid_search.best_params_"
   ]
  },
  {
   "cell_type": "code",
   "execution_count": 832,
   "metadata": {},
   "outputs": [],
   "source": [
    "best_grid = grid_search.best_estimator_\n"
   ]
  },
  {
   "cell_type": "code",
   "execution_count": 833,
   "metadata": {},
   "outputs": [],
   "source": [
    "preds = best_grid.predict(X_test)"
   ]
  },
  {
   "cell_type": "code",
   "execution_count": 834,
   "metadata": {},
   "outputs": [
    {
     "name": "stdout",
     "output_type": "stream",
     "text": [
      "              precision    recall  f1-score   support\n",
      "\n",
      "           0       0.58      0.29      0.39        72\n",
      "           1       0.45      0.74      0.56        57\n",
      "\n",
      "    accuracy                           0.49       129\n",
      "   macro avg       0.52      0.51      0.47       129\n",
      "weighted avg       0.53      0.49      0.46       129\n",
      "\n"
     ]
    }
   ],
   "source": [
    "print(classification_report(y_test, preds))"
   ]
  },
  {
   "cell_type": "code",
   "execution_count": 835,
   "metadata": {},
   "outputs": [
    {
     "name": "stdout",
     "output_type": "stream",
     "text": [
      "0.4883720930232558\n"
     ]
    }
   ],
   "source": [
    "print(accuracy_score(y_test, preds))"
   ]
  },
  {
   "cell_type": "code",
   "execution_count": null,
   "metadata": {},
   "outputs": [],
   "source": []
  },
  {
   "cell_type": "code",
   "execution_count": null,
   "metadata": {},
   "outputs": [],
   "source": []
  }
 ],
 "metadata": {
  "kernelspec": {
   "display_name": "Python 3",
   "language": "python",
   "name": "python3"
  },
  "language_info": {
   "codemirror_mode": {
    "name": "ipython",
    "version": 3
   },
   "file_extension": ".py",
   "mimetype": "text/x-python",
   "name": "python",
   "nbconvert_exporter": "python",
   "pygments_lexer": "ipython3",
   "version": "3.7.3"
  }
 },
 "nbformat": 4,
 "nbformat_minor": 2
}
